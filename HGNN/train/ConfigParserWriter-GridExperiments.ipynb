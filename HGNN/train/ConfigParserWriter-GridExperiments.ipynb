{
 "cells": [
  {
   "cell_type": "markdown",
   "metadata": {},
   "source": [
    "Imports"
   ]
  },
  {
   "cell_type": "code",
   "execution_count": 46,
   "metadata": {},
   "outputs": [
    {
     "name": "stdout",
     "output_type": "stream",
     "text": [
      "The autoreload extension is already loaded. To reload it, use:\n",
      "  %reload_ext autoreload\n"
     ]
    }
   ],
   "source": [
    "%load_ext autoreload\n",
    "%autoreload 2\n",
    "\n",
    "from configParser import ConfigParser, getModelName"
   ]
  },
  {
   "cell_type": "markdown",
   "metadata": {},
   "source": [
    "Parameters"
   ]
  },
  {
   "cell_type": "code",
   "execution_count": 47,
   "metadata": {},
   "outputs": [],
   "source": [
    "\n",
    "\n",
    "#why is this called a name while the other two arguments are paths?\n",
    "#experimentName = \"/home/jnl47/Documents/dev/HGNN/experiments/learningRateTest\"\n",
    "experimentName = \"smegma\"\n",
    "\n",
    "params = {\n",
    "    # Do not change for multi/hyperp experiments\n",
    "    \"image_path\": \"INHS_segmented_padded_fish\", # \"/data/BGNN_data/CIFAR\", # \"/data/BGNN_data/INHS_cropped\",\n",
    "    \"suffix\":'52', #  #'11', '53', None # used to get a subset cleaned_metadata file. set to None otherwise to use full metadata\n",
    "    \n",
    "    # dataset\n",
    "    \"training_count\":0.64,\n",
    "    \"validation_count\":0.16,\n",
    "\n",
    "    # training\n",
    "    \"batchSize\": 32, # Bigger is more stable\n",
    "    \"n_epochs\":5000, # allow it to run for long time 4000\n",
    "    \"learning_rate\":0.01, # Seems 0.0001 to be best value with Adam. 0.1 best for SGD\n",
    "    \"numOfTrials\":5,\n",
    "    \"patience\": 50,\n",
    "    \"fc_width\":200,\n",
    "    \"fc_layers\": 1,\n",
    "    \"modelType\":\"BB\",\n",
    "    \"lambda\": 0.6,\n",
    "    \"unsupervisedOnTest\": False,\n",
    "    \"tl_model\": \"ResNet18\", # Keep 'ResNet18', 'ResNet50', 'CIFAR', 'NIN'\n",
    "    \"augmented\": False\n",
    "}\n",
    "\n",
    "experimentsPath=\"/home/jnl47/Documents/dev/HGNN/experiments/\"\n",
    "dataPath=\"/home/jnl47/Documents/dev/HGNN/data\""
   ]
  },
  {
   "cell_type": "markdown",
   "metadata": {},
   "source": [
    "Create file"
   ]
  },
  {
   "cell_type": "code",
   "execution_count": 44,
   "metadata": {},
   "outputs": [
    {
     "data": {
      "text/plain": [
       "'/home/jnl47/Documents/dev/HGNN/experiments/learningRateTest/params.json'"
      ]
     },
     "execution_count": 44,
     "metadata": {},
     "output_type": "execute_result"
    }
   ],
   "source": [
    "cp = ConfigParser(experimentsPath, dataPath, experimentName)\n",
    "\n",
    "hyperp_params = {\n",
    "#     \"dummy\":[0]\n",
    "#     \"fc_layers\":[1,2,3],\n",
    "    \n",
    "#     \"imageDimension\": [28, 56, 224],\n",
    "    \"learning_rate\": [0.0001, 0.001, 0.01, 0.1],\n",
    "#     \"kernelSize\": [5, 9],\n",
    "#     \"useZCAWhitening\": [False, True],\n",
    "#     \"patience\": [100, 200],\n",
    "#     \"batchSize\": [500, 1300, 2600],\n",
    "#     \"useHierarchy\": [True, False],\n",
    "#     \"resnet\": ['18', '50']\n",
    "#     \"augmented\": [True, False]\n",
    "#     \"lambda\": [0, 0.25, 0.75, 1, 4, 50]\n",
    "#     'modelType': ['BB', 'DISCO', 'HGNN']\n",
    "}\n",
    "cp.write(params, hyperp_params, \"Grid\")"
   ]
  },
  {
   "cell_type": "code",
   "execution_count": 45,
   "metadata": {},
   "outputs": [
    {
     "name": "stdout",
     "output_type": "stream",
     "text": [
      "{'image_path': 'INHS_segmented_padded_fish', 'suffix': '52', 'training_count': 0.64, 'validation_count': 0.16, 'batchSize': 32, 'n_epochs': 5000, 'learning_rate': 0.0001, 'numOfTrials': 5, 'patience': 50, 'fc_width': 200, 'fc_layers': 1, 'modelType': 'BB', 'lambda': 0.6, 'unsupervisedOnTest': False, 'tl_model': 'ResNet18', 'augmented': False}\n",
      "models/11cd54ba032786ffb6dda3320bd9466e9c5a8ee5903a0a9f7957c81b\n",
      "{'image_path': 'INHS_segmented_padded_fish', 'suffix': '52', 'training_count': 0.64, 'validation_count': 0.16, 'batchSize': 32, 'n_epochs': 5000, 'learning_rate': 0.001, 'numOfTrials': 5, 'patience': 50, 'fc_width': 200, 'fc_layers': 1, 'modelType': 'BB', 'lambda': 0.6, 'unsupervisedOnTest': False, 'tl_model': 'ResNet18', 'augmented': False}\n",
      "models/b74e52fe148215a8f949f78747c58cb7ec4027fd22b919c8ef234a85\n",
      "{'image_path': 'INHS_segmented_padded_fish', 'suffix': '52', 'training_count': 0.64, 'validation_count': 0.16, 'batchSize': 32, 'n_epochs': 5000, 'learning_rate': 0.01, 'numOfTrials': 5, 'patience': 50, 'fc_width': 200, 'fc_layers': 1, 'modelType': 'BB', 'lambda': 0.6, 'unsupervisedOnTest': False, 'tl_model': 'ResNet18', 'augmented': False}\n",
      "models/b63fc185c3b39f3251b7cff86a3dd976c44869165512d0a11e5b1e5e\n",
      "{'image_path': 'INHS_segmented_padded_fish', 'suffix': '52', 'training_count': 0.64, 'validation_count': 0.16, 'batchSize': 32, 'n_epochs': 5000, 'learning_rate': 0.1, 'numOfTrials': 5, 'patience': 50, 'fc_width': 200, 'fc_layers': 1, 'modelType': 'BB', 'lambda': 0.6, 'unsupervisedOnTest': False, 'tl_model': 'ResNet18', 'augmented': False}\n",
      "models/0d3dc1e06d3fce18d56c5d46e4bdf0fcfac298b9776523024a20a8d6\n"
     ]
    }
   ],
   "source": [
    "for i in cp.getExperiments():\n",
    "    print(i)\n",
    "    print(getModelName(i))"
   ]
  },
  {
   "cell_type": "code",
   "execution_count": null,
   "metadata": {},
   "outputs": [],
   "source": [
    "cp.experimentName"
   ]
  },
  {
   "cell_type": "code",
   "execution_count": null,
   "metadata": {},
   "outputs": [],
   "source": []
  },
  {
   "cell_type": "code",
   "execution_count": null,
   "metadata": {},
   "outputs": [],
   "source": []
  },
  {
   "cell_type": "code",
   "execution_count": null,
   "metadata": {},
   "outputs": [],
   "source": []
  },
  {
   "cell_type": "code",
   "execution_count": null,
   "metadata": {},
   "outputs": [],
   "source": []
  }
 ],
 "metadata": {
  "kernelspec": {
   "display_name": "Python 3",
   "language": "python",
   "name": "python3"
  },
  "language_info": {
   "codemirror_mode": {
    "name": "ipython",
    "version": 3
   },
   "file_extension": ".py",
   "mimetype": "text/x-python",
   "name": "python",
   "nbconvert_exporter": "python",
   "pygments_lexer": "ipython3",
   "version": "3.7.4"
  }
 },
 "nbformat": 4,
 "nbformat_minor": 2
}
