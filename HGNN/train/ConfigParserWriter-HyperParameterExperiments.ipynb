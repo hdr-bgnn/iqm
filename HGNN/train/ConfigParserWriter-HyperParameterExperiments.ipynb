{
 "cells": [
  {
   "cell_type": "markdown",
   "metadata": {},
   "source": [
    "Imports"
   ]
  },
  {
   "cell_type": "code",
   "execution_count": 1,
   "metadata": {},
   "outputs": [],
   "source": [
    "from configParser import ConfigParser, getModelName"
   ]
  },
  {
   "cell_type": "markdown",
   "metadata": {},
   "source": [
    "Parameters"
   ]
  },
  {
   "cell_type": "code",
   "execution_count": 2,
   "metadata": {},
   "outputs": [],
   "source": [
    "experimentName = \"/home/elhamod/HGNN/experiments/augmentationComparison\"\n",
    "numOfExperiments=10\n",
    "\n",
    "params = {\n",
    "    # Do not change for multi/hyperp experiments\n",
    "    \"image_path\": \"INHS_cropped\", # \"/data/BGNN_data/CIFAR\", # \"/data/BGNN_data/INHS_cropped\",\n",
    "    \"suffix\":'53', #  #'11', '53', None # used to get a subset cleaned_metadata file. set to None otherwise to use full metadata\n",
    "    \n",
    "    # dataset\n",
    "    \"training_count\":0.64,\n",
    "    \"validation_count\":0.16,\n",
    "\n",
    "    # training\n",
    "    \"batchSize\": 128, # Bigger is more stable\n",
    "    \"n_epochs\":5000, # allow it to run for long time 4000\n",
    "    \"learning_rate\":0.01, # Seems 0.0001 to be best value with Adam. 0.1 best for SGD\n",
    "    \"numOfTrials\":2,\n",
    "    \"patience\": 50,\n",
    "    \"fc_width\":200,\n",
    "    \"fc_layers\": 2,\n",
    "    \"modelType\":\"blackbox\",\n",
    "    \"lambda\": 0.6,\n",
    "    \"unsupervisedOnTest\": False,\n",
    "    \"tl_model\": \"ResNet18\", # Keep 'ResNet18', 'ResNet50', 'CIFAR', 'NIN'\n",
    "    \"augmented\": False\n",
    "}\n",
    "\n",
    "experimentsPath=\"/home/elhamod/HGNN/experiments/\"\n",
    "dataPath=\"/home/elhamod/HGNN/data\""
   ]
  },
  {
   "cell_type": "markdown",
   "metadata": {},
   "source": [
    "Create file"
   ]
  },
  {
   "cell_type": "code",
   "execution_count": 3,
   "metadata": {},
   "outputs": [],
   "source": [
    "cp = ConfigParser(experimentName)"
   ]
  },
  {
   "cell_type": "markdown",
   "metadata": {},
   "source": [
    "Hyperp search write"
   ]
  },
  {
   "cell_type": "code",
   "execution_count": 5,
   "metadata": {},
   "outputs": [
    {
     "data": {
      "text/plain": [
       "'/home/elhamod/melhamodenv3/BGNN/testingNewConfigFile/hyper_opt_params.pkl'"
      ]
     },
     "execution_count": 5,
     "metadata": {},
     "output_type": "execute_result"
    }
   ],
   "source": [
    "from hyperopt import fmin, hp, rand\n",
    "from hyperopt.pyll.base import scope\n",
    "import math\n",
    "\n",
    "hyperp_search_params = {\n",
    "#     \"kernelSize\": scope.int(hp.quniform('kernelSize', 3, 10, 1)), \n",
    "    # \"useZCAWhitening\": hp.choice('useZCAWhitening', [False, True]), \n",
    "#     \"n_channels\": scope.int(hp.choice('n_channels', [1, 3])), \n",
    "#     \"imageDimension\": scope.int(hp.quniform('imageDimension', 28, 420, 28)),\n",
    "#     \"batchSize\": scope.int(hp.quniform('batchSize', 50, 550, 50)),\n",
    "    \"learning_rate\": hp.loguniform('learning_rate', math.log(0.0001), math.log(0.01)),\n",
    "#     \"patience\": scope.int(hp.quniform('patience', 50, 500, 25)),\n",
    "#     \"lambda\": hp.uniform('lambda', 0.05, 1),\n",
    "    \"tl_model\": hp.choice('tl_model', [\"ResNet50\", \"ResNet18\"]),\n",
    "}\n",
    "\n",
    "cp.write(params, hyperp_search_params, \"Random\")"
   ]
  },
  {
   "cell_type": "markdown",
   "metadata": {},
   "source": [
    "Hyper-parameter samples"
   ]
  },
  {
   "cell_type": "code",
   "execution_count": 7,
   "metadata": {},
   "outputs": [
    {
     "name": "stdout",
     "output_type": "stream",
     "text": [
      "{'batchSize': 32, 'fc_layers': 1, 'fc_width': 200, 'image_path': '/data/BGNN_data/INHS_cropped', 'lambda': 0.5666241369405818, 'learning_rate': 0.01, 'modelType': 'blackbox', 'n_epochs': 5000, 'numOfTrials': 3, 'patience': 100, 'suffix': '50', 'tl_model': 'ResNet50', 'training_count': 0.64, 'unsupervisedOnTest': False, 'validation_count': 0.16}\n",
      "{'batchSize': 32, 'fc_layers': 1, 'fc_width': 200, 'image_path': '/data/BGNN_data/INHS_cropped', 'lambda': 0.8978330475864412, 'learning_rate': 0.01, 'modelType': 'blackbox', 'n_epochs': 5000, 'numOfTrials': 3, 'patience': 100, 'suffix': '50', 'tl_model': 'ResNet50', 'training_count': 0.64, 'unsupervisedOnTest': False, 'validation_count': 0.16}\n",
      "{'batchSize': 32, 'fc_layers': 1, 'fc_width': 200, 'image_path': '/data/BGNN_data/INHS_cropped', 'lambda': 0.6207521097437282, 'learning_rate': 0.01, 'modelType': 'blackbox', 'n_epochs': 5000, 'numOfTrials': 3, 'patience': 100, 'suffix': '50', 'tl_model': 'ResNet50', 'training_count': 0.64, 'unsupervisedOnTest': False, 'validation_count': 0.16}\n",
      "{'batchSize': 32, 'fc_layers': 1, 'fc_width': 200, 'image_path': '/data/BGNN_data/INHS_cropped', 'lambda': 0.25847090215610896, 'learning_rate': 0.01, 'modelType': 'blackbox', 'n_epochs': 5000, 'numOfTrials': 3, 'patience': 100, 'suffix': '50', 'tl_model': 'ResNet18', 'training_count': 0.64, 'unsupervisedOnTest': False, 'validation_count': 0.16}\n",
      "{'batchSize': 32, 'fc_layers': 1, 'fc_width': 200, 'image_path': '/data/BGNN_data/INHS_cropped', 'lambda': 0.9073201466725123, 'learning_rate': 0.01, 'modelType': 'blackbox', 'n_epochs': 5000, 'numOfTrials': 3, 'patience': 100, 'suffix': '50', 'tl_model': 'ResNet18', 'training_count': 0.64, 'unsupervisedOnTest': False, 'validation_count': 0.16}\n",
      "{'batchSize': 32, 'fc_layers': 1, 'fc_width': 200, 'image_path': '/data/BGNN_data/INHS_cropped', 'lambda': 0.878803037104969, 'learning_rate': 0.01, 'modelType': 'blackbox', 'n_epochs': 5000, 'numOfTrials': 3, 'patience': 100, 'suffix': '50', 'tl_model': 'ResNet50', 'training_count': 0.64, 'unsupervisedOnTest': False, 'validation_count': 0.16}\n",
      "{'batchSize': 32, 'fc_layers': 1, 'fc_width': 200, 'image_path': '/data/BGNN_data/INHS_cropped', 'lambda': 0.34644898038411714, 'learning_rate': 0.01, 'modelType': 'blackbox', 'n_epochs': 5000, 'numOfTrials': 3, 'patience': 100, 'suffix': '50', 'tl_model': 'ResNet18', 'training_count': 0.64, 'unsupervisedOnTest': False, 'validation_count': 0.16}\n",
      "{'batchSize': 32, 'fc_layers': 1, 'fc_width': 200, 'image_path': '/data/BGNN_data/INHS_cropped', 'lambda': 0.8262418932020804, 'learning_rate': 0.01, 'modelType': 'blackbox', 'n_epochs': 5000, 'numOfTrials': 3, 'patience': 100, 'suffix': '50', 'tl_model': 'ResNet18', 'training_count': 0.64, 'unsupervisedOnTest': False, 'validation_count': 0.16}\n",
      "{'batchSize': 32, 'fc_layers': 1, 'fc_width': 200, 'image_path': '/data/BGNN_data/INHS_cropped', 'lambda': 0.8036372770357437, 'learning_rate': 0.01, 'modelType': 'blackbox', 'n_epochs': 5000, 'numOfTrials': 3, 'patience': 100, 'suffix': '50', 'tl_model': 'ResNet50', 'training_count': 0.64, 'unsupervisedOnTest': False, 'validation_count': 0.16}\n",
      "{'batchSize': 32, 'fc_layers': 1, 'fc_width': 200, 'image_path': '/data/BGNN_data/INHS_cropped', 'lambda': 0.31018598496770655, 'learning_rate': 0.01, 'modelType': 'blackbox', 'n_epochs': 5000, 'numOfTrials': 3, 'patience': 100, 'suffix': '50', 'tl_model': 'ResNet18', 'training_count': 0.64, 'unsupervisedOnTest': False, 'validation_count': 0.16}\n",
      "{'batchSize': 32, 'fc_layers': 1, 'fc_width': 200, 'image_path': '/data/BGNN_data/INHS_cropped', 'lambda': 0.5770957335238149, 'learning_rate': 0.01, 'modelType': 'blackbox', 'n_epochs': 5000, 'numOfTrials': 3, 'patience': 100, 'suffix': '50', 'tl_model': 'ResNet18', 'training_count': 0.64, 'unsupervisedOnTest': False, 'validation_count': 0.16}\n",
      "{'batchSize': 32, 'fc_layers': 1, 'fc_width': 200, 'image_path': '/data/BGNN_data/INHS_cropped', 'lambda': 0.21565499826981122, 'learning_rate': 0.01, 'modelType': 'blackbox', 'n_epochs': 5000, 'numOfTrials': 3, 'patience': 100, 'suffix': '50', 'tl_model': 'ResNet18', 'training_count': 0.64, 'unsupervisedOnTest': False, 'validation_count': 0.16}\n",
      "{'batchSize': 32, 'fc_layers': 1, 'fc_width': 200, 'image_path': '/data/BGNN_data/INHS_cropped', 'lambda': 0.8362599314377954, 'learning_rate': 0.01, 'modelType': 'blackbox', 'n_epochs': 5000, 'numOfTrials': 3, 'patience': 100, 'suffix': '50', 'tl_model': 'ResNet18', 'training_count': 0.64, 'unsupervisedOnTest': False, 'validation_count': 0.16}\n",
      "{'batchSize': 32, 'fc_layers': 1, 'fc_width': 200, 'image_path': '/data/BGNN_data/INHS_cropped', 'lambda': 0.6684296870575293, 'learning_rate': 0.01, 'modelType': 'blackbox', 'n_epochs': 5000, 'numOfTrials': 3, 'patience': 100, 'suffix': '50', 'tl_model': 'ResNet50', 'training_count': 0.64, 'unsupervisedOnTest': False, 'validation_count': 0.16}\n",
      "{'batchSize': 32, 'fc_layers': 1, 'fc_width': 200, 'image_path': '/data/BGNN_data/INHS_cropped', 'lambda': 0.6596749471148019, 'learning_rate': 0.01, 'modelType': 'blackbox', 'n_epochs': 5000, 'numOfTrials': 3, 'patience': 100, 'suffix': '50', 'tl_model': 'ResNet50', 'training_count': 0.64, 'unsupervisedOnTest': False, 'validation_count': 0.16}\n",
      "{'batchSize': 32, 'fc_layers': 1, 'fc_width': 200, 'image_path': '/data/BGNN_data/INHS_cropped', 'lambda': 0.9731938988868877, 'learning_rate': 0.01, 'modelType': 'blackbox', 'n_epochs': 5000, 'numOfTrials': 3, 'patience': 100, 'suffix': '50', 'tl_model': 'ResNet50', 'training_count': 0.64, 'unsupervisedOnTest': False, 'validation_count': 0.16}\n",
      "{'batchSize': 32, 'fc_layers': 1, 'fc_width': 200, 'image_path': '/data/BGNN_data/INHS_cropped', 'lambda': 0.939189367041795, 'learning_rate': 0.01, 'modelType': 'blackbox', 'n_epochs': 5000, 'numOfTrials': 3, 'patience': 100, 'suffix': '50', 'tl_model': 'ResNet50', 'training_count': 0.64, 'unsupervisedOnTest': False, 'validation_count': 0.16}\n",
      "{'batchSize': 32, 'fc_layers': 1, 'fc_width': 200, 'image_path': '/data/BGNN_data/INHS_cropped', 'lambda': 0.5608072051742464, 'learning_rate': 0.01, 'modelType': 'blackbox', 'n_epochs': 5000, 'numOfTrials': 3, 'patience': 100, 'suffix': '50', 'tl_model': 'ResNet18', 'training_count': 0.64, 'unsupervisedOnTest': False, 'validation_count': 0.16}\n",
      "{'batchSize': 32, 'fc_layers': 1, 'fc_width': 200, 'image_path': '/data/BGNN_data/INHS_cropped', 'lambda': 0.8111926794445828, 'learning_rate': 0.01, 'modelType': 'blackbox', 'n_epochs': 5000, 'numOfTrials': 3, 'patience': 100, 'suffix': '50', 'tl_model': 'ResNet50', 'training_count': 0.64, 'unsupervisedOnTest': False, 'validation_count': 0.16}\n",
      "{'batchSize': 32, 'fc_layers': 1, 'fc_width': 200, 'image_path': '/data/BGNN_data/INHS_cropped', 'lambda': 0.17271717679330284, 'learning_rate': 0.01, 'modelType': 'blackbox', 'n_epochs': 5000, 'numOfTrials': 3, 'patience': 100, 'suffix': '50', 'tl_model': 'ResNet18', 'training_count': 0.64, 'unsupervisedOnTest': False, 'validation_count': 0.16}\n",
      "100%|██████████| 20/20 [00:00<00:00, 189.01trial/s, best loss: 1.0]\n"
     ]
    },
    {
     "data": {
      "text/plain": [
       "{'batchSize': 0,\n",
       " 'fc_layers': 0,\n",
       " 'fc_width': 0,\n",
       " 'image_path': 0,\n",
       " 'lambda': 0.5666241369405818,\n",
       " 'learning_rate': 0,\n",
       " 'modelType': 0,\n",
       " 'n_epochs': 0,\n",
       " 'numOfTrials': 0,\n",
       " 'patience': 0,\n",
       " 'suffix': 0,\n",
       " 'tl_model': 0,\n",
       " 'training_count': 0,\n",
       " 'unsupervisedOnTest': 0,\n",
       " 'validation_count': 0}"
      ]
     },
     "execution_count": 7,
     "metadata": {},
     "output_type": "execute_result"
    }
   ],
   "source": [
    "hyperp_obj = cp.getHyperoptSearchObject()\n",
    "\n",
    "def objective(experiment_params):\n",
    "    print(experiment_params)\n",
    "    dummyObjective = 1\n",
    "    return dummyObjective\n",
    "\n",
    "fmin(objective,\n",
    "     space=hyperp_obj,\n",
    "     algo=rand.suggest, \n",
    "     max_evals=numOfExperiments)"
   ]
  },
  {
   "cell_type": "code",
   "execution_count": null,
   "metadata": {},
   "outputs": [],
   "source": []
  }
 ],
 "metadata": {
  "kernelspec": {
   "display_name": "Python 3",
   "language": "python",
   "name": "python3"
  },
  "language_info": {
   "codemirror_mode": {
    "name": "ipython",
    "version": 3
   },
   "file_extension": ".py",
   "mimetype": "text/x-python",
   "name": "python",
   "nbconvert_exporter": "python",
   "pygments_lexer": "ipython3",
   "version": "3.7.4"
  }
 },
 "nbformat": 4,
 "nbformat_minor": 2
}
