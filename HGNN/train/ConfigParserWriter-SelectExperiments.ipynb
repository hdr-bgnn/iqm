{
 "cells": [
  {
   "cell_type": "markdown",
   "metadata": {},
   "source": [
    "Imports"
   ]
  },
  {
   "cell_type": "code",
   "execution_count": 1,
   "metadata": {},
   "outputs": [],
   "source": [
    "from configParser import ConfigParser, getModelName"
   ]
  },
  {
   "cell_type": "markdown",
   "metadata": {},
   "source": [
    "Parameters"
   ]
  },
  {
   "cell_type": "code",
   "execution_count": 2,
   "metadata": {},
   "outputs": [],
   "source": [
    "experimentName = \"/home/jnl47/Documents/dev/HGNN/testingNewConfigFile2\"\n",
    "\n",
    "params = {\n",
    "    # Do not change for multi/hyperp experiments\n",
    "    \"image_path\": \"INHS_segmented_padded_fish\", # \"/data/BGNN_data/CIFAR\", # \"/data/BGNN_data/INHS_cropped\",\n",
    "    \"suffix\":'11', #  #'11', '53', None # used to get a subset cleaned_metadata file. set to None otherwise to use full metadata\n",
    "    \n",
    "    # dataset\n",
    "    \"training_count\":0.64,\n",
    "    \"validation_count\":0.16,\n",
    "\n",
    "    # training\n",
    "    \"batchSize\": 32, # Bigger is more stable\n",
    "    \"n_epochs\":5000, # allow it to run for long time 4000\n",
    "    \"learning_rate\":0.01, # Seems 0.0001 to be best value with Adam. 0.1 best for SGD\n",
    "    \"numOfTrials\":3,\n",
    "    \"patience\": 100,\n",
    "    \"fc_width\":200,\n",
    "    \"fc_layers\": 1,\n",
    "    \"modelType\":\"blackbox\",\n",
    "    \"lambda\": 0.6,\n",
    "    \"unsupervisedOnTest\": False,\n",
    "    \"tl_model\": \"ResNet18\", # Keep 'ResNet18', 'ResNet50', 'CIFAR', 'NIN'\n",
    "    \"augmented\": True\n",
    "}\n",
    "\n",
    "experimentsPath=\"/home/jnl47/Documents/dev/HGNN/experiments/\"\n",
    "dataPath=\"/home/jnl47/Documents/dev/HGNN/data\""
   ]
  },
  {
   "cell_type": "markdown",
   "metadata": {},
   "source": [
    "Create file"
   ]
  },
  {
   "cell_type": "code",
   "execution_count": 3,
   "metadata": {},
   "outputs": [
    {
     "data": {
      "text/plain": [
       "'/home/jnl47/Documents/dev/HGNN/data-0x5efb89a7/params.json'"
      ]
     },
     "execution_count": 3,
     "metadata": {},
     "output_type": "execute_result"
    }
   ],
   "source": [
    "cp = ConfigParser(experimentsPath, experimentName, dataPath)\n",
    "\n",
    "selected_hyperp_params = [\n",
    "#     {\"training_count\":0.32,\"validation_count\":0.08,},\n",
    "#     {\"training_count\":0.32,\"validation_count\":0.08,'downsample': True, 'takeFromIntermediate': False, 'takeFromIntermediateOutput':-1 },\n",
    "#     {\"training_count\":0.16,\"validation_count\":0.04,'downsample': True, 'takeFromIntermediate': False, 'takeFromIntermediateOutput':-1 },\n",
    "#     {\"training_count\":0.16,\"validation_count\":0.04}\n",
    "    \n",
    "#     {\"training_count\":0.64,\"validation_count\":0.16,'downsample': True, 'takeFromIntermediate': False, 'takeFromIntermediateOutput':-1 },\n",
    "#     {\"training_count\":0.64,\"validation_count\":0.16}\n",
    "    \n",
    "    {\"patience\": 100, \"fc_layers\": 1 }, #size\n",
    "    {\"patience\": 33, \"fc_layers\": 100 }, #size\n",
    "    {\"patience\": 44, \"fc_layers\": 23 }, #size\n",
    "#     {'downsample': True, 'takeFromIntermediate': True, 'downsampleOutput':400, 'takeFromIntermediateOutput':400, \"fc_layers\": 2 }, #size\n",
    "#     {'downsample': True, 'takeFromIntermediate': True, 'downsampleOutput':200, 'takeFromIntermediateOutput':200, \"fc_layers\": 3 }, #size\n",
    "#     {'downsample': True, 'takeFromIntermediate': True, 'downsampleOutput':400, 'takeFromIntermediateOutput':400, \"fc_layers\": 3 }, #size\n",
    "\n",
    "#     {'downsample': True, 'takeFromIntermediate': True }, #HGNN\n",
    "#     {'downsample': True, 'takeFromIntermediate': False, 'takeFromIntermediateOutput':-1 }, #blackbox\n",
    "#     {'downsample': False, 'takeFromIntermediate': True }, #baseline1\n",
    "#     {'downsample': True, 'takeFromIntermediate': False }, #baseline2\n",
    "#     {'downsample': False, 'takeFromIntermediate': False }, #baseline3\n",
    "#     {'downsample': False, 'takeFromIntermediate': True, 'downsampleOutput':0 }, #DISCO\n",
    "#     {'downsample': False, 'takeFromIntermediate': True, 'downsampleOutput':-1 }, #DSN\n",
    "#     {'downsample': True, 'takeFromIntermediate': True, 'lambda':0 }, #Lambda0\n",
    "\n",
    "\n",
    "]\n",
    "\n",
    "cp.write(params, selected_hyperp_params, \"Select\")\n",
    "\n"
   ]
  },
  {
   "cell_type": "code",
   "execution_count": 4,
   "metadata": {},
   "outputs": [
    {
     "name": "stdout",
     "output_type": "stream",
     "text": [
      "{'image_path': 'INHS_segmented_padded_fish', 'suffix': '11', 'training_count': 0.64, 'validation_count': 0.16, 'batchSize': 32, 'n_epochs': 5000, 'learning_rate': 0.01, 'numOfTrials': 3, 'patience': 100, 'fc_width': 200, 'fc_layers': 1, 'modelType': 'blackbox', 'lambda': 0.6, 'unsupervisedOnTest': False, 'tl_model': 'ResNet18', 'augmented': True}\n",
      "models/b04a7cccc7bb46bd96bcbec447aebb24118f5eb6af4c09b145cc9c21\n",
      "{'image_path': 'INHS_segmented_padded_fish', 'suffix': '11', 'training_count': 0.64, 'validation_count': 0.16, 'batchSize': 32, 'n_epochs': 5000, 'learning_rate': 0.01, 'numOfTrials': 3, 'patience': 33, 'fc_width': 200, 'fc_layers': 100, 'modelType': 'blackbox', 'lambda': 0.6, 'unsupervisedOnTest': False, 'tl_model': 'ResNet18', 'augmented': True}\n",
      "models/2d61a3eb5c200cf0cd8d9ccb14534c8c95e4b94963d89245d94265c4\n",
      "{'image_path': 'INHS_segmented_padded_fish', 'suffix': '11', 'training_count': 0.64, 'validation_count': 0.16, 'batchSize': 32, 'n_epochs': 5000, 'learning_rate': 0.01, 'numOfTrials': 3, 'patience': 44, 'fc_width': 200, 'fc_layers': 23, 'modelType': 'blackbox', 'lambda': 0.6, 'unsupervisedOnTest': False, 'tl_model': 'ResNet18', 'augmented': True}\n",
      "models/68b800338bf8a12bdf6ee1de667b691a9f94e9113f9b1bb103b1a3ba\n"
     ]
    }
   ],
   "source": [
    "for i in cp.getExperiments():\n",
    "    print(i)\n",
    "    print(getModelName(i))"
   ]
  },
  {
   "cell_type": "code",
   "execution_count": null,
   "metadata": {},
   "outputs": [],
   "source": []
  }
 ],
 "metadata": {
  "kernelspec": {
   "display_name": "Python 3",
   "language": "python",
   "name": "python3"
  },
  "language_info": {
   "codemirror_mode": {
    "name": "ipython",
    "version": 3
   },
   "file_extension": ".py",
   "mimetype": "text/x-python",
   "name": "python",
   "nbconvert_exporter": "python",
   "pygments_lexer": "ipython3",
   "version": "3.7.4"
  }
 },
 "nbformat": 4,
 "nbformat_minor": 2
}
