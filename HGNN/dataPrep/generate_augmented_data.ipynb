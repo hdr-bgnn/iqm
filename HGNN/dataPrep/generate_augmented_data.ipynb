{
 "cells": [
  {
   "cell_type": "markdown",
   "metadata": {},
   "source": [
    "Imports"
   ]
  },
  {
   "cell_type": "code",
   "execution_count": 2,
   "metadata": {},
   "outputs": [],
   "source": [
    "import torch\n",
    "import os\n",
    "import sys\n",
    "from torchvision import transforms\n",
    "from IPython.display import Image \n",
    "import progressbar\n",
    "\n",
    "\n",
    "script_root_dir = '../'\n",
    "if script_root_dir not in sys.path:\n",
    "    sys.path.append(script_root_dir)\n",
    "    \n",
    "from train import dataLoader\n",
    "from train.configParser import ConfigParser\n",
    "from helpers.color_PCA import Color_PCA"
   ]
  },
  {
   "cell_type": "markdown",
   "metadata": {},
   "source": [
    "Parameters"
   ]
  },
  {
   "cell_type": "code",
   "execution_count": 2,
   "metadata": {},
   "outputs": [],
   "source": [
    "experimentsPath=\"/home/elhamod/HGNN/experiments/\"\n",
    "experimentName=\"testTrainingScript4\"\n",
    "dataPath=\"/home/elhamod/HGNN/data\"\n",
    "\n",
    "applyHorizontalFlip = True\n",
    "applyHorizontalFlipProbability = 0.1\n",
    "\n",
    "applyTranslation=True\n",
    "applyTranslationAmount = 0.1\n",
    "\n",
    "applyColorPCA=True\n",
    "colorPCAperturbationMagnitude = 0.1\n",
    "\n",
    "numOfAugmentedVersions = 10\n",
    "\n",
    "cuda = 0"
   ]
  },
  {
   "cell_type": "code",
   "execution_count": 3,
   "metadata": {},
   "outputs": [],
   "source": [
    "# set cuda\n",
    "if torch.cuda.is_available():\n",
    "    torch.cuda.set_device(cuda)"
   ]
  },
  {
   "cell_type": "markdown",
   "metadata": {},
   "source": [
    "Load dataset"
   ]
  },
  {
   "cell_type": "code",
   "execution_count": 4,
   "metadata": {},
   "outputs": [
    {
     "name": "stdout",
     "output_type": "stream",
     "text": [
      "Creating dataset...\n",
      "550 len\n",
      "Creating dataset... Done.\n",
      "number of images 550\n"
     ]
    }
   ],
   "source": [
    "# Get the dataset\n",
    "config_parser = ConfigParser(experimentsPath, dataPath, experimentName)\n",
    "experiment_params = next(iter(config_parser.getExperiments()))\n",
    "experimentPathAndName = os.path.join(experimentsPath, experimentName)\n",
    "datasetManager = dataLoader.datasetManager(experimentPathAndName)\n",
    "datasetManager.updateParams(config_parser.fixPaths(experiment_params))\n",
    "dataset = datasetManager.getDataset()\n",
    "\n",
    "# disable normalization before augmentation.\n",
    "dataset.toggle_image_loading(augmentation=False, normalization=False)\n",
    "\n",
    "# Create appropriate loaders\n",
    "loaderPerImage = torch.utils.data.DataLoader(dataset, batch_size=1)\n",
    "datasetSize = len(dataset)\n",
    "loaderAllImages = torch.utils.data.DataLoader(dataset, batch_size=datasetSize)\n",
    "print(\"number of images\", datasetSize)"
   ]
  },
  {
   "cell_type": "markdown",
   "metadata": {},
   "source": [
    "Generate data"
   ]
  },
  {
   "cell_type": "code",
   "execution_count": 5,
   "metadata": {},
   "outputs": [
    {
     "name": "stderr",
     "output_type": "stream",
     "text": [
      "  1% (7 of 550) |                        | Elapsed Time: 0:00:00 ETA:   0:00:10"
     ]
    },
    {
     "name": "stdout",
     "output_type": "stream",
     "text": [
      "Transfrom images...\n"
     ]
    },
    {
     "name": "stderr",
     "output_type": "stream",
     "text": [
      "100% (550 of 550) |######################| Elapsed Time: 0:00:07 Time:  0:00:07\n",
      "N/A% (0 of 550) |                        | Elapsed Time: 0:00:00 ETA:  --:--:--"
     ]
    },
    {
     "name": "stdout",
     "output_type": "stream",
     "text": [
      "/home/elhamod/HGNN/data/INHS_cropped/images/INHS_FISH_017196_aug0.jpg saved!\n",
      "/home/elhamod/HGNN/data/INHS_cropped/images/INHS_FISH_017196_aug1.jpg saved!\n",
      "/home/elhamod/HGNN/data/INHS_cropped/images/INHS_FISH_017196_aug2.jpg saved!\n",
      "/home/elhamod/HGNN/data/INHS_cropped/images/INHS_FISH_017196_aug3.jpg saved!\n",
      "/home/elhamod/HGNN/data/INHS_cropped/images/INHS_FISH_017196_aug4.jpg saved!\n",
      "/home/elhamod/HGNN/data/INHS_cropped/images/INHS_FISH_017196_aug5.jpg saved!\n",
      "/home/elhamod/HGNN/data/INHS_cropped/images/INHS_FISH_017196_aug6.jpg saved!\n",
      "/home/elhamod/HGNN/data/INHS_cropped/images/INHS_FISH_017196_aug7.jpg saved!\n",
      "/home/elhamod/HGNN/data/INHS_cropped/images/INHS_FISH_017196_aug8.jpg saved!\n",
      "/home/elhamod/HGNN/data/INHS_cropped/images/INHS_FISH_017196_aug9.jpg saved!\n"
     ]
    },
    {
     "name": "stderr",
     "output_type": "stream",
     "text": [
      "\r",
      "  0% (2 of 550) |                        | Elapsed Time: 0:00:01 ETA:   0:05:06"
     ]
    },
    {
     "name": "stdout",
     "output_type": "stream",
     "text": [
      "/home/elhamod/HGNN/data/INHS_cropped/images/INHS_FISH_83542_aug0.jpg saved!\n",
      "/home/elhamod/HGNN/data/INHS_cropped/images/INHS_FISH_83542_aug1.jpg saved!\n",
      "/home/elhamod/HGNN/data/INHS_cropped/images/INHS_FISH_83542_aug2.jpg saved!\n",
      "/home/elhamod/HGNN/data/INHS_cropped/images/INHS_FISH_83542_aug3.jpg saved!\n",
      "/home/elhamod/HGNN/data/INHS_cropped/images/INHS_FISH_83542_aug4.jpg saved!\n",
      "/home/elhamod/HGNN/data/INHS_cropped/images/INHS_FISH_83542_aug5.jpg saved!\n",
      "/home/elhamod/HGNN/data/INHS_cropped/images/INHS_FISH_83542_aug6.jpg saved!\n",
      "/home/elhamod/HGNN/data/INHS_cropped/images/INHS_FISH_83542_aug7.jpg saved!\n",
      "/home/elhamod/HGNN/data/INHS_cropped/images/INHS_FISH_83542_aug8.jpg saved!\n",
      "/home/elhamod/HGNN/data/INHS_cropped/images/INHS_FISH_83542_aug9.jpg saved!\n"
     ]
    },
    {
     "name": "stderr",
     "output_type": "stream",
     "text": [
      "\r",
      "  0% (3 of 550) |                        | Elapsed Time: 0:00:02 ETA:   0:06:45"
     ]
    },
    {
     "name": "stdout",
     "output_type": "stream",
     "text": [
      "/home/elhamod/HGNN/data/INHS_cropped/images/INHS_FISH_105749_aug0.jpg saved!\n",
      "/home/elhamod/HGNN/data/INHS_cropped/images/INHS_FISH_105749_aug1.jpg saved!\n",
      "/home/elhamod/HGNN/data/INHS_cropped/images/INHS_FISH_105749_aug2.jpg saved!\n",
      "/home/elhamod/HGNN/data/INHS_cropped/images/INHS_FISH_105749_aug3.jpg saved!\n",
      "/home/elhamod/HGNN/data/INHS_cropped/images/INHS_FISH_105749_aug4.jpg saved!\n",
      "/home/elhamod/HGNN/data/INHS_cropped/images/INHS_FISH_105749_aug5.jpg saved!\n",
      "/home/elhamod/HGNN/data/INHS_cropped/images/INHS_FISH_105749_aug6.jpg saved!\n",
      "/home/elhamod/HGNN/data/INHS_cropped/images/INHS_FISH_105749_aug7.jpg saved!\n",
      "/home/elhamod/HGNN/data/INHS_cropped/images/INHS_FISH_105749_aug8.jpg saved!\n",
      "/home/elhamod/HGNN/data/INHS_cropped/images/INHS_FISH_105749_aug9.jpg saved!\n"
     ]
    },
    {
     "name": "stderr",
     "output_type": "stream",
     "text": [
      "\r",
      "  0% (4 of 550) |                        | Elapsed Time: 0:00:03 ETA:   0:10:01"
     ]
    },
    {
     "name": "stdout",
     "output_type": "stream",
     "text": [
      "/home/elhamod/HGNN/data/INHS_cropped/images/INHS_FISH_62540_aug0.jpg saved!\n",
      "/home/elhamod/HGNN/data/INHS_cropped/images/INHS_FISH_62540_aug1.jpg saved!\n",
      "/home/elhamod/HGNN/data/INHS_cropped/images/INHS_FISH_62540_aug2.jpg saved!\n",
      "/home/elhamod/HGNN/data/INHS_cropped/images/INHS_FISH_62540_aug3.jpg saved!\n",
      "/home/elhamod/HGNN/data/INHS_cropped/images/INHS_FISH_62540_aug4.jpg saved!\n",
      "/home/elhamod/HGNN/data/INHS_cropped/images/INHS_FISH_62540_aug5.jpg saved!\n",
      "/home/elhamod/HGNN/data/INHS_cropped/images/INHS_FISH_62540_aug6.jpg saved!\n",
      "/home/elhamod/HGNN/data/INHS_cropped/images/INHS_FISH_62540_aug7.jpg saved!\n",
      "/home/elhamod/HGNN/data/INHS_cropped/images/INHS_FISH_62540_aug8.jpg saved!\n",
      "/home/elhamod/HGNN/data/INHS_cropped/images/INHS_FISH_62540_aug9.jpg saved!\n"
     ]
    },
    {
     "name": "stderr",
     "output_type": "stream",
     "text": [
      "\r",
      "  0% (5 of 550) |                        | Elapsed Time: 0:00:04 ETA:   0:10:01"
     ]
    },
    {
     "name": "stdout",
     "output_type": "stream",
     "text": [
      "/home/elhamod/HGNN/data/INHS_cropped/images/INHS_FISH_026103_aug0.jpg saved!\n",
      "/home/elhamod/HGNN/data/INHS_cropped/images/INHS_FISH_026103_aug1.jpg saved!\n",
      "/home/elhamod/HGNN/data/INHS_cropped/images/INHS_FISH_026103_aug2.jpg saved!\n",
      "/home/elhamod/HGNN/data/INHS_cropped/images/INHS_FISH_026103_aug3.jpg saved!\n",
      "/home/elhamod/HGNN/data/INHS_cropped/images/INHS_FISH_026103_aug4.jpg saved!\n",
      "/home/elhamod/HGNN/data/INHS_cropped/images/INHS_FISH_026103_aug5.jpg saved!\n",
      "/home/elhamod/HGNN/data/INHS_cropped/images/INHS_FISH_026103_aug6.jpg saved!\n",
      "/home/elhamod/HGNN/data/INHS_cropped/images/INHS_FISH_026103_aug7.jpg saved!\n",
      "/home/elhamod/HGNN/data/INHS_cropped/images/INHS_FISH_026103_aug8.jpg saved!\n",
      "/home/elhamod/HGNN/data/INHS_cropped/images/INHS_FISH_026103_aug9.jpg saved!\n"
     ]
    },
    {
     "name": "stderr",
     "output_type": "stream",
     "text": [
      "\r",
      "  1% (6 of 550) |                        | Elapsed Time: 0:00:05 ETA:   0:10:10"
     ]
    },
    {
     "name": "stdout",
     "output_type": "stream",
     "text": [
      "/home/elhamod/HGNN/data/INHS_cropped/images/INHS_FISH_23153_aug0.jpg saved!\n",
      "/home/elhamod/HGNN/data/INHS_cropped/images/INHS_FISH_23153_aug1.jpg saved!\n",
      "/home/elhamod/HGNN/data/INHS_cropped/images/INHS_FISH_23153_aug2.jpg saved!\n",
      "/home/elhamod/HGNN/data/INHS_cropped/images/INHS_FISH_23153_aug3.jpg saved!\n",
      "/home/elhamod/HGNN/data/INHS_cropped/images/INHS_FISH_23153_aug4.jpg saved!\n",
      "/home/elhamod/HGNN/data/INHS_cropped/images/INHS_FISH_23153_aug5.jpg saved!\n",
      "/home/elhamod/HGNN/data/INHS_cropped/images/INHS_FISH_23153_aug6.jpg saved!\n",
      "/home/elhamod/HGNN/data/INHS_cropped/images/INHS_FISH_23153_aug7.jpg saved!\n",
      "/home/elhamod/HGNN/data/INHS_cropped/images/INHS_FISH_23153_aug8.jpg saved!\n",
      "/home/elhamod/HGNN/data/INHS_cropped/images/INHS_FISH_23153_aug9.jpg saved!\n"
     ]
    },
    {
     "name": "stderr",
     "output_type": "stream",
     "text": [
      "\r",
      "  1% (7 of 550) |                        | Elapsed Time: 0:00:06 ETA:   0:10:14"
     ]
    },
    {
     "name": "stdout",
     "output_type": "stream",
     "text": [
      "/home/elhamod/HGNN/data/INHS_cropped/images/INHS_FISH_86940_aug0.jpg saved!\n",
      "/home/elhamod/HGNN/data/INHS_cropped/images/INHS_FISH_86940_aug1.jpg saved!\n",
      "/home/elhamod/HGNN/data/INHS_cropped/images/INHS_FISH_86940_aug2.jpg saved!\n",
      "/home/elhamod/HGNN/data/INHS_cropped/images/INHS_FISH_86940_aug3.jpg saved!\n",
      "/home/elhamod/HGNN/data/INHS_cropped/images/INHS_FISH_86940_aug4.jpg saved!\n",
      "/home/elhamod/HGNN/data/INHS_cropped/images/INHS_FISH_86940_aug5.jpg saved!\n",
      "/home/elhamod/HGNN/data/INHS_cropped/images/INHS_FISH_86940_aug6.jpg saved!\n",
      "/home/elhamod/HGNN/data/INHS_cropped/images/INHS_FISH_86940_aug7.jpg saved!\n",
      "/home/elhamod/HGNN/data/INHS_cropped/images/INHS_FISH_86940_aug8.jpg saved!\n",
      "/home/elhamod/HGNN/data/INHS_cropped/images/INHS_FISH_86940_aug9.jpg saved!\n"
     ]
    },
    {
     "name": "stderr",
     "output_type": "stream",
     "text": [
      "\r",
      "  1% (8 of 550) |                        | Elapsed Time: 0:00:07 ETA:   0:10:12"
     ]
    },
    {
     "name": "stdout",
     "output_type": "stream",
     "text": [
      "/home/elhamod/HGNN/data/INHS_cropped/images/INHS_FISH_25108_aug0.jpg saved!\n",
      "/home/elhamod/HGNN/data/INHS_cropped/images/INHS_FISH_25108_aug1.jpg saved!\n",
      "/home/elhamod/HGNN/data/INHS_cropped/images/INHS_FISH_25108_aug2.jpg saved!\n",
      "/home/elhamod/HGNN/data/INHS_cropped/images/INHS_FISH_25108_aug3.jpg saved!\n",
      "/home/elhamod/HGNN/data/INHS_cropped/images/INHS_FISH_25108_aug4.jpg saved!\n",
      "/home/elhamod/HGNN/data/INHS_cropped/images/INHS_FISH_25108_aug5.jpg saved!\n",
      "/home/elhamod/HGNN/data/INHS_cropped/images/INHS_FISH_25108_aug6.jpg saved!\n",
      "/home/elhamod/HGNN/data/INHS_cropped/images/INHS_FISH_25108_aug7.jpg saved!\n",
      "/home/elhamod/HGNN/data/INHS_cropped/images/INHS_FISH_25108_aug8.jpg saved!\n",
      "/home/elhamod/HGNN/data/INHS_cropped/images/INHS_FISH_25108_aug9.jpg saved!\n"
     ]
    },
    {
     "name": "stderr",
     "output_type": "stream",
     "text": [
      "\r",
      "  1% (9 of 550) |                        | Elapsed Time: 0:00:08 ETA:   0:10:17"
     ]
    },
    {
     "name": "stdout",
     "output_type": "stream",
     "text": [
      "/home/elhamod/HGNN/data/INHS_cropped/images/INHS_FISH_50741_aug0.jpg saved!\n",
      "/home/elhamod/HGNN/data/INHS_cropped/images/INHS_FISH_50741_aug1.jpg saved!\n",
      "/home/elhamod/HGNN/data/INHS_cropped/images/INHS_FISH_50741_aug2.jpg saved!\n",
      "/home/elhamod/HGNN/data/INHS_cropped/images/INHS_FISH_50741_aug3.jpg saved!\n",
      "/home/elhamod/HGNN/data/INHS_cropped/images/INHS_FISH_50741_aug4.jpg saved!\n",
      "/home/elhamod/HGNN/data/INHS_cropped/images/INHS_FISH_50741_aug5.jpg saved!\n",
      "/home/elhamod/HGNN/data/INHS_cropped/images/INHS_FISH_50741_aug6.jpg saved!\n",
      "/home/elhamod/HGNN/data/INHS_cropped/images/INHS_FISH_50741_aug7.jpg saved!\n",
      "/home/elhamod/HGNN/data/INHS_cropped/images/INHS_FISH_50741_aug8.jpg saved!\n",
      "/home/elhamod/HGNN/data/INHS_cropped/images/INHS_FISH_50741_aug9.jpg saved!\n"
     ]
    },
    {
     "name": "stderr",
     "output_type": "stream",
     "text": [
      "\r",
      "  1% (10 of 550) |                       | Elapsed Time: 0:00:10 ETA:   0:10:34"
     ]
    },
    {
     "name": "stdout",
     "output_type": "stream",
     "text": [
      "/home/elhamod/HGNN/data/INHS_cropped/images/INHS_FISH_93371_aug0.jpg saved!\n",
      "/home/elhamod/HGNN/data/INHS_cropped/images/INHS_FISH_93371_aug1.jpg saved!\n",
      "/home/elhamod/HGNN/data/INHS_cropped/images/INHS_FISH_93371_aug2.jpg saved!\n",
      "/home/elhamod/HGNN/data/INHS_cropped/images/INHS_FISH_93371_aug3.jpg saved!\n",
      "/home/elhamod/HGNN/data/INHS_cropped/images/INHS_FISH_93371_aug4.jpg saved!\n",
      "/home/elhamod/HGNN/data/INHS_cropped/images/INHS_FISH_93371_aug5.jpg saved!\n",
      "/home/elhamod/HGNN/data/INHS_cropped/images/INHS_FISH_93371_aug6.jpg saved!\n",
      "/home/elhamod/HGNN/data/INHS_cropped/images/INHS_FISH_93371_aug7.jpg saved!\n",
      "/home/elhamod/HGNN/data/INHS_cropped/images/INHS_FISH_93371_aug8.jpg saved!\n",
      "/home/elhamod/HGNN/data/INHS_cropped/images/INHS_FISH_93371_aug9.jpg saved!\n"
     ]
    },
    {
     "name": "stderr",
     "output_type": "stream",
     "text": [
      "\r",
      "  2% (11 of 550) |                       | Elapsed Time: 0:00:11 ETA:   0:10:56"
     ]
    },
    {
     "name": "stdout",
     "output_type": "stream",
     "text": [
      "/home/elhamod/HGNN/data/INHS_cropped/images/INHS_FISH_93451_aug0.jpg saved!\n",
      "/home/elhamod/HGNN/data/INHS_cropped/images/INHS_FISH_93451_aug1.jpg saved!\n",
      "/home/elhamod/HGNN/data/INHS_cropped/images/INHS_FISH_93451_aug2.jpg saved!\n",
      "/home/elhamod/HGNN/data/INHS_cropped/images/INHS_FISH_93451_aug3.jpg saved!\n",
      "/home/elhamod/HGNN/data/INHS_cropped/images/INHS_FISH_93451_aug4.jpg saved!\n",
      "/home/elhamod/HGNN/data/INHS_cropped/images/INHS_FISH_93451_aug5.jpg saved!\n",
      "/home/elhamod/HGNN/data/INHS_cropped/images/INHS_FISH_93451_aug6.jpg saved!\n",
      "/home/elhamod/HGNN/data/INHS_cropped/images/INHS_FISH_93451_aug7.jpg saved!\n",
      "/home/elhamod/HGNN/data/INHS_cropped/images/INHS_FISH_93451_aug8.jpg saved!\n",
      "/home/elhamod/HGNN/data/INHS_cropped/images/INHS_FISH_93451_aug9.jpg saved!\n"
     ]
    },
    {
     "name": "stderr",
     "output_type": "stream",
     "text": [
      "\r",
      "  2% (12 of 550) |                       | Elapsed Time: 0:00:12 ETA:   0:10:52"
     ]
    },
    {
     "name": "stdout",
     "output_type": "stream",
     "text": [
      "/home/elhamod/HGNN/data/INHS_cropped/images/INHS_FISH_104736_aug0.jpg saved!\n",
      "/home/elhamod/HGNN/data/INHS_cropped/images/INHS_FISH_104736_aug1.jpg saved!\n",
      "/home/elhamod/HGNN/data/INHS_cropped/images/INHS_FISH_104736_aug2.jpg saved!\n",
      "/home/elhamod/HGNN/data/INHS_cropped/images/INHS_FISH_104736_aug3.jpg saved!\n",
      "/home/elhamod/HGNN/data/INHS_cropped/images/INHS_FISH_104736_aug4.jpg saved!\n",
      "/home/elhamod/HGNN/data/INHS_cropped/images/INHS_FISH_104736_aug5.jpg saved!\n",
      "/home/elhamod/HGNN/data/INHS_cropped/images/INHS_FISH_104736_aug6.jpg saved!\n",
      "/home/elhamod/HGNN/data/INHS_cropped/images/INHS_FISH_104736_aug7.jpg saved!\n",
      "/home/elhamod/HGNN/data/INHS_cropped/images/INHS_FISH_104736_aug8.jpg saved!\n",
      "/home/elhamod/HGNN/data/INHS_cropped/images/INHS_FISH_104736_aug9.jpg saved!\n"
     ]
    },
    {
     "name": "stderr",
     "output_type": "stream",
     "text": [
      "\r",
      "  2% (13 of 550) |                       | Elapsed Time: 0:00:13 ETA:   0:10:31"
     ]
    },
    {
     "name": "stdout",
     "output_type": "stream",
     "text": [
      "/home/elhamod/HGNN/data/INHS_cropped/images/INHS_FISH_74106_aug0.jpg saved!\n",
      "/home/elhamod/HGNN/data/INHS_cropped/images/INHS_FISH_74106_aug1.jpg saved!\n",
      "/home/elhamod/HGNN/data/INHS_cropped/images/INHS_FISH_74106_aug2.jpg saved!\n",
      "/home/elhamod/HGNN/data/INHS_cropped/images/INHS_FISH_74106_aug3.jpg saved!\n",
      "/home/elhamod/HGNN/data/INHS_cropped/images/INHS_FISH_74106_aug4.jpg saved!\n",
      "/home/elhamod/HGNN/data/INHS_cropped/images/INHS_FISH_74106_aug5.jpg saved!\n",
      "/home/elhamod/HGNN/data/INHS_cropped/images/INHS_FISH_74106_aug6.jpg saved!\n",
      "/home/elhamod/HGNN/data/INHS_cropped/images/INHS_FISH_74106_aug7.jpg saved!\n",
      "/home/elhamod/HGNN/data/INHS_cropped/images/INHS_FISH_74106_aug8.jpg saved!\n",
      "/home/elhamod/HGNN/data/INHS_cropped/images/INHS_FISH_74106_aug9.jpg saved!\n"
     ]
    },
    {
     "name": "stderr",
     "output_type": "stream",
     "text": [
      "\r",
      "  2% (14 of 550) |                       | Elapsed Time: 0:00:14 ETA:   0:10:22"
     ]
    },
    {
     "name": "stdout",
     "output_type": "stream",
     "text": [
      "/home/elhamod/HGNN/data/INHS_cropped/images/INHS_FISH_82148_aug0.jpg saved!\n",
      "/home/elhamod/HGNN/data/INHS_cropped/images/INHS_FISH_82148_aug1.jpg saved!\n",
      "/home/elhamod/HGNN/data/INHS_cropped/images/INHS_FISH_82148_aug2.jpg saved!\n",
      "/home/elhamod/HGNN/data/INHS_cropped/images/INHS_FISH_82148_aug3.jpg saved!\n",
      "/home/elhamod/HGNN/data/INHS_cropped/images/INHS_FISH_82148_aug4.jpg saved!\n",
      "/home/elhamod/HGNN/data/INHS_cropped/images/INHS_FISH_82148_aug5.jpg saved!\n",
      "/home/elhamod/HGNN/data/INHS_cropped/images/INHS_FISH_82148_aug6.jpg saved!\n",
      "/home/elhamod/HGNN/data/INHS_cropped/images/INHS_FISH_82148_aug7.jpg saved!\n",
      "/home/elhamod/HGNN/data/INHS_cropped/images/INHS_FISH_82148_aug8.jpg saved!\n",
      "/home/elhamod/HGNN/data/INHS_cropped/images/INHS_FISH_82148_aug9.jpg saved!\n"
     ]
    },
    {
     "name": "stderr",
     "output_type": "stream",
     "text": [
      "\r",
      "  2% (15 of 550) |                       | Elapsed Time: 0:00:16 ETA:   0:10:08"
     ]
    },
    {
     "name": "stdout",
     "output_type": "stream",
     "text": [
      "/home/elhamod/HGNN/data/INHS_cropped/images/INHS_FISH_75234_aug0.jpg saved!\n",
      "/home/elhamod/HGNN/data/INHS_cropped/images/INHS_FISH_75234_aug1.jpg saved!\n",
      "/home/elhamod/HGNN/data/INHS_cropped/images/INHS_FISH_75234_aug2.jpg saved!\n",
      "/home/elhamod/HGNN/data/INHS_cropped/images/INHS_FISH_75234_aug3.jpg saved!\n",
      "/home/elhamod/HGNN/data/INHS_cropped/images/INHS_FISH_75234_aug4.jpg saved!\n",
      "/home/elhamod/HGNN/data/INHS_cropped/images/INHS_FISH_75234_aug5.jpg saved!\n",
      "/home/elhamod/HGNN/data/INHS_cropped/images/INHS_FISH_75234_aug6.jpg saved!\n",
      "/home/elhamod/HGNN/data/INHS_cropped/images/INHS_FISH_75234_aug7.jpg saved!\n",
      "/home/elhamod/HGNN/data/INHS_cropped/images/INHS_FISH_75234_aug8.jpg saved!\n",
      "/home/elhamod/HGNN/data/INHS_cropped/images/INHS_FISH_75234_aug9.jpg saved!\n"
     ]
    },
    {
     "name": "stderr",
     "output_type": "stream",
     "text": [
      "\r",
      "  2% (16 of 550) |                       | Elapsed Time: 0:00:17 ETA:   0:09:57"
     ]
    },
    {
     "name": "stdout",
     "output_type": "stream",
     "text": [
      "/home/elhamod/HGNN/data/INHS_cropped/images/INHS_FISH_90944_aug0.jpg saved!\n",
      "/home/elhamod/HGNN/data/INHS_cropped/images/INHS_FISH_90944_aug1.jpg saved!\n",
      "/home/elhamod/HGNN/data/INHS_cropped/images/INHS_FISH_90944_aug2.jpg saved!\n",
      "/home/elhamod/HGNN/data/INHS_cropped/images/INHS_FISH_90944_aug3.jpg saved!\n",
      "/home/elhamod/HGNN/data/INHS_cropped/images/INHS_FISH_90944_aug4.jpg saved!\n",
      "/home/elhamod/HGNN/data/INHS_cropped/images/INHS_FISH_90944_aug5.jpg saved!\n",
      "/home/elhamod/HGNN/data/INHS_cropped/images/INHS_FISH_90944_aug6.jpg saved!\n",
      "/home/elhamod/HGNN/data/INHS_cropped/images/INHS_FISH_90944_aug7.jpg saved!\n",
      "/home/elhamod/HGNN/data/INHS_cropped/images/INHS_FISH_90944_aug8.jpg saved!\n",
      "/home/elhamod/HGNN/data/INHS_cropped/images/INHS_FISH_90944_aug9.jpg saved!\n"
     ]
    },
    {
     "name": "stderr",
     "output_type": "stream",
     "text": [
      "\r",
      "  3% (17 of 550) |                       | Elapsed Time: 0:00:18 ETA:   0:10:01"
     ]
    },
    {
     "name": "stdout",
     "output_type": "stream",
     "text": [
      "/home/elhamod/HGNN/data/INHS_cropped/images/INHS_FISH_80392_aug0.jpg saved!\n",
      "/home/elhamod/HGNN/data/INHS_cropped/images/INHS_FISH_80392_aug1.jpg saved!\n",
      "/home/elhamod/HGNN/data/INHS_cropped/images/INHS_FISH_80392_aug2.jpg saved!\n",
      "/home/elhamod/HGNN/data/INHS_cropped/images/INHS_FISH_80392_aug3.jpg saved!\n",
      "/home/elhamod/HGNN/data/INHS_cropped/images/INHS_FISH_80392_aug4.jpg saved!\n",
      "/home/elhamod/HGNN/data/INHS_cropped/images/INHS_FISH_80392_aug5.jpg saved!\n",
      "/home/elhamod/HGNN/data/INHS_cropped/images/INHS_FISH_80392_aug6.jpg saved!\n",
      "/home/elhamod/HGNN/data/INHS_cropped/images/INHS_FISH_80392_aug7.jpg saved!\n",
      "/home/elhamod/HGNN/data/INHS_cropped/images/INHS_FISH_80392_aug8.jpg saved!\n",
      "/home/elhamod/HGNN/data/INHS_cropped/images/INHS_FISH_80392_aug9.jpg saved!\n"
     ]
    },
    {
     "name": "stderr",
     "output_type": "stream",
     "text": [
      "\r",
      "  3% (18 of 550) |                       | Elapsed Time: 0:00:19 ETA:   0:10:17"
     ]
    },
    {
     "name": "stdout",
     "output_type": "stream",
     "text": [
      "/home/elhamod/HGNN/data/INHS_cropped/images/INHS_FISH_68083_2_aug0.jpg saved!\n",
      "/home/elhamod/HGNN/data/INHS_cropped/images/INHS_FISH_68083_2_aug1.jpg saved!\n",
      "/home/elhamod/HGNN/data/INHS_cropped/images/INHS_FISH_68083_2_aug2.jpg saved!\n",
      "/home/elhamod/HGNN/data/INHS_cropped/images/INHS_FISH_68083_2_aug3.jpg saved!\n",
      "/home/elhamod/HGNN/data/INHS_cropped/images/INHS_FISH_68083_2_aug4.jpg saved!\n",
      "/home/elhamod/HGNN/data/INHS_cropped/images/INHS_FISH_68083_2_aug5.jpg saved!\n",
      "/home/elhamod/HGNN/data/INHS_cropped/images/INHS_FISH_68083_2_aug6.jpg saved!\n",
      "/home/elhamod/HGNN/data/INHS_cropped/images/INHS_FISH_68083_2_aug7.jpg saved!\n",
      "/home/elhamod/HGNN/data/INHS_cropped/images/INHS_FISH_68083_2_aug8.jpg saved!\n",
      "/home/elhamod/HGNN/data/INHS_cropped/images/INHS_FISH_68083_2_aug9.jpg saved!\n"
     ]
    },
    {
     "name": "stderr",
     "output_type": "stream",
     "text": [
      "\r",
      "  3% (19 of 550) |                       | Elapsed Time: 0:00:20 ETA:   0:10:52"
     ]
    },
    {
     "name": "stdout",
     "output_type": "stream",
     "text": [
      "/home/elhamod/HGNN/data/INHS_cropped/images/INHS_FISH_97321_aug0.jpg saved!\n",
      "/home/elhamod/HGNN/data/INHS_cropped/images/INHS_FISH_97321_aug1.jpg saved!\n",
      "/home/elhamod/HGNN/data/INHS_cropped/images/INHS_FISH_97321_aug2.jpg saved!\n",
      "/home/elhamod/HGNN/data/INHS_cropped/images/INHS_FISH_97321_aug3.jpg saved!\n",
      "/home/elhamod/HGNN/data/INHS_cropped/images/INHS_FISH_97321_aug4.jpg saved!\n",
      "/home/elhamod/HGNN/data/INHS_cropped/images/INHS_FISH_97321_aug5.jpg saved!\n",
      "/home/elhamod/HGNN/data/INHS_cropped/images/INHS_FISH_97321_aug6.jpg saved!\n",
      "/home/elhamod/HGNN/data/INHS_cropped/images/INHS_FISH_97321_aug7.jpg saved!\n",
      "/home/elhamod/HGNN/data/INHS_cropped/images/INHS_FISH_97321_aug8.jpg saved!\n",
      "/home/elhamod/HGNN/data/INHS_cropped/images/INHS_FISH_97321_aug9.jpg saved!\n"
     ]
    },
    {
     "name": "stderr",
     "output_type": "stream",
     "text": [
      "\r",
      "  3% (20 of 550) |                       | Elapsed Time: 0:00:22 ETA:   0:11:08"
     ]
    },
    {
     "name": "stdout",
     "output_type": "stream",
     "text": [
      "/home/elhamod/HGNN/data/INHS_cropped/images/INHS_FISH_30939_aug0.jpg saved!\n",
      "/home/elhamod/HGNN/data/INHS_cropped/images/INHS_FISH_30939_aug1.jpg saved!\n",
      "/home/elhamod/HGNN/data/INHS_cropped/images/INHS_FISH_30939_aug2.jpg saved!\n",
      "/home/elhamod/HGNN/data/INHS_cropped/images/INHS_FISH_30939_aug3.jpg saved!\n",
      "/home/elhamod/HGNN/data/INHS_cropped/images/INHS_FISH_30939_aug4.jpg saved!\n",
      "/home/elhamod/HGNN/data/INHS_cropped/images/INHS_FISH_30939_aug5.jpg saved!\n",
      "/home/elhamod/HGNN/data/INHS_cropped/images/INHS_FISH_30939_aug6.jpg saved!\n",
      "/home/elhamod/HGNN/data/INHS_cropped/images/INHS_FISH_30939_aug7.jpg saved!\n",
      "/home/elhamod/HGNN/data/INHS_cropped/images/INHS_FISH_30939_aug8.jpg saved!\n",
      "/home/elhamod/HGNN/data/INHS_cropped/images/INHS_FISH_30939_aug9.jpg saved!\n"
     ]
    },
    {
     "name": "stderr",
     "output_type": "stream",
     "text": [
      "\r",
      "  3% (21 of 550) |                       | Elapsed Time: 0:00:23 ETA:   0:10:51"
     ]
    },
    {
     "name": "stdout",
     "output_type": "stream",
     "text": [
      "/home/elhamod/HGNN/data/INHS_cropped/images/INHS_FISH_100058_aug0.jpg saved!\n",
      "/home/elhamod/HGNN/data/INHS_cropped/images/INHS_FISH_100058_aug1.jpg saved!\n",
      "/home/elhamod/HGNN/data/INHS_cropped/images/INHS_FISH_100058_aug2.jpg saved!\n",
      "/home/elhamod/HGNN/data/INHS_cropped/images/INHS_FISH_100058_aug3.jpg saved!\n",
      "/home/elhamod/HGNN/data/INHS_cropped/images/INHS_FISH_100058_aug4.jpg saved!\n",
      "/home/elhamod/HGNN/data/INHS_cropped/images/INHS_FISH_100058_aug5.jpg saved!\n",
      "/home/elhamod/HGNN/data/INHS_cropped/images/INHS_FISH_100058_aug6.jpg saved!\n",
      "/home/elhamod/HGNN/data/INHS_cropped/images/INHS_FISH_100058_aug7.jpg saved!\n",
      "/home/elhamod/HGNN/data/INHS_cropped/images/INHS_FISH_100058_aug8.jpg saved!\n",
      "/home/elhamod/HGNN/data/INHS_cropped/images/INHS_FISH_100058_aug9.jpg saved!\n"
     ]
    },
    {
     "name": "stderr",
     "output_type": "stream",
     "text": [
      "\r",
      "  4% (22 of 550) |                       | Elapsed Time: 0:00:24 ETA:   0:10:26"
     ]
    },
    {
     "name": "stdout",
     "output_type": "stream",
     "text": [
      "/home/elhamod/HGNN/data/INHS_cropped/images/INHS_FISH_21758_aug0.jpg saved!\n",
      "/home/elhamod/HGNN/data/INHS_cropped/images/INHS_FISH_21758_aug1.jpg saved!\n",
      "/home/elhamod/HGNN/data/INHS_cropped/images/INHS_FISH_21758_aug2.jpg saved!\n",
      "/home/elhamod/HGNN/data/INHS_cropped/images/INHS_FISH_21758_aug3.jpg saved!\n",
      "/home/elhamod/HGNN/data/INHS_cropped/images/INHS_FISH_21758_aug4.jpg saved!\n",
      "/home/elhamod/HGNN/data/INHS_cropped/images/INHS_FISH_21758_aug5.jpg saved!\n",
      "/home/elhamod/HGNN/data/INHS_cropped/images/INHS_FISH_21758_aug6.jpg saved!\n",
      "/home/elhamod/HGNN/data/INHS_cropped/images/INHS_FISH_21758_aug7.jpg saved!\n",
      "/home/elhamod/HGNN/data/INHS_cropped/images/INHS_FISH_21758_aug8.jpg saved!\n",
      "/home/elhamod/HGNN/data/INHS_cropped/images/INHS_FISH_21758_aug9.jpg saved!\n"
     ]
    },
    {
     "name": "stderr",
     "output_type": "stream",
     "text": [
      "\r",
      "  4% (23 of 550) |                       | Elapsed Time: 0:00:25 ETA:   0:10:20"
     ]
    },
    {
     "name": "stdout",
     "output_type": "stream",
     "text": [
      "/home/elhamod/HGNN/data/INHS_cropped/images/INHS_FISH_025698_aug0.jpg saved!\n",
      "/home/elhamod/HGNN/data/INHS_cropped/images/INHS_FISH_025698_aug1.jpg saved!\n",
      "/home/elhamod/HGNN/data/INHS_cropped/images/INHS_FISH_025698_aug2.jpg saved!\n",
      "/home/elhamod/HGNN/data/INHS_cropped/images/INHS_FISH_025698_aug3.jpg saved!\n",
      "/home/elhamod/HGNN/data/INHS_cropped/images/INHS_FISH_025698_aug4.jpg saved!\n",
      "/home/elhamod/HGNN/data/INHS_cropped/images/INHS_FISH_025698_aug5.jpg saved!\n",
      "/home/elhamod/HGNN/data/INHS_cropped/images/INHS_FISH_025698_aug6.jpg saved!\n",
      "/home/elhamod/HGNN/data/INHS_cropped/images/INHS_FISH_025698_aug7.jpg saved!\n",
      "/home/elhamod/HGNN/data/INHS_cropped/images/INHS_FISH_025698_aug8.jpg saved!\n",
      "/home/elhamod/HGNN/data/INHS_cropped/images/INHS_FISH_025698_aug9.jpg saved!\n"
     ]
    },
    {
     "name": "stderr",
     "output_type": "stream",
     "text": [
      "\r",
      "  4% (24 of 550) |#                      | Elapsed Time: 0:00:26 ETA:   0:10:13"
     ]
    },
    {
     "name": "stdout",
     "output_type": "stream",
     "text": [
      "/home/elhamod/HGNN/data/INHS_cropped/images/INHS_FISH_83999_aug0.jpg saved!\n",
      "/home/elhamod/HGNN/data/INHS_cropped/images/INHS_FISH_83999_aug1.jpg saved!\n",
      "/home/elhamod/HGNN/data/INHS_cropped/images/INHS_FISH_83999_aug2.jpg saved!\n",
      "/home/elhamod/HGNN/data/INHS_cropped/images/INHS_FISH_83999_aug3.jpg saved!\n",
      "/home/elhamod/HGNN/data/INHS_cropped/images/INHS_FISH_83999_aug4.jpg saved!\n",
      "/home/elhamod/HGNN/data/INHS_cropped/images/INHS_FISH_83999_aug5.jpg saved!\n",
      "/home/elhamod/HGNN/data/INHS_cropped/images/INHS_FISH_83999_aug6.jpg saved!\n",
      "/home/elhamod/HGNN/data/INHS_cropped/images/INHS_FISH_83999_aug7.jpg saved!\n",
      "/home/elhamod/HGNN/data/INHS_cropped/images/INHS_FISH_83999_aug8.jpg saved!\n",
      "/home/elhamod/HGNN/data/INHS_cropped/images/INHS_FISH_83999_aug9.jpg saved!\n"
     ]
    },
    {
     "name": "stderr",
     "output_type": "stream",
     "text": [
      "\r",
      "  4% (25 of 550) |#                      | Elapsed Time: 0:00:27 ETA:   0:09:59"
     ]
    },
    {
     "name": "stdout",
     "output_type": "stream",
     "text": [
      "/home/elhamod/HGNN/data/INHS_cropped/images/INHS_FISH_89664_aug0.jpg saved!\n",
      "/home/elhamod/HGNN/data/INHS_cropped/images/INHS_FISH_89664_aug1.jpg saved!\n",
      "/home/elhamod/HGNN/data/INHS_cropped/images/INHS_FISH_89664_aug2.jpg saved!\n",
      "/home/elhamod/HGNN/data/INHS_cropped/images/INHS_FISH_89664_aug3.jpg saved!\n",
      "/home/elhamod/HGNN/data/INHS_cropped/images/INHS_FISH_89664_aug4.jpg saved!\n",
      "/home/elhamod/HGNN/data/INHS_cropped/images/INHS_FISH_89664_aug5.jpg saved!\n",
      "/home/elhamod/HGNN/data/INHS_cropped/images/INHS_FISH_89664_aug6.jpg saved!\n",
      "/home/elhamod/HGNN/data/INHS_cropped/images/INHS_FISH_89664_aug7.jpg saved!\n",
      "/home/elhamod/HGNN/data/INHS_cropped/images/INHS_FISH_89664_aug8.jpg saved!\n",
      "/home/elhamod/HGNN/data/INHS_cropped/images/INHS_FISH_89664_aug9.jpg saved!\n"
     ]
    },
    {
     "name": "stderr",
     "output_type": "stream",
     "text": [
      "\r",
      "  4% (26 of 550) |#                      | Elapsed Time: 0:00:28 ETA:   0:09:50"
     ]
    },
    {
     "name": "stdout",
     "output_type": "stream",
     "text": [
      "/home/elhamod/HGNN/data/INHS_cropped/images/INHS_FISH_91218_aug0.jpg saved!\n",
      "/home/elhamod/HGNN/data/INHS_cropped/images/INHS_FISH_91218_aug1.jpg saved!\n",
      "/home/elhamod/HGNN/data/INHS_cropped/images/INHS_FISH_91218_aug2.jpg saved!\n",
      "/home/elhamod/HGNN/data/INHS_cropped/images/INHS_FISH_91218_aug3.jpg saved!\n",
      "/home/elhamod/HGNN/data/INHS_cropped/images/INHS_FISH_91218_aug4.jpg saved!\n",
      "/home/elhamod/HGNN/data/INHS_cropped/images/INHS_FISH_91218_aug5.jpg saved!\n",
      "/home/elhamod/HGNN/data/INHS_cropped/images/INHS_FISH_91218_aug6.jpg saved!\n",
      "/home/elhamod/HGNN/data/INHS_cropped/images/INHS_FISH_91218_aug7.jpg saved!\n",
      "/home/elhamod/HGNN/data/INHS_cropped/images/INHS_FISH_91218_aug8.jpg saved!\n",
      "/home/elhamod/HGNN/data/INHS_cropped/images/INHS_FISH_91218_aug9.jpg saved!\n"
     ]
    },
    {
     "name": "stderr",
     "output_type": "stream",
     "text": [
      "\r",
      "  4% (27 of 550) |#                      | Elapsed Time: 0:00:30 ETA:   0:09:37"
     ]
    },
    {
     "name": "stdout",
     "output_type": "stream",
     "text": [
      "/home/elhamod/HGNN/data/INHS_cropped/images/INHS_FISH_85778_aug0.jpg saved!\n",
      "/home/elhamod/HGNN/data/INHS_cropped/images/INHS_FISH_85778_aug1.jpg saved!\n",
      "/home/elhamod/HGNN/data/INHS_cropped/images/INHS_FISH_85778_aug2.jpg saved!\n",
      "/home/elhamod/HGNN/data/INHS_cropped/images/INHS_FISH_85778_aug3.jpg saved!\n",
      "/home/elhamod/HGNN/data/INHS_cropped/images/INHS_FISH_85778_aug4.jpg saved!\n",
      "/home/elhamod/HGNN/data/INHS_cropped/images/INHS_FISH_85778_aug5.jpg saved!\n",
      "/home/elhamod/HGNN/data/INHS_cropped/images/INHS_FISH_85778_aug6.jpg saved!\n",
      "/home/elhamod/HGNN/data/INHS_cropped/images/INHS_FISH_85778_aug7.jpg saved!\n",
      "/home/elhamod/HGNN/data/INHS_cropped/images/INHS_FISH_85778_aug8.jpg saved!\n",
      "/home/elhamod/HGNN/data/INHS_cropped/images/INHS_FISH_85778_aug9.jpg saved!\n"
     ]
    },
    {
     "name": "stderr",
     "output_type": "stream",
     "text": [
      "\r",
      "  5% (28 of 550) |#                      | Elapsed Time: 0:00:31 ETA:   0:09:59"
     ]
    },
    {
     "name": "stdout",
     "output_type": "stream",
     "text": [
      "/home/elhamod/HGNN/data/INHS_cropped/images/INHS_FISH_63307_aug0.jpg saved!\n",
      "/home/elhamod/HGNN/data/INHS_cropped/images/INHS_FISH_63307_aug1.jpg saved!\n",
      "/home/elhamod/HGNN/data/INHS_cropped/images/INHS_FISH_63307_aug2.jpg saved!\n",
      "/home/elhamod/HGNN/data/INHS_cropped/images/INHS_FISH_63307_aug3.jpg saved!\n",
      "/home/elhamod/HGNN/data/INHS_cropped/images/INHS_FISH_63307_aug4.jpg saved!\n",
      "/home/elhamod/HGNN/data/INHS_cropped/images/INHS_FISH_63307_aug5.jpg saved!\n",
      "/home/elhamod/HGNN/data/INHS_cropped/images/INHS_FISH_63307_aug6.jpg saved!\n",
      "/home/elhamod/HGNN/data/INHS_cropped/images/INHS_FISH_63307_aug7.jpg saved!\n",
      "/home/elhamod/HGNN/data/INHS_cropped/images/INHS_FISH_63307_aug8.jpg saved!\n",
      "/home/elhamod/HGNN/data/INHS_cropped/images/INHS_FISH_63307_aug9.jpg saved!\n"
     ]
    },
    {
     "name": "stderr",
     "output_type": "stream",
     "text": [
      "\r",
      "  5% (29 of 550) |#                      | Elapsed Time: 0:00:32 ETA:   0:10:13"
     ]
    },
    {
     "name": "stdout",
     "output_type": "stream",
     "text": [
      "/home/elhamod/HGNN/data/INHS_cropped/images/INHS_FISH_686_aug0.jpg saved!\n",
      "/home/elhamod/HGNN/data/INHS_cropped/images/INHS_FISH_686_aug1.jpg saved!\n",
      "/home/elhamod/HGNN/data/INHS_cropped/images/INHS_FISH_686_aug2.jpg saved!\n",
      "/home/elhamod/HGNN/data/INHS_cropped/images/INHS_FISH_686_aug3.jpg saved!\n",
      "/home/elhamod/HGNN/data/INHS_cropped/images/INHS_FISH_686_aug4.jpg saved!\n",
      "/home/elhamod/HGNN/data/INHS_cropped/images/INHS_FISH_686_aug5.jpg saved!\n",
      "/home/elhamod/HGNN/data/INHS_cropped/images/INHS_FISH_686_aug6.jpg saved!\n",
      "/home/elhamod/HGNN/data/INHS_cropped/images/INHS_FISH_686_aug7.jpg saved!\n",
      "/home/elhamod/HGNN/data/INHS_cropped/images/INHS_FISH_686_aug8.jpg saved!\n",
      "/home/elhamod/HGNN/data/INHS_cropped/images/INHS_FISH_686_aug9.jpg saved!\n"
     ]
    },
    {
     "name": "stderr",
     "output_type": "stream",
     "text": [
      "\r",
      "  5% (30 of 550) |#                      | Elapsed Time: 0:00:33 ETA:   0:10:08"
     ]
    },
    {
     "name": "stdout",
     "output_type": "stream",
     "text": [
      "/home/elhamod/HGNN/data/INHS_cropped/images/INHS_FISH_003822_aug0.jpg saved!\n",
      "/home/elhamod/HGNN/data/INHS_cropped/images/INHS_FISH_003822_aug1.jpg saved!\n",
      "/home/elhamod/HGNN/data/INHS_cropped/images/INHS_FISH_003822_aug2.jpg saved!\n",
      "/home/elhamod/HGNN/data/INHS_cropped/images/INHS_FISH_003822_aug3.jpg saved!\n",
      "/home/elhamod/HGNN/data/INHS_cropped/images/INHS_FISH_003822_aug4.jpg saved!\n",
      "/home/elhamod/HGNN/data/INHS_cropped/images/INHS_FISH_003822_aug5.jpg saved!\n",
      "/home/elhamod/HGNN/data/INHS_cropped/images/INHS_FISH_003822_aug6.jpg saved!\n",
      "/home/elhamod/HGNN/data/INHS_cropped/images/INHS_FISH_003822_aug7.jpg saved!\n",
      "/home/elhamod/HGNN/data/INHS_cropped/images/INHS_FISH_003822_aug8.jpg saved!\n",
      "/home/elhamod/HGNN/data/INHS_cropped/images/INHS_FISH_003822_aug9.jpg saved!\n"
     ]
    },
    {
     "name": "stderr",
     "output_type": "stream",
     "text": [
      "\r",
      "  5% (31 of 550) |#                      | Elapsed Time: 0:00:34 ETA:   0:09:59"
     ]
    },
    {
     "name": "stdout",
     "output_type": "stream",
     "text": [
      "/home/elhamod/HGNN/data/INHS_cropped/images/INHS_FISH_36377_aug0.jpg saved!\n",
      "/home/elhamod/HGNN/data/INHS_cropped/images/INHS_FISH_36377_aug1.jpg saved!\n",
      "/home/elhamod/HGNN/data/INHS_cropped/images/INHS_FISH_36377_aug2.jpg saved!\n",
      "/home/elhamod/HGNN/data/INHS_cropped/images/INHS_FISH_36377_aug3.jpg saved!\n",
      "/home/elhamod/HGNN/data/INHS_cropped/images/INHS_FISH_36377_aug4.jpg saved!\n",
      "/home/elhamod/HGNN/data/INHS_cropped/images/INHS_FISH_36377_aug5.jpg saved!\n",
      "/home/elhamod/HGNN/data/INHS_cropped/images/INHS_FISH_36377_aug6.jpg saved!\n",
      "/home/elhamod/HGNN/data/INHS_cropped/images/INHS_FISH_36377_aug7.jpg saved!\n",
      "/home/elhamod/HGNN/data/INHS_cropped/images/INHS_FISH_36377_aug8.jpg saved!\n",
      "/home/elhamod/HGNN/data/INHS_cropped/images/INHS_FISH_36377_aug9.jpg saved!\n"
     ]
    },
    {
     "name": "stderr",
     "output_type": "stream",
     "text": [
      "\r",
      "  5% (32 of 550) |#                      | Elapsed Time: 0:00:35 ETA:   0:09:53"
     ]
    },
    {
     "name": "stdout",
     "output_type": "stream",
     "text": [
      "/home/elhamod/HGNN/data/INHS_cropped/images/INHS_FISH_016548_aug0.jpg saved!\n",
      "/home/elhamod/HGNN/data/INHS_cropped/images/INHS_FISH_016548_aug1.jpg saved!\n",
      "/home/elhamod/HGNN/data/INHS_cropped/images/INHS_FISH_016548_aug2.jpg saved!\n",
      "/home/elhamod/HGNN/data/INHS_cropped/images/INHS_FISH_016548_aug3.jpg saved!\n",
      "/home/elhamod/HGNN/data/INHS_cropped/images/INHS_FISH_016548_aug4.jpg saved!\n",
      "/home/elhamod/HGNN/data/INHS_cropped/images/INHS_FISH_016548_aug5.jpg saved!\n",
      "/home/elhamod/HGNN/data/INHS_cropped/images/INHS_FISH_016548_aug6.jpg saved!\n",
      "/home/elhamod/HGNN/data/INHS_cropped/images/INHS_FISH_016548_aug7.jpg saved!\n",
      "/home/elhamod/HGNN/data/INHS_cropped/images/INHS_FISH_016548_aug8.jpg saved!\n",
      "/home/elhamod/HGNN/data/INHS_cropped/images/INHS_FISH_016548_aug9.jpg saved!\n"
     ]
    },
    {
     "name": "stderr",
     "output_type": "stream",
     "text": [
      "\r",
      "  6% (33 of 550) |#                      | Elapsed Time: 0:00:37 ETA:   0:10:06"
     ]
    },
    {
     "name": "stdout",
     "output_type": "stream",
     "text": [
      "/home/elhamod/HGNN/data/INHS_cropped/images/INHS_FISH_88301_aug0.jpg saved!\n",
      "/home/elhamod/HGNN/data/INHS_cropped/images/INHS_FISH_88301_aug1.jpg saved!\n",
      "/home/elhamod/HGNN/data/INHS_cropped/images/INHS_FISH_88301_aug2.jpg saved!\n",
      "/home/elhamod/HGNN/data/INHS_cropped/images/INHS_FISH_88301_aug3.jpg saved!\n",
      "/home/elhamod/HGNN/data/INHS_cropped/images/INHS_FISH_88301_aug4.jpg saved!\n",
      "/home/elhamod/HGNN/data/INHS_cropped/images/INHS_FISH_88301_aug5.jpg saved!\n",
      "/home/elhamod/HGNN/data/INHS_cropped/images/INHS_FISH_88301_aug6.jpg saved!\n",
      "/home/elhamod/HGNN/data/INHS_cropped/images/INHS_FISH_88301_aug7.jpg saved!\n",
      "/home/elhamod/HGNN/data/INHS_cropped/images/INHS_FISH_88301_aug8.jpg saved!\n",
      "/home/elhamod/HGNN/data/INHS_cropped/images/INHS_FISH_88301_aug9.jpg saved!\n"
     ]
    },
    {
     "name": "stderr",
     "output_type": "stream",
     "text": [
      "\r",
      "  6% (34 of 550) |#                      | Elapsed Time: 0:00:38 ETA:   0:09:58"
     ]
    },
    {
     "name": "stdout",
     "output_type": "stream",
     "text": [
      "/home/elhamod/HGNN/data/INHS_cropped/images/INHS_FISH_15323_aug0.jpg saved!\n",
      "/home/elhamod/HGNN/data/INHS_cropped/images/INHS_FISH_15323_aug1.jpg saved!\n",
      "/home/elhamod/HGNN/data/INHS_cropped/images/INHS_FISH_15323_aug2.jpg saved!\n",
      "/home/elhamod/HGNN/data/INHS_cropped/images/INHS_FISH_15323_aug3.jpg saved!\n",
      "/home/elhamod/HGNN/data/INHS_cropped/images/INHS_FISH_15323_aug4.jpg saved!\n",
      "/home/elhamod/HGNN/data/INHS_cropped/images/INHS_FISH_15323_aug5.jpg saved!\n",
      "/home/elhamod/HGNN/data/INHS_cropped/images/INHS_FISH_15323_aug6.jpg saved!\n",
      "/home/elhamod/HGNN/data/INHS_cropped/images/INHS_FISH_15323_aug7.jpg saved!\n",
      "/home/elhamod/HGNN/data/INHS_cropped/images/INHS_FISH_15323_aug8.jpg saved!\n",
      "/home/elhamod/HGNN/data/INHS_cropped/images/INHS_FISH_15323_aug9.jpg saved!\n"
     ]
    },
    {
     "name": "stderr",
     "output_type": "stream",
     "text": [
      "\r",
      "  6% (35 of 550) |#                      | Elapsed Time: 0:00:39 ETA:   0:09:37"
     ]
    },
    {
     "name": "stdout",
     "output_type": "stream",
     "text": [
      "/home/elhamod/HGNN/data/INHS_cropped/images/INHS_FISH_91048_aug0.jpg saved!\n",
      "/home/elhamod/HGNN/data/INHS_cropped/images/INHS_FISH_91048_aug1.jpg saved!\n",
      "/home/elhamod/HGNN/data/INHS_cropped/images/INHS_FISH_91048_aug2.jpg saved!\n",
      "/home/elhamod/HGNN/data/INHS_cropped/images/INHS_FISH_91048_aug3.jpg saved!\n",
      "/home/elhamod/HGNN/data/INHS_cropped/images/INHS_FISH_91048_aug4.jpg saved!\n",
      "/home/elhamod/HGNN/data/INHS_cropped/images/INHS_FISH_91048_aug5.jpg saved!\n",
      "/home/elhamod/HGNN/data/INHS_cropped/images/INHS_FISH_91048_aug6.jpg saved!\n",
      "/home/elhamod/HGNN/data/INHS_cropped/images/INHS_FISH_91048_aug7.jpg saved!\n",
      "/home/elhamod/HGNN/data/INHS_cropped/images/INHS_FISH_91048_aug8.jpg saved!\n",
      "/home/elhamod/HGNN/data/INHS_cropped/images/INHS_FISH_91048_aug9.jpg saved!\n"
     ]
    },
    {
     "name": "stderr",
     "output_type": "stream",
     "text": [
      "\r",
      "  6% (36 of 550) |#                      | Elapsed Time: 0:00:40 ETA:   0:09:36"
     ]
    },
    {
     "name": "stdout",
     "output_type": "stream",
     "text": [
      "/home/elhamod/HGNN/data/INHS_cropped/images/INHS_FISH_40526_aug0.jpg saved!\n",
      "/home/elhamod/HGNN/data/INHS_cropped/images/INHS_FISH_40526_aug1.jpg saved!\n",
      "/home/elhamod/HGNN/data/INHS_cropped/images/INHS_FISH_40526_aug2.jpg saved!\n",
      "/home/elhamod/HGNN/data/INHS_cropped/images/INHS_FISH_40526_aug3.jpg saved!\n",
      "/home/elhamod/HGNN/data/INHS_cropped/images/INHS_FISH_40526_aug4.jpg saved!\n",
      "/home/elhamod/HGNN/data/INHS_cropped/images/INHS_FISH_40526_aug5.jpg saved!\n",
      "/home/elhamod/HGNN/data/INHS_cropped/images/INHS_FISH_40526_aug6.jpg saved!\n",
      "/home/elhamod/HGNN/data/INHS_cropped/images/INHS_FISH_40526_aug7.jpg saved!\n",
      "/home/elhamod/HGNN/data/INHS_cropped/images/INHS_FISH_40526_aug8.jpg saved!\n",
      "/home/elhamod/HGNN/data/INHS_cropped/images/INHS_FISH_40526_aug9.jpg saved!\n"
     ]
    },
    {
     "name": "stderr",
     "output_type": "stream",
     "text": [
      "\r",
      "  6% (37 of 550) |#                      | Elapsed Time: 0:00:41 ETA:   0:09:41"
     ]
    },
    {
     "name": "stdout",
     "output_type": "stream",
     "text": [
      "/home/elhamod/HGNN/data/INHS_cropped/images/INHS_FISH_99121_aug0.jpg saved!\n",
      "/home/elhamod/HGNN/data/INHS_cropped/images/INHS_FISH_99121_aug1.jpg saved!\n",
      "/home/elhamod/HGNN/data/INHS_cropped/images/INHS_FISH_99121_aug2.jpg saved!\n",
      "/home/elhamod/HGNN/data/INHS_cropped/images/INHS_FISH_99121_aug3.jpg saved!\n",
      "/home/elhamod/HGNN/data/INHS_cropped/images/INHS_FISH_99121_aug4.jpg saved!\n",
      "/home/elhamod/HGNN/data/INHS_cropped/images/INHS_FISH_99121_aug5.jpg saved!\n",
      "/home/elhamod/HGNN/data/INHS_cropped/images/INHS_FISH_99121_aug6.jpg saved!\n",
      "/home/elhamod/HGNN/data/INHS_cropped/images/INHS_FISH_99121_aug7.jpg saved!\n",
      "/home/elhamod/HGNN/data/INHS_cropped/images/INHS_FISH_99121_aug8.jpg saved!\n",
      "/home/elhamod/HGNN/data/INHS_cropped/images/INHS_FISH_99121_aug9.jpg saved!\n"
     ]
    },
    {
     "name": "stderr",
     "output_type": "stream",
     "text": [
      "\r",
      "  6% (38 of 550) |#                      | Elapsed Time: 0:00:42 ETA:   0:09:47"
     ]
    },
    {
     "name": "stdout",
     "output_type": "stream",
     "text": [
      "/home/elhamod/HGNN/data/INHS_cropped/images/INHS_FISH_45432_aug0.jpg saved!\n",
      "/home/elhamod/HGNN/data/INHS_cropped/images/INHS_FISH_45432_aug1.jpg saved!\n",
      "/home/elhamod/HGNN/data/INHS_cropped/images/INHS_FISH_45432_aug2.jpg saved!\n",
      "/home/elhamod/HGNN/data/INHS_cropped/images/INHS_FISH_45432_aug3.jpg saved!\n",
      "/home/elhamod/HGNN/data/INHS_cropped/images/INHS_FISH_45432_aug4.jpg saved!\n",
      "/home/elhamod/HGNN/data/INHS_cropped/images/INHS_FISH_45432_aug5.jpg saved!\n",
      "/home/elhamod/HGNN/data/INHS_cropped/images/INHS_FISH_45432_aug6.jpg saved!\n",
      "/home/elhamod/HGNN/data/INHS_cropped/images/INHS_FISH_45432_aug7.jpg saved!\n",
      "/home/elhamod/HGNN/data/INHS_cropped/images/INHS_FISH_45432_aug8.jpg saved!\n",
      "/home/elhamod/HGNN/data/INHS_cropped/images/INHS_FISH_45432_aug9.jpg saved!\n"
     ]
    },
    {
     "name": "stderr",
     "output_type": "stream",
     "text": [
      "\r",
      "  7% (39 of 550) |#                      | Elapsed Time: 0:00:43 ETA:   0:09:43"
     ]
    },
    {
     "name": "stdout",
     "output_type": "stream",
     "text": [
      "/home/elhamod/HGNN/data/INHS_cropped/images/INHS_FISH_84741_aug0.jpg saved!\n",
      "/home/elhamod/HGNN/data/INHS_cropped/images/INHS_FISH_84741_aug1.jpg saved!\n",
      "/home/elhamod/HGNN/data/INHS_cropped/images/INHS_FISH_84741_aug2.jpg saved!\n",
      "/home/elhamod/HGNN/data/INHS_cropped/images/INHS_FISH_84741_aug3.jpg saved!\n",
      "/home/elhamod/HGNN/data/INHS_cropped/images/INHS_FISH_84741_aug4.jpg saved!\n",
      "/home/elhamod/HGNN/data/INHS_cropped/images/INHS_FISH_84741_aug5.jpg saved!\n",
      "/home/elhamod/HGNN/data/INHS_cropped/images/INHS_FISH_84741_aug6.jpg saved!\n",
      "/home/elhamod/HGNN/data/INHS_cropped/images/INHS_FISH_84741_aug7.jpg saved!\n",
      "/home/elhamod/HGNN/data/INHS_cropped/images/INHS_FISH_84741_aug8.jpg saved!\n",
      "/home/elhamod/HGNN/data/INHS_cropped/images/INHS_FISH_84741_aug9.jpg saved!\n"
     ]
    },
    {
     "name": "stderr",
     "output_type": "stream",
     "text": [
      "\r",
      "  7% (40 of 550) |#                      | Elapsed Time: 0:00:44 ETA:   0:09:31"
     ]
    },
    {
     "name": "stdout",
     "output_type": "stream",
     "text": [
      "/home/elhamod/HGNN/data/INHS_cropped/images/INHS_FISH_21342_aug0.jpg saved!\n",
      "/home/elhamod/HGNN/data/INHS_cropped/images/INHS_FISH_21342_aug1.jpg saved!\n",
      "/home/elhamod/HGNN/data/INHS_cropped/images/INHS_FISH_21342_aug2.jpg saved!\n",
      "/home/elhamod/HGNN/data/INHS_cropped/images/INHS_FISH_21342_aug3.jpg saved!\n",
      "/home/elhamod/HGNN/data/INHS_cropped/images/INHS_FISH_21342_aug4.jpg saved!\n",
      "/home/elhamod/HGNN/data/INHS_cropped/images/INHS_FISH_21342_aug5.jpg saved!\n",
      "/home/elhamod/HGNN/data/INHS_cropped/images/INHS_FISH_21342_aug6.jpg saved!\n",
      "/home/elhamod/HGNN/data/INHS_cropped/images/INHS_FISH_21342_aug7.jpg saved!\n",
      "/home/elhamod/HGNN/data/INHS_cropped/images/INHS_FISH_21342_aug8.jpg saved!\n",
      "/home/elhamod/HGNN/data/INHS_cropped/images/INHS_FISH_21342_aug9.jpg saved!\n"
     ]
    },
    {
     "name": "stderr",
     "output_type": "stream",
     "text": [
      "\r",
      "  7% (41 of 550) |#                      | Elapsed Time: 0:00:46 ETA:   0:09:31"
     ]
    },
    {
     "name": "stdout",
     "output_type": "stream",
     "text": [
      "/home/elhamod/HGNN/data/INHS_cropped/images/INHS_FISH_9752_aug0.jpg saved!\n",
      "/home/elhamod/HGNN/data/INHS_cropped/images/INHS_FISH_9752_aug1.jpg saved!\n",
      "/home/elhamod/HGNN/data/INHS_cropped/images/INHS_FISH_9752_aug2.jpg saved!\n",
      "/home/elhamod/HGNN/data/INHS_cropped/images/INHS_FISH_9752_aug3.jpg saved!\n",
      "/home/elhamod/HGNN/data/INHS_cropped/images/INHS_FISH_9752_aug4.jpg saved!\n",
      "/home/elhamod/HGNN/data/INHS_cropped/images/INHS_FISH_9752_aug5.jpg saved!\n",
      "/home/elhamod/HGNN/data/INHS_cropped/images/INHS_FISH_9752_aug6.jpg saved!\n",
      "/home/elhamod/HGNN/data/INHS_cropped/images/INHS_FISH_9752_aug7.jpg saved!\n",
      "/home/elhamod/HGNN/data/INHS_cropped/images/INHS_FISH_9752_aug8.jpg saved!\n",
      "/home/elhamod/HGNN/data/INHS_cropped/images/INHS_FISH_9752_aug9.jpg saved!\n"
     ]
    },
    {
     "name": "stderr",
     "output_type": "stream",
     "text": [
      "\r",
      "  7% (42 of 550) |#                      | Elapsed Time: 0:00:47 ETA:   0:09:32"
     ]
    },
    {
     "name": "stdout",
     "output_type": "stream",
     "text": [
      "/home/elhamod/HGNN/data/INHS_cropped/images/INHS_FISH_27134_aug0.jpg saved!\n",
      "/home/elhamod/HGNN/data/INHS_cropped/images/INHS_FISH_27134_aug1.jpg saved!\n",
      "/home/elhamod/HGNN/data/INHS_cropped/images/INHS_FISH_27134_aug2.jpg saved!\n",
      "/home/elhamod/HGNN/data/INHS_cropped/images/INHS_FISH_27134_aug3.jpg saved!\n",
      "/home/elhamod/HGNN/data/INHS_cropped/images/INHS_FISH_27134_aug4.jpg saved!\n",
      "/home/elhamod/HGNN/data/INHS_cropped/images/INHS_FISH_27134_aug5.jpg saved!\n",
      "/home/elhamod/HGNN/data/INHS_cropped/images/INHS_FISH_27134_aug6.jpg saved!\n",
      "/home/elhamod/HGNN/data/INHS_cropped/images/INHS_FISH_27134_aug7.jpg saved!\n",
      "/home/elhamod/HGNN/data/INHS_cropped/images/INHS_FISH_27134_aug8.jpg saved!\n",
      "/home/elhamod/HGNN/data/INHS_cropped/images/INHS_FISH_27134_aug9.jpg saved!\n"
     ]
    },
    {
     "name": "stderr",
     "output_type": "stream",
     "text": [
      "\r",
      "  7% (43 of 550) |#                      | Elapsed Time: 0:00:48 ETA:   0:09:29"
     ]
    },
    {
     "name": "stdout",
     "output_type": "stream",
     "text": [
      "/home/elhamod/HGNN/data/INHS_cropped/images/INHS_FISH_40045_aug0.jpg saved!\n",
      "/home/elhamod/HGNN/data/INHS_cropped/images/INHS_FISH_40045_aug1.jpg saved!\n",
      "/home/elhamod/HGNN/data/INHS_cropped/images/INHS_FISH_40045_aug2.jpg saved!\n",
      "/home/elhamod/HGNN/data/INHS_cropped/images/INHS_FISH_40045_aug3.jpg saved!\n",
      "/home/elhamod/HGNN/data/INHS_cropped/images/INHS_FISH_40045_aug4.jpg saved!\n",
      "/home/elhamod/HGNN/data/INHS_cropped/images/INHS_FISH_40045_aug5.jpg saved!\n",
      "/home/elhamod/HGNN/data/INHS_cropped/images/INHS_FISH_40045_aug6.jpg saved!\n",
      "/home/elhamod/HGNN/data/INHS_cropped/images/INHS_FISH_40045_aug7.jpg saved!\n",
      "/home/elhamod/HGNN/data/INHS_cropped/images/INHS_FISH_40045_aug8.jpg saved!\n",
      "/home/elhamod/HGNN/data/INHS_cropped/images/INHS_FISH_40045_aug9.jpg saved!\n"
     ]
    },
    {
     "name": "stderr",
     "output_type": "stream",
     "text": [
      "\r",
      "  8% (44 of 550) |#                      | Elapsed Time: 0:00:49 ETA:   0:09:24"
     ]
    },
    {
     "name": "stdout",
     "output_type": "stream",
     "text": [
      "/home/elhamod/HGNN/data/INHS_cropped/images/INHS_FISH_40695_aug0.jpg saved!\n",
      "/home/elhamod/HGNN/data/INHS_cropped/images/INHS_FISH_40695_aug1.jpg saved!\n",
      "/home/elhamod/HGNN/data/INHS_cropped/images/INHS_FISH_40695_aug2.jpg saved!\n",
      "/home/elhamod/HGNN/data/INHS_cropped/images/INHS_FISH_40695_aug3.jpg saved!\n",
      "/home/elhamod/HGNN/data/INHS_cropped/images/INHS_FISH_40695_aug4.jpg saved!\n",
      "/home/elhamod/HGNN/data/INHS_cropped/images/INHS_FISH_40695_aug5.jpg saved!\n",
      "/home/elhamod/HGNN/data/INHS_cropped/images/INHS_FISH_40695_aug6.jpg saved!\n",
      "/home/elhamod/HGNN/data/INHS_cropped/images/INHS_FISH_40695_aug7.jpg saved!\n",
      "/home/elhamod/HGNN/data/INHS_cropped/images/INHS_FISH_40695_aug8.jpg saved!\n",
      "/home/elhamod/HGNN/data/INHS_cropped/images/INHS_FISH_40695_aug9.jpg saved!\n"
     ]
    },
    {
     "name": "stderr",
     "output_type": "stream",
     "text": [
      "\r",
      "  8% (45 of 550) |#                      | Elapsed Time: 0:00:50 ETA:   0:09:24"
     ]
    },
    {
     "name": "stdout",
     "output_type": "stream",
     "text": [
      "/home/elhamod/HGNN/data/INHS_cropped/images/INHS_FISH_21653_aug0.jpg saved!\n",
      "/home/elhamod/HGNN/data/INHS_cropped/images/INHS_FISH_21653_aug1.jpg saved!\n",
      "/home/elhamod/HGNN/data/INHS_cropped/images/INHS_FISH_21653_aug2.jpg saved!\n",
      "/home/elhamod/HGNN/data/INHS_cropped/images/INHS_FISH_21653_aug3.jpg saved!\n",
      "/home/elhamod/HGNN/data/INHS_cropped/images/INHS_FISH_21653_aug4.jpg saved!\n",
      "/home/elhamod/HGNN/data/INHS_cropped/images/INHS_FISH_21653_aug5.jpg saved!\n",
      "/home/elhamod/HGNN/data/INHS_cropped/images/INHS_FISH_21653_aug6.jpg saved!\n",
      "/home/elhamod/HGNN/data/INHS_cropped/images/INHS_FISH_21653_aug7.jpg saved!\n",
      "/home/elhamod/HGNN/data/INHS_cropped/images/INHS_FISH_21653_aug8.jpg saved!\n",
      "/home/elhamod/HGNN/data/INHS_cropped/images/INHS_FISH_21653_aug9.jpg saved!\n"
     ]
    },
    {
     "name": "stderr",
     "output_type": "stream",
     "text": [
      "\r",
      "  8% (46 of 550) |#                      | Elapsed Time: 0:00:51 ETA:   0:09:23"
     ]
    },
    {
     "name": "stdout",
     "output_type": "stream",
     "text": [
      "/home/elhamod/HGNN/data/INHS_cropped/images/INHS_FISH_58745_aug0.jpg saved!\n",
      "/home/elhamod/HGNN/data/INHS_cropped/images/INHS_FISH_58745_aug1.jpg saved!\n",
      "/home/elhamod/HGNN/data/INHS_cropped/images/INHS_FISH_58745_aug2.jpg saved!\n",
      "/home/elhamod/HGNN/data/INHS_cropped/images/INHS_FISH_58745_aug3.jpg saved!\n",
      "/home/elhamod/HGNN/data/INHS_cropped/images/INHS_FISH_58745_aug4.jpg saved!\n",
      "/home/elhamod/HGNN/data/INHS_cropped/images/INHS_FISH_58745_aug5.jpg saved!\n",
      "/home/elhamod/HGNN/data/INHS_cropped/images/INHS_FISH_58745_aug6.jpg saved!\n",
      "/home/elhamod/HGNN/data/INHS_cropped/images/INHS_FISH_58745_aug7.jpg saved!\n",
      "/home/elhamod/HGNN/data/INHS_cropped/images/INHS_FISH_58745_aug8.jpg saved!\n",
      "/home/elhamod/HGNN/data/INHS_cropped/images/INHS_FISH_58745_aug9.jpg saved!\n"
     ]
    },
    {
     "name": "stderr",
     "output_type": "stream",
     "text": [
      "\r",
      "  8% (47 of 550) |#                      | Elapsed Time: 0:00:52 ETA:   0:09:34"
     ]
    },
    {
     "name": "stdout",
     "output_type": "stream",
     "text": [
      "/home/elhamod/HGNN/data/INHS_cropped/images/INHS_FISH_56994_aug0.jpg saved!\n",
      "/home/elhamod/HGNN/data/INHS_cropped/images/INHS_FISH_56994_aug1.jpg saved!\n",
      "/home/elhamod/HGNN/data/INHS_cropped/images/INHS_FISH_56994_aug2.jpg saved!\n",
      "/home/elhamod/HGNN/data/INHS_cropped/images/INHS_FISH_56994_aug3.jpg saved!\n",
      "/home/elhamod/HGNN/data/INHS_cropped/images/INHS_FISH_56994_aug4.jpg saved!\n",
      "/home/elhamod/HGNN/data/INHS_cropped/images/INHS_FISH_56994_aug5.jpg saved!\n",
      "/home/elhamod/HGNN/data/INHS_cropped/images/INHS_FISH_56994_aug6.jpg saved!\n",
      "/home/elhamod/HGNN/data/INHS_cropped/images/INHS_FISH_56994_aug7.jpg saved!\n",
      "/home/elhamod/HGNN/data/INHS_cropped/images/INHS_FISH_56994_aug8.jpg saved!\n",
      "/home/elhamod/HGNN/data/INHS_cropped/images/INHS_FISH_56994_aug9.jpg saved!\n"
     ]
    },
    {
     "name": "stderr",
     "output_type": "stream",
     "text": [
      "\r",
      "  8% (48 of 550) |##                     | Elapsed Time: 0:00:53 ETA:   0:09:33"
     ]
    },
    {
     "name": "stdout",
     "output_type": "stream",
     "text": [
      "/home/elhamod/HGNN/data/INHS_cropped/images/INHS_FISH_87328_aug0.jpg saved!\n",
      "/home/elhamod/HGNN/data/INHS_cropped/images/INHS_FISH_87328_aug1.jpg saved!\n",
      "/home/elhamod/HGNN/data/INHS_cropped/images/INHS_FISH_87328_aug2.jpg saved!\n",
      "/home/elhamod/HGNN/data/INHS_cropped/images/INHS_FISH_87328_aug3.jpg saved!\n",
      "/home/elhamod/HGNN/data/INHS_cropped/images/INHS_FISH_87328_aug4.jpg saved!\n",
      "/home/elhamod/HGNN/data/INHS_cropped/images/INHS_FISH_87328_aug5.jpg saved!\n",
      "/home/elhamod/HGNN/data/INHS_cropped/images/INHS_FISH_87328_aug6.jpg saved!\n",
      "/home/elhamod/HGNN/data/INHS_cropped/images/INHS_FISH_87328_aug7.jpg saved!\n",
      "/home/elhamod/HGNN/data/INHS_cropped/images/INHS_FISH_87328_aug8.jpg saved!\n",
      "/home/elhamod/HGNN/data/INHS_cropped/images/INHS_FISH_87328_aug9.jpg saved!\n"
     ]
    },
    {
     "name": "stderr",
     "output_type": "stream",
     "text": [
      "\r",
      "  8% (49 of 550) |##                     | Elapsed Time: 0:00:55 ETA:   0:09:17"
     ]
    },
    {
     "name": "stdout",
     "output_type": "stream",
     "text": [
      "/home/elhamod/HGNN/data/INHS_cropped/images/INHS_FISH_012567_aug0.jpg saved!\n",
      "/home/elhamod/HGNN/data/INHS_cropped/images/INHS_FISH_012567_aug1.jpg saved!\n",
      "/home/elhamod/HGNN/data/INHS_cropped/images/INHS_FISH_012567_aug2.jpg saved!\n",
      "/home/elhamod/HGNN/data/INHS_cropped/images/INHS_FISH_012567_aug3.jpg saved!\n",
      "/home/elhamod/HGNN/data/INHS_cropped/images/INHS_FISH_012567_aug4.jpg saved!\n",
      "/home/elhamod/HGNN/data/INHS_cropped/images/INHS_FISH_012567_aug5.jpg saved!\n",
      "/home/elhamod/HGNN/data/INHS_cropped/images/INHS_FISH_012567_aug6.jpg saved!\n",
      "/home/elhamod/HGNN/data/INHS_cropped/images/INHS_FISH_012567_aug7.jpg saved!\n",
      "/home/elhamod/HGNN/data/INHS_cropped/images/INHS_FISH_012567_aug8.jpg saved!\n",
      "/home/elhamod/HGNN/data/INHS_cropped/images/INHS_FISH_012567_aug9.jpg saved!\n"
     ]
    },
    {
     "name": "stderr",
     "output_type": "stream",
     "text": [
      "\r",
      "  9% (50 of 550) |##                     | Elapsed Time: 0:00:56 ETA:   0:09:14"
     ]
    },
    {
     "name": "stdout",
     "output_type": "stream",
     "text": [
      "/home/elhamod/HGNN/data/INHS_cropped/images/INHS_FISH_45086_aug0.jpg saved!\n",
      "/home/elhamod/HGNN/data/INHS_cropped/images/INHS_FISH_45086_aug1.jpg saved!\n",
      "/home/elhamod/HGNN/data/INHS_cropped/images/INHS_FISH_45086_aug2.jpg saved!\n",
      "/home/elhamod/HGNN/data/INHS_cropped/images/INHS_FISH_45086_aug3.jpg saved!\n",
      "/home/elhamod/HGNN/data/INHS_cropped/images/INHS_FISH_45086_aug4.jpg saved!\n",
      "/home/elhamod/HGNN/data/INHS_cropped/images/INHS_FISH_45086_aug5.jpg saved!\n",
      "/home/elhamod/HGNN/data/INHS_cropped/images/INHS_FISH_45086_aug6.jpg saved!\n",
      "/home/elhamod/HGNN/data/INHS_cropped/images/INHS_FISH_45086_aug7.jpg saved!\n",
      "/home/elhamod/HGNN/data/INHS_cropped/images/INHS_FISH_45086_aug8.jpg saved!\n",
      "/home/elhamod/HGNN/data/INHS_cropped/images/INHS_FISH_45086_aug9.jpg saved!\n"
     ]
    },
    {
     "name": "stderr",
     "output_type": "stream",
     "text": [
      "\r",
      "  9% (51 of 550) |##                     | Elapsed Time: 0:00:57 ETA:   0:09:18"
     ]
    },
    {
     "name": "stdout",
     "output_type": "stream",
     "text": [
      "/home/elhamod/HGNN/data/INHS_cropped/images/INHS_FISH_73787_aug0.jpg saved!\n",
      "/home/elhamod/HGNN/data/INHS_cropped/images/INHS_FISH_73787_aug1.jpg saved!\n",
      "/home/elhamod/HGNN/data/INHS_cropped/images/INHS_FISH_73787_aug2.jpg saved!\n",
      "/home/elhamod/HGNN/data/INHS_cropped/images/INHS_FISH_73787_aug3.jpg saved!\n",
      "/home/elhamod/HGNN/data/INHS_cropped/images/INHS_FISH_73787_aug4.jpg saved!\n",
      "/home/elhamod/HGNN/data/INHS_cropped/images/INHS_FISH_73787_aug5.jpg saved!\n",
      "/home/elhamod/HGNN/data/INHS_cropped/images/INHS_FISH_73787_aug6.jpg saved!\n",
      "/home/elhamod/HGNN/data/INHS_cropped/images/INHS_FISH_73787_aug7.jpg saved!\n",
      "/home/elhamod/HGNN/data/INHS_cropped/images/INHS_FISH_73787_aug8.jpg saved!\n",
      "/home/elhamod/HGNN/data/INHS_cropped/images/INHS_FISH_73787_aug9.jpg saved!\n"
     ]
    },
    {
     "name": "stderr",
     "output_type": "stream",
     "text": [
      "\r",
      "  9% (52 of 550) |##                     | Elapsed Time: 0:00:58 ETA:   0:09:31"
     ]
    },
    {
     "name": "stdout",
     "output_type": "stream",
     "text": [
      "/home/elhamod/HGNN/data/INHS_cropped/images/INHS_FISH_77404_aug0.jpg saved!\n",
      "/home/elhamod/HGNN/data/INHS_cropped/images/INHS_FISH_77404_aug1.jpg saved!\n",
      "/home/elhamod/HGNN/data/INHS_cropped/images/INHS_FISH_77404_aug2.jpg saved!\n",
      "/home/elhamod/HGNN/data/INHS_cropped/images/INHS_FISH_77404_aug3.jpg saved!\n",
      "/home/elhamod/HGNN/data/INHS_cropped/images/INHS_FISH_77404_aug4.jpg saved!\n",
      "/home/elhamod/HGNN/data/INHS_cropped/images/INHS_FISH_77404_aug5.jpg saved!\n",
      "/home/elhamod/HGNN/data/INHS_cropped/images/INHS_FISH_77404_aug6.jpg saved!\n",
      "/home/elhamod/HGNN/data/INHS_cropped/images/INHS_FISH_77404_aug7.jpg saved!\n",
      "/home/elhamod/HGNN/data/INHS_cropped/images/INHS_FISH_77404_aug8.jpg saved!\n",
      "/home/elhamod/HGNN/data/INHS_cropped/images/INHS_FISH_77404_aug9.jpg saved!\n"
     ]
    },
    {
     "name": "stderr",
     "output_type": "stream",
     "text": [
      "\r",
      "  9% (53 of 550) |##                     | Elapsed Time: 0:00:59 ETA:   0:09:38"
     ]
    },
    {
     "name": "stdout",
     "output_type": "stream",
     "text": [
      "/home/elhamod/HGNN/data/INHS_cropped/images/INHS_FISH_91797_aug0.jpg saved!\n",
      "/home/elhamod/HGNN/data/INHS_cropped/images/INHS_FISH_91797_aug1.jpg saved!\n",
      "/home/elhamod/HGNN/data/INHS_cropped/images/INHS_FISH_91797_aug2.jpg saved!\n",
      "/home/elhamod/HGNN/data/INHS_cropped/images/INHS_FISH_91797_aug3.jpg saved!\n",
      "/home/elhamod/HGNN/data/INHS_cropped/images/INHS_FISH_91797_aug4.jpg saved!\n",
      "/home/elhamod/HGNN/data/INHS_cropped/images/INHS_FISH_91797_aug5.jpg saved!\n",
      "/home/elhamod/HGNN/data/INHS_cropped/images/INHS_FISH_91797_aug6.jpg saved!\n",
      "/home/elhamod/HGNN/data/INHS_cropped/images/INHS_FISH_91797_aug7.jpg saved!\n",
      "/home/elhamod/HGNN/data/INHS_cropped/images/INHS_FISH_91797_aug8.jpg saved!\n",
      "/home/elhamod/HGNN/data/INHS_cropped/images/INHS_FISH_91797_aug9.jpg saved!\n"
     ]
    },
    {
     "name": "stderr",
     "output_type": "stream",
     "text": [
      "\r",
      "  9% (54 of 550) |##                     | Elapsed Time: 0:01:00 ETA:   0:09:25"
     ]
    },
    {
     "name": "stdout",
     "output_type": "stream",
     "text": [
      "/home/elhamod/HGNN/data/INHS_cropped/images/INHS_FISH_106678_aug0.jpg saved!\n",
      "/home/elhamod/HGNN/data/INHS_cropped/images/INHS_FISH_106678_aug1.jpg saved!\n",
      "/home/elhamod/HGNN/data/INHS_cropped/images/INHS_FISH_106678_aug2.jpg saved!\n",
      "/home/elhamod/HGNN/data/INHS_cropped/images/INHS_FISH_106678_aug3.jpg saved!\n",
      "/home/elhamod/HGNN/data/INHS_cropped/images/INHS_FISH_106678_aug4.jpg saved!\n",
      "/home/elhamod/HGNN/data/INHS_cropped/images/INHS_FISH_106678_aug5.jpg saved!\n",
      "/home/elhamod/HGNN/data/INHS_cropped/images/INHS_FISH_106678_aug6.jpg saved!\n",
      "/home/elhamod/HGNN/data/INHS_cropped/images/INHS_FISH_106678_aug7.jpg saved!\n",
      "/home/elhamod/HGNN/data/INHS_cropped/images/INHS_FISH_106678_aug8.jpg saved!\n",
      "/home/elhamod/HGNN/data/INHS_cropped/images/INHS_FISH_106678_aug9.jpg saved!\n"
     ]
    },
    {
     "name": "stderr",
     "output_type": "stream",
     "text": [
      "\r",
      " 10% (55 of 550) |##                     | Elapsed Time: 0:01:01 ETA:   0:09:21"
     ]
    },
    {
     "name": "stdout",
     "output_type": "stream",
     "text": [
      "/home/elhamod/HGNN/data/INHS_cropped/images/INHS_FISH_32534_aug0.jpg saved!\n",
      "/home/elhamod/HGNN/data/INHS_cropped/images/INHS_FISH_32534_aug1.jpg saved!\n",
      "/home/elhamod/HGNN/data/INHS_cropped/images/INHS_FISH_32534_aug2.jpg saved!\n",
      "/home/elhamod/HGNN/data/INHS_cropped/images/INHS_FISH_32534_aug3.jpg saved!\n",
      "/home/elhamod/HGNN/data/INHS_cropped/images/INHS_FISH_32534_aug4.jpg saved!\n",
      "/home/elhamod/HGNN/data/INHS_cropped/images/INHS_FISH_32534_aug5.jpg saved!\n",
      "/home/elhamod/HGNN/data/INHS_cropped/images/INHS_FISH_32534_aug6.jpg saved!\n",
      "/home/elhamod/HGNN/data/INHS_cropped/images/INHS_FISH_32534_aug7.jpg saved!\n",
      "/home/elhamod/HGNN/data/INHS_cropped/images/INHS_FISH_32534_aug8.jpg saved!\n",
      "/home/elhamod/HGNN/data/INHS_cropped/images/INHS_FISH_32534_aug9.jpg saved!\n"
     ]
    },
    {
     "name": "stderr",
     "output_type": "stream",
     "text": [
      "\r",
      " 10% (56 of 550) |##                     | Elapsed Time: 0:01:03 ETA:   0:09:27"
     ]
    },
    {
     "name": "stdout",
     "output_type": "stream",
     "text": [
      "/home/elhamod/HGNN/data/INHS_cropped/images/INHS_FISH_47587_aug0.jpg saved!\n",
      "/home/elhamod/HGNN/data/INHS_cropped/images/INHS_FISH_47587_aug1.jpg saved!\n",
      "/home/elhamod/HGNN/data/INHS_cropped/images/INHS_FISH_47587_aug2.jpg saved!\n",
      "/home/elhamod/HGNN/data/INHS_cropped/images/INHS_FISH_47587_aug3.jpg saved!\n",
      "/home/elhamod/HGNN/data/INHS_cropped/images/INHS_FISH_47587_aug4.jpg saved!\n",
      "/home/elhamod/HGNN/data/INHS_cropped/images/INHS_FISH_47587_aug5.jpg saved!\n",
      "/home/elhamod/HGNN/data/INHS_cropped/images/INHS_FISH_47587_aug6.jpg saved!\n",
      "/home/elhamod/HGNN/data/INHS_cropped/images/INHS_FISH_47587_aug7.jpg saved!\n",
      "/home/elhamod/HGNN/data/INHS_cropped/images/INHS_FISH_47587_aug8.jpg saved!\n",
      "/home/elhamod/HGNN/data/INHS_cropped/images/INHS_FISH_47587_aug9.jpg saved!\n"
     ]
    },
    {
     "name": "stderr",
     "output_type": "stream",
     "text": [
      "\r",
      " 10% (57 of 550) |##                     | Elapsed Time: 0:01:04 ETA:   0:09:30"
     ]
    },
    {
     "name": "stdout",
     "output_type": "stream",
     "text": [
      "/home/elhamod/HGNN/data/INHS_cropped/images/INHS_FISH_63713_aug0.jpg saved!\n",
      "/home/elhamod/HGNN/data/INHS_cropped/images/INHS_FISH_63713_aug1.jpg saved!\n",
      "/home/elhamod/HGNN/data/INHS_cropped/images/INHS_FISH_63713_aug2.jpg saved!\n",
      "/home/elhamod/HGNN/data/INHS_cropped/images/INHS_FISH_63713_aug3.jpg saved!\n",
      "/home/elhamod/HGNN/data/INHS_cropped/images/INHS_FISH_63713_aug4.jpg saved!\n",
      "/home/elhamod/HGNN/data/INHS_cropped/images/INHS_FISH_63713_aug5.jpg saved!\n",
      "/home/elhamod/HGNN/data/INHS_cropped/images/INHS_FISH_63713_aug6.jpg saved!\n",
      "/home/elhamod/HGNN/data/INHS_cropped/images/INHS_FISH_63713_aug7.jpg saved!\n",
      "/home/elhamod/HGNN/data/INHS_cropped/images/INHS_FISH_63713_aug8.jpg saved!\n",
      "/home/elhamod/HGNN/data/INHS_cropped/images/INHS_FISH_63713_aug9.jpg saved!\n"
     ]
    },
    {
     "name": "stderr",
     "output_type": "stream",
     "text": [
      "\r",
      " 10% (58 of 550) |##                     | Elapsed Time: 0:01:05 ETA:   0:09:54"
     ]
    },
    {
     "name": "stdout",
     "output_type": "stream",
     "text": [
      "/home/elhamod/HGNN/data/INHS_cropped/images/INHS_FISH_13056_aug0.jpg saved!\n",
      "/home/elhamod/HGNN/data/INHS_cropped/images/INHS_FISH_13056_aug1.jpg saved!\n",
      "/home/elhamod/HGNN/data/INHS_cropped/images/INHS_FISH_13056_aug2.jpg saved!\n",
      "/home/elhamod/HGNN/data/INHS_cropped/images/INHS_FISH_13056_aug3.jpg saved!\n",
      "/home/elhamod/HGNN/data/INHS_cropped/images/INHS_FISH_13056_aug4.jpg saved!\n",
      "/home/elhamod/HGNN/data/INHS_cropped/images/INHS_FISH_13056_aug5.jpg saved!\n",
      "/home/elhamod/HGNN/data/INHS_cropped/images/INHS_FISH_13056_aug6.jpg saved!\n",
      "/home/elhamod/HGNN/data/INHS_cropped/images/INHS_FISH_13056_aug7.jpg saved!\n",
      "/home/elhamod/HGNN/data/INHS_cropped/images/INHS_FISH_13056_aug8.jpg saved!\n",
      "/home/elhamod/HGNN/data/INHS_cropped/images/INHS_FISH_13056_aug9.jpg saved!\n"
     ]
    },
    {
     "name": "stderr",
     "output_type": "stream",
     "text": [
      "\r",
      " 10% (59 of 550) |##                     | Elapsed Time: 0:01:06 ETA:   0:09:56"
     ]
    },
    {
     "name": "stdout",
     "output_type": "stream",
     "text": [
      "/home/elhamod/HGNN/data/INHS_cropped/images/INHS_FISH_32374_aug0.jpg saved!\n",
      "/home/elhamod/HGNN/data/INHS_cropped/images/INHS_FISH_32374_aug1.jpg saved!\n",
      "/home/elhamod/HGNN/data/INHS_cropped/images/INHS_FISH_32374_aug2.jpg saved!\n",
      "/home/elhamod/HGNN/data/INHS_cropped/images/INHS_FISH_32374_aug3.jpg saved!\n",
      "/home/elhamod/HGNN/data/INHS_cropped/images/INHS_FISH_32374_aug4.jpg saved!\n",
      "/home/elhamod/HGNN/data/INHS_cropped/images/INHS_FISH_32374_aug5.jpg saved!\n",
      "/home/elhamod/HGNN/data/INHS_cropped/images/INHS_FISH_32374_aug6.jpg saved!\n",
      "/home/elhamod/HGNN/data/INHS_cropped/images/INHS_FISH_32374_aug7.jpg saved!\n",
      "/home/elhamod/HGNN/data/INHS_cropped/images/INHS_FISH_32374_aug8.jpg saved!\n",
      "/home/elhamod/HGNN/data/INHS_cropped/images/INHS_FISH_32374_aug9.jpg saved!\n"
     ]
    },
    {
     "name": "stderr",
     "output_type": "stream",
     "text": [
      "\r",
      " 10% (60 of 550) |##                     | Elapsed Time: 0:01:07 ETA:   0:09:42"
     ]
    },
    {
     "name": "stdout",
     "output_type": "stream",
     "text": [
      "/home/elhamod/HGNN/data/INHS_cropped/images/INHS_FISH_52208_aug0.jpg saved!\n",
      "/home/elhamod/HGNN/data/INHS_cropped/images/INHS_FISH_52208_aug1.jpg saved!\n",
      "/home/elhamod/HGNN/data/INHS_cropped/images/INHS_FISH_52208_aug2.jpg saved!\n",
      "/home/elhamod/HGNN/data/INHS_cropped/images/INHS_FISH_52208_aug3.jpg saved!\n",
      "/home/elhamod/HGNN/data/INHS_cropped/images/INHS_FISH_52208_aug4.jpg saved!\n",
      "/home/elhamod/HGNN/data/INHS_cropped/images/INHS_FISH_52208_aug5.jpg saved!\n",
      "/home/elhamod/HGNN/data/INHS_cropped/images/INHS_FISH_52208_aug6.jpg saved!\n",
      "/home/elhamod/HGNN/data/INHS_cropped/images/INHS_FISH_52208_aug7.jpg saved!\n",
      "/home/elhamod/HGNN/data/INHS_cropped/images/INHS_FISH_52208_aug8.jpg saved!\n",
      "/home/elhamod/HGNN/data/INHS_cropped/images/INHS_FISH_52208_aug9.jpg saved!\n"
     ]
    },
    {
     "name": "stderr",
     "output_type": "stream",
     "text": [
      "\r",
      " 11% (61 of 550) |##                     | Elapsed Time: 0:01:09 ETA:   0:09:49"
     ]
    },
    {
     "name": "stdout",
     "output_type": "stream",
     "text": [
      "/home/elhamod/HGNN/data/INHS_cropped/images/INHS_FISH_91796_aug0.jpg saved!\n",
      "/home/elhamod/HGNN/data/INHS_cropped/images/INHS_FISH_91796_aug1.jpg saved!\n",
      "/home/elhamod/HGNN/data/INHS_cropped/images/INHS_FISH_91796_aug2.jpg saved!\n",
      "/home/elhamod/HGNN/data/INHS_cropped/images/INHS_FISH_91796_aug3.jpg saved!\n",
      "/home/elhamod/HGNN/data/INHS_cropped/images/INHS_FISH_91796_aug4.jpg saved!\n",
      "/home/elhamod/HGNN/data/INHS_cropped/images/INHS_FISH_91796_aug5.jpg saved!\n",
      "/home/elhamod/HGNN/data/INHS_cropped/images/INHS_FISH_91796_aug6.jpg saved!\n",
      "/home/elhamod/HGNN/data/INHS_cropped/images/INHS_FISH_91796_aug7.jpg saved!\n",
      "/home/elhamod/HGNN/data/INHS_cropped/images/INHS_FISH_91796_aug8.jpg saved!\n",
      "/home/elhamod/HGNN/data/INHS_cropped/images/INHS_FISH_91796_aug9.jpg saved!\n"
     ]
    },
    {
     "name": "stderr",
     "output_type": "stream",
     "text": [
      "\r",
      " 11% (62 of 550) |##                     | Elapsed Time: 0:01:10 ETA:   0:09:44"
     ]
    },
    {
     "name": "stdout",
     "output_type": "stream",
     "text": [
      "/home/elhamod/HGNN/data/INHS_cropped/images/INHS_FISH_19369_aug0.jpg saved!\n",
      "/home/elhamod/HGNN/data/INHS_cropped/images/INHS_FISH_19369_aug1.jpg saved!\n",
      "/home/elhamod/HGNN/data/INHS_cropped/images/INHS_FISH_19369_aug2.jpg saved!\n",
      "/home/elhamod/HGNN/data/INHS_cropped/images/INHS_FISH_19369_aug3.jpg saved!\n",
      "/home/elhamod/HGNN/data/INHS_cropped/images/INHS_FISH_19369_aug4.jpg saved!\n",
      "/home/elhamod/HGNN/data/INHS_cropped/images/INHS_FISH_19369_aug5.jpg saved!\n",
      "/home/elhamod/HGNN/data/INHS_cropped/images/INHS_FISH_19369_aug6.jpg saved!\n",
      "/home/elhamod/HGNN/data/INHS_cropped/images/INHS_FISH_19369_aug7.jpg saved!\n",
      "/home/elhamod/HGNN/data/INHS_cropped/images/INHS_FISH_19369_aug8.jpg saved!\n",
      "/home/elhamod/HGNN/data/INHS_cropped/images/INHS_FISH_19369_aug9.jpg saved!\n"
     ]
    },
    {
     "name": "stderr",
     "output_type": "stream",
     "text": [
      "\r",
      " 11% (63 of 550) |##                     | Elapsed Time: 0:01:11 ETA:   0:09:29"
     ]
    },
    {
     "name": "stdout",
     "output_type": "stream",
     "text": [
      "/home/elhamod/HGNN/data/INHS_cropped/images/INHS_FISH_89189_aug0.jpg saved!\n",
      "/home/elhamod/HGNN/data/INHS_cropped/images/INHS_FISH_89189_aug1.jpg saved!\n",
      "/home/elhamod/HGNN/data/INHS_cropped/images/INHS_FISH_89189_aug2.jpg saved!\n",
      "/home/elhamod/HGNN/data/INHS_cropped/images/INHS_FISH_89189_aug3.jpg saved!\n",
      "/home/elhamod/HGNN/data/INHS_cropped/images/INHS_FISH_89189_aug4.jpg saved!\n",
      "/home/elhamod/HGNN/data/INHS_cropped/images/INHS_FISH_89189_aug5.jpg saved!\n",
      "/home/elhamod/HGNN/data/INHS_cropped/images/INHS_FISH_89189_aug6.jpg saved!\n",
      "/home/elhamod/HGNN/data/INHS_cropped/images/INHS_FISH_89189_aug7.jpg saved!\n",
      "/home/elhamod/HGNN/data/INHS_cropped/images/INHS_FISH_89189_aug8.jpg saved!\n",
      "/home/elhamod/HGNN/data/INHS_cropped/images/INHS_FISH_89189_aug9.jpg saved!\n"
     ]
    },
    {
     "name": "stderr",
     "output_type": "stream",
     "text": [
      "\r",
      " 11% (64 of 550) |##                     | Elapsed Time: 0:01:12 ETA:   0:09:22"
     ]
    },
    {
     "name": "stdout",
     "output_type": "stream",
     "text": [
      "/home/elhamod/HGNN/data/INHS_cropped/images/INHS_FISH_95977_aug0.jpg saved!\n",
      "/home/elhamod/HGNN/data/INHS_cropped/images/INHS_FISH_95977_aug1.jpg saved!\n",
      "/home/elhamod/HGNN/data/INHS_cropped/images/INHS_FISH_95977_aug2.jpg saved!\n",
      "/home/elhamod/HGNN/data/INHS_cropped/images/INHS_FISH_95977_aug3.jpg saved!\n",
      "/home/elhamod/HGNN/data/INHS_cropped/images/INHS_FISH_95977_aug4.jpg saved!\n",
      "/home/elhamod/HGNN/data/INHS_cropped/images/INHS_FISH_95977_aug5.jpg saved!\n",
      "/home/elhamod/HGNN/data/INHS_cropped/images/INHS_FISH_95977_aug6.jpg saved!\n",
      "/home/elhamod/HGNN/data/INHS_cropped/images/INHS_FISH_95977_aug7.jpg saved!\n",
      "/home/elhamod/HGNN/data/INHS_cropped/images/INHS_FISH_95977_aug8.jpg saved!\n",
      "/home/elhamod/HGNN/data/INHS_cropped/images/INHS_FISH_95977_aug9.jpg saved!\n"
     ]
    },
    {
     "name": "stderr",
     "output_type": "stream",
     "text": [
      "\r",
      " 11% (65 of 550) |##                     | Elapsed Time: 0:01:13 ETA:   0:09:17"
     ]
    },
    {
     "name": "stdout",
     "output_type": "stream",
     "text": [
      "/home/elhamod/HGNN/data/INHS_cropped/images/INHS_FISH_18909_aug0.jpg saved!\n",
      "/home/elhamod/HGNN/data/INHS_cropped/images/INHS_FISH_18909_aug1.jpg saved!\n",
      "/home/elhamod/HGNN/data/INHS_cropped/images/INHS_FISH_18909_aug2.jpg saved!\n",
      "/home/elhamod/HGNN/data/INHS_cropped/images/INHS_FISH_18909_aug3.jpg saved!\n",
      "/home/elhamod/HGNN/data/INHS_cropped/images/INHS_FISH_18909_aug4.jpg saved!\n",
      "/home/elhamod/HGNN/data/INHS_cropped/images/INHS_FISH_18909_aug5.jpg saved!\n",
      "/home/elhamod/HGNN/data/INHS_cropped/images/INHS_FISH_18909_aug6.jpg saved!\n",
      "/home/elhamod/HGNN/data/INHS_cropped/images/INHS_FISH_18909_aug7.jpg saved!\n",
      "/home/elhamod/HGNN/data/INHS_cropped/images/INHS_FISH_18909_aug8.jpg saved!\n",
      "/home/elhamod/HGNN/data/INHS_cropped/images/INHS_FISH_18909_aug9.jpg saved!\n"
     ]
    },
    {
     "name": "stderr",
     "output_type": "stream",
     "text": [
      "\r",
      " 12% (66 of 550) |##                     | Elapsed Time: 0:01:14 ETA:   0:09:05"
     ]
    },
    {
     "name": "stdout",
     "output_type": "stream",
     "text": [
      "/home/elhamod/HGNN/data/INHS_cropped/images/INHS_FISH_42897_aug0.jpg saved!\n",
      "/home/elhamod/HGNN/data/INHS_cropped/images/INHS_FISH_42897_aug1.jpg saved!\n",
      "/home/elhamod/HGNN/data/INHS_cropped/images/INHS_FISH_42897_aug2.jpg saved!\n",
      "/home/elhamod/HGNN/data/INHS_cropped/images/INHS_FISH_42897_aug3.jpg saved!\n",
      "/home/elhamod/HGNN/data/INHS_cropped/images/INHS_FISH_42897_aug4.jpg saved!\n",
      "/home/elhamod/HGNN/data/INHS_cropped/images/INHS_FISH_42897_aug5.jpg saved!\n",
      "/home/elhamod/HGNN/data/INHS_cropped/images/INHS_FISH_42897_aug6.jpg saved!\n",
      "/home/elhamod/HGNN/data/INHS_cropped/images/INHS_FISH_42897_aug7.jpg saved!\n",
      "/home/elhamod/HGNN/data/INHS_cropped/images/INHS_FISH_42897_aug8.jpg saved!\n",
      "/home/elhamod/HGNN/data/INHS_cropped/images/INHS_FISH_42897_aug9.jpg saved!\n"
     ]
    },
    {
     "name": "stderr",
     "output_type": "stream",
     "text": [
      "\r",
      " 12% (67 of 550) |##                     | Elapsed Time: 0:01:15 ETA:   0:09:06"
     ]
    },
    {
     "name": "stdout",
     "output_type": "stream",
     "text": [
      "/home/elhamod/HGNN/data/INHS_cropped/images/INHS_FISH_12930_aug0.jpg saved!\n",
      "/home/elhamod/HGNN/data/INHS_cropped/images/INHS_FISH_12930_aug1.jpg saved!\n",
      "/home/elhamod/HGNN/data/INHS_cropped/images/INHS_FISH_12930_aug2.jpg saved!\n",
      "/home/elhamod/HGNN/data/INHS_cropped/images/INHS_FISH_12930_aug3.jpg saved!\n",
      "/home/elhamod/HGNN/data/INHS_cropped/images/INHS_FISH_12930_aug4.jpg saved!\n",
      "/home/elhamod/HGNN/data/INHS_cropped/images/INHS_FISH_12930_aug5.jpg saved!\n",
      "/home/elhamod/HGNN/data/INHS_cropped/images/INHS_FISH_12930_aug6.jpg saved!\n",
      "/home/elhamod/HGNN/data/INHS_cropped/images/INHS_FISH_12930_aug7.jpg saved!\n",
      "/home/elhamod/HGNN/data/INHS_cropped/images/INHS_FISH_12930_aug8.jpg saved!\n",
      "/home/elhamod/HGNN/data/INHS_cropped/images/INHS_FISH_12930_aug9.jpg saved!\n"
     ]
    },
    {
     "name": "stderr",
     "output_type": "stream",
     "text": [
      "\r",
      " 12% (68 of 550) |##                     | Elapsed Time: 0:01:17 ETA:   0:09:05"
     ]
    },
    {
     "name": "stdout",
     "output_type": "stream",
     "text": [
      "/home/elhamod/HGNN/data/INHS_cropped/images/INHS_FISH_58307_aug0.jpg saved!\n",
      "/home/elhamod/HGNN/data/INHS_cropped/images/INHS_FISH_58307_aug1.jpg saved!\n",
      "/home/elhamod/HGNN/data/INHS_cropped/images/INHS_FISH_58307_aug2.jpg saved!\n",
      "/home/elhamod/HGNN/data/INHS_cropped/images/INHS_FISH_58307_aug3.jpg saved!\n",
      "/home/elhamod/HGNN/data/INHS_cropped/images/INHS_FISH_58307_aug4.jpg saved!\n",
      "/home/elhamod/HGNN/data/INHS_cropped/images/INHS_FISH_58307_aug5.jpg saved!\n",
      "/home/elhamod/HGNN/data/INHS_cropped/images/INHS_FISH_58307_aug6.jpg saved!\n",
      "/home/elhamod/HGNN/data/INHS_cropped/images/INHS_FISH_58307_aug7.jpg saved!\n",
      "/home/elhamod/HGNN/data/INHS_cropped/images/INHS_FISH_58307_aug8.jpg saved!\n",
      "/home/elhamod/HGNN/data/INHS_cropped/images/INHS_FISH_58307_aug9.jpg saved!\n"
     ]
    },
    {
     "name": "stderr",
     "output_type": "stream",
     "text": [
      "\r",
      " 12% (69 of 550) |##                     | Elapsed Time: 0:01:18 ETA:   0:09:00"
     ]
    },
    {
     "name": "stdout",
     "output_type": "stream",
     "text": [
      "/home/elhamod/HGNN/data/INHS_cropped/images/INHS_FISH_27196_aug0.jpg saved!\n",
      "/home/elhamod/HGNN/data/INHS_cropped/images/INHS_FISH_27196_aug1.jpg saved!\n",
      "/home/elhamod/HGNN/data/INHS_cropped/images/INHS_FISH_27196_aug2.jpg saved!\n",
      "/home/elhamod/HGNN/data/INHS_cropped/images/INHS_FISH_27196_aug3.jpg saved!\n",
      "/home/elhamod/HGNN/data/INHS_cropped/images/INHS_FISH_27196_aug4.jpg saved!\n",
      "/home/elhamod/HGNN/data/INHS_cropped/images/INHS_FISH_27196_aug5.jpg saved!\n",
      "/home/elhamod/HGNN/data/INHS_cropped/images/INHS_FISH_27196_aug6.jpg saved!\n",
      "/home/elhamod/HGNN/data/INHS_cropped/images/INHS_FISH_27196_aug7.jpg saved!\n",
      "/home/elhamod/HGNN/data/INHS_cropped/images/INHS_FISH_27196_aug8.jpg saved!\n",
      "/home/elhamod/HGNN/data/INHS_cropped/images/INHS_FISH_27196_aug9.jpg saved!\n"
     ]
    },
    {
     "name": "stderr",
     "output_type": "stream",
     "text": [
      "\r",
      " 12% (70 of 550) |##                     | Elapsed Time: 0:01:19 ETA:   0:09:00"
     ]
    },
    {
     "name": "stdout",
     "output_type": "stream",
     "text": [
      "/home/elhamod/HGNN/data/INHS_cropped/images/INHS_FISH_47068_aug0.jpg saved!\n",
      "/home/elhamod/HGNN/data/INHS_cropped/images/INHS_FISH_47068_aug1.jpg saved!\n",
      "/home/elhamod/HGNN/data/INHS_cropped/images/INHS_FISH_47068_aug2.jpg saved!\n",
      "/home/elhamod/HGNN/data/INHS_cropped/images/INHS_FISH_47068_aug3.jpg saved!\n",
      "/home/elhamod/HGNN/data/INHS_cropped/images/INHS_FISH_47068_aug4.jpg saved!\n",
      "/home/elhamod/HGNN/data/INHS_cropped/images/INHS_FISH_47068_aug5.jpg saved!\n",
      "/home/elhamod/HGNN/data/INHS_cropped/images/INHS_FISH_47068_aug6.jpg saved!\n",
      "/home/elhamod/HGNN/data/INHS_cropped/images/INHS_FISH_47068_aug7.jpg saved!\n",
      "/home/elhamod/HGNN/data/INHS_cropped/images/INHS_FISH_47068_aug8.jpg saved!\n",
      "/home/elhamod/HGNN/data/INHS_cropped/images/INHS_FISH_47068_aug9.jpg saved!\n"
     ]
    },
    {
     "name": "stderr",
     "output_type": "stream",
     "text": [
      "\r",
      " 12% (71 of 550) |##                     | Elapsed Time: 0:01:20 ETA:   0:09:01"
     ]
    },
    {
     "name": "stdout",
     "output_type": "stream",
     "text": [
      "/home/elhamod/HGNN/data/INHS_cropped/images/INHS_FISH_108764_aug0.jpg saved!\n",
      "/home/elhamod/HGNN/data/INHS_cropped/images/INHS_FISH_108764_aug1.jpg saved!\n",
      "/home/elhamod/HGNN/data/INHS_cropped/images/INHS_FISH_108764_aug2.jpg saved!\n",
      "/home/elhamod/HGNN/data/INHS_cropped/images/INHS_FISH_108764_aug3.jpg saved!\n",
      "/home/elhamod/HGNN/data/INHS_cropped/images/INHS_FISH_108764_aug4.jpg saved!\n",
      "/home/elhamod/HGNN/data/INHS_cropped/images/INHS_FISH_108764_aug5.jpg saved!\n",
      "/home/elhamod/HGNN/data/INHS_cropped/images/INHS_FISH_108764_aug6.jpg saved!\n",
      "/home/elhamod/HGNN/data/INHS_cropped/images/INHS_FISH_108764_aug7.jpg saved!\n",
      "/home/elhamod/HGNN/data/INHS_cropped/images/INHS_FISH_108764_aug8.jpg saved!\n",
      "/home/elhamod/HGNN/data/INHS_cropped/images/INHS_FISH_108764_aug9.jpg saved!\n"
     ]
    },
    {
     "name": "stderr",
     "output_type": "stream",
     "text": [
      "\r",
      " 13% (72 of 550) |###                    | Elapsed Time: 0:01:21 ETA:   0:09:07"
     ]
    },
    {
     "name": "stdout",
     "output_type": "stream",
     "text": [
      "/home/elhamod/HGNN/data/INHS_cropped/images/INHS_FISH_46991_aug0.jpg saved!\n",
      "/home/elhamod/HGNN/data/INHS_cropped/images/INHS_FISH_46991_aug1.jpg saved!\n",
      "/home/elhamod/HGNN/data/INHS_cropped/images/INHS_FISH_46991_aug2.jpg saved!\n",
      "/home/elhamod/HGNN/data/INHS_cropped/images/INHS_FISH_46991_aug3.jpg saved!\n",
      "/home/elhamod/HGNN/data/INHS_cropped/images/INHS_FISH_46991_aug4.jpg saved!\n",
      "/home/elhamod/HGNN/data/INHS_cropped/images/INHS_FISH_46991_aug5.jpg saved!\n",
      "/home/elhamod/HGNN/data/INHS_cropped/images/INHS_FISH_46991_aug6.jpg saved!\n",
      "/home/elhamod/HGNN/data/INHS_cropped/images/INHS_FISH_46991_aug7.jpg saved!\n",
      "/home/elhamod/HGNN/data/INHS_cropped/images/INHS_FISH_46991_aug8.jpg saved!\n",
      "/home/elhamod/HGNN/data/INHS_cropped/images/INHS_FISH_46991_aug9.jpg saved!\n"
     ]
    },
    {
     "name": "stderr",
     "output_type": "stream",
     "text": [
      "\r",
      " 13% (73 of 550) |###                    | Elapsed Time: 0:01:22 ETA:   0:09:04"
     ]
    },
    {
     "name": "stdout",
     "output_type": "stream",
     "text": [
      "/home/elhamod/HGNN/data/INHS_cropped/images/INHS_FISH_59564_aug0.jpg saved!\n",
      "/home/elhamod/HGNN/data/INHS_cropped/images/INHS_FISH_59564_aug1.jpg saved!\n",
      "/home/elhamod/HGNN/data/INHS_cropped/images/INHS_FISH_59564_aug2.jpg saved!\n",
      "/home/elhamod/HGNN/data/INHS_cropped/images/INHS_FISH_59564_aug3.jpg saved!\n",
      "/home/elhamod/HGNN/data/INHS_cropped/images/INHS_FISH_59564_aug4.jpg saved!\n",
      "/home/elhamod/HGNN/data/INHS_cropped/images/INHS_FISH_59564_aug5.jpg saved!\n",
      "/home/elhamod/HGNN/data/INHS_cropped/images/INHS_FISH_59564_aug6.jpg saved!\n",
      "/home/elhamod/HGNN/data/INHS_cropped/images/INHS_FISH_59564_aug7.jpg saved!\n",
      "/home/elhamod/HGNN/data/INHS_cropped/images/INHS_FISH_59564_aug8.jpg saved!\n",
      "/home/elhamod/HGNN/data/INHS_cropped/images/INHS_FISH_59564_aug9.jpg saved!\n"
     ]
    },
    {
     "name": "stderr",
     "output_type": "stream",
     "text": [
      "\r",
      " 13% (74 of 550) |###                    | Elapsed Time: 0:01:23 ETA:   0:08:56"
     ]
    },
    {
     "name": "stdout",
     "output_type": "stream",
     "text": [
      "/home/elhamod/HGNN/data/INHS_cropped/images/INHS_FISH_25087_aug0.jpg saved!\n",
      "/home/elhamod/HGNN/data/INHS_cropped/images/INHS_FISH_25087_aug1.jpg saved!\n",
      "/home/elhamod/HGNN/data/INHS_cropped/images/INHS_FISH_25087_aug2.jpg saved!\n",
      "/home/elhamod/HGNN/data/INHS_cropped/images/INHS_FISH_25087_aug3.jpg saved!\n",
      "/home/elhamod/HGNN/data/INHS_cropped/images/INHS_FISH_25087_aug4.jpg saved!\n",
      "/home/elhamod/HGNN/data/INHS_cropped/images/INHS_FISH_25087_aug5.jpg saved!\n",
      "/home/elhamod/HGNN/data/INHS_cropped/images/INHS_FISH_25087_aug6.jpg saved!\n",
      "/home/elhamod/HGNN/data/INHS_cropped/images/INHS_FISH_25087_aug7.jpg saved!\n",
      "/home/elhamod/HGNN/data/INHS_cropped/images/INHS_FISH_25087_aug8.jpg saved!\n",
      "/home/elhamod/HGNN/data/INHS_cropped/images/INHS_FISH_25087_aug9.jpg saved!\n"
     ]
    },
    {
     "name": "stderr",
     "output_type": "stream",
     "text": [
      "\r",
      " 13% (75 of 550) |###                    | Elapsed Time: 0:01:25 ETA:   0:08:58"
     ]
    },
    {
     "name": "stdout",
     "output_type": "stream",
     "text": [
      "/home/elhamod/HGNN/data/INHS_cropped/images/INHS_FISH_51439_aug0.jpg saved!\n",
      "/home/elhamod/HGNN/data/INHS_cropped/images/INHS_FISH_51439_aug1.jpg saved!\n",
      "/home/elhamod/HGNN/data/INHS_cropped/images/INHS_FISH_51439_aug2.jpg saved!\n",
      "/home/elhamod/HGNN/data/INHS_cropped/images/INHS_FISH_51439_aug3.jpg saved!\n",
      "/home/elhamod/HGNN/data/INHS_cropped/images/INHS_FISH_51439_aug4.jpg saved!\n",
      "/home/elhamod/HGNN/data/INHS_cropped/images/INHS_FISH_51439_aug5.jpg saved!\n",
      "/home/elhamod/HGNN/data/INHS_cropped/images/INHS_FISH_51439_aug6.jpg saved!\n",
      "/home/elhamod/HGNN/data/INHS_cropped/images/INHS_FISH_51439_aug7.jpg saved!\n",
      "/home/elhamod/HGNN/data/INHS_cropped/images/INHS_FISH_51439_aug8.jpg saved!\n",
      "/home/elhamod/HGNN/data/INHS_cropped/images/INHS_FISH_51439_aug9.jpg saved!\n"
     ]
    },
    {
     "name": "stderr",
     "output_type": "stream",
     "text": [
      "\r",
      " 13% (76 of 550) |###                    | Elapsed Time: 0:01:26 ETA:   0:09:11"
     ]
    },
    {
     "name": "stdout",
     "output_type": "stream",
     "text": [
      "/home/elhamod/HGNN/data/INHS_cropped/images/INHS_FISH_25607_aug0.jpg saved!\n",
      "/home/elhamod/HGNN/data/INHS_cropped/images/INHS_FISH_25607_aug1.jpg saved!\n",
      "/home/elhamod/HGNN/data/INHS_cropped/images/INHS_FISH_25607_aug2.jpg saved!\n",
      "/home/elhamod/HGNN/data/INHS_cropped/images/INHS_FISH_25607_aug3.jpg saved!\n",
      "/home/elhamod/HGNN/data/INHS_cropped/images/INHS_FISH_25607_aug4.jpg saved!\n",
      "/home/elhamod/HGNN/data/INHS_cropped/images/INHS_FISH_25607_aug5.jpg saved!\n",
      "/home/elhamod/HGNN/data/INHS_cropped/images/INHS_FISH_25607_aug6.jpg saved!\n",
      "/home/elhamod/HGNN/data/INHS_cropped/images/INHS_FISH_25607_aug7.jpg saved!\n",
      "/home/elhamod/HGNN/data/INHS_cropped/images/INHS_FISH_25607_aug8.jpg saved!\n",
      "/home/elhamod/HGNN/data/INHS_cropped/images/INHS_FISH_25607_aug9.jpg saved!\n"
     ]
    },
    {
     "name": "stderr",
     "output_type": "stream",
     "text": [
      "\r",
      " 14% (77 of 550) |###                    | Elapsed Time: 0:01:27 ETA:   0:09:11"
     ]
    },
    {
     "name": "stdout",
     "output_type": "stream",
     "text": [
      "/home/elhamod/HGNN/data/INHS_cropped/images/INHS_FISH_26197_aug0.jpg saved!\n",
      "/home/elhamod/HGNN/data/INHS_cropped/images/INHS_FISH_26197_aug1.jpg saved!\n",
      "/home/elhamod/HGNN/data/INHS_cropped/images/INHS_FISH_26197_aug2.jpg saved!\n",
      "/home/elhamod/HGNN/data/INHS_cropped/images/INHS_FISH_26197_aug3.jpg saved!\n",
      "/home/elhamod/HGNN/data/INHS_cropped/images/INHS_FISH_26197_aug4.jpg saved!\n",
      "/home/elhamod/HGNN/data/INHS_cropped/images/INHS_FISH_26197_aug5.jpg saved!\n",
      "/home/elhamod/HGNN/data/INHS_cropped/images/INHS_FISH_26197_aug6.jpg saved!\n",
      "/home/elhamod/HGNN/data/INHS_cropped/images/INHS_FISH_26197_aug7.jpg saved!\n",
      "/home/elhamod/HGNN/data/INHS_cropped/images/INHS_FISH_26197_aug8.jpg saved!\n",
      "/home/elhamod/HGNN/data/INHS_cropped/images/INHS_FISH_26197_aug9.jpg saved!\n"
     ]
    },
    {
     "name": "stderr",
     "output_type": "stream",
     "text": [
      "\r",
      " 14% (78 of 550) |###                    | Elapsed Time: 0:01:28 ETA:   0:09:14"
     ]
    },
    {
     "name": "stdout",
     "output_type": "stream",
     "text": [
      "/home/elhamod/HGNN/data/INHS_cropped/images/INHS_FISH_74146_aug0.jpg saved!\n",
      "/home/elhamod/HGNN/data/INHS_cropped/images/INHS_FISH_74146_aug1.jpg saved!\n",
      "/home/elhamod/HGNN/data/INHS_cropped/images/INHS_FISH_74146_aug2.jpg saved!\n",
      "/home/elhamod/HGNN/data/INHS_cropped/images/INHS_FISH_74146_aug3.jpg saved!\n",
      "/home/elhamod/HGNN/data/INHS_cropped/images/INHS_FISH_74146_aug4.jpg saved!\n",
      "/home/elhamod/HGNN/data/INHS_cropped/images/INHS_FISH_74146_aug5.jpg saved!\n",
      "/home/elhamod/HGNN/data/INHS_cropped/images/INHS_FISH_74146_aug6.jpg saved!\n",
      "/home/elhamod/HGNN/data/INHS_cropped/images/INHS_FISH_74146_aug7.jpg saved!\n",
      "/home/elhamod/HGNN/data/INHS_cropped/images/INHS_FISH_74146_aug8.jpg saved!\n",
      "/home/elhamod/HGNN/data/INHS_cropped/images/INHS_FISH_74146_aug9.jpg saved!\n"
     ]
    },
    {
     "name": "stderr",
     "output_type": "stream",
     "text": [
      "\r",
      " 14% (79 of 550) |###                    | Elapsed Time: 0:01:29 ETA:   0:09:10"
     ]
    },
    {
     "name": "stdout",
     "output_type": "stream",
     "text": [
      "/home/elhamod/HGNN/data/INHS_cropped/images/INHS_FISH_805_aug0.jpg saved!\n",
      "/home/elhamod/HGNN/data/INHS_cropped/images/INHS_FISH_805_aug1.jpg saved!\n",
      "/home/elhamod/HGNN/data/INHS_cropped/images/INHS_FISH_805_aug2.jpg saved!\n",
      "/home/elhamod/HGNN/data/INHS_cropped/images/INHS_FISH_805_aug3.jpg saved!\n",
      "/home/elhamod/HGNN/data/INHS_cropped/images/INHS_FISH_805_aug4.jpg saved!\n",
      "/home/elhamod/HGNN/data/INHS_cropped/images/INHS_FISH_805_aug5.jpg saved!\n",
      "/home/elhamod/HGNN/data/INHS_cropped/images/INHS_FISH_805_aug6.jpg saved!\n",
      "/home/elhamod/HGNN/data/INHS_cropped/images/INHS_FISH_805_aug7.jpg saved!\n",
      "/home/elhamod/HGNN/data/INHS_cropped/images/INHS_FISH_805_aug8.jpg saved!\n",
      "/home/elhamod/HGNN/data/INHS_cropped/images/INHS_FISH_805_aug9.jpg saved!\n"
     ]
    },
    {
     "name": "stderr",
     "output_type": "stream",
     "text": [
      "\r",
      " 14% (80 of 550) |###                    | Elapsed Time: 0:01:30 ETA:   0:08:57"
     ]
    },
    {
     "name": "stdout",
     "output_type": "stream",
     "text": [
      "/home/elhamod/HGNN/data/INHS_cropped/images/INHS_FISH_37733_aug0.jpg saved!\n",
      "/home/elhamod/HGNN/data/INHS_cropped/images/INHS_FISH_37733_aug1.jpg saved!\n",
      "/home/elhamod/HGNN/data/INHS_cropped/images/INHS_FISH_37733_aug2.jpg saved!\n",
      "/home/elhamod/HGNN/data/INHS_cropped/images/INHS_FISH_37733_aug3.jpg saved!\n",
      "/home/elhamod/HGNN/data/INHS_cropped/images/INHS_FISH_37733_aug4.jpg saved!\n",
      "/home/elhamod/HGNN/data/INHS_cropped/images/INHS_FISH_37733_aug5.jpg saved!\n",
      "/home/elhamod/HGNN/data/INHS_cropped/images/INHS_FISH_37733_aug6.jpg saved!\n",
      "/home/elhamod/HGNN/data/INHS_cropped/images/INHS_FISH_37733_aug7.jpg saved!\n",
      "/home/elhamod/HGNN/data/INHS_cropped/images/INHS_FISH_37733_aug8.jpg saved!\n",
      "/home/elhamod/HGNN/data/INHS_cropped/images/INHS_FISH_37733_aug9.jpg saved!\n"
     ]
    },
    {
     "name": "stderr",
     "output_type": "stream",
     "text": [
      "\r",
      " 14% (81 of 550) |###                    | Elapsed Time: 0:01:32 ETA:   0:08:55"
     ]
    },
    {
     "name": "stdout",
     "output_type": "stream",
     "text": [
      "/home/elhamod/HGNN/data/INHS_cropped/images/INHS_FISH_86437_aug0.jpg saved!\n",
      "/home/elhamod/HGNN/data/INHS_cropped/images/INHS_FISH_86437_aug1.jpg saved!\n",
      "/home/elhamod/HGNN/data/INHS_cropped/images/INHS_FISH_86437_aug2.jpg saved!\n",
      "/home/elhamod/HGNN/data/INHS_cropped/images/INHS_FISH_86437_aug3.jpg saved!\n",
      "/home/elhamod/HGNN/data/INHS_cropped/images/INHS_FISH_86437_aug4.jpg saved!\n",
      "/home/elhamod/HGNN/data/INHS_cropped/images/INHS_FISH_86437_aug5.jpg saved!\n",
      "/home/elhamod/HGNN/data/INHS_cropped/images/INHS_FISH_86437_aug6.jpg saved!\n",
      "/home/elhamod/HGNN/data/INHS_cropped/images/INHS_FISH_86437_aug7.jpg saved!\n",
      "/home/elhamod/HGNN/data/INHS_cropped/images/INHS_FISH_86437_aug8.jpg saved!\n",
      "/home/elhamod/HGNN/data/INHS_cropped/images/INHS_FISH_86437_aug9.jpg saved!\n"
     ]
    },
    {
     "name": "stderr",
     "output_type": "stream",
     "text": [
      "\r",
      " 14% (82 of 550) |###                    | Elapsed Time: 0:01:33 ETA:   0:08:55"
     ]
    },
    {
     "name": "stdout",
     "output_type": "stream",
     "text": [
      "/home/elhamod/HGNN/data/INHS_cropped/images/INHS_FISH_96007_aug0.jpg saved!\n",
      "/home/elhamod/HGNN/data/INHS_cropped/images/INHS_FISH_96007_aug1.jpg saved!\n",
      "/home/elhamod/HGNN/data/INHS_cropped/images/INHS_FISH_96007_aug2.jpg saved!\n",
      "/home/elhamod/HGNN/data/INHS_cropped/images/INHS_FISH_96007_aug3.jpg saved!\n",
      "/home/elhamod/HGNN/data/INHS_cropped/images/INHS_FISH_96007_aug4.jpg saved!\n",
      "/home/elhamod/HGNN/data/INHS_cropped/images/INHS_FISH_96007_aug5.jpg saved!\n",
      "/home/elhamod/HGNN/data/INHS_cropped/images/INHS_FISH_96007_aug6.jpg saved!\n",
      "/home/elhamod/HGNN/data/INHS_cropped/images/INHS_FISH_96007_aug7.jpg saved!\n",
      "/home/elhamod/HGNN/data/INHS_cropped/images/INHS_FISH_96007_aug8.jpg saved!\n",
      "/home/elhamod/HGNN/data/INHS_cropped/images/INHS_FISH_96007_aug9.jpg saved!\n"
     ]
    },
    {
     "name": "stderr",
     "output_type": "stream",
     "text": [
      "\r",
      " 15% (83 of 550) |###                    | Elapsed Time: 0:01:34 ETA:   0:09:03"
     ]
    },
    {
     "name": "stdout",
     "output_type": "stream",
     "text": [
      "/home/elhamod/HGNN/data/INHS_cropped/images/INHS_FISH_9867_aug0.jpg saved!\n",
      "/home/elhamod/HGNN/data/INHS_cropped/images/INHS_FISH_9867_aug1.jpg saved!\n",
      "/home/elhamod/HGNN/data/INHS_cropped/images/INHS_FISH_9867_aug2.jpg saved!\n",
      "/home/elhamod/HGNN/data/INHS_cropped/images/INHS_FISH_9867_aug3.jpg saved!\n",
      "/home/elhamod/HGNN/data/INHS_cropped/images/INHS_FISH_9867_aug4.jpg saved!\n",
      "/home/elhamod/HGNN/data/INHS_cropped/images/INHS_FISH_9867_aug5.jpg saved!\n",
      "/home/elhamod/HGNN/data/INHS_cropped/images/INHS_FISH_9867_aug6.jpg saved!\n",
      "/home/elhamod/HGNN/data/INHS_cropped/images/INHS_FISH_9867_aug7.jpg saved!\n",
      "/home/elhamod/HGNN/data/INHS_cropped/images/INHS_FISH_9867_aug8.jpg saved!\n",
      "/home/elhamod/HGNN/data/INHS_cropped/images/INHS_FISH_9867_aug9.jpg saved!\n"
     ]
    },
    {
     "name": "stderr",
     "output_type": "stream",
     "text": [
      "\r",
      " 15% (84 of 550) |###                    | Elapsed Time: 0:01:35 ETA:   0:09:09"
     ]
    },
    {
     "name": "stdout",
     "output_type": "stream",
     "text": [
      "/home/elhamod/HGNN/data/INHS_cropped/images/INHS_FISH_47662_aug0.jpg saved!\n",
      "/home/elhamod/HGNN/data/INHS_cropped/images/INHS_FISH_47662_aug1.jpg saved!\n",
      "/home/elhamod/HGNN/data/INHS_cropped/images/INHS_FISH_47662_aug2.jpg saved!\n",
      "/home/elhamod/HGNN/data/INHS_cropped/images/INHS_FISH_47662_aug3.jpg saved!\n",
      "/home/elhamod/HGNN/data/INHS_cropped/images/INHS_FISH_47662_aug4.jpg saved!\n",
      "/home/elhamod/HGNN/data/INHS_cropped/images/INHS_FISH_47662_aug5.jpg saved!\n",
      "/home/elhamod/HGNN/data/INHS_cropped/images/INHS_FISH_47662_aug6.jpg saved!\n",
      "/home/elhamod/HGNN/data/INHS_cropped/images/INHS_FISH_47662_aug7.jpg saved!\n",
      "/home/elhamod/HGNN/data/INHS_cropped/images/INHS_FISH_47662_aug8.jpg saved!\n",
      "/home/elhamod/HGNN/data/INHS_cropped/images/INHS_FISH_47662_aug9.jpg saved!\n"
     ]
    },
    {
     "name": "stderr",
     "output_type": "stream",
     "text": [
      "\r",
      " 15% (85 of 550) |###                    | Elapsed Time: 0:01:36 ETA:   0:09:08"
     ]
    },
    {
     "name": "stdout",
     "output_type": "stream",
     "text": [
      "/home/elhamod/HGNN/data/INHS_cropped/images/INHS_FISH_61200_aug0.jpg saved!\n",
      "/home/elhamod/HGNN/data/INHS_cropped/images/INHS_FISH_61200_aug1.jpg saved!\n",
      "/home/elhamod/HGNN/data/INHS_cropped/images/INHS_FISH_61200_aug2.jpg saved!\n",
      "/home/elhamod/HGNN/data/INHS_cropped/images/INHS_FISH_61200_aug3.jpg saved!\n",
      "/home/elhamod/HGNN/data/INHS_cropped/images/INHS_FISH_61200_aug4.jpg saved!\n",
      "/home/elhamod/HGNN/data/INHS_cropped/images/INHS_FISH_61200_aug5.jpg saved!\n",
      "/home/elhamod/HGNN/data/INHS_cropped/images/INHS_FISH_61200_aug6.jpg saved!\n",
      "/home/elhamod/HGNN/data/INHS_cropped/images/INHS_FISH_61200_aug7.jpg saved!\n",
      "/home/elhamod/HGNN/data/INHS_cropped/images/INHS_FISH_61200_aug8.jpg saved!\n",
      "/home/elhamod/HGNN/data/INHS_cropped/images/INHS_FISH_61200_aug9.jpg saved!\n"
     ]
    },
    {
     "name": "stderr",
     "output_type": "stream",
     "text": [
      "\r",
      " 15% (86 of 550) |###                    | Elapsed Time: 0:01:37 ETA:   0:09:18"
     ]
    },
    {
     "name": "stdout",
     "output_type": "stream",
     "text": [
      "/home/elhamod/HGNN/data/INHS_cropped/images/INHS_FISH_63034_aug0.jpg saved!\n",
      "/home/elhamod/HGNN/data/INHS_cropped/images/INHS_FISH_63034_aug1.jpg saved!\n",
      "/home/elhamod/HGNN/data/INHS_cropped/images/INHS_FISH_63034_aug2.jpg saved!\n",
      "/home/elhamod/HGNN/data/INHS_cropped/images/INHS_FISH_63034_aug3.jpg saved!\n",
      "/home/elhamod/HGNN/data/INHS_cropped/images/INHS_FISH_63034_aug4.jpg saved!\n",
      "/home/elhamod/HGNN/data/INHS_cropped/images/INHS_FISH_63034_aug5.jpg saved!\n",
      "/home/elhamod/HGNN/data/INHS_cropped/images/INHS_FISH_63034_aug6.jpg saved!\n",
      "/home/elhamod/HGNN/data/INHS_cropped/images/INHS_FISH_63034_aug7.jpg saved!\n",
      "/home/elhamod/HGNN/data/INHS_cropped/images/INHS_FISH_63034_aug8.jpg saved!\n",
      "/home/elhamod/HGNN/data/INHS_cropped/images/INHS_FISH_63034_aug9.jpg saved!\n"
     ]
    },
    {
     "name": "stderr",
     "output_type": "stream",
     "text": [
      "\r",
      " 15% (87 of 550) |###                    | Elapsed Time: 0:01:39 ETA:   0:09:22"
     ]
    },
    {
     "name": "stdout",
     "output_type": "stream",
     "text": [
      "/home/elhamod/HGNN/data/INHS_cropped/images/INHS_FISH_106224_aug0.jpg saved!\n",
      "/home/elhamod/HGNN/data/INHS_cropped/images/INHS_FISH_106224_aug1.jpg saved!\n",
      "/home/elhamod/HGNN/data/INHS_cropped/images/INHS_FISH_106224_aug2.jpg saved!\n",
      "/home/elhamod/HGNN/data/INHS_cropped/images/INHS_FISH_106224_aug3.jpg saved!\n",
      "/home/elhamod/HGNN/data/INHS_cropped/images/INHS_FISH_106224_aug4.jpg saved!\n",
      "/home/elhamod/HGNN/data/INHS_cropped/images/INHS_FISH_106224_aug5.jpg saved!\n",
      "/home/elhamod/HGNN/data/INHS_cropped/images/INHS_FISH_106224_aug6.jpg saved!\n",
      "/home/elhamod/HGNN/data/INHS_cropped/images/INHS_FISH_106224_aug7.jpg saved!\n",
      "/home/elhamod/HGNN/data/INHS_cropped/images/INHS_FISH_106224_aug8.jpg saved!\n",
      "/home/elhamod/HGNN/data/INHS_cropped/images/INHS_FISH_106224_aug9.jpg saved!\n"
     ]
    },
    {
     "name": "stderr",
     "output_type": "stream",
     "text": [
      "\r",
      " 16% (88 of 550) |###                    | Elapsed Time: 0:01:40 ETA:   0:09:05"
     ]
    },
    {
     "name": "stdout",
     "output_type": "stream",
     "text": [
      "/home/elhamod/HGNN/data/INHS_cropped/images/INHS_FISH_59381_aug0.jpg saved!\n",
      "/home/elhamod/HGNN/data/INHS_cropped/images/INHS_FISH_59381_aug1.jpg saved!\n",
      "/home/elhamod/HGNN/data/INHS_cropped/images/INHS_FISH_59381_aug2.jpg saved!\n",
      "/home/elhamod/HGNN/data/INHS_cropped/images/INHS_FISH_59381_aug3.jpg saved!\n",
      "/home/elhamod/HGNN/data/INHS_cropped/images/INHS_FISH_59381_aug4.jpg saved!\n",
      "/home/elhamod/HGNN/data/INHS_cropped/images/INHS_FISH_59381_aug5.jpg saved!\n",
      "/home/elhamod/HGNN/data/INHS_cropped/images/INHS_FISH_59381_aug6.jpg saved!\n",
      "/home/elhamod/HGNN/data/INHS_cropped/images/INHS_FISH_59381_aug7.jpg saved!\n",
      "/home/elhamod/HGNN/data/INHS_cropped/images/INHS_FISH_59381_aug8.jpg saved!\n",
      "/home/elhamod/HGNN/data/INHS_cropped/images/INHS_FISH_59381_aug9.jpg saved!\n"
     ]
    },
    {
     "name": "stderr",
     "output_type": "stream",
     "text": [
      "\r",
      " 16% (89 of 550) |###                    | Elapsed Time: 0:01:41 ETA:   0:08:54"
     ]
    },
    {
     "name": "stdout",
     "output_type": "stream",
     "text": [
      "/home/elhamod/HGNN/data/INHS_cropped/images/INHS_FISH_44707_aug0.jpg saved!\n",
      "/home/elhamod/HGNN/data/INHS_cropped/images/INHS_FISH_44707_aug1.jpg saved!\n",
      "/home/elhamod/HGNN/data/INHS_cropped/images/INHS_FISH_44707_aug2.jpg saved!\n",
      "/home/elhamod/HGNN/data/INHS_cropped/images/INHS_FISH_44707_aug3.jpg saved!\n",
      "/home/elhamod/HGNN/data/INHS_cropped/images/INHS_FISH_44707_aug4.jpg saved!\n",
      "/home/elhamod/HGNN/data/INHS_cropped/images/INHS_FISH_44707_aug5.jpg saved!\n",
      "/home/elhamod/HGNN/data/INHS_cropped/images/INHS_FISH_44707_aug6.jpg saved!\n",
      "/home/elhamod/HGNN/data/INHS_cropped/images/INHS_FISH_44707_aug7.jpg saved!\n",
      "/home/elhamod/HGNN/data/INHS_cropped/images/INHS_FISH_44707_aug8.jpg saved!\n",
      "/home/elhamod/HGNN/data/INHS_cropped/images/INHS_FISH_44707_aug9.jpg saved!\n"
     ]
    },
    {
     "name": "stderr",
     "output_type": "stream",
     "text": [
      "\r",
      " 16% (90 of 550) |###                    | Elapsed Time: 0:01:42 ETA:   0:09:03"
     ]
    },
    {
     "name": "stdout",
     "output_type": "stream",
     "text": [
      "/home/elhamod/HGNN/data/INHS_cropped/images/INHS_FISH_93450_aug0.jpg saved!\n",
      "/home/elhamod/HGNN/data/INHS_cropped/images/INHS_FISH_93450_aug1.jpg saved!\n",
      "/home/elhamod/HGNN/data/INHS_cropped/images/INHS_FISH_93450_aug2.jpg saved!\n",
      "/home/elhamod/HGNN/data/INHS_cropped/images/INHS_FISH_93450_aug3.jpg saved!\n",
      "/home/elhamod/HGNN/data/INHS_cropped/images/INHS_FISH_93450_aug4.jpg saved!\n",
      "/home/elhamod/HGNN/data/INHS_cropped/images/INHS_FISH_93450_aug5.jpg saved!\n",
      "/home/elhamod/HGNN/data/INHS_cropped/images/INHS_FISH_93450_aug6.jpg saved!\n",
      "/home/elhamod/HGNN/data/INHS_cropped/images/INHS_FISH_93450_aug7.jpg saved!\n",
      "/home/elhamod/HGNN/data/INHS_cropped/images/INHS_FISH_93450_aug8.jpg saved!\n",
      "/home/elhamod/HGNN/data/INHS_cropped/images/INHS_FISH_93450_aug9.jpg saved!\n"
     ]
    },
    {
     "name": "stderr",
     "output_type": "stream",
     "text": [
      "\r",
      " 16% (91 of 550) |###                    | Elapsed Time: 0:01:43 ETA:   0:09:04"
     ]
    },
    {
     "name": "stdout",
     "output_type": "stream",
     "text": [
      "/home/elhamod/HGNN/data/INHS_cropped/images/INHS_FISH_96891_aug0.jpg saved!\n",
      "/home/elhamod/HGNN/data/INHS_cropped/images/INHS_FISH_96891_aug1.jpg saved!\n",
      "/home/elhamod/HGNN/data/INHS_cropped/images/INHS_FISH_96891_aug2.jpg saved!\n",
      "/home/elhamod/HGNN/data/INHS_cropped/images/INHS_FISH_96891_aug3.jpg saved!\n",
      "/home/elhamod/HGNN/data/INHS_cropped/images/INHS_FISH_96891_aug4.jpg saved!\n",
      "/home/elhamod/HGNN/data/INHS_cropped/images/INHS_FISH_96891_aug5.jpg saved!\n",
      "/home/elhamod/HGNN/data/INHS_cropped/images/INHS_FISH_96891_aug6.jpg saved!\n",
      "/home/elhamod/HGNN/data/INHS_cropped/images/INHS_FISH_96891_aug7.jpg saved!\n",
      "/home/elhamod/HGNN/data/INHS_cropped/images/INHS_FISH_96891_aug8.jpg saved!\n",
      "/home/elhamod/HGNN/data/INHS_cropped/images/INHS_FISH_96891_aug9.jpg saved!\n"
     ]
    },
    {
     "name": "stderr",
     "output_type": "stream",
     "text": [
      "\r",
      " 16% (92 of 550) |###                    | Elapsed Time: 0:01:45 ETA:   0:09:05"
     ]
    },
    {
     "name": "stdout",
     "output_type": "stream",
     "text": [
      "/home/elhamod/HGNN/data/INHS_cropped/images/INHS_FISH_48520_aug0.jpg saved!\n",
      "/home/elhamod/HGNN/data/INHS_cropped/images/INHS_FISH_48520_aug1.jpg saved!\n",
      "/home/elhamod/HGNN/data/INHS_cropped/images/INHS_FISH_48520_aug2.jpg saved!\n",
      "/home/elhamod/HGNN/data/INHS_cropped/images/INHS_FISH_48520_aug3.jpg saved!\n",
      "/home/elhamod/HGNN/data/INHS_cropped/images/INHS_FISH_48520_aug4.jpg saved!\n",
      "/home/elhamod/HGNN/data/INHS_cropped/images/INHS_FISH_48520_aug5.jpg saved!\n",
      "/home/elhamod/HGNN/data/INHS_cropped/images/INHS_FISH_48520_aug6.jpg saved!\n",
      "/home/elhamod/HGNN/data/INHS_cropped/images/INHS_FISH_48520_aug7.jpg saved!\n",
      "/home/elhamod/HGNN/data/INHS_cropped/images/INHS_FISH_48520_aug8.jpg saved!\n",
      "/home/elhamod/HGNN/data/INHS_cropped/images/INHS_FISH_48520_aug9.jpg saved!\n"
     ]
    },
    {
     "name": "stderr",
     "output_type": "stream",
     "text": [
      "\r",
      " 16% (93 of 550) |###                    | Elapsed Time: 0:01:46 ETA:   0:08:59"
     ]
    },
    {
     "name": "stdout",
     "output_type": "stream",
     "text": [
      "/home/elhamod/HGNN/data/INHS_cropped/images/INHS_FISH_29732_aug0.jpg saved!\n",
      "/home/elhamod/HGNN/data/INHS_cropped/images/INHS_FISH_29732_aug1.jpg saved!\n",
      "/home/elhamod/HGNN/data/INHS_cropped/images/INHS_FISH_29732_aug2.jpg saved!\n",
      "/home/elhamod/HGNN/data/INHS_cropped/images/INHS_FISH_29732_aug3.jpg saved!\n",
      "/home/elhamod/HGNN/data/INHS_cropped/images/INHS_FISH_29732_aug4.jpg saved!\n",
      "/home/elhamod/HGNN/data/INHS_cropped/images/INHS_FISH_29732_aug5.jpg saved!\n",
      "/home/elhamod/HGNN/data/INHS_cropped/images/INHS_FISH_29732_aug6.jpg saved!\n",
      "/home/elhamod/HGNN/data/INHS_cropped/images/INHS_FISH_29732_aug7.jpg saved!\n",
      "/home/elhamod/HGNN/data/INHS_cropped/images/INHS_FISH_29732_aug8.jpg saved!\n",
      "/home/elhamod/HGNN/data/INHS_cropped/images/INHS_FISH_29732_aug9.jpg saved!\n"
     ]
    },
    {
     "name": "stderr",
     "output_type": "stream",
     "text": [
      "\r",
      " 17% (94 of 550) |###                    | Elapsed Time: 0:01:47 ETA:   0:08:45"
     ]
    },
    {
     "name": "stdout",
     "output_type": "stream",
     "text": [
      "/home/elhamod/HGNN/data/INHS_cropped/images/INHS_FISH_17424_aug0.jpg saved!\n",
      "/home/elhamod/HGNN/data/INHS_cropped/images/INHS_FISH_17424_aug1.jpg saved!\n",
      "/home/elhamod/HGNN/data/INHS_cropped/images/INHS_FISH_17424_aug2.jpg saved!\n",
      "/home/elhamod/HGNN/data/INHS_cropped/images/INHS_FISH_17424_aug3.jpg saved!\n",
      "/home/elhamod/HGNN/data/INHS_cropped/images/INHS_FISH_17424_aug4.jpg saved!\n",
      "/home/elhamod/HGNN/data/INHS_cropped/images/INHS_FISH_17424_aug5.jpg saved!\n",
      "/home/elhamod/HGNN/data/INHS_cropped/images/INHS_FISH_17424_aug6.jpg saved!\n",
      "/home/elhamod/HGNN/data/INHS_cropped/images/INHS_FISH_17424_aug7.jpg saved!\n",
      "/home/elhamod/HGNN/data/INHS_cropped/images/INHS_FISH_17424_aug8.jpg saved!\n",
      "/home/elhamod/HGNN/data/INHS_cropped/images/INHS_FISH_17424_aug9.jpg saved!\n"
     ]
    },
    {
     "name": "stderr",
     "output_type": "stream",
     "text": [
      "\r",
      " 17% (95 of 550) |###                    | Elapsed Time: 0:01:48 ETA:   0:08:47"
     ]
    },
    {
     "name": "stdout",
     "output_type": "stream",
     "text": [
      "/home/elhamod/HGNN/data/INHS_cropped/images/INHS_FISH_64705_aug0.jpg saved!\n",
      "/home/elhamod/HGNN/data/INHS_cropped/images/INHS_FISH_64705_aug1.jpg saved!\n",
      "/home/elhamod/HGNN/data/INHS_cropped/images/INHS_FISH_64705_aug2.jpg saved!\n",
      "/home/elhamod/HGNN/data/INHS_cropped/images/INHS_FISH_64705_aug3.jpg saved!\n",
      "/home/elhamod/HGNN/data/INHS_cropped/images/INHS_FISH_64705_aug4.jpg saved!\n",
      "/home/elhamod/HGNN/data/INHS_cropped/images/INHS_FISH_64705_aug5.jpg saved!\n",
      "/home/elhamod/HGNN/data/INHS_cropped/images/INHS_FISH_64705_aug6.jpg saved!\n",
      "/home/elhamod/HGNN/data/INHS_cropped/images/INHS_FISH_64705_aug7.jpg saved!\n",
      "/home/elhamod/HGNN/data/INHS_cropped/images/INHS_FISH_64705_aug8.jpg saved!\n",
      "/home/elhamod/HGNN/data/INHS_cropped/images/INHS_FISH_64705_aug9.jpg saved!\n"
     ]
    },
    {
     "name": "stderr",
     "output_type": "stream",
     "text": [
      "\r",
      " 17% (96 of 550) |####                   | Elapsed Time: 0:01:49 ETA:   0:08:42"
     ]
    },
    {
     "name": "stdout",
     "output_type": "stream",
     "text": [
      "/home/elhamod/HGNN/data/INHS_cropped/images/INHS_FISH_68432_aug0.jpg saved!\n",
      "/home/elhamod/HGNN/data/INHS_cropped/images/INHS_FISH_68432_aug1.jpg saved!\n",
      "/home/elhamod/HGNN/data/INHS_cropped/images/INHS_FISH_68432_aug2.jpg saved!\n",
      "/home/elhamod/HGNN/data/INHS_cropped/images/INHS_FISH_68432_aug3.jpg saved!\n",
      "/home/elhamod/HGNN/data/INHS_cropped/images/INHS_FISH_68432_aug4.jpg saved!\n",
      "/home/elhamod/HGNN/data/INHS_cropped/images/INHS_FISH_68432_aug5.jpg saved!\n",
      "/home/elhamod/HGNN/data/INHS_cropped/images/INHS_FISH_68432_aug6.jpg saved!\n",
      "/home/elhamod/HGNN/data/INHS_cropped/images/INHS_FISH_68432_aug7.jpg saved!\n",
      "/home/elhamod/HGNN/data/INHS_cropped/images/INHS_FISH_68432_aug8.jpg saved!\n",
      "/home/elhamod/HGNN/data/INHS_cropped/images/INHS_FISH_68432_aug9.jpg saved!\n"
     ]
    },
    {
     "name": "stderr",
     "output_type": "stream",
     "text": [
      "\r",
      " 17% (97 of 550) |####                   | Elapsed Time: 0:01:50 ETA:   0:08:46"
     ]
    },
    {
     "name": "stdout",
     "output_type": "stream",
     "text": [
      "/home/elhamod/HGNN/data/INHS_cropped/images/INHS_FISH_90194_aug0.jpg saved!\n",
      "/home/elhamod/HGNN/data/INHS_cropped/images/INHS_FISH_90194_aug1.jpg saved!\n",
      "/home/elhamod/HGNN/data/INHS_cropped/images/INHS_FISH_90194_aug2.jpg saved!\n",
      "/home/elhamod/HGNN/data/INHS_cropped/images/INHS_FISH_90194_aug3.jpg saved!\n",
      "/home/elhamod/HGNN/data/INHS_cropped/images/INHS_FISH_90194_aug4.jpg saved!\n",
      "/home/elhamod/HGNN/data/INHS_cropped/images/INHS_FISH_90194_aug5.jpg saved!\n",
      "/home/elhamod/HGNN/data/INHS_cropped/images/INHS_FISH_90194_aug6.jpg saved!\n",
      "/home/elhamod/HGNN/data/INHS_cropped/images/INHS_FISH_90194_aug7.jpg saved!\n",
      "/home/elhamod/HGNN/data/INHS_cropped/images/INHS_FISH_90194_aug8.jpg saved!\n",
      "/home/elhamod/HGNN/data/INHS_cropped/images/INHS_FISH_90194_aug9.jpg saved!\n"
     ]
    },
    {
     "name": "stderr",
     "output_type": "stream",
     "text": [
      "\r",
      " 17% (98 of 550) |####                   | Elapsed Time: 0:01:52 ETA:   0:09:01"
     ]
    },
    {
     "name": "stdout",
     "output_type": "stream",
     "text": [
      "/home/elhamod/HGNN/data/INHS_cropped/images/INHS_FISH_45083_aug0.jpg saved!\n",
      "/home/elhamod/HGNN/data/INHS_cropped/images/INHS_FISH_45083_aug1.jpg saved!\n",
      "/home/elhamod/HGNN/data/INHS_cropped/images/INHS_FISH_45083_aug2.jpg saved!\n",
      "/home/elhamod/HGNN/data/INHS_cropped/images/INHS_FISH_45083_aug3.jpg saved!\n",
      "/home/elhamod/HGNN/data/INHS_cropped/images/INHS_FISH_45083_aug4.jpg saved!\n",
      "/home/elhamod/HGNN/data/INHS_cropped/images/INHS_FISH_45083_aug5.jpg saved!\n",
      "/home/elhamod/HGNN/data/INHS_cropped/images/INHS_FISH_45083_aug6.jpg saved!\n",
      "/home/elhamod/HGNN/data/INHS_cropped/images/INHS_FISH_45083_aug7.jpg saved!\n",
      "/home/elhamod/HGNN/data/INHS_cropped/images/INHS_FISH_45083_aug8.jpg saved!\n",
      "/home/elhamod/HGNN/data/INHS_cropped/images/INHS_FISH_45083_aug9.jpg saved!\n"
     ]
    },
    {
     "name": "stderr",
     "output_type": "stream",
     "text": [
      "\r",
      " 18% (99 of 550) |####                   | Elapsed Time: 0:01:53 ETA:   0:08:57"
     ]
    },
    {
     "name": "stdout",
     "output_type": "stream",
     "text": [
      "/home/elhamod/HGNN/data/INHS_cropped/images/INHS_FISH_12568_aug0.jpg saved!\n",
      "/home/elhamod/HGNN/data/INHS_cropped/images/INHS_FISH_12568_aug1.jpg saved!\n",
      "/home/elhamod/HGNN/data/INHS_cropped/images/INHS_FISH_12568_aug2.jpg saved!\n",
      "/home/elhamod/HGNN/data/INHS_cropped/images/INHS_FISH_12568_aug3.jpg saved!\n",
      "/home/elhamod/HGNN/data/INHS_cropped/images/INHS_FISH_12568_aug4.jpg saved!\n",
      "/home/elhamod/HGNN/data/INHS_cropped/images/INHS_FISH_12568_aug5.jpg saved!\n",
      "/home/elhamod/HGNN/data/INHS_cropped/images/INHS_FISH_12568_aug6.jpg saved!\n",
      "/home/elhamod/HGNN/data/INHS_cropped/images/INHS_FISH_12568_aug7.jpg saved!\n",
      "/home/elhamod/HGNN/data/INHS_cropped/images/INHS_FISH_12568_aug8.jpg saved!\n",
      "/home/elhamod/HGNN/data/INHS_cropped/images/INHS_FISH_12568_aug9.jpg saved!\n"
     ]
    },
    {
     "name": "stderr",
     "output_type": "stream",
     "text": [
      "\r",
      " 18% (100 of 550) |####                  | Elapsed Time: 0:01:54 ETA:   0:08:39"
     ]
    },
    {
     "name": "stdout",
     "output_type": "stream",
     "text": [
      "/home/elhamod/HGNN/data/INHS_cropped/images/INHS_FISH_83749_aug0.jpg saved!\n",
      "/home/elhamod/HGNN/data/INHS_cropped/images/INHS_FISH_83749_aug1.jpg saved!\n",
      "/home/elhamod/HGNN/data/INHS_cropped/images/INHS_FISH_83749_aug2.jpg saved!\n",
      "/home/elhamod/HGNN/data/INHS_cropped/images/INHS_FISH_83749_aug3.jpg saved!\n",
      "/home/elhamod/HGNN/data/INHS_cropped/images/INHS_FISH_83749_aug4.jpg saved!\n",
      "/home/elhamod/HGNN/data/INHS_cropped/images/INHS_FISH_83749_aug5.jpg saved!\n",
      "/home/elhamod/HGNN/data/INHS_cropped/images/INHS_FISH_83749_aug6.jpg saved!\n",
      "/home/elhamod/HGNN/data/INHS_cropped/images/INHS_FISH_83749_aug7.jpg saved!\n",
      "/home/elhamod/HGNN/data/INHS_cropped/images/INHS_FISH_83749_aug8.jpg saved!\n",
      "/home/elhamod/HGNN/data/INHS_cropped/images/INHS_FISH_83749_aug9.jpg saved!\n"
     ]
    },
    {
     "name": "stderr",
     "output_type": "stream",
     "text": [
      "\r",
      " 18% (101 of 550) |####                  | Elapsed Time: 0:01:55 ETA:   0:08:35"
     ]
    },
    {
     "name": "stdout",
     "output_type": "stream",
     "text": [
      "/home/elhamod/HGNN/data/INHS_cropped/images/INHS_FISH_2510_aug0.jpg saved!\n",
      "/home/elhamod/HGNN/data/INHS_cropped/images/INHS_FISH_2510_aug1.jpg saved!\n",
      "/home/elhamod/HGNN/data/INHS_cropped/images/INHS_FISH_2510_aug2.jpg saved!\n",
      "/home/elhamod/HGNN/data/INHS_cropped/images/INHS_FISH_2510_aug3.jpg saved!\n",
      "/home/elhamod/HGNN/data/INHS_cropped/images/INHS_FISH_2510_aug4.jpg saved!\n",
      "/home/elhamod/HGNN/data/INHS_cropped/images/INHS_FISH_2510_aug5.jpg saved!\n",
      "/home/elhamod/HGNN/data/INHS_cropped/images/INHS_FISH_2510_aug6.jpg saved!\n",
      "/home/elhamod/HGNN/data/INHS_cropped/images/INHS_FISH_2510_aug7.jpg saved!\n",
      "/home/elhamod/HGNN/data/INHS_cropped/images/INHS_FISH_2510_aug8.jpg saved!\n",
      "/home/elhamod/HGNN/data/INHS_cropped/images/INHS_FISH_2510_aug9.jpg saved!\n"
     ]
    },
    {
     "name": "stderr",
     "output_type": "stream",
     "text": [
      "\r",
      " 18% (102 of 550) |####                  | Elapsed Time: 0:01:56 ETA:   0:08:35"
     ]
    },
    {
     "name": "stdout",
     "output_type": "stream",
     "text": [
      "/home/elhamod/HGNN/data/INHS_cropped/images/INHS_FISH_12762_aug0.jpg saved!\n",
      "/home/elhamod/HGNN/data/INHS_cropped/images/INHS_FISH_12762_aug1.jpg saved!\n",
      "/home/elhamod/HGNN/data/INHS_cropped/images/INHS_FISH_12762_aug2.jpg saved!\n",
      "/home/elhamod/HGNN/data/INHS_cropped/images/INHS_FISH_12762_aug3.jpg saved!\n",
      "/home/elhamod/HGNN/data/INHS_cropped/images/INHS_FISH_12762_aug4.jpg saved!\n",
      "/home/elhamod/HGNN/data/INHS_cropped/images/INHS_FISH_12762_aug5.jpg saved!\n",
      "/home/elhamod/HGNN/data/INHS_cropped/images/INHS_FISH_12762_aug6.jpg saved!\n",
      "/home/elhamod/HGNN/data/INHS_cropped/images/INHS_FISH_12762_aug7.jpg saved!\n",
      "/home/elhamod/HGNN/data/INHS_cropped/images/INHS_FISH_12762_aug8.jpg saved!\n",
      "/home/elhamod/HGNN/data/INHS_cropped/images/INHS_FISH_12762_aug9.jpg saved!\n"
     ]
    },
    {
     "name": "stderr",
     "output_type": "stream",
     "text": [
      "\r",
      " 18% (103 of 550) |####                  | Elapsed Time: 0:01:57 ETA:   0:08:37"
     ]
    },
    {
     "name": "stdout",
     "output_type": "stream",
     "text": [
      "/home/elhamod/HGNN/data/INHS_cropped/images/INHS_FISH_63274_aug0.jpg saved!\n",
      "/home/elhamod/HGNN/data/INHS_cropped/images/INHS_FISH_63274_aug1.jpg saved!\n",
      "/home/elhamod/HGNN/data/INHS_cropped/images/INHS_FISH_63274_aug2.jpg saved!\n",
      "/home/elhamod/HGNN/data/INHS_cropped/images/INHS_FISH_63274_aug3.jpg saved!\n",
      "/home/elhamod/HGNN/data/INHS_cropped/images/INHS_FISH_63274_aug4.jpg saved!\n",
      "/home/elhamod/HGNN/data/INHS_cropped/images/INHS_FISH_63274_aug5.jpg saved!\n",
      "/home/elhamod/HGNN/data/INHS_cropped/images/INHS_FISH_63274_aug6.jpg saved!\n",
      "/home/elhamod/HGNN/data/INHS_cropped/images/INHS_FISH_63274_aug7.jpg saved!\n",
      "/home/elhamod/HGNN/data/INHS_cropped/images/INHS_FISH_63274_aug8.jpg saved!\n",
      "/home/elhamod/HGNN/data/INHS_cropped/images/INHS_FISH_63274_aug9.jpg saved!\n"
     ]
    },
    {
     "name": "stderr",
     "output_type": "stream",
     "text": [
      "\r",
      " 18% (104 of 550) |####                  | Elapsed Time: 0:01:58 ETA:   0:08:35"
     ]
    },
    {
     "name": "stdout",
     "output_type": "stream",
     "text": [
      "/home/elhamod/HGNN/data/INHS_cropped/images/INHS_FISH_50300_aug0.jpg saved!\n",
      "/home/elhamod/HGNN/data/INHS_cropped/images/INHS_FISH_50300_aug1.jpg saved!\n",
      "/home/elhamod/HGNN/data/INHS_cropped/images/INHS_FISH_50300_aug2.jpg saved!\n",
      "/home/elhamod/HGNN/data/INHS_cropped/images/INHS_FISH_50300_aug3.jpg saved!\n",
      "/home/elhamod/HGNN/data/INHS_cropped/images/INHS_FISH_50300_aug4.jpg saved!\n",
      "/home/elhamod/HGNN/data/INHS_cropped/images/INHS_FISH_50300_aug5.jpg saved!\n",
      "/home/elhamod/HGNN/data/INHS_cropped/images/INHS_FISH_50300_aug6.jpg saved!\n",
      "/home/elhamod/HGNN/data/INHS_cropped/images/INHS_FISH_50300_aug7.jpg saved!\n",
      "/home/elhamod/HGNN/data/INHS_cropped/images/INHS_FISH_50300_aug8.jpg saved!\n",
      "/home/elhamod/HGNN/data/INHS_cropped/images/INHS_FISH_50300_aug9.jpg saved!\n"
     ]
    },
    {
     "name": "stderr",
     "output_type": "stream",
     "text": [
      "\r",
      " 19% (105 of 550) |####                  | Elapsed Time: 0:02:00 ETA:   0:08:30"
     ]
    },
    {
     "name": "stdout",
     "output_type": "stream",
     "text": [
      "/home/elhamod/HGNN/data/INHS_cropped/images/INHS_FISH_64071_aug0.jpg saved!\n",
      "/home/elhamod/HGNN/data/INHS_cropped/images/INHS_FISH_64071_aug1.jpg saved!\n",
      "/home/elhamod/HGNN/data/INHS_cropped/images/INHS_FISH_64071_aug2.jpg saved!\n",
      "/home/elhamod/HGNN/data/INHS_cropped/images/INHS_FISH_64071_aug3.jpg saved!\n",
      "/home/elhamod/HGNN/data/INHS_cropped/images/INHS_FISH_64071_aug4.jpg saved!\n",
      "/home/elhamod/HGNN/data/INHS_cropped/images/INHS_FISH_64071_aug5.jpg saved!\n",
      "/home/elhamod/HGNN/data/INHS_cropped/images/INHS_FISH_64071_aug6.jpg saved!\n",
      "/home/elhamod/HGNN/data/INHS_cropped/images/INHS_FISH_64071_aug7.jpg saved!\n",
      "/home/elhamod/HGNN/data/INHS_cropped/images/INHS_FISH_64071_aug8.jpg saved!\n",
      "/home/elhamod/HGNN/data/INHS_cropped/images/INHS_FISH_64071_aug9.jpg saved!\n"
     ]
    },
    {
     "name": "stderr",
     "output_type": "stream",
     "text": [
      "\r",
      " 19% (106 of 550) |####                  | Elapsed Time: 0:02:01 ETA:   0:08:25"
     ]
    },
    {
     "name": "stdout",
     "output_type": "stream",
     "text": [
      "/home/elhamod/HGNN/data/INHS_cropped/images/INHS_FISH_59327_aug0.jpg saved!\n",
      "/home/elhamod/HGNN/data/INHS_cropped/images/INHS_FISH_59327_aug1.jpg saved!\n",
      "/home/elhamod/HGNN/data/INHS_cropped/images/INHS_FISH_59327_aug2.jpg saved!\n",
      "/home/elhamod/HGNN/data/INHS_cropped/images/INHS_FISH_59327_aug3.jpg saved!\n",
      "/home/elhamod/HGNN/data/INHS_cropped/images/INHS_FISH_59327_aug4.jpg saved!\n",
      "/home/elhamod/HGNN/data/INHS_cropped/images/INHS_FISH_59327_aug5.jpg saved!\n",
      "/home/elhamod/HGNN/data/INHS_cropped/images/INHS_FISH_59327_aug6.jpg saved!\n",
      "/home/elhamod/HGNN/data/INHS_cropped/images/INHS_FISH_59327_aug7.jpg saved!\n",
      "/home/elhamod/HGNN/data/INHS_cropped/images/INHS_FISH_59327_aug8.jpg saved!\n",
      "/home/elhamod/HGNN/data/INHS_cropped/images/INHS_FISH_59327_aug9.jpg saved!\n"
     ]
    },
    {
     "name": "stderr",
     "output_type": "stream",
     "text": [
      "\r",
      " 19% (107 of 550) |####                  | Elapsed Time: 0:02:02 ETA:   0:08:17"
     ]
    },
    {
     "name": "stdout",
     "output_type": "stream",
     "text": [
      "/home/elhamod/HGNN/data/INHS_cropped/images/INHS_FISH_29582_aug0.jpg saved!\n",
      "/home/elhamod/HGNN/data/INHS_cropped/images/INHS_FISH_29582_aug1.jpg saved!\n",
      "/home/elhamod/HGNN/data/INHS_cropped/images/INHS_FISH_29582_aug2.jpg saved!\n",
      "/home/elhamod/HGNN/data/INHS_cropped/images/INHS_FISH_29582_aug3.jpg saved!\n",
      "/home/elhamod/HGNN/data/INHS_cropped/images/INHS_FISH_29582_aug4.jpg saved!\n",
      "/home/elhamod/HGNN/data/INHS_cropped/images/INHS_FISH_29582_aug5.jpg saved!\n",
      "/home/elhamod/HGNN/data/INHS_cropped/images/INHS_FISH_29582_aug6.jpg saved!\n",
      "/home/elhamod/HGNN/data/INHS_cropped/images/INHS_FISH_29582_aug7.jpg saved!\n",
      "/home/elhamod/HGNN/data/INHS_cropped/images/INHS_FISH_29582_aug8.jpg saved!\n",
      "/home/elhamod/HGNN/data/INHS_cropped/images/INHS_FISH_29582_aug9.jpg saved!\n"
     ]
    },
    {
     "name": "stderr",
     "output_type": "stream",
     "text": [
      "\r",
      " 19% (108 of 550) |####                  | Elapsed Time: 0:02:03 ETA:   0:08:17"
     ]
    },
    {
     "name": "stdout",
     "output_type": "stream",
     "text": [
      "/home/elhamod/HGNN/data/INHS_cropped/images/INHS_FISH_108766_aug0.jpg saved!\n",
      "/home/elhamod/HGNN/data/INHS_cropped/images/INHS_FISH_108766_aug1.jpg saved!\n",
      "/home/elhamod/HGNN/data/INHS_cropped/images/INHS_FISH_108766_aug2.jpg saved!\n",
      "/home/elhamod/HGNN/data/INHS_cropped/images/INHS_FISH_108766_aug3.jpg saved!\n",
      "/home/elhamod/HGNN/data/INHS_cropped/images/INHS_FISH_108766_aug4.jpg saved!\n",
      "/home/elhamod/HGNN/data/INHS_cropped/images/INHS_FISH_108766_aug5.jpg saved!\n",
      "/home/elhamod/HGNN/data/INHS_cropped/images/INHS_FISH_108766_aug6.jpg saved!\n",
      "/home/elhamod/HGNN/data/INHS_cropped/images/INHS_FISH_108766_aug7.jpg saved!\n",
      "/home/elhamod/HGNN/data/INHS_cropped/images/INHS_FISH_108766_aug8.jpg saved!\n",
      "/home/elhamod/HGNN/data/INHS_cropped/images/INHS_FISH_108766_aug9.jpg saved!\n"
     ]
    },
    {
     "name": "stderr",
     "output_type": "stream",
     "text": [
      "\r",
      " 19% (109 of 550) |####                  | Elapsed Time: 0:02:04 ETA:   0:08:43"
     ]
    },
    {
     "name": "stdout",
     "output_type": "stream",
     "text": [
      "/home/elhamod/HGNN/data/INHS_cropped/images/INHS_FISH_13297_aug0.jpg saved!\n",
      "/home/elhamod/HGNN/data/INHS_cropped/images/INHS_FISH_13297_aug1.jpg saved!\n",
      "/home/elhamod/HGNN/data/INHS_cropped/images/INHS_FISH_13297_aug2.jpg saved!\n",
      "/home/elhamod/HGNN/data/INHS_cropped/images/INHS_FISH_13297_aug3.jpg saved!\n",
      "/home/elhamod/HGNN/data/INHS_cropped/images/INHS_FISH_13297_aug4.jpg saved!\n",
      "/home/elhamod/HGNN/data/INHS_cropped/images/INHS_FISH_13297_aug5.jpg saved!\n",
      "/home/elhamod/HGNN/data/INHS_cropped/images/INHS_FISH_13297_aug6.jpg saved!\n",
      "/home/elhamod/HGNN/data/INHS_cropped/images/INHS_FISH_13297_aug7.jpg saved!\n",
      "/home/elhamod/HGNN/data/INHS_cropped/images/INHS_FISH_13297_aug8.jpg saved!\n",
      "/home/elhamod/HGNN/data/INHS_cropped/images/INHS_FISH_13297_aug9.jpg saved!\n"
     ]
    },
    {
     "name": "stderr",
     "output_type": "stream",
     "text": [
      "\r",
      " 20% (110 of 550) |####                  | Elapsed Time: 0:02:05 ETA:   0:09:01"
     ]
    },
    {
     "name": "stdout",
     "output_type": "stream",
     "text": [
      "/home/elhamod/HGNN/data/INHS_cropped/images/INHS_FISH_58391_aug0.jpg saved!\n",
      "/home/elhamod/HGNN/data/INHS_cropped/images/INHS_FISH_58391_aug1.jpg saved!\n",
      "/home/elhamod/HGNN/data/INHS_cropped/images/INHS_FISH_58391_aug2.jpg saved!\n",
      "/home/elhamod/HGNN/data/INHS_cropped/images/INHS_FISH_58391_aug3.jpg saved!\n",
      "/home/elhamod/HGNN/data/INHS_cropped/images/INHS_FISH_58391_aug4.jpg saved!\n",
      "/home/elhamod/HGNN/data/INHS_cropped/images/INHS_FISH_58391_aug5.jpg saved!\n",
      "/home/elhamod/HGNN/data/INHS_cropped/images/INHS_FISH_58391_aug6.jpg saved!\n",
      "/home/elhamod/HGNN/data/INHS_cropped/images/INHS_FISH_58391_aug7.jpg saved!\n",
      "/home/elhamod/HGNN/data/INHS_cropped/images/INHS_FISH_58391_aug8.jpg saved!\n",
      "/home/elhamod/HGNN/data/INHS_cropped/images/INHS_FISH_58391_aug9.jpg saved!\n"
     ]
    },
    {
     "name": "stderr",
     "output_type": "stream",
     "text": [
      "\r",
      " 20% (111 of 550) |####                  | Elapsed Time: 0:02:07 ETA:   0:08:34"
     ]
    },
    {
     "name": "stdout",
     "output_type": "stream",
     "text": [
      "/home/elhamod/HGNN/data/INHS_cropped/images/INHS_FISH_64109_aug0.jpg saved!\n",
      "/home/elhamod/HGNN/data/INHS_cropped/images/INHS_FISH_64109_aug1.jpg saved!\n",
      "/home/elhamod/HGNN/data/INHS_cropped/images/INHS_FISH_64109_aug2.jpg saved!\n",
      "/home/elhamod/HGNN/data/INHS_cropped/images/INHS_FISH_64109_aug3.jpg saved!\n",
      "/home/elhamod/HGNN/data/INHS_cropped/images/INHS_FISH_64109_aug4.jpg saved!\n",
      "/home/elhamod/HGNN/data/INHS_cropped/images/INHS_FISH_64109_aug5.jpg saved!\n",
      "/home/elhamod/HGNN/data/INHS_cropped/images/INHS_FISH_64109_aug6.jpg saved!\n",
      "/home/elhamod/HGNN/data/INHS_cropped/images/INHS_FISH_64109_aug7.jpg saved!\n",
      "/home/elhamod/HGNN/data/INHS_cropped/images/INHS_FISH_64109_aug8.jpg saved!\n",
      "/home/elhamod/HGNN/data/INHS_cropped/images/INHS_FISH_64109_aug9.jpg saved!\n"
     ]
    },
    {
     "name": "stderr",
     "output_type": "stream",
     "text": [
      "\r",
      " 20% (112 of 550) |####                  | Elapsed Time: 0:02:08 ETA:   0:08:23"
     ]
    },
    {
     "name": "stdout",
     "output_type": "stream",
     "text": [
      "/home/elhamod/HGNN/data/INHS_cropped/images/INHS_FISH_81070_aug0.jpg saved!\n",
      "/home/elhamod/HGNN/data/INHS_cropped/images/INHS_FISH_81070_aug1.jpg saved!\n",
      "/home/elhamod/HGNN/data/INHS_cropped/images/INHS_FISH_81070_aug2.jpg saved!\n",
      "/home/elhamod/HGNN/data/INHS_cropped/images/INHS_FISH_81070_aug3.jpg saved!\n",
      "/home/elhamod/HGNN/data/INHS_cropped/images/INHS_FISH_81070_aug4.jpg saved!\n",
      "/home/elhamod/HGNN/data/INHS_cropped/images/INHS_FISH_81070_aug5.jpg saved!\n",
      "/home/elhamod/HGNN/data/INHS_cropped/images/INHS_FISH_81070_aug6.jpg saved!\n",
      "/home/elhamod/HGNN/data/INHS_cropped/images/INHS_FISH_81070_aug7.jpg saved!\n",
      "/home/elhamod/HGNN/data/INHS_cropped/images/INHS_FISH_81070_aug8.jpg saved!\n",
      "/home/elhamod/HGNN/data/INHS_cropped/images/INHS_FISH_81070_aug9.jpg saved!\n"
     ]
    },
    {
     "name": "stderr",
     "output_type": "stream",
     "text": [
      "\r",
      " 20% (113 of 550) |####                  | Elapsed Time: 0:02:09 ETA:   0:08:29"
     ]
    },
    {
     "name": "stdout",
     "output_type": "stream",
     "text": [
      "/home/elhamod/HGNN/data/INHS_cropped/images/INHS_FISH_59010_aug0.jpg saved!\n",
      "/home/elhamod/HGNN/data/INHS_cropped/images/INHS_FISH_59010_aug1.jpg saved!\n",
      "/home/elhamod/HGNN/data/INHS_cropped/images/INHS_FISH_59010_aug2.jpg saved!\n",
      "/home/elhamod/HGNN/data/INHS_cropped/images/INHS_FISH_59010_aug3.jpg saved!\n",
      "/home/elhamod/HGNN/data/INHS_cropped/images/INHS_FISH_59010_aug4.jpg saved!\n",
      "/home/elhamod/HGNN/data/INHS_cropped/images/INHS_FISH_59010_aug5.jpg saved!\n",
      "/home/elhamod/HGNN/data/INHS_cropped/images/INHS_FISH_59010_aug6.jpg saved!\n",
      "/home/elhamod/HGNN/data/INHS_cropped/images/INHS_FISH_59010_aug7.jpg saved!\n",
      "/home/elhamod/HGNN/data/INHS_cropped/images/INHS_FISH_59010_aug8.jpg saved!\n",
      "/home/elhamod/HGNN/data/INHS_cropped/images/INHS_FISH_59010_aug9.jpg saved!\n"
     ]
    },
    {
     "name": "stderr",
     "output_type": "stream",
     "text": [
      "\r",
      " 20% (114 of 550) |####                  | Elapsed Time: 0:02:10 ETA:   0:08:17"
     ]
    },
    {
     "name": "stdout",
     "output_type": "stream",
     "text": [
      "/home/elhamod/HGNN/data/INHS_cropped/images/INHS_FISH_105636_aug0.jpg saved!\n",
      "/home/elhamod/HGNN/data/INHS_cropped/images/INHS_FISH_105636_aug1.jpg saved!\n",
      "/home/elhamod/HGNN/data/INHS_cropped/images/INHS_FISH_105636_aug2.jpg saved!\n",
      "/home/elhamod/HGNN/data/INHS_cropped/images/INHS_FISH_105636_aug3.jpg saved!\n",
      "/home/elhamod/HGNN/data/INHS_cropped/images/INHS_FISH_105636_aug4.jpg saved!\n",
      "/home/elhamod/HGNN/data/INHS_cropped/images/INHS_FISH_105636_aug5.jpg saved!\n",
      "/home/elhamod/HGNN/data/INHS_cropped/images/INHS_FISH_105636_aug6.jpg saved!\n",
      "/home/elhamod/HGNN/data/INHS_cropped/images/INHS_FISH_105636_aug7.jpg saved!\n",
      "/home/elhamod/HGNN/data/INHS_cropped/images/INHS_FISH_105636_aug8.jpg saved!\n",
      "/home/elhamod/HGNN/data/INHS_cropped/images/INHS_FISH_105636_aug9.jpg saved!\n"
     ]
    },
    {
     "name": "stderr",
     "output_type": "stream",
     "text": [
      "\r",
      " 20% (115 of 550) |####                  | Elapsed Time: 0:02:11 ETA:   0:08:08"
     ]
    },
    {
     "name": "stdout",
     "output_type": "stream",
     "text": [
      "/home/elhamod/HGNN/data/INHS_cropped/images/INHS_FISH_95253_aug0.jpg saved!\n",
      "/home/elhamod/HGNN/data/INHS_cropped/images/INHS_FISH_95253_aug1.jpg saved!\n",
      "/home/elhamod/HGNN/data/INHS_cropped/images/INHS_FISH_95253_aug2.jpg saved!\n",
      "/home/elhamod/HGNN/data/INHS_cropped/images/INHS_FISH_95253_aug3.jpg saved!\n",
      "/home/elhamod/HGNN/data/INHS_cropped/images/INHS_FISH_95253_aug4.jpg saved!\n",
      "/home/elhamod/HGNN/data/INHS_cropped/images/INHS_FISH_95253_aug5.jpg saved!\n",
      "/home/elhamod/HGNN/data/INHS_cropped/images/INHS_FISH_95253_aug6.jpg saved!\n",
      "/home/elhamod/HGNN/data/INHS_cropped/images/INHS_FISH_95253_aug7.jpg saved!\n",
      "/home/elhamod/HGNN/data/INHS_cropped/images/INHS_FISH_95253_aug8.jpg saved!\n",
      "/home/elhamod/HGNN/data/INHS_cropped/images/INHS_FISH_95253_aug9.jpg saved!\n"
     ]
    },
    {
     "name": "stderr",
     "output_type": "stream",
     "text": [
      "\r",
      " 21% (116 of 550) |####                  | Elapsed Time: 0:02:12 ETA:   0:08:10"
     ]
    },
    {
     "name": "stdout",
     "output_type": "stream",
     "text": [
      "/home/elhamod/HGNN/data/INHS_cropped/images/INHS_FISH_10536_aug0.jpg saved!\n",
      "/home/elhamod/HGNN/data/INHS_cropped/images/INHS_FISH_10536_aug1.jpg saved!\n",
      "/home/elhamod/HGNN/data/INHS_cropped/images/INHS_FISH_10536_aug2.jpg saved!\n",
      "/home/elhamod/HGNN/data/INHS_cropped/images/INHS_FISH_10536_aug3.jpg saved!\n",
      "/home/elhamod/HGNN/data/INHS_cropped/images/INHS_FISH_10536_aug4.jpg saved!\n",
      "/home/elhamod/HGNN/data/INHS_cropped/images/INHS_FISH_10536_aug5.jpg saved!\n",
      "/home/elhamod/HGNN/data/INHS_cropped/images/INHS_FISH_10536_aug6.jpg saved!\n",
      "/home/elhamod/HGNN/data/INHS_cropped/images/INHS_FISH_10536_aug7.jpg saved!\n",
      "/home/elhamod/HGNN/data/INHS_cropped/images/INHS_FISH_10536_aug8.jpg saved!\n",
      "/home/elhamod/HGNN/data/INHS_cropped/images/INHS_FISH_10536_aug9.jpg saved!\n"
     ]
    },
    {
     "name": "stderr",
     "output_type": "stream",
     "text": [
      "\r",
      " 21% (117 of 550) |####                  | Elapsed Time: 0:02:13 ETA:   0:08:09"
     ]
    },
    {
     "name": "stdout",
     "output_type": "stream",
     "text": [
      "/home/elhamod/HGNN/data/INHS_cropped/images/INHS_FISH_46194_aug0.jpg saved!\n",
      "/home/elhamod/HGNN/data/INHS_cropped/images/INHS_FISH_46194_aug1.jpg saved!\n",
      "/home/elhamod/HGNN/data/INHS_cropped/images/INHS_FISH_46194_aug2.jpg saved!\n",
      "/home/elhamod/HGNN/data/INHS_cropped/images/INHS_FISH_46194_aug3.jpg saved!\n",
      "/home/elhamod/HGNN/data/INHS_cropped/images/INHS_FISH_46194_aug4.jpg saved!\n",
      "/home/elhamod/HGNN/data/INHS_cropped/images/INHS_FISH_46194_aug5.jpg saved!\n",
      "/home/elhamod/HGNN/data/INHS_cropped/images/INHS_FISH_46194_aug6.jpg saved!\n",
      "/home/elhamod/HGNN/data/INHS_cropped/images/INHS_FISH_46194_aug7.jpg saved!\n",
      "/home/elhamod/HGNN/data/INHS_cropped/images/INHS_FISH_46194_aug8.jpg saved!\n",
      "/home/elhamod/HGNN/data/INHS_cropped/images/INHS_FISH_46194_aug9.jpg saved!\n"
     ]
    },
    {
     "name": "stderr",
     "output_type": "stream",
     "text": [
      "\r",
      " 21% (118 of 550) |####                  | Elapsed Time: 0:02:15 ETA:   0:08:09"
     ]
    },
    {
     "name": "stdout",
     "output_type": "stream",
     "text": [
      "/home/elhamod/HGNN/data/INHS_cropped/images/INHS_FISH_44641_aug0.jpg saved!\n",
      "/home/elhamod/HGNN/data/INHS_cropped/images/INHS_FISH_44641_aug1.jpg saved!\n",
      "/home/elhamod/HGNN/data/INHS_cropped/images/INHS_FISH_44641_aug2.jpg saved!\n",
      "/home/elhamod/HGNN/data/INHS_cropped/images/INHS_FISH_44641_aug3.jpg saved!\n",
      "/home/elhamod/HGNN/data/INHS_cropped/images/INHS_FISH_44641_aug4.jpg saved!\n",
      "/home/elhamod/HGNN/data/INHS_cropped/images/INHS_FISH_44641_aug5.jpg saved!\n",
      "/home/elhamod/HGNN/data/INHS_cropped/images/INHS_FISH_44641_aug6.jpg saved!\n",
      "/home/elhamod/HGNN/data/INHS_cropped/images/INHS_FISH_44641_aug7.jpg saved!\n",
      "/home/elhamod/HGNN/data/INHS_cropped/images/INHS_FISH_44641_aug8.jpg saved!\n",
      "/home/elhamod/HGNN/data/INHS_cropped/images/INHS_FISH_44641_aug9.jpg saved!\n"
     ]
    },
    {
     "name": "stderr",
     "output_type": "stream",
     "text": [
      "\r",
      " 21% (119 of 550) |####                  | Elapsed Time: 0:02:16 ETA:   0:08:12"
     ]
    },
    {
     "name": "stdout",
     "output_type": "stream",
     "text": [
      "/home/elhamod/HGNN/data/INHS_cropped/images/INHS_FISH_25964_aug0.jpg saved!\n",
      "/home/elhamod/HGNN/data/INHS_cropped/images/INHS_FISH_25964_aug1.jpg saved!\n",
      "/home/elhamod/HGNN/data/INHS_cropped/images/INHS_FISH_25964_aug2.jpg saved!\n",
      "/home/elhamod/HGNN/data/INHS_cropped/images/INHS_FISH_25964_aug3.jpg saved!\n",
      "/home/elhamod/HGNN/data/INHS_cropped/images/INHS_FISH_25964_aug4.jpg saved!\n",
      "/home/elhamod/HGNN/data/INHS_cropped/images/INHS_FISH_25964_aug5.jpg saved!\n",
      "/home/elhamod/HGNN/data/INHS_cropped/images/INHS_FISH_25964_aug6.jpg saved!\n",
      "/home/elhamod/HGNN/data/INHS_cropped/images/INHS_FISH_25964_aug7.jpg saved!\n",
      "/home/elhamod/HGNN/data/INHS_cropped/images/INHS_FISH_25964_aug8.jpg saved!\n",
      "/home/elhamod/HGNN/data/INHS_cropped/images/INHS_FISH_25964_aug9.jpg saved!\n"
     ]
    },
    {
     "name": "stderr",
     "output_type": "stream",
     "text": [
      "\r",
      " 21% (120 of 550) |####                  | Elapsed Time: 0:02:17 ETA:   0:08:15"
     ]
    },
    {
     "name": "stdout",
     "output_type": "stream",
     "text": [
      "/home/elhamod/HGNN/data/INHS_cropped/images/INHS_FISH_32929_aug0.jpg saved!\n",
      "/home/elhamod/HGNN/data/INHS_cropped/images/INHS_FISH_32929_aug1.jpg saved!\n",
      "/home/elhamod/HGNN/data/INHS_cropped/images/INHS_FISH_32929_aug2.jpg saved!\n",
      "/home/elhamod/HGNN/data/INHS_cropped/images/INHS_FISH_32929_aug3.jpg saved!\n",
      "/home/elhamod/HGNN/data/INHS_cropped/images/INHS_FISH_32929_aug4.jpg saved!\n",
      "/home/elhamod/HGNN/data/INHS_cropped/images/INHS_FISH_32929_aug5.jpg saved!\n",
      "/home/elhamod/HGNN/data/INHS_cropped/images/INHS_FISH_32929_aug6.jpg saved!\n",
      "/home/elhamod/HGNN/data/INHS_cropped/images/INHS_FISH_32929_aug7.jpg saved!\n",
      "/home/elhamod/HGNN/data/INHS_cropped/images/INHS_FISH_32929_aug8.jpg saved!\n",
      "/home/elhamod/HGNN/data/INHS_cropped/images/INHS_FISH_32929_aug9.jpg saved!\n"
     ]
    },
    {
     "name": "stderr",
     "output_type": "stream",
     "text": [
      "\r",
      " 22% (121 of 550) |####                  | Elapsed Time: 0:02:18 ETA:   0:08:12"
     ]
    },
    {
     "name": "stdout",
     "output_type": "stream",
     "text": [
      "/home/elhamod/HGNN/data/INHS_cropped/images/INHS_FISH_6540_aug0.jpg saved!\n",
      "/home/elhamod/HGNN/data/INHS_cropped/images/INHS_FISH_6540_aug1.jpg saved!\n",
      "/home/elhamod/HGNN/data/INHS_cropped/images/INHS_FISH_6540_aug2.jpg saved!\n",
      "/home/elhamod/HGNN/data/INHS_cropped/images/INHS_FISH_6540_aug3.jpg saved!\n",
      "/home/elhamod/HGNN/data/INHS_cropped/images/INHS_FISH_6540_aug4.jpg saved!\n",
      "/home/elhamod/HGNN/data/INHS_cropped/images/INHS_FISH_6540_aug5.jpg saved!\n",
      "/home/elhamod/HGNN/data/INHS_cropped/images/INHS_FISH_6540_aug6.jpg saved!\n",
      "/home/elhamod/HGNN/data/INHS_cropped/images/INHS_FISH_6540_aug7.jpg saved!\n",
      "/home/elhamod/HGNN/data/INHS_cropped/images/INHS_FISH_6540_aug8.jpg saved!\n",
      "/home/elhamod/HGNN/data/INHS_cropped/images/INHS_FISH_6540_aug9.jpg saved!\n"
     ]
    },
    {
     "name": "stderr",
     "output_type": "stream",
     "text": [
      "\r",
      " 22% (122 of 550) |####                  | Elapsed Time: 0:02:19 ETA:   0:08:03"
     ]
    },
    {
     "name": "stdout",
     "output_type": "stream",
     "text": [
      "/home/elhamod/HGNN/data/INHS_cropped/images/INHS_FISH_79504_aug0.jpg saved!\n",
      "/home/elhamod/HGNN/data/INHS_cropped/images/INHS_FISH_79504_aug1.jpg saved!\n",
      "/home/elhamod/HGNN/data/INHS_cropped/images/INHS_FISH_79504_aug2.jpg saved!\n",
      "/home/elhamod/HGNN/data/INHS_cropped/images/INHS_FISH_79504_aug3.jpg saved!\n",
      "/home/elhamod/HGNN/data/INHS_cropped/images/INHS_FISH_79504_aug4.jpg saved!\n",
      "/home/elhamod/HGNN/data/INHS_cropped/images/INHS_FISH_79504_aug5.jpg saved!\n",
      "/home/elhamod/HGNN/data/INHS_cropped/images/INHS_FISH_79504_aug6.jpg saved!\n",
      "/home/elhamod/HGNN/data/INHS_cropped/images/INHS_FISH_79504_aug7.jpg saved!\n",
      "/home/elhamod/HGNN/data/INHS_cropped/images/INHS_FISH_79504_aug8.jpg saved!\n",
      "/home/elhamod/HGNN/data/INHS_cropped/images/INHS_FISH_79504_aug9.jpg saved!\n"
     ]
    },
    {
     "name": "stderr",
     "output_type": "stream",
     "text": [
      "\r",
      " 22% (123 of 550) |####                  | Elapsed Time: 0:02:20 ETA:   0:08:03"
     ]
    },
    {
     "name": "stdout",
     "output_type": "stream",
     "text": [
      "/home/elhamod/HGNN/data/INHS_cropped/images/INHS_FISH_11789_aug0.jpg saved!\n",
      "/home/elhamod/HGNN/data/INHS_cropped/images/INHS_FISH_11789_aug1.jpg saved!\n",
      "/home/elhamod/HGNN/data/INHS_cropped/images/INHS_FISH_11789_aug2.jpg saved!\n",
      "/home/elhamod/HGNN/data/INHS_cropped/images/INHS_FISH_11789_aug3.jpg saved!\n",
      "/home/elhamod/HGNN/data/INHS_cropped/images/INHS_FISH_11789_aug4.jpg saved!\n",
      "/home/elhamod/HGNN/data/INHS_cropped/images/INHS_FISH_11789_aug5.jpg saved!\n",
      "/home/elhamod/HGNN/data/INHS_cropped/images/INHS_FISH_11789_aug6.jpg saved!\n",
      "/home/elhamod/HGNN/data/INHS_cropped/images/INHS_FISH_11789_aug7.jpg saved!\n",
      "/home/elhamod/HGNN/data/INHS_cropped/images/INHS_FISH_11789_aug8.jpg saved!\n",
      "/home/elhamod/HGNN/data/INHS_cropped/images/INHS_FISH_11789_aug9.jpg saved!\n"
     ]
    },
    {
     "name": "stderr",
     "output_type": "stream",
     "text": [
      "\r",
      " 22% (124 of 550) |####                  | Elapsed Time: 0:02:21 ETA:   0:08:24"
     ]
    },
    {
     "name": "stdout",
     "output_type": "stream",
     "text": [
      "/home/elhamod/HGNN/data/INHS_cropped/images/INHS_FISH_64335_aug0.jpg saved!\n",
      "/home/elhamod/HGNN/data/INHS_cropped/images/INHS_FISH_64335_aug1.jpg saved!\n",
      "/home/elhamod/HGNN/data/INHS_cropped/images/INHS_FISH_64335_aug2.jpg saved!\n",
      "/home/elhamod/HGNN/data/INHS_cropped/images/INHS_FISH_64335_aug3.jpg saved!\n",
      "/home/elhamod/HGNN/data/INHS_cropped/images/INHS_FISH_64335_aug4.jpg saved!\n",
      "/home/elhamod/HGNN/data/INHS_cropped/images/INHS_FISH_64335_aug5.jpg saved!\n",
      "/home/elhamod/HGNN/data/INHS_cropped/images/INHS_FISH_64335_aug6.jpg saved!\n",
      "/home/elhamod/HGNN/data/INHS_cropped/images/INHS_FISH_64335_aug7.jpg saved!\n",
      "/home/elhamod/HGNN/data/INHS_cropped/images/INHS_FISH_64335_aug8.jpg saved!\n",
      "/home/elhamod/HGNN/data/INHS_cropped/images/INHS_FISH_64335_aug9.jpg saved!\n"
     ]
    },
    {
     "name": "stderr",
     "output_type": "stream",
     "text": [
      "\r",
      " 22% (125 of 550) |#####                 | Elapsed Time: 0:02:23 ETA:   0:08:21"
     ]
    },
    {
     "name": "stdout",
     "output_type": "stream",
     "text": [
      "/home/elhamod/HGNN/data/INHS_cropped/images/INHS_FISH_64836_aug0.jpg saved!\n",
      "/home/elhamod/HGNN/data/INHS_cropped/images/INHS_FISH_64836_aug1.jpg saved!\n",
      "/home/elhamod/HGNN/data/INHS_cropped/images/INHS_FISH_64836_aug2.jpg saved!\n",
      "/home/elhamod/HGNN/data/INHS_cropped/images/INHS_FISH_64836_aug3.jpg saved!\n",
      "/home/elhamod/HGNN/data/INHS_cropped/images/INHS_FISH_64836_aug4.jpg saved!\n",
      "/home/elhamod/HGNN/data/INHS_cropped/images/INHS_FISH_64836_aug5.jpg saved!\n",
      "/home/elhamod/HGNN/data/INHS_cropped/images/INHS_FISH_64836_aug6.jpg saved!\n",
      "/home/elhamod/HGNN/data/INHS_cropped/images/INHS_FISH_64836_aug7.jpg saved!\n",
      "/home/elhamod/HGNN/data/INHS_cropped/images/INHS_FISH_64836_aug8.jpg saved!\n",
      "/home/elhamod/HGNN/data/INHS_cropped/images/INHS_FISH_64836_aug9.jpg saved!\n"
     ]
    },
    {
     "name": "stderr",
     "output_type": "stream",
     "text": [
      "\r",
      " 22% (126 of 550) |#####                 | Elapsed Time: 0:02:24 ETA:   0:08:01"
     ]
    },
    {
     "name": "stdout",
     "output_type": "stream",
     "text": [
      "/home/elhamod/HGNN/data/INHS_cropped/images/INHS_FISH_80568_aug0.jpg saved!\n",
      "/home/elhamod/HGNN/data/INHS_cropped/images/INHS_FISH_80568_aug1.jpg saved!\n",
      "/home/elhamod/HGNN/data/INHS_cropped/images/INHS_FISH_80568_aug2.jpg saved!\n",
      "/home/elhamod/HGNN/data/INHS_cropped/images/INHS_FISH_80568_aug3.jpg saved!\n",
      "/home/elhamod/HGNN/data/INHS_cropped/images/INHS_FISH_80568_aug4.jpg saved!\n",
      "/home/elhamod/HGNN/data/INHS_cropped/images/INHS_FISH_80568_aug5.jpg saved!\n",
      "/home/elhamod/HGNN/data/INHS_cropped/images/INHS_FISH_80568_aug6.jpg saved!\n",
      "/home/elhamod/HGNN/data/INHS_cropped/images/INHS_FISH_80568_aug7.jpg saved!\n",
      "/home/elhamod/HGNN/data/INHS_cropped/images/INHS_FISH_80568_aug8.jpg saved!\n",
      "/home/elhamod/HGNN/data/INHS_cropped/images/INHS_FISH_80568_aug9.jpg saved!\n"
     ]
    },
    {
     "name": "stderr",
     "output_type": "stream",
     "text": [
      "\r",
      " 23% (127 of 550) |#####                 | Elapsed Time: 0:02:25 ETA:   0:08:10"
     ]
    },
    {
     "name": "stdout",
     "output_type": "stream",
     "text": [
      "/home/elhamod/HGNN/data/INHS_cropped/images/INHS_FISH_41171_aug0.jpg saved!\n",
      "/home/elhamod/HGNN/data/INHS_cropped/images/INHS_FISH_41171_aug1.jpg saved!\n",
      "/home/elhamod/HGNN/data/INHS_cropped/images/INHS_FISH_41171_aug2.jpg saved!\n",
      "/home/elhamod/HGNN/data/INHS_cropped/images/INHS_FISH_41171_aug3.jpg saved!\n",
      "/home/elhamod/HGNN/data/INHS_cropped/images/INHS_FISH_41171_aug4.jpg saved!\n",
      "/home/elhamod/HGNN/data/INHS_cropped/images/INHS_FISH_41171_aug5.jpg saved!\n",
      "/home/elhamod/HGNN/data/INHS_cropped/images/INHS_FISH_41171_aug6.jpg saved!\n",
      "/home/elhamod/HGNN/data/INHS_cropped/images/INHS_FISH_41171_aug7.jpg saved!\n",
      "/home/elhamod/HGNN/data/INHS_cropped/images/INHS_FISH_41171_aug8.jpg saved!\n",
      "/home/elhamod/HGNN/data/INHS_cropped/images/INHS_FISH_41171_aug9.jpg saved!\n"
     ]
    },
    {
     "name": "stderr",
     "output_type": "stream",
     "text": [
      "\r",
      " 23% (128 of 550) |#####                 | Elapsed Time: 0:02:26 ETA:   0:08:14"
     ]
    },
    {
     "name": "stdout",
     "output_type": "stream",
     "text": [
      "/home/elhamod/HGNN/data/INHS_cropped/images/INHS_FISH_75084_aug0.jpg saved!\n",
      "/home/elhamod/HGNN/data/INHS_cropped/images/INHS_FISH_75084_aug1.jpg saved!\n",
      "/home/elhamod/HGNN/data/INHS_cropped/images/INHS_FISH_75084_aug2.jpg saved!\n",
      "/home/elhamod/HGNN/data/INHS_cropped/images/INHS_FISH_75084_aug3.jpg saved!\n",
      "/home/elhamod/HGNN/data/INHS_cropped/images/INHS_FISH_75084_aug4.jpg saved!\n",
      "/home/elhamod/HGNN/data/INHS_cropped/images/INHS_FISH_75084_aug5.jpg saved!\n",
      "/home/elhamod/HGNN/data/INHS_cropped/images/INHS_FISH_75084_aug6.jpg saved!\n",
      "/home/elhamod/HGNN/data/INHS_cropped/images/INHS_FISH_75084_aug7.jpg saved!\n",
      "/home/elhamod/HGNN/data/INHS_cropped/images/INHS_FISH_75084_aug8.jpg saved!\n",
      "/home/elhamod/HGNN/data/INHS_cropped/images/INHS_FISH_75084_aug9.jpg saved!\n"
     ]
    },
    {
     "name": "stderr",
     "output_type": "stream",
     "text": [
      "\r",
      " 23% (129 of 550) |#####                 | Elapsed Time: 0:02:27 ETA:   0:08:00"
     ]
    },
    {
     "name": "stdout",
     "output_type": "stream",
     "text": [
      "/home/elhamod/HGNN/data/INHS_cropped/images/INHS_FISH_20523_aug0.jpg saved!\n",
      "/home/elhamod/HGNN/data/INHS_cropped/images/INHS_FISH_20523_aug1.jpg saved!\n",
      "/home/elhamod/HGNN/data/INHS_cropped/images/INHS_FISH_20523_aug2.jpg saved!\n",
      "/home/elhamod/HGNN/data/INHS_cropped/images/INHS_FISH_20523_aug3.jpg saved!\n",
      "/home/elhamod/HGNN/data/INHS_cropped/images/INHS_FISH_20523_aug4.jpg saved!\n",
      "/home/elhamod/HGNN/data/INHS_cropped/images/INHS_FISH_20523_aug5.jpg saved!\n",
      "/home/elhamod/HGNN/data/INHS_cropped/images/INHS_FISH_20523_aug6.jpg saved!\n",
      "/home/elhamod/HGNN/data/INHS_cropped/images/INHS_FISH_20523_aug7.jpg saved!\n",
      "/home/elhamod/HGNN/data/INHS_cropped/images/INHS_FISH_20523_aug8.jpg saved!\n",
      "/home/elhamod/HGNN/data/INHS_cropped/images/INHS_FISH_20523_aug9.jpg saved!\n"
     ]
    },
    {
     "name": "stderr",
     "output_type": "stream",
     "text": [
      "\r",
      " 23% (130 of 550) |#####                 | Elapsed Time: 0:02:28 ETA:   0:07:47"
     ]
    },
    {
     "name": "stdout",
     "output_type": "stream",
     "text": [
      "/home/elhamod/HGNN/data/INHS_cropped/images/INHS_FISH_108714_aug0.jpg saved!\n",
      "/home/elhamod/HGNN/data/INHS_cropped/images/INHS_FISH_108714_aug1.jpg saved!\n",
      "/home/elhamod/HGNN/data/INHS_cropped/images/INHS_FISH_108714_aug2.jpg saved!\n",
      "/home/elhamod/HGNN/data/INHS_cropped/images/INHS_FISH_108714_aug3.jpg saved!\n",
      "/home/elhamod/HGNN/data/INHS_cropped/images/INHS_FISH_108714_aug4.jpg saved!\n",
      "/home/elhamod/HGNN/data/INHS_cropped/images/INHS_FISH_108714_aug5.jpg saved!\n",
      "/home/elhamod/HGNN/data/INHS_cropped/images/INHS_FISH_108714_aug6.jpg saved!\n",
      "/home/elhamod/HGNN/data/INHS_cropped/images/INHS_FISH_108714_aug7.jpg saved!\n",
      "/home/elhamod/HGNN/data/INHS_cropped/images/INHS_FISH_108714_aug8.jpg saved!\n",
      "/home/elhamod/HGNN/data/INHS_cropped/images/INHS_FISH_108714_aug9.jpg saved!\n"
     ]
    },
    {
     "name": "stderr",
     "output_type": "stream",
     "text": [
      "\r",
      " 23% (131 of 550) |#####                 | Elapsed Time: 0:02:30 ETA:   0:07:58"
     ]
    },
    {
     "name": "stdout",
     "output_type": "stream",
     "text": [
      "/home/elhamod/HGNN/data/INHS_cropped/images/INHS_FISH_33504_aug0.jpg saved!\n",
      "/home/elhamod/HGNN/data/INHS_cropped/images/INHS_FISH_33504_aug1.jpg saved!\n",
      "/home/elhamod/HGNN/data/INHS_cropped/images/INHS_FISH_33504_aug2.jpg saved!\n",
      "/home/elhamod/HGNN/data/INHS_cropped/images/INHS_FISH_33504_aug3.jpg saved!\n",
      "/home/elhamod/HGNN/data/INHS_cropped/images/INHS_FISH_33504_aug4.jpg saved!\n",
      "/home/elhamod/HGNN/data/INHS_cropped/images/INHS_FISH_33504_aug5.jpg saved!\n",
      "/home/elhamod/HGNN/data/INHS_cropped/images/INHS_FISH_33504_aug6.jpg saved!\n",
      "/home/elhamod/HGNN/data/INHS_cropped/images/INHS_FISH_33504_aug7.jpg saved!\n",
      "/home/elhamod/HGNN/data/INHS_cropped/images/INHS_FISH_33504_aug8.jpg saved!\n",
      "/home/elhamod/HGNN/data/INHS_cropped/images/INHS_FISH_33504_aug9.jpg saved!\n"
     ]
    },
    {
     "name": "stderr",
     "output_type": "stream",
     "text": [
      "\r",
      " 24% (132 of 550) |#####                 | Elapsed Time: 0:02:31 ETA:   0:08:02"
     ]
    },
    {
     "name": "stdout",
     "output_type": "stream",
     "text": [
      "/home/elhamod/HGNN/data/INHS_cropped/images/INHS_FISH_74205_aug0.jpg saved!\n",
      "/home/elhamod/HGNN/data/INHS_cropped/images/INHS_FISH_74205_aug1.jpg saved!\n",
      "/home/elhamod/HGNN/data/INHS_cropped/images/INHS_FISH_74205_aug2.jpg saved!\n",
      "/home/elhamod/HGNN/data/INHS_cropped/images/INHS_FISH_74205_aug3.jpg saved!\n",
      "/home/elhamod/HGNN/data/INHS_cropped/images/INHS_FISH_74205_aug4.jpg saved!\n",
      "/home/elhamod/HGNN/data/INHS_cropped/images/INHS_FISH_74205_aug5.jpg saved!\n",
      "/home/elhamod/HGNN/data/INHS_cropped/images/INHS_FISH_74205_aug6.jpg saved!\n",
      "/home/elhamod/HGNN/data/INHS_cropped/images/INHS_FISH_74205_aug7.jpg saved!\n",
      "/home/elhamod/HGNN/data/INHS_cropped/images/INHS_FISH_74205_aug8.jpg saved!\n",
      "/home/elhamod/HGNN/data/INHS_cropped/images/INHS_FISH_74205_aug9.jpg saved!\n"
     ]
    },
    {
     "name": "stderr",
     "output_type": "stream",
     "text": [
      "\r",
      " 24% (133 of 550) |#####                 | Elapsed Time: 0:02:32 ETA:   0:07:51"
     ]
    },
    {
     "name": "stdout",
     "output_type": "stream",
     "text": [
      "/home/elhamod/HGNN/data/INHS_cropped/images/INHS_FISH_62927_aug0.jpg saved!\n",
      "/home/elhamod/HGNN/data/INHS_cropped/images/INHS_FISH_62927_aug1.jpg saved!\n",
      "/home/elhamod/HGNN/data/INHS_cropped/images/INHS_FISH_62927_aug2.jpg saved!\n",
      "/home/elhamod/HGNN/data/INHS_cropped/images/INHS_FISH_62927_aug3.jpg saved!\n",
      "/home/elhamod/HGNN/data/INHS_cropped/images/INHS_FISH_62927_aug4.jpg saved!\n",
      "/home/elhamod/HGNN/data/INHS_cropped/images/INHS_FISH_62927_aug5.jpg saved!\n",
      "/home/elhamod/HGNN/data/INHS_cropped/images/INHS_FISH_62927_aug6.jpg saved!\n",
      "/home/elhamod/HGNN/data/INHS_cropped/images/INHS_FISH_62927_aug7.jpg saved!\n",
      "/home/elhamod/HGNN/data/INHS_cropped/images/INHS_FISH_62927_aug8.jpg saved!\n",
      "/home/elhamod/HGNN/data/INHS_cropped/images/INHS_FISH_62927_aug9.jpg saved!\n"
     ]
    },
    {
     "name": "stderr",
     "output_type": "stream",
     "text": [
      "\r",
      " 24% (134 of 550) |#####                 | Elapsed Time: 0:02:33 ETA:   0:07:55"
     ]
    },
    {
     "name": "stdout",
     "output_type": "stream",
     "text": [
      "/home/elhamod/HGNN/data/INHS_cropped/images/INHS_FISH_1587_aug0.jpg saved!\n",
      "/home/elhamod/HGNN/data/INHS_cropped/images/INHS_FISH_1587_aug1.jpg saved!\n",
      "/home/elhamod/HGNN/data/INHS_cropped/images/INHS_FISH_1587_aug2.jpg saved!\n",
      "/home/elhamod/HGNN/data/INHS_cropped/images/INHS_FISH_1587_aug3.jpg saved!\n",
      "/home/elhamod/HGNN/data/INHS_cropped/images/INHS_FISH_1587_aug4.jpg saved!\n",
      "/home/elhamod/HGNN/data/INHS_cropped/images/INHS_FISH_1587_aug5.jpg saved!\n",
      "/home/elhamod/HGNN/data/INHS_cropped/images/INHS_FISH_1587_aug6.jpg saved!\n",
      "/home/elhamod/HGNN/data/INHS_cropped/images/INHS_FISH_1587_aug7.jpg saved!\n",
      "/home/elhamod/HGNN/data/INHS_cropped/images/INHS_FISH_1587_aug8.jpg saved!\n",
      "/home/elhamod/HGNN/data/INHS_cropped/images/INHS_FISH_1587_aug9.jpg saved!\n"
     ]
    },
    {
     "name": "stderr",
     "output_type": "stream",
     "text": [
      "\r",
      " 24% (135 of 550) |#####                 | Elapsed Time: 0:02:34 ETA:   0:07:55"
     ]
    },
    {
     "name": "stdout",
     "output_type": "stream",
     "text": [
      "/home/elhamod/HGNN/data/INHS_cropped/images/INHS_FISH_103780_aug0.jpg saved!\n",
      "/home/elhamod/HGNN/data/INHS_cropped/images/INHS_FISH_103780_aug1.jpg saved!\n",
      "/home/elhamod/HGNN/data/INHS_cropped/images/INHS_FISH_103780_aug2.jpg saved!\n",
      "/home/elhamod/HGNN/data/INHS_cropped/images/INHS_FISH_103780_aug3.jpg saved!\n",
      "/home/elhamod/HGNN/data/INHS_cropped/images/INHS_FISH_103780_aug4.jpg saved!\n",
      "/home/elhamod/HGNN/data/INHS_cropped/images/INHS_FISH_103780_aug5.jpg saved!\n",
      "/home/elhamod/HGNN/data/INHS_cropped/images/INHS_FISH_103780_aug6.jpg saved!\n",
      "/home/elhamod/HGNN/data/INHS_cropped/images/INHS_FISH_103780_aug7.jpg saved!\n",
      "/home/elhamod/HGNN/data/INHS_cropped/images/INHS_FISH_103780_aug8.jpg saved!\n",
      "/home/elhamod/HGNN/data/INHS_cropped/images/INHS_FISH_103780_aug9.jpg saved!\n"
     ]
    },
    {
     "name": "stderr",
     "output_type": "stream",
     "text": [
      "\r",
      " 24% (136 of 550) |#####                 | Elapsed Time: 0:02:35 ETA:   0:07:50"
     ]
    },
    {
     "name": "stdout",
     "output_type": "stream",
     "text": [
      "/home/elhamod/HGNN/data/INHS_cropped/images/INHS_FISH_000710_aug0.jpg saved!\n",
      "/home/elhamod/HGNN/data/INHS_cropped/images/INHS_FISH_000710_aug1.jpg saved!\n",
      "/home/elhamod/HGNN/data/INHS_cropped/images/INHS_FISH_000710_aug2.jpg saved!\n",
      "/home/elhamod/HGNN/data/INHS_cropped/images/INHS_FISH_000710_aug3.jpg saved!\n",
      "/home/elhamod/HGNN/data/INHS_cropped/images/INHS_FISH_000710_aug4.jpg saved!\n",
      "/home/elhamod/HGNN/data/INHS_cropped/images/INHS_FISH_000710_aug5.jpg saved!\n",
      "/home/elhamod/HGNN/data/INHS_cropped/images/INHS_FISH_000710_aug6.jpg saved!\n",
      "/home/elhamod/HGNN/data/INHS_cropped/images/INHS_FISH_000710_aug7.jpg saved!\n",
      "/home/elhamod/HGNN/data/INHS_cropped/images/INHS_FISH_000710_aug8.jpg saved!\n",
      "/home/elhamod/HGNN/data/INHS_cropped/images/INHS_FISH_000710_aug9.jpg saved!\n"
     ]
    },
    {
     "name": "stderr",
     "output_type": "stream",
     "text": [
      "\r",
      " 24% (137 of 550) |#####                 | Elapsed Time: 0:02:36 ETA:   0:07:55"
     ]
    },
    {
     "name": "stdout",
     "output_type": "stream",
     "text": [
      "/home/elhamod/HGNN/data/INHS_cropped/images/INHS_FISH_50076_aug0.jpg saved!\n",
      "/home/elhamod/HGNN/data/INHS_cropped/images/INHS_FISH_50076_aug1.jpg saved!\n",
      "/home/elhamod/HGNN/data/INHS_cropped/images/INHS_FISH_50076_aug2.jpg saved!\n",
      "/home/elhamod/HGNN/data/INHS_cropped/images/INHS_FISH_50076_aug3.jpg saved!\n",
      "/home/elhamod/HGNN/data/INHS_cropped/images/INHS_FISH_50076_aug4.jpg saved!\n",
      "/home/elhamod/HGNN/data/INHS_cropped/images/INHS_FISH_50076_aug5.jpg saved!\n",
      "/home/elhamod/HGNN/data/INHS_cropped/images/INHS_FISH_50076_aug6.jpg saved!\n",
      "/home/elhamod/HGNN/data/INHS_cropped/images/INHS_FISH_50076_aug7.jpg saved!\n",
      "/home/elhamod/HGNN/data/INHS_cropped/images/INHS_FISH_50076_aug8.jpg saved!\n",
      "/home/elhamod/HGNN/data/INHS_cropped/images/INHS_FISH_50076_aug9.jpg saved!\n"
     ]
    },
    {
     "name": "stderr",
     "output_type": "stream",
     "text": [
      "\r",
      " 25% (138 of 550) |#####                 | Elapsed Time: 0:02:38 ETA:   0:07:56"
     ]
    },
    {
     "name": "stdout",
     "output_type": "stream",
     "text": [
      "/home/elhamod/HGNN/data/INHS_cropped/images/INHS_FISH_102092_aug0.jpg saved!\n",
      "/home/elhamod/HGNN/data/INHS_cropped/images/INHS_FISH_102092_aug1.jpg saved!\n",
      "/home/elhamod/HGNN/data/INHS_cropped/images/INHS_FISH_102092_aug2.jpg saved!\n",
      "/home/elhamod/HGNN/data/INHS_cropped/images/INHS_FISH_102092_aug3.jpg saved!\n",
      "/home/elhamod/HGNN/data/INHS_cropped/images/INHS_FISH_102092_aug4.jpg saved!\n",
      "/home/elhamod/HGNN/data/INHS_cropped/images/INHS_FISH_102092_aug5.jpg saved!\n",
      "/home/elhamod/HGNN/data/INHS_cropped/images/INHS_FISH_102092_aug6.jpg saved!\n",
      "/home/elhamod/HGNN/data/INHS_cropped/images/INHS_FISH_102092_aug7.jpg saved!\n",
      "/home/elhamod/HGNN/data/INHS_cropped/images/INHS_FISH_102092_aug8.jpg saved!\n",
      "/home/elhamod/HGNN/data/INHS_cropped/images/INHS_FISH_102092_aug9.jpg saved!\n"
     ]
    },
    {
     "name": "stderr",
     "output_type": "stream",
     "text": [
      "\r",
      " 25% (139 of 550) |#####                 | Elapsed Time: 0:02:39 ETA:   0:07:58"
     ]
    },
    {
     "name": "stdout",
     "output_type": "stream",
     "text": [
      "/home/elhamod/HGNN/data/INHS_cropped/images/INHS_FISH_63061_aug0.jpg saved!\n",
      "/home/elhamod/HGNN/data/INHS_cropped/images/INHS_FISH_63061_aug1.jpg saved!\n",
      "/home/elhamod/HGNN/data/INHS_cropped/images/INHS_FISH_63061_aug2.jpg saved!\n",
      "/home/elhamod/HGNN/data/INHS_cropped/images/INHS_FISH_63061_aug3.jpg saved!\n",
      "/home/elhamod/HGNN/data/INHS_cropped/images/INHS_FISH_63061_aug4.jpg saved!\n",
      "/home/elhamod/HGNN/data/INHS_cropped/images/INHS_FISH_63061_aug5.jpg saved!\n",
      "/home/elhamod/HGNN/data/INHS_cropped/images/INHS_FISH_63061_aug6.jpg saved!\n",
      "/home/elhamod/HGNN/data/INHS_cropped/images/INHS_FISH_63061_aug7.jpg saved!\n",
      "/home/elhamod/HGNN/data/INHS_cropped/images/INHS_FISH_63061_aug8.jpg saved!\n",
      "/home/elhamod/HGNN/data/INHS_cropped/images/INHS_FISH_63061_aug9.jpg saved!\n"
     ]
    },
    {
     "name": "stderr",
     "output_type": "stream",
     "text": [
      "\r",
      " 25% (140 of 550) |#####                 | Elapsed Time: 0:02:40 ETA:   0:08:01"
     ]
    },
    {
     "name": "stdout",
     "output_type": "stream",
     "text": [
      "/home/elhamod/HGNN/data/INHS_cropped/images/INHS_FISH_77132_aug0.jpg saved!\n",
      "/home/elhamod/HGNN/data/INHS_cropped/images/INHS_FISH_77132_aug1.jpg saved!\n",
      "/home/elhamod/HGNN/data/INHS_cropped/images/INHS_FISH_77132_aug2.jpg saved!\n",
      "/home/elhamod/HGNN/data/INHS_cropped/images/INHS_FISH_77132_aug3.jpg saved!\n",
      "/home/elhamod/HGNN/data/INHS_cropped/images/INHS_FISH_77132_aug4.jpg saved!\n",
      "/home/elhamod/HGNN/data/INHS_cropped/images/INHS_FISH_77132_aug5.jpg saved!\n",
      "/home/elhamod/HGNN/data/INHS_cropped/images/INHS_FISH_77132_aug6.jpg saved!\n",
      "/home/elhamod/HGNN/data/INHS_cropped/images/INHS_FISH_77132_aug7.jpg saved!\n",
      "/home/elhamod/HGNN/data/INHS_cropped/images/INHS_FISH_77132_aug8.jpg saved!\n",
      "/home/elhamod/HGNN/data/INHS_cropped/images/INHS_FISH_77132_aug9.jpg saved!\n"
     ]
    },
    {
     "name": "stderr",
     "output_type": "stream",
     "text": [
      "\r",
      " 25% (141 of 550) |#####                 | Elapsed Time: 0:02:41 ETA:   0:07:49"
     ]
    },
    {
     "name": "stdout",
     "output_type": "stream",
     "text": [
      "/home/elhamod/HGNN/data/INHS_cropped/images/INHS_FISH_31009_aug0.jpg saved!\n",
      "/home/elhamod/HGNN/data/INHS_cropped/images/INHS_FISH_31009_aug1.jpg saved!\n",
      "/home/elhamod/HGNN/data/INHS_cropped/images/INHS_FISH_31009_aug2.jpg saved!\n",
      "/home/elhamod/HGNN/data/INHS_cropped/images/INHS_FISH_31009_aug3.jpg saved!\n",
      "/home/elhamod/HGNN/data/INHS_cropped/images/INHS_FISH_31009_aug4.jpg saved!\n",
      "/home/elhamod/HGNN/data/INHS_cropped/images/INHS_FISH_31009_aug5.jpg saved!\n",
      "/home/elhamod/HGNN/data/INHS_cropped/images/INHS_FISH_31009_aug6.jpg saved!\n",
      "/home/elhamod/HGNN/data/INHS_cropped/images/INHS_FISH_31009_aug7.jpg saved!\n",
      "/home/elhamod/HGNN/data/INHS_cropped/images/INHS_FISH_31009_aug8.jpg saved!\n",
      "/home/elhamod/HGNN/data/INHS_cropped/images/INHS_FISH_31009_aug9.jpg saved!\n"
     ]
    },
    {
     "name": "stderr",
     "output_type": "stream",
     "text": [
      "\r",
      " 25% (142 of 550) |#####                 | Elapsed Time: 0:02:42 ETA:   0:07:43"
     ]
    },
    {
     "name": "stdout",
     "output_type": "stream",
     "text": [
      "/home/elhamod/HGNN/data/INHS_cropped/images/INHS_FISH_98964_aug0.jpg saved!\n",
      "/home/elhamod/HGNN/data/INHS_cropped/images/INHS_FISH_98964_aug1.jpg saved!\n",
      "/home/elhamod/HGNN/data/INHS_cropped/images/INHS_FISH_98964_aug2.jpg saved!\n",
      "/home/elhamod/HGNN/data/INHS_cropped/images/INHS_FISH_98964_aug3.jpg saved!\n",
      "/home/elhamod/HGNN/data/INHS_cropped/images/INHS_FISH_98964_aug4.jpg saved!\n",
      "/home/elhamod/HGNN/data/INHS_cropped/images/INHS_FISH_98964_aug5.jpg saved!\n",
      "/home/elhamod/HGNN/data/INHS_cropped/images/INHS_FISH_98964_aug6.jpg saved!\n",
      "/home/elhamod/HGNN/data/INHS_cropped/images/INHS_FISH_98964_aug7.jpg saved!\n",
      "/home/elhamod/HGNN/data/INHS_cropped/images/INHS_FISH_98964_aug8.jpg saved!\n",
      "/home/elhamod/HGNN/data/INHS_cropped/images/INHS_FISH_98964_aug9.jpg saved!\n"
     ]
    },
    {
     "name": "stderr",
     "output_type": "stream",
     "text": [
      "\r",
      " 26% (143 of 550) |#####                 | Elapsed Time: 0:02:43 ETA:   0:07:41"
     ]
    },
    {
     "name": "stdout",
     "output_type": "stream",
     "text": [
      "/home/elhamod/HGNN/data/INHS_cropped/images/INHS_FISH_96223_aug0.jpg saved!\n",
      "/home/elhamod/HGNN/data/INHS_cropped/images/INHS_FISH_96223_aug1.jpg saved!\n",
      "/home/elhamod/HGNN/data/INHS_cropped/images/INHS_FISH_96223_aug2.jpg saved!\n",
      "/home/elhamod/HGNN/data/INHS_cropped/images/INHS_FISH_96223_aug3.jpg saved!\n",
      "/home/elhamod/HGNN/data/INHS_cropped/images/INHS_FISH_96223_aug4.jpg saved!\n",
      "/home/elhamod/HGNN/data/INHS_cropped/images/INHS_FISH_96223_aug5.jpg saved!\n",
      "/home/elhamod/HGNN/data/INHS_cropped/images/INHS_FISH_96223_aug6.jpg saved!\n",
      "/home/elhamod/HGNN/data/INHS_cropped/images/INHS_FISH_96223_aug7.jpg saved!\n",
      "/home/elhamod/HGNN/data/INHS_cropped/images/INHS_FISH_96223_aug8.jpg saved!\n",
      "/home/elhamod/HGNN/data/INHS_cropped/images/INHS_FISH_96223_aug9.jpg saved!\n"
     ]
    },
    {
     "name": "stderr",
     "output_type": "stream",
     "text": [
      "\r",
      " 26% (144 of 550) |#####                 | Elapsed Time: 0:02:44 ETA:   0:07:34"
     ]
    },
    {
     "name": "stdout",
     "output_type": "stream",
     "text": [
      "/home/elhamod/HGNN/data/INHS_cropped/images/INHS_FISH_46191_aug0.jpg saved!\n",
      "/home/elhamod/HGNN/data/INHS_cropped/images/INHS_FISH_46191_aug1.jpg saved!\n",
      "/home/elhamod/HGNN/data/INHS_cropped/images/INHS_FISH_46191_aug2.jpg saved!\n",
      "/home/elhamod/HGNN/data/INHS_cropped/images/INHS_FISH_46191_aug3.jpg saved!\n",
      "/home/elhamod/HGNN/data/INHS_cropped/images/INHS_FISH_46191_aug4.jpg saved!\n",
      "/home/elhamod/HGNN/data/INHS_cropped/images/INHS_FISH_46191_aug5.jpg saved!\n",
      "/home/elhamod/HGNN/data/INHS_cropped/images/INHS_FISH_46191_aug6.jpg saved!\n",
      "/home/elhamod/HGNN/data/INHS_cropped/images/INHS_FISH_46191_aug7.jpg saved!\n",
      "/home/elhamod/HGNN/data/INHS_cropped/images/INHS_FISH_46191_aug8.jpg saved!\n",
      "/home/elhamod/HGNN/data/INHS_cropped/images/INHS_FISH_46191_aug9.jpg saved!\n"
     ]
    },
    {
     "name": "stderr",
     "output_type": "stream",
     "text": [
      "\r",
      " 26% (145 of 550) |#####                 | Elapsed Time: 0:02:45 ETA:   0:07:32"
     ]
    },
    {
     "name": "stdout",
     "output_type": "stream",
     "text": [
      "/home/elhamod/HGNN/data/INHS_cropped/images/INHS_FISH_107230_aug0.jpg saved!\n",
      "/home/elhamod/HGNN/data/INHS_cropped/images/INHS_FISH_107230_aug1.jpg saved!\n",
      "/home/elhamod/HGNN/data/INHS_cropped/images/INHS_FISH_107230_aug2.jpg saved!\n",
      "/home/elhamod/HGNN/data/INHS_cropped/images/INHS_FISH_107230_aug3.jpg saved!\n",
      "/home/elhamod/HGNN/data/INHS_cropped/images/INHS_FISH_107230_aug4.jpg saved!\n",
      "/home/elhamod/HGNN/data/INHS_cropped/images/INHS_FISH_107230_aug5.jpg saved!\n",
      "/home/elhamod/HGNN/data/INHS_cropped/images/INHS_FISH_107230_aug6.jpg saved!\n",
      "/home/elhamod/HGNN/data/INHS_cropped/images/INHS_FISH_107230_aug7.jpg saved!\n",
      "/home/elhamod/HGNN/data/INHS_cropped/images/INHS_FISH_107230_aug8.jpg saved!\n",
      "/home/elhamod/HGNN/data/INHS_cropped/images/INHS_FISH_107230_aug9.jpg saved!\n"
     ]
    },
    {
     "name": "stderr",
     "output_type": "stream",
     "text": [
      "\r",
      " 26% (146 of 550) |#####                 | Elapsed Time: 0:02:47 ETA:   0:07:35"
     ]
    },
    {
     "name": "stdout",
     "output_type": "stream",
     "text": [
      "/home/elhamod/HGNN/data/INHS_cropped/images/INHS_FISH_58949_aug0.jpg saved!\n",
      "/home/elhamod/HGNN/data/INHS_cropped/images/INHS_FISH_58949_aug1.jpg saved!\n",
      "/home/elhamod/HGNN/data/INHS_cropped/images/INHS_FISH_58949_aug2.jpg saved!\n",
      "/home/elhamod/HGNN/data/INHS_cropped/images/INHS_FISH_58949_aug3.jpg saved!\n",
      "/home/elhamod/HGNN/data/INHS_cropped/images/INHS_FISH_58949_aug4.jpg saved!\n",
      "/home/elhamod/HGNN/data/INHS_cropped/images/INHS_FISH_58949_aug5.jpg saved!\n",
      "/home/elhamod/HGNN/data/INHS_cropped/images/INHS_FISH_58949_aug6.jpg saved!\n",
      "/home/elhamod/HGNN/data/INHS_cropped/images/INHS_FISH_58949_aug7.jpg saved!\n",
      "/home/elhamod/HGNN/data/INHS_cropped/images/INHS_FISH_58949_aug8.jpg saved!\n",
      "/home/elhamod/HGNN/data/INHS_cropped/images/INHS_FISH_58949_aug9.jpg saved!\n"
     ]
    },
    {
     "name": "stderr",
     "output_type": "stream",
     "text": [
      "\r",
      " 26% (147 of 550) |#####                 | Elapsed Time: 0:02:48 ETA:   0:07:38"
     ]
    },
    {
     "name": "stdout",
     "output_type": "stream",
     "text": [
      "/home/elhamod/HGNN/data/INHS_cropped/images/INHS_FISH_2401_aug0.jpg saved!\n",
      "/home/elhamod/HGNN/data/INHS_cropped/images/INHS_FISH_2401_aug1.jpg saved!\n",
      "/home/elhamod/HGNN/data/INHS_cropped/images/INHS_FISH_2401_aug2.jpg saved!\n",
      "/home/elhamod/HGNN/data/INHS_cropped/images/INHS_FISH_2401_aug3.jpg saved!\n",
      "/home/elhamod/HGNN/data/INHS_cropped/images/INHS_FISH_2401_aug4.jpg saved!\n",
      "/home/elhamod/HGNN/data/INHS_cropped/images/INHS_FISH_2401_aug5.jpg saved!\n",
      "/home/elhamod/HGNN/data/INHS_cropped/images/INHS_FISH_2401_aug6.jpg saved!\n",
      "/home/elhamod/HGNN/data/INHS_cropped/images/INHS_FISH_2401_aug7.jpg saved!\n",
      "/home/elhamod/HGNN/data/INHS_cropped/images/INHS_FISH_2401_aug8.jpg saved!\n",
      "/home/elhamod/HGNN/data/INHS_cropped/images/INHS_FISH_2401_aug9.jpg saved!\n"
     ]
    },
    {
     "name": "stderr",
     "output_type": "stream",
     "text": [
      "\r",
      " 26% (148 of 550) |#####                 | Elapsed Time: 0:02:49 ETA:   0:07:34"
     ]
    },
    {
     "name": "stdout",
     "output_type": "stream",
     "text": [
      "/home/elhamod/HGNN/data/INHS_cropped/images/INHS_FISH_31003_aug0.jpg saved!\n",
      "/home/elhamod/HGNN/data/INHS_cropped/images/INHS_FISH_31003_aug1.jpg saved!\n",
      "/home/elhamod/HGNN/data/INHS_cropped/images/INHS_FISH_31003_aug2.jpg saved!\n",
      "/home/elhamod/HGNN/data/INHS_cropped/images/INHS_FISH_31003_aug3.jpg saved!\n",
      "/home/elhamod/HGNN/data/INHS_cropped/images/INHS_FISH_31003_aug4.jpg saved!\n",
      "/home/elhamod/HGNN/data/INHS_cropped/images/INHS_FISH_31003_aug5.jpg saved!\n",
      "/home/elhamod/HGNN/data/INHS_cropped/images/INHS_FISH_31003_aug6.jpg saved!\n",
      "/home/elhamod/HGNN/data/INHS_cropped/images/INHS_FISH_31003_aug7.jpg saved!\n",
      "/home/elhamod/HGNN/data/INHS_cropped/images/INHS_FISH_31003_aug8.jpg saved!\n",
      "/home/elhamod/HGNN/data/INHS_cropped/images/INHS_FISH_31003_aug9.jpg saved!\n"
     ]
    },
    {
     "name": "stderr",
     "output_type": "stream",
     "text": [
      "\r",
      " 27% (149 of 550) |#####                 | Elapsed Time: 0:02:50 ETA:   0:07:34"
     ]
    },
    {
     "name": "stdout",
     "output_type": "stream",
     "text": [
      "/home/elhamod/HGNN/data/INHS_cropped/images/INHS_FISH_48211_aug0.jpg saved!\n",
      "/home/elhamod/HGNN/data/INHS_cropped/images/INHS_FISH_48211_aug1.jpg saved!\n",
      "/home/elhamod/HGNN/data/INHS_cropped/images/INHS_FISH_48211_aug2.jpg saved!\n",
      "/home/elhamod/HGNN/data/INHS_cropped/images/INHS_FISH_48211_aug3.jpg saved!\n",
      "/home/elhamod/HGNN/data/INHS_cropped/images/INHS_FISH_48211_aug4.jpg saved!\n",
      "/home/elhamod/HGNN/data/INHS_cropped/images/INHS_FISH_48211_aug5.jpg saved!\n",
      "/home/elhamod/HGNN/data/INHS_cropped/images/INHS_FISH_48211_aug6.jpg saved!\n",
      "/home/elhamod/HGNN/data/INHS_cropped/images/INHS_FISH_48211_aug7.jpg saved!\n",
      "/home/elhamod/HGNN/data/INHS_cropped/images/INHS_FISH_48211_aug8.jpg saved!\n",
      "/home/elhamod/HGNN/data/INHS_cropped/images/INHS_FISH_48211_aug9.jpg saved!\n"
     ]
    },
    {
     "name": "stderr",
     "output_type": "stream",
     "text": [
      "\r",
      " 27% (150 of 550) |######                | Elapsed Time: 0:02:51 ETA:   0:07:30"
     ]
    },
    {
     "name": "stdout",
     "output_type": "stream",
     "text": [
      "/home/elhamod/HGNN/data/INHS_cropped/images/INHS_FISH_2088_aug0.jpg saved!\n",
      "/home/elhamod/HGNN/data/INHS_cropped/images/INHS_FISH_2088_aug1.jpg saved!\n",
      "/home/elhamod/HGNN/data/INHS_cropped/images/INHS_FISH_2088_aug2.jpg saved!\n",
      "/home/elhamod/HGNN/data/INHS_cropped/images/INHS_FISH_2088_aug3.jpg saved!\n",
      "/home/elhamod/HGNN/data/INHS_cropped/images/INHS_FISH_2088_aug4.jpg saved!\n",
      "/home/elhamod/HGNN/data/INHS_cropped/images/INHS_FISH_2088_aug5.jpg saved!\n",
      "/home/elhamod/HGNN/data/INHS_cropped/images/INHS_FISH_2088_aug6.jpg saved!\n",
      "/home/elhamod/HGNN/data/INHS_cropped/images/INHS_FISH_2088_aug7.jpg saved!\n",
      "/home/elhamod/HGNN/data/INHS_cropped/images/INHS_FISH_2088_aug8.jpg saved!\n",
      "/home/elhamod/HGNN/data/INHS_cropped/images/INHS_FISH_2088_aug9.jpg saved!\n"
     ]
    },
    {
     "name": "stderr",
     "output_type": "stream",
     "text": [
      "\r",
      " 27% (151 of 550) |######                | Elapsed Time: 0:02:52 ETA:   0:07:33"
     ]
    },
    {
     "name": "stdout",
     "output_type": "stream",
     "text": [
      "/home/elhamod/HGNN/data/INHS_cropped/images/INHS_FISH_6228_aug0.jpg saved!\n",
      "/home/elhamod/HGNN/data/INHS_cropped/images/INHS_FISH_6228_aug1.jpg saved!\n",
      "/home/elhamod/HGNN/data/INHS_cropped/images/INHS_FISH_6228_aug2.jpg saved!\n",
      "/home/elhamod/HGNN/data/INHS_cropped/images/INHS_FISH_6228_aug3.jpg saved!\n",
      "/home/elhamod/HGNN/data/INHS_cropped/images/INHS_FISH_6228_aug4.jpg saved!\n",
      "/home/elhamod/HGNN/data/INHS_cropped/images/INHS_FISH_6228_aug5.jpg saved!\n",
      "/home/elhamod/HGNN/data/INHS_cropped/images/INHS_FISH_6228_aug6.jpg saved!\n",
      "/home/elhamod/HGNN/data/INHS_cropped/images/INHS_FISH_6228_aug7.jpg saved!\n",
      "/home/elhamod/HGNN/data/INHS_cropped/images/INHS_FISH_6228_aug8.jpg saved!\n",
      "/home/elhamod/HGNN/data/INHS_cropped/images/INHS_FISH_6228_aug9.jpg saved!\n"
     ]
    },
    {
     "name": "stderr",
     "output_type": "stream",
     "text": [
      "\r",
      " 27% (152 of 550) |######                | Elapsed Time: 0:02:53 ETA:   0:07:45"
     ]
    },
    {
     "name": "stdout",
     "output_type": "stream",
     "text": [
      "/home/elhamod/HGNN/data/INHS_cropped/images/INHS_FISH_100521_aug0.jpg saved!\n",
      "/home/elhamod/HGNN/data/INHS_cropped/images/INHS_FISH_100521_aug1.jpg saved!\n",
      "/home/elhamod/HGNN/data/INHS_cropped/images/INHS_FISH_100521_aug2.jpg saved!\n",
      "/home/elhamod/HGNN/data/INHS_cropped/images/INHS_FISH_100521_aug3.jpg saved!\n",
      "/home/elhamod/HGNN/data/INHS_cropped/images/INHS_FISH_100521_aug4.jpg saved!\n",
      "/home/elhamod/HGNN/data/INHS_cropped/images/INHS_FISH_100521_aug5.jpg saved!\n",
      "/home/elhamod/HGNN/data/INHS_cropped/images/INHS_FISH_100521_aug6.jpg saved!\n",
      "/home/elhamod/HGNN/data/INHS_cropped/images/INHS_FISH_100521_aug7.jpg saved!\n",
      "/home/elhamod/HGNN/data/INHS_cropped/images/INHS_FISH_100521_aug8.jpg saved!\n",
      "/home/elhamod/HGNN/data/INHS_cropped/images/INHS_FISH_100521_aug9.jpg saved!\n"
     ]
    },
    {
     "name": "stderr",
     "output_type": "stream",
     "text": [
      "\r",
      " 27% (153 of 550) |######                | Elapsed Time: 0:02:55 ETA:   0:07:43"
     ]
    },
    {
     "name": "stdout",
     "output_type": "stream",
     "text": [
      "/home/elhamod/HGNN/data/INHS_cropped/images/INHS_FISH_3731_aug0.jpg saved!\n",
      "/home/elhamod/HGNN/data/INHS_cropped/images/INHS_FISH_3731_aug1.jpg saved!\n",
      "/home/elhamod/HGNN/data/INHS_cropped/images/INHS_FISH_3731_aug2.jpg saved!\n",
      "/home/elhamod/HGNN/data/INHS_cropped/images/INHS_FISH_3731_aug3.jpg saved!\n",
      "/home/elhamod/HGNN/data/INHS_cropped/images/INHS_FISH_3731_aug4.jpg saved!\n",
      "/home/elhamod/HGNN/data/INHS_cropped/images/INHS_FISH_3731_aug5.jpg saved!\n",
      "/home/elhamod/HGNN/data/INHS_cropped/images/INHS_FISH_3731_aug6.jpg saved!\n",
      "/home/elhamod/HGNN/data/INHS_cropped/images/INHS_FISH_3731_aug7.jpg saved!\n",
      "/home/elhamod/HGNN/data/INHS_cropped/images/INHS_FISH_3731_aug8.jpg saved!\n",
      "/home/elhamod/HGNN/data/INHS_cropped/images/INHS_FISH_3731_aug9.jpg saved!\n"
     ]
    },
    {
     "name": "stderr",
     "output_type": "stream",
     "text": [
      "\r",
      " 28% (154 of 550) |######                | Elapsed Time: 0:02:56 ETA:   0:07:34"
     ]
    },
    {
     "name": "stdout",
     "output_type": "stream",
     "text": [
      "/home/elhamod/HGNN/data/INHS_cropped/images/INHS_FISH_33588_aug0.jpg saved!\n",
      "/home/elhamod/HGNN/data/INHS_cropped/images/INHS_FISH_33588_aug1.jpg saved!\n",
      "/home/elhamod/HGNN/data/INHS_cropped/images/INHS_FISH_33588_aug2.jpg saved!\n",
      "/home/elhamod/HGNN/data/INHS_cropped/images/INHS_FISH_33588_aug3.jpg saved!\n",
      "/home/elhamod/HGNN/data/INHS_cropped/images/INHS_FISH_33588_aug4.jpg saved!\n",
      "/home/elhamod/HGNN/data/INHS_cropped/images/INHS_FISH_33588_aug5.jpg saved!\n",
      "/home/elhamod/HGNN/data/INHS_cropped/images/INHS_FISH_33588_aug6.jpg saved!\n",
      "/home/elhamod/HGNN/data/INHS_cropped/images/INHS_FISH_33588_aug7.jpg saved!\n",
      "/home/elhamod/HGNN/data/INHS_cropped/images/INHS_FISH_33588_aug8.jpg saved!\n",
      "/home/elhamod/HGNN/data/INHS_cropped/images/INHS_FISH_33588_aug9.jpg saved!\n"
     ]
    },
    {
     "name": "stderr",
     "output_type": "stream",
     "text": [
      "\r",
      " 28% (155 of 550) |######                | Elapsed Time: 0:02:57 ETA:   0:07:31"
     ]
    },
    {
     "name": "stdout",
     "output_type": "stream",
     "text": [
      "/home/elhamod/HGNN/data/INHS_cropped/images/INHS_FISH_51418_aug0.jpg saved!\n",
      "/home/elhamod/HGNN/data/INHS_cropped/images/INHS_FISH_51418_aug1.jpg saved!\n",
      "/home/elhamod/HGNN/data/INHS_cropped/images/INHS_FISH_51418_aug2.jpg saved!\n",
      "/home/elhamod/HGNN/data/INHS_cropped/images/INHS_FISH_51418_aug3.jpg saved!\n",
      "/home/elhamod/HGNN/data/INHS_cropped/images/INHS_FISH_51418_aug4.jpg saved!\n",
      "/home/elhamod/HGNN/data/INHS_cropped/images/INHS_FISH_51418_aug5.jpg saved!\n",
      "/home/elhamod/HGNN/data/INHS_cropped/images/INHS_FISH_51418_aug6.jpg saved!\n",
      "/home/elhamod/HGNN/data/INHS_cropped/images/INHS_FISH_51418_aug7.jpg saved!\n",
      "/home/elhamod/HGNN/data/INHS_cropped/images/INHS_FISH_51418_aug8.jpg saved!\n",
      "/home/elhamod/HGNN/data/INHS_cropped/images/INHS_FISH_51418_aug9.jpg saved!\n"
     ]
    },
    {
     "name": "stderr",
     "output_type": "stream",
     "text": [
      "\r",
      " 28% (156 of 550) |######                | Elapsed Time: 0:02:58 ETA:   0:07:31"
     ]
    },
    {
     "name": "stdout",
     "output_type": "stream",
     "text": [
      "/home/elhamod/HGNN/data/INHS_cropped/images/INHS_FISH_91459_aug0.jpg saved!\n",
      "/home/elhamod/HGNN/data/INHS_cropped/images/INHS_FISH_91459_aug1.jpg saved!\n",
      "/home/elhamod/HGNN/data/INHS_cropped/images/INHS_FISH_91459_aug2.jpg saved!\n",
      "/home/elhamod/HGNN/data/INHS_cropped/images/INHS_FISH_91459_aug3.jpg saved!\n",
      "/home/elhamod/HGNN/data/INHS_cropped/images/INHS_FISH_91459_aug4.jpg saved!\n",
      "/home/elhamod/HGNN/data/INHS_cropped/images/INHS_FISH_91459_aug5.jpg saved!\n",
      "/home/elhamod/HGNN/data/INHS_cropped/images/INHS_FISH_91459_aug6.jpg saved!\n",
      "/home/elhamod/HGNN/data/INHS_cropped/images/INHS_FISH_91459_aug7.jpg saved!\n",
      "/home/elhamod/HGNN/data/INHS_cropped/images/INHS_FISH_91459_aug8.jpg saved!\n",
      "/home/elhamod/HGNN/data/INHS_cropped/images/INHS_FISH_91459_aug9.jpg saved!\n"
     ]
    },
    {
     "name": "stderr",
     "output_type": "stream",
     "text": [
      "\r",
      " 28% (157 of 550) |######                | Elapsed Time: 0:02:59 ETA:   0:07:38"
     ]
    },
    {
     "name": "stdout",
     "output_type": "stream",
     "text": [
      "/home/elhamod/HGNN/data/INHS_cropped/images/INHS_FISH_99125_aug0.jpg saved!\n",
      "/home/elhamod/HGNN/data/INHS_cropped/images/INHS_FISH_99125_aug1.jpg saved!\n",
      "/home/elhamod/HGNN/data/INHS_cropped/images/INHS_FISH_99125_aug2.jpg saved!\n",
      "/home/elhamod/HGNN/data/INHS_cropped/images/INHS_FISH_99125_aug3.jpg saved!\n",
      "/home/elhamod/HGNN/data/INHS_cropped/images/INHS_FISH_99125_aug4.jpg saved!\n",
      "/home/elhamod/HGNN/data/INHS_cropped/images/INHS_FISH_99125_aug5.jpg saved!\n",
      "/home/elhamod/HGNN/data/INHS_cropped/images/INHS_FISH_99125_aug6.jpg saved!\n",
      "/home/elhamod/HGNN/data/INHS_cropped/images/INHS_FISH_99125_aug7.jpg saved!\n",
      "/home/elhamod/HGNN/data/INHS_cropped/images/INHS_FISH_99125_aug8.jpg saved!\n",
      "/home/elhamod/HGNN/data/INHS_cropped/images/INHS_FISH_99125_aug9.jpg saved!\n"
     ]
    },
    {
     "name": "stderr",
     "output_type": "stream",
     "text": [
      "\r",
      " 28% (158 of 550) |######                | Elapsed Time: 0:03:00 ETA:   0:07:45"
     ]
    },
    {
     "name": "stdout",
     "output_type": "stream",
     "text": [
      "/home/elhamod/HGNN/data/INHS_cropped/images/INHS_FISH_46448_aug0.jpg saved!\n",
      "/home/elhamod/HGNN/data/INHS_cropped/images/INHS_FISH_46448_aug1.jpg saved!\n",
      "/home/elhamod/HGNN/data/INHS_cropped/images/INHS_FISH_46448_aug2.jpg saved!\n",
      "/home/elhamod/HGNN/data/INHS_cropped/images/INHS_FISH_46448_aug3.jpg saved!\n",
      "/home/elhamod/HGNN/data/INHS_cropped/images/INHS_FISH_46448_aug4.jpg saved!\n",
      "/home/elhamod/HGNN/data/INHS_cropped/images/INHS_FISH_46448_aug5.jpg saved!\n",
      "/home/elhamod/HGNN/data/INHS_cropped/images/INHS_FISH_46448_aug6.jpg saved!\n",
      "/home/elhamod/HGNN/data/INHS_cropped/images/INHS_FISH_46448_aug7.jpg saved!\n",
      "/home/elhamod/HGNN/data/INHS_cropped/images/INHS_FISH_46448_aug8.jpg saved!\n",
      "/home/elhamod/HGNN/data/INHS_cropped/images/INHS_FISH_46448_aug9.jpg saved!\n"
     ]
    },
    {
     "name": "stderr",
     "output_type": "stream",
     "text": [
      "\r",
      " 28% (159 of 550) |######                | Elapsed Time: 0:03:02 ETA:   0:07:33"
     ]
    },
    {
     "name": "stdout",
     "output_type": "stream",
     "text": [
      "/home/elhamod/HGNN/data/INHS_cropped/images/INHS_FISH_88177_aug0.jpg saved!\n",
      "/home/elhamod/HGNN/data/INHS_cropped/images/INHS_FISH_88177_aug1.jpg saved!\n",
      "/home/elhamod/HGNN/data/INHS_cropped/images/INHS_FISH_88177_aug2.jpg saved!\n",
      "/home/elhamod/HGNN/data/INHS_cropped/images/INHS_FISH_88177_aug3.jpg saved!\n",
      "/home/elhamod/HGNN/data/INHS_cropped/images/INHS_FISH_88177_aug4.jpg saved!\n",
      "/home/elhamod/HGNN/data/INHS_cropped/images/INHS_FISH_88177_aug5.jpg saved!\n",
      "/home/elhamod/HGNN/data/INHS_cropped/images/INHS_FISH_88177_aug6.jpg saved!\n",
      "/home/elhamod/HGNN/data/INHS_cropped/images/INHS_FISH_88177_aug7.jpg saved!\n",
      "/home/elhamod/HGNN/data/INHS_cropped/images/INHS_FISH_88177_aug8.jpg saved!\n",
      "/home/elhamod/HGNN/data/INHS_cropped/images/INHS_FISH_88177_aug9.jpg saved!\n"
     ]
    },
    {
     "name": "stderr",
     "output_type": "stream",
     "text": [
      "\r",
      " 29% (160 of 550) |######                | Elapsed Time: 0:03:03 ETA:   0:07:45"
     ]
    },
    {
     "name": "stdout",
     "output_type": "stream",
     "text": [
      "/home/elhamod/HGNN/data/INHS_cropped/images/INHS_FISH_11927_aug0.jpg saved!\n",
      "/home/elhamod/HGNN/data/INHS_cropped/images/INHS_FISH_11927_aug1.jpg saved!\n",
      "/home/elhamod/HGNN/data/INHS_cropped/images/INHS_FISH_11927_aug2.jpg saved!\n",
      "/home/elhamod/HGNN/data/INHS_cropped/images/INHS_FISH_11927_aug3.jpg saved!\n",
      "/home/elhamod/HGNN/data/INHS_cropped/images/INHS_FISH_11927_aug4.jpg saved!\n",
      "/home/elhamod/HGNN/data/INHS_cropped/images/INHS_FISH_11927_aug5.jpg saved!\n",
      "/home/elhamod/HGNN/data/INHS_cropped/images/INHS_FISH_11927_aug6.jpg saved!\n",
      "/home/elhamod/HGNN/data/INHS_cropped/images/INHS_FISH_11927_aug7.jpg saved!\n",
      "/home/elhamod/HGNN/data/INHS_cropped/images/INHS_FISH_11927_aug8.jpg saved!\n",
      "/home/elhamod/HGNN/data/INHS_cropped/images/INHS_FISH_11927_aug9.jpg saved!\n"
     ]
    },
    {
     "name": "stderr",
     "output_type": "stream",
     "text": [
      "\r",
      " 29% (161 of 550) |######                | Elapsed Time: 0:03:04 ETA:   0:07:42"
     ]
    },
    {
     "name": "stdout",
     "output_type": "stream",
     "text": [
      "/home/elhamod/HGNN/data/INHS_cropped/images/INHS_FISH_11445_aug0.jpg saved!\n",
      "/home/elhamod/HGNN/data/INHS_cropped/images/INHS_FISH_11445_aug1.jpg saved!\n",
      "/home/elhamod/HGNN/data/INHS_cropped/images/INHS_FISH_11445_aug2.jpg saved!\n",
      "/home/elhamod/HGNN/data/INHS_cropped/images/INHS_FISH_11445_aug3.jpg saved!\n",
      "/home/elhamod/HGNN/data/INHS_cropped/images/INHS_FISH_11445_aug4.jpg saved!\n",
      "/home/elhamod/HGNN/data/INHS_cropped/images/INHS_FISH_11445_aug5.jpg saved!\n",
      "/home/elhamod/HGNN/data/INHS_cropped/images/INHS_FISH_11445_aug6.jpg saved!\n",
      "/home/elhamod/HGNN/data/INHS_cropped/images/INHS_FISH_11445_aug7.jpg saved!\n",
      "/home/elhamod/HGNN/data/INHS_cropped/images/INHS_FISH_11445_aug8.jpg saved!\n",
      "/home/elhamod/HGNN/data/INHS_cropped/images/INHS_FISH_11445_aug9.jpg saved!\n"
     ]
    },
    {
     "name": "stderr",
     "output_type": "stream",
     "text": [
      "\r",
      " 29% (162 of 550) |######                | Elapsed Time: 0:03:05 ETA:   0:07:29"
     ]
    },
    {
     "name": "stdout",
     "output_type": "stream",
     "text": [
      "/home/elhamod/HGNN/data/INHS_cropped/images/INHS_FISH_91030_aug0.jpg saved!\n",
      "/home/elhamod/HGNN/data/INHS_cropped/images/INHS_FISH_91030_aug1.jpg saved!\n",
      "/home/elhamod/HGNN/data/INHS_cropped/images/INHS_FISH_91030_aug2.jpg saved!\n",
      "/home/elhamod/HGNN/data/INHS_cropped/images/INHS_FISH_91030_aug3.jpg saved!\n",
      "/home/elhamod/HGNN/data/INHS_cropped/images/INHS_FISH_91030_aug4.jpg saved!\n",
      "/home/elhamod/HGNN/data/INHS_cropped/images/INHS_FISH_91030_aug5.jpg saved!\n",
      "/home/elhamod/HGNN/data/INHS_cropped/images/INHS_FISH_91030_aug6.jpg saved!\n",
      "/home/elhamod/HGNN/data/INHS_cropped/images/INHS_FISH_91030_aug7.jpg saved!\n",
      "/home/elhamod/HGNN/data/INHS_cropped/images/INHS_FISH_91030_aug8.jpg saved!\n",
      "/home/elhamod/HGNN/data/INHS_cropped/images/INHS_FISH_91030_aug9.jpg saved!\n"
     ]
    },
    {
     "name": "stderr",
     "output_type": "stream",
     "text": [
      "\r",
      " 29% (163 of 550) |######                | Elapsed Time: 0:03:06 ETA:   0:07:27"
     ]
    },
    {
     "name": "stdout",
     "output_type": "stream",
     "text": [
      "/home/elhamod/HGNN/data/INHS_cropped/images/INHS_FISH_98057_aug0.jpg saved!\n",
      "/home/elhamod/HGNN/data/INHS_cropped/images/INHS_FISH_98057_aug1.jpg saved!\n",
      "/home/elhamod/HGNN/data/INHS_cropped/images/INHS_FISH_98057_aug2.jpg saved!\n",
      "/home/elhamod/HGNN/data/INHS_cropped/images/INHS_FISH_98057_aug3.jpg saved!\n",
      "/home/elhamod/HGNN/data/INHS_cropped/images/INHS_FISH_98057_aug4.jpg saved!\n",
      "/home/elhamod/HGNN/data/INHS_cropped/images/INHS_FISH_98057_aug5.jpg saved!\n",
      "/home/elhamod/HGNN/data/INHS_cropped/images/INHS_FISH_98057_aug6.jpg saved!\n",
      "/home/elhamod/HGNN/data/INHS_cropped/images/INHS_FISH_98057_aug7.jpg saved!\n",
      "/home/elhamod/HGNN/data/INHS_cropped/images/INHS_FISH_98057_aug8.jpg saved!\n",
      "/home/elhamod/HGNN/data/INHS_cropped/images/INHS_FISH_98057_aug9.jpg saved!\n"
     ]
    },
    {
     "name": "stderr",
     "output_type": "stream",
     "text": [
      "\r",
      " 29% (164 of 550) |######                | Elapsed Time: 0:03:07 ETA:   0:07:18"
     ]
    },
    {
     "name": "stdout",
     "output_type": "stream",
     "text": [
      "/home/elhamod/HGNN/data/INHS_cropped/images/INHS_FISH_56007_aug0.jpg saved!\n",
      "/home/elhamod/HGNN/data/INHS_cropped/images/INHS_FISH_56007_aug1.jpg saved!\n",
      "/home/elhamod/HGNN/data/INHS_cropped/images/INHS_FISH_56007_aug2.jpg saved!\n",
      "/home/elhamod/HGNN/data/INHS_cropped/images/INHS_FISH_56007_aug3.jpg saved!\n",
      "/home/elhamod/HGNN/data/INHS_cropped/images/INHS_FISH_56007_aug4.jpg saved!\n",
      "/home/elhamod/HGNN/data/INHS_cropped/images/INHS_FISH_56007_aug5.jpg saved!\n",
      "/home/elhamod/HGNN/data/INHS_cropped/images/INHS_FISH_56007_aug6.jpg saved!\n",
      "/home/elhamod/HGNN/data/INHS_cropped/images/INHS_FISH_56007_aug7.jpg saved!\n",
      "/home/elhamod/HGNN/data/INHS_cropped/images/INHS_FISH_56007_aug8.jpg saved!\n",
      "/home/elhamod/HGNN/data/INHS_cropped/images/INHS_FISH_56007_aug9.jpg saved!\n"
     ]
    },
    {
     "name": "stderr",
     "output_type": "stream",
     "text": [
      "\r",
      " 30% (165 of 550) |######                | Elapsed Time: 0:03:09 ETA:   0:07:22"
     ]
    },
    {
     "name": "stdout",
     "output_type": "stream",
     "text": [
      "/home/elhamod/HGNN/data/INHS_cropped/images/INHS_FISH_75164_aug0.jpg saved!\n",
      "/home/elhamod/HGNN/data/INHS_cropped/images/INHS_FISH_75164_aug1.jpg saved!\n",
      "/home/elhamod/HGNN/data/INHS_cropped/images/INHS_FISH_75164_aug2.jpg saved!\n",
      "/home/elhamod/HGNN/data/INHS_cropped/images/INHS_FISH_75164_aug3.jpg saved!\n",
      "/home/elhamod/HGNN/data/INHS_cropped/images/INHS_FISH_75164_aug4.jpg saved!\n",
      "/home/elhamod/HGNN/data/INHS_cropped/images/INHS_FISH_75164_aug5.jpg saved!\n",
      "/home/elhamod/HGNN/data/INHS_cropped/images/INHS_FISH_75164_aug6.jpg saved!\n",
      "/home/elhamod/HGNN/data/INHS_cropped/images/INHS_FISH_75164_aug7.jpg saved!\n",
      "/home/elhamod/HGNN/data/INHS_cropped/images/INHS_FISH_75164_aug8.jpg saved!\n",
      "/home/elhamod/HGNN/data/INHS_cropped/images/INHS_FISH_75164_aug9.jpg saved!\n"
     ]
    },
    {
     "name": "stderr",
     "output_type": "stream",
     "text": [
      "\r",
      " 30% (166 of 550) |######                | Elapsed Time: 0:03:10 ETA:   0:07:18"
     ]
    },
    {
     "name": "stdout",
     "output_type": "stream",
     "text": [
      "/home/elhamod/HGNN/data/INHS_cropped/images/INHS_FISH_87500_aug0.jpg saved!\n",
      "/home/elhamod/HGNN/data/INHS_cropped/images/INHS_FISH_87500_aug1.jpg saved!\n",
      "/home/elhamod/HGNN/data/INHS_cropped/images/INHS_FISH_87500_aug2.jpg saved!\n",
      "/home/elhamod/HGNN/data/INHS_cropped/images/INHS_FISH_87500_aug3.jpg saved!\n",
      "/home/elhamod/HGNN/data/INHS_cropped/images/INHS_FISH_87500_aug4.jpg saved!\n",
      "/home/elhamod/HGNN/data/INHS_cropped/images/INHS_FISH_87500_aug5.jpg saved!\n",
      "/home/elhamod/HGNN/data/INHS_cropped/images/INHS_FISH_87500_aug6.jpg saved!\n",
      "/home/elhamod/HGNN/data/INHS_cropped/images/INHS_FISH_87500_aug7.jpg saved!\n",
      "/home/elhamod/HGNN/data/INHS_cropped/images/INHS_FISH_87500_aug8.jpg saved!\n",
      "/home/elhamod/HGNN/data/INHS_cropped/images/INHS_FISH_87500_aug9.jpg saved!\n"
     ]
    },
    {
     "name": "stderr",
     "output_type": "stream",
     "text": [
      "\r",
      " 30% (167 of 550) |######                | Elapsed Time: 0:03:11 ETA:   0:07:12"
     ]
    },
    {
     "name": "stdout",
     "output_type": "stream",
     "text": [
      "/home/elhamod/HGNN/data/INHS_cropped/images/INHS_FISH_295_aug0.jpg saved!\n",
      "/home/elhamod/HGNN/data/INHS_cropped/images/INHS_FISH_295_aug1.jpg saved!\n",
      "/home/elhamod/HGNN/data/INHS_cropped/images/INHS_FISH_295_aug2.jpg saved!\n",
      "/home/elhamod/HGNN/data/INHS_cropped/images/INHS_FISH_295_aug3.jpg saved!\n",
      "/home/elhamod/HGNN/data/INHS_cropped/images/INHS_FISH_295_aug4.jpg saved!\n",
      "/home/elhamod/HGNN/data/INHS_cropped/images/INHS_FISH_295_aug5.jpg saved!\n",
      "/home/elhamod/HGNN/data/INHS_cropped/images/INHS_FISH_295_aug6.jpg saved!\n",
      "/home/elhamod/HGNN/data/INHS_cropped/images/INHS_FISH_295_aug7.jpg saved!\n",
      "/home/elhamod/HGNN/data/INHS_cropped/images/INHS_FISH_295_aug8.jpg saved!\n",
      "/home/elhamod/HGNN/data/INHS_cropped/images/INHS_FISH_295_aug9.jpg saved!\n"
     ]
    },
    {
     "name": "stderr",
     "output_type": "stream",
     "text": [
      "\r",
      " 30% (168 of 550) |######                | Elapsed Time: 0:03:12 ETA:   0:07:13"
     ]
    },
    {
     "name": "stdout",
     "output_type": "stream",
     "text": [
      "/home/elhamod/HGNN/data/INHS_cropped/images/INHS_FISH_15857_aug0.jpg saved!\n",
      "/home/elhamod/HGNN/data/INHS_cropped/images/INHS_FISH_15857_aug1.jpg saved!\n",
      "/home/elhamod/HGNN/data/INHS_cropped/images/INHS_FISH_15857_aug2.jpg saved!\n",
      "/home/elhamod/HGNN/data/INHS_cropped/images/INHS_FISH_15857_aug3.jpg saved!\n",
      "/home/elhamod/HGNN/data/INHS_cropped/images/INHS_FISH_15857_aug4.jpg saved!\n",
      "/home/elhamod/HGNN/data/INHS_cropped/images/INHS_FISH_15857_aug5.jpg saved!\n",
      "/home/elhamod/HGNN/data/INHS_cropped/images/INHS_FISH_15857_aug6.jpg saved!\n",
      "/home/elhamod/HGNN/data/INHS_cropped/images/INHS_FISH_15857_aug7.jpg saved!\n",
      "/home/elhamod/HGNN/data/INHS_cropped/images/INHS_FISH_15857_aug8.jpg saved!\n",
      "/home/elhamod/HGNN/data/INHS_cropped/images/INHS_FISH_15857_aug9.jpg saved!\n"
     ]
    },
    {
     "name": "stderr",
     "output_type": "stream",
     "text": [
      "\r",
      " 30% (169 of 550) |######                | Elapsed Time: 0:03:13 ETA:   0:07:17"
     ]
    },
    {
     "name": "stdout",
     "output_type": "stream",
     "text": [
      "/home/elhamod/HGNN/data/INHS_cropped/images/INHS_FISH_5603_aug0.jpg saved!\n",
      "/home/elhamod/HGNN/data/INHS_cropped/images/INHS_FISH_5603_aug1.jpg saved!\n",
      "/home/elhamod/HGNN/data/INHS_cropped/images/INHS_FISH_5603_aug2.jpg saved!\n",
      "/home/elhamod/HGNN/data/INHS_cropped/images/INHS_FISH_5603_aug3.jpg saved!\n",
      "/home/elhamod/HGNN/data/INHS_cropped/images/INHS_FISH_5603_aug4.jpg saved!\n",
      "/home/elhamod/HGNN/data/INHS_cropped/images/INHS_FISH_5603_aug5.jpg saved!\n",
      "/home/elhamod/HGNN/data/INHS_cropped/images/INHS_FISH_5603_aug6.jpg saved!\n",
      "/home/elhamod/HGNN/data/INHS_cropped/images/INHS_FISH_5603_aug7.jpg saved!\n",
      "/home/elhamod/HGNN/data/INHS_cropped/images/INHS_FISH_5603_aug8.jpg saved!\n",
      "/home/elhamod/HGNN/data/INHS_cropped/images/INHS_FISH_5603_aug9.jpg saved!\n"
     ]
    },
    {
     "name": "stderr",
     "output_type": "stream",
     "text": [
      "\r",
      " 30% (170 of 550) |######                | Elapsed Time: 0:03:14 ETA:   0:07:13"
     ]
    },
    {
     "name": "stdout",
     "output_type": "stream",
     "text": [
      "/home/elhamod/HGNN/data/INHS_cropped/images/INHS_FISH_104646_aug0.jpg saved!\n",
      "/home/elhamod/HGNN/data/INHS_cropped/images/INHS_FISH_104646_aug1.jpg saved!\n",
      "/home/elhamod/HGNN/data/INHS_cropped/images/INHS_FISH_104646_aug2.jpg saved!\n",
      "/home/elhamod/HGNN/data/INHS_cropped/images/INHS_FISH_104646_aug3.jpg saved!\n",
      "/home/elhamod/HGNN/data/INHS_cropped/images/INHS_FISH_104646_aug4.jpg saved!\n",
      "/home/elhamod/HGNN/data/INHS_cropped/images/INHS_FISH_104646_aug5.jpg saved!\n",
      "/home/elhamod/HGNN/data/INHS_cropped/images/INHS_FISH_104646_aug6.jpg saved!\n",
      "/home/elhamod/HGNN/data/INHS_cropped/images/INHS_FISH_104646_aug7.jpg saved!\n",
      "/home/elhamod/HGNN/data/INHS_cropped/images/INHS_FISH_104646_aug8.jpg saved!\n",
      "/home/elhamod/HGNN/data/INHS_cropped/images/INHS_FISH_104646_aug9.jpg saved!\n"
     ]
    },
    {
     "name": "stderr",
     "output_type": "stream",
     "text": [
      "\r",
      " 31% (171 of 550) |######                | Elapsed Time: 0:03:15 ETA:   0:07:05"
     ]
    },
    {
     "name": "stdout",
     "output_type": "stream",
     "text": [
      "/home/elhamod/HGNN/data/INHS_cropped/images/INHS_FISH_23262_aug0.jpg saved!\n",
      "/home/elhamod/HGNN/data/INHS_cropped/images/INHS_FISH_23262_aug1.jpg saved!\n",
      "/home/elhamod/HGNN/data/INHS_cropped/images/INHS_FISH_23262_aug2.jpg saved!\n",
      "/home/elhamod/HGNN/data/INHS_cropped/images/INHS_FISH_23262_aug3.jpg saved!\n",
      "/home/elhamod/HGNN/data/INHS_cropped/images/INHS_FISH_23262_aug4.jpg saved!\n",
      "/home/elhamod/HGNN/data/INHS_cropped/images/INHS_FISH_23262_aug5.jpg saved!\n",
      "/home/elhamod/HGNN/data/INHS_cropped/images/INHS_FISH_23262_aug6.jpg saved!\n",
      "/home/elhamod/HGNN/data/INHS_cropped/images/INHS_FISH_23262_aug7.jpg saved!\n",
      "/home/elhamod/HGNN/data/INHS_cropped/images/INHS_FISH_23262_aug8.jpg saved!\n",
      "/home/elhamod/HGNN/data/INHS_cropped/images/INHS_FISH_23262_aug9.jpg saved!\n"
     ]
    },
    {
     "name": "stderr",
     "output_type": "stream",
     "text": [
      "\r",
      " 31% (172 of 550) |######                | Elapsed Time: 0:03:16 ETA:   0:07:04"
     ]
    },
    {
     "name": "stdout",
     "output_type": "stream",
     "text": [
      "/home/elhamod/HGNN/data/INHS_cropped/images/INHS_FISH_4798_aug0.jpg saved!\n",
      "/home/elhamod/HGNN/data/INHS_cropped/images/INHS_FISH_4798_aug1.jpg saved!\n",
      "/home/elhamod/HGNN/data/INHS_cropped/images/INHS_FISH_4798_aug2.jpg saved!\n",
      "/home/elhamod/HGNN/data/INHS_cropped/images/INHS_FISH_4798_aug3.jpg saved!\n",
      "/home/elhamod/HGNN/data/INHS_cropped/images/INHS_FISH_4798_aug4.jpg saved!\n",
      "/home/elhamod/HGNN/data/INHS_cropped/images/INHS_FISH_4798_aug5.jpg saved!\n",
      "/home/elhamod/HGNN/data/INHS_cropped/images/INHS_FISH_4798_aug6.jpg saved!\n",
      "/home/elhamod/HGNN/data/INHS_cropped/images/INHS_FISH_4798_aug7.jpg saved!\n",
      "/home/elhamod/HGNN/data/INHS_cropped/images/INHS_FISH_4798_aug8.jpg saved!\n",
      "/home/elhamod/HGNN/data/INHS_cropped/images/INHS_FISH_4798_aug9.jpg saved!\n"
     ]
    },
    {
     "name": "stderr",
     "output_type": "stream",
     "text": [
      "\r",
      " 31% (173 of 550) |######                | Elapsed Time: 0:03:18 ETA:   0:07:01"
     ]
    },
    {
     "name": "stdout",
     "output_type": "stream",
     "text": [
      "/home/elhamod/HGNN/data/INHS_cropped/images/INHS_FISH_105265_aug0.jpg saved!\n",
      "/home/elhamod/HGNN/data/INHS_cropped/images/INHS_FISH_105265_aug1.jpg saved!\n",
      "/home/elhamod/HGNN/data/INHS_cropped/images/INHS_FISH_105265_aug2.jpg saved!\n",
      "/home/elhamod/HGNN/data/INHS_cropped/images/INHS_FISH_105265_aug3.jpg saved!\n",
      "/home/elhamod/HGNN/data/INHS_cropped/images/INHS_FISH_105265_aug4.jpg saved!\n",
      "/home/elhamod/HGNN/data/INHS_cropped/images/INHS_FISH_105265_aug5.jpg saved!\n",
      "/home/elhamod/HGNN/data/INHS_cropped/images/INHS_FISH_105265_aug6.jpg saved!\n",
      "/home/elhamod/HGNN/data/INHS_cropped/images/INHS_FISH_105265_aug7.jpg saved!\n",
      "/home/elhamod/HGNN/data/INHS_cropped/images/INHS_FISH_105265_aug8.jpg saved!\n",
      "/home/elhamod/HGNN/data/INHS_cropped/images/INHS_FISH_105265_aug9.jpg saved!\n"
     ]
    },
    {
     "name": "stderr",
     "output_type": "stream",
     "text": [
      "\r",
      " 31% (174 of 550) |######                | Elapsed Time: 0:03:19 ETA:   0:07:04"
     ]
    },
    {
     "name": "stdout",
     "output_type": "stream",
     "text": [
      "/home/elhamod/HGNN/data/INHS_cropped/images/INHS_FISH_25478_aug0.jpg saved!\n",
      "/home/elhamod/HGNN/data/INHS_cropped/images/INHS_FISH_25478_aug1.jpg saved!\n",
      "/home/elhamod/HGNN/data/INHS_cropped/images/INHS_FISH_25478_aug2.jpg saved!\n",
      "/home/elhamod/HGNN/data/INHS_cropped/images/INHS_FISH_25478_aug3.jpg saved!\n",
      "/home/elhamod/HGNN/data/INHS_cropped/images/INHS_FISH_25478_aug4.jpg saved!\n",
      "/home/elhamod/HGNN/data/INHS_cropped/images/INHS_FISH_25478_aug5.jpg saved!\n",
      "/home/elhamod/HGNN/data/INHS_cropped/images/INHS_FISH_25478_aug6.jpg saved!\n",
      "/home/elhamod/HGNN/data/INHS_cropped/images/INHS_FISH_25478_aug7.jpg saved!\n",
      "/home/elhamod/HGNN/data/INHS_cropped/images/INHS_FISH_25478_aug8.jpg saved!\n",
      "/home/elhamod/HGNN/data/INHS_cropped/images/INHS_FISH_25478_aug9.jpg saved!\n"
     ]
    },
    {
     "name": "stderr",
     "output_type": "stream",
     "text": [
      "\r",
      " 31% (175 of 550) |#######               | Elapsed Time: 0:03:20 ETA:   0:07:09"
     ]
    },
    {
     "name": "stdout",
     "output_type": "stream",
     "text": [
      "/home/elhamod/HGNN/data/INHS_cropped/images/INHS_FISH_4341_aug0.jpg saved!\n",
      "/home/elhamod/HGNN/data/INHS_cropped/images/INHS_FISH_4341_aug1.jpg saved!\n",
      "/home/elhamod/HGNN/data/INHS_cropped/images/INHS_FISH_4341_aug2.jpg saved!\n",
      "/home/elhamod/HGNN/data/INHS_cropped/images/INHS_FISH_4341_aug3.jpg saved!\n",
      "/home/elhamod/HGNN/data/INHS_cropped/images/INHS_FISH_4341_aug4.jpg saved!\n",
      "/home/elhamod/HGNN/data/INHS_cropped/images/INHS_FISH_4341_aug5.jpg saved!\n",
      "/home/elhamod/HGNN/data/INHS_cropped/images/INHS_FISH_4341_aug6.jpg saved!\n",
      "/home/elhamod/HGNN/data/INHS_cropped/images/INHS_FISH_4341_aug7.jpg saved!\n",
      "/home/elhamod/HGNN/data/INHS_cropped/images/INHS_FISH_4341_aug8.jpg saved!\n",
      "/home/elhamod/HGNN/data/INHS_cropped/images/INHS_FISH_4341_aug9.jpg saved!\n"
     ]
    },
    {
     "name": "stderr",
     "output_type": "stream",
     "text": [
      "\r",
      " 32% (176 of 550) |#######               | Elapsed Time: 0:03:21 ETA:   0:07:05"
     ]
    },
    {
     "name": "stdout",
     "output_type": "stream",
     "text": [
      "/home/elhamod/HGNN/data/INHS_cropped/images/INHS_FISH_29741_aug0.jpg saved!\n",
      "/home/elhamod/HGNN/data/INHS_cropped/images/INHS_FISH_29741_aug1.jpg saved!\n",
      "/home/elhamod/HGNN/data/INHS_cropped/images/INHS_FISH_29741_aug2.jpg saved!\n",
      "/home/elhamod/HGNN/data/INHS_cropped/images/INHS_FISH_29741_aug3.jpg saved!\n",
      "/home/elhamod/HGNN/data/INHS_cropped/images/INHS_FISH_29741_aug4.jpg saved!\n",
      "/home/elhamod/HGNN/data/INHS_cropped/images/INHS_FISH_29741_aug5.jpg saved!\n",
      "/home/elhamod/HGNN/data/INHS_cropped/images/INHS_FISH_29741_aug6.jpg saved!\n",
      "/home/elhamod/HGNN/data/INHS_cropped/images/INHS_FISH_29741_aug7.jpg saved!\n",
      "/home/elhamod/HGNN/data/INHS_cropped/images/INHS_FISH_29741_aug8.jpg saved!\n",
      "/home/elhamod/HGNN/data/INHS_cropped/images/INHS_FISH_29741_aug9.jpg saved!\n"
     ]
    },
    {
     "name": "stderr",
     "output_type": "stream",
     "text": [
      "\r",
      " 32% (177 of 550) |#######               | Elapsed Time: 0:03:22 ETA:   0:07:01"
     ]
    },
    {
     "name": "stdout",
     "output_type": "stream",
     "text": [
      "/home/elhamod/HGNN/data/INHS_cropped/images/INHS_FISH_94727_aug0.jpg saved!\n",
      "/home/elhamod/HGNN/data/INHS_cropped/images/INHS_FISH_94727_aug1.jpg saved!\n",
      "/home/elhamod/HGNN/data/INHS_cropped/images/INHS_FISH_94727_aug2.jpg saved!\n",
      "/home/elhamod/HGNN/data/INHS_cropped/images/INHS_FISH_94727_aug3.jpg saved!\n",
      "/home/elhamod/HGNN/data/INHS_cropped/images/INHS_FISH_94727_aug4.jpg saved!\n",
      "/home/elhamod/HGNN/data/INHS_cropped/images/INHS_FISH_94727_aug5.jpg saved!\n",
      "/home/elhamod/HGNN/data/INHS_cropped/images/INHS_FISH_94727_aug6.jpg saved!\n",
      "/home/elhamod/HGNN/data/INHS_cropped/images/INHS_FISH_94727_aug7.jpg saved!\n",
      "/home/elhamod/HGNN/data/INHS_cropped/images/INHS_FISH_94727_aug8.jpg saved!\n",
      "/home/elhamod/HGNN/data/INHS_cropped/images/INHS_FISH_94727_aug9.jpg saved!\n"
     ]
    },
    {
     "name": "stderr",
     "output_type": "stream",
     "text": [
      "\r",
      " 32% (178 of 550) |#######               | Elapsed Time: 0:03:23 ETA:   0:06:59"
     ]
    },
    {
     "name": "stdout",
     "output_type": "stream",
     "text": [
      "/home/elhamod/HGNN/data/INHS_cropped/images/INHS_FISH_4161_aug0.jpg saved!\n",
      "/home/elhamod/HGNN/data/INHS_cropped/images/INHS_FISH_4161_aug1.jpg saved!\n",
      "/home/elhamod/HGNN/data/INHS_cropped/images/INHS_FISH_4161_aug2.jpg saved!\n",
      "/home/elhamod/HGNN/data/INHS_cropped/images/INHS_FISH_4161_aug3.jpg saved!\n",
      "/home/elhamod/HGNN/data/INHS_cropped/images/INHS_FISH_4161_aug4.jpg saved!\n",
      "/home/elhamod/HGNN/data/INHS_cropped/images/INHS_FISH_4161_aug5.jpg saved!\n",
      "/home/elhamod/HGNN/data/INHS_cropped/images/INHS_FISH_4161_aug6.jpg saved!\n",
      "/home/elhamod/HGNN/data/INHS_cropped/images/INHS_FISH_4161_aug7.jpg saved!\n",
      "/home/elhamod/HGNN/data/INHS_cropped/images/INHS_FISH_4161_aug8.jpg saved!\n",
      "/home/elhamod/HGNN/data/INHS_cropped/images/INHS_FISH_4161_aug9.jpg saved!\n"
     ]
    },
    {
     "name": "stderr",
     "output_type": "stream",
     "text": [
      "\r",
      " 32% (179 of 550) |#######               | Elapsed Time: 0:03:24 ETA:   0:06:57"
     ]
    },
    {
     "name": "stdout",
     "output_type": "stream",
     "text": [
      "/home/elhamod/HGNN/data/INHS_cropped/images/INHS_FISH_7459_aug0.jpg saved!\n",
      "/home/elhamod/HGNN/data/INHS_cropped/images/INHS_FISH_7459_aug1.jpg saved!\n",
      "/home/elhamod/HGNN/data/INHS_cropped/images/INHS_FISH_7459_aug2.jpg saved!\n",
      "/home/elhamod/HGNN/data/INHS_cropped/images/INHS_FISH_7459_aug3.jpg saved!\n",
      "/home/elhamod/HGNN/data/INHS_cropped/images/INHS_FISH_7459_aug4.jpg saved!\n",
      "/home/elhamod/HGNN/data/INHS_cropped/images/INHS_FISH_7459_aug5.jpg saved!\n",
      "/home/elhamod/HGNN/data/INHS_cropped/images/INHS_FISH_7459_aug6.jpg saved!\n",
      "/home/elhamod/HGNN/data/INHS_cropped/images/INHS_FISH_7459_aug7.jpg saved!\n",
      "/home/elhamod/HGNN/data/INHS_cropped/images/INHS_FISH_7459_aug8.jpg saved!\n",
      "/home/elhamod/HGNN/data/INHS_cropped/images/INHS_FISH_7459_aug9.jpg saved!\n"
     ]
    },
    {
     "name": "stderr",
     "output_type": "stream",
     "text": [
      "\r",
      " 32% (180 of 550) |#######               | Elapsed Time: 0:03:26 ETA:   0:06:58"
     ]
    },
    {
     "name": "stdout",
     "output_type": "stream",
     "text": [
      "/home/elhamod/HGNN/data/INHS_cropped/images/INHS_FISH_12820_aug0.jpg saved!\n",
      "/home/elhamod/HGNN/data/INHS_cropped/images/INHS_FISH_12820_aug1.jpg saved!\n",
      "/home/elhamod/HGNN/data/INHS_cropped/images/INHS_FISH_12820_aug2.jpg saved!\n",
      "/home/elhamod/HGNN/data/INHS_cropped/images/INHS_FISH_12820_aug3.jpg saved!\n",
      "/home/elhamod/HGNN/data/INHS_cropped/images/INHS_FISH_12820_aug4.jpg saved!\n",
      "/home/elhamod/HGNN/data/INHS_cropped/images/INHS_FISH_12820_aug5.jpg saved!\n",
      "/home/elhamod/HGNN/data/INHS_cropped/images/INHS_FISH_12820_aug6.jpg saved!\n",
      "/home/elhamod/HGNN/data/INHS_cropped/images/INHS_FISH_12820_aug7.jpg saved!\n",
      "/home/elhamod/HGNN/data/INHS_cropped/images/INHS_FISH_12820_aug8.jpg saved!\n",
      "/home/elhamod/HGNN/data/INHS_cropped/images/INHS_FISH_12820_aug9.jpg saved!\n"
     ]
    },
    {
     "name": "stderr",
     "output_type": "stream",
     "text": [
      "\r",
      " 32% (181 of 550) |#######               | Elapsed Time: 0:03:27 ETA:   0:06:57"
     ]
    },
    {
     "name": "stdout",
     "output_type": "stream",
     "text": [
      "/home/elhamod/HGNN/data/INHS_cropped/images/INHS_FISH_57041_aug0.jpg saved!\n",
      "/home/elhamod/HGNN/data/INHS_cropped/images/INHS_FISH_57041_aug1.jpg saved!\n",
      "/home/elhamod/HGNN/data/INHS_cropped/images/INHS_FISH_57041_aug2.jpg saved!\n",
      "/home/elhamod/HGNN/data/INHS_cropped/images/INHS_FISH_57041_aug3.jpg saved!\n",
      "/home/elhamod/HGNN/data/INHS_cropped/images/INHS_FISH_57041_aug4.jpg saved!\n",
      "/home/elhamod/HGNN/data/INHS_cropped/images/INHS_FISH_57041_aug5.jpg saved!\n",
      "/home/elhamod/HGNN/data/INHS_cropped/images/INHS_FISH_57041_aug6.jpg saved!\n",
      "/home/elhamod/HGNN/data/INHS_cropped/images/INHS_FISH_57041_aug7.jpg saved!\n",
      "/home/elhamod/HGNN/data/INHS_cropped/images/INHS_FISH_57041_aug8.jpg saved!\n",
      "/home/elhamod/HGNN/data/INHS_cropped/images/INHS_FISH_57041_aug9.jpg saved!\n"
     ]
    },
    {
     "name": "stderr",
     "output_type": "stream",
     "text": [
      "\r",
      " 33% (182 of 550) |#######               | Elapsed Time: 0:03:28 ETA:   0:07:05"
     ]
    },
    {
     "name": "stdout",
     "output_type": "stream",
     "text": [
      "/home/elhamod/HGNN/data/INHS_cropped/images/INHS_FISH_41119_aug0.jpg saved!\n",
      "/home/elhamod/HGNN/data/INHS_cropped/images/INHS_FISH_41119_aug1.jpg saved!\n",
      "/home/elhamod/HGNN/data/INHS_cropped/images/INHS_FISH_41119_aug2.jpg saved!\n",
      "/home/elhamod/HGNN/data/INHS_cropped/images/INHS_FISH_41119_aug3.jpg saved!\n",
      "/home/elhamod/HGNN/data/INHS_cropped/images/INHS_FISH_41119_aug4.jpg saved!\n",
      "/home/elhamod/HGNN/data/INHS_cropped/images/INHS_FISH_41119_aug5.jpg saved!\n",
      "/home/elhamod/HGNN/data/INHS_cropped/images/INHS_FISH_41119_aug6.jpg saved!\n",
      "/home/elhamod/HGNN/data/INHS_cropped/images/INHS_FISH_41119_aug7.jpg saved!\n",
      "/home/elhamod/HGNN/data/INHS_cropped/images/INHS_FISH_41119_aug8.jpg saved!\n",
      "/home/elhamod/HGNN/data/INHS_cropped/images/INHS_FISH_41119_aug9.jpg saved!\n"
     ]
    },
    {
     "name": "stderr",
     "output_type": "stream",
     "text": [
      "\r",
      " 33% (183 of 550) |#######               | Elapsed Time: 0:03:29 ETA:   0:07:22"
     ]
    },
    {
     "name": "stdout",
     "output_type": "stream",
     "text": [
      "/home/elhamod/HGNN/data/INHS_cropped/images/INHS_FISH_44694_aug0.jpg saved!\n",
      "/home/elhamod/HGNN/data/INHS_cropped/images/INHS_FISH_44694_aug1.jpg saved!\n",
      "/home/elhamod/HGNN/data/INHS_cropped/images/INHS_FISH_44694_aug2.jpg saved!\n",
      "/home/elhamod/HGNN/data/INHS_cropped/images/INHS_FISH_44694_aug3.jpg saved!\n",
      "/home/elhamod/HGNN/data/INHS_cropped/images/INHS_FISH_44694_aug4.jpg saved!\n",
      "/home/elhamod/HGNN/data/INHS_cropped/images/INHS_FISH_44694_aug5.jpg saved!\n",
      "/home/elhamod/HGNN/data/INHS_cropped/images/INHS_FISH_44694_aug6.jpg saved!\n",
      "/home/elhamod/HGNN/data/INHS_cropped/images/INHS_FISH_44694_aug7.jpg saved!\n",
      "/home/elhamod/HGNN/data/INHS_cropped/images/INHS_FISH_44694_aug8.jpg saved!\n",
      "/home/elhamod/HGNN/data/INHS_cropped/images/INHS_FISH_44694_aug9.jpg saved!\n"
     ]
    },
    {
     "name": "stderr",
     "output_type": "stream",
     "text": [
      "\r",
      " 33% (184 of 550) |#######               | Elapsed Time: 0:03:30 ETA:   0:07:25"
     ]
    },
    {
     "name": "stdout",
     "output_type": "stream",
     "text": [
      "/home/elhamod/HGNN/data/INHS_cropped/images/INHS_FISH_89111_aug0.jpg saved!\n",
      "/home/elhamod/HGNN/data/INHS_cropped/images/INHS_FISH_89111_aug1.jpg saved!\n",
      "/home/elhamod/HGNN/data/INHS_cropped/images/INHS_FISH_89111_aug2.jpg saved!\n",
      "/home/elhamod/HGNN/data/INHS_cropped/images/INHS_FISH_89111_aug3.jpg saved!\n",
      "/home/elhamod/HGNN/data/INHS_cropped/images/INHS_FISH_89111_aug4.jpg saved!\n",
      "/home/elhamod/HGNN/data/INHS_cropped/images/INHS_FISH_89111_aug5.jpg saved!\n",
      "/home/elhamod/HGNN/data/INHS_cropped/images/INHS_FISH_89111_aug6.jpg saved!\n",
      "/home/elhamod/HGNN/data/INHS_cropped/images/INHS_FISH_89111_aug7.jpg saved!\n",
      "/home/elhamod/HGNN/data/INHS_cropped/images/INHS_FISH_89111_aug8.jpg saved!\n",
      "/home/elhamod/HGNN/data/INHS_cropped/images/INHS_FISH_89111_aug9.jpg saved!\n"
     ]
    },
    {
     "name": "stderr",
     "output_type": "stream",
     "text": [
      "\r",
      " 33% (185 of 550) |#######               | Elapsed Time: 0:03:31 ETA:   0:07:08"
     ]
    },
    {
     "name": "stdout",
     "output_type": "stream",
     "text": [
      "/home/elhamod/HGNN/data/INHS_cropped/images/INHS_FISH_51703_aug0.jpg saved!\n",
      "/home/elhamod/HGNN/data/INHS_cropped/images/INHS_FISH_51703_aug1.jpg saved!\n",
      "/home/elhamod/HGNN/data/INHS_cropped/images/INHS_FISH_51703_aug2.jpg saved!\n",
      "/home/elhamod/HGNN/data/INHS_cropped/images/INHS_FISH_51703_aug3.jpg saved!\n",
      "/home/elhamod/HGNN/data/INHS_cropped/images/INHS_FISH_51703_aug4.jpg saved!\n",
      "/home/elhamod/HGNN/data/INHS_cropped/images/INHS_FISH_51703_aug5.jpg saved!\n",
      "/home/elhamod/HGNN/data/INHS_cropped/images/INHS_FISH_51703_aug6.jpg saved!\n",
      "/home/elhamod/HGNN/data/INHS_cropped/images/INHS_FISH_51703_aug7.jpg saved!\n",
      "/home/elhamod/HGNN/data/INHS_cropped/images/INHS_FISH_51703_aug8.jpg saved!\n",
      "/home/elhamod/HGNN/data/INHS_cropped/images/INHS_FISH_51703_aug9.jpg saved!\n"
     ]
    },
    {
     "name": "stderr",
     "output_type": "stream",
     "text": [
      "\r",
      " 33% (186 of 550) |#######               | Elapsed Time: 0:03:33 ETA:   0:06:52"
     ]
    },
    {
     "name": "stdout",
     "output_type": "stream",
     "text": [
      "/home/elhamod/HGNN/data/INHS_cropped/images/INHS_FISH_55653_aug0.jpg saved!\n",
      "/home/elhamod/HGNN/data/INHS_cropped/images/INHS_FISH_55653_aug1.jpg saved!\n",
      "/home/elhamod/HGNN/data/INHS_cropped/images/INHS_FISH_55653_aug2.jpg saved!\n",
      "/home/elhamod/HGNN/data/INHS_cropped/images/INHS_FISH_55653_aug3.jpg saved!\n",
      "/home/elhamod/HGNN/data/INHS_cropped/images/INHS_FISH_55653_aug4.jpg saved!\n",
      "/home/elhamod/HGNN/data/INHS_cropped/images/INHS_FISH_55653_aug5.jpg saved!\n",
      "/home/elhamod/HGNN/data/INHS_cropped/images/INHS_FISH_55653_aug6.jpg saved!\n",
      "/home/elhamod/HGNN/data/INHS_cropped/images/INHS_FISH_55653_aug7.jpg saved!\n",
      "/home/elhamod/HGNN/data/INHS_cropped/images/INHS_FISH_55653_aug8.jpg saved!\n",
      "/home/elhamod/HGNN/data/INHS_cropped/images/INHS_FISH_55653_aug9.jpg saved!\n"
     ]
    },
    {
     "name": "stderr",
     "output_type": "stream",
     "text": [
      "\r",
      " 34% (187 of 550) |#######               | Elapsed Time: 0:03:34 ETA:   0:06:58"
     ]
    },
    {
     "name": "stdout",
     "output_type": "stream",
     "text": [
      "/home/elhamod/HGNN/data/INHS_cropped/images/INHS_FISH_100772_aug0.jpg saved!\n",
      "/home/elhamod/HGNN/data/INHS_cropped/images/INHS_FISH_100772_aug1.jpg saved!\n",
      "/home/elhamod/HGNN/data/INHS_cropped/images/INHS_FISH_100772_aug2.jpg saved!\n",
      "/home/elhamod/HGNN/data/INHS_cropped/images/INHS_FISH_100772_aug3.jpg saved!\n",
      "/home/elhamod/HGNN/data/INHS_cropped/images/INHS_FISH_100772_aug4.jpg saved!\n",
      "/home/elhamod/HGNN/data/INHS_cropped/images/INHS_FISH_100772_aug5.jpg saved!\n",
      "/home/elhamod/HGNN/data/INHS_cropped/images/INHS_FISH_100772_aug6.jpg saved!\n",
      "/home/elhamod/HGNN/data/INHS_cropped/images/INHS_FISH_100772_aug7.jpg saved!\n",
      "/home/elhamod/HGNN/data/INHS_cropped/images/INHS_FISH_100772_aug8.jpg saved!\n",
      "/home/elhamod/HGNN/data/INHS_cropped/images/INHS_FISH_100772_aug9.jpg saved!\n"
     ]
    },
    {
     "name": "stderr",
     "output_type": "stream",
     "text": [
      "\r",
      " 34% (188 of 550) |#######               | Elapsed Time: 0:03:35 ETA:   0:07:07"
     ]
    },
    {
     "name": "stdout",
     "output_type": "stream",
     "text": [
      "/home/elhamod/HGNN/data/INHS_cropped/images/INHS_FISH_99944_aug0.jpg saved!\n",
      "/home/elhamod/HGNN/data/INHS_cropped/images/INHS_FISH_99944_aug1.jpg saved!\n",
      "/home/elhamod/HGNN/data/INHS_cropped/images/INHS_FISH_99944_aug2.jpg saved!\n",
      "/home/elhamod/HGNN/data/INHS_cropped/images/INHS_FISH_99944_aug3.jpg saved!\n",
      "/home/elhamod/HGNN/data/INHS_cropped/images/INHS_FISH_99944_aug4.jpg saved!\n",
      "/home/elhamod/HGNN/data/INHS_cropped/images/INHS_FISH_99944_aug5.jpg saved!\n",
      "/home/elhamod/HGNN/data/INHS_cropped/images/INHS_FISH_99944_aug6.jpg saved!\n",
      "/home/elhamod/HGNN/data/INHS_cropped/images/INHS_FISH_99944_aug7.jpg saved!\n",
      "/home/elhamod/HGNN/data/INHS_cropped/images/INHS_FISH_99944_aug8.jpg saved!\n",
      "/home/elhamod/HGNN/data/INHS_cropped/images/INHS_FISH_99944_aug9.jpg saved!\n"
     ]
    },
    {
     "name": "stderr",
     "output_type": "stream",
     "text": [
      "\r",
      " 34% (189 of 550) |#######               | Elapsed Time: 0:03:36 ETA:   0:07:04"
     ]
    },
    {
     "name": "stdout",
     "output_type": "stream",
     "text": [
      "/home/elhamod/HGNN/data/INHS_cropped/images/INHS_FISH_7021_aug0.jpg saved!\n",
      "/home/elhamod/HGNN/data/INHS_cropped/images/INHS_FISH_7021_aug1.jpg saved!\n",
      "/home/elhamod/HGNN/data/INHS_cropped/images/INHS_FISH_7021_aug2.jpg saved!\n",
      "/home/elhamod/HGNN/data/INHS_cropped/images/INHS_FISH_7021_aug3.jpg saved!\n",
      "/home/elhamod/HGNN/data/INHS_cropped/images/INHS_FISH_7021_aug4.jpg saved!\n",
      "/home/elhamod/HGNN/data/INHS_cropped/images/INHS_FISH_7021_aug5.jpg saved!\n",
      "/home/elhamod/HGNN/data/INHS_cropped/images/INHS_FISH_7021_aug6.jpg saved!\n",
      "/home/elhamod/HGNN/data/INHS_cropped/images/INHS_FISH_7021_aug7.jpg saved!\n",
      "/home/elhamod/HGNN/data/INHS_cropped/images/INHS_FISH_7021_aug8.jpg saved!\n",
      "/home/elhamod/HGNN/data/INHS_cropped/images/INHS_FISH_7021_aug9.jpg saved!\n"
     ]
    },
    {
     "name": "stderr",
     "output_type": "stream",
     "text": [
      "\r",
      " 34% (190 of 550) |#######               | Elapsed Time: 0:03:37 ETA:   0:06:53"
     ]
    },
    {
     "name": "stdout",
     "output_type": "stream",
     "text": [
      "/home/elhamod/HGNN/data/INHS_cropped/images/INHS_FISH_51885_aug0.jpg saved!\n",
      "/home/elhamod/HGNN/data/INHS_cropped/images/INHS_FISH_51885_aug1.jpg saved!\n",
      "/home/elhamod/HGNN/data/INHS_cropped/images/INHS_FISH_51885_aug2.jpg saved!\n",
      "/home/elhamod/HGNN/data/INHS_cropped/images/INHS_FISH_51885_aug3.jpg saved!\n",
      "/home/elhamod/HGNN/data/INHS_cropped/images/INHS_FISH_51885_aug4.jpg saved!\n",
      "/home/elhamod/HGNN/data/INHS_cropped/images/INHS_FISH_51885_aug5.jpg saved!\n",
      "/home/elhamod/HGNN/data/INHS_cropped/images/INHS_FISH_51885_aug6.jpg saved!\n",
      "/home/elhamod/HGNN/data/INHS_cropped/images/INHS_FISH_51885_aug7.jpg saved!\n",
      "/home/elhamod/HGNN/data/INHS_cropped/images/INHS_FISH_51885_aug8.jpg saved!\n",
      "/home/elhamod/HGNN/data/INHS_cropped/images/INHS_FISH_51885_aug9.jpg saved!\n"
     ]
    },
    {
     "name": "stderr",
     "output_type": "stream",
     "text": [
      "\r",
      " 34% (191 of 550) |#######               | Elapsed Time: 0:03:38 ETA:   0:06:52"
     ]
    },
    {
     "name": "stdout",
     "output_type": "stream",
     "text": [
      "/home/elhamod/HGNN/data/INHS_cropped/images/INHS_FISH_95102_aug0.jpg saved!\n",
      "/home/elhamod/HGNN/data/INHS_cropped/images/INHS_FISH_95102_aug1.jpg saved!\n",
      "/home/elhamod/HGNN/data/INHS_cropped/images/INHS_FISH_95102_aug2.jpg saved!\n",
      "/home/elhamod/HGNN/data/INHS_cropped/images/INHS_FISH_95102_aug3.jpg saved!\n",
      "/home/elhamod/HGNN/data/INHS_cropped/images/INHS_FISH_95102_aug4.jpg saved!\n",
      "/home/elhamod/HGNN/data/INHS_cropped/images/INHS_FISH_95102_aug5.jpg saved!\n",
      "/home/elhamod/HGNN/data/INHS_cropped/images/INHS_FISH_95102_aug6.jpg saved!\n",
      "/home/elhamod/HGNN/data/INHS_cropped/images/INHS_FISH_95102_aug7.jpg saved!\n",
      "/home/elhamod/HGNN/data/INHS_cropped/images/INHS_FISH_95102_aug8.jpg saved!\n",
      "/home/elhamod/HGNN/data/INHS_cropped/images/INHS_FISH_95102_aug9.jpg saved!\n"
     ]
    },
    {
     "name": "stderr",
     "output_type": "stream",
     "text": [
      "\r",
      " 34% (192 of 550) |#######               | Elapsed Time: 0:03:40 ETA:   0:07:05"
     ]
    },
    {
     "name": "stdout",
     "output_type": "stream",
     "text": [
      "/home/elhamod/HGNN/data/INHS_cropped/images/INHS_FISH_96551_aug0.jpg saved!\n",
      "/home/elhamod/HGNN/data/INHS_cropped/images/INHS_FISH_96551_aug1.jpg saved!\n",
      "/home/elhamod/HGNN/data/INHS_cropped/images/INHS_FISH_96551_aug2.jpg saved!\n",
      "/home/elhamod/HGNN/data/INHS_cropped/images/INHS_FISH_96551_aug3.jpg saved!\n",
      "/home/elhamod/HGNN/data/INHS_cropped/images/INHS_FISH_96551_aug4.jpg saved!\n",
      "/home/elhamod/HGNN/data/INHS_cropped/images/INHS_FISH_96551_aug5.jpg saved!\n",
      "/home/elhamod/HGNN/data/INHS_cropped/images/INHS_FISH_96551_aug6.jpg saved!\n",
      "/home/elhamod/HGNN/data/INHS_cropped/images/INHS_FISH_96551_aug7.jpg saved!\n",
      "/home/elhamod/HGNN/data/INHS_cropped/images/INHS_FISH_96551_aug8.jpg saved!\n",
      "/home/elhamod/HGNN/data/INHS_cropped/images/INHS_FISH_96551_aug9.jpg saved!\n"
     ]
    },
    {
     "name": "stderr",
     "output_type": "stream",
     "text": [
      "\r",
      " 35% (193 of 550) |#######               | Elapsed Time: 0:03:41 ETA:   0:06:59"
     ]
    },
    {
     "name": "stdout",
     "output_type": "stream",
     "text": [
      "/home/elhamod/HGNN/data/INHS_cropped/images/INHS_FISH_3491_aug0.jpg saved!\n",
      "/home/elhamod/HGNN/data/INHS_cropped/images/INHS_FISH_3491_aug1.jpg saved!\n",
      "/home/elhamod/HGNN/data/INHS_cropped/images/INHS_FISH_3491_aug2.jpg saved!\n",
      "/home/elhamod/HGNN/data/INHS_cropped/images/INHS_FISH_3491_aug3.jpg saved!\n",
      "/home/elhamod/HGNN/data/INHS_cropped/images/INHS_FISH_3491_aug4.jpg saved!\n",
      "/home/elhamod/HGNN/data/INHS_cropped/images/INHS_FISH_3491_aug5.jpg saved!\n",
      "/home/elhamod/HGNN/data/INHS_cropped/images/INHS_FISH_3491_aug6.jpg saved!\n",
      "/home/elhamod/HGNN/data/INHS_cropped/images/INHS_FISH_3491_aug7.jpg saved!\n",
      "/home/elhamod/HGNN/data/INHS_cropped/images/INHS_FISH_3491_aug8.jpg saved!\n",
      "/home/elhamod/HGNN/data/INHS_cropped/images/INHS_FISH_3491_aug9.jpg saved!\n"
     ]
    },
    {
     "name": "stderr",
     "output_type": "stream",
     "text": [
      "\r",
      " 35% (194 of 550) |#######               | Elapsed Time: 0:03:42 ETA:   0:06:43"
     ]
    },
    {
     "name": "stdout",
     "output_type": "stream",
     "text": [
      "/home/elhamod/HGNN/data/INHS_cropped/images/INHS_FISH_47733_aug0.jpg saved!\n",
      "/home/elhamod/HGNN/data/INHS_cropped/images/INHS_FISH_47733_aug1.jpg saved!\n",
      "/home/elhamod/HGNN/data/INHS_cropped/images/INHS_FISH_47733_aug2.jpg saved!\n",
      "/home/elhamod/HGNN/data/INHS_cropped/images/INHS_FISH_47733_aug3.jpg saved!\n",
      "/home/elhamod/HGNN/data/INHS_cropped/images/INHS_FISH_47733_aug4.jpg saved!\n",
      "/home/elhamod/HGNN/data/INHS_cropped/images/INHS_FISH_47733_aug5.jpg saved!\n",
      "/home/elhamod/HGNN/data/INHS_cropped/images/INHS_FISH_47733_aug6.jpg saved!\n",
      "/home/elhamod/HGNN/data/INHS_cropped/images/INHS_FISH_47733_aug7.jpg saved!\n",
      "/home/elhamod/HGNN/data/INHS_cropped/images/INHS_FISH_47733_aug8.jpg saved!\n",
      "/home/elhamod/HGNN/data/INHS_cropped/images/INHS_FISH_47733_aug9.jpg saved!\n"
     ]
    },
    {
     "name": "stderr",
     "output_type": "stream",
     "text": [
      "\r",
      " 35% (195 of 550) |#######               | Elapsed Time: 0:03:43 ETA:   0:06:38"
     ]
    },
    {
     "name": "stdout",
     "output_type": "stream",
     "text": [
      "/home/elhamod/HGNN/data/INHS_cropped/images/INHS_FISH_98083_aug0.jpg saved!\n",
      "/home/elhamod/HGNN/data/INHS_cropped/images/INHS_FISH_98083_aug1.jpg saved!\n",
      "/home/elhamod/HGNN/data/INHS_cropped/images/INHS_FISH_98083_aug2.jpg saved!\n",
      "/home/elhamod/HGNN/data/INHS_cropped/images/INHS_FISH_98083_aug3.jpg saved!\n",
      "/home/elhamod/HGNN/data/INHS_cropped/images/INHS_FISH_98083_aug4.jpg saved!\n",
      "/home/elhamod/HGNN/data/INHS_cropped/images/INHS_FISH_98083_aug5.jpg saved!\n",
      "/home/elhamod/HGNN/data/INHS_cropped/images/INHS_FISH_98083_aug6.jpg saved!\n",
      "/home/elhamod/HGNN/data/INHS_cropped/images/INHS_FISH_98083_aug7.jpg saved!\n",
      "/home/elhamod/HGNN/data/INHS_cropped/images/INHS_FISH_98083_aug8.jpg saved!\n",
      "/home/elhamod/HGNN/data/INHS_cropped/images/INHS_FISH_98083_aug9.jpg saved!\n"
     ]
    },
    {
     "name": "stderr",
     "output_type": "stream",
     "text": [
      "\r",
      " 35% (196 of 550) |#######               | Elapsed Time: 0:03:44 ETA:   0:06:40"
     ]
    },
    {
     "name": "stdout",
     "output_type": "stream",
     "text": [
      "/home/elhamod/HGNN/data/INHS_cropped/images/INHS_FISH_104808_aug0.jpg saved!\n",
      "/home/elhamod/HGNN/data/INHS_cropped/images/INHS_FISH_104808_aug1.jpg saved!\n",
      "/home/elhamod/HGNN/data/INHS_cropped/images/INHS_FISH_104808_aug2.jpg saved!\n",
      "/home/elhamod/HGNN/data/INHS_cropped/images/INHS_FISH_104808_aug3.jpg saved!\n",
      "/home/elhamod/HGNN/data/INHS_cropped/images/INHS_FISH_104808_aug4.jpg saved!\n",
      "/home/elhamod/HGNN/data/INHS_cropped/images/INHS_FISH_104808_aug5.jpg saved!\n",
      "/home/elhamod/HGNN/data/INHS_cropped/images/INHS_FISH_104808_aug6.jpg saved!\n",
      "/home/elhamod/HGNN/data/INHS_cropped/images/INHS_FISH_104808_aug7.jpg saved!\n",
      "/home/elhamod/HGNN/data/INHS_cropped/images/INHS_FISH_104808_aug8.jpg saved!\n",
      "/home/elhamod/HGNN/data/INHS_cropped/images/INHS_FISH_104808_aug9.jpg saved!\n"
     ]
    },
    {
     "name": "stderr",
     "output_type": "stream",
     "text": [
      "\r",
      " 35% (197 of 550) |#######               | Elapsed Time: 0:03:45 ETA:   0:06:52"
     ]
    },
    {
     "name": "stdout",
     "output_type": "stream",
     "text": [
      "/home/elhamod/HGNN/data/INHS_cropped/images/INHS_FISH_99118_aug0.jpg saved!\n",
      "/home/elhamod/HGNN/data/INHS_cropped/images/INHS_FISH_99118_aug1.jpg saved!\n",
      "/home/elhamod/HGNN/data/INHS_cropped/images/INHS_FISH_99118_aug2.jpg saved!\n",
      "/home/elhamod/HGNN/data/INHS_cropped/images/INHS_FISH_99118_aug3.jpg saved!\n",
      "/home/elhamod/HGNN/data/INHS_cropped/images/INHS_FISH_99118_aug4.jpg saved!\n",
      "/home/elhamod/HGNN/data/INHS_cropped/images/INHS_FISH_99118_aug5.jpg saved!\n",
      "/home/elhamod/HGNN/data/INHS_cropped/images/INHS_FISH_99118_aug6.jpg saved!\n",
      "/home/elhamod/HGNN/data/INHS_cropped/images/INHS_FISH_99118_aug7.jpg saved!\n",
      "/home/elhamod/HGNN/data/INHS_cropped/images/INHS_FISH_99118_aug8.jpg saved!\n",
      "/home/elhamod/HGNN/data/INHS_cropped/images/INHS_FISH_99118_aug9.jpg saved!\n"
     ]
    },
    {
     "name": "stderr",
     "output_type": "stream",
     "text": [
      "\r",
      " 36% (198 of 550) |#######               | Elapsed Time: 0:03:47 ETA:   0:07:03"
     ]
    },
    {
     "name": "stdout",
     "output_type": "stream",
     "text": [
      "/home/elhamod/HGNN/data/INHS_cropped/images/INHS_FISH_22345_aug0.jpg saved!\n",
      "/home/elhamod/HGNN/data/INHS_cropped/images/INHS_FISH_22345_aug1.jpg saved!\n",
      "/home/elhamod/HGNN/data/INHS_cropped/images/INHS_FISH_22345_aug2.jpg saved!\n",
      "/home/elhamod/HGNN/data/INHS_cropped/images/INHS_FISH_22345_aug3.jpg saved!\n",
      "/home/elhamod/HGNN/data/INHS_cropped/images/INHS_FISH_22345_aug4.jpg saved!\n",
      "/home/elhamod/HGNN/data/INHS_cropped/images/INHS_FISH_22345_aug5.jpg saved!\n",
      "/home/elhamod/HGNN/data/INHS_cropped/images/INHS_FISH_22345_aug6.jpg saved!\n",
      "/home/elhamod/HGNN/data/INHS_cropped/images/INHS_FISH_22345_aug7.jpg saved!\n",
      "/home/elhamod/HGNN/data/INHS_cropped/images/INHS_FISH_22345_aug8.jpg saved!\n",
      "/home/elhamod/HGNN/data/INHS_cropped/images/INHS_FISH_22345_aug9.jpg saved!\n"
     ]
    },
    {
     "name": "stderr",
     "output_type": "stream",
     "text": [
      "\r",
      " 36% (199 of 550) |#######               | Elapsed Time: 0:03:48 ETA:   0:07:04"
     ]
    },
    {
     "name": "stdout",
     "output_type": "stream",
     "text": [
      "/home/elhamod/HGNN/data/INHS_cropped/images/INHS_FISH_46916_aug0.jpg saved!\n",
      "/home/elhamod/HGNN/data/INHS_cropped/images/INHS_FISH_46916_aug1.jpg saved!\n",
      "/home/elhamod/HGNN/data/INHS_cropped/images/INHS_FISH_46916_aug2.jpg saved!\n",
      "/home/elhamod/HGNN/data/INHS_cropped/images/INHS_FISH_46916_aug3.jpg saved!\n",
      "/home/elhamod/HGNN/data/INHS_cropped/images/INHS_FISH_46916_aug4.jpg saved!\n",
      "/home/elhamod/HGNN/data/INHS_cropped/images/INHS_FISH_46916_aug5.jpg saved!\n",
      "/home/elhamod/HGNN/data/INHS_cropped/images/INHS_FISH_46916_aug6.jpg saved!\n",
      "/home/elhamod/HGNN/data/INHS_cropped/images/INHS_FISH_46916_aug7.jpg saved!\n",
      "/home/elhamod/HGNN/data/INHS_cropped/images/INHS_FISH_46916_aug8.jpg saved!\n",
      "/home/elhamod/HGNN/data/INHS_cropped/images/INHS_FISH_46916_aug9.jpg saved!\n"
     ]
    },
    {
     "name": "stderr",
     "output_type": "stream",
     "text": [
      "\r",
      " 36% (200 of 550) |########              | Elapsed Time: 0:03:49 ETA:   0:06:54"
     ]
    },
    {
     "name": "stdout",
     "output_type": "stream",
     "text": [
      "/home/elhamod/HGNN/data/INHS_cropped/images/INHS_FISH_94751_aug0.jpg saved!\n",
      "/home/elhamod/HGNN/data/INHS_cropped/images/INHS_FISH_94751_aug1.jpg saved!\n",
      "/home/elhamod/HGNN/data/INHS_cropped/images/INHS_FISH_94751_aug2.jpg saved!\n",
      "/home/elhamod/HGNN/data/INHS_cropped/images/INHS_FISH_94751_aug3.jpg saved!\n",
      "/home/elhamod/HGNN/data/INHS_cropped/images/INHS_FISH_94751_aug4.jpg saved!\n",
      "/home/elhamod/HGNN/data/INHS_cropped/images/INHS_FISH_94751_aug5.jpg saved!\n",
      "/home/elhamod/HGNN/data/INHS_cropped/images/INHS_FISH_94751_aug6.jpg saved!\n",
      "/home/elhamod/HGNN/data/INHS_cropped/images/INHS_FISH_94751_aug7.jpg saved!\n",
      "/home/elhamod/HGNN/data/INHS_cropped/images/INHS_FISH_94751_aug8.jpg saved!\n",
      "/home/elhamod/HGNN/data/INHS_cropped/images/INHS_FISH_94751_aug9.jpg saved!\n"
     ]
    },
    {
     "name": "stderr",
     "output_type": "stream",
     "text": [
      "\r",
      " 36% (201 of 550) |########              | Elapsed Time: 0:03:50 ETA:   0:06:45"
     ]
    },
    {
     "name": "stdout",
     "output_type": "stream",
     "text": [
      "/home/elhamod/HGNN/data/INHS_cropped/images/INHS_FISH_50729_aug0.jpg saved!\n",
      "/home/elhamod/HGNN/data/INHS_cropped/images/INHS_FISH_50729_aug1.jpg saved!\n",
      "/home/elhamod/HGNN/data/INHS_cropped/images/INHS_FISH_50729_aug2.jpg saved!\n",
      "/home/elhamod/HGNN/data/INHS_cropped/images/INHS_FISH_50729_aug3.jpg saved!\n",
      "/home/elhamod/HGNN/data/INHS_cropped/images/INHS_FISH_50729_aug4.jpg saved!\n",
      "/home/elhamod/HGNN/data/INHS_cropped/images/INHS_FISH_50729_aug5.jpg saved!\n",
      "/home/elhamod/HGNN/data/INHS_cropped/images/INHS_FISH_50729_aug6.jpg saved!\n",
      "/home/elhamod/HGNN/data/INHS_cropped/images/INHS_FISH_50729_aug7.jpg saved!\n",
      "/home/elhamod/HGNN/data/INHS_cropped/images/INHS_FISH_50729_aug8.jpg saved!\n",
      "/home/elhamod/HGNN/data/INHS_cropped/images/INHS_FISH_50729_aug9.jpg saved!\n"
     ]
    },
    {
     "name": "stderr",
     "output_type": "stream",
     "text": [
      "\r",
      " 36% (202 of 550) |########              | Elapsed Time: 0:03:51 ETA:   0:06:43"
     ]
    },
    {
     "name": "stdout",
     "output_type": "stream",
     "text": [
      "/home/elhamod/HGNN/data/INHS_cropped/images/INHS_FISH_88450_aug0.jpg saved!\n",
      "/home/elhamod/HGNN/data/INHS_cropped/images/INHS_FISH_88450_aug1.jpg saved!\n",
      "/home/elhamod/HGNN/data/INHS_cropped/images/INHS_FISH_88450_aug2.jpg saved!\n",
      "/home/elhamod/HGNN/data/INHS_cropped/images/INHS_FISH_88450_aug3.jpg saved!\n",
      "/home/elhamod/HGNN/data/INHS_cropped/images/INHS_FISH_88450_aug4.jpg saved!\n",
      "/home/elhamod/HGNN/data/INHS_cropped/images/INHS_FISH_88450_aug5.jpg saved!\n",
      "/home/elhamod/HGNN/data/INHS_cropped/images/INHS_FISH_88450_aug6.jpg saved!\n",
      "/home/elhamod/HGNN/data/INHS_cropped/images/INHS_FISH_88450_aug7.jpg saved!\n",
      "/home/elhamod/HGNN/data/INHS_cropped/images/INHS_FISH_88450_aug8.jpg saved!\n",
      "/home/elhamod/HGNN/data/INHS_cropped/images/INHS_FISH_88450_aug9.jpg saved!\n"
     ]
    },
    {
     "name": "stderr",
     "output_type": "stream",
     "text": [
      "\r",
      " 36% (203 of 550) |########              | Elapsed Time: 0:03:52 ETA:   0:06:41"
     ]
    },
    {
     "name": "stdout",
     "output_type": "stream",
     "text": [
      "/home/elhamod/HGNN/data/INHS_cropped/images/INHS_FISH_103738_aug0.jpg saved!\n",
      "/home/elhamod/HGNN/data/INHS_cropped/images/INHS_FISH_103738_aug1.jpg saved!\n",
      "/home/elhamod/HGNN/data/INHS_cropped/images/INHS_FISH_103738_aug2.jpg saved!\n",
      "/home/elhamod/HGNN/data/INHS_cropped/images/INHS_FISH_103738_aug3.jpg saved!\n",
      "/home/elhamod/HGNN/data/INHS_cropped/images/INHS_FISH_103738_aug4.jpg saved!\n",
      "/home/elhamod/HGNN/data/INHS_cropped/images/INHS_FISH_103738_aug5.jpg saved!\n",
      "/home/elhamod/HGNN/data/INHS_cropped/images/INHS_FISH_103738_aug6.jpg saved!\n",
      "/home/elhamod/HGNN/data/INHS_cropped/images/INHS_FISH_103738_aug7.jpg saved!\n",
      "/home/elhamod/HGNN/data/INHS_cropped/images/INHS_FISH_103738_aug8.jpg saved!\n",
      "/home/elhamod/HGNN/data/INHS_cropped/images/INHS_FISH_103738_aug9.jpg saved!\n"
     ]
    },
    {
     "name": "stderr",
     "output_type": "stream",
     "text": [
      "\r",
      " 37% (204 of 550) |########              | Elapsed Time: 0:03:54 ETA:   0:06:38"
     ]
    },
    {
     "name": "stdout",
     "output_type": "stream",
     "text": [
      "/home/elhamod/HGNN/data/INHS_cropped/images/INHS_FISH_758_aug0.jpg saved!\n",
      "/home/elhamod/HGNN/data/INHS_cropped/images/INHS_FISH_758_aug1.jpg saved!\n",
      "/home/elhamod/HGNN/data/INHS_cropped/images/INHS_FISH_758_aug2.jpg saved!\n",
      "/home/elhamod/HGNN/data/INHS_cropped/images/INHS_FISH_758_aug3.jpg saved!\n",
      "/home/elhamod/HGNN/data/INHS_cropped/images/INHS_FISH_758_aug4.jpg saved!\n",
      "/home/elhamod/HGNN/data/INHS_cropped/images/INHS_FISH_758_aug5.jpg saved!\n",
      "/home/elhamod/HGNN/data/INHS_cropped/images/INHS_FISH_758_aug6.jpg saved!\n",
      "/home/elhamod/HGNN/data/INHS_cropped/images/INHS_FISH_758_aug7.jpg saved!\n",
      "/home/elhamod/HGNN/data/INHS_cropped/images/INHS_FISH_758_aug8.jpg saved!\n",
      "/home/elhamod/HGNN/data/INHS_cropped/images/INHS_FISH_758_aug9.jpg saved!\n"
     ]
    },
    {
     "name": "stderr",
     "output_type": "stream",
     "text": [
      "\r",
      " 37% (205 of 550) |########              | Elapsed Time: 0:03:55 ETA:   0:06:32"
     ]
    },
    {
     "name": "stdout",
     "output_type": "stream",
     "text": [
      "/home/elhamod/HGNN/data/INHS_cropped/images/INHS_FISH_86350_aug0.jpg saved!\n",
      "/home/elhamod/HGNN/data/INHS_cropped/images/INHS_FISH_86350_aug1.jpg saved!\n",
      "/home/elhamod/HGNN/data/INHS_cropped/images/INHS_FISH_86350_aug2.jpg saved!\n",
      "/home/elhamod/HGNN/data/INHS_cropped/images/INHS_FISH_86350_aug3.jpg saved!\n",
      "/home/elhamod/HGNN/data/INHS_cropped/images/INHS_FISH_86350_aug4.jpg saved!\n",
      "/home/elhamod/HGNN/data/INHS_cropped/images/INHS_FISH_86350_aug5.jpg saved!\n",
      "/home/elhamod/HGNN/data/INHS_cropped/images/INHS_FISH_86350_aug6.jpg saved!\n",
      "/home/elhamod/HGNN/data/INHS_cropped/images/INHS_FISH_86350_aug7.jpg saved!\n",
      "/home/elhamod/HGNN/data/INHS_cropped/images/INHS_FISH_86350_aug8.jpg saved!\n",
      "/home/elhamod/HGNN/data/INHS_cropped/images/INHS_FISH_86350_aug9.jpg saved!\n"
     ]
    },
    {
     "name": "stderr",
     "output_type": "stream",
     "text": [
      "\r",
      " 37% (206 of 550) |########              | Elapsed Time: 0:03:56 ETA:   0:06:33"
     ]
    },
    {
     "name": "stdout",
     "output_type": "stream",
     "text": [
      "/home/elhamod/HGNN/data/INHS_cropped/images/INHS_FISH_85012_aug0.jpg saved!\n",
      "/home/elhamod/HGNN/data/INHS_cropped/images/INHS_FISH_85012_aug1.jpg saved!\n",
      "/home/elhamod/HGNN/data/INHS_cropped/images/INHS_FISH_85012_aug2.jpg saved!\n",
      "/home/elhamod/HGNN/data/INHS_cropped/images/INHS_FISH_85012_aug3.jpg saved!\n",
      "/home/elhamod/HGNN/data/INHS_cropped/images/INHS_FISH_85012_aug4.jpg saved!\n",
      "/home/elhamod/HGNN/data/INHS_cropped/images/INHS_FISH_85012_aug5.jpg saved!\n",
      "/home/elhamod/HGNN/data/INHS_cropped/images/INHS_FISH_85012_aug6.jpg saved!\n",
      "/home/elhamod/HGNN/data/INHS_cropped/images/INHS_FISH_85012_aug7.jpg saved!\n",
      "/home/elhamod/HGNN/data/INHS_cropped/images/INHS_FISH_85012_aug8.jpg saved!\n",
      "/home/elhamod/HGNN/data/INHS_cropped/images/INHS_FISH_85012_aug9.jpg saved!\n"
     ]
    },
    {
     "name": "stderr",
     "output_type": "stream",
     "text": [
      "\r",
      " 37% (207 of 550) |########              | Elapsed Time: 0:03:57 ETA:   0:06:50"
     ]
    },
    {
     "name": "stdout",
     "output_type": "stream",
     "text": [
      "/home/elhamod/HGNN/data/INHS_cropped/images/INHS_FISH_11083_aug0.jpg saved!\n",
      "/home/elhamod/HGNN/data/INHS_cropped/images/INHS_FISH_11083_aug1.jpg saved!\n",
      "/home/elhamod/HGNN/data/INHS_cropped/images/INHS_FISH_11083_aug2.jpg saved!\n",
      "/home/elhamod/HGNN/data/INHS_cropped/images/INHS_FISH_11083_aug3.jpg saved!\n",
      "/home/elhamod/HGNN/data/INHS_cropped/images/INHS_FISH_11083_aug4.jpg saved!\n",
      "/home/elhamod/HGNN/data/INHS_cropped/images/INHS_FISH_11083_aug5.jpg saved!\n",
      "/home/elhamod/HGNN/data/INHS_cropped/images/INHS_FISH_11083_aug6.jpg saved!\n",
      "/home/elhamod/HGNN/data/INHS_cropped/images/INHS_FISH_11083_aug7.jpg saved!\n",
      "/home/elhamod/HGNN/data/INHS_cropped/images/INHS_FISH_11083_aug8.jpg saved!\n",
      "/home/elhamod/HGNN/data/INHS_cropped/images/INHS_FISH_11083_aug9.jpg saved!\n"
     ]
    },
    {
     "name": "stderr",
     "output_type": "stream",
     "text": [
      "\r",
      " 37% (208 of 550) |########              | Elapsed Time: 0:03:58 ETA:   0:06:49"
     ]
    },
    {
     "name": "stdout",
     "output_type": "stream",
     "text": [
      "/home/elhamod/HGNN/data/INHS_cropped/images/INHS_FISH_32267_aug0.jpg saved!\n",
      "/home/elhamod/HGNN/data/INHS_cropped/images/INHS_FISH_32267_aug1.jpg saved!\n",
      "/home/elhamod/HGNN/data/INHS_cropped/images/INHS_FISH_32267_aug2.jpg saved!\n",
      "/home/elhamod/HGNN/data/INHS_cropped/images/INHS_FISH_32267_aug3.jpg saved!\n",
      "/home/elhamod/HGNN/data/INHS_cropped/images/INHS_FISH_32267_aug4.jpg saved!\n",
      "/home/elhamod/HGNN/data/INHS_cropped/images/INHS_FISH_32267_aug5.jpg saved!\n",
      "/home/elhamod/HGNN/data/INHS_cropped/images/INHS_FISH_32267_aug6.jpg saved!\n",
      "/home/elhamod/HGNN/data/INHS_cropped/images/INHS_FISH_32267_aug7.jpg saved!\n",
      "/home/elhamod/HGNN/data/INHS_cropped/images/INHS_FISH_32267_aug8.jpg saved!\n",
      "/home/elhamod/HGNN/data/INHS_cropped/images/INHS_FISH_32267_aug9.jpg saved!\n"
     ]
    },
    {
     "name": "stderr",
     "output_type": "stream",
     "text": [
      "\r",
      " 38% (209 of 550) |########              | Elapsed Time: 0:03:59 ETA:   0:06:30"
     ]
    },
    {
     "name": "stdout",
     "output_type": "stream",
     "text": [
      "/home/elhamod/HGNN/data/INHS_cropped/images/INHS_FISH_30573_aug0.jpg saved!\n",
      "/home/elhamod/HGNN/data/INHS_cropped/images/INHS_FISH_30573_aug1.jpg saved!\n",
      "/home/elhamod/HGNN/data/INHS_cropped/images/INHS_FISH_30573_aug2.jpg saved!\n",
      "/home/elhamod/HGNN/data/INHS_cropped/images/INHS_FISH_30573_aug3.jpg saved!\n",
      "/home/elhamod/HGNN/data/INHS_cropped/images/INHS_FISH_30573_aug4.jpg saved!\n",
      "/home/elhamod/HGNN/data/INHS_cropped/images/INHS_FISH_30573_aug5.jpg saved!\n",
      "/home/elhamod/HGNN/data/INHS_cropped/images/INHS_FISH_30573_aug6.jpg saved!\n",
      "/home/elhamod/HGNN/data/INHS_cropped/images/INHS_FISH_30573_aug7.jpg saved!\n",
      "/home/elhamod/HGNN/data/INHS_cropped/images/INHS_FISH_30573_aug8.jpg saved!\n",
      "/home/elhamod/HGNN/data/INHS_cropped/images/INHS_FISH_30573_aug9.jpg saved!\n"
     ]
    },
    {
     "name": "stderr",
     "output_type": "stream",
     "text": [
      "\r",
      " 38% (210 of 550) |########              | Elapsed Time: 0:04:00 ETA:   0:06:30"
     ]
    },
    {
     "name": "stdout",
     "output_type": "stream",
     "text": [
      "/home/elhamod/HGNN/data/INHS_cropped/images/INHS_FISH_6497_aug0.jpg saved!\n",
      "/home/elhamod/HGNN/data/INHS_cropped/images/INHS_FISH_6497_aug1.jpg saved!\n",
      "/home/elhamod/HGNN/data/INHS_cropped/images/INHS_FISH_6497_aug2.jpg saved!\n",
      "/home/elhamod/HGNN/data/INHS_cropped/images/INHS_FISH_6497_aug3.jpg saved!\n",
      "/home/elhamod/HGNN/data/INHS_cropped/images/INHS_FISH_6497_aug4.jpg saved!\n",
      "/home/elhamod/HGNN/data/INHS_cropped/images/INHS_FISH_6497_aug5.jpg saved!\n",
      "/home/elhamod/HGNN/data/INHS_cropped/images/INHS_FISH_6497_aug6.jpg saved!\n",
      "/home/elhamod/HGNN/data/INHS_cropped/images/INHS_FISH_6497_aug7.jpg saved!\n",
      "/home/elhamod/HGNN/data/INHS_cropped/images/INHS_FISH_6497_aug8.jpg saved!\n",
      "/home/elhamod/HGNN/data/INHS_cropped/images/INHS_FISH_6497_aug9.jpg saved!\n"
     ]
    },
    {
     "name": "stderr",
     "output_type": "stream",
     "text": [
      "\r",
      " 38% (211 of 550) |########              | Elapsed Time: 0:04:02 ETA:   0:06:30"
     ]
    },
    {
     "name": "stdout",
     "output_type": "stream",
     "text": [
      "/home/elhamod/HGNN/data/INHS_cropped/images/INHS_FISH_40727_aug0.jpg saved!\n",
      "/home/elhamod/HGNN/data/INHS_cropped/images/INHS_FISH_40727_aug1.jpg saved!\n",
      "/home/elhamod/HGNN/data/INHS_cropped/images/INHS_FISH_40727_aug2.jpg saved!\n",
      "/home/elhamod/HGNN/data/INHS_cropped/images/INHS_FISH_40727_aug3.jpg saved!\n",
      "/home/elhamod/HGNN/data/INHS_cropped/images/INHS_FISH_40727_aug4.jpg saved!\n",
      "/home/elhamod/HGNN/data/INHS_cropped/images/INHS_FISH_40727_aug5.jpg saved!\n",
      "/home/elhamod/HGNN/data/INHS_cropped/images/INHS_FISH_40727_aug6.jpg saved!\n",
      "/home/elhamod/HGNN/data/INHS_cropped/images/INHS_FISH_40727_aug7.jpg saved!\n",
      "/home/elhamod/HGNN/data/INHS_cropped/images/INHS_FISH_40727_aug8.jpg saved!\n",
      "/home/elhamod/HGNN/data/INHS_cropped/images/INHS_FISH_40727_aug9.jpg saved!\n"
     ]
    },
    {
     "name": "stderr",
     "output_type": "stream",
     "text": [
      "\r",
      " 38% (212 of 550) |########              | Elapsed Time: 0:04:03 ETA:   0:06:29"
     ]
    },
    {
     "name": "stdout",
     "output_type": "stream",
     "text": [
      "/home/elhamod/HGNN/data/INHS_cropped/images/INHS_FISH_81018_aug0.jpg saved!\n",
      "/home/elhamod/HGNN/data/INHS_cropped/images/INHS_FISH_81018_aug1.jpg saved!\n",
      "/home/elhamod/HGNN/data/INHS_cropped/images/INHS_FISH_81018_aug2.jpg saved!\n",
      "/home/elhamod/HGNN/data/INHS_cropped/images/INHS_FISH_81018_aug3.jpg saved!\n",
      "/home/elhamod/HGNN/data/INHS_cropped/images/INHS_FISH_81018_aug4.jpg saved!\n",
      "/home/elhamod/HGNN/data/INHS_cropped/images/INHS_FISH_81018_aug5.jpg saved!\n",
      "/home/elhamod/HGNN/data/INHS_cropped/images/INHS_FISH_81018_aug6.jpg saved!\n",
      "/home/elhamod/HGNN/data/INHS_cropped/images/INHS_FISH_81018_aug7.jpg saved!\n",
      "/home/elhamod/HGNN/data/INHS_cropped/images/INHS_FISH_81018_aug8.jpg saved!\n",
      "/home/elhamod/HGNN/data/INHS_cropped/images/INHS_FISH_81018_aug9.jpg saved!\n"
     ]
    },
    {
     "name": "stderr",
     "output_type": "stream",
     "text": [
      "\r",
      " 38% (213 of 550) |########              | Elapsed Time: 0:04:04 ETA:   0:06:37"
     ]
    },
    {
     "name": "stdout",
     "output_type": "stream",
     "text": [
      "/home/elhamod/HGNN/data/INHS_cropped/images/INHS_FISH_53622_aug0.jpg saved!\n",
      "/home/elhamod/HGNN/data/INHS_cropped/images/INHS_FISH_53622_aug1.jpg saved!\n",
      "/home/elhamod/HGNN/data/INHS_cropped/images/INHS_FISH_53622_aug2.jpg saved!\n",
      "/home/elhamod/HGNN/data/INHS_cropped/images/INHS_FISH_53622_aug3.jpg saved!\n",
      "/home/elhamod/HGNN/data/INHS_cropped/images/INHS_FISH_53622_aug4.jpg saved!\n",
      "/home/elhamod/HGNN/data/INHS_cropped/images/INHS_FISH_53622_aug5.jpg saved!\n",
      "/home/elhamod/HGNN/data/INHS_cropped/images/INHS_FISH_53622_aug6.jpg saved!\n",
      "/home/elhamod/HGNN/data/INHS_cropped/images/INHS_FISH_53622_aug7.jpg saved!\n",
      "/home/elhamod/HGNN/data/INHS_cropped/images/INHS_FISH_53622_aug8.jpg saved!\n",
      "/home/elhamod/HGNN/data/INHS_cropped/images/INHS_FISH_53622_aug9.jpg saved!\n"
     ]
    },
    {
     "name": "stderr",
     "output_type": "stream",
     "text": [
      "\r",
      " 38% (214 of 550) |########              | Elapsed Time: 0:04:05 ETA:   0:06:30"
     ]
    },
    {
     "name": "stdout",
     "output_type": "stream",
     "text": [
      "/home/elhamod/HGNN/data/INHS_cropped/images/INHS_FISH_75215_aug0.jpg saved!\n",
      "/home/elhamod/HGNN/data/INHS_cropped/images/INHS_FISH_75215_aug1.jpg saved!\n",
      "/home/elhamod/HGNN/data/INHS_cropped/images/INHS_FISH_75215_aug2.jpg saved!\n",
      "/home/elhamod/HGNN/data/INHS_cropped/images/INHS_FISH_75215_aug3.jpg saved!\n",
      "/home/elhamod/HGNN/data/INHS_cropped/images/INHS_FISH_75215_aug4.jpg saved!\n",
      "/home/elhamod/HGNN/data/INHS_cropped/images/INHS_FISH_75215_aug5.jpg saved!\n",
      "/home/elhamod/HGNN/data/INHS_cropped/images/INHS_FISH_75215_aug6.jpg saved!\n",
      "/home/elhamod/HGNN/data/INHS_cropped/images/INHS_FISH_75215_aug7.jpg saved!\n",
      "/home/elhamod/HGNN/data/INHS_cropped/images/INHS_FISH_75215_aug8.jpg saved!\n",
      "/home/elhamod/HGNN/data/INHS_cropped/images/INHS_FISH_75215_aug9.jpg saved!\n"
     ]
    },
    {
     "name": "stderr",
     "output_type": "stream",
     "text": [
      "\r",
      " 39% (215 of 550) |########              | Elapsed Time: 0:04:06 ETA:   0:06:21"
     ]
    },
    {
     "name": "stdout",
     "output_type": "stream",
     "text": [
      "/home/elhamod/HGNN/data/INHS_cropped/images/INHS_FISH_5124_aug0.jpg saved!\n",
      "/home/elhamod/HGNN/data/INHS_cropped/images/INHS_FISH_5124_aug1.jpg saved!\n",
      "/home/elhamod/HGNN/data/INHS_cropped/images/INHS_FISH_5124_aug2.jpg saved!\n",
      "/home/elhamod/HGNN/data/INHS_cropped/images/INHS_FISH_5124_aug3.jpg saved!\n",
      "/home/elhamod/HGNN/data/INHS_cropped/images/INHS_FISH_5124_aug4.jpg saved!\n",
      "/home/elhamod/HGNN/data/INHS_cropped/images/INHS_FISH_5124_aug5.jpg saved!\n",
      "/home/elhamod/HGNN/data/INHS_cropped/images/INHS_FISH_5124_aug6.jpg saved!\n",
      "/home/elhamod/HGNN/data/INHS_cropped/images/INHS_FISH_5124_aug7.jpg saved!\n",
      "/home/elhamod/HGNN/data/INHS_cropped/images/INHS_FISH_5124_aug8.jpg saved!\n",
      "/home/elhamod/HGNN/data/INHS_cropped/images/INHS_FISH_5124_aug9.jpg saved!\n"
     ]
    },
    {
     "name": "stderr",
     "output_type": "stream",
     "text": [
      "\r",
      " 39% (216 of 550) |########              | Elapsed Time: 0:04:07 ETA:   0:06:25"
     ]
    },
    {
     "name": "stdout",
     "output_type": "stream",
     "text": [
      "/home/elhamod/HGNN/data/INHS_cropped/images/INHS_FISH_98794_aug0.jpg saved!\n",
      "/home/elhamod/HGNN/data/INHS_cropped/images/INHS_FISH_98794_aug1.jpg saved!\n",
      "/home/elhamod/HGNN/data/INHS_cropped/images/INHS_FISH_98794_aug2.jpg saved!\n",
      "/home/elhamod/HGNN/data/INHS_cropped/images/INHS_FISH_98794_aug3.jpg saved!\n",
      "/home/elhamod/HGNN/data/INHS_cropped/images/INHS_FISH_98794_aug4.jpg saved!\n",
      "/home/elhamod/HGNN/data/INHS_cropped/images/INHS_FISH_98794_aug5.jpg saved!\n",
      "/home/elhamod/HGNN/data/INHS_cropped/images/INHS_FISH_98794_aug6.jpg saved!\n",
      "/home/elhamod/HGNN/data/INHS_cropped/images/INHS_FISH_98794_aug7.jpg saved!\n",
      "/home/elhamod/HGNN/data/INHS_cropped/images/INHS_FISH_98794_aug8.jpg saved!\n",
      "/home/elhamod/HGNN/data/INHS_cropped/images/INHS_FISH_98794_aug9.jpg saved!\n"
     ]
    },
    {
     "name": "stderr",
     "output_type": "stream",
     "text": [
      "\r",
      " 39% (217 of 550) |########              | Elapsed Time: 0:04:09 ETA:   0:06:32"
     ]
    },
    {
     "name": "stdout",
     "output_type": "stream",
     "text": [
      "/home/elhamod/HGNN/data/INHS_cropped/images/INHS_FISH_74738_aug0.jpg saved!\n",
      "/home/elhamod/HGNN/data/INHS_cropped/images/INHS_FISH_74738_aug1.jpg saved!\n",
      "/home/elhamod/HGNN/data/INHS_cropped/images/INHS_FISH_74738_aug2.jpg saved!\n",
      "/home/elhamod/HGNN/data/INHS_cropped/images/INHS_FISH_74738_aug3.jpg saved!\n",
      "/home/elhamod/HGNN/data/INHS_cropped/images/INHS_FISH_74738_aug4.jpg saved!\n",
      "/home/elhamod/HGNN/data/INHS_cropped/images/INHS_FISH_74738_aug5.jpg saved!\n",
      "/home/elhamod/HGNN/data/INHS_cropped/images/INHS_FISH_74738_aug6.jpg saved!\n",
      "/home/elhamod/HGNN/data/INHS_cropped/images/INHS_FISH_74738_aug7.jpg saved!\n",
      "/home/elhamod/HGNN/data/INHS_cropped/images/INHS_FISH_74738_aug8.jpg saved!\n",
      "/home/elhamod/HGNN/data/INHS_cropped/images/INHS_FISH_74738_aug9.jpg saved!\n"
     ]
    },
    {
     "name": "stderr",
     "output_type": "stream",
     "text": [
      "\r",
      " 39% (218 of 550) |########              | Elapsed Time: 0:04:10 ETA:   0:06:31"
     ]
    },
    {
     "name": "stdout",
     "output_type": "stream",
     "text": [
      "/home/elhamod/HGNN/data/INHS_cropped/images/INHS_FISH_41315_aug0.jpg saved!\n",
      "/home/elhamod/HGNN/data/INHS_cropped/images/INHS_FISH_41315_aug1.jpg saved!\n",
      "/home/elhamod/HGNN/data/INHS_cropped/images/INHS_FISH_41315_aug2.jpg saved!\n",
      "/home/elhamod/HGNN/data/INHS_cropped/images/INHS_FISH_41315_aug3.jpg saved!\n",
      "/home/elhamod/HGNN/data/INHS_cropped/images/INHS_FISH_41315_aug4.jpg saved!\n",
      "/home/elhamod/HGNN/data/INHS_cropped/images/INHS_FISH_41315_aug5.jpg saved!\n",
      "/home/elhamod/HGNN/data/INHS_cropped/images/INHS_FISH_41315_aug6.jpg saved!\n",
      "/home/elhamod/HGNN/data/INHS_cropped/images/INHS_FISH_41315_aug7.jpg saved!\n",
      "/home/elhamod/HGNN/data/INHS_cropped/images/INHS_FISH_41315_aug8.jpg saved!\n",
      "/home/elhamod/HGNN/data/INHS_cropped/images/INHS_FISH_41315_aug9.jpg saved!\n"
     ]
    },
    {
     "name": "stderr",
     "output_type": "stream",
     "text": [
      "\r",
      " 39% (219 of 550) |########              | Elapsed Time: 0:04:11 ETA:   0:06:16"
     ]
    },
    {
     "name": "stdout",
     "output_type": "stream",
     "text": [
      "/home/elhamod/HGNN/data/INHS_cropped/images/INHS_FISH_8939_aug0.jpg saved!\n",
      "/home/elhamod/HGNN/data/INHS_cropped/images/INHS_FISH_8939_aug1.jpg saved!\n",
      "/home/elhamod/HGNN/data/INHS_cropped/images/INHS_FISH_8939_aug2.jpg saved!\n",
      "/home/elhamod/HGNN/data/INHS_cropped/images/INHS_FISH_8939_aug3.jpg saved!\n",
      "/home/elhamod/HGNN/data/INHS_cropped/images/INHS_FISH_8939_aug4.jpg saved!\n",
      "/home/elhamod/HGNN/data/INHS_cropped/images/INHS_FISH_8939_aug5.jpg saved!\n",
      "/home/elhamod/HGNN/data/INHS_cropped/images/INHS_FISH_8939_aug6.jpg saved!\n",
      "/home/elhamod/HGNN/data/INHS_cropped/images/INHS_FISH_8939_aug7.jpg saved!\n",
      "/home/elhamod/HGNN/data/INHS_cropped/images/INHS_FISH_8939_aug8.jpg saved!\n",
      "/home/elhamod/HGNN/data/INHS_cropped/images/INHS_FISH_8939_aug9.jpg saved!\n"
     ]
    },
    {
     "name": "stderr",
     "output_type": "stream",
     "text": [
      "\r",
      " 40% (220 of 550) |########              | Elapsed Time: 0:04:12 ETA:   0:06:09"
     ]
    },
    {
     "name": "stdout",
     "output_type": "stream",
     "text": [
      "/home/elhamod/HGNN/data/INHS_cropped/images/INHS_FISH_9051_aug0.jpg saved!\n",
      "/home/elhamod/HGNN/data/INHS_cropped/images/INHS_FISH_9051_aug1.jpg saved!\n",
      "/home/elhamod/HGNN/data/INHS_cropped/images/INHS_FISH_9051_aug2.jpg saved!\n",
      "/home/elhamod/HGNN/data/INHS_cropped/images/INHS_FISH_9051_aug3.jpg saved!\n",
      "/home/elhamod/HGNN/data/INHS_cropped/images/INHS_FISH_9051_aug4.jpg saved!\n",
      "/home/elhamod/HGNN/data/INHS_cropped/images/INHS_FISH_9051_aug5.jpg saved!\n",
      "/home/elhamod/HGNN/data/INHS_cropped/images/INHS_FISH_9051_aug6.jpg saved!\n",
      "/home/elhamod/HGNN/data/INHS_cropped/images/INHS_FISH_9051_aug7.jpg saved!\n",
      "/home/elhamod/HGNN/data/INHS_cropped/images/INHS_FISH_9051_aug8.jpg saved!\n",
      "/home/elhamod/HGNN/data/INHS_cropped/images/INHS_FISH_9051_aug9.jpg saved!\n"
     ]
    },
    {
     "name": "stderr",
     "output_type": "stream",
     "text": [
      "\r",
      " 40% (221 of 550) |########              | Elapsed Time: 0:04:13 ETA:   0:06:10"
     ]
    },
    {
     "name": "stdout",
     "output_type": "stream",
     "text": [
      "/home/elhamod/HGNN/data/INHS_cropped/images/INHS_FISH_106563_aug0.jpg saved!\n",
      "/home/elhamod/HGNN/data/INHS_cropped/images/INHS_FISH_106563_aug1.jpg saved!\n",
      "/home/elhamod/HGNN/data/INHS_cropped/images/INHS_FISH_106563_aug2.jpg saved!\n",
      "/home/elhamod/HGNN/data/INHS_cropped/images/INHS_FISH_106563_aug3.jpg saved!\n",
      "/home/elhamod/HGNN/data/INHS_cropped/images/INHS_FISH_106563_aug4.jpg saved!\n",
      "/home/elhamod/HGNN/data/INHS_cropped/images/INHS_FISH_106563_aug5.jpg saved!\n",
      "/home/elhamod/HGNN/data/INHS_cropped/images/INHS_FISH_106563_aug6.jpg saved!\n",
      "/home/elhamod/HGNN/data/INHS_cropped/images/INHS_FISH_106563_aug7.jpg saved!\n",
      "/home/elhamod/HGNN/data/INHS_cropped/images/INHS_FISH_106563_aug8.jpg saved!\n",
      "/home/elhamod/HGNN/data/INHS_cropped/images/INHS_FISH_106563_aug9.jpg saved!\n"
     ]
    },
    {
     "name": "stderr",
     "output_type": "stream",
     "text": [
      "\r",
      " 40% (222 of 550) |########              | Elapsed Time: 0:04:14 ETA:   0:06:13"
     ]
    },
    {
     "name": "stdout",
     "output_type": "stream",
     "text": [
      "/home/elhamod/HGNN/data/INHS_cropped/images/INHS_FISH_59062_aug0.jpg saved!\n",
      "/home/elhamod/HGNN/data/INHS_cropped/images/INHS_FISH_59062_aug1.jpg saved!\n",
      "/home/elhamod/HGNN/data/INHS_cropped/images/INHS_FISH_59062_aug2.jpg saved!\n",
      "/home/elhamod/HGNN/data/INHS_cropped/images/INHS_FISH_59062_aug3.jpg saved!\n",
      "/home/elhamod/HGNN/data/INHS_cropped/images/INHS_FISH_59062_aug4.jpg saved!\n",
      "/home/elhamod/HGNN/data/INHS_cropped/images/INHS_FISH_59062_aug5.jpg saved!\n",
      "/home/elhamod/HGNN/data/INHS_cropped/images/INHS_FISH_59062_aug6.jpg saved!\n",
      "/home/elhamod/HGNN/data/INHS_cropped/images/INHS_FISH_59062_aug7.jpg saved!\n",
      "/home/elhamod/HGNN/data/INHS_cropped/images/INHS_FISH_59062_aug8.jpg saved!\n",
      "/home/elhamod/HGNN/data/INHS_cropped/images/INHS_FISH_59062_aug9.jpg saved!\n"
     ]
    },
    {
     "name": "stderr",
     "output_type": "stream",
     "text": [
      "\r",
      " 40% (223 of 550) |########              | Elapsed Time: 0:04:15 ETA:   0:06:14"
     ]
    },
    {
     "name": "stdout",
     "output_type": "stream",
     "text": [
      "/home/elhamod/HGNN/data/INHS_cropped/images/INHS_FISH_24127_aug0.jpg saved!\n",
      "/home/elhamod/HGNN/data/INHS_cropped/images/INHS_FISH_24127_aug1.jpg saved!\n",
      "/home/elhamod/HGNN/data/INHS_cropped/images/INHS_FISH_24127_aug2.jpg saved!\n",
      "/home/elhamod/HGNN/data/INHS_cropped/images/INHS_FISH_24127_aug3.jpg saved!\n",
      "/home/elhamod/HGNN/data/INHS_cropped/images/INHS_FISH_24127_aug4.jpg saved!\n",
      "/home/elhamod/HGNN/data/INHS_cropped/images/INHS_FISH_24127_aug5.jpg saved!\n",
      "/home/elhamod/HGNN/data/INHS_cropped/images/INHS_FISH_24127_aug6.jpg saved!\n",
      "/home/elhamod/HGNN/data/INHS_cropped/images/INHS_FISH_24127_aug7.jpg saved!\n",
      "/home/elhamod/HGNN/data/INHS_cropped/images/INHS_FISH_24127_aug8.jpg saved!\n",
      "/home/elhamod/HGNN/data/INHS_cropped/images/INHS_FISH_24127_aug9.jpg saved!\n"
     ]
    },
    {
     "name": "stderr",
     "output_type": "stream",
     "text": [
      "\r",
      " 40% (224 of 550) |########              | Elapsed Time: 0:04:17 ETA:   0:06:09"
     ]
    },
    {
     "name": "stdout",
     "output_type": "stream",
     "text": [
      "/home/elhamod/HGNN/data/INHS_cropped/images/INHS_FISH_57501_aug0.jpg saved!\n",
      "/home/elhamod/HGNN/data/INHS_cropped/images/INHS_FISH_57501_aug1.jpg saved!\n",
      "/home/elhamod/HGNN/data/INHS_cropped/images/INHS_FISH_57501_aug2.jpg saved!\n",
      "/home/elhamod/HGNN/data/INHS_cropped/images/INHS_FISH_57501_aug3.jpg saved!\n",
      "/home/elhamod/HGNN/data/INHS_cropped/images/INHS_FISH_57501_aug4.jpg saved!\n",
      "/home/elhamod/HGNN/data/INHS_cropped/images/INHS_FISH_57501_aug5.jpg saved!\n",
      "/home/elhamod/HGNN/data/INHS_cropped/images/INHS_FISH_57501_aug6.jpg saved!\n",
      "/home/elhamod/HGNN/data/INHS_cropped/images/INHS_FISH_57501_aug7.jpg saved!\n",
      "/home/elhamod/HGNN/data/INHS_cropped/images/INHS_FISH_57501_aug8.jpg saved!\n",
      "/home/elhamod/HGNN/data/INHS_cropped/images/INHS_FISH_57501_aug9.jpg saved!\n"
     ]
    },
    {
     "name": "stderr",
     "output_type": "stream",
     "text": [
      "\r",
      " 40% (225 of 550) |#########             | Elapsed Time: 0:04:18 ETA:   0:06:04"
     ]
    },
    {
     "name": "stdout",
     "output_type": "stream",
     "text": [
      "/home/elhamod/HGNN/data/INHS_cropped/images/INHS_FISH_7390_aug0.jpg saved!\n",
      "/home/elhamod/HGNN/data/INHS_cropped/images/INHS_FISH_7390_aug1.jpg saved!\n",
      "/home/elhamod/HGNN/data/INHS_cropped/images/INHS_FISH_7390_aug2.jpg saved!\n",
      "/home/elhamod/HGNN/data/INHS_cropped/images/INHS_FISH_7390_aug3.jpg saved!\n",
      "/home/elhamod/HGNN/data/INHS_cropped/images/INHS_FISH_7390_aug4.jpg saved!\n",
      "/home/elhamod/HGNN/data/INHS_cropped/images/INHS_FISH_7390_aug5.jpg saved!\n",
      "/home/elhamod/HGNN/data/INHS_cropped/images/INHS_FISH_7390_aug6.jpg saved!\n",
      "/home/elhamod/HGNN/data/INHS_cropped/images/INHS_FISH_7390_aug7.jpg saved!\n",
      "/home/elhamod/HGNN/data/INHS_cropped/images/INHS_FISH_7390_aug8.jpg saved!\n",
      "/home/elhamod/HGNN/data/INHS_cropped/images/INHS_FISH_7390_aug9.jpg saved!\n"
     ]
    },
    {
     "name": "stderr",
     "output_type": "stream",
     "text": [
      "\r",
      " 41% (226 of 550) |#########             | Elapsed Time: 0:04:19 ETA:   0:06:09"
     ]
    },
    {
     "name": "stdout",
     "output_type": "stream",
     "text": [
      "/home/elhamod/HGNN/data/INHS_cropped/images/INHS_FISH_31011_aug0.jpg saved!\n",
      "/home/elhamod/HGNN/data/INHS_cropped/images/INHS_FISH_31011_aug1.jpg saved!\n",
      "/home/elhamod/HGNN/data/INHS_cropped/images/INHS_FISH_31011_aug2.jpg saved!\n",
      "/home/elhamod/HGNN/data/INHS_cropped/images/INHS_FISH_31011_aug3.jpg saved!\n",
      "/home/elhamod/HGNN/data/INHS_cropped/images/INHS_FISH_31011_aug4.jpg saved!\n",
      "/home/elhamod/HGNN/data/INHS_cropped/images/INHS_FISH_31011_aug5.jpg saved!\n",
      "/home/elhamod/HGNN/data/INHS_cropped/images/INHS_FISH_31011_aug6.jpg saved!\n",
      "/home/elhamod/HGNN/data/INHS_cropped/images/INHS_FISH_31011_aug7.jpg saved!\n",
      "/home/elhamod/HGNN/data/INHS_cropped/images/INHS_FISH_31011_aug8.jpg saved!\n",
      "/home/elhamod/HGNN/data/INHS_cropped/images/INHS_FISH_31011_aug9.jpg saved!\n"
     ]
    },
    {
     "name": "stderr",
     "output_type": "stream",
     "text": [
      "\r",
      " 41% (227 of 550) |#########             | Elapsed Time: 0:04:20 ETA:   0:06:17"
     ]
    },
    {
     "name": "stdout",
     "output_type": "stream",
     "text": [
      "/home/elhamod/HGNN/data/INHS_cropped/images/INHS_FISH_27397_aug0.jpg saved!\n",
      "/home/elhamod/HGNN/data/INHS_cropped/images/INHS_FISH_27397_aug1.jpg saved!\n",
      "/home/elhamod/HGNN/data/INHS_cropped/images/INHS_FISH_27397_aug2.jpg saved!\n",
      "/home/elhamod/HGNN/data/INHS_cropped/images/INHS_FISH_27397_aug3.jpg saved!\n",
      "/home/elhamod/HGNN/data/INHS_cropped/images/INHS_FISH_27397_aug4.jpg saved!\n",
      "/home/elhamod/HGNN/data/INHS_cropped/images/INHS_FISH_27397_aug5.jpg saved!\n",
      "/home/elhamod/HGNN/data/INHS_cropped/images/INHS_FISH_27397_aug6.jpg saved!\n",
      "/home/elhamod/HGNN/data/INHS_cropped/images/INHS_FISH_27397_aug7.jpg saved!\n",
      "/home/elhamod/HGNN/data/INHS_cropped/images/INHS_FISH_27397_aug8.jpg saved!\n",
      "/home/elhamod/HGNN/data/INHS_cropped/images/INHS_FISH_27397_aug9.jpg saved!\n"
     ]
    },
    {
     "name": "stderr",
     "output_type": "stream",
     "text": [
      "\r",
      " 41% (228 of 550) |#########             | Elapsed Time: 0:04:21 ETA:   0:06:13"
     ]
    },
    {
     "name": "stdout",
     "output_type": "stream",
     "text": [
      "/home/elhamod/HGNN/data/INHS_cropped/images/INHS_FISH_4360_aug0.jpg saved!\n",
      "/home/elhamod/HGNN/data/INHS_cropped/images/INHS_FISH_4360_aug1.jpg saved!\n",
      "/home/elhamod/HGNN/data/INHS_cropped/images/INHS_FISH_4360_aug2.jpg saved!\n",
      "/home/elhamod/HGNN/data/INHS_cropped/images/INHS_FISH_4360_aug3.jpg saved!\n",
      "/home/elhamod/HGNN/data/INHS_cropped/images/INHS_FISH_4360_aug4.jpg saved!\n",
      "/home/elhamod/HGNN/data/INHS_cropped/images/INHS_FISH_4360_aug5.jpg saved!\n",
      "/home/elhamod/HGNN/data/INHS_cropped/images/INHS_FISH_4360_aug6.jpg saved!\n",
      "/home/elhamod/HGNN/data/INHS_cropped/images/INHS_FISH_4360_aug7.jpg saved!\n",
      "/home/elhamod/HGNN/data/INHS_cropped/images/INHS_FISH_4360_aug8.jpg saved!\n",
      "/home/elhamod/HGNN/data/INHS_cropped/images/INHS_FISH_4360_aug9.jpg saved!\n"
     ]
    },
    {
     "name": "stderr",
     "output_type": "stream",
     "text": [
      "\r",
      " 41% (229 of 550) |#########             | Elapsed Time: 0:04:22 ETA:   0:06:19"
     ]
    },
    {
     "name": "stdout",
     "output_type": "stream",
     "text": [
      "/home/elhamod/HGNN/data/INHS_cropped/images/INHS_FISH_93340_aug0.jpg saved!\n",
      "/home/elhamod/HGNN/data/INHS_cropped/images/INHS_FISH_93340_aug1.jpg saved!\n",
      "/home/elhamod/HGNN/data/INHS_cropped/images/INHS_FISH_93340_aug2.jpg saved!\n",
      "/home/elhamod/HGNN/data/INHS_cropped/images/INHS_FISH_93340_aug3.jpg saved!\n",
      "/home/elhamod/HGNN/data/INHS_cropped/images/INHS_FISH_93340_aug4.jpg saved!\n",
      "/home/elhamod/HGNN/data/INHS_cropped/images/INHS_FISH_93340_aug5.jpg saved!\n",
      "/home/elhamod/HGNN/data/INHS_cropped/images/INHS_FISH_93340_aug6.jpg saved!\n",
      "/home/elhamod/HGNN/data/INHS_cropped/images/INHS_FISH_93340_aug7.jpg saved!\n",
      "/home/elhamod/HGNN/data/INHS_cropped/images/INHS_FISH_93340_aug8.jpg saved!\n",
      "/home/elhamod/HGNN/data/INHS_cropped/images/INHS_FISH_93340_aug9.jpg saved!\n"
     ]
    },
    {
     "name": "stderr",
     "output_type": "stream",
     "text": [
      "\r",
      " 41% (230 of 550) |#########             | Elapsed Time: 0:04:24 ETA:   0:06:23"
     ]
    },
    {
     "name": "stdout",
     "output_type": "stream",
     "text": [
      "/home/elhamod/HGNN/data/INHS_cropped/images/INHS_FISH_9080_aug0.jpg saved!\n",
      "/home/elhamod/HGNN/data/INHS_cropped/images/INHS_FISH_9080_aug1.jpg saved!\n",
      "/home/elhamod/HGNN/data/INHS_cropped/images/INHS_FISH_9080_aug2.jpg saved!\n",
      "/home/elhamod/HGNN/data/INHS_cropped/images/INHS_FISH_9080_aug3.jpg saved!\n",
      "/home/elhamod/HGNN/data/INHS_cropped/images/INHS_FISH_9080_aug4.jpg saved!\n",
      "/home/elhamod/HGNN/data/INHS_cropped/images/INHS_FISH_9080_aug5.jpg saved!\n",
      "/home/elhamod/HGNN/data/INHS_cropped/images/INHS_FISH_9080_aug6.jpg saved!\n",
      "/home/elhamod/HGNN/data/INHS_cropped/images/INHS_FISH_9080_aug7.jpg saved!\n",
      "/home/elhamod/HGNN/data/INHS_cropped/images/INHS_FISH_9080_aug8.jpg saved!\n",
      "/home/elhamod/HGNN/data/INHS_cropped/images/INHS_FISH_9080_aug9.jpg saved!\n",
      "/home/elhamod/HGNN/data/INHS_cropped/images/INHS_FISH_30570_aug0.jpg saved!\n",
      "/home/elhamod/HGNN/data/INHS_cropped/images/INHS_FISH_30570_aug1.jpg saved!\n",
      "/home/elhamod/HGNN/data/INHS_cropped/images/INHS_FISH_30570_aug2.jpg saved!\n",
      "/home/elhamod/HGNN/data/INHS_cropped/images/INHS_FISH_30570_aug3.jpg saved!\n",
      "/home/elhamod/HGNN/data/INHS_cropped/images/INHS_FISH_30570_aug4.jpg saved!\n"
     ]
    },
    {
     "name": "stderr",
     "output_type": "stream",
     "text": [
      "\r",
      " 42% (231 of 550) |#########             | Elapsed Time: 0:04:26 ETA:   0:12:15"
     ]
    },
    {
     "name": "stdout",
     "output_type": "stream",
     "text": [
      "/home/elhamod/HGNN/data/INHS_cropped/images/INHS_FISH_30570_aug5.jpg saved!\n",
      "/home/elhamod/HGNN/data/INHS_cropped/images/INHS_FISH_30570_aug6.jpg saved!\n",
      "/home/elhamod/HGNN/data/INHS_cropped/images/INHS_FISH_30570_aug7.jpg saved!\n",
      "/home/elhamod/HGNN/data/INHS_cropped/images/INHS_FISH_30570_aug8.jpg saved!\n",
      "/home/elhamod/HGNN/data/INHS_cropped/images/INHS_FISH_30570_aug9.jpg saved!\n"
     ]
    },
    {
     "name": "stderr",
     "output_type": "stream",
     "text": [
      "\r",
      " 42% (232 of 550) |#########             | Elapsed Time: 0:04:27 ETA:   0:09:14"
     ]
    },
    {
     "name": "stdout",
     "output_type": "stream",
     "text": [
      "/home/elhamod/HGNN/data/INHS_cropped/images/INHS_FISH_2930_aug0.jpg saved!\n",
      "/home/elhamod/HGNN/data/INHS_cropped/images/INHS_FISH_2930_aug1.jpg saved!\n",
      "/home/elhamod/HGNN/data/INHS_cropped/images/INHS_FISH_2930_aug2.jpg saved!\n",
      "/home/elhamod/HGNN/data/INHS_cropped/images/INHS_FISH_2930_aug3.jpg saved!\n",
      "/home/elhamod/HGNN/data/INHS_cropped/images/INHS_FISH_2930_aug4.jpg saved!\n",
      "/home/elhamod/HGNN/data/INHS_cropped/images/INHS_FISH_2930_aug5.jpg saved!\n",
      "/home/elhamod/HGNN/data/INHS_cropped/images/INHS_FISH_2930_aug6.jpg saved!\n",
      "/home/elhamod/HGNN/data/INHS_cropped/images/INHS_FISH_2930_aug7.jpg saved!\n",
      "/home/elhamod/HGNN/data/INHS_cropped/images/INHS_FISH_2930_aug8.jpg saved!\n",
      "/home/elhamod/HGNN/data/INHS_cropped/images/INHS_FISH_2930_aug9.jpg saved!\n"
     ]
    },
    {
     "name": "stderr",
     "output_type": "stream",
     "text": [
      "\r",
      " 42% (233 of 550) |#########             | Elapsed Time: 0:04:28 ETA:   0:06:08"
     ]
    },
    {
     "name": "stdout",
     "output_type": "stream",
     "text": [
      "/home/elhamod/HGNN/data/INHS_cropped/images/INHS_FISH_54157_aug0.jpg saved!\n",
      "/home/elhamod/HGNN/data/INHS_cropped/images/INHS_FISH_54157_aug1.jpg saved!\n",
      "/home/elhamod/HGNN/data/INHS_cropped/images/INHS_FISH_54157_aug2.jpg saved!\n",
      "/home/elhamod/HGNN/data/INHS_cropped/images/INHS_FISH_54157_aug3.jpg saved!\n",
      "/home/elhamod/HGNN/data/INHS_cropped/images/INHS_FISH_54157_aug4.jpg saved!\n",
      "/home/elhamod/HGNN/data/INHS_cropped/images/INHS_FISH_54157_aug5.jpg saved!\n",
      "/home/elhamod/HGNN/data/INHS_cropped/images/INHS_FISH_54157_aug6.jpg saved!\n",
      "/home/elhamod/HGNN/data/INHS_cropped/images/INHS_FISH_54157_aug7.jpg saved!\n",
      "/home/elhamod/HGNN/data/INHS_cropped/images/INHS_FISH_54157_aug8.jpg saved!\n",
      "/home/elhamod/HGNN/data/INHS_cropped/images/INHS_FISH_54157_aug9.jpg saved!\n"
     ]
    },
    {
     "name": "stderr",
     "output_type": "stream",
     "text": [
      "\r",
      " 42% (234 of 550) |#########             | Elapsed Time: 0:04:29 ETA:   0:06:08"
     ]
    },
    {
     "name": "stdout",
     "output_type": "stream",
     "text": [
      "/home/elhamod/HGNN/data/INHS_cropped/images/INHS_FISH_29618_aug0.jpg saved!\n",
      "/home/elhamod/HGNN/data/INHS_cropped/images/INHS_FISH_29618_aug1.jpg saved!\n",
      "/home/elhamod/HGNN/data/INHS_cropped/images/INHS_FISH_29618_aug2.jpg saved!\n",
      "/home/elhamod/HGNN/data/INHS_cropped/images/INHS_FISH_29618_aug3.jpg saved!\n",
      "/home/elhamod/HGNN/data/INHS_cropped/images/INHS_FISH_29618_aug4.jpg saved!\n",
      "/home/elhamod/HGNN/data/INHS_cropped/images/INHS_FISH_29618_aug5.jpg saved!\n",
      "/home/elhamod/HGNN/data/INHS_cropped/images/INHS_FISH_29618_aug6.jpg saved!\n",
      "/home/elhamod/HGNN/data/INHS_cropped/images/INHS_FISH_29618_aug7.jpg saved!\n",
      "/home/elhamod/HGNN/data/INHS_cropped/images/INHS_FISH_29618_aug8.jpg saved!\n",
      "/home/elhamod/HGNN/data/INHS_cropped/images/INHS_FISH_29618_aug9.jpg saved!\n"
     ]
    },
    {
     "name": "stderr",
     "output_type": "stream",
     "text": [
      "\r",
      " 42% (235 of 550) |#########             | Elapsed Time: 0:04:31 ETA:   0:06:31"
     ]
    },
    {
     "name": "stdout",
     "output_type": "stream",
     "text": [
      "/home/elhamod/HGNN/data/INHS_cropped/images/INHS_FISH_96502_aug0.jpg saved!\n",
      "/home/elhamod/HGNN/data/INHS_cropped/images/INHS_FISH_96502_aug1.jpg saved!\n",
      "/home/elhamod/HGNN/data/INHS_cropped/images/INHS_FISH_96502_aug2.jpg saved!\n",
      "/home/elhamod/HGNN/data/INHS_cropped/images/INHS_FISH_96502_aug3.jpg saved!\n",
      "/home/elhamod/HGNN/data/INHS_cropped/images/INHS_FISH_96502_aug4.jpg saved!\n",
      "/home/elhamod/HGNN/data/INHS_cropped/images/INHS_FISH_96502_aug5.jpg saved!\n",
      "/home/elhamod/HGNN/data/INHS_cropped/images/INHS_FISH_96502_aug6.jpg saved!\n",
      "/home/elhamod/HGNN/data/INHS_cropped/images/INHS_FISH_96502_aug7.jpg saved!\n",
      "/home/elhamod/HGNN/data/INHS_cropped/images/INHS_FISH_96502_aug8.jpg saved!\n",
      "/home/elhamod/HGNN/data/INHS_cropped/images/INHS_FISH_96502_aug9.jpg saved!\n"
     ]
    },
    {
     "name": "stderr",
     "output_type": "stream",
     "text": [
      "\r",
      " 42% (236 of 550) |#########             | Elapsed Time: 0:04:32 ETA:   0:06:25"
     ]
    },
    {
     "name": "stdout",
     "output_type": "stream",
     "text": [
      "/home/elhamod/HGNN/data/INHS_cropped/images/INHS_FISH_67924_aug0.jpg saved!\n",
      "/home/elhamod/HGNN/data/INHS_cropped/images/INHS_FISH_67924_aug1.jpg saved!\n",
      "/home/elhamod/HGNN/data/INHS_cropped/images/INHS_FISH_67924_aug2.jpg saved!\n",
      "/home/elhamod/HGNN/data/INHS_cropped/images/INHS_FISH_67924_aug3.jpg saved!\n",
      "/home/elhamod/HGNN/data/INHS_cropped/images/INHS_FISH_67924_aug4.jpg saved!\n",
      "/home/elhamod/HGNN/data/INHS_cropped/images/INHS_FISH_67924_aug5.jpg saved!\n",
      "/home/elhamod/HGNN/data/INHS_cropped/images/INHS_FISH_67924_aug6.jpg saved!\n",
      "/home/elhamod/HGNN/data/INHS_cropped/images/INHS_FISH_67924_aug7.jpg saved!\n",
      "/home/elhamod/HGNN/data/INHS_cropped/images/INHS_FISH_67924_aug8.jpg saved!\n",
      "/home/elhamod/HGNN/data/INHS_cropped/images/INHS_FISH_67924_aug9.jpg saved!\n"
     ]
    },
    {
     "name": "stderr",
     "output_type": "stream",
     "text": [
      "\r",
      " 43% (237 of 550) |#########             | Elapsed Time: 0:04:33 ETA:   0:05:58"
     ]
    },
    {
     "name": "stdout",
     "output_type": "stream",
     "text": [
      "/home/elhamod/HGNN/data/INHS_cropped/images/INHS_FISH_76861_aug0.jpg saved!\n",
      "/home/elhamod/HGNN/data/INHS_cropped/images/INHS_FISH_76861_aug1.jpg saved!\n",
      "/home/elhamod/HGNN/data/INHS_cropped/images/INHS_FISH_76861_aug2.jpg saved!\n",
      "/home/elhamod/HGNN/data/INHS_cropped/images/INHS_FISH_76861_aug3.jpg saved!\n",
      "/home/elhamod/HGNN/data/INHS_cropped/images/INHS_FISH_76861_aug4.jpg saved!\n",
      "/home/elhamod/HGNN/data/INHS_cropped/images/INHS_FISH_76861_aug5.jpg saved!\n",
      "/home/elhamod/HGNN/data/INHS_cropped/images/INHS_FISH_76861_aug6.jpg saved!\n",
      "/home/elhamod/HGNN/data/INHS_cropped/images/INHS_FISH_76861_aug7.jpg saved!\n",
      "/home/elhamod/HGNN/data/INHS_cropped/images/INHS_FISH_76861_aug8.jpg saved!\n",
      "/home/elhamod/HGNN/data/INHS_cropped/images/INHS_FISH_76861_aug9.jpg saved!\n"
     ]
    },
    {
     "name": "stderr",
     "output_type": "stream",
     "text": [
      "\r",
      " 43% (238 of 550) |#########             | Elapsed Time: 0:04:34 ETA:   0:05:55"
     ]
    },
    {
     "name": "stdout",
     "output_type": "stream",
     "text": [
      "/home/elhamod/HGNN/data/INHS_cropped/images/INHS_FISH_44590_aug0.jpg saved!\n",
      "/home/elhamod/HGNN/data/INHS_cropped/images/INHS_FISH_44590_aug1.jpg saved!\n",
      "/home/elhamod/HGNN/data/INHS_cropped/images/INHS_FISH_44590_aug2.jpg saved!\n",
      "/home/elhamod/HGNN/data/INHS_cropped/images/INHS_FISH_44590_aug3.jpg saved!\n",
      "/home/elhamod/HGNN/data/INHS_cropped/images/INHS_FISH_44590_aug4.jpg saved!\n",
      "/home/elhamod/HGNN/data/INHS_cropped/images/INHS_FISH_44590_aug5.jpg saved!\n",
      "/home/elhamod/HGNN/data/INHS_cropped/images/INHS_FISH_44590_aug6.jpg saved!\n",
      "/home/elhamod/HGNN/data/INHS_cropped/images/INHS_FISH_44590_aug7.jpg saved!\n",
      "/home/elhamod/HGNN/data/INHS_cropped/images/INHS_FISH_44590_aug8.jpg saved!\n",
      "/home/elhamod/HGNN/data/INHS_cropped/images/INHS_FISH_44590_aug9.jpg saved!\n"
     ]
    },
    {
     "name": "stderr",
     "output_type": "stream",
     "text": [
      "\r",
      " 43% (239 of 550) |#########             | Elapsed Time: 0:04:35 ETA:   0:06:01"
     ]
    },
    {
     "name": "stdout",
     "output_type": "stream",
     "text": [
      "/home/elhamod/HGNN/data/INHS_cropped/images/INHS_FISH_81563_aug0.jpg saved!\n",
      "/home/elhamod/HGNN/data/INHS_cropped/images/INHS_FISH_81563_aug1.jpg saved!\n",
      "/home/elhamod/HGNN/data/INHS_cropped/images/INHS_FISH_81563_aug2.jpg saved!\n",
      "/home/elhamod/HGNN/data/INHS_cropped/images/INHS_FISH_81563_aug3.jpg saved!\n",
      "/home/elhamod/HGNN/data/INHS_cropped/images/INHS_FISH_81563_aug4.jpg saved!\n",
      "/home/elhamod/HGNN/data/INHS_cropped/images/INHS_FISH_81563_aug5.jpg saved!\n",
      "/home/elhamod/HGNN/data/INHS_cropped/images/INHS_FISH_81563_aug6.jpg saved!\n",
      "/home/elhamod/HGNN/data/INHS_cropped/images/INHS_FISH_81563_aug7.jpg saved!\n",
      "/home/elhamod/HGNN/data/INHS_cropped/images/INHS_FISH_81563_aug8.jpg saved!\n",
      "/home/elhamod/HGNN/data/INHS_cropped/images/INHS_FISH_81563_aug9.jpg saved!\n"
     ]
    },
    {
     "name": "stderr",
     "output_type": "stream",
     "text": [
      "\r",
      " 43% (240 of 550) |#########             | Elapsed Time: 0:04:36 ETA:   0:06:07"
     ]
    },
    {
     "name": "stdout",
     "output_type": "stream",
     "text": [
      "/home/elhamod/HGNN/data/INHS_cropped/images/INHS_FISH_58723_aug0.jpg saved!\n",
      "/home/elhamod/HGNN/data/INHS_cropped/images/INHS_FISH_58723_aug1.jpg saved!\n",
      "/home/elhamod/HGNN/data/INHS_cropped/images/INHS_FISH_58723_aug2.jpg saved!\n",
      "/home/elhamod/HGNN/data/INHS_cropped/images/INHS_FISH_58723_aug3.jpg saved!\n",
      "/home/elhamod/HGNN/data/INHS_cropped/images/INHS_FISH_58723_aug4.jpg saved!\n",
      "/home/elhamod/HGNN/data/INHS_cropped/images/INHS_FISH_58723_aug5.jpg saved!\n",
      "/home/elhamod/HGNN/data/INHS_cropped/images/INHS_FISH_58723_aug6.jpg saved!\n",
      "/home/elhamod/HGNN/data/INHS_cropped/images/INHS_FISH_58723_aug7.jpg saved!\n",
      "/home/elhamod/HGNN/data/INHS_cropped/images/INHS_FISH_58723_aug8.jpg saved!\n",
      "/home/elhamod/HGNN/data/INHS_cropped/images/INHS_FISH_58723_aug9.jpg saved!\n"
     ]
    },
    {
     "name": "stderr",
     "output_type": "stream",
     "text": [
      "\r",
      " 43% (241 of 550) |#########             | Elapsed Time: 0:04:38 ETA:   0:06:10"
     ]
    },
    {
     "name": "stdout",
     "output_type": "stream",
     "text": [
      "/home/elhamod/HGNN/data/INHS_cropped/images/INHS_FISH_76849_aug0.jpg saved!\n",
      "/home/elhamod/HGNN/data/INHS_cropped/images/INHS_FISH_76849_aug1.jpg saved!\n",
      "/home/elhamod/HGNN/data/INHS_cropped/images/INHS_FISH_76849_aug2.jpg saved!\n",
      "/home/elhamod/HGNN/data/INHS_cropped/images/INHS_FISH_76849_aug3.jpg saved!\n",
      "/home/elhamod/HGNN/data/INHS_cropped/images/INHS_FISH_76849_aug4.jpg saved!\n",
      "/home/elhamod/HGNN/data/INHS_cropped/images/INHS_FISH_76849_aug5.jpg saved!\n",
      "/home/elhamod/HGNN/data/INHS_cropped/images/INHS_FISH_76849_aug6.jpg saved!\n",
      "/home/elhamod/HGNN/data/INHS_cropped/images/INHS_FISH_76849_aug7.jpg saved!\n",
      "/home/elhamod/HGNN/data/INHS_cropped/images/INHS_FISH_76849_aug8.jpg saved!\n",
      "/home/elhamod/HGNN/data/INHS_cropped/images/INHS_FISH_76849_aug9.jpg saved!\n"
     ]
    },
    {
     "name": "stderr",
     "output_type": "stream",
     "text": [
      "\r",
      " 44% (242 of 550) |#########             | Elapsed Time: 0:04:39 ETA:   0:06:03"
     ]
    },
    {
     "name": "stdout",
     "output_type": "stream",
     "text": [
      "/home/elhamod/HGNN/data/INHS_cropped/images/INHS_FISH_22213_aug0.jpg saved!\n",
      "/home/elhamod/HGNN/data/INHS_cropped/images/INHS_FISH_22213_aug1.jpg saved!\n",
      "/home/elhamod/HGNN/data/INHS_cropped/images/INHS_FISH_22213_aug2.jpg saved!\n",
      "/home/elhamod/HGNN/data/INHS_cropped/images/INHS_FISH_22213_aug3.jpg saved!\n",
      "/home/elhamod/HGNN/data/INHS_cropped/images/INHS_FISH_22213_aug4.jpg saved!\n",
      "/home/elhamod/HGNN/data/INHS_cropped/images/INHS_FISH_22213_aug5.jpg saved!\n",
      "/home/elhamod/HGNN/data/INHS_cropped/images/INHS_FISH_22213_aug6.jpg saved!\n",
      "/home/elhamod/HGNN/data/INHS_cropped/images/INHS_FISH_22213_aug7.jpg saved!\n",
      "/home/elhamod/HGNN/data/INHS_cropped/images/INHS_FISH_22213_aug8.jpg saved!\n",
      "/home/elhamod/HGNN/data/INHS_cropped/images/INHS_FISH_22213_aug9.jpg saved!\n"
     ]
    },
    {
     "name": "stderr",
     "output_type": "stream",
     "text": [
      "\r",
      " 44% (243 of 550) |#########             | Elapsed Time: 0:04:40 ETA:   0:06:01"
     ]
    },
    {
     "name": "stdout",
     "output_type": "stream",
     "text": [
      "/home/elhamod/HGNN/data/INHS_cropped/images/INHS_FISH_33220_aug0.jpg saved!\n",
      "/home/elhamod/HGNN/data/INHS_cropped/images/INHS_FISH_33220_aug1.jpg saved!\n",
      "/home/elhamod/HGNN/data/INHS_cropped/images/INHS_FISH_33220_aug2.jpg saved!\n",
      "/home/elhamod/HGNN/data/INHS_cropped/images/INHS_FISH_33220_aug3.jpg saved!\n",
      "/home/elhamod/HGNN/data/INHS_cropped/images/INHS_FISH_33220_aug4.jpg saved!\n",
      "/home/elhamod/HGNN/data/INHS_cropped/images/INHS_FISH_33220_aug5.jpg saved!\n",
      "/home/elhamod/HGNN/data/INHS_cropped/images/INHS_FISH_33220_aug6.jpg saved!\n",
      "/home/elhamod/HGNN/data/INHS_cropped/images/INHS_FISH_33220_aug7.jpg saved!\n",
      "/home/elhamod/HGNN/data/INHS_cropped/images/INHS_FISH_33220_aug8.jpg saved!\n",
      "/home/elhamod/HGNN/data/INHS_cropped/images/INHS_FISH_33220_aug9.jpg saved!\n"
     ]
    },
    {
     "name": "stderr",
     "output_type": "stream",
     "text": [
      "\r",
      " 44% (244 of 550) |#########             | Elapsed Time: 0:04:41 ETA:   0:06:05"
     ]
    },
    {
     "name": "stdout",
     "output_type": "stream",
     "text": [
      "/home/elhamod/HGNN/data/INHS_cropped/images/INHS_FISH_95097_aug0.jpg saved!\n",
      "/home/elhamod/HGNN/data/INHS_cropped/images/INHS_FISH_95097_aug1.jpg saved!\n",
      "/home/elhamod/HGNN/data/INHS_cropped/images/INHS_FISH_95097_aug2.jpg saved!\n",
      "/home/elhamod/HGNN/data/INHS_cropped/images/INHS_FISH_95097_aug3.jpg saved!\n",
      "/home/elhamod/HGNN/data/INHS_cropped/images/INHS_FISH_95097_aug4.jpg saved!\n",
      "/home/elhamod/HGNN/data/INHS_cropped/images/INHS_FISH_95097_aug5.jpg saved!\n",
      "/home/elhamod/HGNN/data/INHS_cropped/images/INHS_FISH_95097_aug6.jpg saved!\n",
      "/home/elhamod/HGNN/data/INHS_cropped/images/INHS_FISH_95097_aug7.jpg saved!\n",
      "/home/elhamod/HGNN/data/INHS_cropped/images/INHS_FISH_95097_aug8.jpg saved!\n",
      "/home/elhamod/HGNN/data/INHS_cropped/images/INHS_FISH_95097_aug9.jpg saved!\n"
     ]
    },
    {
     "name": "stderr",
     "output_type": "stream",
     "text": [
      "\r",
      " 44% (245 of 550) |#########             | Elapsed Time: 0:04:42 ETA:   0:06:00"
     ]
    },
    {
     "name": "stdout",
     "output_type": "stream",
     "text": [
      "/home/elhamod/HGNN/data/INHS_cropped/images/INHS_FISH_46332_aug0.jpg saved!\n",
      "/home/elhamod/HGNN/data/INHS_cropped/images/INHS_FISH_46332_aug1.jpg saved!\n",
      "/home/elhamod/HGNN/data/INHS_cropped/images/INHS_FISH_46332_aug2.jpg saved!\n",
      "/home/elhamod/HGNN/data/INHS_cropped/images/INHS_FISH_46332_aug3.jpg saved!\n",
      "/home/elhamod/HGNN/data/INHS_cropped/images/INHS_FISH_46332_aug4.jpg saved!\n",
      "/home/elhamod/HGNN/data/INHS_cropped/images/INHS_FISH_46332_aug5.jpg saved!\n",
      "/home/elhamod/HGNN/data/INHS_cropped/images/INHS_FISH_46332_aug6.jpg saved!\n",
      "/home/elhamod/HGNN/data/INHS_cropped/images/INHS_FISH_46332_aug7.jpg saved!\n",
      "/home/elhamod/HGNN/data/INHS_cropped/images/INHS_FISH_46332_aug8.jpg saved!\n",
      "/home/elhamod/HGNN/data/INHS_cropped/images/INHS_FISH_46332_aug9.jpg saved!\n"
     ]
    },
    {
     "name": "stderr",
     "output_type": "stream",
     "text": [
      "\r",
      " 44% (246 of 550) |#########             | Elapsed Time: 0:04:44 ETA:   0:05:50"
     ]
    },
    {
     "name": "stdout",
     "output_type": "stream",
     "text": [
      "/home/elhamod/HGNN/data/INHS_cropped/images/INHS_FISH_2198_aug0.jpg saved!\n",
      "/home/elhamod/HGNN/data/INHS_cropped/images/INHS_FISH_2198_aug1.jpg saved!\n",
      "/home/elhamod/HGNN/data/INHS_cropped/images/INHS_FISH_2198_aug2.jpg saved!\n",
      "/home/elhamod/HGNN/data/INHS_cropped/images/INHS_FISH_2198_aug3.jpg saved!\n",
      "/home/elhamod/HGNN/data/INHS_cropped/images/INHS_FISH_2198_aug4.jpg saved!\n",
      "/home/elhamod/HGNN/data/INHS_cropped/images/INHS_FISH_2198_aug5.jpg saved!\n",
      "/home/elhamod/HGNN/data/INHS_cropped/images/INHS_FISH_2198_aug6.jpg saved!\n",
      "/home/elhamod/HGNN/data/INHS_cropped/images/INHS_FISH_2198_aug7.jpg saved!\n",
      "/home/elhamod/HGNN/data/INHS_cropped/images/INHS_FISH_2198_aug8.jpg saved!\n",
      "/home/elhamod/HGNN/data/INHS_cropped/images/INHS_FISH_2198_aug9.jpg saved!\n"
     ]
    },
    {
     "name": "stderr",
     "output_type": "stream",
     "text": [
      "\r",
      " 44% (247 of 550) |#########             | Elapsed Time: 0:04:45 ETA:   0:05:52"
     ]
    },
    {
     "name": "stdout",
     "output_type": "stream",
     "text": [
      "/home/elhamod/HGNN/data/INHS_cropped/images/INHS_FISH_17380_aug0.jpg saved!\n",
      "/home/elhamod/HGNN/data/INHS_cropped/images/INHS_FISH_17380_aug1.jpg saved!\n",
      "/home/elhamod/HGNN/data/INHS_cropped/images/INHS_FISH_17380_aug2.jpg saved!\n",
      "/home/elhamod/HGNN/data/INHS_cropped/images/INHS_FISH_17380_aug3.jpg saved!\n",
      "/home/elhamod/HGNN/data/INHS_cropped/images/INHS_FISH_17380_aug4.jpg saved!\n",
      "/home/elhamod/HGNN/data/INHS_cropped/images/INHS_FISH_17380_aug5.jpg saved!\n",
      "/home/elhamod/HGNN/data/INHS_cropped/images/INHS_FISH_17380_aug6.jpg saved!\n",
      "/home/elhamod/HGNN/data/INHS_cropped/images/INHS_FISH_17380_aug7.jpg saved!\n",
      "/home/elhamod/HGNN/data/INHS_cropped/images/INHS_FISH_17380_aug8.jpg saved!\n",
      "/home/elhamod/HGNN/data/INHS_cropped/images/INHS_FISH_17380_aug9.jpg saved!\n"
     ]
    },
    {
     "name": "stderr",
     "output_type": "stream",
     "text": [
      "\r",
      " 45% (248 of 550) |#########             | Elapsed Time: 0:04:46 ETA:   0:05:56"
     ]
    },
    {
     "name": "stdout",
     "output_type": "stream",
     "text": [
      "/home/elhamod/HGNN/data/INHS_cropped/images/INHS_FISH_26400_aug0.jpg saved!\n",
      "/home/elhamod/HGNN/data/INHS_cropped/images/INHS_FISH_26400_aug1.jpg saved!\n",
      "/home/elhamod/HGNN/data/INHS_cropped/images/INHS_FISH_26400_aug2.jpg saved!\n",
      "/home/elhamod/HGNN/data/INHS_cropped/images/INHS_FISH_26400_aug3.jpg saved!\n",
      "/home/elhamod/HGNN/data/INHS_cropped/images/INHS_FISH_26400_aug4.jpg saved!\n",
      "/home/elhamod/HGNN/data/INHS_cropped/images/INHS_FISH_26400_aug5.jpg saved!\n",
      "/home/elhamod/HGNN/data/INHS_cropped/images/INHS_FISH_26400_aug6.jpg saved!\n",
      "/home/elhamod/HGNN/data/INHS_cropped/images/INHS_FISH_26400_aug7.jpg saved!\n",
      "/home/elhamod/HGNN/data/INHS_cropped/images/INHS_FISH_26400_aug8.jpg saved!\n",
      "/home/elhamod/HGNN/data/INHS_cropped/images/INHS_FISH_26400_aug9.jpg saved!\n"
     ]
    },
    {
     "name": "stderr",
     "output_type": "stream",
     "text": [
      "\r",
      " 45% (249 of 550) |#########             | Elapsed Time: 0:04:47 ETA:   0:05:51"
     ]
    },
    {
     "name": "stdout",
     "output_type": "stream",
     "text": [
      "/home/elhamod/HGNN/data/INHS_cropped/images/INHS_FISH_23182_aug0.jpg saved!\n",
      "/home/elhamod/HGNN/data/INHS_cropped/images/INHS_FISH_23182_aug1.jpg saved!\n",
      "/home/elhamod/HGNN/data/INHS_cropped/images/INHS_FISH_23182_aug2.jpg saved!\n",
      "/home/elhamod/HGNN/data/INHS_cropped/images/INHS_FISH_23182_aug3.jpg saved!\n",
      "/home/elhamod/HGNN/data/INHS_cropped/images/INHS_FISH_23182_aug4.jpg saved!\n",
      "/home/elhamod/HGNN/data/INHS_cropped/images/INHS_FISH_23182_aug5.jpg saved!\n",
      "/home/elhamod/HGNN/data/INHS_cropped/images/INHS_FISH_23182_aug6.jpg saved!\n",
      "/home/elhamod/HGNN/data/INHS_cropped/images/INHS_FISH_23182_aug7.jpg saved!\n",
      "/home/elhamod/HGNN/data/INHS_cropped/images/INHS_FISH_23182_aug8.jpg saved!\n",
      "/home/elhamod/HGNN/data/INHS_cropped/images/INHS_FISH_23182_aug9.jpg saved!\n"
     ]
    },
    {
     "name": "stderr",
     "output_type": "stream",
     "text": [
      "\r",
      " 45% (250 of 550) |##########            | Elapsed Time: 0:04:48 ETA:   0:05:45"
     ]
    },
    {
     "name": "stdout",
     "output_type": "stream",
     "text": [
      "/home/elhamod/HGNN/data/INHS_cropped/images/INHS_FISH_86895_aug0.jpg saved!\n",
      "/home/elhamod/HGNN/data/INHS_cropped/images/INHS_FISH_86895_aug1.jpg saved!\n",
      "/home/elhamod/HGNN/data/INHS_cropped/images/INHS_FISH_86895_aug2.jpg saved!\n",
      "/home/elhamod/HGNN/data/INHS_cropped/images/INHS_FISH_86895_aug3.jpg saved!\n",
      "/home/elhamod/HGNN/data/INHS_cropped/images/INHS_FISH_86895_aug4.jpg saved!\n",
      "/home/elhamod/HGNN/data/INHS_cropped/images/INHS_FISH_86895_aug5.jpg saved!\n",
      "/home/elhamod/HGNN/data/INHS_cropped/images/INHS_FISH_86895_aug6.jpg saved!\n",
      "/home/elhamod/HGNN/data/INHS_cropped/images/INHS_FISH_86895_aug7.jpg saved!\n",
      "/home/elhamod/HGNN/data/INHS_cropped/images/INHS_FISH_86895_aug8.jpg saved!\n",
      "/home/elhamod/HGNN/data/INHS_cropped/images/INHS_FISH_86895_aug9.jpg saved!\n"
     ]
    },
    {
     "name": "stderr",
     "output_type": "stream",
     "text": [
      "\r",
      " 45% (251 of 550) |##########            | Elapsed Time: 0:04:49 ETA:   0:05:39"
     ]
    },
    {
     "name": "stdout",
     "output_type": "stream",
     "text": [
      "/home/elhamod/HGNN/data/INHS_cropped/images/INHS_FISH_22395_aug0.jpg saved!\n",
      "/home/elhamod/HGNN/data/INHS_cropped/images/INHS_FISH_22395_aug1.jpg saved!\n",
      "/home/elhamod/HGNN/data/INHS_cropped/images/INHS_FISH_22395_aug2.jpg saved!\n",
      "/home/elhamod/HGNN/data/INHS_cropped/images/INHS_FISH_22395_aug3.jpg saved!\n",
      "/home/elhamod/HGNN/data/INHS_cropped/images/INHS_FISH_22395_aug4.jpg saved!\n",
      "/home/elhamod/HGNN/data/INHS_cropped/images/INHS_FISH_22395_aug5.jpg saved!\n",
      "/home/elhamod/HGNN/data/INHS_cropped/images/INHS_FISH_22395_aug6.jpg saved!\n",
      "/home/elhamod/HGNN/data/INHS_cropped/images/INHS_FISH_22395_aug7.jpg saved!\n",
      "/home/elhamod/HGNN/data/INHS_cropped/images/INHS_FISH_22395_aug8.jpg saved!\n",
      "/home/elhamod/HGNN/data/INHS_cropped/images/INHS_FISH_22395_aug9.jpg saved!\n"
     ]
    },
    {
     "name": "stderr",
     "output_type": "stream",
     "text": [
      "\r",
      " 45% (252 of 550) |##########            | Elapsed Time: 0:04:50 ETA:   0:05:38"
     ]
    },
    {
     "name": "stdout",
     "output_type": "stream",
     "text": [
      "/home/elhamod/HGNN/data/INHS_cropped/images/INHS_FISH_025834_aug0.jpg saved!\n",
      "/home/elhamod/HGNN/data/INHS_cropped/images/INHS_FISH_025834_aug1.jpg saved!\n",
      "/home/elhamod/HGNN/data/INHS_cropped/images/INHS_FISH_025834_aug2.jpg saved!\n",
      "/home/elhamod/HGNN/data/INHS_cropped/images/INHS_FISH_025834_aug3.jpg saved!\n",
      "/home/elhamod/HGNN/data/INHS_cropped/images/INHS_FISH_025834_aug4.jpg saved!\n",
      "/home/elhamod/HGNN/data/INHS_cropped/images/INHS_FISH_025834_aug5.jpg saved!\n",
      "/home/elhamod/HGNN/data/INHS_cropped/images/INHS_FISH_025834_aug6.jpg saved!\n",
      "/home/elhamod/HGNN/data/INHS_cropped/images/INHS_FISH_025834_aug7.jpg saved!\n",
      "/home/elhamod/HGNN/data/INHS_cropped/images/INHS_FISH_025834_aug8.jpg saved!\n",
      "/home/elhamod/HGNN/data/INHS_cropped/images/INHS_FISH_025834_aug9.jpg saved!\n"
     ]
    },
    {
     "name": "stderr",
     "output_type": "stream",
     "text": [
      "\r",
      " 46% (253 of 550) |##########            | Elapsed Time: 0:04:52 ETA:   0:05:37"
     ]
    },
    {
     "name": "stdout",
     "output_type": "stream",
     "text": [
      "/home/elhamod/HGNN/data/INHS_cropped/images/INHS_FISH_48427_aug0.jpg saved!\n",
      "/home/elhamod/HGNN/data/INHS_cropped/images/INHS_FISH_48427_aug1.jpg saved!\n",
      "/home/elhamod/HGNN/data/INHS_cropped/images/INHS_FISH_48427_aug2.jpg saved!\n",
      "/home/elhamod/HGNN/data/INHS_cropped/images/INHS_FISH_48427_aug3.jpg saved!\n",
      "/home/elhamod/HGNN/data/INHS_cropped/images/INHS_FISH_48427_aug4.jpg saved!\n",
      "/home/elhamod/HGNN/data/INHS_cropped/images/INHS_FISH_48427_aug5.jpg saved!\n",
      "/home/elhamod/HGNN/data/INHS_cropped/images/INHS_FISH_48427_aug6.jpg saved!\n",
      "/home/elhamod/HGNN/data/INHS_cropped/images/INHS_FISH_48427_aug7.jpg saved!\n",
      "/home/elhamod/HGNN/data/INHS_cropped/images/INHS_FISH_48427_aug8.jpg saved!\n",
      "/home/elhamod/HGNN/data/INHS_cropped/images/INHS_FISH_48427_aug9.jpg saved!\n"
     ]
    },
    {
     "name": "stderr",
     "output_type": "stream",
     "text": [
      "\r",
      " 46% (254 of 550) |##########            | Elapsed Time: 0:04:53 ETA:   0:05:35"
     ]
    },
    {
     "name": "stdout",
     "output_type": "stream",
     "text": [
      "/home/elhamod/HGNN/data/INHS_cropped/images/INHS_FISH_33737_aug0.jpg saved!\n",
      "/home/elhamod/HGNN/data/INHS_cropped/images/INHS_FISH_33737_aug1.jpg saved!\n",
      "/home/elhamod/HGNN/data/INHS_cropped/images/INHS_FISH_33737_aug2.jpg saved!\n",
      "/home/elhamod/HGNN/data/INHS_cropped/images/INHS_FISH_33737_aug3.jpg saved!\n",
      "/home/elhamod/HGNN/data/INHS_cropped/images/INHS_FISH_33737_aug4.jpg saved!\n",
      "/home/elhamod/HGNN/data/INHS_cropped/images/INHS_FISH_33737_aug5.jpg saved!\n",
      "/home/elhamod/HGNN/data/INHS_cropped/images/INHS_FISH_33737_aug6.jpg saved!\n",
      "/home/elhamod/HGNN/data/INHS_cropped/images/INHS_FISH_33737_aug7.jpg saved!\n",
      "/home/elhamod/HGNN/data/INHS_cropped/images/INHS_FISH_33737_aug8.jpg saved!\n",
      "/home/elhamod/HGNN/data/INHS_cropped/images/INHS_FISH_33737_aug9.jpg saved!\n"
     ]
    },
    {
     "name": "stderr",
     "output_type": "stream",
     "text": [
      "\r",
      " 46% (255 of 550) |##########            | Elapsed Time: 0:04:54 ETA:   0:05:36"
     ]
    },
    {
     "name": "stdout",
     "output_type": "stream",
     "text": [
      "/home/elhamod/HGNN/data/INHS_cropped/images/INHS_FISH_58837_aug0.jpg saved!\n",
      "/home/elhamod/HGNN/data/INHS_cropped/images/INHS_FISH_58837_aug1.jpg saved!\n",
      "/home/elhamod/HGNN/data/INHS_cropped/images/INHS_FISH_58837_aug2.jpg saved!\n",
      "/home/elhamod/HGNN/data/INHS_cropped/images/INHS_FISH_58837_aug3.jpg saved!\n",
      "/home/elhamod/HGNN/data/INHS_cropped/images/INHS_FISH_58837_aug4.jpg saved!\n",
      "/home/elhamod/HGNN/data/INHS_cropped/images/INHS_FISH_58837_aug5.jpg saved!\n",
      "/home/elhamod/HGNN/data/INHS_cropped/images/INHS_FISH_58837_aug6.jpg saved!\n",
      "/home/elhamod/HGNN/data/INHS_cropped/images/INHS_FISH_58837_aug7.jpg saved!\n",
      "/home/elhamod/HGNN/data/INHS_cropped/images/INHS_FISH_58837_aug8.jpg saved!\n",
      "/home/elhamod/HGNN/data/INHS_cropped/images/INHS_FISH_58837_aug9.jpg saved!\n"
     ]
    },
    {
     "name": "stderr",
     "output_type": "stream",
     "text": [
      "\r",
      " 46% (256 of 550) |##########            | Elapsed Time: 0:04:55 ETA:   0:05:41"
     ]
    },
    {
     "name": "stdout",
     "output_type": "stream",
     "text": [
      "/home/elhamod/HGNN/data/INHS_cropped/images/INHS_FISH_2475_aug0.jpg saved!\n",
      "/home/elhamod/HGNN/data/INHS_cropped/images/INHS_FISH_2475_aug1.jpg saved!\n",
      "/home/elhamod/HGNN/data/INHS_cropped/images/INHS_FISH_2475_aug2.jpg saved!\n",
      "/home/elhamod/HGNN/data/INHS_cropped/images/INHS_FISH_2475_aug3.jpg saved!\n",
      "/home/elhamod/HGNN/data/INHS_cropped/images/INHS_FISH_2475_aug4.jpg saved!\n",
      "/home/elhamod/HGNN/data/INHS_cropped/images/INHS_FISH_2475_aug5.jpg saved!\n",
      "/home/elhamod/HGNN/data/INHS_cropped/images/INHS_FISH_2475_aug6.jpg saved!\n",
      "/home/elhamod/HGNN/data/INHS_cropped/images/INHS_FISH_2475_aug7.jpg saved!\n",
      "/home/elhamod/HGNN/data/INHS_cropped/images/INHS_FISH_2475_aug8.jpg saved!\n",
      "/home/elhamod/HGNN/data/INHS_cropped/images/INHS_FISH_2475_aug9.jpg saved!\n"
     ]
    },
    {
     "name": "stderr",
     "output_type": "stream",
     "text": [
      "\r",
      " 46% (257 of 550) |##########            | Elapsed Time: 0:04:56 ETA:   0:05:43"
     ]
    },
    {
     "name": "stdout",
     "output_type": "stream",
     "text": [
      "/home/elhamod/HGNN/data/INHS_cropped/images/INHS_FISH_95470_aug0.jpg saved!\n",
      "/home/elhamod/HGNN/data/INHS_cropped/images/INHS_FISH_95470_aug1.jpg saved!\n",
      "/home/elhamod/HGNN/data/INHS_cropped/images/INHS_FISH_95470_aug2.jpg saved!\n",
      "/home/elhamod/HGNN/data/INHS_cropped/images/INHS_FISH_95470_aug3.jpg saved!\n",
      "/home/elhamod/HGNN/data/INHS_cropped/images/INHS_FISH_95470_aug4.jpg saved!\n",
      "/home/elhamod/HGNN/data/INHS_cropped/images/INHS_FISH_95470_aug5.jpg saved!\n",
      "/home/elhamod/HGNN/data/INHS_cropped/images/INHS_FISH_95470_aug6.jpg saved!\n",
      "/home/elhamod/HGNN/data/INHS_cropped/images/INHS_FISH_95470_aug7.jpg saved!\n",
      "/home/elhamod/HGNN/data/INHS_cropped/images/INHS_FISH_95470_aug8.jpg saved!\n",
      "/home/elhamod/HGNN/data/INHS_cropped/images/INHS_FISH_95470_aug9.jpg saved!\n"
     ]
    },
    {
     "name": "stderr",
     "output_type": "stream",
     "text": [
      "\r",
      " 46% (258 of 550) |##########            | Elapsed Time: 0:04:57 ETA:   0:05:42"
     ]
    },
    {
     "name": "stdout",
     "output_type": "stream",
     "text": [
      "/home/elhamod/HGNN/data/INHS_cropped/images/INHS_FISH_108535_aug0.jpg saved!\n",
      "/home/elhamod/HGNN/data/INHS_cropped/images/INHS_FISH_108535_aug1.jpg saved!\n",
      "/home/elhamod/HGNN/data/INHS_cropped/images/INHS_FISH_108535_aug2.jpg saved!\n",
      "/home/elhamod/HGNN/data/INHS_cropped/images/INHS_FISH_108535_aug3.jpg saved!\n",
      "/home/elhamod/HGNN/data/INHS_cropped/images/INHS_FISH_108535_aug4.jpg saved!\n",
      "/home/elhamod/HGNN/data/INHS_cropped/images/INHS_FISH_108535_aug5.jpg saved!\n",
      "/home/elhamod/HGNN/data/INHS_cropped/images/INHS_FISH_108535_aug6.jpg saved!\n",
      "/home/elhamod/HGNN/data/INHS_cropped/images/INHS_FISH_108535_aug7.jpg saved!\n",
      "/home/elhamod/HGNN/data/INHS_cropped/images/INHS_FISH_108535_aug8.jpg saved!\n",
      "/home/elhamod/HGNN/data/INHS_cropped/images/INHS_FISH_108535_aug9.jpg saved!\n"
     ]
    },
    {
     "name": "stderr",
     "output_type": "stream",
     "text": [
      "\r",
      " 47% (259 of 550) |##########            | Elapsed Time: 0:04:59 ETA:   0:05:41"
     ]
    },
    {
     "name": "stdout",
     "output_type": "stream",
     "text": [
      "/home/elhamod/HGNN/data/INHS_cropped/images/INHS_FISH_87503_aug0.jpg saved!\n",
      "/home/elhamod/HGNN/data/INHS_cropped/images/INHS_FISH_87503_aug1.jpg saved!\n",
      "/home/elhamod/HGNN/data/INHS_cropped/images/INHS_FISH_87503_aug2.jpg saved!\n",
      "/home/elhamod/HGNN/data/INHS_cropped/images/INHS_FISH_87503_aug3.jpg saved!\n",
      "/home/elhamod/HGNN/data/INHS_cropped/images/INHS_FISH_87503_aug4.jpg saved!\n",
      "/home/elhamod/HGNN/data/INHS_cropped/images/INHS_FISH_87503_aug5.jpg saved!\n",
      "/home/elhamod/HGNN/data/INHS_cropped/images/INHS_FISH_87503_aug6.jpg saved!\n",
      "/home/elhamod/HGNN/data/INHS_cropped/images/INHS_FISH_87503_aug7.jpg saved!\n",
      "/home/elhamod/HGNN/data/INHS_cropped/images/INHS_FISH_87503_aug8.jpg saved!\n",
      "/home/elhamod/HGNN/data/INHS_cropped/images/INHS_FISH_87503_aug9.jpg saved!\n"
     ]
    },
    {
     "name": "stderr",
     "output_type": "stream",
     "text": [
      "\r",
      " 47% (260 of 550) |##########            | Elapsed Time: 0:05:00 ETA:   0:05:37"
     ]
    },
    {
     "name": "stdout",
     "output_type": "stream",
     "text": [
      "/home/elhamod/HGNN/data/INHS_cropped/images/INHS_FISH_25907_aug0.jpg saved!\n",
      "/home/elhamod/HGNN/data/INHS_cropped/images/INHS_FISH_25907_aug1.jpg saved!\n",
      "/home/elhamod/HGNN/data/INHS_cropped/images/INHS_FISH_25907_aug2.jpg saved!\n",
      "/home/elhamod/HGNN/data/INHS_cropped/images/INHS_FISH_25907_aug3.jpg saved!\n",
      "/home/elhamod/HGNN/data/INHS_cropped/images/INHS_FISH_25907_aug4.jpg saved!\n",
      "/home/elhamod/HGNN/data/INHS_cropped/images/INHS_FISH_25907_aug5.jpg saved!\n",
      "/home/elhamod/HGNN/data/INHS_cropped/images/INHS_FISH_25907_aug6.jpg saved!\n",
      "/home/elhamod/HGNN/data/INHS_cropped/images/INHS_FISH_25907_aug7.jpg saved!\n",
      "/home/elhamod/HGNN/data/INHS_cropped/images/INHS_FISH_25907_aug8.jpg saved!\n",
      "/home/elhamod/HGNN/data/INHS_cropped/images/INHS_FISH_25907_aug9.jpg saved!\n"
     ]
    },
    {
     "name": "stderr",
     "output_type": "stream",
     "text": [
      "\r",
      " 47% (261 of 550) |##########            | Elapsed Time: 0:05:01 ETA:   0:05:36"
     ]
    },
    {
     "name": "stdout",
     "output_type": "stream",
     "text": [
      "/home/elhamod/HGNN/data/INHS_cropped/images/INHS_FISH_50032_aug0.jpg saved!\n",
      "/home/elhamod/HGNN/data/INHS_cropped/images/INHS_FISH_50032_aug1.jpg saved!\n",
      "/home/elhamod/HGNN/data/INHS_cropped/images/INHS_FISH_50032_aug2.jpg saved!\n",
      "/home/elhamod/HGNN/data/INHS_cropped/images/INHS_FISH_50032_aug3.jpg saved!\n",
      "/home/elhamod/HGNN/data/INHS_cropped/images/INHS_FISH_50032_aug4.jpg saved!\n",
      "/home/elhamod/HGNN/data/INHS_cropped/images/INHS_FISH_50032_aug5.jpg saved!\n",
      "/home/elhamod/HGNN/data/INHS_cropped/images/INHS_FISH_50032_aug6.jpg saved!\n",
      "/home/elhamod/HGNN/data/INHS_cropped/images/INHS_FISH_50032_aug7.jpg saved!\n",
      "/home/elhamod/HGNN/data/INHS_cropped/images/INHS_FISH_50032_aug8.jpg saved!\n",
      "/home/elhamod/HGNN/data/INHS_cropped/images/INHS_FISH_50032_aug9.jpg saved!\n"
     ]
    },
    {
     "name": "stderr",
     "output_type": "stream",
     "text": [
      "\r",
      " 47% (262 of 550) |##########            | Elapsed Time: 0:05:02 ETA:   0:05:38"
     ]
    },
    {
     "name": "stdout",
     "output_type": "stream",
     "text": [
      "/home/elhamod/HGNN/data/INHS_cropped/images/INHS_FISH_102623_aug0.jpg saved!\n",
      "/home/elhamod/HGNN/data/INHS_cropped/images/INHS_FISH_102623_aug1.jpg saved!\n",
      "/home/elhamod/HGNN/data/INHS_cropped/images/INHS_FISH_102623_aug2.jpg saved!\n",
      "/home/elhamod/HGNN/data/INHS_cropped/images/INHS_FISH_102623_aug3.jpg saved!\n",
      "/home/elhamod/HGNN/data/INHS_cropped/images/INHS_FISH_102623_aug4.jpg saved!\n",
      "/home/elhamod/HGNN/data/INHS_cropped/images/INHS_FISH_102623_aug5.jpg saved!\n",
      "/home/elhamod/HGNN/data/INHS_cropped/images/INHS_FISH_102623_aug6.jpg saved!\n",
      "/home/elhamod/HGNN/data/INHS_cropped/images/INHS_FISH_102623_aug7.jpg saved!\n",
      "/home/elhamod/HGNN/data/INHS_cropped/images/INHS_FISH_102623_aug8.jpg saved!\n",
      "/home/elhamod/HGNN/data/INHS_cropped/images/INHS_FISH_102623_aug9.jpg saved!\n"
     ]
    },
    {
     "name": "stderr",
     "output_type": "stream",
     "text": [
      "\r",
      " 47% (263 of 550) |##########            | Elapsed Time: 0:05:03 ETA:   0:05:42"
     ]
    },
    {
     "name": "stdout",
     "output_type": "stream",
     "text": [
      "/home/elhamod/HGNN/data/INHS_cropped/images/INHS_FISH_90170_aug0.jpg saved!\n",
      "/home/elhamod/HGNN/data/INHS_cropped/images/INHS_FISH_90170_aug1.jpg saved!\n",
      "/home/elhamod/HGNN/data/INHS_cropped/images/INHS_FISH_90170_aug2.jpg saved!\n",
      "/home/elhamod/HGNN/data/INHS_cropped/images/INHS_FISH_90170_aug3.jpg saved!\n",
      "/home/elhamod/HGNN/data/INHS_cropped/images/INHS_FISH_90170_aug4.jpg saved!\n",
      "/home/elhamod/HGNN/data/INHS_cropped/images/INHS_FISH_90170_aug5.jpg saved!\n",
      "/home/elhamod/HGNN/data/INHS_cropped/images/INHS_FISH_90170_aug6.jpg saved!\n",
      "/home/elhamod/HGNN/data/INHS_cropped/images/INHS_FISH_90170_aug7.jpg saved!\n",
      "/home/elhamod/HGNN/data/INHS_cropped/images/INHS_FISH_90170_aug8.jpg saved!\n",
      "/home/elhamod/HGNN/data/INHS_cropped/images/INHS_FISH_90170_aug9.jpg saved!\n"
     ]
    },
    {
     "name": "stderr",
     "output_type": "stream",
     "text": [
      "\r",
      " 48% (264 of 550) |##########            | Elapsed Time: 0:05:05 ETA:   0:05:45"
     ]
    },
    {
     "name": "stdout",
     "output_type": "stream",
     "text": [
      "/home/elhamod/HGNN/data/INHS_cropped/images/INHS_FISH_80509_aug0.jpg saved!\n",
      "/home/elhamod/HGNN/data/INHS_cropped/images/INHS_FISH_80509_aug1.jpg saved!\n",
      "/home/elhamod/HGNN/data/INHS_cropped/images/INHS_FISH_80509_aug2.jpg saved!\n",
      "/home/elhamod/HGNN/data/INHS_cropped/images/INHS_FISH_80509_aug3.jpg saved!\n",
      "/home/elhamod/HGNN/data/INHS_cropped/images/INHS_FISH_80509_aug4.jpg saved!\n",
      "/home/elhamod/HGNN/data/INHS_cropped/images/INHS_FISH_80509_aug5.jpg saved!\n",
      "/home/elhamod/HGNN/data/INHS_cropped/images/INHS_FISH_80509_aug6.jpg saved!\n",
      "/home/elhamod/HGNN/data/INHS_cropped/images/INHS_FISH_80509_aug7.jpg saved!\n",
      "/home/elhamod/HGNN/data/INHS_cropped/images/INHS_FISH_80509_aug8.jpg saved!\n",
      "/home/elhamod/HGNN/data/INHS_cropped/images/INHS_FISH_80509_aug9.jpg saved!\n"
     ]
    },
    {
     "name": "stderr",
     "output_type": "stream",
     "text": [
      "\r",
      " 48% (265 of 550) |##########            | Elapsed Time: 0:05:06 ETA:   0:05:37"
     ]
    },
    {
     "name": "stdout",
     "output_type": "stream",
     "text": [
      "/home/elhamod/HGNN/data/INHS_cropped/images/INHS_FISH_82719_aug0.jpg saved!\n",
      "/home/elhamod/HGNN/data/INHS_cropped/images/INHS_FISH_82719_aug1.jpg saved!\n",
      "/home/elhamod/HGNN/data/INHS_cropped/images/INHS_FISH_82719_aug2.jpg saved!\n",
      "/home/elhamod/HGNN/data/INHS_cropped/images/INHS_FISH_82719_aug3.jpg saved!\n",
      "/home/elhamod/HGNN/data/INHS_cropped/images/INHS_FISH_82719_aug4.jpg saved!\n",
      "/home/elhamod/HGNN/data/INHS_cropped/images/INHS_FISH_82719_aug5.jpg saved!\n",
      "/home/elhamod/HGNN/data/INHS_cropped/images/INHS_FISH_82719_aug6.jpg saved!\n",
      "/home/elhamod/HGNN/data/INHS_cropped/images/INHS_FISH_82719_aug7.jpg saved!\n",
      "/home/elhamod/HGNN/data/INHS_cropped/images/INHS_FISH_82719_aug8.jpg saved!\n",
      "/home/elhamod/HGNN/data/INHS_cropped/images/INHS_FISH_82719_aug9.jpg saved!\n"
     ]
    },
    {
     "name": "stderr",
     "output_type": "stream",
     "text": [
      "\r",
      " 48% (266 of 550) |##########            | Elapsed Time: 0:05:07 ETA:   0:05:33"
     ]
    },
    {
     "name": "stdout",
     "output_type": "stream",
     "text": [
      "/home/elhamod/HGNN/data/INHS_cropped/images/INHS_FISH_23032_aug0.jpg saved!\n",
      "/home/elhamod/HGNN/data/INHS_cropped/images/INHS_FISH_23032_aug1.jpg saved!\n",
      "/home/elhamod/HGNN/data/INHS_cropped/images/INHS_FISH_23032_aug2.jpg saved!\n",
      "/home/elhamod/HGNN/data/INHS_cropped/images/INHS_FISH_23032_aug3.jpg saved!\n",
      "/home/elhamod/HGNN/data/INHS_cropped/images/INHS_FISH_23032_aug4.jpg saved!\n",
      "/home/elhamod/HGNN/data/INHS_cropped/images/INHS_FISH_23032_aug5.jpg saved!\n",
      "/home/elhamod/HGNN/data/INHS_cropped/images/INHS_FISH_23032_aug6.jpg saved!\n",
      "/home/elhamod/HGNN/data/INHS_cropped/images/INHS_FISH_23032_aug7.jpg saved!\n",
      "/home/elhamod/HGNN/data/INHS_cropped/images/INHS_FISH_23032_aug8.jpg saved!\n",
      "/home/elhamod/HGNN/data/INHS_cropped/images/INHS_FISH_23032_aug9.jpg saved!\n"
     ]
    },
    {
     "name": "stderr",
     "output_type": "stream",
     "text": [
      "\r",
      " 48% (267 of 550) |##########            | Elapsed Time: 0:05:08 ETA:   0:05:42"
     ]
    },
    {
     "name": "stdout",
     "output_type": "stream",
     "text": [
      "/home/elhamod/HGNN/data/INHS_cropped/images/INHS_FISH_74127_aug0.jpg saved!\n",
      "/home/elhamod/HGNN/data/INHS_cropped/images/INHS_FISH_74127_aug1.jpg saved!\n",
      "/home/elhamod/HGNN/data/INHS_cropped/images/INHS_FISH_74127_aug2.jpg saved!\n",
      "/home/elhamod/HGNN/data/INHS_cropped/images/INHS_FISH_74127_aug3.jpg saved!\n",
      "/home/elhamod/HGNN/data/INHS_cropped/images/INHS_FISH_74127_aug4.jpg saved!\n",
      "/home/elhamod/HGNN/data/INHS_cropped/images/INHS_FISH_74127_aug5.jpg saved!\n",
      "/home/elhamod/HGNN/data/INHS_cropped/images/INHS_FISH_74127_aug6.jpg saved!\n",
      "/home/elhamod/HGNN/data/INHS_cropped/images/INHS_FISH_74127_aug7.jpg saved!\n",
      "/home/elhamod/HGNN/data/INHS_cropped/images/INHS_FISH_74127_aug8.jpg saved!\n",
      "/home/elhamod/HGNN/data/INHS_cropped/images/INHS_FISH_74127_aug9.jpg saved!\n"
     ]
    },
    {
     "name": "stderr",
     "output_type": "stream",
     "text": [
      "\r",
      " 48% (268 of 550) |##########            | Elapsed Time: 0:05:09 ETA:   0:05:33"
     ]
    },
    {
     "name": "stdout",
     "output_type": "stream",
     "text": [
      "/home/elhamod/HGNN/data/INHS_cropped/images/INHS_FISH_90518_aug0.jpg saved!\n",
      "/home/elhamod/HGNN/data/INHS_cropped/images/INHS_FISH_90518_aug1.jpg saved!\n",
      "/home/elhamod/HGNN/data/INHS_cropped/images/INHS_FISH_90518_aug2.jpg saved!\n",
      "/home/elhamod/HGNN/data/INHS_cropped/images/INHS_FISH_90518_aug3.jpg saved!\n",
      "/home/elhamod/HGNN/data/INHS_cropped/images/INHS_FISH_90518_aug4.jpg saved!\n",
      "/home/elhamod/HGNN/data/INHS_cropped/images/INHS_FISH_90518_aug5.jpg saved!\n",
      "/home/elhamod/HGNN/data/INHS_cropped/images/INHS_FISH_90518_aug6.jpg saved!\n",
      "/home/elhamod/HGNN/data/INHS_cropped/images/INHS_FISH_90518_aug7.jpg saved!\n",
      "/home/elhamod/HGNN/data/INHS_cropped/images/INHS_FISH_90518_aug8.jpg saved!\n",
      "/home/elhamod/HGNN/data/INHS_cropped/images/INHS_FISH_90518_aug9.jpg saved!\n"
     ]
    },
    {
     "name": "stderr",
     "output_type": "stream",
     "text": [
      "\r",
      " 48% (269 of 550) |##########            | Elapsed Time: 0:05:10 ETA:   0:05:26"
     ]
    },
    {
     "name": "stdout",
     "output_type": "stream",
     "text": [
      "/home/elhamod/HGNN/data/INHS_cropped/images/INHS_FISH_42303_aug0.jpg saved!\n",
      "/home/elhamod/HGNN/data/INHS_cropped/images/INHS_FISH_42303_aug1.jpg saved!\n",
      "/home/elhamod/HGNN/data/INHS_cropped/images/INHS_FISH_42303_aug2.jpg saved!\n",
      "/home/elhamod/HGNN/data/INHS_cropped/images/INHS_FISH_42303_aug3.jpg saved!\n",
      "/home/elhamod/HGNN/data/INHS_cropped/images/INHS_FISH_42303_aug4.jpg saved!\n",
      "/home/elhamod/HGNN/data/INHS_cropped/images/INHS_FISH_42303_aug5.jpg saved!\n",
      "/home/elhamod/HGNN/data/INHS_cropped/images/INHS_FISH_42303_aug6.jpg saved!\n",
      "/home/elhamod/HGNN/data/INHS_cropped/images/INHS_FISH_42303_aug7.jpg saved!\n",
      "/home/elhamod/HGNN/data/INHS_cropped/images/INHS_FISH_42303_aug8.jpg saved!\n",
      "/home/elhamod/HGNN/data/INHS_cropped/images/INHS_FISH_42303_aug9.jpg saved!\n"
     ]
    },
    {
     "name": "stderr",
     "output_type": "stream",
     "text": [
      "\r",
      " 49% (270 of 550) |##########            | Elapsed Time: 0:05:12 ETA:   0:05:31"
     ]
    },
    {
     "name": "stdout",
     "output_type": "stream",
     "text": [
      "/home/elhamod/HGNN/data/INHS_cropped/images/INHS_FISH_63287_aug0.jpg saved!\n",
      "/home/elhamod/HGNN/data/INHS_cropped/images/INHS_FISH_63287_aug1.jpg saved!\n",
      "/home/elhamod/HGNN/data/INHS_cropped/images/INHS_FISH_63287_aug2.jpg saved!\n",
      "/home/elhamod/HGNN/data/INHS_cropped/images/INHS_FISH_63287_aug3.jpg saved!\n",
      "/home/elhamod/HGNN/data/INHS_cropped/images/INHS_FISH_63287_aug4.jpg saved!\n",
      "/home/elhamod/HGNN/data/INHS_cropped/images/INHS_FISH_63287_aug5.jpg saved!\n",
      "/home/elhamod/HGNN/data/INHS_cropped/images/INHS_FISH_63287_aug6.jpg saved!\n",
      "/home/elhamod/HGNN/data/INHS_cropped/images/INHS_FISH_63287_aug7.jpg saved!\n",
      "/home/elhamod/HGNN/data/INHS_cropped/images/INHS_FISH_63287_aug8.jpg saved!\n",
      "/home/elhamod/HGNN/data/INHS_cropped/images/INHS_FISH_63287_aug9.jpg saved!\n"
     ]
    },
    {
     "name": "stderr",
     "output_type": "stream",
     "text": [
      "\r",
      " 49% (271 of 550) |##########            | Elapsed Time: 0:05:13 ETA:   0:05:21"
     ]
    },
    {
     "name": "stdout",
     "output_type": "stream",
     "text": [
      "/home/elhamod/HGNN/data/INHS_cropped/images/INHS_FISH_104982_aug0.jpg saved!\n",
      "/home/elhamod/HGNN/data/INHS_cropped/images/INHS_FISH_104982_aug1.jpg saved!\n",
      "/home/elhamod/HGNN/data/INHS_cropped/images/INHS_FISH_104982_aug2.jpg saved!\n",
      "/home/elhamod/HGNN/data/INHS_cropped/images/INHS_FISH_104982_aug3.jpg saved!\n",
      "/home/elhamod/HGNN/data/INHS_cropped/images/INHS_FISH_104982_aug4.jpg saved!\n",
      "/home/elhamod/HGNN/data/INHS_cropped/images/INHS_FISH_104982_aug5.jpg saved!\n",
      "/home/elhamod/HGNN/data/INHS_cropped/images/INHS_FISH_104982_aug6.jpg saved!\n",
      "/home/elhamod/HGNN/data/INHS_cropped/images/INHS_FISH_104982_aug7.jpg saved!\n",
      "/home/elhamod/HGNN/data/INHS_cropped/images/INHS_FISH_104982_aug8.jpg saved!\n",
      "/home/elhamod/HGNN/data/INHS_cropped/images/INHS_FISH_104982_aug9.jpg saved!\n"
     ]
    },
    {
     "name": "stderr",
     "output_type": "stream",
     "text": [
      "\r",
      " 49% (272 of 550) |##########            | Elapsed Time: 0:05:14 ETA:   0:05:14"
     ]
    },
    {
     "name": "stdout",
     "output_type": "stream",
     "text": [
      "/home/elhamod/HGNN/data/INHS_cropped/images/INHS_FISH_17458_aug0.jpg saved!\n",
      "/home/elhamod/HGNN/data/INHS_cropped/images/INHS_FISH_17458_aug1.jpg saved!\n",
      "/home/elhamod/HGNN/data/INHS_cropped/images/INHS_FISH_17458_aug2.jpg saved!\n",
      "/home/elhamod/HGNN/data/INHS_cropped/images/INHS_FISH_17458_aug3.jpg saved!\n",
      "/home/elhamod/HGNN/data/INHS_cropped/images/INHS_FISH_17458_aug4.jpg saved!\n",
      "/home/elhamod/HGNN/data/INHS_cropped/images/INHS_FISH_17458_aug5.jpg saved!\n",
      "/home/elhamod/HGNN/data/INHS_cropped/images/INHS_FISH_17458_aug6.jpg saved!\n",
      "/home/elhamod/HGNN/data/INHS_cropped/images/INHS_FISH_17458_aug7.jpg saved!\n",
      "/home/elhamod/HGNN/data/INHS_cropped/images/INHS_FISH_17458_aug8.jpg saved!\n",
      "/home/elhamod/HGNN/data/INHS_cropped/images/INHS_FISH_17458_aug9.jpg saved!\n"
     ]
    },
    {
     "name": "stderr",
     "output_type": "stream",
     "text": [
      "\r",
      " 49% (273 of 550) |##########            | Elapsed Time: 0:05:15 ETA:   0:05:17"
     ]
    },
    {
     "name": "stdout",
     "output_type": "stream",
     "text": [
      "/home/elhamod/HGNN/data/INHS_cropped/images/INHS_FISH_63588_aug0.jpg saved!\n",
      "/home/elhamod/HGNN/data/INHS_cropped/images/INHS_FISH_63588_aug1.jpg saved!\n",
      "/home/elhamod/HGNN/data/INHS_cropped/images/INHS_FISH_63588_aug2.jpg saved!\n",
      "/home/elhamod/HGNN/data/INHS_cropped/images/INHS_FISH_63588_aug3.jpg saved!\n",
      "/home/elhamod/HGNN/data/INHS_cropped/images/INHS_FISH_63588_aug4.jpg saved!\n",
      "/home/elhamod/HGNN/data/INHS_cropped/images/INHS_FISH_63588_aug5.jpg saved!\n",
      "/home/elhamod/HGNN/data/INHS_cropped/images/INHS_FISH_63588_aug6.jpg saved!\n",
      "/home/elhamod/HGNN/data/INHS_cropped/images/INHS_FISH_63588_aug7.jpg saved!\n",
      "/home/elhamod/HGNN/data/INHS_cropped/images/INHS_FISH_63588_aug8.jpg saved!\n",
      "/home/elhamod/HGNN/data/INHS_cropped/images/INHS_FISH_63588_aug9.jpg saved!\n"
     ]
    },
    {
     "name": "stderr",
     "output_type": "stream",
     "text": [
      "\r",
      " 49% (274 of 550) |##########            | Elapsed Time: 0:05:16 ETA:   0:05:29"
     ]
    },
    {
     "name": "stdout",
     "output_type": "stream",
     "text": [
      "/home/elhamod/HGNN/data/INHS_cropped/images/INHS_FISH_80646_aug0.jpg saved!\n",
      "/home/elhamod/HGNN/data/INHS_cropped/images/INHS_FISH_80646_aug1.jpg saved!\n",
      "/home/elhamod/HGNN/data/INHS_cropped/images/INHS_FISH_80646_aug2.jpg saved!\n",
      "/home/elhamod/HGNN/data/INHS_cropped/images/INHS_FISH_80646_aug3.jpg saved!\n",
      "/home/elhamod/HGNN/data/INHS_cropped/images/INHS_FISH_80646_aug4.jpg saved!\n",
      "/home/elhamod/HGNN/data/INHS_cropped/images/INHS_FISH_80646_aug5.jpg saved!\n",
      "/home/elhamod/HGNN/data/INHS_cropped/images/INHS_FISH_80646_aug6.jpg saved!\n",
      "/home/elhamod/HGNN/data/INHS_cropped/images/INHS_FISH_80646_aug7.jpg saved!\n",
      "/home/elhamod/HGNN/data/INHS_cropped/images/INHS_FISH_80646_aug8.jpg saved!\n",
      "/home/elhamod/HGNN/data/INHS_cropped/images/INHS_FISH_80646_aug9.jpg saved!\n"
     ]
    },
    {
     "name": "stderr",
     "output_type": "stream",
     "text": [
      "\r",
      " 50% (275 of 550) |###########           | Elapsed Time: 0:05:18 ETA:   0:05:47"
     ]
    },
    {
     "name": "stdout",
     "output_type": "stream",
     "text": [
      "/home/elhamod/HGNN/data/INHS_cropped/images/INHS_FISH_831_aug0.jpg saved!\n",
      "/home/elhamod/HGNN/data/INHS_cropped/images/INHS_FISH_831_aug1.jpg saved!\n",
      "/home/elhamod/HGNN/data/INHS_cropped/images/INHS_FISH_831_aug2.jpg saved!\n",
      "/home/elhamod/HGNN/data/INHS_cropped/images/INHS_FISH_831_aug3.jpg saved!\n",
      "/home/elhamod/HGNN/data/INHS_cropped/images/INHS_FISH_831_aug4.jpg saved!\n",
      "/home/elhamod/HGNN/data/INHS_cropped/images/INHS_FISH_831_aug5.jpg saved!\n",
      "/home/elhamod/HGNN/data/INHS_cropped/images/INHS_FISH_831_aug6.jpg saved!\n",
      "/home/elhamod/HGNN/data/INHS_cropped/images/INHS_FISH_831_aug7.jpg saved!\n",
      "/home/elhamod/HGNN/data/INHS_cropped/images/INHS_FISH_831_aug8.jpg saved!\n",
      "/home/elhamod/HGNN/data/INHS_cropped/images/INHS_FISH_831_aug9.jpg saved!\n"
     ]
    },
    {
     "name": "stderr",
     "output_type": "stream",
     "text": [
      "\r",
      " 50% (276 of 550) |###########           | Elapsed Time: 0:05:19 ETA:   0:05:37"
     ]
    },
    {
     "name": "stdout",
     "output_type": "stream",
     "text": [
      "/home/elhamod/HGNN/data/INHS_cropped/images/INHS_FISH_93908_aug0.jpg saved!\n",
      "/home/elhamod/HGNN/data/INHS_cropped/images/INHS_FISH_93908_aug1.jpg saved!\n",
      "/home/elhamod/HGNN/data/INHS_cropped/images/INHS_FISH_93908_aug2.jpg saved!\n",
      "/home/elhamod/HGNN/data/INHS_cropped/images/INHS_FISH_93908_aug3.jpg saved!\n",
      "/home/elhamod/HGNN/data/INHS_cropped/images/INHS_FISH_93908_aug4.jpg saved!\n",
      "/home/elhamod/HGNN/data/INHS_cropped/images/INHS_FISH_93908_aug5.jpg saved!\n",
      "/home/elhamod/HGNN/data/INHS_cropped/images/INHS_FISH_93908_aug6.jpg saved!\n",
      "/home/elhamod/HGNN/data/INHS_cropped/images/INHS_FISH_93908_aug7.jpg saved!\n",
      "/home/elhamod/HGNN/data/INHS_cropped/images/INHS_FISH_93908_aug8.jpg saved!\n",
      "/home/elhamod/HGNN/data/INHS_cropped/images/INHS_FISH_93908_aug9.jpg saved!\n"
     ]
    },
    {
     "name": "stderr",
     "output_type": "stream",
     "text": [
      "\r",
      " 50% (277 of 550) |###########           | Elapsed Time: 0:05:20 ETA:   0:05:13"
     ]
    },
    {
     "name": "stdout",
     "output_type": "stream",
     "text": [
      "/home/elhamod/HGNN/data/INHS_cropped/images/INHS_FISH_1939_aug0.jpg saved!\n",
      "/home/elhamod/HGNN/data/INHS_cropped/images/INHS_FISH_1939_aug1.jpg saved!\n",
      "/home/elhamod/HGNN/data/INHS_cropped/images/INHS_FISH_1939_aug2.jpg saved!\n",
      "/home/elhamod/HGNN/data/INHS_cropped/images/INHS_FISH_1939_aug3.jpg saved!\n",
      "/home/elhamod/HGNN/data/INHS_cropped/images/INHS_FISH_1939_aug4.jpg saved!\n",
      "/home/elhamod/HGNN/data/INHS_cropped/images/INHS_FISH_1939_aug5.jpg saved!\n",
      "/home/elhamod/HGNN/data/INHS_cropped/images/INHS_FISH_1939_aug6.jpg saved!\n",
      "/home/elhamod/HGNN/data/INHS_cropped/images/INHS_FISH_1939_aug7.jpg saved!\n",
      "/home/elhamod/HGNN/data/INHS_cropped/images/INHS_FISH_1939_aug8.jpg saved!\n",
      "/home/elhamod/HGNN/data/INHS_cropped/images/INHS_FISH_1939_aug9.jpg saved!\n"
     ]
    },
    {
     "name": "stderr",
     "output_type": "stream",
     "text": [
      "\r",
      " 50% (278 of 550) |###########           | Elapsed Time: 0:05:21 ETA:   0:05:10"
     ]
    },
    {
     "name": "stdout",
     "output_type": "stream",
     "text": [
      "/home/elhamod/HGNN/data/INHS_cropped/images/INHS_FISH_97141_aug0.jpg saved!\n",
      "/home/elhamod/HGNN/data/INHS_cropped/images/INHS_FISH_97141_aug1.jpg saved!\n",
      "/home/elhamod/HGNN/data/INHS_cropped/images/INHS_FISH_97141_aug2.jpg saved!\n",
      "/home/elhamod/HGNN/data/INHS_cropped/images/INHS_FISH_97141_aug3.jpg saved!\n",
      "/home/elhamod/HGNN/data/INHS_cropped/images/INHS_FISH_97141_aug4.jpg saved!\n",
      "/home/elhamod/HGNN/data/INHS_cropped/images/INHS_FISH_97141_aug5.jpg saved!\n",
      "/home/elhamod/HGNN/data/INHS_cropped/images/INHS_FISH_97141_aug6.jpg saved!\n",
      "/home/elhamod/HGNN/data/INHS_cropped/images/INHS_FISH_97141_aug7.jpg saved!\n",
      "/home/elhamod/HGNN/data/INHS_cropped/images/INHS_FISH_97141_aug8.jpg saved!\n",
      "/home/elhamod/HGNN/data/INHS_cropped/images/INHS_FISH_97141_aug9.jpg saved!\n"
     ]
    },
    {
     "name": "stderr",
     "output_type": "stream",
     "text": [
      "\r",
      " 50% (279 of 550) |###########           | Elapsed Time: 0:05:22 ETA:   0:05:18"
     ]
    },
    {
     "name": "stdout",
     "output_type": "stream",
     "text": [
      "/home/elhamod/HGNN/data/INHS_cropped/images/INHS_FISH_102537_aug0.jpg saved!\n",
      "/home/elhamod/HGNN/data/INHS_cropped/images/INHS_FISH_102537_aug1.jpg saved!\n",
      "/home/elhamod/HGNN/data/INHS_cropped/images/INHS_FISH_102537_aug2.jpg saved!\n",
      "/home/elhamod/HGNN/data/INHS_cropped/images/INHS_FISH_102537_aug3.jpg saved!\n",
      "/home/elhamod/HGNN/data/INHS_cropped/images/INHS_FISH_102537_aug4.jpg saved!\n",
      "/home/elhamod/HGNN/data/INHS_cropped/images/INHS_FISH_102537_aug5.jpg saved!\n",
      "/home/elhamod/HGNN/data/INHS_cropped/images/INHS_FISH_102537_aug6.jpg saved!\n",
      "/home/elhamod/HGNN/data/INHS_cropped/images/INHS_FISH_102537_aug7.jpg saved!\n",
      "/home/elhamod/HGNN/data/INHS_cropped/images/INHS_FISH_102537_aug8.jpg saved!\n",
      "/home/elhamod/HGNN/data/INHS_cropped/images/INHS_FISH_102537_aug9.jpg saved!\n"
     ]
    },
    {
     "name": "stderr",
     "output_type": "stream",
     "text": [
      "\r",
      " 50% (280 of 550) |###########           | Elapsed Time: 0:05:23 ETA:   0:05:22"
     ]
    },
    {
     "name": "stdout",
     "output_type": "stream",
     "text": [
      "/home/elhamod/HGNN/data/INHS_cropped/images/INHS_FISH_18547_aug0.jpg saved!\n",
      "/home/elhamod/HGNN/data/INHS_cropped/images/INHS_FISH_18547_aug1.jpg saved!\n",
      "/home/elhamod/HGNN/data/INHS_cropped/images/INHS_FISH_18547_aug2.jpg saved!\n",
      "/home/elhamod/HGNN/data/INHS_cropped/images/INHS_FISH_18547_aug3.jpg saved!\n",
      "/home/elhamod/HGNN/data/INHS_cropped/images/INHS_FISH_18547_aug4.jpg saved!\n",
      "/home/elhamod/HGNN/data/INHS_cropped/images/INHS_FISH_18547_aug5.jpg saved!\n",
      "/home/elhamod/HGNN/data/INHS_cropped/images/INHS_FISH_18547_aug6.jpg saved!\n",
      "/home/elhamod/HGNN/data/INHS_cropped/images/INHS_FISH_18547_aug7.jpg saved!\n",
      "/home/elhamod/HGNN/data/INHS_cropped/images/INHS_FISH_18547_aug8.jpg saved!\n",
      "/home/elhamod/HGNN/data/INHS_cropped/images/INHS_FISH_18547_aug9.jpg saved!\n"
     ]
    },
    {
     "name": "stderr",
     "output_type": "stream",
     "text": [
      "\r",
      " 51% (281 of 550) |###########           | Elapsed Time: 0:05:25 ETA:   0:05:14"
     ]
    },
    {
     "name": "stdout",
     "output_type": "stream",
     "text": [
      "/home/elhamod/HGNN/data/INHS_cropped/images/INHS_FISH_4916_aug0.jpg saved!\n",
      "/home/elhamod/HGNN/data/INHS_cropped/images/INHS_FISH_4916_aug1.jpg saved!\n",
      "/home/elhamod/HGNN/data/INHS_cropped/images/INHS_FISH_4916_aug2.jpg saved!\n",
      "/home/elhamod/HGNN/data/INHS_cropped/images/INHS_FISH_4916_aug3.jpg saved!\n",
      "/home/elhamod/HGNN/data/INHS_cropped/images/INHS_FISH_4916_aug4.jpg saved!\n",
      "/home/elhamod/HGNN/data/INHS_cropped/images/INHS_FISH_4916_aug5.jpg saved!\n",
      "/home/elhamod/HGNN/data/INHS_cropped/images/INHS_FISH_4916_aug6.jpg saved!\n",
      "/home/elhamod/HGNN/data/INHS_cropped/images/INHS_FISH_4916_aug7.jpg saved!\n",
      "/home/elhamod/HGNN/data/INHS_cropped/images/INHS_FISH_4916_aug8.jpg saved!\n",
      "/home/elhamod/HGNN/data/INHS_cropped/images/INHS_FISH_4916_aug9.jpg saved!\n"
     ]
    },
    {
     "name": "stderr",
     "output_type": "stream",
     "text": [
      "\r",
      " 51% (282 of 550) |###########           | Elapsed Time: 0:05:26 ETA:   0:05:17"
     ]
    },
    {
     "name": "stdout",
     "output_type": "stream",
     "text": [
      "/home/elhamod/HGNN/data/INHS_cropped/images/INHS_FISH_77457_aug0.jpg saved!\n",
      "/home/elhamod/HGNN/data/INHS_cropped/images/INHS_FISH_77457_aug1.jpg saved!\n",
      "/home/elhamod/HGNN/data/INHS_cropped/images/INHS_FISH_77457_aug2.jpg saved!\n",
      "/home/elhamod/HGNN/data/INHS_cropped/images/INHS_FISH_77457_aug3.jpg saved!\n",
      "/home/elhamod/HGNN/data/INHS_cropped/images/INHS_FISH_77457_aug4.jpg saved!\n",
      "/home/elhamod/HGNN/data/INHS_cropped/images/INHS_FISH_77457_aug5.jpg saved!\n",
      "/home/elhamod/HGNN/data/INHS_cropped/images/INHS_FISH_77457_aug6.jpg saved!\n",
      "/home/elhamod/HGNN/data/INHS_cropped/images/INHS_FISH_77457_aug7.jpg saved!\n",
      "/home/elhamod/HGNN/data/INHS_cropped/images/INHS_FISH_77457_aug8.jpg saved!\n",
      "/home/elhamod/HGNN/data/INHS_cropped/images/INHS_FISH_77457_aug9.jpg saved!\n"
     ]
    },
    {
     "name": "stderr",
     "output_type": "stream",
     "text": [
      "\r",
      " 51% (283 of 550) |###########           | Elapsed Time: 0:05:27 ETA:   0:05:21"
     ]
    },
    {
     "name": "stdout",
     "output_type": "stream",
     "text": [
      "/home/elhamod/HGNN/data/INHS_cropped/images/INHS_FISH_77561_aug0.jpg saved!\n",
      "/home/elhamod/HGNN/data/INHS_cropped/images/INHS_FISH_77561_aug1.jpg saved!\n",
      "/home/elhamod/HGNN/data/INHS_cropped/images/INHS_FISH_77561_aug2.jpg saved!\n",
      "/home/elhamod/HGNN/data/INHS_cropped/images/INHS_FISH_77561_aug3.jpg saved!\n",
      "/home/elhamod/HGNN/data/INHS_cropped/images/INHS_FISH_77561_aug4.jpg saved!\n",
      "/home/elhamod/HGNN/data/INHS_cropped/images/INHS_FISH_77561_aug5.jpg saved!\n",
      "/home/elhamod/HGNN/data/INHS_cropped/images/INHS_FISH_77561_aug6.jpg saved!\n",
      "/home/elhamod/HGNN/data/INHS_cropped/images/INHS_FISH_77561_aug7.jpg saved!\n",
      "/home/elhamod/HGNN/data/INHS_cropped/images/INHS_FISH_77561_aug8.jpg saved!\n",
      "/home/elhamod/HGNN/data/INHS_cropped/images/INHS_FISH_77561_aug9.jpg saved!\n"
     ]
    },
    {
     "name": "stderr",
     "output_type": "stream",
     "text": [
      "\r",
      " 51% (284 of 550) |###########           | Elapsed Time: 0:05:28 ETA:   0:05:11"
     ]
    },
    {
     "name": "stdout",
     "output_type": "stream",
     "text": [
      "/home/elhamod/HGNN/data/INHS_cropped/images/INHS_FISH_917_aug0.jpg saved!\n",
      "/home/elhamod/HGNN/data/INHS_cropped/images/INHS_FISH_917_aug1.jpg saved!\n",
      "/home/elhamod/HGNN/data/INHS_cropped/images/INHS_FISH_917_aug2.jpg saved!\n",
      "/home/elhamod/HGNN/data/INHS_cropped/images/INHS_FISH_917_aug3.jpg saved!\n",
      "/home/elhamod/HGNN/data/INHS_cropped/images/INHS_FISH_917_aug4.jpg saved!\n",
      "/home/elhamod/HGNN/data/INHS_cropped/images/INHS_FISH_917_aug5.jpg saved!\n",
      "/home/elhamod/HGNN/data/INHS_cropped/images/INHS_FISH_917_aug6.jpg saved!\n",
      "/home/elhamod/HGNN/data/INHS_cropped/images/INHS_FISH_917_aug7.jpg saved!\n",
      "/home/elhamod/HGNN/data/INHS_cropped/images/INHS_FISH_917_aug8.jpg saved!\n",
      "/home/elhamod/HGNN/data/INHS_cropped/images/INHS_FISH_917_aug9.jpg saved!\n"
     ]
    },
    {
     "name": "stderr",
     "output_type": "stream",
     "text": [
      "\r",
      " 51% (285 of 550) |###########           | Elapsed Time: 0:05:29 ETA:   0:05:03"
     ]
    },
    {
     "name": "stdout",
     "output_type": "stream",
     "text": [
      "/home/elhamod/HGNN/data/INHS_cropped/images/INHS_FISH_68672_aug0.jpg saved!\n",
      "/home/elhamod/HGNN/data/INHS_cropped/images/INHS_FISH_68672_aug1.jpg saved!\n",
      "/home/elhamod/HGNN/data/INHS_cropped/images/INHS_FISH_68672_aug2.jpg saved!\n",
      "/home/elhamod/HGNN/data/INHS_cropped/images/INHS_FISH_68672_aug3.jpg saved!\n",
      "/home/elhamod/HGNN/data/INHS_cropped/images/INHS_FISH_68672_aug4.jpg saved!\n",
      "/home/elhamod/HGNN/data/INHS_cropped/images/INHS_FISH_68672_aug5.jpg saved!\n",
      "/home/elhamod/HGNN/data/INHS_cropped/images/INHS_FISH_68672_aug6.jpg saved!\n",
      "/home/elhamod/HGNN/data/INHS_cropped/images/INHS_FISH_68672_aug7.jpg saved!\n",
      "/home/elhamod/HGNN/data/INHS_cropped/images/INHS_FISH_68672_aug8.jpg saved!\n",
      "/home/elhamod/HGNN/data/INHS_cropped/images/INHS_FISH_68672_aug9.jpg saved!\n"
     ]
    },
    {
     "name": "stderr",
     "output_type": "stream",
     "text": [
      "\r",
      " 52% (286 of 550) |###########           | Elapsed Time: 0:05:30 ETA:   0:04:58"
     ]
    },
    {
     "name": "stdout",
     "output_type": "stream",
     "text": [
      "/home/elhamod/HGNN/data/INHS_cropped/images/INHS_FISH_74076_aug0.jpg saved!\n",
      "/home/elhamod/HGNN/data/INHS_cropped/images/INHS_FISH_74076_aug1.jpg saved!\n",
      "/home/elhamod/HGNN/data/INHS_cropped/images/INHS_FISH_74076_aug2.jpg saved!\n",
      "/home/elhamod/HGNN/data/INHS_cropped/images/INHS_FISH_74076_aug3.jpg saved!\n",
      "/home/elhamod/HGNN/data/INHS_cropped/images/INHS_FISH_74076_aug4.jpg saved!\n",
      "/home/elhamod/HGNN/data/INHS_cropped/images/INHS_FISH_74076_aug5.jpg saved!\n",
      "/home/elhamod/HGNN/data/INHS_cropped/images/INHS_FISH_74076_aug6.jpg saved!\n",
      "/home/elhamod/HGNN/data/INHS_cropped/images/INHS_FISH_74076_aug7.jpg saved!\n",
      "/home/elhamod/HGNN/data/INHS_cropped/images/INHS_FISH_74076_aug8.jpg saved!\n",
      "/home/elhamod/HGNN/data/INHS_cropped/images/INHS_FISH_74076_aug9.jpg saved!\n"
     ]
    },
    {
     "name": "stderr",
     "output_type": "stream",
     "text": [
      "\r",
      " 52% (287 of 550) |###########           | Elapsed Time: 0:05:31 ETA:   0:04:57"
     ]
    },
    {
     "name": "stdout",
     "output_type": "stream",
     "text": [
      "/home/elhamod/HGNN/data/INHS_cropped/images/INHS_FISH_83472_aug0.jpg saved!\n",
      "/home/elhamod/HGNN/data/INHS_cropped/images/INHS_FISH_83472_aug1.jpg saved!\n",
      "/home/elhamod/HGNN/data/INHS_cropped/images/INHS_FISH_83472_aug2.jpg saved!\n",
      "/home/elhamod/HGNN/data/INHS_cropped/images/INHS_FISH_83472_aug3.jpg saved!\n",
      "/home/elhamod/HGNN/data/INHS_cropped/images/INHS_FISH_83472_aug4.jpg saved!\n",
      "/home/elhamod/HGNN/data/INHS_cropped/images/INHS_FISH_83472_aug5.jpg saved!\n",
      "/home/elhamod/HGNN/data/INHS_cropped/images/INHS_FISH_83472_aug6.jpg saved!\n",
      "/home/elhamod/HGNN/data/INHS_cropped/images/INHS_FISH_83472_aug7.jpg saved!\n",
      "/home/elhamod/HGNN/data/INHS_cropped/images/INHS_FISH_83472_aug8.jpg saved!\n",
      "/home/elhamod/HGNN/data/INHS_cropped/images/INHS_FISH_83472_aug9.jpg saved!\n"
     ]
    },
    {
     "name": "stderr",
     "output_type": "stream",
     "text": [
      "\r",
      " 52% (288 of 550) |###########           | Elapsed Time: 0:05:33 ETA:   0:05:03"
     ]
    },
    {
     "name": "stdout",
     "output_type": "stream",
     "text": [
      "/home/elhamod/HGNN/data/INHS_cropped/images/INHS_FISH_7746_aug0.jpg saved!\n",
      "/home/elhamod/HGNN/data/INHS_cropped/images/INHS_FISH_7746_aug1.jpg saved!\n",
      "/home/elhamod/HGNN/data/INHS_cropped/images/INHS_FISH_7746_aug2.jpg saved!\n",
      "/home/elhamod/HGNN/data/INHS_cropped/images/INHS_FISH_7746_aug3.jpg saved!\n",
      "/home/elhamod/HGNN/data/INHS_cropped/images/INHS_FISH_7746_aug4.jpg saved!\n",
      "/home/elhamod/HGNN/data/INHS_cropped/images/INHS_FISH_7746_aug5.jpg saved!\n",
      "/home/elhamod/HGNN/data/INHS_cropped/images/INHS_FISH_7746_aug6.jpg saved!\n",
      "/home/elhamod/HGNN/data/INHS_cropped/images/INHS_FISH_7746_aug7.jpg saved!\n",
      "/home/elhamod/HGNN/data/INHS_cropped/images/INHS_FISH_7746_aug8.jpg saved!\n",
      "/home/elhamod/HGNN/data/INHS_cropped/images/INHS_FISH_7746_aug9.jpg saved!\n"
     ]
    },
    {
     "name": "stderr",
     "output_type": "stream",
     "text": [
      "\r",
      " 52% (289 of 550) |###########           | Elapsed Time: 0:05:34 ETA:   0:05:01"
     ]
    },
    {
     "name": "stdout",
     "output_type": "stream",
     "text": [
      "/home/elhamod/HGNN/data/INHS_cropped/images/INHS_FISH_16862_aug0.jpg saved!\n",
      "/home/elhamod/HGNN/data/INHS_cropped/images/INHS_FISH_16862_aug1.jpg saved!\n",
      "/home/elhamod/HGNN/data/INHS_cropped/images/INHS_FISH_16862_aug2.jpg saved!\n",
      "/home/elhamod/HGNN/data/INHS_cropped/images/INHS_FISH_16862_aug3.jpg saved!\n",
      "/home/elhamod/HGNN/data/INHS_cropped/images/INHS_FISH_16862_aug4.jpg saved!\n",
      "/home/elhamod/HGNN/data/INHS_cropped/images/INHS_FISH_16862_aug5.jpg saved!\n",
      "/home/elhamod/HGNN/data/INHS_cropped/images/INHS_FISH_16862_aug6.jpg saved!\n",
      "/home/elhamod/HGNN/data/INHS_cropped/images/INHS_FISH_16862_aug7.jpg saved!\n",
      "/home/elhamod/HGNN/data/INHS_cropped/images/INHS_FISH_16862_aug8.jpg saved!\n",
      "/home/elhamod/HGNN/data/INHS_cropped/images/INHS_FISH_16862_aug9.jpg saved!\n"
     ]
    },
    {
     "name": "stderr",
     "output_type": "stream",
     "text": [
      "\r",
      " 52% (290 of 550) |###########           | Elapsed Time: 0:05:35 ETA:   0:04:54"
     ]
    },
    {
     "name": "stdout",
     "output_type": "stream",
     "text": [
      "/home/elhamod/HGNN/data/INHS_cropped/images/INHS_FISH_56337_aug0.jpg saved!\n",
      "/home/elhamod/HGNN/data/INHS_cropped/images/INHS_FISH_56337_aug1.jpg saved!\n",
      "/home/elhamod/HGNN/data/INHS_cropped/images/INHS_FISH_56337_aug2.jpg saved!\n",
      "/home/elhamod/HGNN/data/INHS_cropped/images/INHS_FISH_56337_aug3.jpg saved!\n",
      "/home/elhamod/HGNN/data/INHS_cropped/images/INHS_FISH_56337_aug4.jpg saved!\n",
      "/home/elhamod/HGNN/data/INHS_cropped/images/INHS_FISH_56337_aug5.jpg saved!\n",
      "/home/elhamod/HGNN/data/INHS_cropped/images/INHS_FISH_56337_aug6.jpg saved!\n",
      "/home/elhamod/HGNN/data/INHS_cropped/images/INHS_FISH_56337_aug7.jpg saved!\n",
      "/home/elhamod/HGNN/data/INHS_cropped/images/INHS_FISH_56337_aug8.jpg saved!\n",
      "/home/elhamod/HGNN/data/INHS_cropped/images/INHS_FISH_56337_aug9.jpg saved!\n"
     ]
    },
    {
     "name": "stderr",
     "output_type": "stream",
     "text": [
      "\r",
      " 52% (291 of 550) |###########           | Elapsed Time: 0:05:36 ETA:   0:04:55"
     ]
    },
    {
     "name": "stdout",
     "output_type": "stream",
     "text": [
      "/home/elhamod/HGNN/data/INHS_cropped/images/INHS_FISH_12572_aug0.jpg saved!\n",
      "/home/elhamod/HGNN/data/INHS_cropped/images/INHS_FISH_12572_aug1.jpg saved!\n",
      "/home/elhamod/HGNN/data/INHS_cropped/images/INHS_FISH_12572_aug2.jpg saved!\n",
      "/home/elhamod/HGNN/data/INHS_cropped/images/INHS_FISH_12572_aug3.jpg saved!\n",
      "/home/elhamod/HGNN/data/INHS_cropped/images/INHS_FISH_12572_aug4.jpg saved!\n",
      "/home/elhamod/HGNN/data/INHS_cropped/images/INHS_FISH_12572_aug5.jpg saved!\n",
      "/home/elhamod/HGNN/data/INHS_cropped/images/INHS_FISH_12572_aug6.jpg saved!\n",
      "/home/elhamod/HGNN/data/INHS_cropped/images/INHS_FISH_12572_aug7.jpg saved!\n",
      "/home/elhamod/HGNN/data/INHS_cropped/images/INHS_FISH_12572_aug8.jpg saved!\n",
      "/home/elhamod/HGNN/data/INHS_cropped/images/INHS_FISH_12572_aug9.jpg saved!\n"
     ]
    },
    {
     "name": "stderr",
     "output_type": "stream",
     "text": [
      "\r",
      " 53% (292 of 550) |###########           | Elapsed Time: 0:05:37 ETA:   0:04:57"
     ]
    },
    {
     "name": "stdout",
     "output_type": "stream",
     "text": [
      "/home/elhamod/HGNN/data/INHS_cropped/images/INHS_FISH_32343_aug0.jpg saved!\n",
      "/home/elhamod/HGNN/data/INHS_cropped/images/INHS_FISH_32343_aug1.jpg saved!\n",
      "/home/elhamod/HGNN/data/INHS_cropped/images/INHS_FISH_32343_aug2.jpg saved!\n",
      "/home/elhamod/HGNN/data/INHS_cropped/images/INHS_FISH_32343_aug3.jpg saved!\n",
      "/home/elhamod/HGNN/data/INHS_cropped/images/INHS_FISH_32343_aug4.jpg saved!\n",
      "/home/elhamod/HGNN/data/INHS_cropped/images/INHS_FISH_32343_aug5.jpg saved!\n",
      "/home/elhamod/HGNN/data/INHS_cropped/images/INHS_FISH_32343_aug6.jpg saved!\n",
      "/home/elhamod/HGNN/data/INHS_cropped/images/INHS_FISH_32343_aug7.jpg saved!\n",
      "/home/elhamod/HGNN/data/INHS_cropped/images/INHS_FISH_32343_aug8.jpg saved!\n",
      "/home/elhamod/HGNN/data/INHS_cropped/images/INHS_FISH_32343_aug9.jpg saved!\n"
     ]
    },
    {
     "name": "stderr",
     "output_type": "stream",
     "text": [
      "\r",
      " 53% (293 of 550) |###########           | Elapsed Time: 0:05:38 ETA:   0:04:54"
     ]
    },
    {
     "name": "stdout",
     "output_type": "stream",
     "text": [
      "/home/elhamod/HGNN/data/INHS_cropped/images/INHS_FISH_49935_aug0.jpg saved!\n",
      "/home/elhamod/HGNN/data/INHS_cropped/images/INHS_FISH_49935_aug1.jpg saved!\n",
      "/home/elhamod/HGNN/data/INHS_cropped/images/INHS_FISH_49935_aug2.jpg saved!\n",
      "/home/elhamod/HGNN/data/INHS_cropped/images/INHS_FISH_49935_aug3.jpg saved!\n",
      "/home/elhamod/HGNN/data/INHS_cropped/images/INHS_FISH_49935_aug4.jpg saved!\n",
      "/home/elhamod/HGNN/data/INHS_cropped/images/INHS_FISH_49935_aug5.jpg saved!\n",
      "/home/elhamod/HGNN/data/INHS_cropped/images/INHS_FISH_49935_aug6.jpg saved!\n",
      "/home/elhamod/HGNN/data/INHS_cropped/images/INHS_FISH_49935_aug7.jpg saved!\n",
      "/home/elhamod/HGNN/data/INHS_cropped/images/INHS_FISH_49935_aug8.jpg saved!\n",
      "/home/elhamod/HGNN/data/INHS_cropped/images/INHS_FISH_49935_aug9.jpg saved!\n"
     ]
    },
    {
     "name": "stderr",
     "output_type": "stream",
     "text": [
      "\r",
      " 53% (294 of 550) |###########           | Elapsed Time: 0:05:40 ETA:   0:04:53"
     ]
    },
    {
     "name": "stdout",
     "output_type": "stream",
     "text": [
      "/home/elhamod/HGNN/data/INHS_cropped/images/INHS_FISH_75145_aug0.jpg saved!\n",
      "/home/elhamod/HGNN/data/INHS_cropped/images/INHS_FISH_75145_aug1.jpg saved!\n",
      "/home/elhamod/HGNN/data/INHS_cropped/images/INHS_FISH_75145_aug2.jpg saved!\n",
      "/home/elhamod/HGNN/data/INHS_cropped/images/INHS_FISH_75145_aug3.jpg saved!\n",
      "/home/elhamod/HGNN/data/INHS_cropped/images/INHS_FISH_75145_aug4.jpg saved!\n",
      "/home/elhamod/HGNN/data/INHS_cropped/images/INHS_FISH_75145_aug5.jpg saved!\n",
      "/home/elhamod/HGNN/data/INHS_cropped/images/INHS_FISH_75145_aug6.jpg saved!\n",
      "/home/elhamod/HGNN/data/INHS_cropped/images/INHS_FISH_75145_aug7.jpg saved!\n",
      "/home/elhamod/HGNN/data/INHS_cropped/images/INHS_FISH_75145_aug8.jpg saved!\n",
      "/home/elhamod/HGNN/data/INHS_cropped/images/INHS_FISH_75145_aug9.jpg saved!\n"
     ]
    },
    {
     "name": "stderr",
     "output_type": "stream",
     "text": [
      "\r",
      " 53% (295 of 550) |###########           | Elapsed Time: 0:05:41 ETA:   0:04:53"
     ]
    },
    {
     "name": "stdout",
     "output_type": "stream",
     "text": [
      "/home/elhamod/HGNN/data/INHS_cropped/images/INHS_FISH_61749_aug0.jpg saved!\n",
      "/home/elhamod/HGNN/data/INHS_cropped/images/INHS_FISH_61749_aug1.jpg saved!\n",
      "/home/elhamod/HGNN/data/INHS_cropped/images/INHS_FISH_61749_aug2.jpg saved!\n",
      "/home/elhamod/HGNN/data/INHS_cropped/images/INHS_FISH_61749_aug3.jpg saved!\n",
      "/home/elhamod/HGNN/data/INHS_cropped/images/INHS_FISH_61749_aug4.jpg saved!\n",
      "/home/elhamod/HGNN/data/INHS_cropped/images/INHS_FISH_61749_aug5.jpg saved!\n",
      "/home/elhamod/HGNN/data/INHS_cropped/images/INHS_FISH_61749_aug6.jpg saved!\n",
      "/home/elhamod/HGNN/data/INHS_cropped/images/INHS_FISH_61749_aug7.jpg saved!\n",
      "/home/elhamod/HGNN/data/INHS_cropped/images/INHS_FISH_61749_aug8.jpg saved!\n",
      "/home/elhamod/HGNN/data/INHS_cropped/images/INHS_FISH_61749_aug9.jpg saved!\n"
     ]
    },
    {
     "name": "stderr",
     "output_type": "stream",
     "text": [
      "\r",
      " 53% (296 of 550) |###########           | Elapsed Time: 0:05:42 ETA:   0:04:56"
     ]
    },
    {
     "name": "stdout",
     "output_type": "stream",
     "text": [
      "/home/elhamod/HGNN/data/INHS_cropped/images/INHS_FISH_68715_aug0.jpg saved!\n",
      "/home/elhamod/HGNN/data/INHS_cropped/images/INHS_FISH_68715_aug1.jpg saved!\n",
      "/home/elhamod/HGNN/data/INHS_cropped/images/INHS_FISH_68715_aug2.jpg saved!\n",
      "/home/elhamod/HGNN/data/INHS_cropped/images/INHS_FISH_68715_aug3.jpg saved!\n",
      "/home/elhamod/HGNN/data/INHS_cropped/images/INHS_FISH_68715_aug4.jpg saved!\n",
      "/home/elhamod/HGNN/data/INHS_cropped/images/INHS_FISH_68715_aug5.jpg saved!\n",
      "/home/elhamod/HGNN/data/INHS_cropped/images/INHS_FISH_68715_aug6.jpg saved!\n",
      "/home/elhamod/HGNN/data/INHS_cropped/images/INHS_FISH_68715_aug7.jpg saved!\n",
      "/home/elhamod/HGNN/data/INHS_cropped/images/INHS_FISH_68715_aug8.jpg saved!\n",
      "/home/elhamod/HGNN/data/INHS_cropped/images/INHS_FISH_68715_aug9.jpg saved!\n"
     ]
    },
    {
     "name": "stderr",
     "output_type": "stream",
     "text": [
      "\r",
      " 54% (297 of 550) |###########           | Elapsed Time: 0:05:43 ETA:   0:04:59"
     ]
    },
    {
     "name": "stdout",
     "output_type": "stream",
     "text": [
      "/home/elhamod/HGNN/data/INHS_cropped/images/INHS_FISH_30732_aug0.jpg saved!\n",
      "/home/elhamod/HGNN/data/INHS_cropped/images/INHS_FISH_30732_aug1.jpg saved!\n",
      "/home/elhamod/HGNN/data/INHS_cropped/images/INHS_FISH_30732_aug2.jpg saved!\n",
      "/home/elhamod/HGNN/data/INHS_cropped/images/INHS_FISH_30732_aug3.jpg saved!\n",
      "/home/elhamod/HGNN/data/INHS_cropped/images/INHS_FISH_30732_aug4.jpg saved!\n",
      "/home/elhamod/HGNN/data/INHS_cropped/images/INHS_FISH_30732_aug5.jpg saved!\n",
      "/home/elhamod/HGNN/data/INHS_cropped/images/INHS_FISH_30732_aug6.jpg saved!\n",
      "/home/elhamod/HGNN/data/INHS_cropped/images/INHS_FISH_30732_aug7.jpg saved!\n",
      "/home/elhamod/HGNN/data/INHS_cropped/images/INHS_FISH_30732_aug8.jpg saved!\n",
      "/home/elhamod/HGNN/data/INHS_cropped/images/INHS_FISH_30732_aug9.jpg saved!\n"
     ]
    },
    {
     "name": "stderr",
     "output_type": "stream",
     "text": [
      "\r",
      " 54% (298 of 550) |###########           | Elapsed Time: 0:05:44 ETA:   0:05:00"
     ]
    },
    {
     "name": "stdout",
     "output_type": "stream",
     "text": [
      "/home/elhamod/HGNN/data/INHS_cropped/images/INHS_FISH_29604_aug0.jpg saved!\n",
      "/home/elhamod/HGNN/data/INHS_cropped/images/INHS_FISH_29604_aug1.jpg saved!\n",
      "/home/elhamod/HGNN/data/INHS_cropped/images/INHS_FISH_29604_aug2.jpg saved!\n",
      "/home/elhamod/HGNN/data/INHS_cropped/images/INHS_FISH_29604_aug3.jpg saved!\n",
      "/home/elhamod/HGNN/data/INHS_cropped/images/INHS_FISH_29604_aug4.jpg saved!\n",
      "/home/elhamod/HGNN/data/INHS_cropped/images/INHS_FISH_29604_aug5.jpg saved!\n",
      "/home/elhamod/HGNN/data/INHS_cropped/images/INHS_FISH_29604_aug6.jpg saved!\n",
      "/home/elhamod/HGNN/data/INHS_cropped/images/INHS_FISH_29604_aug7.jpg saved!\n",
      "/home/elhamod/HGNN/data/INHS_cropped/images/INHS_FISH_29604_aug8.jpg saved!\n",
      "/home/elhamod/HGNN/data/INHS_cropped/images/INHS_FISH_29604_aug9.jpg saved!\n"
     ]
    },
    {
     "name": "stderr",
     "output_type": "stream",
     "text": [
      "\r",
      " 54% (299 of 550) |###########           | Elapsed Time: 0:05:45 ETA:   0:05:07"
     ]
    },
    {
     "name": "stdout",
     "output_type": "stream",
     "text": [
      "/home/elhamod/HGNN/data/INHS_cropped/images/INHS_FISH_95180_aug0.jpg saved!\n",
      "/home/elhamod/HGNN/data/INHS_cropped/images/INHS_FISH_95180_aug1.jpg saved!\n",
      "/home/elhamod/HGNN/data/INHS_cropped/images/INHS_FISH_95180_aug2.jpg saved!\n",
      "/home/elhamod/HGNN/data/INHS_cropped/images/INHS_FISH_95180_aug3.jpg saved!\n",
      "/home/elhamod/HGNN/data/INHS_cropped/images/INHS_FISH_95180_aug4.jpg saved!\n",
      "/home/elhamod/HGNN/data/INHS_cropped/images/INHS_FISH_95180_aug5.jpg saved!\n",
      "/home/elhamod/HGNN/data/INHS_cropped/images/INHS_FISH_95180_aug6.jpg saved!\n",
      "/home/elhamod/HGNN/data/INHS_cropped/images/INHS_FISH_95180_aug7.jpg saved!\n",
      "/home/elhamod/HGNN/data/INHS_cropped/images/INHS_FISH_95180_aug8.jpg saved!\n",
      "/home/elhamod/HGNN/data/INHS_cropped/images/INHS_FISH_95180_aug9.jpg saved!\n"
     ]
    },
    {
     "name": "stderr",
     "output_type": "stream",
     "text": [
      "\r",
      " 54% (300 of 550) |############          | Elapsed Time: 0:05:47 ETA:   0:05:10"
     ]
    },
    {
     "name": "stdout",
     "output_type": "stream",
     "text": [
      "/home/elhamod/HGNN/data/INHS_cropped/images/INHS_FISH_17910_aug0.jpg saved!\n",
      "/home/elhamod/HGNN/data/INHS_cropped/images/INHS_FISH_17910_aug1.jpg saved!\n",
      "/home/elhamod/HGNN/data/INHS_cropped/images/INHS_FISH_17910_aug2.jpg saved!\n",
      "/home/elhamod/HGNN/data/INHS_cropped/images/INHS_FISH_17910_aug3.jpg saved!\n",
      "/home/elhamod/HGNN/data/INHS_cropped/images/INHS_FISH_17910_aug4.jpg saved!\n",
      "/home/elhamod/HGNN/data/INHS_cropped/images/INHS_FISH_17910_aug5.jpg saved!\n",
      "/home/elhamod/HGNN/data/INHS_cropped/images/INHS_FISH_17910_aug6.jpg saved!\n",
      "/home/elhamod/HGNN/data/INHS_cropped/images/INHS_FISH_17910_aug7.jpg saved!\n",
      "/home/elhamod/HGNN/data/INHS_cropped/images/INHS_FISH_17910_aug8.jpg saved!\n",
      "/home/elhamod/HGNN/data/INHS_cropped/images/INHS_FISH_17910_aug9.jpg saved!\n"
     ]
    },
    {
     "name": "stderr",
     "output_type": "stream",
     "text": [
      "\r",
      " 54% (301 of 550) |############          | Elapsed Time: 0:05:48 ETA:   0:05:00"
     ]
    },
    {
     "name": "stdout",
     "output_type": "stream",
     "text": [
      "/home/elhamod/HGNN/data/INHS_cropped/images/INHS_FISH_56382_aug0.jpg saved!\n",
      "/home/elhamod/HGNN/data/INHS_cropped/images/INHS_FISH_56382_aug1.jpg saved!\n",
      "/home/elhamod/HGNN/data/INHS_cropped/images/INHS_FISH_56382_aug2.jpg saved!\n",
      "/home/elhamod/HGNN/data/INHS_cropped/images/INHS_FISH_56382_aug3.jpg saved!\n",
      "/home/elhamod/HGNN/data/INHS_cropped/images/INHS_FISH_56382_aug4.jpg saved!\n",
      "/home/elhamod/HGNN/data/INHS_cropped/images/INHS_FISH_56382_aug5.jpg saved!\n",
      "/home/elhamod/HGNN/data/INHS_cropped/images/INHS_FISH_56382_aug6.jpg saved!\n",
      "/home/elhamod/HGNN/data/INHS_cropped/images/INHS_FISH_56382_aug7.jpg saved!\n",
      "/home/elhamod/HGNN/data/INHS_cropped/images/INHS_FISH_56382_aug8.jpg saved!\n",
      "/home/elhamod/HGNN/data/INHS_cropped/images/INHS_FISH_56382_aug9.jpg saved!\n"
     ]
    },
    {
     "name": "stderr",
     "output_type": "stream",
     "text": [
      "\r",
      " 54% (302 of 550) |############          | Elapsed Time: 0:05:49 ETA:   0:04:48"
     ]
    },
    {
     "name": "stdout",
     "output_type": "stream",
     "text": [
      "/home/elhamod/HGNN/data/INHS_cropped/images/INHS_FISH_47791_aug0.jpg saved!\n",
      "/home/elhamod/HGNN/data/INHS_cropped/images/INHS_FISH_47791_aug1.jpg saved!\n",
      "/home/elhamod/HGNN/data/INHS_cropped/images/INHS_FISH_47791_aug2.jpg saved!\n",
      "/home/elhamod/HGNN/data/INHS_cropped/images/INHS_FISH_47791_aug3.jpg saved!\n",
      "/home/elhamod/HGNN/data/INHS_cropped/images/INHS_FISH_47791_aug4.jpg saved!\n",
      "/home/elhamod/HGNN/data/INHS_cropped/images/INHS_FISH_47791_aug5.jpg saved!\n",
      "/home/elhamod/HGNN/data/INHS_cropped/images/INHS_FISH_47791_aug6.jpg saved!\n",
      "/home/elhamod/HGNN/data/INHS_cropped/images/INHS_FISH_47791_aug7.jpg saved!\n",
      "/home/elhamod/HGNN/data/INHS_cropped/images/INHS_FISH_47791_aug8.jpg saved!\n",
      "/home/elhamod/HGNN/data/INHS_cropped/images/INHS_FISH_47791_aug9.jpg saved!\n"
     ]
    },
    {
     "name": "stderr",
     "output_type": "stream",
     "text": [
      "\r",
      " 55% (303 of 550) |############          | Elapsed Time: 0:05:50 ETA:   0:04:42"
     ]
    },
    {
     "name": "stdout",
     "output_type": "stream",
     "text": [
      "/home/elhamod/HGNN/data/INHS_cropped/images/INHS_FISH_105980_aug0.jpg saved!\n",
      "/home/elhamod/HGNN/data/INHS_cropped/images/INHS_FISH_105980_aug1.jpg saved!\n",
      "/home/elhamod/HGNN/data/INHS_cropped/images/INHS_FISH_105980_aug2.jpg saved!\n",
      "/home/elhamod/HGNN/data/INHS_cropped/images/INHS_FISH_105980_aug3.jpg saved!\n",
      "/home/elhamod/HGNN/data/INHS_cropped/images/INHS_FISH_105980_aug4.jpg saved!\n",
      "/home/elhamod/HGNN/data/INHS_cropped/images/INHS_FISH_105980_aug5.jpg saved!\n",
      "/home/elhamod/HGNN/data/INHS_cropped/images/INHS_FISH_105980_aug6.jpg saved!\n",
      "/home/elhamod/HGNN/data/INHS_cropped/images/INHS_FISH_105980_aug7.jpg saved!\n",
      "/home/elhamod/HGNN/data/INHS_cropped/images/INHS_FISH_105980_aug8.jpg saved!\n",
      "/home/elhamod/HGNN/data/INHS_cropped/images/INHS_FISH_105980_aug9.jpg saved!\n"
     ]
    },
    {
     "name": "stderr",
     "output_type": "stream",
     "text": [
      "\r",
      " 55% (304 of 550) |############          | Elapsed Time: 0:05:51 ETA:   0:04:44"
     ]
    },
    {
     "name": "stdout",
     "output_type": "stream",
     "text": [
      "/home/elhamod/HGNN/data/INHS_cropped/images/INHS_FISH_99722_aug0.jpg saved!\n",
      "/home/elhamod/HGNN/data/INHS_cropped/images/INHS_FISH_99722_aug1.jpg saved!\n",
      "/home/elhamod/HGNN/data/INHS_cropped/images/INHS_FISH_99722_aug2.jpg saved!\n",
      "/home/elhamod/HGNN/data/INHS_cropped/images/INHS_FISH_99722_aug3.jpg saved!\n",
      "/home/elhamod/HGNN/data/INHS_cropped/images/INHS_FISH_99722_aug4.jpg saved!\n",
      "/home/elhamod/HGNN/data/INHS_cropped/images/INHS_FISH_99722_aug5.jpg saved!\n",
      "/home/elhamod/HGNN/data/INHS_cropped/images/INHS_FISH_99722_aug6.jpg saved!\n",
      "/home/elhamod/HGNN/data/INHS_cropped/images/INHS_FISH_99722_aug7.jpg saved!\n",
      "/home/elhamod/HGNN/data/INHS_cropped/images/INHS_FISH_99722_aug8.jpg saved!\n",
      "/home/elhamod/HGNN/data/INHS_cropped/images/INHS_FISH_99722_aug9.jpg saved!\n"
     ]
    },
    {
     "name": "stderr",
     "output_type": "stream",
     "text": [
      "\r",
      " 55% (305 of 550) |############          | Elapsed Time: 0:05:52 ETA:   0:04:41"
     ]
    },
    {
     "name": "stdout",
     "output_type": "stream",
     "text": [
      "/home/elhamod/HGNN/data/INHS_cropped/images/INHS_FISH_59647_aug0.jpg saved!\n",
      "/home/elhamod/HGNN/data/INHS_cropped/images/INHS_FISH_59647_aug1.jpg saved!\n",
      "/home/elhamod/HGNN/data/INHS_cropped/images/INHS_FISH_59647_aug2.jpg saved!\n",
      "/home/elhamod/HGNN/data/INHS_cropped/images/INHS_FISH_59647_aug3.jpg saved!\n",
      "/home/elhamod/HGNN/data/INHS_cropped/images/INHS_FISH_59647_aug4.jpg saved!\n",
      "/home/elhamod/HGNN/data/INHS_cropped/images/INHS_FISH_59647_aug5.jpg saved!\n",
      "/home/elhamod/HGNN/data/INHS_cropped/images/INHS_FISH_59647_aug6.jpg saved!\n",
      "/home/elhamod/HGNN/data/INHS_cropped/images/INHS_FISH_59647_aug7.jpg saved!\n",
      "/home/elhamod/HGNN/data/INHS_cropped/images/INHS_FISH_59647_aug8.jpg saved!\n",
      "/home/elhamod/HGNN/data/INHS_cropped/images/INHS_FISH_59647_aug9.jpg saved!\n"
     ]
    },
    {
     "name": "stderr",
     "output_type": "stream",
     "text": [
      "\r",
      " 55% (306 of 550) |############          | Elapsed Time: 0:05:54 ETA:   0:04:34"
     ]
    },
    {
     "name": "stdout",
     "output_type": "stream",
     "text": [
      "/home/elhamod/HGNN/data/INHS_cropped/images/INHS_FISH_025552_aug0.jpg saved!\n",
      "/home/elhamod/HGNN/data/INHS_cropped/images/INHS_FISH_025552_aug1.jpg saved!\n",
      "/home/elhamod/HGNN/data/INHS_cropped/images/INHS_FISH_025552_aug2.jpg saved!\n",
      "/home/elhamod/HGNN/data/INHS_cropped/images/INHS_FISH_025552_aug3.jpg saved!\n",
      "/home/elhamod/HGNN/data/INHS_cropped/images/INHS_FISH_025552_aug4.jpg saved!\n",
      "/home/elhamod/HGNN/data/INHS_cropped/images/INHS_FISH_025552_aug5.jpg saved!\n",
      "/home/elhamod/HGNN/data/INHS_cropped/images/INHS_FISH_025552_aug6.jpg saved!\n",
      "/home/elhamod/HGNN/data/INHS_cropped/images/INHS_FISH_025552_aug7.jpg saved!\n",
      "/home/elhamod/HGNN/data/INHS_cropped/images/INHS_FISH_025552_aug8.jpg saved!\n",
      "/home/elhamod/HGNN/data/INHS_cropped/images/INHS_FISH_025552_aug9.jpg saved!\n"
     ]
    },
    {
     "name": "stderr",
     "output_type": "stream",
     "text": [
      "\r",
      " 55% (307 of 550) |############          | Elapsed Time: 0:05:55 ETA:   0:04:32"
     ]
    },
    {
     "name": "stdout",
     "output_type": "stream",
     "text": [
      "/home/elhamod/HGNN/data/INHS_cropped/images/INHS_FISH_91037_aug0.jpg saved!\n",
      "/home/elhamod/HGNN/data/INHS_cropped/images/INHS_FISH_91037_aug1.jpg saved!\n",
      "/home/elhamod/HGNN/data/INHS_cropped/images/INHS_FISH_91037_aug2.jpg saved!\n",
      "/home/elhamod/HGNN/data/INHS_cropped/images/INHS_FISH_91037_aug3.jpg saved!\n",
      "/home/elhamod/HGNN/data/INHS_cropped/images/INHS_FISH_91037_aug4.jpg saved!\n",
      "/home/elhamod/HGNN/data/INHS_cropped/images/INHS_FISH_91037_aug5.jpg saved!\n",
      "/home/elhamod/HGNN/data/INHS_cropped/images/INHS_FISH_91037_aug6.jpg saved!\n",
      "/home/elhamod/HGNN/data/INHS_cropped/images/INHS_FISH_91037_aug7.jpg saved!\n",
      "/home/elhamod/HGNN/data/INHS_cropped/images/INHS_FISH_91037_aug8.jpg saved!\n",
      "/home/elhamod/HGNN/data/INHS_cropped/images/INHS_FISH_91037_aug9.jpg saved!\n"
     ]
    },
    {
     "name": "stderr",
     "output_type": "stream",
     "text": [
      "\r",
      " 56% (308 of 550) |############          | Elapsed Time: 0:05:56 ETA:   0:04:32"
     ]
    },
    {
     "name": "stdout",
     "output_type": "stream",
     "text": [
      "/home/elhamod/HGNN/data/INHS_cropped/images/INHS_FISH_32332_aug0.jpg saved!\n",
      "/home/elhamod/HGNN/data/INHS_cropped/images/INHS_FISH_32332_aug1.jpg saved!\n",
      "/home/elhamod/HGNN/data/INHS_cropped/images/INHS_FISH_32332_aug2.jpg saved!\n",
      "/home/elhamod/HGNN/data/INHS_cropped/images/INHS_FISH_32332_aug3.jpg saved!\n",
      "/home/elhamod/HGNN/data/INHS_cropped/images/INHS_FISH_32332_aug4.jpg saved!\n",
      "/home/elhamod/HGNN/data/INHS_cropped/images/INHS_FISH_32332_aug5.jpg saved!\n",
      "/home/elhamod/HGNN/data/INHS_cropped/images/INHS_FISH_32332_aug6.jpg saved!\n",
      "/home/elhamod/HGNN/data/INHS_cropped/images/INHS_FISH_32332_aug7.jpg saved!\n",
      "/home/elhamod/HGNN/data/INHS_cropped/images/INHS_FISH_32332_aug8.jpg saved!\n",
      "/home/elhamod/HGNN/data/INHS_cropped/images/INHS_FISH_32332_aug9.jpg saved!\n"
     ]
    },
    {
     "name": "stderr",
     "output_type": "stream",
     "text": [
      "\r",
      " 56% (309 of 550) |############          | Elapsed Time: 0:05:57 ETA:   0:04:31"
     ]
    },
    {
     "name": "stdout",
     "output_type": "stream",
     "text": [
      "/home/elhamod/HGNN/data/INHS_cropped/images/INHS_FISH_51437_aug0.jpg saved!\n",
      "/home/elhamod/HGNN/data/INHS_cropped/images/INHS_FISH_51437_aug1.jpg saved!\n",
      "/home/elhamod/HGNN/data/INHS_cropped/images/INHS_FISH_51437_aug2.jpg saved!\n",
      "/home/elhamod/HGNN/data/INHS_cropped/images/INHS_FISH_51437_aug3.jpg saved!\n",
      "/home/elhamod/HGNN/data/INHS_cropped/images/INHS_FISH_51437_aug4.jpg saved!\n",
      "/home/elhamod/HGNN/data/INHS_cropped/images/INHS_FISH_51437_aug5.jpg saved!\n",
      "/home/elhamod/HGNN/data/INHS_cropped/images/INHS_FISH_51437_aug6.jpg saved!\n",
      "/home/elhamod/HGNN/data/INHS_cropped/images/INHS_FISH_51437_aug7.jpg saved!\n",
      "/home/elhamod/HGNN/data/INHS_cropped/images/INHS_FISH_51437_aug8.jpg saved!\n",
      "/home/elhamod/HGNN/data/INHS_cropped/images/INHS_FISH_51437_aug9.jpg saved!\n"
     ]
    },
    {
     "name": "stderr",
     "output_type": "stream",
     "text": [
      "\r",
      " 56% (310 of 550) |############          | Elapsed Time: 0:05:58 ETA:   0:04:29"
     ]
    },
    {
     "name": "stdout",
     "output_type": "stream",
     "text": [
      "/home/elhamod/HGNN/data/INHS_cropped/images/INHS_FISH_39616_aug0.jpg saved!\n",
      "/home/elhamod/HGNN/data/INHS_cropped/images/INHS_FISH_39616_aug1.jpg saved!\n",
      "/home/elhamod/HGNN/data/INHS_cropped/images/INHS_FISH_39616_aug2.jpg saved!\n",
      "/home/elhamod/HGNN/data/INHS_cropped/images/INHS_FISH_39616_aug3.jpg saved!\n",
      "/home/elhamod/HGNN/data/INHS_cropped/images/INHS_FISH_39616_aug4.jpg saved!\n",
      "/home/elhamod/HGNN/data/INHS_cropped/images/INHS_FISH_39616_aug5.jpg saved!\n",
      "/home/elhamod/HGNN/data/INHS_cropped/images/INHS_FISH_39616_aug6.jpg saved!\n",
      "/home/elhamod/HGNN/data/INHS_cropped/images/INHS_FISH_39616_aug7.jpg saved!\n",
      "/home/elhamod/HGNN/data/INHS_cropped/images/INHS_FISH_39616_aug8.jpg saved!\n",
      "/home/elhamod/HGNN/data/INHS_cropped/images/INHS_FISH_39616_aug9.jpg saved!\n"
     ]
    },
    {
     "name": "stderr",
     "output_type": "stream",
     "text": [
      "\r",
      " 56% (311 of 550) |############          | Elapsed Time: 0:05:59 ETA:   0:04:28"
     ]
    },
    {
     "name": "stdout",
     "output_type": "stream",
     "text": [
      "/home/elhamod/HGNN/data/INHS_cropped/images/INHS_FISH_88262_aug0.jpg saved!\n",
      "/home/elhamod/HGNN/data/INHS_cropped/images/INHS_FISH_88262_aug1.jpg saved!\n",
      "/home/elhamod/HGNN/data/INHS_cropped/images/INHS_FISH_88262_aug2.jpg saved!\n",
      "/home/elhamod/HGNN/data/INHS_cropped/images/INHS_FISH_88262_aug3.jpg saved!\n",
      "/home/elhamod/HGNN/data/INHS_cropped/images/INHS_FISH_88262_aug4.jpg saved!\n",
      "/home/elhamod/HGNN/data/INHS_cropped/images/INHS_FISH_88262_aug5.jpg saved!\n",
      "/home/elhamod/HGNN/data/INHS_cropped/images/INHS_FISH_88262_aug6.jpg saved!\n",
      "/home/elhamod/HGNN/data/INHS_cropped/images/INHS_FISH_88262_aug7.jpg saved!\n",
      "/home/elhamod/HGNN/data/INHS_cropped/images/INHS_FISH_88262_aug8.jpg saved!\n",
      "/home/elhamod/HGNN/data/INHS_cropped/images/INHS_FISH_88262_aug9.jpg saved!\n"
     ]
    },
    {
     "name": "stderr",
     "output_type": "stream",
     "text": [
      "\r",
      " 56% (312 of 550) |############          | Elapsed Time: 0:06:00 ETA:   0:04:28"
     ]
    },
    {
     "name": "stdout",
     "output_type": "stream",
     "text": [
      "/home/elhamod/HGNN/data/INHS_cropped/images/INHS_FISH_64251_aug0.jpg saved!\n",
      "/home/elhamod/HGNN/data/INHS_cropped/images/INHS_FISH_64251_aug1.jpg saved!\n",
      "/home/elhamod/HGNN/data/INHS_cropped/images/INHS_FISH_64251_aug2.jpg saved!\n",
      "/home/elhamod/HGNN/data/INHS_cropped/images/INHS_FISH_64251_aug3.jpg saved!\n",
      "/home/elhamod/HGNN/data/INHS_cropped/images/INHS_FISH_64251_aug4.jpg saved!\n",
      "/home/elhamod/HGNN/data/INHS_cropped/images/INHS_FISH_64251_aug5.jpg saved!\n",
      "/home/elhamod/HGNN/data/INHS_cropped/images/INHS_FISH_64251_aug6.jpg saved!\n",
      "/home/elhamod/HGNN/data/INHS_cropped/images/INHS_FISH_64251_aug7.jpg saved!\n",
      "/home/elhamod/HGNN/data/INHS_cropped/images/INHS_FISH_64251_aug8.jpg saved!\n",
      "/home/elhamod/HGNN/data/INHS_cropped/images/INHS_FISH_64251_aug9.jpg saved!\n"
     ]
    },
    {
     "name": "stderr",
     "output_type": "stream",
     "text": [
      "\r",
      " 56% (313 of 550) |############          | Elapsed Time: 0:06:01 ETA:   0:04:27"
     ]
    },
    {
     "name": "stdout",
     "output_type": "stream",
     "text": [
      "/home/elhamod/HGNN/data/INHS_cropped/images/INHS_FISH_4135_aug0.jpg saved!\n",
      "/home/elhamod/HGNN/data/INHS_cropped/images/INHS_FISH_4135_aug1.jpg saved!\n",
      "/home/elhamod/HGNN/data/INHS_cropped/images/INHS_FISH_4135_aug2.jpg saved!\n",
      "/home/elhamod/HGNN/data/INHS_cropped/images/INHS_FISH_4135_aug3.jpg saved!\n",
      "/home/elhamod/HGNN/data/INHS_cropped/images/INHS_FISH_4135_aug4.jpg saved!\n",
      "/home/elhamod/HGNN/data/INHS_cropped/images/INHS_FISH_4135_aug5.jpg saved!\n",
      "/home/elhamod/HGNN/data/INHS_cropped/images/INHS_FISH_4135_aug6.jpg saved!\n",
      "/home/elhamod/HGNN/data/INHS_cropped/images/INHS_FISH_4135_aug7.jpg saved!\n",
      "/home/elhamod/HGNN/data/INHS_cropped/images/INHS_FISH_4135_aug8.jpg saved!\n",
      "/home/elhamod/HGNN/data/INHS_cropped/images/INHS_FISH_4135_aug9.jpg saved!\n"
     ]
    },
    {
     "name": "stderr",
     "output_type": "stream",
     "text": [
      "\r",
      " 57% (314 of 550) |############          | Elapsed Time: 0:06:03 ETA:   0:04:25"
     ]
    },
    {
     "name": "stdout",
     "output_type": "stream",
     "text": [
      "/home/elhamod/HGNN/data/INHS_cropped/images/INHS_FISH_5607_aug0.jpg saved!\n",
      "/home/elhamod/HGNN/data/INHS_cropped/images/INHS_FISH_5607_aug1.jpg saved!\n",
      "/home/elhamod/HGNN/data/INHS_cropped/images/INHS_FISH_5607_aug2.jpg saved!\n",
      "/home/elhamod/HGNN/data/INHS_cropped/images/INHS_FISH_5607_aug3.jpg saved!\n",
      "/home/elhamod/HGNN/data/INHS_cropped/images/INHS_FISH_5607_aug4.jpg saved!\n",
      "/home/elhamod/HGNN/data/INHS_cropped/images/INHS_FISH_5607_aug5.jpg saved!\n",
      "/home/elhamod/HGNN/data/INHS_cropped/images/INHS_FISH_5607_aug6.jpg saved!\n",
      "/home/elhamod/HGNN/data/INHS_cropped/images/INHS_FISH_5607_aug7.jpg saved!\n",
      "/home/elhamod/HGNN/data/INHS_cropped/images/INHS_FISH_5607_aug8.jpg saved!\n",
      "/home/elhamod/HGNN/data/INHS_cropped/images/INHS_FISH_5607_aug9.jpg saved!\n"
     ]
    },
    {
     "name": "stderr",
     "output_type": "stream",
     "text": [
      "\r",
      " 57% (315 of 550) |############          | Elapsed Time: 0:06:04 ETA:   0:04:24"
     ]
    },
    {
     "name": "stdout",
     "output_type": "stream",
     "text": [
      "/home/elhamod/HGNN/data/INHS_cropped/images/INHS_FISH_55256_aug0.jpg saved!\n",
      "/home/elhamod/HGNN/data/INHS_cropped/images/INHS_FISH_55256_aug1.jpg saved!\n",
      "/home/elhamod/HGNN/data/INHS_cropped/images/INHS_FISH_55256_aug2.jpg saved!\n",
      "/home/elhamod/HGNN/data/INHS_cropped/images/INHS_FISH_55256_aug3.jpg saved!\n",
      "/home/elhamod/HGNN/data/INHS_cropped/images/INHS_FISH_55256_aug4.jpg saved!\n",
      "/home/elhamod/HGNN/data/INHS_cropped/images/INHS_FISH_55256_aug5.jpg saved!\n",
      "/home/elhamod/HGNN/data/INHS_cropped/images/INHS_FISH_55256_aug6.jpg saved!\n",
      "/home/elhamod/HGNN/data/INHS_cropped/images/INHS_FISH_55256_aug7.jpg saved!\n",
      "/home/elhamod/HGNN/data/INHS_cropped/images/INHS_FISH_55256_aug8.jpg saved!\n",
      "/home/elhamod/HGNN/data/INHS_cropped/images/INHS_FISH_55256_aug9.jpg saved!\n"
     ]
    },
    {
     "name": "stderr",
     "output_type": "stream",
     "text": [
      "\r",
      " 57% (316 of 550) |############          | Elapsed Time: 0:06:05 ETA:   0:04:23"
     ]
    },
    {
     "name": "stdout",
     "output_type": "stream",
     "text": [
      "/home/elhamod/HGNN/data/INHS_cropped/images/INHS_FISH_11536_aug0.jpg saved!\n",
      "/home/elhamod/HGNN/data/INHS_cropped/images/INHS_FISH_11536_aug1.jpg saved!\n",
      "/home/elhamod/HGNN/data/INHS_cropped/images/INHS_FISH_11536_aug2.jpg saved!\n",
      "/home/elhamod/HGNN/data/INHS_cropped/images/INHS_FISH_11536_aug3.jpg saved!\n",
      "/home/elhamod/HGNN/data/INHS_cropped/images/INHS_FISH_11536_aug4.jpg saved!\n",
      "/home/elhamod/HGNN/data/INHS_cropped/images/INHS_FISH_11536_aug5.jpg saved!\n",
      "/home/elhamod/HGNN/data/INHS_cropped/images/INHS_FISH_11536_aug6.jpg saved!\n",
      "/home/elhamod/HGNN/data/INHS_cropped/images/INHS_FISH_11536_aug7.jpg saved!\n",
      "/home/elhamod/HGNN/data/INHS_cropped/images/INHS_FISH_11536_aug8.jpg saved!\n",
      "/home/elhamod/HGNN/data/INHS_cropped/images/INHS_FISH_11536_aug9.jpg saved!\n"
     ]
    },
    {
     "name": "stderr",
     "output_type": "stream",
     "text": [
      "\r",
      " 57% (317 of 550) |############          | Elapsed Time: 0:06:06 ETA:   0:04:22"
     ]
    },
    {
     "name": "stdout",
     "output_type": "stream",
     "text": [
      "/home/elhamod/HGNN/data/INHS_cropped/images/INHS_FISH_101493_aug0.jpg saved!\n",
      "/home/elhamod/HGNN/data/INHS_cropped/images/INHS_FISH_101493_aug1.jpg saved!\n",
      "/home/elhamod/HGNN/data/INHS_cropped/images/INHS_FISH_101493_aug2.jpg saved!\n",
      "/home/elhamod/HGNN/data/INHS_cropped/images/INHS_FISH_101493_aug3.jpg saved!\n",
      "/home/elhamod/HGNN/data/INHS_cropped/images/INHS_FISH_101493_aug4.jpg saved!\n",
      "/home/elhamod/HGNN/data/INHS_cropped/images/INHS_FISH_101493_aug5.jpg saved!\n",
      "/home/elhamod/HGNN/data/INHS_cropped/images/INHS_FISH_101493_aug6.jpg saved!\n",
      "/home/elhamod/HGNN/data/INHS_cropped/images/INHS_FISH_101493_aug7.jpg saved!\n",
      "/home/elhamod/HGNN/data/INHS_cropped/images/INHS_FISH_101493_aug8.jpg saved!\n",
      "/home/elhamod/HGNN/data/INHS_cropped/images/INHS_FISH_101493_aug9.jpg saved!\n"
     ]
    },
    {
     "name": "stderr",
     "output_type": "stream",
     "text": [
      "\r",
      " 57% (318 of 550) |############          | Elapsed Time: 0:06:07 ETA:   0:04:20"
     ]
    },
    {
     "name": "stdout",
     "output_type": "stream",
     "text": [
      "/home/elhamod/HGNN/data/INHS_cropped/images/INHS_FISH_51478_aug0.jpg saved!\n",
      "/home/elhamod/HGNN/data/INHS_cropped/images/INHS_FISH_51478_aug1.jpg saved!\n",
      "/home/elhamod/HGNN/data/INHS_cropped/images/INHS_FISH_51478_aug2.jpg saved!\n",
      "/home/elhamod/HGNN/data/INHS_cropped/images/INHS_FISH_51478_aug3.jpg saved!\n",
      "/home/elhamod/HGNN/data/INHS_cropped/images/INHS_FISH_51478_aug4.jpg saved!\n",
      "/home/elhamod/HGNN/data/INHS_cropped/images/INHS_FISH_51478_aug5.jpg saved!\n",
      "/home/elhamod/HGNN/data/INHS_cropped/images/INHS_FISH_51478_aug6.jpg saved!\n",
      "/home/elhamod/HGNN/data/INHS_cropped/images/INHS_FISH_51478_aug7.jpg saved!\n",
      "/home/elhamod/HGNN/data/INHS_cropped/images/INHS_FISH_51478_aug8.jpg saved!\n",
      "/home/elhamod/HGNN/data/INHS_cropped/images/INHS_FISH_51478_aug9.jpg saved!\n"
     ]
    },
    {
     "name": "stderr",
     "output_type": "stream",
     "text": [
      "\r",
      " 57% (319 of 550) |############          | Elapsed Time: 0:06:08 ETA:   0:04:19"
     ]
    },
    {
     "name": "stdout",
     "output_type": "stream",
     "text": [
      "/home/elhamod/HGNN/data/INHS_cropped/images/INHS_FISH_58562_aug0.jpg saved!\n",
      "/home/elhamod/HGNN/data/INHS_cropped/images/INHS_FISH_58562_aug1.jpg saved!\n",
      "/home/elhamod/HGNN/data/INHS_cropped/images/INHS_FISH_58562_aug2.jpg saved!\n",
      "/home/elhamod/HGNN/data/INHS_cropped/images/INHS_FISH_58562_aug3.jpg saved!\n",
      "/home/elhamod/HGNN/data/INHS_cropped/images/INHS_FISH_58562_aug4.jpg saved!\n",
      "/home/elhamod/HGNN/data/INHS_cropped/images/INHS_FISH_58562_aug5.jpg saved!\n",
      "/home/elhamod/HGNN/data/INHS_cropped/images/INHS_FISH_58562_aug6.jpg saved!\n",
      "/home/elhamod/HGNN/data/INHS_cropped/images/INHS_FISH_58562_aug7.jpg saved!\n",
      "/home/elhamod/HGNN/data/INHS_cropped/images/INHS_FISH_58562_aug8.jpg saved!\n",
      "/home/elhamod/HGNN/data/INHS_cropped/images/INHS_FISH_58562_aug9.jpg saved!\n"
     ]
    },
    {
     "name": "stderr",
     "output_type": "stream",
     "text": [
      "\r",
      " 58% (320 of 550) |############          | Elapsed Time: 0:06:09 ETA:   0:04:18"
     ]
    },
    {
     "name": "stdout",
     "output_type": "stream",
     "text": [
      "/home/elhamod/HGNN/data/INHS_cropped/images/INHS_FISH_9117_aug0.jpg saved!\n",
      "/home/elhamod/HGNN/data/INHS_cropped/images/INHS_FISH_9117_aug1.jpg saved!\n",
      "/home/elhamod/HGNN/data/INHS_cropped/images/INHS_FISH_9117_aug2.jpg saved!\n",
      "/home/elhamod/HGNN/data/INHS_cropped/images/INHS_FISH_9117_aug3.jpg saved!\n",
      "/home/elhamod/HGNN/data/INHS_cropped/images/INHS_FISH_9117_aug4.jpg saved!\n",
      "/home/elhamod/HGNN/data/INHS_cropped/images/INHS_FISH_9117_aug5.jpg saved!\n",
      "/home/elhamod/HGNN/data/INHS_cropped/images/INHS_FISH_9117_aug6.jpg saved!\n",
      "/home/elhamod/HGNN/data/INHS_cropped/images/INHS_FISH_9117_aug7.jpg saved!\n",
      "/home/elhamod/HGNN/data/INHS_cropped/images/INHS_FISH_9117_aug8.jpg saved!\n",
      "/home/elhamod/HGNN/data/INHS_cropped/images/INHS_FISH_9117_aug9.jpg saved!\n"
     ]
    },
    {
     "name": "stderr",
     "output_type": "stream",
     "text": [
      "\r",
      " 58% (321 of 550) |############          | Elapsed Time: 0:06:10 ETA:   0:04:16"
     ]
    },
    {
     "name": "stdout",
     "output_type": "stream",
     "text": [
      "/home/elhamod/HGNN/data/INHS_cropped/images/INHS_FISH_6648_aug0.jpg saved!\n",
      "/home/elhamod/HGNN/data/INHS_cropped/images/INHS_FISH_6648_aug1.jpg saved!\n",
      "/home/elhamod/HGNN/data/INHS_cropped/images/INHS_FISH_6648_aug2.jpg saved!\n",
      "/home/elhamod/HGNN/data/INHS_cropped/images/INHS_FISH_6648_aug3.jpg saved!\n",
      "/home/elhamod/HGNN/data/INHS_cropped/images/INHS_FISH_6648_aug4.jpg saved!\n",
      "/home/elhamod/HGNN/data/INHS_cropped/images/INHS_FISH_6648_aug5.jpg saved!\n",
      "/home/elhamod/HGNN/data/INHS_cropped/images/INHS_FISH_6648_aug6.jpg saved!\n",
      "/home/elhamod/HGNN/data/INHS_cropped/images/INHS_FISH_6648_aug7.jpg saved!\n",
      "/home/elhamod/HGNN/data/INHS_cropped/images/INHS_FISH_6648_aug8.jpg saved!\n",
      "/home/elhamod/HGNN/data/INHS_cropped/images/INHS_FISH_6648_aug9.jpg saved!\n"
     ]
    },
    {
     "name": "stderr",
     "output_type": "stream",
     "text": [
      "\r",
      " 58% (322 of 550) |############          | Elapsed Time: 0:06:12 ETA:   0:04:16"
     ]
    },
    {
     "name": "stdout",
     "output_type": "stream",
     "text": [
      "/home/elhamod/HGNN/data/INHS_cropped/images/INHS_FISH_73690_aug0.jpg saved!\n",
      "/home/elhamod/HGNN/data/INHS_cropped/images/INHS_FISH_73690_aug1.jpg saved!\n",
      "/home/elhamod/HGNN/data/INHS_cropped/images/INHS_FISH_73690_aug2.jpg saved!\n",
      "/home/elhamod/HGNN/data/INHS_cropped/images/INHS_FISH_73690_aug3.jpg saved!\n",
      "/home/elhamod/HGNN/data/INHS_cropped/images/INHS_FISH_73690_aug4.jpg saved!\n",
      "/home/elhamod/HGNN/data/INHS_cropped/images/INHS_FISH_73690_aug5.jpg saved!\n",
      "/home/elhamod/HGNN/data/INHS_cropped/images/INHS_FISH_73690_aug6.jpg saved!\n",
      "/home/elhamod/HGNN/data/INHS_cropped/images/INHS_FISH_73690_aug7.jpg saved!\n",
      "/home/elhamod/HGNN/data/INHS_cropped/images/INHS_FISH_73690_aug8.jpg saved!\n",
      "/home/elhamod/HGNN/data/INHS_cropped/images/INHS_FISH_73690_aug9.jpg saved!\n"
     ]
    },
    {
     "name": "stderr",
     "output_type": "stream",
     "text": [
      "\r",
      " 58% (323 of 550) |############          | Elapsed Time: 0:06:13 ETA:   0:04:15"
     ]
    },
    {
     "name": "stdout",
     "output_type": "stream",
     "text": [
      "/home/elhamod/HGNN/data/INHS_cropped/images/INHS_FISH_47774_aug0.jpg saved!\n",
      "/home/elhamod/HGNN/data/INHS_cropped/images/INHS_FISH_47774_aug1.jpg saved!\n",
      "/home/elhamod/HGNN/data/INHS_cropped/images/INHS_FISH_47774_aug2.jpg saved!\n",
      "/home/elhamod/HGNN/data/INHS_cropped/images/INHS_FISH_47774_aug3.jpg saved!\n",
      "/home/elhamod/HGNN/data/INHS_cropped/images/INHS_FISH_47774_aug4.jpg saved!\n",
      "/home/elhamod/HGNN/data/INHS_cropped/images/INHS_FISH_47774_aug5.jpg saved!\n",
      "/home/elhamod/HGNN/data/INHS_cropped/images/INHS_FISH_47774_aug6.jpg saved!\n",
      "/home/elhamod/HGNN/data/INHS_cropped/images/INHS_FISH_47774_aug7.jpg saved!\n",
      "/home/elhamod/HGNN/data/INHS_cropped/images/INHS_FISH_47774_aug8.jpg saved!\n",
      "/home/elhamod/HGNN/data/INHS_cropped/images/INHS_FISH_47774_aug9.jpg saved!\n"
     ]
    },
    {
     "name": "stderr",
     "output_type": "stream",
     "text": [
      "\r",
      " 58% (324 of 550) |############          | Elapsed Time: 0:06:14 ETA:   0:04:13"
     ]
    },
    {
     "name": "stdout",
     "output_type": "stream",
     "text": [
      "/home/elhamod/HGNN/data/INHS_cropped/images/INHS_FISH_83473_aug0.jpg saved!\n",
      "/home/elhamod/HGNN/data/INHS_cropped/images/INHS_FISH_83473_aug1.jpg saved!\n",
      "/home/elhamod/HGNN/data/INHS_cropped/images/INHS_FISH_83473_aug2.jpg saved!\n",
      "/home/elhamod/HGNN/data/INHS_cropped/images/INHS_FISH_83473_aug3.jpg saved!\n",
      "/home/elhamod/HGNN/data/INHS_cropped/images/INHS_FISH_83473_aug4.jpg saved!\n",
      "/home/elhamod/HGNN/data/INHS_cropped/images/INHS_FISH_83473_aug5.jpg saved!\n",
      "/home/elhamod/HGNN/data/INHS_cropped/images/INHS_FISH_83473_aug6.jpg saved!\n",
      "/home/elhamod/HGNN/data/INHS_cropped/images/INHS_FISH_83473_aug7.jpg saved!\n",
      "/home/elhamod/HGNN/data/INHS_cropped/images/INHS_FISH_83473_aug8.jpg saved!\n",
      "/home/elhamod/HGNN/data/INHS_cropped/images/INHS_FISH_83473_aug9.jpg saved!\n"
     ]
    },
    {
     "name": "stderr",
     "output_type": "stream",
     "text": [
      "\r",
      " 59% (325 of 550) |#############         | Elapsed Time: 0:06:15 ETA:   0:04:12"
     ]
    },
    {
     "name": "stdout",
     "output_type": "stream",
     "text": [
      "/home/elhamod/HGNN/data/INHS_cropped/images/INHS_FISH_5668_aug0.jpg saved!\n",
      "/home/elhamod/HGNN/data/INHS_cropped/images/INHS_FISH_5668_aug1.jpg saved!\n",
      "/home/elhamod/HGNN/data/INHS_cropped/images/INHS_FISH_5668_aug2.jpg saved!\n",
      "/home/elhamod/HGNN/data/INHS_cropped/images/INHS_FISH_5668_aug3.jpg saved!\n",
      "/home/elhamod/HGNN/data/INHS_cropped/images/INHS_FISH_5668_aug4.jpg saved!\n",
      "/home/elhamod/HGNN/data/INHS_cropped/images/INHS_FISH_5668_aug5.jpg saved!\n",
      "/home/elhamod/HGNN/data/INHS_cropped/images/INHS_FISH_5668_aug6.jpg saved!\n",
      "/home/elhamod/HGNN/data/INHS_cropped/images/INHS_FISH_5668_aug7.jpg saved!\n",
      "/home/elhamod/HGNN/data/INHS_cropped/images/INHS_FISH_5668_aug8.jpg saved!\n",
      "/home/elhamod/HGNN/data/INHS_cropped/images/INHS_FISH_5668_aug9.jpg saved!\n"
     ]
    },
    {
     "name": "stderr",
     "output_type": "stream",
     "text": [
      "\r",
      " 59% (326 of 550) |#############         | Elapsed Time: 0:06:16 ETA:   0:04:11"
     ]
    },
    {
     "name": "stdout",
     "output_type": "stream",
     "text": [
      "/home/elhamod/HGNN/data/INHS_cropped/images/INHS_FISH_6369_aug0.jpg saved!\n",
      "/home/elhamod/HGNN/data/INHS_cropped/images/INHS_FISH_6369_aug1.jpg saved!\n",
      "/home/elhamod/HGNN/data/INHS_cropped/images/INHS_FISH_6369_aug2.jpg saved!\n",
      "/home/elhamod/HGNN/data/INHS_cropped/images/INHS_FISH_6369_aug3.jpg saved!\n",
      "/home/elhamod/HGNN/data/INHS_cropped/images/INHS_FISH_6369_aug4.jpg saved!\n",
      "/home/elhamod/HGNN/data/INHS_cropped/images/INHS_FISH_6369_aug5.jpg saved!\n",
      "/home/elhamod/HGNN/data/INHS_cropped/images/INHS_FISH_6369_aug6.jpg saved!\n",
      "/home/elhamod/HGNN/data/INHS_cropped/images/INHS_FISH_6369_aug7.jpg saved!\n",
      "/home/elhamod/HGNN/data/INHS_cropped/images/INHS_FISH_6369_aug8.jpg saved!\n",
      "/home/elhamod/HGNN/data/INHS_cropped/images/INHS_FISH_6369_aug9.jpg saved!\n"
     ]
    },
    {
     "name": "stderr",
     "output_type": "stream",
     "text": [
      "\r",
      " 59% (327 of 550) |#############         | Elapsed Time: 0:06:17 ETA:   0:04:10"
     ]
    },
    {
     "name": "stdout",
     "output_type": "stream",
     "text": [
      "/home/elhamod/HGNN/data/INHS_cropped/images/INHS_FISH_53594_aug0.jpg saved!\n",
      "/home/elhamod/HGNN/data/INHS_cropped/images/INHS_FISH_53594_aug1.jpg saved!\n",
      "/home/elhamod/HGNN/data/INHS_cropped/images/INHS_FISH_53594_aug2.jpg saved!\n",
      "/home/elhamod/HGNN/data/INHS_cropped/images/INHS_FISH_53594_aug3.jpg saved!\n",
      "/home/elhamod/HGNN/data/INHS_cropped/images/INHS_FISH_53594_aug4.jpg saved!\n",
      "/home/elhamod/HGNN/data/INHS_cropped/images/INHS_FISH_53594_aug5.jpg saved!\n",
      "/home/elhamod/HGNN/data/INHS_cropped/images/INHS_FISH_53594_aug6.jpg saved!\n",
      "/home/elhamod/HGNN/data/INHS_cropped/images/INHS_FISH_53594_aug7.jpg saved!\n",
      "/home/elhamod/HGNN/data/INHS_cropped/images/INHS_FISH_53594_aug8.jpg saved!\n",
      "/home/elhamod/HGNN/data/INHS_cropped/images/INHS_FISH_53594_aug9.jpg saved!\n"
     ]
    },
    {
     "name": "stderr",
     "output_type": "stream",
     "text": [
      "\r",
      " 59% (328 of 550) |#############         | Elapsed Time: 0:06:18 ETA:   0:04:12"
     ]
    },
    {
     "name": "stdout",
     "output_type": "stream",
     "text": [
      "/home/elhamod/HGNN/data/INHS_cropped/images/INHS_FISH_000757_aug0.jpg saved!\n",
      "/home/elhamod/HGNN/data/INHS_cropped/images/INHS_FISH_000757_aug1.jpg saved!\n",
      "/home/elhamod/HGNN/data/INHS_cropped/images/INHS_FISH_000757_aug2.jpg saved!\n",
      "/home/elhamod/HGNN/data/INHS_cropped/images/INHS_FISH_000757_aug3.jpg saved!\n",
      "/home/elhamod/HGNN/data/INHS_cropped/images/INHS_FISH_000757_aug4.jpg saved!\n",
      "/home/elhamod/HGNN/data/INHS_cropped/images/INHS_FISH_000757_aug5.jpg saved!\n",
      "/home/elhamod/HGNN/data/INHS_cropped/images/INHS_FISH_000757_aug6.jpg saved!\n",
      "/home/elhamod/HGNN/data/INHS_cropped/images/INHS_FISH_000757_aug7.jpg saved!\n",
      "/home/elhamod/HGNN/data/INHS_cropped/images/INHS_FISH_000757_aug8.jpg saved!\n",
      "/home/elhamod/HGNN/data/INHS_cropped/images/INHS_FISH_000757_aug9.jpg saved!\n"
     ]
    },
    {
     "name": "stderr",
     "output_type": "stream",
     "text": [
      "\r",
      " 59% (329 of 550) |#############         | Elapsed Time: 0:06:19 ETA:   0:04:11"
     ]
    },
    {
     "name": "stdout",
     "output_type": "stream",
     "text": [
      "/home/elhamod/HGNN/data/INHS_cropped/images/INHS_FISH_84617_aug0.jpg saved!\n",
      "/home/elhamod/HGNN/data/INHS_cropped/images/INHS_FISH_84617_aug1.jpg saved!\n",
      "/home/elhamod/HGNN/data/INHS_cropped/images/INHS_FISH_84617_aug2.jpg saved!\n",
      "/home/elhamod/HGNN/data/INHS_cropped/images/INHS_FISH_84617_aug3.jpg saved!\n",
      "/home/elhamod/HGNN/data/INHS_cropped/images/INHS_FISH_84617_aug4.jpg saved!\n",
      "/home/elhamod/HGNN/data/INHS_cropped/images/INHS_FISH_84617_aug5.jpg saved!\n",
      "/home/elhamod/HGNN/data/INHS_cropped/images/INHS_FISH_84617_aug6.jpg saved!\n",
      "/home/elhamod/HGNN/data/INHS_cropped/images/INHS_FISH_84617_aug7.jpg saved!\n",
      "/home/elhamod/HGNN/data/INHS_cropped/images/INHS_FISH_84617_aug8.jpg saved!\n",
      "/home/elhamod/HGNN/data/INHS_cropped/images/INHS_FISH_84617_aug9.jpg saved!\n"
     ]
    },
    {
     "name": "stderr",
     "output_type": "stream",
     "text": [
      "\r",
      " 60% (330 of 550) |#############         | Elapsed Time: 0:06:21 ETA:   0:04:07"
     ]
    },
    {
     "name": "stdout",
     "output_type": "stream",
     "text": [
      "/home/elhamod/HGNN/data/INHS_cropped/images/INHS_FISH_38407_aug0.jpg saved!\n",
      "/home/elhamod/HGNN/data/INHS_cropped/images/INHS_FISH_38407_aug1.jpg saved!\n",
      "/home/elhamod/HGNN/data/INHS_cropped/images/INHS_FISH_38407_aug2.jpg saved!\n",
      "/home/elhamod/HGNN/data/INHS_cropped/images/INHS_FISH_38407_aug3.jpg saved!\n",
      "/home/elhamod/HGNN/data/INHS_cropped/images/INHS_FISH_38407_aug4.jpg saved!\n",
      "/home/elhamod/HGNN/data/INHS_cropped/images/INHS_FISH_38407_aug5.jpg saved!\n",
      "/home/elhamod/HGNN/data/INHS_cropped/images/INHS_FISH_38407_aug6.jpg saved!\n",
      "/home/elhamod/HGNN/data/INHS_cropped/images/INHS_FISH_38407_aug7.jpg saved!\n",
      "/home/elhamod/HGNN/data/INHS_cropped/images/INHS_FISH_38407_aug8.jpg saved!\n",
      "/home/elhamod/HGNN/data/INHS_cropped/images/INHS_FISH_38407_aug9.jpg saved!\n"
     ]
    },
    {
     "name": "stderr",
     "output_type": "stream",
     "text": [
      "\r",
      " 60% (331 of 550) |#############         | Elapsed Time: 0:06:22 ETA:   0:04:06"
     ]
    },
    {
     "name": "stdout",
     "output_type": "stream",
     "text": [
      "/home/elhamod/HGNN/data/INHS_cropped/images/INHS_FISH_25217_aug0.jpg saved!\n",
      "/home/elhamod/HGNN/data/INHS_cropped/images/INHS_FISH_25217_aug1.jpg saved!\n",
      "/home/elhamod/HGNN/data/INHS_cropped/images/INHS_FISH_25217_aug2.jpg saved!\n",
      "/home/elhamod/HGNN/data/INHS_cropped/images/INHS_FISH_25217_aug3.jpg saved!\n",
      "/home/elhamod/HGNN/data/INHS_cropped/images/INHS_FISH_25217_aug4.jpg saved!\n",
      "/home/elhamod/HGNN/data/INHS_cropped/images/INHS_FISH_25217_aug5.jpg saved!\n",
      "/home/elhamod/HGNN/data/INHS_cropped/images/INHS_FISH_25217_aug6.jpg saved!\n",
      "/home/elhamod/HGNN/data/INHS_cropped/images/INHS_FISH_25217_aug7.jpg saved!\n",
      "/home/elhamod/HGNN/data/INHS_cropped/images/INHS_FISH_25217_aug8.jpg saved!\n",
      "/home/elhamod/HGNN/data/INHS_cropped/images/INHS_FISH_25217_aug9.jpg saved!\n"
     ]
    },
    {
     "name": "stderr",
     "output_type": "stream",
     "text": [
      "\r",
      " 60% (332 of 550) |#############         | Elapsed Time: 0:06:23 ETA:   0:04:05"
     ]
    },
    {
     "name": "stdout",
     "output_type": "stream",
     "text": [
      "/home/elhamod/HGNN/data/INHS_cropped/images/INHS_FISH_74241_aug0.jpg saved!\n",
      "/home/elhamod/HGNN/data/INHS_cropped/images/INHS_FISH_74241_aug1.jpg saved!\n",
      "/home/elhamod/HGNN/data/INHS_cropped/images/INHS_FISH_74241_aug2.jpg saved!\n",
      "/home/elhamod/HGNN/data/INHS_cropped/images/INHS_FISH_74241_aug3.jpg saved!\n",
      "/home/elhamod/HGNN/data/INHS_cropped/images/INHS_FISH_74241_aug4.jpg saved!\n",
      "/home/elhamod/HGNN/data/INHS_cropped/images/INHS_FISH_74241_aug5.jpg saved!\n",
      "/home/elhamod/HGNN/data/INHS_cropped/images/INHS_FISH_74241_aug6.jpg saved!\n",
      "/home/elhamod/HGNN/data/INHS_cropped/images/INHS_FISH_74241_aug7.jpg saved!\n",
      "/home/elhamod/HGNN/data/INHS_cropped/images/INHS_FISH_74241_aug8.jpg saved!\n",
      "/home/elhamod/HGNN/data/INHS_cropped/images/INHS_FISH_74241_aug9.jpg saved!\n"
     ]
    },
    {
     "name": "stderr",
     "output_type": "stream",
     "text": [
      "\r",
      " 60% (333 of 550) |#############         | Elapsed Time: 0:06:24 ETA:   0:04:03"
     ]
    },
    {
     "name": "stdout",
     "output_type": "stream",
     "text": [
      "/home/elhamod/HGNN/data/INHS_cropped/images/INHS_FISH_24258_aug0.jpg saved!\n",
      "/home/elhamod/HGNN/data/INHS_cropped/images/INHS_FISH_24258_aug1.jpg saved!\n",
      "/home/elhamod/HGNN/data/INHS_cropped/images/INHS_FISH_24258_aug2.jpg saved!\n",
      "/home/elhamod/HGNN/data/INHS_cropped/images/INHS_FISH_24258_aug3.jpg saved!\n",
      "/home/elhamod/HGNN/data/INHS_cropped/images/INHS_FISH_24258_aug4.jpg saved!\n",
      "/home/elhamod/HGNN/data/INHS_cropped/images/INHS_FISH_24258_aug5.jpg saved!\n",
      "/home/elhamod/HGNN/data/INHS_cropped/images/INHS_FISH_24258_aug6.jpg saved!\n",
      "/home/elhamod/HGNN/data/INHS_cropped/images/INHS_FISH_24258_aug7.jpg saved!\n",
      "/home/elhamod/HGNN/data/INHS_cropped/images/INHS_FISH_24258_aug8.jpg saved!\n",
      "/home/elhamod/HGNN/data/INHS_cropped/images/INHS_FISH_24258_aug9.jpg saved!\n"
     ]
    },
    {
     "name": "stderr",
     "output_type": "stream",
     "text": [
      "\r",
      " 60% (334 of 550) |#############         | Elapsed Time: 0:06:25 ETA:   0:04:02"
     ]
    },
    {
     "name": "stdout",
     "output_type": "stream",
     "text": [
      "/home/elhamod/HGNN/data/INHS_cropped/images/INHS_FISH_28597_aug0.jpg saved!\n",
      "/home/elhamod/HGNN/data/INHS_cropped/images/INHS_FISH_28597_aug1.jpg saved!\n",
      "/home/elhamod/HGNN/data/INHS_cropped/images/INHS_FISH_28597_aug2.jpg saved!\n",
      "/home/elhamod/HGNN/data/INHS_cropped/images/INHS_FISH_28597_aug3.jpg saved!\n",
      "/home/elhamod/HGNN/data/INHS_cropped/images/INHS_FISH_28597_aug4.jpg saved!\n",
      "/home/elhamod/HGNN/data/INHS_cropped/images/INHS_FISH_28597_aug5.jpg saved!\n",
      "/home/elhamod/HGNN/data/INHS_cropped/images/INHS_FISH_28597_aug6.jpg saved!\n",
      "/home/elhamod/HGNN/data/INHS_cropped/images/INHS_FISH_28597_aug7.jpg saved!\n",
      "/home/elhamod/HGNN/data/INHS_cropped/images/INHS_FISH_28597_aug8.jpg saved!\n",
      "/home/elhamod/HGNN/data/INHS_cropped/images/INHS_FISH_28597_aug9.jpg saved!\n"
     ]
    },
    {
     "name": "stderr",
     "output_type": "stream",
     "text": [
      "\r",
      " 60% (335 of 550) |#############         | Elapsed Time: 0:06:26 ETA:   0:04:01"
     ]
    },
    {
     "name": "stdout",
     "output_type": "stream",
     "text": [
      "/home/elhamod/HGNN/data/INHS_cropped/images/INHS_FISH_49738_aug0.jpg saved!\n",
      "/home/elhamod/HGNN/data/INHS_cropped/images/INHS_FISH_49738_aug1.jpg saved!\n",
      "/home/elhamod/HGNN/data/INHS_cropped/images/INHS_FISH_49738_aug2.jpg saved!\n",
      "/home/elhamod/HGNN/data/INHS_cropped/images/INHS_FISH_49738_aug3.jpg saved!\n",
      "/home/elhamod/HGNN/data/INHS_cropped/images/INHS_FISH_49738_aug4.jpg saved!\n",
      "/home/elhamod/HGNN/data/INHS_cropped/images/INHS_FISH_49738_aug5.jpg saved!\n",
      "/home/elhamod/HGNN/data/INHS_cropped/images/INHS_FISH_49738_aug6.jpg saved!\n",
      "/home/elhamod/HGNN/data/INHS_cropped/images/INHS_FISH_49738_aug7.jpg saved!\n",
      "/home/elhamod/HGNN/data/INHS_cropped/images/INHS_FISH_49738_aug8.jpg saved!\n",
      "/home/elhamod/HGNN/data/INHS_cropped/images/INHS_FISH_49738_aug9.jpg saved!\n"
     ]
    },
    {
     "name": "stderr",
     "output_type": "stream",
     "text": [
      "\r",
      " 61% (336 of 550) |#############         | Elapsed Time: 0:06:27 ETA:   0:04:00"
     ]
    },
    {
     "name": "stdout",
     "output_type": "stream",
     "text": [
      "/home/elhamod/HGNN/data/INHS_cropped/images/INHS_FISH_82104_aug0.jpg saved!\n",
      "/home/elhamod/HGNN/data/INHS_cropped/images/INHS_FISH_82104_aug1.jpg saved!\n",
      "/home/elhamod/HGNN/data/INHS_cropped/images/INHS_FISH_82104_aug2.jpg saved!\n",
      "/home/elhamod/HGNN/data/INHS_cropped/images/INHS_FISH_82104_aug3.jpg saved!\n",
      "/home/elhamod/HGNN/data/INHS_cropped/images/INHS_FISH_82104_aug4.jpg saved!\n",
      "/home/elhamod/HGNN/data/INHS_cropped/images/INHS_FISH_82104_aug5.jpg saved!\n",
      "/home/elhamod/HGNN/data/INHS_cropped/images/INHS_FISH_82104_aug6.jpg saved!\n",
      "/home/elhamod/HGNN/data/INHS_cropped/images/INHS_FISH_82104_aug7.jpg saved!\n",
      "/home/elhamod/HGNN/data/INHS_cropped/images/INHS_FISH_82104_aug8.jpg saved!\n",
      "/home/elhamod/HGNN/data/INHS_cropped/images/INHS_FISH_82104_aug9.jpg saved!\n"
     ]
    },
    {
     "name": "stderr",
     "output_type": "stream",
     "text": [
      "\r",
      " 61% (337 of 550) |#############         | Elapsed Time: 0:06:28 ETA:   0:03:59"
     ]
    },
    {
     "name": "stdout",
     "output_type": "stream",
     "text": [
      "/home/elhamod/HGNN/data/INHS_cropped/images/INHS_FISH_47115_aug0.jpg saved!\n",
      "/home/elhamod/HGNN/data/INHS_cropped/images/INHS_FISH_47115_aug1.jpg saved!\n",
      "/home/elhamod/HGNN/data/INHS_cropped/images/INHS_FISH_47115_aug2.jpg saved!\n",
      "/home/elhamod/HGNN/data/INHS_cropped/images/INHS_FISH_47115_aug3.jpg saved!\n",
      "/home/elhamod/HGNN/data/INHS_cropped/images/INHS_FISH_47115_aug4.jpg saved!\n",
      "/home/elhamod/HGNN/data/INHS_cropped/images/INHS_FISH_47115_aug5.jpg saved!\n",
      "/home/elhamod/HGNN/data/INHS_cropped/images/INHS_FISH_47115_aug6.jpg saved!\n",
      "/home/elhamod/HGNN/data/INHS_cropped/images/INHS_FISH_47115_aug7.jpg saved!\n",
      "/home/elhamod/HGNN/data/INHS_cropped/images/INHS_FISH_47115_aug8.jpg saved!\n",
      "/home/elhamod/HGNN/data/INHS_cropped/images/INHS_FISH_47115_aug9.jpg saved!\n"
     ]
    },
    {
     "name": "stderr",
     "output_type": "stream",
     "text": [
      "\r",
      " 61% (338 of 550) |#############         | Elapsed Time: 0:06:30 ETA:   0:03:57"
     ]
    },
    {
     "name": "stdout",
     "output_type": "stream",
     "text": [
      "/home/elhamod/HGNN/data/INHS_cropped/images/INHS_FISH_13110_aug0.jpg saved!\n",
      "/home/elhamod/HGNN/data/INHS_cropped/images/INHS_FISH_13110_aug1.jpg saved!\n",
      "/home/elhamod/HGNN/data/INHS_cropped/images/INHS_FISH_13110_aug2.jpg saved!\n",
      "/home/elhamod/HGNN/data/INHS_cropped/images/INHS_FISH_13110_aug3.jpg saved!\n",
      "/home/elhamod/HGNN/data/INHS_cropped/images/INHS_FISH_13110_aug4.jpg saved!\n",
      "/home/elhamod/HGNN/data/INHS_cropped/images/INHS_FISH_13110_aug5.jpg saved!\n",
      "/home/elhamod/HGNN/data/INHS_cropped/images/INHS_FISH_13110_aug6.jpg saved!\n",
      "/home/elhamod/HGNN/data/INHS_cropped/images/INHS_FISH_13110_aug7.jpg saved!\n",
      "/home/elhamod/HGNN/data/INHS_cropped/images/INHS_FISH_13110_aug8.jpg saved!\n",
      "/home/elhamod/HGNN/data/INHS_cropped/images/INHS_FISH_13110_aug9.jpg saved!\n"
     ]
    },
    {
     "name": "stderr",
     "output_type": "stream",
     "text": [
      "\r",
      " 61% (339 of 550) |#############         | Elapsed Time: 0:06:31 ETA:   0:03:56"
     ]
    },
    {
     "name": "stdout",
     "output_type": "stream",
     "text": [
      "/home/elhamod/HGNN/data/INHS_cropped/images/INHS_FISH_46206_aug0.jpg saved!\n",
      "/home/elhamod/HGNN/data/INHS_cropped/images/INHS_FISH_46206_aug1.jpg saved!\n",
      "/home/elhamod/HGNN/data/INHS_cropped/images/INHS_FISH_46206_aug2.jpg saved!\n",
      "/home/elhamod/HGNN/data/INHS_cropped/images/INHS_FISH_46206_aug3.jpg saved!\n",
      "/home/elhamod/HGNN/data/INHS_cropped/images/INHS_FISH_46206_aug4.jpg saved!\n",
      "/home/elhamod/HGNN/data/INHS_cropped/images/INHS_FISH_46206_aug5.jpg saved!\n",
      "/home/elhamod/HGNN/data/INHS_cropped/images/INHS_FISH_46206_aug6.jpg saved!\n",
      "/home/elhamod/HGNN/data/INHS_cropped/images/INHS_FISH_46206_aug7.jpg saved!\n",
      "/home/elhamod/HGNN/data/INHS_cropped/images/INHS_FISH_46206_aug8.jpg saved!\n",
      "/home/elhamod/HGNN/data/INHS_cropped/images/INHS_FISH_46206_aug9.jpg saved!\n"
     ]
    },
    {
     "name": "stderr",
     "output_type": "stream",
     "text": [
      "\r",
      " 61% (340 of 550) |#############         | Elapsed Time: 0:06:32 ETA:   0:03:55"
     ]
    },
    {
     "name": "stdout",
     "output_type": "stream",
     "text": [
      "/home/elhamod/HGNN/data/INHS_cropped/images/INHS_FISH_32325_aug0.jpg saved!\n",
      "/home/elhamod/HGNN/data/INHS_cropped/images/INHS_FISH_32325_aug1.jpg saved!\n",
      "/home/elhamod/HGNN/data/INHS_cropped/images/INHS_FISH_32325_aug2.jpg saved!\n",
      "/home/elhamod/HGNN/data/INHS_cropped/images/INHS_FISH_32325_aug3.jpg saved!\n",
      "/home/elhamod/HGNN/data/INHS_cropped/images/INHS_FISH_32325_aug4.jpg saved!\n",
      "/home/elhamod/HGNN/data/INHS_cropped/images/INHS_FISH_32325_aug5.jpg saved!\n",
      "/home/elhamod/HGNN/data/INHS_cropped/images/INHS_FISH_32325_aug6.jpg saved!\n",
      "/home/elhamod/HGNN/data/INHS_cropped/images/INHS_FISH_32325_aug7.jpg saved!\n",
      "/home/elhamod/HGNN/data/INHS_cropped/images/INHS_FISH_32325_aug8.jpg saved!\n",
      "/home/elhamod/HGNN/data/INHS_cropped/images/INHS_FISH_32325_aug9.jpg saved!\n"
     ]
    },
    {
     "name": "stderr",
     "output_type": "stream",
     "text": [
      "\r",
      " 62% (341 of 550) |#############         | Elapsed Time: 0:06:33 ETA:   0:03:54"
     ]
    },
    {
     "name": "stdout",
     "output_type": "stream",
     "text": [
      "/home/elhamod/HGNN/data/INHS_cropped/images/INHS_FISH_3026_aug0.jpg saved!\n",
      "/home/elhamod/HGNN/data/INHS_cropped/images/INHS_FISH_3026_aug1.jpg saved!\n",
      "/home/elhamod/HGNN/data/INHS_cropped/images/INHS_FISH_3026_aug2.jpg saved!\n",
      "/home/elhamod/HGNN/data/INHS_cropped/images/INHS_FISH_3026_aug3.jpg saved!\n",
      "/home/elhamod/HGNN/data/INHS_cropped/images/INHS_FISH_3026_aug4.jpg saved!\n",
      "/home/elhamod/HGNN/data/INHS_cropped/images/INHS_FISH_3026_aug5.jpg saved!\n",
      "/home/elhamod/HGNN/data/INHS_cropped/images/INHS_FISH_3026_aug6.jpg saved!\n",
      "/home/elhamod/HGNN/data/INHS_cropped/images/INHS_FISH_3026_aug7.jpg saved!\n",
      "/home/elhamod/HGNN/data/INHS_cropped/images/INHS_FISH_3026_aug8.jpg saved!\n",
      "/home/elhamod/HGNN/data/INHS_cropped/images/INHS_FISH_3026_aug9.jpg saved!\n"
     ]
    },
    {
     "name": "stderr",
     "output_type": "stream",
     "text": [
      "\r",
      " 62% (342 of 550) |#############         | Elapsed Time: 0:06:34 ETA:   0:03:53"
     ]
    },
    {
     "name": "stdout",
     "output_type": "stream",
     "text": [
      "/home/elhamod/HGNN/data/INHS_cropped/images/INHS_FISH_88453_aug0.jpg saved!\n",
      "/home/elhamod/HGNN/data/INHS_cropped/images/INHS_FISH_88453_aug1.jpg saved!\n",
      "/home/elhamod/HGNN/data/INHS_cropped/images/INHS_FISH_88453_aug2.jpg saved!\n",
      "/home/elhamod/HGNN/data/INHS_cropped/images/INHS_FISH_88453_aug3.jpg saved!\n",
      "/home/elhamod/HGNN/data/INHS_cropped/images/INHS_FISH_88453_aug4.jpg saved!\n",
      "/home/elhamod/HGNN/data/INHS_cropped/images/INHS_FISH_88453_aug5.jpg saved!\n",
      "/home/elhamod/HGNN/data/INHS_cropped/images/INHS_FISH_88453_aug6.jpg saved!\n",
      "/home/elhamod/HGNN/data/INHS_cropped/images/INHS_FISH_88453_aug7.jpg saved!\n",
      "/home/elhamod/HGNN/data/INHS_cropped/images/INHS_FISH_88453_aug8.jpg saved!\n",
      "/home/elhamod/HGNN/data/INHS_cropped/images/INHS_FISH_88453_aug9.jpg saved!\n"
     ]
    },
    {
     "name": "stderr",
     "output_type": "stream",
     "text": [
      "\r",
      " 62% (343 of 550) |#############         | Elapsed Time: 0:06:35 ETA:   0:03:52"
     ]
    },
    {
     "name": "stdout",
     "output_type": "stream",
     "text": [
      "/home/elhamod/HGNN/data/INHS_cropped/images/INHS_FISH_84222_aug0.jpg saved!\n",
      "/home/elhamod/HGNN/data/INHS_cropped/images/INHS_FISH_84222_aug1.jpg saved!\n",
      "/home/elhamod/HGNN/data/INHS_cropped/images/INHS_FISH_84222_aug2.jpg saved!\n",
      "/home/elhamod/HGNN/data/INHS_cropped/images/INHS_FISH_84222_aug3.jpg saved!\n",
      "/home/elhamod/HGNN/data/INHS_cropped/images/INHS_FISH_84222_aug4.jpg saved!\n",
      "/home/elhamod/HGNN/data/INHS_cropped/images/INHS_FISH_84222_aug5.jpg saved!\n",
      "/home/elhamod/HGNN/data/INHS_cropped/images/INHS_FISH_84222_aug6.jpg saved!\n",
      "/home/elhamod/HGNN/data/INHS_cropped/images/INHS_FISH_84222_aug7.jpg saved!\n",
      "/home/elhamod/HGNN/data/INHS_cropped/images/INHS_FISH_84222_aug8.jpg saved!\n",
      "/home/elhamod/HGNN/data/INHS_cropped/images/INHS_FISH_84222_aug9.jpg saved!\n"
     ]
    },
    {
     "name": "stderr",
     "output_type": "stream",
     "text": [
      "\r",
      " 62% (344 of 550) |#############         | Elapsed Time: 0:06:36 ETA:   0:03:51"
     ]
    },
    {
     "name": "stdout",
     "output_type": "stream",
     "text": [
      "/home/elhamod/HGNN/data/INHS_cropped/images/INHS_FISH_29712_aug0.jpg saved!\n",
      "/home/elhamod/HGNN/data/INHS_cropped/images/INHS_FISH_29712_aug1.jpg saved!\n",
      "/home/elhamod/HGNN/data/INHS_cropped/images/INHS_FISH_29712_aug2.jpg saved!\n",
      "/home/elhamod/HGNN/data/INHS_cropped/images/INHS_FISH_29712_aug3.jpg saved!\n",
      "/home/elhamod/HGNN/data/INHS_cropped/images/INHS_FISH_29712_aug4.jpg saved!\n",
      "/home/elhamod/HGNN/data/INHS_cropped/images/INHS_FISH_29712_aug5.jpg saved!\n",
      "/home/elhamod/HGNN/data/INHS_cropped/images/INHS_FISH_29712_aug6.jpg saved!\n",
      "/home/elhamod/HGNN/data/INHS_cropped/images/INHS_FISH_29712_aug7.jpg saved!\n",
      "/home/elhamod/HGNN/data/INHS_cropped/images/INHS_FISH_29712_aug8.jpg saved!\n",
      "/home/elhamod/HGNN/data/INHS_cropped/images/INHS_FISH_29712_aug9.jpg saved!\n"
     ]
    },
    {
     "name": "stderr",
     "output_type": "stream",
     "text": [
      "\r",
      " 62% (345 of 550) |#############         | Elapsed Time: 0:06:37 ETA:   0:03:50"
     ]
    },
    {
     "name": "stdout",
     "output_type": "stream",
     "text": [
      "/home/elhamod/HGNN/data/INHS_cropped/images/INHS_FISH_3572_aug0.jpg saved!\n",
      "/home/elhamod/HGNN/data/INHS_cropped/images/INHS_FISH_3572_aug1.jpg saved!\n",
      "/home/elhamod/HGNN/data/INHS_cropped/images/INHS_FISH_3572_aug2.jpg saved!\n",
      "/home/elhamod/HGNN/data/INHS_cropped/images/INHS_FISH_3572_aug3.jpg saved!\n",
      "/home/elhamod/HGNN/data/INHS_cropped/images/INHS_FISH_3572_aug4.jpg saved!\n",
      "/home/elhamod/HGNN/data/INHS_cropped/images/INHS_FISH_3572_aug5.jpg saved!\n",
      "/home/elhamod/HGNN/data/INHS_cropped/images/INHS_FISH_3572_aug6.jpg saved!\n",
      "/home/elhamod/HGNN/data/INHS_cropped/images/INHS_FISH_3572_aug7.jpg saved!\n",
      "/home/elhamod/HGNN/data/INHS_cropped/images/INHS_FISH_3572_aug8.jpg saved!\n",
      "/home/elhamod/HGNN/data/INHS_cropped/images/INHS_FISH_3572_aug9.jpg saved!\n"
     ]
    },
    {
     "name": "stderr",
     "output_type": "stream",
     "text": [
      "\r",
      " 62% (346 of 550) |#############         | Elapsed Time: 0:06:39 ETA:   0:03:49"
     ]
    },
    {
     "name": "stdout",
     "output_type": "stream",
     "text": [
      "/home/elhamod/HGNN/data/INHS_cropped/images/INHS_FISH_59146_aug0.jpg saved!\n",
      "/home/elhamod/HGNN/data/INHS_cropped/images/INHS_FISH_59146_aug1.jpg saved!\n",
      "/home/elhamod/HGNN/data/INHS_cropped/images/INHS_FISH_59146_aug2.jpg saved!\n",
      "/home/elhamod/HGNN/data/INHS_cropped/images/INHS_FISH_59146_aug3.jpg saved!\n",
      "/home/elhamod/HGNN/data/INHS_cropped/images/INHS_FISH_59146_aug4.jpg saved!\n",
      "/home/elhamod/HGNN/data/INHS_cropped/images/INHS_FISH_59146_aug5.jpg saved!\n",
      "/home/elhamod/HGNN/data/INHS_cropped/images/INHS_FISH_59146_aug6.jpg saved!\n",
      "/home/elhamod/HGNN/data/INHS_cropped/images/INHS_FISH_59146_aug7.jpg saved!\n",
      "/home/elhamod/HGNN/data/INHS_cropped/images/INHS_FISH_59146_aug8.jpg saved!\n",
      "/home/elhamod/HGNN/data/INHS_cropped/images/INHS_FISH_59146_aug9.jpg saved!\n"
     ]
    },
    {
     "name": "stderr",
     "output_type": "stream",
     "text": [
      "\r",
      " 63% (347 of 550) |#############         | Elapsed Time: 0:06:40 ETA:   0:03:49"
     ]
    },
    {
     "name": "stdout",
     "output_type": "stream",
     "text": [
      "/home/elhamod/HGNN/data/INHS_cropped/images/INHS_FISH_63738_aug0.jpg saved!\n",
      "/home/elhamod/HGNN/data/INHS_cropped/images/INHS_FISH_63738_aug1.jpg saved!\n",
      "/home/elhamod/HGNN/data/INHS_cropped/images/INHS_FISH_63738_aug2.jpg saved!\n",
      "/home/elhamod/HGNN/data/INHS_cropped/images/INHS_FISH_63738_aug3.jpg saved!\n",
      "/home/elhamod/HGNN/data/INHS_cropped/images/INHS_FISH_63738_aug4.jpg saved!\n",
      "/home/elhamod/HGNN/data/INHS_cropped/images/INHS_FISH_63738_aug5.jpg saved!\n",
      "/home/elhamod/HGNN/data/INHS_cropped/images/INHS_FISH_63738_aug6.jpg saved!\n",
      "/home/elhamod/HGNN/data/INHS_cropped/images/INHS_FISH_63738_aug7.jpg saved!\n",
      "/home/elhamod/HGNN/data/INHS_cropped/images/INHS_FISH_63738_aug8.jpg saved!\n",
      "/home/elhamod/HGNN/data/INHS_cropped/images/INHS_FISH_63738_aug9.jpg saved!\n"
     ]
    },
    {
     "name": "stderr",
     "output_type": "stream",
     "text": [
      "\r",
      " 63% (348 of 550) |#############         | Elapsed Time: 0:06:41 ETA:   0:03:51"
     ]
    },
    {
     "name": "stdout",
     "output_type": "stream",
     "text": [
      "/home/elhamod/HGNN/data/INHS_cropped/images/INHS_FISH_95916_aug0.jpg saved!\n",
      "/home/elhamod/HGNN/data/INHS_cropped/images/INHS_FISH_95916_aug1.jpg saved!\n",
      "/home/elhamod/HGNN/data/INHS_cropped/images/INHS_FISH_95916_aug2.jpg saved!\n",
      "/home/elhamod/HGNN/data/INHS_cropped/images/INHS_FISH_95916_aug3.jpg saved!\n",
      "/home/elhamod/HGNN/data/INHS_cropped/images/INHS_FISH_95916_aug4.jpg saved!\n",
      "/home/elhamod/HGNN/data/INHS_cropped/images/INHS_FISH_95916_aug5.jpg saved!\n",
      "/home/elhamod/HGNN/data/INHS_cropped/images/INHS_FISH_95916_aug6.jpg saved!\n",
      "/home/elhamod/HGNN/data/INHS_cropped/images/INHS_FISH_95916_aug7.jpg saved!\n",
      "/home/elhamod/HGNN/data/INHS_cropped/images/INHS_FISH_95916_aug8.jpg saved!\n",
      "/home/elhamod/HGNN/data/INHS_cropped/images/INHS_FISH_95916_aug9.jpg saved!\n"
     ]
    },
    {
     "name": "stderr",
     "output_type": "stream",
     "text": [
      "\r",
      " 63% (349 of 550) |#############         | Elapsed Time: 0:06:42 ETA:   0:03:50"
     ]
    },
    {
     "name": "stdout",
     "output_type": "stream",
     "text": [
      "/home/elhamod/HGNN/data/INHS_cropped/images/INHS_FISH_96417_aug0.jpg saved!\n",
      "/home/elhamod/HGNN/data/INHS_cropped/images/INHS_FISH_96417_aug1.jpg saved!\n",
      "/home/elhamod/HGNN/data/INHS_cropped/images/INHS_FISH_96417_aug2.jpg saved!\n",
      "/home/elhamod/HGNN/data/INHS_cropped/images/INHS_FISH_96417_aug3.jpg saved!\n",
      "/home/elhamod/HGNN/data/INHS_cropped/images/INHS_FISH_96417_aug4.jpg saved!\n",
      "/home/elhamod/HGNN/data/INHS_cropped/images/INHS_FISH_96417_aug5.jpg saved!\n",
      "/home/elhamod/HGNN/data/INHS_cropped/images/INHS_FISH_96417_aug6.jpg saved!\n",
      "/home/elhamod/HGNN/data/INHS_cropped/images/INHS_FISH_96417_aug7.jpg saved!\n",
      "/home/elhamod/HGNN/data/INHS_cropped/images/INHS_FISH_96417_aug8.jpg saved!\n",
      "/home/elhamod/HGNN/data/INHS_cropped/images/INHS_FISH_96417_aug9.jpg saved!\n"
     ]
    },
    {
     "name": "stderr",
     "output_type": "stream",
     "text": [
      "\r",
      " 63% (350 of 550) |##############        | Elapsed Time: 0:06:43 ETA:   0:03:52"
     ]
    },
    {
     "name": "stdout",
     "output_type": "stream",
     "text": [
      "/home/elhamod/HGNN/data/INHS_cropped/images/INHS_FISH_33654_aug0.jpg saved!\n",
      "/home/elhamod/HGNN/data/INHS_cropped/images/INHS_FISH_33654_aug1.jpg saved!\n",
      "/home/elhamod/HGNN/data/INHS_cropped/images/INHS_FISH_33654_aug2.jpg saved!\n",
      "/home/elhamod/HGNN/data/INHS_cropped/images/INHS_FISH_33654_aug3.jpg saved!\n",
      "/home/elhamod/HGNN/data/INHS_cropped/images/INHS_FISH_33654_aug4.jpg saved!\n",
      "/home/elhamod/HGNN/data/INHS_cropped/images/INHS_FISH_33654_aug5.jpg saved!\n",
      "/home/elhamod/HGNN/data/INHS_cropped/images/INHS_FISH_33654_aug6.jpg saved!\n",
      "/home/elhamod/HGNN/data/INHS_cropped/images/INHS_FISH_33654_aug7.jpg saved!\n",
      "/home/elhamod/HGNN/data/INHS_cropped/images/INHS_FISH_33654_aug8.jpg saved!\n",
      "/home/elhamod/HGNN/data/INHS_cropped/images/INHS_FISH_33654_aug9.jpg saved!\n"
     ]
    },
    {
     "name": "stderr",
     "output_type": "stream",
     "text": [
      "\r",
      " 63% (351 of 550) |##############        | Elapsed Time: 0:06:44 ETA:   0:03:54"
     ]
    },
    {
     "name": "stdout",
     "output_type": "stream",
     "text": [
      "/home/elhamod/HGNN/data/INHS_cropped/images/INHS_FISH_51445_aug0.jpg saved!\n",
      "/home/elhamod/HGNN/data/INHS_cropped/images/INHS_FISH_51445_aug1.jpg saved!\n",
      "/home/elhamod/HGNN/data/INHS_cropped/images/INHS_FISH_51445_aug2.jpg saved!\n",
      "/home/elhamod/HGNN/data/INHS_cropped/images/INHS_FISH_51445_aug3.jpg saved!\n",
      "/home/elhamod/HGNN/data/INHS_cropped/images/INHS_FISH_51445_aug4.jpg saved!\n",
      "/home/elhamod/HGNN/data/INHS_cropped/images/INHS_FISH_51445_aug5.jpg saved!\n",
      "/home/elhamod/HGNN/data/INHS_cropped/images/INHS_FISH_51445_aug6.jpg saved!\n",
      "/home/elhamod/HGNN/data/INHS_cropped/images/INHS_FISH_51445_aug7.jpg saved!\n",
      "/home/elhamod/HGNN/data/INHS_cropped/images/INHS_FISH_51445_aug8.jpg saved!\n",
      "/home/elhamod/HGNN/data/INHS_cropped/images/INHS_FISH_51445_aug9.jpg saved!\n"
     ]
    },
    {
     "name": "stderr",
     "output_type": "stream",
     "text": [
      "\r",
      " 64% (352 of 550) |##############        | Elapsed Time: 0:06:46 ETA:   0:03:55"
     ]
    },
    {
     "name": "stdout",
     "output_type": "stream",
     "text": [
      "/home/elhamod/HGNN/data/INHS_cropped/images/INHS_FISH_94860_aug0.jpg saved!\n",
      "/home/elhamod/HGNN/data/INHS_cropped/images/INHS_FISH_94860_aug1.jpg saved!\n",
      "/home/elhamod/HGNN/data/INHS_cropped/images/INHS_FISH_94860_aug2.jpg saved!\n",
      "/home/elhamod/HGNN/data/INHS_cropped/images/INHS_FISH_94860_aug3.jpg saved!\n",
      "/home/elhamod/HGNN/data/INHS_cropped/images/INHS_FISH_94860_aug4.jpg saved!\n",
      "/home/elhamod/HGNN/data/INHS_cropped/images/INHS_FISH_94860_aug5.jpg saved!\n",
      "/home/elhamod/HGNN/data/INHS_cropped/images/INHS_FISH_94860_aug6.jpg saved!\n",
      "/home/elhamod/HGNN/data/INHS_cropped/images/INHS_FISH_94860_aug7.jpg saved!\n",
      "/home/elhamod/HGNN/data/INHS_cropped/images/INHS_FISH_94860_aug8.jpg saved!\n",
      "/home/elhamod/HGNN/data/INHS_cropped/images/INHS_FISH_94860_aug9.jpg saved!\n"
     ]
    },
    {
     "name": "stderr",
     "output_type": "stream",
     "text": [
      "\r",
      " 64% (353 of 550) |##############        | Elapsed Time: 0:06:47 ETA:   0:03:54"
     ]
    },
    {
     "name": "stdout",
     "output_type": "stream",
     "text": [
      "/home/elhamod/HGNN/data/INHS_cropped/images/INHS_FISH_2426_aug0.jpg saved!\n",
      "/home/elhamod/HGNN/data/INHS_cropped/images/INHS_FISH_2426_aug1.jpg saved!\n",
      "/home/elhamod/HGNN/data/INHS_cropped/images/INHS_FISH_2426_aug2.jpg saved!\n",
      "/home/elhamod/HGNN/data/INHS_cropped/images/INHS_FISH_2426_aug3.jpg saved!\n",
      "/home/elhamod/HGNN/data/INHS_cropped/images/INHS_FISH_2426_aug4.jpg saved!\n",
      "/home/elhamod/HGNN/data/INHS_cropped/images/INHS_FISH_2426_aug5.jpg saved!\n",
      "/home/elhamod/HGNN/data/INHS_cropped/images/INHS_FISH_2426_aug6.jpg saved!\n",
      "/home/elhamod/HGNN/data/INHS_cropped/images/INHS_FISH_2426_aug7.jpg saved!\n",
      "/home/elhamod/HGNN/data/INHS_cropped/images/INHS_FISH_2426_aug8.jpg saved!\n",
      "/home/elhamod/HGNN/data/INHS_cropped/images/INHS_FISH_2426_aug9.jpg saved!\n"
     ]
    },
    {
     "name": "stderr",
     "output_type": "stream",
     "text": [
      "\r",
      " 64% (354 of 550) |##############        | Elapsed Time: 0:06:48 ETA:   0:03:50"
     ]
    },
    {
     "name": "stdout",
     "output_type": "stream",
     "text": [
      "/home/elhamod/HGNN/data/INHS_cropped/images/INHS_FISH_62271_aug0.jpg saved!\n",
      "/home/elhamod/HGNN/data/INHS_cropped/images/INHS_FISH_62271_aug1.jpg saved!\n",
      "/home/elhamod/HGNN/data/INHS_cropped/images/INHS_FISH_62271_aug2.jpg saved!\n",
      "/home/elhamod/HGNN/data/INHS_cropped/images/INHS_FISH_62271_aug3.jpg saved!\n",
      "/home/elhamod/HGNN/data/INHS_cropped/images/INHS_FISH_62271_aug4.jpg saved!\n",
      "/home/elhamod/HGNN/data/INHS_cropped/images/INHS_FISH_62271_aug5.jpg saved!\n",
      "/home/elhamod/HGNN/data/INHS_cropped/images/INHS_FISH_62271_aug6.jpg saved!\n",
      "/home/elhamod/HGNN/data/INHS_cropped/images/INHS_FISH_62271_aug7.jpg saved!\n",
      "/home/elhamod/HGNN/data/INHS_cropped/images/INHS_FISH_62271_aug8.jpg saved!\n",
      "/home/elhamod/HGNN/data/INHS_cropped/images/INHS_FISH_62271_aug9.jpg saved!\n"
     ]
    },
    {
     "name": "stderr",
     "output_type": "stream",
     "text": [
      "\r",
      " 64% (355 of 550) |##############        | Elapsed Time: 0:06:49 ETA:   0:03:45"
     ]
    },
    {
     "name": "stdout",
     "output_type": "stream",
     "text": [
      "/home/elhamod/HGNN/data/INHS_cropped/images/INHS_FISH_20480_aug0.jpg saved!\n",
      "/home/elhamod/HGNN/data/INHS_cropped/images/INHS_FISH_20480_aug1.jpg saved!\n",
      "/home/elhamod/HGNN/data/INHS_cropped/images/INHS_FISH_20480_aug2.jpg saved!\n",
      "/home/elhamod/HGNN/data/INHS_cropped/images/INHS_FISH_20480_aug3.jpg saved!\n",
      "/home/elhamod/HGNN/data/INHS_cropped/images/INHS_FISH_20480_aug4.jpg saved!\n",
      "/home/elhamod/HGNN/data/INHS_cropped/images/INHS_FISH_20480_aug5.jpg saved!\n",
      "/home/elhamod/HGNN/data/INHS_cropped/images/INHS_FISH_20480_aug6.jpg saved!\n",
      "/home/elhamod/HGNN/data/INHS_cropped/images/INHS_FISH_20480_aug7.jpg saved!\n",
      "/home/elhamod/HGNN/data/INHS_cropped/images/INHS_FISH_20480_aug8.jpg saved!\n",
      "/home/elhamod/HGNN/data/INHS_cropped/images/INHS_FISH_20480_aug9.jpg saved!\n"
     ]
    },
    {
     "name": "stderr",
     "output_type": "stream",
     "text": [
      "\r",
      " 64% (356 of 550) |##############        | Elapsed Time: 0:06:50 ETA:   0:03:43"
     ]
    },
    {
     "name": "stdout",
     "output_type": "stream",
     "text": [
      "/home/elhamod/HGNN/data/INHS_cropped/images/INHS_FISH_50082_aug0.jpg saved!\n",
      "/home/elhamod/HGNN/data/INHS_cropped/images/INHS_FISH_50082_aug1.jpg saved!\n",
      "/home/elhamod/HGNN/data/INHS_cropped/images/INHS_FISH_50082_aug2.jpg saved!\n",
      "/home/elhamod/HGNN/data/INHS_cropped/images/INHS_FISH_50082_aug3.jpg saved!\n",
      "/home/elhamod/HGNN/data/INHS_cropped/images/INHS_FISH_50082_aug4.jpg saved!\n",
      "/home/elhamod/HGNN/data/INHS_cropped/images/INHS_FISH_50082_aug5.jpg saved!\n",
      "/home/elhamod/HGNN/data/INHS_cropped/images/INHS_FISH_50082_aug6.jpg saved!\n",
      "/home/elhamod/HGNN/data/INHS_cropped/images/INHS_FISH_50082_aug7.jpg saved!\n",
      "/home/elhamod/HGNN/data/INHS_cropped/images/INHS_FISH_50082_aug8.jpg saved!\n",
      "/home/elhamod/HGNN/data/INHS_cropped/images/INHS_FISH_50082_aug9.jpg saved!\n"
     ]
    },
    {
     "name": "stderr",
     "output_type": "stream",
     "text": [
      "\r",
      " 64% (357 of 550) |##############        | Elapsed Time: 0:06:51 ETA:   0:03:49"
     ]
    },
    {
     "name": "stdout",
     "output_type": "stream",
     "text": [
      "/home/elhamod/HGNN/data/INHS_cropped/images/INHS_FISH_51429_aug0.jpg saved!\n",
      "/home/elhamod/HGNN/data/INHS_cropped/images/INHS_FISH_51429_aug1.jpg saved!\n",
      "/home/elhamod/HGNN/data/INHS_cropped/images/INHS_FISH_51429_aug2.jpg saved!\n",
      "/home/elhamod/HGNN/data/INHS_cropped/images/INHS_FISH_51429_aug3.jpg saved!\n",
      "/home/elhamod/HGNN/data/INHS_cropped/images/INHS_FISH_51429_aug4.jpg saved!\n",
      "/home/elhamod/HGNN/data/INHS_cropped/images/INHS_FISH_51429_aug5.jpg saved!\n",
      "/home/elhamod/HGNN/data/INHS_cropped/images/INHS_FISH_51429_aug6.jpg saved!\n",
      "/home/elhamod/HGNN/data/INHS_cropped/images/INHS_FISH_51429_aug7.jpg saved!\n",
      "/home/elhamod/HGNN/data/INHS_cropped/images/INHS_FISH_51429_aug8.jpg saved!\n",
      "/home/elhamod/HGNN/data/INHS_cropped/images/INHS_FISH_51429_aug9.jpg saved!\n"
     ]
    },
    {
     "name": "stderr",
     "output_type": "stream",
     "text": [
      "\r",
      " 65% (358 of 550) |##############        | Elapsed Time: 0:06:53 ETA:   0:03:46"
     ]
    },
    {
     "name": "stdout",
     "output_type": "stream",
     "text": [
      "/home/elhamod/HGNN/data/INHS_cropped/images/INHS_FISH_103344_aug0.jpg saved!\n",
      "/home/elhamod/HGNN/data/INHS_cropped/images/INHS_FISH_103344_aug1.jpg saved!\n",
      "/home/elhamod/HGNN/data/INHS_cropped/images/INHS_FISH_103344_aug2.jpg saved!\n",
      "/home/elhamod/HGNN/data/INHS_cropped/images/INHS_FISH_103344_aug3.jpg saved!\n",
      "/home/elhamod/HGNN/data/INHS_cropped/images/INHS_FISH_103344_aug4.jpg saved!\n",
      "/home/elhamod/HGNN/data/INHS_cropped/images/INHS_FISH_103344_aug5.jpg saved!\n",
      "/home/elhamod/HGNN/data/INHS_cropped/images/INHS_FISH_103344_aug6.jpg saved!\n",
      "/home/elhamod/HGNN/data/INHS_cropped/images/INHS_FISH_103344_aug7.jpg saved!\n",
      "/home/elhamod/HGNN/data/INHS_cropped/images/INHS_FISH_103344_aug8.jpg saved!\n",
      "/home/elhamod/HGNN/data/INHS_cropped/images/INHS_FISH_103344_aug9.jpg saved!\n"
     ]
    },
    {
     "name": "stderr",
     "output_type": "stream",
     "text": [
      "\r",
      " 65% (359 of 550) |##############        | Elapsed Time: 0:06:54 ETA:   0:03:35"
     ]
    },
    {
     "name": "stdout",
     "output_type": "stream",
     "text": [
      "/home/elhamod/HGNN/data/INHS_cropped/images/INHS_FISH_93197_aug0.jpg saved!\n",
      "/home/elhamod/HGNN/data/INHS_cropped/images/INHS_FISH_93197_aug1.jpg saved!\n",
      "/home/elhamod/HGNN/data/INHS_cropped/images/INHS_FISH_93197_aug2.jpg saved!\n",
      "/home/elhamod/HGNN/data/INHS_cropped/images/INHS_FISH_93197_aug3.jpg saved!\n",
      "/home/elhamod/HGNN/data/INHS_cropped/images/INHS_FISH_93197_aug4.jpg saved!\n",
      "/home/elhamod/HGNN/data/INHS_cropped/images/INHS_FISH_93197_aug5.jpg saved!\n",
      "/home/elhamod/HGNN/data/INHS_cropped/images/INHS_FISH_93197_aug6.jpg saved!\n",
      "/home/elhamod/HGNN/data/INHS_cropped/images/INHS_FISH_93197_aug7.jpg saved!\n",
      "/home/elhamod/HGNN/data/INHS_cropped/images/INHS_FISH_93197_aug8.jpg saved!\n",
      "/home/elhamod/HGNN/data/INHS_cropped/images/INHS_FISH_93197_aug9.jpg saved!\n"
     ]
    },
    {
     "name": "stderr",
     "output_type": "stream",
     "text": [
      "\r",
      " 65% (360 of 550) |##############        | Elapsed Time: 0:06:55 ETA:   0:03:35"
     ]
    },
    {
     "name": "stdout",
     "output_type": "stream",
     "text": [
      "/home/elhamod/HGNN/data/INHS_cropped/images/INHS_FISH_21622_aug0.jpg saved!\n",
      "/home/elhamod/HGNN/data/INHS_cropped/images/INHS_FISH_21622_aug1.jpg saved!\n",
      "/home/elhamod/HGNN/data/INHS_cropped/images/INHS_FISH_21622_aug2.jpg saved!\n",
      "/home/elhamod/HGNN/data/INHS_cropped/images/INHS_FISH_21622_aug3.jpg saved!\n",
      "/home/elhamod/HGNN/data/INHS_cropped/images/INHS_FISH_21622_aug4.jpg saved!\n",
      "/home/elhamod/HGNN/data/INHS_cropped/images/INHS_FISH_21622_aug5.jpg saved!\n",
      "/home/elhamod/HGNN/data/INHS_cropped/images/INHS_FISH_21622_aug6.jpg saved!\n",
      "/home/elhamod/HGNN/data/INHS_cropped/images/INHS_FISH_21622_aug7.jpg saved!\n",
      "/home/elhamod/HGNN/data/INHS_cropped/images/INHS_FISH_21622_aug8.jpg saved!\n",
      "/home/elhamod/HGNN/data/INHS_cropped/images/INHS_FISH_21622_aug9.jpg saved!\n"
     ]
    },
    {
     "name": "stderr",
     "output_type": "stream",
     "text": [
      "\r",
      " 65% (361 of 550) |##############        | Elapsed Time: 0:06:56 ETA:   0:03:42"
     ]
    },
    {
     "name": "stdout",
     "output_type": "stream",
     "text": [
      "/home/elhamod/HGNN/data/INHS_cropped/images/INHS_FISH_62299_aug0.jpg saved!\n",
      "/home/elhamod/HGNN/data/INHS_cropped/images/INHS_FISH_62299_aug1.jpg saved!\n",
      "/home/elhamod/HGNN/data/INHS_cropped/images/INHS_FISH_62299_aug2.jpg saved!\n",
      "/home/elhamod/HGNN/data/INHS_cropped/images/INHS_FISH_62299_aug3.jpg saved!\n",
      "/home/elhamod/HGNN/data/INHS_cropped/images/INHS_FISH_62299_aug4.jpg saved!\n",
      "/home/elhamod/HGNN/data/INHS_cropped/images/INHS_FISH_62299_aug5.jpg saved!\n",
      "/home/elhamod/HGNN/data/INHS_cropped/images/INHS_FISH_62299_aug6.jpg saved!\n",
      "/home/elhamod/HGNN/data/INHS_cropped/images/INHS_FISH_62299_aug7.jpg saved!\n",
      "/home/elhamod/HGNN/data/INHS_cropped/images/INHS_FISH_62299_aug8.jpg saved!\n",
      "/home/elhamod/HGNN/data/INHS_cropped/images/INHS_FISH_62299_aug9.jpg saved!\n"
     ]
    },
    {
     "name": "stderr",
     "output_type": "stream",
     "text": [
      "\r",
      " 65% (362 of 550) |##############        | Elapsed Time: 0:06:57 ETA:   0:03:51"
     ]
    },
    {
     "name": "stdout",
     "output_type": "stream",
     "text": [
      "/home/elhamod/HGNN/data/INHS_cropped/images/INHS_FISH_59719_aug0.jpg saved!\n",
      "/home/elhamod/HGNN/data/INHS_cropped/images/INHS_FISH_59719_aug1.jpg saved!\n",
      "/home/elhamod/HGNN/data/INHS_cropped/images/INHS_FISH_59719_aug2.jpg saved!\n",
      "/home/elhamod/HGNN/data/INHS_cropped/images/INHS_FISH_59719_aug3.jpg saved!\n",
      "/home/elhamod/HGNN/data/INHS_cropped/images/INHS_FISH_59719_aug4.jpg saved!\n",
      "/home/elhamod/HGNN/data/INHS_cropped/images/INHS_FISH_59719_aug5.jpg saved!\n",
      "/home/elhamod/HGNN/data/INHS_cropped/images/INHS_FISH_59719_aug6.jpg saved!\n",
      "/home/elhamod/HGNN/data/INHS_cropped/images/INHS_FISH_59719_aug7.jpg saved!\n",
      "/home/elhamod/HGNN/data/INHS_cropped/images/INHS_FISH_59719_aug8.jpg saved!\n",
      "/home/elhamod/HGNN/data/INHS_cropped/images/INHS_FISH_59719_aug9.jpg saved!\n"
     ]
    },
    {
     "name": "stderr",
     "output_type": "stream",
     "text": [
      "\r",
      " 66% (363 of 550) |##############        | Elapsed Time: 0:06:59 ETA:   0:03:49"
     ]
    },
    {
     "name": "stdout",
     "output_type": "stream",
     "text": [
      "/home/elhamod/HGNN/data/INHS_cropped/images/INHS_FISH_53152_aug0.jpg saved!\n",
      "/home/elhamod/HGNN/data/INHS_cropped/images/INHS_FISH_53152_aug1.jpg saved!\n",
      "/home/elhamod/HGNN/data/INHS_cropped/images/INHS_FISH_53152_aug2.jpg saved!\n",
      "/home/elhamod/HGNN/data/INHS_cropped/images/INHS_FISH_53152_aug3.jpg saved!\n",
      "/home/elhamod/HGNN/data/INHS_cropped/images/INHS_FISH_53152_aug4.jpg saved!\n",
      "/home/elhamod/HGNN/data/INHS_cropped/images/INHS_FISH_53152_aug5.jpg saved!\n",
      "/home/elhamod/HGNN/data/INHS_cropped/images/INHS_FISH_53152_aug6.jpg saved!\n",
      "/home/elhamod/HGNN/data/INHS_cropped/images/INHS_FISH_53152_aug7.jpg saved!\n",
      "/home/elhamod/HGNN/data/INHS_cropped/images/INHS_FISH_53152_aug8.jpg saved!\n",
      "/home/elhamod/HGNN/data/INHS_cropped/images/INHS_FISH_53152_aug9.jpg saved!\n"
     ]
    },
    {
     "name": "stderr",
     "output_type": "stream",
     "text": [
      "\r",
      " 66% (364 of 550) |##############        | Elapsed Time: 0:07:00 ETA:   0:03:38"
     ]
    },
    {
     "name": "stdout",
     "output_type": "stream",
     "text": [
      "/home/elhamod/HGNN/data/INHS_cropped/images/INHS_FISH_74573_aug0.jpg saved!\n",
      "/home/elhamod/HGNN/data/INHS_cropped/images/INHS_FISH_74573_aug1.jpg saved!\n",
      "/home/elhamod/HGNN/data/INHS_cropped/images/INHS_FISH_74573_aug2.jpg saved!\n",
      "/home/elhamod/HGNN/data/INHS_cropped/images/INHS_FISH_74573_aug3.jpg saved!\n",
      "/home/elhamod/HGNN/data/INHS_cropped/images/INHS_FISH_74573_aug4.jpg saved!\n",
      "/home/elhamod/HGNN/data/INHS_cropped/images/INHS_FISH_74573_aug5.jpg saved!\n",
      "/home/elhamod/HGNN/data/INHS_cropped/images/INHS_FISH_74573_aug6.jpg saved!\n",
      "/home/elhamod/HGNN/data/INHS_cropped/images/INHS_FISH_74573_aug7.jpg saved!\n",
      "/home/elhamod/HGNN/data/INHS_cropped/images/INHS_FISH_74573_aug8.jpg saved!\n",
      "/home/elhamod/HGNN/data/INHS_cropped/images/INHS_FISH_74573_aug9.jpg saved!\n"
     ]
    },
    {
     "name": "stderr",
     "output_type": "stream",
     "text": [
      "\r",
      " 66% (365 of 550) |##############        | Elapsed Time: 0:07:01 ETA:   0:03:29"
     ]
    },
    {
     "name": "stdout",
     "output_type": "stream",
     "text": [
      "/home/elhamod/HGNN/data/INHS_cropped/images/INHS_FISH_108235_aug0.jpg saved!\n",
      "/home/elhamod/HGNN/data/INHS_cropped/images/INHS_FISH_108235_aug1.jpg saved!\n",
      "/home/elhamod/HGNN/data/INHS_cropped/images/INHS_FISH_108235_aug2.jpg saved!\n",
      "/home/elhamod/HGNN/data/INHS_cropped/images/INHS_FISH_108235_aug3.jpg saved!\n",
      "/home/elhamod/HGNN/data/INHS_cropped/images/INHS_FISH_108235_aug4.jpg saved!\n",
      "/home/elhamod/HGNN/data/INHS_cropped/images/INHS_FISH_108235_aug5.jpg saved!\n",
      "/home/elhamod/HGNN/data/INHS_cropped/images/INHS_FISH_108235_aug6.jpg saved!\n",
      "/home/elhamod/HGNN/data/INHS_cropped/images/INHS_FISH_108235_aug7.jpg saved!\n",
      "/home/elhamod/HGNN/data/INHS_cropped/images/INHS_FISH_108235_aug8.jpg saved!\n",
      "/home/elhamod/HGNN/data/INHS_cropped/images/INHS_FISH_108235_aug9.jpg saved!\n"
     ]
    },
    {
     "name": "stderr",
     "output_type": "stream",
     "text": [
      "\r",
      " 66% (366 of 550) |##############        | Elapsed Time: 0:07:02 ETA:   0:03:31"
     ]
    },
    {
     "name": "stdout",
     "output_type": "stream",
     "text": [
      "/home/elhamod/HGNN/data/INHS_cropped/images/INHS_FISH_12992_aug0.jpg saved!\n",
      "/home/elhamod/HGNN/data/INHS_cropped/images/INHS_FISH_12992_aug1.jpg saved!\n",
      "/home/elhamod/HGNN/data/INHS_cropped/images/INHS_FISH_12992_aug2.jpg saved!\n",
      "/home/elhamod/HGNN/data/INHS_cropped/images/INHS_FISH_12992_aug3.jpg saved!\n",
      "/home/elhamod/HGNN/data/INHS_cropped/images/INHS_FISH_12992_aug4.jpg saved!\n",
      "/home/elhamod/HGNN/data/INHS_cropped/images/INHS_FISH_12992_aug5.jpg saved!\n",
      "/home/elhamod/HGNN/data/INHS_cropped/images/INHS_FISH_12992_aug6.jpg saved!\n",
      "/home/elhamod/HGNN/data/INHS_cropped/images/INHS_FISH_12992_aug7.jpg saved!\n",
      "/home/elhamod/HGNN/data/INHS_cropped/images/INHS_FISH_12992_aug8.jpg saved!\n",
      "/home/elhamod/HGNN/data/INHS_cropped/images/INHS_FISH_12992_aug9.jpg saved!\n"
     ]
    },
    {
     "name": "stderr",
     "output_type": "stream",
     "text": [
      "\r",
      " 66% (367 of 550) |##############        | Elapsed Time: 0:07:03 ETA:   0:03:34"
     ]
    },
    {
     "name": "stdout",
     "output_type": "stream",
     "text": [
      "/home/elhamod/HGNN/data/INHS_cropped/images/INHS_FISH_79838_aug0.jpg saved!\n",
      "/home/elhamod/HGNN/data/INHS_cropped/images/INHS_FISH_79838_aug1.jpg saved!\n",
      "/home/elhamod/HGNN/data/INHS_cropped/images/INHS_FISH_79838_aug2.jpg saved!\n",
      "/home/elhamod/HGNN/data/INHS_cropped/images/INHS_FISH_79838_aug3.jpg saved!\n",
      "/home/elhamod/HGNN/data/INHS_cropped/images/INHS_FISH_79838_aug4.jpg saved!\n",
      "/home/elhamod/HGNN/data/INHS_cropped/images/INHS_FISH_79838_aug5.jpg saved!\n",
      "/home/elhamod/HGNN/data/INHS_cropped/images/INHS_FISH_79838_aug6.jpg saved!\n",
      "/home/elhamod/HGNN/data/INHS_cropped/images/INHS_FISH_79838_aug7.jpg saved!\n",
      "/home/elhamod/HGNN/data/INHS_cropped/images/INHS_FISH_79838_aug8.jpg saved!\n",
      "/home/elhamod/HGNN/data/INHS_cropped/images/INHS_FISH_79838_aug9.jpg saved!\n"
     ]
    },
    {
     "name": "stderr",
     "output_type": "stream",
     "text": [
      "\r",
      " 66% (368 of 550) |##############        | Elapsed Time: 0:07:04 ETA:   0:03:28"
     ]
    },
    {
     "name": "stdout",
     "output_type": "stream",
     "text": [
      "/home/elhamod/HGNN/data/INHS_cropped/images/INHS_FISH_98495_aug0.jpg saved!\n",
      "/home/elhamod/HGNN/data/INHS_cropped/images/INHS_FISH_98495_aug1.jpg saved!\n",
      "/home/elhamod/HGNN/data/INHS_cropped/images/INHS_FISH_98495_aug2.jpg saved!\n",
      "/home/elhamod/HGNN/data/INHS_cropped/images/INHS_FISH_98495_aug3.jpg saved!\n",
      "/home/elhamod/HGNN/data/INHS_cropped/images/INHS_FISH_98495_aug4.jpg saved!\n",
      "/home/elhamod/HGNN/data/INHS_cropped/images/INHS_FISH_98495_aug5.jpg saved!\n",
      "/home/elhamod/HGNN/data/INHS_cropped/images/INHS_FISH_98495_aug6.jpg saved!\n",
      "/home/elhamod/HGNN/data/INHS_cropped/images/INHS_FISH_98495_aug7.jpg saved!\n",
      "/home/elhamod/HGNN/data/INHS_cropped/images/INHS_FISH_98495_aug8.jpg saved!\n",
      "/home/elhamod/HGNN/data/INHS_cropped/images/INHS_FISH_98495_aug9.jpg saved!\n"
     ]
    },
    {
     "name": "stderr",
     "output_type": "stream",
     "text": [
      "\r",
      " 67% (369 of 550) |##############        | Elapsed Time: 0:07:05 ETA:   0:03:26"
     ]
    },
    {
     "name": "stdout",
     "output_type": "stream",
     "text": [
      "/home/elhamod/HGNN/data/INHS_cropped/images/INHS_FISH_59772_aug0.jpg saved!\n",
      "/home/elhamod/HGNN/data/INHS_cropped/images/INHS_FISH_59772_aug1.jpg saved!\n",
      "/home/elhamod/HGNN/data/INHS_cropped/images/INHS_FISH_59772_aug2.jpg saved!\n",
      "/home/elhamod/HGNN/data/INHS_cropped/images/INHS_FISH_59772_aug3.jpg saved!\n",
      "/home/elhamod/HGNN/data/INHS_cropped/images/INHS_FISH_59772_aug4.jpg saved!\n",
      "/home/elhamod/HGNN/data/INHS_cropped/images/INHS_FISH_59772_aug5.jpg saved!\n",
      "/home/elhamod/HGNN/data/INHS_cropped/images/INHS_FISH_59772_aug6.jpg saved!\n",
      "/home/elhamod/HGNN/data/INHS_cropped/images/INHS_FISH_59772_aug7.jpg saved!\n",
      "/home/elhamod/HGNN/data/INHS_cropped/images/INHS_FISH_59772_aug8.jpg saved!\n",
      "/home/elhamod/HGNN/data/INHS_cropped/images/INHS_FISH_59772_aug9.jpg saved!\n"
     ]
    },
    {
     "name": "stderr",
     "output_type": "stream",
     "text": [
      "\r",
      " 67% (370 of 550) |##############        | Elapsed Time: 0:07:07 ETA:   0:03:26"
     ]
    },
    {
     "name": "stdout",
     "output_type": "stream",
     "text": [
      "/home/elhamod/HGNN/data/INHS_cropped/images/INHS_FISH_26594_aug0.jpg saved!\n",
      "/home/elhamod/HGNN/data/INHS_cropped/images/INHS_FISH_26594_aug1.jpg saved!\n",
      "/home/elhamod/HGNN/data/INHS_cropped/images/INHS_FISH_26594_aug2.jpg saved!\n",
      "/home/elhamod/HGNN/data/INHS_cropped/images/INHS_FISH_26594_aug3.jpg saved!\n",
      "/home/elhamod/HGNN/data/INHS_cropped/images/INHS_FISH_26594_aug4.jpg saved!\n",
      "/home/elhamod/HGNN/data/INHS_cropped/images/INHS_FISH_26594_aug5.jpg saved!\n",
      "/home/elhamod/HGNN/data/INHS_cropped/images/INHS_FISH_26594_aug6.jpg saved!\n",
      "/home/elhamod/HGNN/data/INHS_cropped/images/INHS_FISH_26594_aug7.jpg saved!\n",
      "/home/elhamod/HGNN/data/INHS_cropped/images/INHS_FISH_26594_aug8.jpg saved!\n",
      "/home/elhamod/HGNN/data/INHS_cropped/images/INHS_FISH_26594_aug9.jpg saved!\n"
     ]
    },
    {
     "name": "stderr",
     "output_type": "stream",
     "text": [
      "\r",
      " 67% (371 of 550) |##############        | Elapsed Time: 0:07:08 ETA:   0:03:20"
     ]
    },
    {
     "name": "stdout",
     "output_type": "stream",
     "text": [
      "/home/elhamod/HGNN/data/INHS_cropped/images/INHS_FISH_99351_aug0.jpg saved!\n",
      "/home/elhamod/HGNN/data/INHS_cropped/images/INHS_FISH_99351_aug1.jpg saved!\n",
      "/home/elhamod/HGNN/data/INHS_cropped/images/INHS_FISH_99351_aug2.jpg saved!\n",
      "/home/elhamod/HGNN/data/INHS_cropped/images/INHS_FISH_99351_aug3.jpg saved!\n",
      "/home/elhamod/HGNN/data/INHS_cropped/images/INHS_FISH_99351_aug4.jpg saved!\n",
      "/home/elhamod/HGNN/data/INHS_cropped/images/INHS_FISH_99351_aug5.jpg saved!\n",
      "/home/elhamod/HGNN/data/INHS_cropped/images/INHS_FISH_99351_aug6.jpg saved!\n",
      "/home/elhamod/HGNN/data/INHS_cropped/images/INHS_FISH_99351_aug7.jpg saved!\n",
      "/home/elhamod/HGNN/data/INHS_cropped/images/INHS_FISH_99351_aug8.jpg saved!\n",
      "/home/elhamod/HGNN/data/INHS_cropped/images/INHS_FISH_99351_aug9.jpg saved!\n"
     ]
    },
    {
     "name": "stderr",
     "output_type": "stream",
     "text": [
      "\r",
      " 67% (372 of 550) |##############        | Elapsed Time: 0:07:09 ETA:   0:03:18"
     ]
    },
    {
     "name": "stdout",
     "output_type": "stream",
     "text": [
      "/home/elhamod/HGNN/data/INHS_cropped/images/INHS_FISH_18094_aug0.jpg saved!\n",
      "/home/elhamod/HGNN/data/INHS_cropped/images/INHS_FISH_18094_aug1.jpg saved!\n",
      "/home/elhamod/HGNN/data/INHS_cropped/images/INHS_FISH_18094_aug2.jpg saved!\n",
      "/home/elhamod/HGNN/data/INHS_cropped/images/INHS_FISH_18094_aug3.jpg saved!\n",
      "/home/elhamod/HGNN/data/INHS_cropped/images/INHS_FISH_18094_aug4.jpg saved!\n",
      "/home/elhamod/HGNN/data/INHS_cropped/images/INHS_FISH_18094_aug5.jpg saved!\n",
      "/home/elhamod/HGNN/data/INHS_cropped/images/INHS_FISH_18094_aug6.jpg saved!\n",
      "/home/elhamod/HGNN/data/INHS_cropped/images/INHS_FISH_18094_aug7.jpg saved!\n",
      "/home/elhamod/HGNN/data/INHS_cropped/images/INHS_FISH_18094_aug8.jpg saved!\n",
      "/home/elhamod/HGNN/data/INHS_cropped/images/INHS_FISH_18094_aug9.jpg saved!\n"
     ]
    },
    {
     "name": "stderr",
     "output_type": "stream",
     "text": [
      "\r",
      " 67% (373 of 550) |##############        | Elapsed Time: 0:07:10 ETA:   0:03:16"
     ]
    },
    {
     "name": "stdout",
     "output_type": "stream",
     "text": [
      "/home/elhamod/HGNN/data/INHS_cropped/images/INHS_FISH_75284_aug0.jpg saved!\n",
      "/home/elhamod/HGNN/data/INHS_cropped/images/INHS_FISH_75284_aug1.jpg saved!\n",
      "/home/elhamod/HGNN/data/INHS_cropped/images/INHS_FISH_75284_aug2.jpg saved!\n",
      "/home/elhamod/HGNN/data/INHS_cropped/images/INHS_FISH_75284_aug3.jpg saved!\n",
      "/home/elhamod/HGNN/data/INHS_cropped/images/INHS_FISH_75284_aug4.jpg saved!\n",
      "/home/elhamod/HGNN/data/INHS_cropped/images/INHS_FISH_75284_aug5.jpg saved!\n",
      "/home/elhamod/HGNN/data/INHS_cropped/images/INHS_FISH_75284_aug6.jpg saved!\n",
      "/home/elhamod/HGNN/data/INHS_cropped/images/INHS_FISH_75284_aug7.jpg saved!\n",
      "/home/elhamod/HGNN/data/INHS_cropped/images/INHS_FISH_75284_aug8.jpg saved!\n",
      "/home/elhamod/HGNN/data/INHS_cropped/images/INHS_FISH_75284_aug9.jpg saved!\n"
     ]
    },
    {
     "name": "stderr",
     "output_type": "stream",
     "text": [
      "\r",
      " 68% (374 of 550) |##############        | Elapsed Time: 0:07:11 ETA:   0:03:15"
     ]
    },
    {
     "name": "stdout",
     "output_type": "stream",
     "text": [
      "/home/elhamod/HGNN/data/INHS_cropped/images/INHS_FISH_32363_aug0.jpg saved!\n",
      "/home/elhamod/HGNN/data/INHS_cropped/images/INHS_FISH_32363_aug1.jpg saved!\n",
      "/home/elhamod/HGNN/data/INHS_cropped/images/INHS_FISH_32363_aug2.jpg saved!\n",
      "/home/elhamod/HGNN/data/INHS_cropped/images/INHS_FISH_32363_aug3.jpg saved!\n",
      "/home/elhamod/HGNN/data/INHS_cropped/images/INHS_FISH_32363_aug4.jpg saved!\n",
      "/home/elhamod/HGNN/data/INHS_cropped/images/INHS_FISH_32363_aug5.jpg saved!\n",
      "/home/elhamod/HGNN/data/INHS_cropped/images/INHS_FISH_32363_aug6.jpg saved!\n",
      "/home/elhamod/HGNN/data/INHS_cropped/images/INHS_FISH_32363_aug7.jpg saved!\n",
      "/home/elhamod/HGNN/data/INHS_cropped/images/INHS_FISH_32363_aug8.jpg saved!\n",
      "/home/elhamod/HGNN/data/INHS_cropped/images/INHS_FISH_32363_aug9.jpg saved!\n"
     ]
    },
    {
     "name": "stderr",
     "output_type": "stream",
     "text": [
      "\r",
      " 68% (375 of 550) |##############        | Elapsed Time: 0:07:12 ETA:   0:03:14"
     ]
    },
    {
     "name": "stdout",
     "output_type": "stream",
     "text": [
      "/home/elhamod/HGNN/data/INHS_cropped/images/INHS_FISH_25235_aug0.jpg saved!\n",
      "/home/elhamod/HGNN/data/INHS_cropped/images/INHS_FISH_25235_aug1.jpg saved!\n",
      "/home/elhamod/HGNN/data/INHS_cropped/images/INHS_FISH_25235_aug2.jpg saved!\n",
      "/home/elhamod/HGNN/data/INHS_cropped/images/INHS_FISH_25235_aug3.jpg saved!\n",
      "/home/elhamod/HGNN/data/INHS_cropped/images/INHS_FISH_25235_aug4.jpg saved!\n",
      "/home/elhamod/HGNN/data/INHS_cropped/images/INHS_FISH_25235_aug5.jpg saved!\n",
      "/home/elhamod/HGNN/data/INHS_cropped/images/INHS_FISH_25235_aug6.jpg saved!\n",
      "/home/elhamod/HGNN/data/INHS_cropped/images/INHS_FISH_25235_aug7.jpg saved!\n",
      "/home/elhamod/HGNN/data/INHS_cropped/images/INHS_FISH_25235_aug8.jpg saved!\n",
      "/home/elhamod/HGNN/data/INHS_cropped/images/INHS_FISH_25235_aug9.jpg saved!\n"
     ]
    },
    {
     "name": "stderr",
     "output_type": "stream",
     "text": [
      "\r",
      " 68% (376 of 550) |###############       | Elapsed Time: 0:07:13 ETA:   0:03:13"
     ]
    },
    {
     "name": "stdout",
     "output_type": "stream",
     "text": [
      "/home/elhamod/HGNN/data/INHS_cropped/images/INHS_FISH_7471_aug0.jpg saved!\n",
      "/home/elhamod/HGNN/data/INHS_cropped/images/INHS_FISH_7471_aug1.jpg saved!\n",
      "/home/elhamod/HGNN/data/INHS_cropped/images/INHS_FISH_7471_aug2.jpg saved!\n",
      "/home/elhamod/HGNN/data/INHS_cropped/images/INHS_FISH_7471_aug3.jpg saved!\n",
      "/home/elhamod/HGNN/data/INHS_cropped/images/INHS_FISH_7471_aug4.jpg saved!\n",
      "/home/elhamod/HGNN/data/INHS_cropped/images/INHS_FISH_7471_aug5.jpg saved!\n",
      "/home/elhamod/HGNN/data/INHS_cropped/images/INHS_FISH_7471_aug6.jpg saved!\n",
      "/home/elhamod/HGNN/data/INHS_cropped/images/INHS_FISH_7471_aug7.jpg saved!\n",
      "/home/elhamod/HGNN/data/INHS_cropped/images/INHS_FISH_7471_aug8.jpg saved!\n",
      "/home/elhamod/HGNN/data/INHS_cropped/images/INHS_FISH_7471_aug9.jpg saved!\n"
     ]
    },
    {
     "name": "stderr",
     "output_type": "stream",
     "text": [
      "\r",
      " 68% (377 of 550) |###############       | Elapsed Time: 0:07:14 ETA:   0:03:14"
     ]
    },
    {
     "name": "stdout",
     "output_type": "stream",
     "text": [
      "/home/elhamod/HGNN/data/INHS_cropped/images/INHS_FISH_026757_aug0.jpg saved!\n",
      "/home/elhamod/HGNN/data/INHS_cropped/images/INHS_FISH_026757_aug1.jpg saved!\n",
      "/home/elhamod/HGNN/data/INHS_cropped/images/INHS_FISH_026757_aug2.jpg saved!\n",
      "/home/elhamod/HGNN/data/INHS_cropped/images/INHS_FISH_026757_aug3.jpg saved!\n",
      "/home/elhamod/HGNN/data/INHS_cropped/images/INHS_FISH_026757_aug4.jpg saved!\n",
      "/home/elhamod/HGNN/data/INHS_cropped/images/INHS_FISH_026757_aug5.jpg saved!\n",
      "/home/elhamod/HGNN/data/INHS_cropped/images/INHS_FISH_026757_aug6.jpg saved!\n",
      "/home/elhamod/HGNN/data/INHS_cropped/images/INHS_FISH_026757_aug7.jpg saved!\n",
      "/home/elhamod/HGNN/data/INHS_cropped/images/INHS_FISH_026757_aug8.jpg saved!\n",
      "/home/elhamod/HGNN/data/INHS_cropped/images/INHS_FISH_026757_aug9.jpg saved!\n"
     ]
    },
    {
     "name": "stderr",
     "output_type": "stream",
     "text": [
      "\r",
      " 68% (378 of 550) |###############       | Elapsed Time: 0:07:15 ETA:   0:03:14"
     ]
    },
    {
     "name": "stdout",
     "output_type": "stream",
     "text": [
      "/home/elhamod/HGNN/data/INHS_cropped/images/INHS_FISH_51409_aug0.jpg saved!\n",
      "/home/elhamod/HGNN/data/INHS_cropped/images/INHS_FISH_51409_aug1.jpg saved!\n",
      "/home/elhamod/HGNN/data/INHS_cropped/images/INHS_FISH_51409_aug2.jpg saved!\n",
      "/home/elhamod/HGNN/data/INHS_cropped/images/INHS_FISH_51409_aug3.jpg saved!\n",
      "/home/elhamod/HGNN/data/INHS_cropped/images/INHS_FISH_51409_aug4.jpg saved!\n",
      "/home/elhamod/HGNN/data/INHS_cropped/images/INHS_FISH_51409_aug5.jpg saved!\n",
      "/home/elhamod/HGNN/data/INHS_cropped/images/INHS_FISH_51409_aug6.jpg saved!\n",
      "/home/elhamod/HGNN/data/INHS_cropped/images/INHS_FISH_51409_aug7.jpg saved!\n",
      "/home/elhamod/HGNN/data/INHS_cropped/images/INHS_FISH_51409_aug8.jpg saved!\n",
      "/home/elhamod/HGNN/data/INHS_cropped/images/INHS_FISH_51409_aug9.jpg saved!\n"
     ]
    },
    {
     "name": "stderr",
     "output_type": "stream",
     "text": [
      "\r",
      " 68% (379 of 550) |###############       | Elapsed Time: 0:07:17 ETA:   0:03:13"
     ]
    },
    {
     "name": "stdout",
     "output_type": "stream",
     "text": [
      "/home/elhamod/HGNN/data/INHS_cropped/images/INHS_FISH_88250_aug0.jpg saved!\n",
      "/home/elhamod/HGNN/data/INHS_cropped/images/INHS_FISH_88250_aug1.jpg saved!\n",
      "/home/elhamod/HGNN/data/INHS_cropped/images/INHS_FISH_88250_aug2.jpg saved!\n",
      "/home/elhamod/HGNN/data/INHS_cropped/images/INHS_FISH_88250_aug3.jpg saved!\n",
      "/home/elhamod/HGNN/data/INHS_cropped/images/INHS_FISH_88250_aug4.jpg saved!\n",
      "/home/elhamod/HGNN/data/INHS_cropped/images/INHS_FISH_88250_aug5.jpg saved!\n",
      "/home/elhamod/HGNN/data/INHS_cropped/images/INHS_FISH_88250_aug6.jpg saved!\n",
      "/home/elhamod/HGNN/data/INHS_cropped/images/INHS_FISH_88250_aug7.jpg saved!\n",
      "/home/elhamod/HGNN/data/INHS_cropped/images/INHS_FISH_88250_aug8.jpg saved!\n",
      "/home/elhamod/HGNN/data/INHS_cropped/images/INHS_FISH_88250_aug9.jpg saved!\n"
     ]
    },
    {
     "name": "stderr",
     "output_type": "stream",
     "text": [
      "\r",
      " 69% (380 of 550) |###############       | Elapsed Time: 0:07:18 ETA:   0:03:11"
     ]
    },
    {
     "name": "stdout",
     "output_type": "stream",
     "text": [
      "/home/elhamod/HGNN/data/INHS_cropped/images/INHS_FISH_109416_aug0.jpg saved!\n",
      "/home/elhamod/HGNN/data/INHS_cropped/images/INHS_FISH_109416_aug1.jpg saved!\n",
      "/home/elhamod/HGNN/data/INHS_cropped/images/INHS_FISH_109416_aug2.jpg saved!\n",
      "/home/elhamod/HGNN/data/INHS_cropped/images/INHS_FISH_109416_aug3.jpg saved!\n",
      "/home/elhamod/HGNN/data/INHS_cropped/images/INHS_FISH_109416_aug4.jpg saved!\n",
      "/home/elhamod/HGNN/data/INHS_cropped/images/INHS_FISH_109416_aug5.jpg saved!\n",
      "/home/elhamod/HGNN/data/INHS_cropped/images/INHS_FISH_109416_aug6.jpg saved!\n",
      "/home/elhamod/HGNN/data/INHS_cropped/images/INHS_FISH_109416_aug7.jpg saved!\n",
      "/home/elhamod/HGNN/data/INHS_cropped/images/INHS_FISH_109416_aug8.jpg saved!\n",
      "/home/elhamod/HGNN/data/INHS_cropped/images/INHS_FISH_109416_aug9.jpg saved!\n"
     ]
    },
    {
     "name": "stderr",
     "output_type": "stream",
     "text": [
      "\r",
      " 69% (381 of 550) |###############       | Elapsed Time: 0:07:19 ETA:   0:03:08"
     ]
    },
    {
     "name": "stdout",
     "output_type": "stream",
     "text": [
      "/home/elhamod/HGNN/data/INHS_cropped/images/INHS_FISH_90148_aug0.jpg saved!\n",
      "/home/elhamod/HGNN/data/INHS_cropped/images/INHS_FISH_90148_aug1.jpg saved!\n",
      "/home/elhamod/HGNN/data/INHS_cropped/images/INHS_FISH_90148_aug2.jpg saved!\n",
      "/home/elhamod/HGNN/data/INHS_cropped/images/INHS_FISH_90148_aug3.jpg saved!\n",
      "/home/elhamod/HGNN/data/INHS_cropped/images/INHS_FISH_90148_aug4.jpg saved!\n",
      "/home/elhamod/HGNN/data/INHS_cropped/images/INHS_FISH_90148_aug5.jpg saved!\n",
      "/home/elhamod/HGNN/data/INHS_cropped/images/INHS_FISH_90148_aug6.jpg saved!\n",
      "/home/elhamod/HGNN/data/INHS_cropped/images/INHS_FISH_90148_aug7.jpg saved!\n",
      "/home/elhamod/HGNN/data/INHS_cropped/images/INHS_FISH_90148_aug8.jpg saved!\n",
      "/home/elhamod/HGNN/data/INHS_cropped/images/INHS_FISH_90148_aug9.jpg saved!\n"
     ]
    },
    {
     "name": "stderr",
     "output_type": "stream",
     "text": [
      "\r",
      " 69% (382 of 550) |###############       | Elapsed Time: 0:07:20 ETA:   0:03:06"
     ]
    },
    {
     "name": "stdout",
     "output_type": "stream",
     "text": [
      "/home/elhamod/HGNN/data/INHS_cropped/images/INHS_FISH_47006_aug0.jpg saved!\n",
      "/home/elhamod/HGNN/data/INHS_cropped/images/INHS_FISH_47006_aug1.jpg saved!\n",
      "/home/elhamod/HGNN/data/INHS_cropped/images/INHS_FISH_47006_aug2.jpg saved!\n",
      "/home/elhamod/HGNN/data/INHS_cropped/images/INHS_FISH_47006_aug3.jpg saved!\n",
      "/home/elhamod/HGNN/data/INHS_cropped/images/INHS_FISH_47006_aug4.jpg saved!\n",
      "/home/elhamod/HGNN/data/INHS_cropped/images/INHS_FISH_47006_aug5.jpg saved!\n",
      "/home/elhamod/HGNN/data/INHS_cropped/images/INHS_FISH_47006_aug6.jpg saved!\n",
      "/home/elhamod/HGNN/data/INHS_cropped/images/INHS_FISH_47006_aug7.jpg saved!\n",
      "/home/elhamod/HGNN/data/INHS_cropped/images/INHS_FISH_47006_aug8.jpg saved!\n",
      "/home/elhamod/HGNN/data/INHS_cropped/images/INHS_FISH_47006_aug9.jpg saved!\n"
     ]
    },
    {
     "name": "stderr",
     "output_type": "stream",
     "text": [
      "\r",
      " 69% (383 of 550) |###############       | Elapsed Time: 0:07:21 ETA:   0:03:06"
     ]
    },
    {
     "name": "stdout",
     "output_type": "stream",
     "text": [
      "/home/elhamod/HGNN/data/INHS_cropped/images/INHS_FISH_30530_aug0.jpg saved!\n",
      "/home/elhamod/HGNN/data/INHS_cropped/images/INHS_FISH_30530_aug1.jpg saved!\n",
      "/home/elhamod/HGNN/data/INHS_cropped/images/INHS_FISH_30530_aug2.jpg saved!\n",
      "/home/elhamod/HGNN/data/INHS_cropped/images/INHS_FISH_30530_aug3.jpg saved!\n",
      "/home/elhamod/HGNN/data/INHS_cropped/images/INHS_FISH_30530_aug4.jpg saved!\n",
      "/home/elhamod/HGNN/data/INHS_cropped/images/INHS_FISH_30530_aug5.jpg saved!\n",
      "/home/elhamod/HGNN/data/INHS_cropped/images/INHS_FISH_30530_aug6.jpg saved!\n",
      "/home/elhamod/HGNN/data/INHS_cropped/images/INHS_FISH_30530_aug7.jpg saved!\n",
      "/home/elhamod/HGNN/data/INHS_cropped/images/INHS_FISH_30530_aug8.jpg saved!\n",
      "/home/elhamod/HGNN/data/INHS_cropped/images/INHS_FISH_30530_aug9.jpg saved!\n"
     ]
    },
    {
     "name": "stderr",
     "output_type": "stream",
     "text": [
      "\r",
      " 69% (384 of 550) |###############       | Elapsed Time: 0:07:22 ETA:   0:03:05"
     ]
    },
    {
     "name": "stdout",
     "output_type": "stream",
     "text": [
      "/home/elhamod/HGNN/data/INHS_cropped/images/INHS_FISH_26975_aug0.jpg saved!\n",
      "/home/elhamod/HGNN/data/INHS_cropped/images/INHS_FISH_26975_aug1.jpg saved!\n",
      "/home/elhamod/HGNN/data/INHS_cropped/images/INHS_FISH_26975_aug2.jpg saved!\n",
      "/home/elhamod/HGNN/data/INHS_cropped/images/INHS_FISH_26975_aug3.jpg saved!\n",
      "/home/elhamod/HGNN/data/INHS_cropped/images/INHS_FISH_26975_aug4.jpg saved!\n",
      "/home/elhamod/HGNN/data/INHS_cropped/images/INHS_FISH_26975_aug5.jpg saved!\n",
      "/home/elhamod/HGNN/data/INHS_cropped/images/INHS_FISH_26975_aug6.jpg saved!\n",
      "/home/elhamod/HGNN/data/INHS_cropped/images/INHS_FISH_26975_aug7.jpg saved!\n",
      "/home/elhamod/HGNN/data/INHS_cropped/images/INHS_FISH_26975_aug8.jpg saved!\n",
      "/home/elhamod/HGNN/data/INHS_cropped/images/INHS_FISH_26975_aug9.jpg saved!\n"
     ]
    },
    {
     "name": "stderr",
     "output_type": "stream",
     "text": [
      "\r",
      " 70% (385 of 550) |###############       | Elapsed Time: 0:07:23 ETA:   0:03:03"
     ]
    },
    {
     "name": "stdout",
     "output_type": "stream",
     "text": [
      "/home/elhamod/HGNN/data/INHS_cropped/images/INHS_FISH_57607_aug0.jpg saved!\n",
      "/home/elhamod/HGNN/data/INHS_cropped/images/INHS_FISH_57607_aug1.jpg saved!\n",
      "/home/elhamod/HGNN/data/INHS_cropped/images/INHS_FISH_57607_aug2.jpg saved!\n",
      "/home/elhamod/HGNN/data/INHS_cropped/images/INHS_FISH_57607_aug3.jpg saved!\n",
      "/home/elhamod/HGNN/data/INHS_cropped/images/INHS_FISH_57607_aug4.jpg saved!\n",
      "/home/elhamod/HGNN/data/INHS_cropped/images/INHS_FISH_57607_aug5.jpg saved!\n",
      "/home/elhamod/HGNN/data/INHS_cropped/images/INHS_FISH_57607_aug6.jpg saved!\n",
      "/home/elhamod/HGNN/data/INHS_cropped/images/INHS_FISH_57607_aug7.jpg saved!\n",
      "/home/elhamod/HGNN/data/INHS_cropped/images/INHS_FISH_57607_aug8.jpg saved!\n",
      "/home/elhamod/HGNN/data/INHS_cropped/images/INHS_FISH_57607_aug9.jpg saved!\n"
     ]
    },
    {
     "name": "stderr",
     "output_type": "stream",
     "text": [
      "\r",
      " 70% (386 of 550) |###############       | Elapsed Time: 0:07:24 ETA:   0:03:03"
     ]
    },
    {
     "name": "stdout",
     "output_type": "stream",
     "text": [
      "/home/elhamod/HGNN/data/INHS_cropped/images/INHS_FISH_51500_aug0.jpg saved!\n",
      "/home/elhamod/HGNN/data/INHS_cropped/images/INHS_FISH_51500_aug1.jpg saved!\n",
      "/home/elhamod/HGNN/data/INHS_cropped/images/INHS_FISH_51500_aug2.jpg saved!\n",
      "/home/elhamod/HGNN/data/INHS_cropped/images/INHS_FISH_51500_aug3.jpg saved!\n",
      "/home/elhamod/HGNN/data/INHS_cropped/images/INHS_FISH_51500_aug4.jpg saved!\n",
      "/home/elhamod/HGNN/data/INHS_cropped/images/INHS_FISH_51500_aug5.jpg saved!\n",
      "/home/elhamod/HGNN/data/INHS_cropped/images/INHS_FISH_51500_aug6.jpg saved!\n",
      "/home/elhamod/HGNN/data/INHS_cropped/images/INHS_FISH_51500_aug7.jpg saved!\n",
      "/home/elhamod/HGNN/data/INHS_cropped/images/INHS_FISH_51500_aug8.jpg saved!\n",
      "/home/elhamod/HGNN/data/INHS_cropped/images/INHS_FISH_51500_aug9.jpg saved!\n"
     ]
    },
    {
     "name": "stderr",
     "output_type": "stream",
     "text": [
      "\r",
      " 70% (387 of 550) |###############       | Elapsed Time: 0:07:26 ETA:   0:03:02"
     ]
    },
    {
     "name": "stdout",
     "output_type": "stream",
     "text": [
      "/home/elhamod/HGNN/data/INHS_cropped/images/INHS_FISH_38458_aug0.jpg saved!\n",
      "/home/elhamod/HGNN/data/INHS_cropped/images/INHS_FISH_38458_aug1.jpg saved!\n",
      "/home/elhamod/HGNN/data/INHS_cropped/images/INHS_FISH_38458_aug2.jpg saved!\n",
      "/home/elhamod/HGNN/data/INHS_cropped/images/INHS_FISH_38458_aug3.jpg saved!\n",
      "/home/elhamod/HGNN/data/INHS_cropped/images/INHS_FISH_38458_aug4.jpg saved!\n",
      "/home/elhamod/HGNN/data/INHS_cropped/images/INHS_FISH_38458_aug5.jpg saved!\n",
      "/home/elhamod/HGNN/data/INHS_cropped/images/INHS_FISH_38458_aug6.jpg saved!\n",
      "/home/elhamod/HGNN/data/INHS_cropped/images/INHS_FISH_38458_aug7.jpg saved!\n",
      "/home/elhamod/HGNN/data/INHS_cropped/images/INHS_FISH_38458_aug8.jpg saved!\n",
      "/home/elhamod/HGNN/data/INHS_cropped/images/INHS_FISH_38458_aug9.jpg saved!\n"
     ]
    },
    {
     "name": "stderr",
     "output_type": "stream",
     "text": [
      "\r",
      " 70% (388 of 550) |###############       | Elapsed Time: 0:07:27 ETA:   0:03:00"
     ]
    },
    {
     "name": "stdout",
     "output_type": "stream",
     "text": [
      "/home/elhamod/HGNN/data/INHS_cropped/images/INHS_FISH_82727_aug0.jpg saved!\n",
      "/home/elhamod/HGNN/data/INHS_cropped/images/INHS_FISH_82727_aug1.jpg saved!\n",
      "/home/elhamod/HGNN/data/INHS_cropped/images/INHS_FISH_82727_aug2.jpg saved!\n",
      "/home/elhamod/HGNN/data/INHS_cropped/images/INHS_FISH_82727_aug3.jpg saved!\n",
      "/home/elhamod/HGNN/data/INHS_cropped/images/INHS_FISH_82727_aug4.jpg saved!\n",
      "/home/elhamod/HGNN/data/INHS_cropped/images/INHS_FISH_82727_aug5.jpg saved!\n",
      "/home/elhamod/HGNN/data/INHS_cropped/images/INHS_FISH_82727_aug6.jpg saved!\n",
      "/home/elhamod/HGNN/data/INHS_cropped/images/INHS_FISH_82727_aug7.jpg saved!\n",
      "/home/elhamod/HGNN/data/INHS_cropped/images/INHS_FISH_82727_aug8.jpg saved!\n",
      "/home/elhamod/HGNN/data/INHS_cropped/images/INHS_FISH_82727_aug9.jpg saved!\n"
     ]
    },
    {
     "name": "stderr",
     "output_type": "stream",
     "text": [
      "\r",
      " 70% (389 of 550) |###############       | Elapsed Time: 0:07:28 ETA:   0:03:00"
     ]
    },
    {
     "name": "stdout",
     "output_type": "stream",
     "text": [
      "/home/elhamod/HGNN/data/INHS_cropped/images/INHS_FISH_42898_aug0.jpg saved!\n",
      "/home/elhamod/HGNN/data/INHS_cropped/images/INHS_FISH_42898_aug1.jpg saved!\n",
      "/home/elhamod/HGNN/data/INHS_cropped/images/INHS_FISH_42898_aug2.jpg saved!\n",
      "/home/elhamod/HGNN/data/INHS_cropped/images/INHS_FISH_42898_aug3.jpg saved!\n",
      "/home/elhamod/HGNN/data/INHS_cropped/images/INHS_FISH_42898_aug4.jpg saved!\n",
      "/home/elhamod/HGNN/data/INHS_cropped/images/INHS_FISH_42898_aug5.jpg saved!\n",
      "/home/elhamod/HGNN/data/INHS_cropped/images/INHS_FISH_42898_aug6.jpg saved!\n",
      "/home/elhamod/HGNN/data/INHS_cropped/images/INHS_FISH_42898_aug7.jpg saved!\n",
      "/home/elhamod/HGNN/data/INHS_cropped/images/INHS_FISH_42898_aug8.jpg saved!\n",
      "/home/elhamod/HGNN/data/INHS_cropped/images/INHS_FISH_42898_aug9.jpg saved!\n"
     ]
    },
    {
     "name": "stderr",
     "output_type": "stream",
     "text": [
      "\r",
      " 70% (390 of 550) |###############       | Elapsed Time: 0:07:29 ETA:   0:02:59"
     ]
    },
    {
     "name": "stdout",
     "output_type": "stream",
     "text": [
      "/home/elhamod/HGNN/data/INHS_cropped/images/INHS_FISH_31069_aug0.jpg saved!\n",
      "/home/elhamod/HGNN/data/INHS_cropped/images/INHS_FISH_31069_aug1.jpg saved!\n",
      "/home/elhamod/HGNN/data/INHS_cropped/images/INHS_FISH_31069_aug2.jpg saved!\n",
      "/home/elhamod/HGNN/data/INHS_cropped/images/INHS_FISH_31069_aug3.jpg saved!\n",
      "/home/elhamod/HGNN/data/INHS_cropped/images/INHS_FISH_31069_aug4.jpg saved!\n",
      "/home/elhamod/HGNN/data/INHS_cropped/images/INHS_FISH_31069_aug5.jpg saved!\n",
      "/home/elhamod/HGNN/data/INHS_cropped/images/INHS_FISH_31069_aug6.jpg saved!\n",
      "/home/elhamod/HGNN/data/INHS_cropped/images/INHS_FISH_31069_aug7.jpg saved!\n",
      "/home/elhamod/HGNN/data/INHS_cropped/images/INHS_FISH_31069_aug8.jpg saved!\n",
      "/home/elhamod/HGNN/data/INHS_cropped/images/INHS_FISH_31069_aug9.jpg saved!\n"
     ]
    },
    {
     "name": "stderr",
     "output_type": "stream",
     "text": [
      "\r",
      " 71% (391 of 550) |###############       | Elapsed Time: 0:07:30 ETA:   0:03:01"
     ]
    },
    {
     "name": "stdout",
     "output_type": "stream",
     "text": [
      "/home/elhamod/HGNN/data/INHS_cropped/images/INHS_FISH_101143_aug0.jpg saved!\n",
      "/home/elhamod/HGNN/data/INHS_cropped/images/INHS_FISH_101143_aug1.jpg saved!\n",
      "/home/elhamod/HGNN/data/INHS_cropped/images/INHS_FISH_101143_aug2.jpg saved!\n",
      "/home/elhamod/HGNN/data/INHS_cropped/images/INHS_FISH_101143_aug3.jpg saved!\n",
      "/home/elhamod/HGNN/data/INHS_cropped/images/INHS_FISH_101143_aug4.jpg saved!\n",
      "/home/elhamod/HGNN/data/INHS_cropped/images/INHS_FISH_101143_aug5.jpg saved!\n",
      "/home/elhamod/HGNN/data/INHS_cropped/images/INHS_FISH_101143_aug6.jpg saved!\n",
      "/home/elhamod/HGNN/data/INHS_cropped/images/INHS_FISH_101143_aug7.jpg saved!\n",
      "/home/elhamod/HGNN/data/INHS_cropped/images/INHS_FISH_101143_aug8.jpg saved!\n",
      "/home/elhamod/HGNN/data/INHS_cropped/images/INHS_FISH_101143_aug9.jpg saved!\n"
     ]
    },
    {
     "name": "stderr",
     "output_type": "stream",
     "text": [
      "\r",
      " 71% (392 of 550) |###############       | Elapsed Time: 0:07:31 ETA:   0:02:59"
     ]
    },
    {
     "name": "stdout",
     "output_type": "stream",
     "text": [
      "/home/elhamod/HGNN/data/INHS_cropped/images/INHS_FISH_014466_aug0.jpg saved!\n",
      "/home/elhamod/HGNN/data/INHS_cropped/images/INHS_FISH_014466_aug1.jpg saved!\n",
      "/home/elhamod/HGNN/data/INHS_cropped/images/INHS_FISH_014466_aug2.jpg saved!\n",
      "/home/elhamod/HGNN/data/INHS_cropped/images/INHS_FISH_014466_aug3.jpg saved!\n",
      "/home/elhamod/HGNN/data/INHS_cropped/images/INHS_FISH_014466_aug4.jpg saved!\n",
      "/home/elhamod/HGNN/data/INHS_cropped/images/INHS_FISH_014466_aug5.jpg saved!\n",
      "/home/elhamod/HGNN/data/INHS_cropped/images/INHS_FISH_014466_aug6.jpg saved!\n",
      "/home/elhamod/HGNN/data/INHS_cropped/images/INHS_FISH_014466_aug7.jpg saved!\n",
      "/home/elhamod/HGNN/data/INHS_cropped/images/INHS_FISH_014466_aug8.jpg saved!\n",
      "/home/elhamod/HGNN/data/INHS_cropped/images/INHS_FISH_014466_aug9.jpg saved!\n"
     ]
    },
    {
     "name": "stderr",
     "output_type": "stream",
     "text": [
      "\r",
      " 71% (393 of 550) |###############       | Elapsed Time: 0:07:32 ETA:   0:02:55"
     ]
    },
    {
     "name": "stdout",
     "output_type": "stream",
     "text": [
      "/home/elhamod/HGNN/data/INHS_cropped/images/INHS_FISH_6820_aug0.jpg saved!\n",
      "/home/elhamod/HGNN/data/INHS_cropped/images/INHS_FISH_6820_aug1.jpg saved!\n",
      "/home/elhamod/HGNN/data/INHS_cropped/images/INHS_FISH_6820_aug2.jpg saved!\n",
      "/home/elhamod/HGNN/data/INHS_cropped/images/INHS_FISH_6820_aug3.jpg saved!\n",
      "/home/elhamod/HGNN/data/INHS_cropped/images/INHS_FISH_6820_aug4.jpg saved!\n",
      "/home/elhamod/HGNN/data/INHS_cropped/images/INHS_FISH_6820_aug5.jpg saved!\n",
      "/home/elhamod/HGNN/data/INHS_cropped/images/INHS_FISH_6820_aug6.jpg saved!\n",
      "/home/elhamod/HGNN/data/INHS_cropped/images/INHS_FISH_6820_aug7.jpg saved!\n",
      "/home/elhamod/HGNN/data/INHS_cropped/images/INHS_FISH_6820_aug8.jpg saved!\n",
      "/home/elhamod/HGNN/data/INHS_cropped/images/INHS_FISH_6820_aug9.jpg saved!\n"
     ]
    },
    {
     "name": "stderr",
     "output_type": "stream",
     "text": [
      "\r",
      " 71% (394 of 550) |###############       | Elapsed Time: 0:07:33 ETA:   0:02:55"
     ]
    },
    {
     "name": "stdout",
     "output_type": "stream",
     "text": [
      "/home/elhamod/HGNN/data/INHS_cropped/images/INHS_FISH_25498_aug0.jpg saved!\n",
      "/home/elhamod/HGNN/data/INHS_cropped/images/INHS_FISH_25498_aug1.jpg saved!\n",
      "/home/elhamod/HGNN/data/INHS_cropped/images/INHS_FISH_25498_aug2.jpg saved!\n",
      "/home/elhamod/HGNN/data/INHS_cropped/images/INHS_FISH_25498_aug3.jpg saved!\n",
      "/home/elhamod/HGNN/data/INHS_cropped/images/INHS_FISH_25498_aug4.jpg saved!\n",
      "/home/elhamod/HGNN/data/INHS_cropped/images/INHS_FISH_25498_aug5.jpg saved!\n",
      "/home/elhamod/HGNN/data/INHS_cropped/images/INHS_FISH_25498_aug6.jpg saved!\n",
      "/home/elhamod/HGNN/data/INHS_cropped/images/INHS_FISH_25498_aug7.jpg saved!\n",
      "/home/elhamod/HGNN/data/INHS_cropped/images/INHS_FISH_25498_aug8.jpg saved!\n",
      "/home/elhamod/HGNN/data/INHS_cropped/images/INHS_FISH_25498_aug9.jpg saved!\n"
     ]
    },
    {
     "name": "stderr",
     "output_type": "stream",
     "text": [
      "\r",
      " 71% (395 of 550) |###############       | Elapsed Time: 0:07:35 ETA:   0:02:54"
     ]
    },
    {
     "name": "stdout",
     "output_type": "stream",
     "text": [
      "/home/elhamod/HGNN/data/INHS_cropped/images/INHS_FISH_32456_aug0.jpg saved!\n",
      "/home/elhamod/HGNN/data/INHS_cropped/images/INHS_FISH_32456_aug1.jpg saved!\n",
      "/home/elhamod/HGNN/data/INHS_cropped/images/INHS_FISH_32456_aug2.jpg saved!\n",
      "/home/elhamod/HGNN/data/INHS_cropped/images/INHS_FISH_32456_aug3.jpg saved!\n",
      "/home/elhamod/HGNN/data/INHS_cropped/images/INHS_FISH_32456_aug4.jpg saved!\n",
      "/home/elhamod/HGNN/data/INHS_cropped/images/INHS_FISH_32456_aug5.jpg saved!\n",
      "/home/elhamod/HGNN/data/INHS_cropped/images/INHS_FISH_32456_aug6.jpg saved!\n",
      "/home/elhamod/HGNN/data/INHS_cropped/images/INHS_FISH_32456_aug7.jpg saved!\n",
      "/home/elhamod/HGNN/data/INHS_cropped/images/INHS_FISH_32456_aug8.jpg saved!\n",
      "/home/elhamod/HGNN/data/INHS_cropped/images/INHS_FISH_32456_aug9.jpg saved!\n"
     ]
    },
    {
     "name": "stderr",
     "output_type": "stream",
     "text": [
      "\r",
      " 72% (396 of 550) |###############       | Elapsed Time: 0:07:36 ETA:   0:02:52"
     ]
    },
    {
     "name": "stdout",
     "output_type": "stream",
     "text": [
      "/home/elhamod/HGNN/data/INHS_cropped/images/INHS_FISH_000835_aug0.jpg saved!\n",
      "/home/elhamod/HGNN/data/INHS_cropped/images/INHS_FISH_000835_aug1.jpg saved!\n",
      "/home/elhamod/HGNN/data/INHS_cropped/images/INHS_FISH_000835_aug2.jpg saved!\n",
      "/home/elhamod/HGNN/data/INHS_cropped/images/INHS_FISH_000835_aug3.jpg saved!\n",
      "/home/elhamod/HGNN/data/INHS_cropped/images/INHS_FISH_000835_aug4.jpg saved!\n",
      "/home/elhamod/HGNN/data/INHS_cropped/images/INHS_FISH_000835_aug5.jpg saved!\n",
      "/home/elhamod/HGNN/data/INHS_cropped/images/INHS_FISH_000835_aug6.jpg saved!\n",
      "/home/elhamod/HGNN/data/INHS_cropped/images/INHS_FISH_000835_aug7.jpg saved!\n",
      "/home/elhamod/HGNN/data/INHS_cropped/images/INHS_FISH_000835_aug8.jpg saved!\n",
      "/home/elhamod/HGNN/data/INHS_cropped/images/INHS_FISH_000835_aug9.jpg saved!\n"
     ]
    },
    {
     "name": "stderr",
     "output_type": "stream",
     "text": [
      "\r",
      " 72% (397 of 550) |###############       | Elapsed Time: 0:07:37 ETA:   0:02:52"
     ]
    },
    {
     "name": "stdout",
     "output_type": "stream",
     "text": [
      "/home/elhamod/HGNN/data/INHS_cropped/images/INHS_FISH_126_aug0.jpg saved!\n",
      "/home/elhamod/HGNN/data/INHS_cropped/images/INHS_FISH_126_aug1.jpg saved!\n",
      "/home/elhamod/HGNN/data/INHS_cropped/images/INHS_FISH_126_aug2.jpg saved!\n",
      "/home/elhamod/HGNN/data/INHS_cropped/images/INHS_FISH_126_aug3.jpg saved!\n",
      "/home/elhamod/HGNN/data/INHS_cropped/images/INHS_FISH_126_aug4.jpg saved!\n",
      "/home/elhamod/HGNN/data/INHS_cropped/images/INHS_FISH_126_aug5.jpg saved!\n",
      "/home/elhamod/HGNN/data/INHS_cropped/images/INHS_FISH_126_aug6.jpg saved!\n",
      "/home/elhamod/HGNN/data/INHS_cropped/images/INHS_FISH_126_aug7.jpg saved!\n",
      "/home/elhamod/HGNN/data/INHS_cropped/images/INHS_FISH_126_aug8.jpg saved!\n",
      "/home/elhamod/HGNN/data/INHS_cropped/images/INHS_FISH_126_aug9.jpg saved!\n"
     ]
    },
    {
     "name": "stderr",
     "output_type": "stream",
     "text": [
      "\r",
      " 72% (398 of 550) |###############       | Elapsed Time: 0:07:38 ETA:   0:02:50"
     ]
    },
    {
     "name": "stdout",
     "output_type": "stream",
     "text": [
      "/home/elhamod/HGNN/data/INHS_cropped/images/INHS_FISH_98732_aug0.jpg saved!\n",
      "/home/elhamod/HGNN/data/INHS_cropped/images/INHS_FISH_98732_aug1.jpg saved!\n",
      "/home/elhamod/HGNN/data/INHS_cropped/images/INHS_FISH_98732_aug2.jpg saved!\n",
      "/home/elhamod/HGNN/data/INHS_cropped/images/INHS_FISH_98732_aug3.jpg saved!\n",
      "/home/elhamod/HGNN/data/INHS_cropped/images/INHS_FISH_98732_aug4.jpg saved!\n",
      "/home/elhamod/HGNN/data/INHS_cropped/images/INHS_FISH_98732_aug5.jpg saved!\n",
      "/home/elhamod/HGNN/data/INHS_cropped/images/INHS_FISH_98732_aug6.jpg saved!\n",
      "/home/elhamod/HGNN/data/INHS_cropped/images/INHS_FISH_98732_aug7.jpg saved!\n",
      "/home/elhamod/HGNN/data/INHS_cropped/images/INHS_FISH_98732_aug8.jpg saved!\n",
      "/home/elhamod/HGNN/data/INHS_cropped/images/INHS_FISH_98732_aug9.jpg saved!\n"
     ]
    },
    {
     "name": "stderr",
     "output_type": "stream",
     "text": [
      "\r",
      " 72% (399 of 550) |###############       | Elapsed Time: 0:07:39 ETA:   0:02:49"
     ]
    },
    {
     "name": "stdout",
     "output_type": "stream",
     "text": [
      "/home/elhamod/HGNN/data/INHS_cropped/images/INHS_FISH_024978_aug0.jpg saved!\n",
      "/home/elhamod/HGNN/data/INHS_cropped/images/INHS_FISH_024978_aug1.jpg saved!\n",
      "/home/elhamod/HGNN/data/INHS_cropped/images/INHS_FISH_024978_aug2.jpg saved!\n",
      "/home/elhamod/HGNN/data/INHS_cropped/images/INHS_FISH_024978_aug3.jpg saved!\n",
      "/home/elhamod/HGNN/data/INHS_cropped/images/INHS_FISH_024978_aug4.jpg saved!\n",
      "/home/elhamod/HGNN/data/INHS_cropped/images/INHS_FISH_024978_aug5.jpg saved!\n",
      "/home/elhamod/HGNN/data/INHS_cropped/images/INHS_FISH_024978_aug6.jpg saved!\n",
      "/home/elhamod/HGNN/data/INHS_cropped/images/INHS_FISH_024978_aug7.jpg saved!\n",
      "/home/elhamod/HGNN/data/INHS_cropped/images/INHS_FISH_024978_aug8.jpg saved!\n",
      "/home/elhamod/HGNN/data/INHS_cropped/images/INHS_FISH_024978_aug9.jpg saved!\n"
     ]
    },
    {
     "name": "stderr",
     "output_type": "stream",
     "text": [
      "\r",
      " 72% (400 of 550) |################      | Elapsed Time: 0:07:40 ETA:   0:02:48"
     ]
    },
    {
     "name": "stdout",
     "output_type": "stream",
     "text": [
      "/home/elhamod/HGNN/data/INHS_cropped/images/INHS_FISH_27267_aug0.jpg saved!\n",
      "/home/elhamod/HGNN/data/INHS_cropped/images/INHS_FISH_27267_aug1.jpg saved!\n",
      "/home/elhamod/HGNN/data/INHS_cropped/images/INHS_FISH_27267_aug2.jpg saved!\n",
      "/home/elhamod/HGNN/data/INHS_cropped/images/INHS_FISH_27267_aug3.jpg saved!\n",
      "/home/elhamod/HGNN/data/INHS_cropped/images/INHS_FISH_27267_aug4.jpg saved!\n",
      "/home/elhamod/HGNN/data/INHS_cropped/images/INHS_FISH_27267_aug5.jpg saved!\n",
      "/home/elhamod/HGNN/data/INHS_cropped/images/INHS_FISH_27267_aug6.jpg saved!\n",
      "/home/elhamod/HGNN/data/INHS_cropped/images/INHS_FISH_27267_aug7.jpg saved!\n",
      "/home/elhamod/HGNN/data/INHS_cropped/images/INHS_FISH_27267_aug8.jpg saved!\n",
      "/home/elhamod/HGNN/data/INHS_cropped/images/INHS_FISH_27267_aug9.jpg saved!\n"
     ]
    },
    {
     "name": "stderr",
     "output_type": "stream",
     "text": [
      "\r",
      " 72% (401 of 550) |################      | Elapsed Time: 0:07:41 ETA:   0:02:47"
     ]
    },
    {
     "name": "stdout",
     "output_type": "stream",
     "text": [
      "/home/elhamod/HGNN/data/INHS_cropped/images/INHS_FISH_40676_aug0.jpg saved!\n",
      "/home/elhamod/HGNN/data/INHS_cropped/images/INHS_FISH_40676_aug1.jpg saved!\n",
      "/home/elhamod/HGNN/data/INHS_cropped/images/INHS_FISH_40676_aug2.jpg saved!\n",
      "/home/elhamod/HGNN/data/INHS_cropped/images/INHS_FISH_40676_aug3.jpg saved!\n",
      "/home/elhamod/HGNN/data/INHS_cropped/images/INHS_FISH_40676_aug4.jpg saved!\n",
      "/home/elhamod/HGNN/data/INHS_cropped/images/INHS_FISH_40676_aug5.jpg saved!\n",
      "/home/elhamod/HGNN/data/INHS_cropped/images/INHS_FISH_40676_aug6.jpg saved!\n",
      "/home/elhamod/HGNN/data/INHS_cropped/images/INHS_FISH_40676_aug7.jpg saved!\n",
      "/home/elhamod/HGNN/data/INHS_cropped/images/INHS_FISH_40676_aug8.jpg saved!\n",
      "/home/elhamod/HGNN/data/INHS_cropped/images/INHS_FISH_40676_aug9.jpg saved!\n"
     ]
    },
    {
     "name": "stderr",
     "output_type": "stream",
     "text": [
      "\r",
      " 73% (402 of 550) |################      | Elapsed Time: 0:07:42 ETA:   0:02:46"
     ]
    },
    {
     "name": "stdout",
     "output_type": "stream",
     "text": [
      "/home/elhamod/HGNN/data/INHS_cropped/images/INHS_FISH_73804_aug0.jpg saved!\n",
      "/home/elhamod/HGNN/data/INHS_cropped/images/INHS_FISH_73804_aug1.jpg saved!\n",
      "/home/elhamod/HGNN/data/INHS_cropped/images/INHS_FISH_73804_aug2.jpg saved!\n",
      "/home/elhamod/HGNN/data/INHS_cropped/images/INHS_FISH_73804_aug3.jpg saved!\n",
      "/home/elhamod/HGNN/data/INHS_cropped/images/INHS_FISH_73804_aug4.jpg saved!\n",
      "/home/elhamod/HGNN/data/INHS_cropped/images/INHS_FISH_73804_aug5.jpg saved!\n",
      "/home/elhamod/HGNN/data/INHS_cropped/images/INHS_FISH_73804_aug6.jpg saved!\n",
      "/home/elhamod/HGNN/data/INHS_cropped/images/INHS_FISH_73804_aug7.jpg saved!\n",
      "/home/elhamod/HGNN/data/INHS_cropped/images/INHS_FISH_73804_aug8.jpg saved!\n",
      "/home/elhamod/HGNN/data/INHS_cropped/images/INHS_FISH_73804_aug9.jpg saved!\n"
     ]
    },
    {
     "name": "stderr",
     "output_type": "stream",
     "text": [
      "\r",
      " 73% (403 of 550) |################      | Elapsed Time: 0:07:44 ETA:   0:02:45"
     ]
    },
    {
     "name": "stdout",
     "output_type": "stream",
     "text": [
      "/home/elhamod/HGNN/data/INHS_cropped/images/INHS_FISH_6398_aug0.jpg saved!\n",
      "/home/elhamod/HGNN/data/INHS_cropped/images/INHS_FISH_6398_aug1.jpg saved!\n",
      "/home/elhamod/HGNN/data/INHS_cropped/images/INHS_FISH_6398_aug2.jpg saved!\n",
      "/home/elhamod/HGNN/data/INHS_cropped/images/INHS_FISH_6398_aug3.jpg saved!\n",
      "/home/elhamod/HGNN/data/INHS_cropped/images/INHS_FISH_6398_aug4.jpg saved!\n",
      "/home/elhamod/HGNN/data/INHS_cropped/images/INHS_FISH_6398_aug5.jpg saved!\n",
      "/home/elhamod/HGNN/data/INHS_cropped/images/INHS_FISH_6398_aug6.jpg saved!\n",
      "/home/elhamod/HGNN/data/INHS_cropped/images/INHS_FISH_6398_aug7.jpg saved!\n",
      "/home/elhamod/HGNN/data/INHS_cropped/images/INHS_FISH_6398_aug8.jpg saved!\n",
      "/home/elhamod/HGNN/data/INHS_cropped/images/INHS_FISH_6398_aug9.jpg saved!\n"
     ]
    },
    {
     "name": "stderr",
     "output_type": "stream",
     "text": [
      "\r",
      " 73% (404 of 550) |################      | Elapsed Time: 0:07:45 ETA:   0:02:43"
     ]
    },
    {
     "name": "stdout",
     "output_type": "stream",
     "text": [
      "/home/elhamod/HGNN/data/INHS_cropped/images/INHS_FISH_38018_aug0.jpg saved!\n",
      "/home/elhamod/HGNN/data/INHS_cropped/images/INHS_FISH_38018_aug1.jpg saved!\n",
      "/home/elhamod/HGNN/data/INHS_cropped/images/INHS_FISH_38018_aug2.jpg saved!\n",
      "/home/elhamod/HGNN/data/INHS_cropped/images/INHS_FISH_38018_aug3.jpg saved!\n",
      "/home/elhamod/HGNN/data/INHS_cropped/images/INHS_FISH_38018_aug4.jpg saved!\n",
      "/home/elhamod/HGNN/data/INHS_cropped/images/INHS_FISH_38018_aug5.jpg saved!\n",
      "/home/elhamod/HGNN/data/INHS_cropped/images/INHS_FISH_38018_aug6.jpg saved!\n",
      "/home/elhamod/HGNN/data/INHS_cropped/images/INHS_FISH_38018_aug7.jpg saved!\n",
      "/home/elhamod/HGNN/data/INHS_cropped/images/INHS_FISH_38018_aug8.jpg saved!\n",
      "/home/elhamod/HGNN/data/INHS_cropped/images/INHS_FISH_38018_aug9.jpg saved!\n"
     ]
    },
    {
     "name": "stderr",
     "output_type": "stream",
     "text": [
      "\r",
      " 73% (405 of 550) |################      | Elapsed Time: 0:07:46 ETA:   0:02:47"
     ]
    },
    {
     "name": "stdout",
     "output_type": "stream",
     "text": [
      "/home/elhamod/HGNN/data/INHS_cropped/images/INHS_FISH_95122_aug0.jpg saved!\n",
      "/home/elhamod/HGNN/data/INHS_cropped/images/INHS_FISH_95122_aug1.jpg saved!\n",
      "/home/elhamod/HGNN/data/INHS_cropped/images/INHS_FISH_95122_aug2.jpg saved!\n",
      "/home/elhamod/HGNN/data/INHS_cropped/images/INHS_FISH_95122_aug3.jpg saved!\n",
      "/home/elhamod/HGNN/data/INHS_cropped/images/INHS_FISH_95122_aug4.jpg saved!\n",
      "/home/elhamod/HGNN/data/INHS_cropped/images/INHS_FISH_95122_aug5.jpg saved!\n",
      "/home/elhamod/HGNN/data/INHS_cropped/images/INHS_FISH_95122_aug6.jpg saved!\n",
      "/home/elhamod/HGNN/data/INHS_cropped/images/INHS_FISH_95122_aug7.jpg saved!\n",
      "/home/elhamod/HGNN/data/INHS_cropped/images/INHS_FISH_95122_aug8.jpg saved!\n",
      "/home/elhamod/HGNN/data/INHS_cropped/images/INHS_FISH_95122_aug9.jpg saved!\n"
     ]
    },
    {
     "name": "stderr",
     "output_type": "stream",
     "text": [
      "\r",
      " 73% (406 of 550) |################      | Elapsed Time: 0:07:47 ETA:   0:02:47"
     ]
    },
    {
     "name": "stdout",
     "output_type": "stream",
     "text": [
      "/home/elhamod/HGNN/data/INHS_cropped/images/INHS_FISH_38979_aug0.jpg saved!\n",
      "/home/elhamod/HGNN/data/INHS_cropped/images/INHS_FISH_38979_aug1.jpg saved!\n",
      "/home/elhamod/HGNN/data/INHS_cropped/images/INHS_FISH_38979_aug2.jpg saved!\n",
      "/home/elhamod/HGNN/data/INHS_cropped/images/INHS_FISH_38979_aug3.jpg saved!\n",
      "/home/elhamod/HGNN/data/INHS_cropped/images/INHS_FISH_38979_aug4.jpg saved!\n",
      "/home/elhamod/HGNN/data/INHS_cropped/images/INHS_FISH_38979_aug5.jpg saved!\n",
      "/home/elhamod/HGNN/data/INHS_cropped/images/INHS_FISH_38979_aug6.jpg saved!\n",
      "/home/elhamod/HGNN/data/INHS_cropped/images/INHS_FISH_38979_aug7.jpg saved!\n",
      "/home/elhamod/HGNN/data/INHS_cropped/images/INHS_FISH_38979_aug8.jpg saved!\n",
      "/home/elhamod/HGNN/data/INHS_cropped/images/INHS_FISH_38979_aug9.jpg saved!\n"
     ]
    },
    {
     "name": "stderr",
     "output_type": "stream",
     "text": [
      "\r",
      " 74% (407 of 550) |################      | Elapsed Time: 0:07:48 ETA:   0:02:41"
     ]
    },
    {
     "name": "stdout",
     "output_type": "stream",
     "text": [
      "/home/elhamod/HGNN/data/INHS_cropped/images/INHS_FISH_64079_aug0.jpg saved!\n",
      "/home/elhamod/HGNN/data/INHS_cropped/images/INHS_FISH_64079_aug1.jpg saved!\n",
      "/home/elhamod/HGNN/data/INHS_cropped/images/INHS_FISH_64079_aug2.jpg saved!\n",
      "/home/elhamod/HGNN/data/INHS_cropped/images/INHS_FISH_64079_aug3.jpg saved!\n",
      "/home/elhamod/HGNN/data/INHS_cropped/images/INHS_FISH_64079_aug4.jpg saved!\n",
      "/home/elhamod/HGNN/data/INHS_cropped/images/INHS_FISH_64079_aug5.jpg saved!\n",
      "/home/elhamod/HGNN/data/INHS_cropped/images/INHS_FISH_64079_aug6.jpg saved!\n",
      "/home/elhamod/HGNN/data/INHS_cropped/images/INHS_FISH_64079_aug7.jpg saved!\n",
      "/home/elhamod/HGNN/data/INHS_cropped/images/INHS_FISH_64079_aug8.jpg saved!\n",
      "/home/elhamod/HGNN/data/INHS_cropped/images/INHS_FISH_64079_aug9.jpg saved!\n"
     ]
    },
    {
     "name": "stderr",
     "output_type": "stream",
     "text": [
      "\r",
      " 74% (408 of 550) |################      | Elapsed Time: 0:07:49 ETA:   0:02:42"
     ]
    },
    {
     "name": "stdout",
     "output_type": "stream",
     "text": [
      "/home/elhamod/HGNN/data/INHS_cropped/images/INHS_FISH_23986_aug0.jpg saved!\n",
      "/home/elhamod/HGNN/data/INHS_cropped/images/INHS_FISH_23986_aug1.jpg saved!\n",
      "/home/elhamod/HGNN/data/INHS_cropped/images/INHS_FISH_23986_aug2.jpg saved!\n",
      "/home/elhamod/HGNN/data/INHS_cropped/images/INHS_FISH_23986_aug3.jpg saved!\n",
      "/home/elhamod/HGNN/data/INHS_cropped/images/INHS_FISH_23986_aug4.jpg saved!\n",
      "/home/elhamod/HGNN/data/INHS_cropped/images/INHS_FISH_23986_aug5.jpg saved!\n",
      "/home/elhamod/HGNN/data/INHS_cropped/images/INHS_FISH_23986_aug6.jpg saved!\n",
      "/home/elhamod/HGNN/data/INHS_cropped/images/INHS_FISH_23986_aug7.jpg saved!\n",
      "/home/elhamod/HGNN/data/INHS_cropped/images/INHS_FISH_23986_aug8.jpg saved!\n",
      "/home/elhamod/HGNN/data/INHS_cropped/images/INHS_FISH_23986_aug9.jpg saved!\n"
     ]
    },
    {
     "name": "stderr",
     "output_type": "stream",
     "text": [
      "\r",
      " 74% (409 of 550) |################      | Elapsed Time: 0:07:50 ETA:   0:02:42"
     ]
    },
    {
     "name": "stdout",
     "output_type": "stream",
     "text": [
      "/home/elhamod/HGNN/data/INHS_cropped/images/INHS_FISH_92074_aug0.jpg saved!\n",
      "/home/elhamod/HGNN/data/INHS_cropped/images/INHS_FISH_92074_aug1.jpg saved!\n",
      "/home/elhamod/HGNN/data/INHS_cropped/images/INHS_FISH_92074_aug2.jpg saved!\n",
      "/home/elhamod/HGNN/data/INHS_cropped/images/INHS_FISH_92074_aug3.jpg saved!\n",
      "/home/elhamod/HGNN/data/INHS_cropped/images/INHS_FISH_92074_aug4.jpg saved!\n",
      "/home/elhamod/HGNN/data/INHS_cropped/images/INHS_FISH_92074_aug5.jpg saved!\n",
      "/home/elhamod/HGNN/data/INHS_cropped/images/INHS_FISH_92074_aug6.jpg saved!\n",
      "/home/elhamod/HGNN/data/INHS_cropped/images/INHS_FISH_92074_aug7.jpg saved!\n",
      "/home/elhamod/HGNN/data/INHS_cropped/images/INHS_FISH_92074_aug8.jpg saved!\n",
      "/home/elhamod/HGNN/data/INHS_cropped/images/INHS_FISH_92074_aug9.jpg saved!\n"
     ]
    },
    {
     "name": "stderr",
     "output_type": "stream",
     "text": [
      "\r",
      " 74% (410 of 550) |################      | Elapsed Time: 0:07:52 ETA:   0:02:39"
     ]
    },
    {
     "name": "stdout",
     "output_type": "stream",
     "text": [
      "/home/elhamod/HGNN/data/INHS_cropped/images/INHS_FISH_87589_aug0.jpg saved!\n",
      "/home/elhamod/HGNN/data/INHS_cropped/images/INHS_FISH_87589_aug1.jpg saved!\n",
      "/home/elhamod/HGNN/data/INHS_cropped/images/INHS_FISH_87589_aug2.jpg saved!\n",
      "/home/elhamod/HGNN/data/INHS_cropped/images/INHS_FISH_87589_aug3.jpg saved!\n",
      "/home/elhamod/HGNN/data/INHS_cropped/images/INHS_FISH_87589_aug4.jpg saved!\n",
      "/home/elhamod/HGNN/data/INHS_cropped/images/INHS_FISH_87589_aug5.jpg saved!\n",
      "/home/elhamod/HGNN/data/INHS_cropped/images/INHS_FISH_87589_aug6.jpg saved!\n",
      "/home/elhamod/HGNN/data/INHS_cropped/images/INHS_FISH_87589_aug7.jpg saved!\n",
      "/home/elhamod/HGNN/data/INHS_cropped/images/INHS_FISH_87589_aug8.jpg saved!\n",
      "/home/elhamod/HGNN/data/INHS_cropped/images/INHS_FISH_87589_aug9.jpg saved!\n"
     ]
    },
    {
     "name": "stderr",
     "output_type": "stream",
     "text": [
      "\r",
      " 74% (411 of 550) |################      | Elapsed Time: 0:07:53 ETA:   0:02:36"
     ]
    },
    {
     "name": "stdout",
     "output_type": "stream",
     "text": [
      "/home/elhamod/HGNN/data/INHS_cropped/images/INHS_FISH_10646_aug0.jpg saved!\n",
      "/home/elhamod/HGNN/data/INHS_cropped/images/INHS_FISH_10646_aug1.jpg saved!\n",
      "/home/elhamod/HGNN/data/INHS_cropped/images/INHS_FISH_10646_aug2.jpg saved!\n",
      "/home/elhamod/HGNN/data/INHS_cropped/images/INHS_FISH_10646_aug3.jpg saved!\n",
      "/home/elhamod/HGNN/data/INHS_cropped/images/INHS_FISH_10646_aug4.jpg saved!\n",
      "/home/elhamod/HGNN/data/INHS_cropped/images/INHS_FISH_10646_aug5.jpg saved!\n",
      "/home/elhamod/HGNN/data/INHS_cropped/images/INHS_FISH_10646_aug6.jpg saved!\n",
      "/home/elhamod/HGNN/data/INHS_cropped/images/INHS_FISH_10646_aug7.jpg saved!\n",
      "/home/elhamod/HGNN/data/INHS_cropped/images/INHS_FISH_10646_aug8.jpg saved!\n",
      "/home/elhamod/HGNN/data/INHS_cropped/images/INHS_FISH_10646_aug9.jpg saved!\n"
     ]
    },
    {
     "name": "stderr",
     "output_type": "stream",
     "text": [
      "\r",
      " 74% (412 of 550) |################      | Elapsed Time: 0:07:54 ETA:   0:02:33"
     ]
    },
    {
     "name": "stdout",
     "output_type": "stream",
     "text": [
      "/home/elhamod/HGNN/data/INHS_cropped/images/INHS_FISH_102495_aug0.jpg saved!\n",
      "/home/elhamod/HGNN/data/INHS_cropped/images/INHS_FISH_102495_aug1.jpg saved!\n",
      "/home/elhamod/HGNN/data/INHS_cropped/images/INHS_FISH_102495_aug2.jpg saved!\n",
      "/home/elhamod/HGNN/data/INHS_cropped/images/INHS_FISH_102495_aug3.jpg saved!\n",
      "/home/elhamod/HGNN/data/INHS_cropped/images/INHS_FISH_102495_aug4.jpg saved!\n",
      "/home/elhamod/HGNN/data/INHS_cropped/images/INHS_FISH_102495_aug5.jpg saved!\n",
      "/home/elhamod/HGNN/data/INHS_cropped/images/INHS_FISH_102495_aug6.jpg saved!\n",
      "/home/elhamod/HGNN/data/INHS_cropped/images/INHS_FISH_102495_aug7.jpg saved!\n",
      "/home/elhamod/HGNN/data/INHS_cropped/images/INHS_FISH_102495_aug8.jpg saved!\n",
      "/home/elhamod/HGNN/data/INHS_cropped/images/INHS_FISH_102495_aug9.jpg saved!\n"
     ]
    },
    {
     "name": "stderr",
     "output_type": "stream",
     "text": [
      "\r",
      " 75% (413 of 550) |################      | Elapsed Time: 0:07:55 ETA:   0:02:32"
     ]
    },
    {
     "name": "stdout",
     "output_type": "stream",
     "text": [
      "/home/elhamod/HGNN/data/INHS_cropped/images/INHS_FISH_57055_aug0.jpg saved!\n",
      "/home/elhamod/HGNN/data/INHS_cropped/images/INHS_FISH_57055_aug1.jpg saved!\n",
      "/home/elhamod/HGNN/data/INHS_cropped/images/INHS_FISH_57055_aug2.jpg saved!\n",
      "/home/elhamod/HGNN/data/INHS_cropped/images/INHS_FISH_57055_aug3.jpg saved!\n",
      "/home/elhamod/HGNN/data/INHS_cropped/images/INHS_FISH_57055_aug4.jpg saved!\n",
      "/home/elhamod/HGNN/data/INHS_cropped/images/INHS_FISH_57055_aug5.jpg saved!\n",
      "/home/elhamod/HGNN/data/INHS_cropped/images/INHS_FISH_57055_aug6.jpg saved!\n",
      "/home/elhamod/HGNN/data/INHS_cropped/images/INHS_FISH_57055_aug7.jpg saved!\n",
      "/home/elhamod/HGNN/data/INHS_cropped/images/INHS_FISH_57055_aug8.jpg saved!\n",
      "/home/elhamod/HGNN/data/INHS_cropped/images/INHS_FISH_57055_aug9.jpg saved!\n"
     ]
    },
    {
     "name": "stderr",
     "output_type": "stream",
     "text": [
      "\r",
      " 75% (414 of 550) |################      | Elapsed Time: 0:07:56 ETA:   0:02:32"
     ]
    },
    {
     "name": "stdout",
     "output_type": "stream",
     "text": [
      "/home/elhamod/HGNN/data/INHS_cropped/images/INHS_FISH_46291_aug0.jpg saved!\n",
      "/home/elhamod/HGNN/data/INHS_cropped/images/INHS_FISH_46291_aug1.jpg saved!\n",
      "/home/elhamod/HGNN/data/INHS_cropped/images/INHS_FISH_46291_aug2.jpg saved!\n",
      "/home/elhamod/HGNN/data/INHS_cropped/images/INHS_FISH_46291_aug3.jpg saved!\n",
      "/home/elhamod/HGNN/data/INHS_cropped/images/INHS_FISH_46291_aug4.jpg saved!\n",
      "/home/elhamod/HGNN/data/INHS_cropped/images/INHS_FISH_46291_aug5.jpg saved!\n",
      "/home/elhamod/HGNN/data/INHS_cropped/images/INHS_FISH_46291_aug6.jpg saved!\n",
      "/home/elhamod/HGNN/data/INHS_cropped/images/INHS_FISH_46291_aug7.jpg saved!\n",
      "/home/elhamod/HGNN/data/INHS_cropped/images/INHS_FISH_46291_aug8.jpg saved!\n",
      "/home/elhamod/HGNN/data/INHS_cropped/images/INHS_FISH_46291_aug9.jpg saved!\n"
     ]
    },
    {
     "name": "stderr",
     "output_type": "stream",
     "text": [
      "\r",
      " 75% (415 of 550) |################      | Elapsed Time: 0:07:57 ETA:   0:02:32"
     ]
    },
    {
     "name": "stdout",
     "output_type": "stream",
     "text": [
      "/home/elhamod/HGNN/data/INHS_cropped/images/INHS_FISH_6183_aug0.jpg saved!\n",
      "/home/elhamod/HGNN/data/INHS_cropped/images/INHS_FISH_6183_aug1.jpg saved!\n",
      "/home/elhamod/HGNN/data/INHS_cropped/images/INHS_FISH_6183_aug2.jpg saved!\n",
      "/home/elhamod/HGNN/data/INHS_cropped/images/INHS_FISH_6183_aug3.jpg saved!\n",
      "/home/elhamod/HGNN/data/INHS_cropped/images/INHS_FISH_6183_aug4.jpg saved!\n",
      "/home/elhamod/HGNN/data/INHS_cropped/images/INHS_FISH_6183_aug5.jpg saved!\n",
      "/home/elhamod/HGNN/data/INHS_cropped/images/INHS_FISH_6183_aug6.jpg saved!\n",
      "/home/elhamod/HGNN/data/INHS_cropped/images/INHS_FISH_6183_aug7.jpg saved!\n",
      "/home/elhamod/HGNN/data/INHS_cropped/images/INHS_FISH_6183_aug8.jpg saved!\n",
      "/home/elhamod/HGNN/data/INHS_cropped/images/INHS_FISH_6183_aug9.jpg saved!\n"
     ]
    },
    {
     "name": "stderr",
     "output_type": "stream",
     "text": [
      "\r",
      " 75% (416 of 550) |################      | Elapsed Time: 0:07:58 ETA:   0:02:32"
     ]
    },
    {
     "name": "stdout",
     "output_type": "stream",
     "text": [
      "/home/elhamod/HGNN/data/INHS_cropped/images/INHS_FISH_108310_aug0.jpg saved!\n",
      "/home/elhamod/HGNN/data/INHS_cropped/images/INHS_FISH_108310_aug1.jpg saved!\n",
      "/home/elhamod/HGNN/data/INHS_cropped/images/INHS_FISH_108310_aug2.jpg saved!\n",
      "/home/elhamod/HGNN/data/INHS_cropped/images/INHS_FISH_108310_aug3.jpg saved!\n",
      "/home/elhamod/HGNN/data/INHS_cropped/images/INHS_FISH_108310_aug4.jpg saved!\n",
      "/home/elhamod/HGNN/data/INHS_cropped/images/INHS_FISH_108310_aug5.jpg saved!\n",
      "/home/elhamod/HGNN/data/INHS_cropped/images/INHS_FISH_108310_aug6.jpg saved!\n",
      "/home/elhamod/HGNN/data/INHS_cropped/images/INHS_FISH_108310_aug7.jpg saved!\n",
      "/home/elhamod/HGNN/data/INHS_cropped/images/INHS_FISH_108310_aug8.jpg saved!\n",
      "/home/elhamod/HGNN/data/INHS_cropped/images/INHS_FISH_108310_aug9.jpg saved!\n"
     ]
    },
    {
     "name": "stderr",
     "output_type": "stream",
     "text": [
      "\r",
      " 75% (417 of 550) |################      | Elapsed Time: 0:07:59 ETA:   0:02:30"
     ]
    },
    {
     "name": "stdout",
     "output_type": "stream",
     "text": [
      "/home/elhamod/HGNN/data/INHS_cropped/images/INHS_FISH_429_aug0.jpg saved!\n",
      "/home/elhamod/HGNN/data/INHS_cropped/images/INHS_FISH_429_aug1.jpg saved!\n",
      "/home/elhamod/HGNN/data/INHS_cropped/images/INHS_FISH_429_aug2.jpg saved!\n",
      "/home/elhamod/HGNN/data/INHS_cropped/images/INHS_FISH_429_aug3.jpg saved!\n",
      "/home/elhamod/HGNN/data/INHS_cropped/images/INHS_FISH_429_aug4.jpg saved!\n",
      "/home/elhamod/HGNN/data/INHS_cropped/images/INHS_FISH_429_aug5.jpg saved!\n",
      "/home/elhamod/HGNN/data/INHS_cropped/images/INHS_FISH_429_aug6.jpg saved!\n",
      "/home/elhamod/HGNN/data/INHS_cropped/images/INHS_FISH_429_aug7.jpg saved!\n",
      "/home/elhamod/HGNN/data/INHS_cropped/images/INHS_FISH_429_aug8.jpg saved!\n",
      "/home/elhamod/HGNN/data/INHS_cropped/images/INHS_FISH_429_aug9.jpg saved!\n"
     ]
    },
    {
     "name": "stderr",
     "output_type": "stream",
     "text": [
      "\r",
      " 76% (418 of 550) |################      | Elapsed Time: 0:08:01 ETA:   0:02:28"
     ]
    },
    {
     "name": "stdout",
     "output_type": "stream",
     "text": [
      "/home/elhamod/HGNN/data/INHS_cropped/images/INHS_FISH_102103_aug0.jpg saved!\n",
      "/home/elhamod/HGNN/data/INHS_cropped/images/INHS_FISH_102103_aug1.jpg saved!\n",
      "/home/elhamod/HGNN/data/INHS_cropped/images/INHS_FISH_102103_aug2.jpg saved!\n",
      "/home/elhamod/HGNN/data/INHS_cropped/images/INHS_FISH_102103_aug3.jpg saved!\n",
      "/home/elhamod/HGNN/data/INHS_cropped/images/INHS_FISH_102103_aug4.jpg saved!\n",
      "/home/elhamod/HGNN/data/INHS_cropped/images/INHS_FISH_102103_aug5.jpg saved!\n",
      "/home/elhamod/HGNN/data/INHS_cropped/images/INHS_FISH_102103_aug6.jpg saved!\n",
      "/home/elhamod/HGNN/data/INHS_cropped/images/INHS_FISH_102103_aug7.jpg saved!\n",
      "/home/elhamod/HGNN/data/INHS_cropped/images/INHS_FISH_102103_aug8.jpg saved!\n",
      "/home/elhamod/HGNN/data/INHS_cropped/images/INHS_FISH_102103_aug9.jpg saved!\n"
     ]
    },
    {
     "name": "stderr",
     "output_type": "stream",
     "text": [
      "\r",
      " 76% (419 of 550) |################      | Elapsed Time: 0:08:02 ETA:   0:02:27"
     ]
    },
    {
     "name": "stdout",
     "output_type": "stream",
     "text": [
      "/home/elhamod/HGNN/data/INHS_cropped/images/INHS_FISH_4051_aug0.jpg saved!\n",
      "/home/elhamod/HGNN/data/INHS_cropped/images/INHS_FISH_4051_aug1.jpg saved!\n",
      "/home/elhamod/HGNN/data/INHS_cropped/images/INHS_FISH_4051_aug2.jpg saved!\n",
      "/home/elhamod/HGNN/data/INHS_cropped/images/INHS_FISH_4051_aug3.jpg saved!\n",
      "/home/elhamod/HGNN/data/INHS_cropped/images/INHS_FISH_4051_aug4.jpg saved!\n",
      "/home/elhamod/HGNN/data/INHS_cropped/images/INHS_FISH_4051_aug5.jpg saved!\n",
      "/home/elhamod/HGNN/data/INHS_cropped/images/INHS_FISH_4051_aug6.jpg saved!\n",
      "/home/elhamod/HGNN/data/INHS_cropped/images/INHS_FISH_4051_aug7.jpg saved!\n",
      "/home/elhamod/HGNN/data/INHS_cropped/images/INHS_FISH_4051_aug8.jpg saved!\n",
      "/home/elhamod/HGNN/data/INHS_cropped/images/INHS_FISH_4051_aug9.jpg saved!\n"
     ]
    },
    {
     "name": "stderr",
     "output_type": "stream",
     "text": [
      "\r",
      " 76% (420 of 550) |################      | Elapsed Time: 0:08:03 ETA:   0:02:25"
     ]
    },
    {
     "name": "stdout",
     "output_type": "stream",
     "text": [
      "/home/elhamod/HGNN/data/INHS_cropped/images/INHS_FISH_7761_aug0.jpg saved!\n",
      "/home/elhamod/HGNN/data/INHS_cropped/images/INHS_FISH_7761_aug1.jpg saved!\n",
      "/home/elhamod/HGNN/data/INHS_cropped/images/INHS_FISH_7761_aug2.jpg saved!\n",
      "/home/elhamod/HGNN/data/INHS_cropped/images/INHS_FISH_7761_aug3.jpg saved!\n",
      "/home/elhamod/HGNN/data/INHS_cropped/images/INHS_FISH_7761_aug4.jpg saved!\n",
      "/home/elhamod/HGNN/data/INHS_cropped/images/INHS_FISH_7761_aug5.jpg saved!\n",
      "/home/elhamod/HGNN/data/INHS_cropped/images/INHS_FISH_7761_aug6.jpg saved!\n",
      "/home/elhamod/HGNN/data/INHS_cropped/images/INHS_FISH_7761_aug7.jpg saved!\n",
      "/home/elhamod/HGNN/data/INHS_cropped/images/INHS_FISH_7761_aug8.jpg saved!\n",
      "/home/elhamod/HGNN/data/INHS_cropped/images/INHS_FISH_7761_aug9.jpg saved!\n"
     ]
    },
    {
     "name": "stderr",
     "output_type": "stream",
     "text": [
      "\r",
      " 76% (421 of 550) |################      | Elapsed Time: 0:08:04 ETA:   0:02:24"
     ]
    },
    {
     "name": "stdout",
     "output_type": "stream",
     "text": [
      "/home/elhamod/HGNN/data/INHS_cropped/images/INHS_FISH_29612_aug0.jpg saved!\n",
      "/home/elhamod/HGNN/data/INHS_cropped/images/INHS_FISH_29612_aug1.jpg saved!\n",
      "/home/elhamod/HGNN/data/INHS_cropped/images/INHS_FISH_29612_aug2.jpg saved!\n",
      "/home/elhamod/HGNN/data/INHS_cropped/images/INHS_FISH_29612_aug3.jpg saved!\n",
      "/home/elhamod/HGNN/data/INHS_cropped/images/INHS_FISH_29612_aug4.jpg saved!\n",
      "/home/elhamod/HGNN/data/INHS_cropped/images/INHS_FISH_29612_aug5.jpg saved!\n",
      "/home/elhamod/HGNN/data/INHS_cropped/images/INHS_FISH_29612_aug6.jpg saved!\n",
      "/home/elhamod/HGNN/data/INHS_cropped/images/INHS_FISH_29612_aug7.jpg saved!\n",
      "/home/elhamod/HGNN/data/INHS_cropped/images/INHS_FISH_29612_aug8.jpg saved!\n",
      "/home/elhamod/HGNN/data/INHS_cropped/images/INHS_FISH_29612_aug9.jpg saved!\n"
     ]
    },
    {
     "name": "stderr",
     "output_type": "stream",
     "text": [
      "\r",
      " 76% (422 of 550) |################      | Elapsed Time: 0:08:05 ETA:   0:02:22"
     ]
    },
    {
     "name": "stdout",
     "output_type": "stream",
     "text": [
      "/home/elhamod/HGNN/data/INHS_cropped/images/INHS_FISH_26337_aug0.jpg saved!\n",
      "/home/elhamod/HGNN/data/INHS_cropped/images/INHS_FISH_26337_aug1.jpg saved!\n",
      "/home/elhamod/HGNN/data/INHS_cropped/images/INHS_FISH_26337_aug2.jpg saved!\n",
      "/home/elhamod/HGNN/data/INHS_cropped/images/INHS_FISH_26337_aug3.jpg saved!\n",
      "/home/elhamod/HGNN/data/INHS_cropped/images/INHS_FISH_26337_aug4.jpg saved!\n",
      "/home/elhamod/HGNN/data/INHS_cropped/images/INHS_FISH_26337_aug5.jpg saved!\n",
      "/home/elhamod/HGNN/data/INHS_cropped/images/INHS_FISH_26337_aug6.jpg saved!\n",
      "/home/elhamod/HGNN/data/INHS_cropped/images/INHS_FISH_26337_aug7.jpg saved!\n",
      "/home/elhamod/HGNN/data/INHS_cropped/images/INHS_FISH_26337_aug8.jpg saved!\n",
      "/home/elhamod/HGNN/data/INHS_cropped/images/INHS_FISH_26337_aug9.jpg saved!\n"
     ]
    },
    {
     "name": "stderr",
     "output_type": "stream",
     "text": [
      "\r",
      " 76% (423 of 550) |################      | Elapsed Time: 0:08:06 ETA:   0:02:21"
     ]
    },
    {
     "name": "stdout",
     "output_type": "stream",
     "text": [
      "/home/elhamod/HGNN/data/INHS_cropped/images/INHS_FISH_61785_aug0.jpg saved!\n",
      "/home/elhamod/HGNN/data/INHS_cropped/images/INHS_FISH_61785_aug1.jpg saved!\n",
      "/home/elhamod/HGNN/data/INHS_cropped/images/INHS_FISH_61785_aug2.jpg saved!\n",
      "/home/elhamod/HGNN/data/INHS_cropped/images/INHS_FISH_61785_aug3.jpg saved!\n",
      "/home/elhamod/HGNN/data/INHS_cropped/images/INHS_FISH_61785_aug4.jpg saved!\n",
      "/home/elhamod/HGNN/data/INHS_cropped/images/INHS_FISH_61785_aug5.jpg saved!\n",
      "/home/elhamod/HGNN/data/INHS_cropped/images/INHS_FISH_61785_aug6.jpg saved!\n",
      "/home/elhamod/HGNN/data/INHS_cropped/images/INHS_FISH_61785_aug7.jpg saved!\n",
      "/home/elhamod/HGNN/data/INHS_cropped/images/INHS_FISH_61785_aug8.jpg saved!\n",
      "/home/elhamod/HGNN/data/INHS_cropped/images/INHS_FISH_61785_aug9.jpg saved!\n"
     ]
    },
    {
     "name": "stderr",
     "output_type": "stream",
     "text": [
      "\r",
      " 77% (424 of 550) |################      | Elapsed Time: 0:08:07 ETA:   0:02:19"
     ]
    },
    {
     "name": "stdout",
     "output_type": "stream",
     "text": [
      "/home/elhamod/HGNN/data/INHS_cropped/images/INHS_FISH_83522_aug0.jpg saved!\n",
      "/home/elhamod/HGNN/data/INHS_cropped/images/INHS_FISH_83522_aug1.jpg saved!\n",
      "/home/elhamod/HGNN/data/INHS_cropped/images/INHS_FISH_83522_aug2.jpg saved!\n",
      "/home/elhamod/HGNN/data/INHS_cropped/images/INHS_FISH_83522_aug3.jpg saved!\n",
      "/home/elhamod/HGNN/data/INHS_cropped/images/INHS_FISH_83522_aug4.jpg saved!\n",
      "/home/elhamod/HGNN/data/INHS_cropped/images/INHS_FISH_83522_aug5.jpg saved!\n",
      "/home/elhamod/HGNN/data/INHS_cropped/images/INHS_FISH_83522_aug6.jpg saved!\n",
      "/home/elhamod/HGNN/data/INHS_cropped/images/INHS_FISH_83522_aug7.jpg saved!\n",
      "/home/elhamod/HGNN/data/INHS_cropped/images/INHS_FISH_83522_aug8.jpg saved!\n",
      "/home/elhamod/HGNN/data/INHS_cropped/images/INHS_FISH_83522_aug9.jpg saved!\n"
     ]
    },
    {
     "name": "stderr",
     "output_type": "stream",
     "text": [
      "\r",
      " 77% (425 of 550) |#################     | Elapsed Time: 0:08:08 ETA:   0:02:18"
     ]
    },
    {
     "name": "stdout",
     "output_type": "stream",
     "text": [
      "/home/elhamod/HGNN/data/INHS_cropped/images/INHS_FISH_58981_aug0.jpg saved!\n",
      "/home/elhamod/HGNN/data/INHS_cropped/images/INHS_FISH_58981_aug1.jpg saved!\n",
      "/home/elhamod/HGNN/data/INHS_cropped/images/INHS_FISH_58981_aug2.jpg saved!\n",
      "/home/elhamod/HGNN/data/INHS_cropped/images/INHS_FISH_58981_aug3.jpg saved!\n",
      "/home/elhamod/HGNN/data/INHS_cropped/images/INHS_FISH_58981_aug4.jpg saved!\n",
      "/home/elhamod/HGNN/data/INHS_cropped/images/INHS_FISH_58981_aug5.jpg saved!\n",
      "/home/elhamod/HGNN/data/INHS_cropped/images/INHS_FISH_58981_aug6.jpg saved!\n",
      "/home/elhamod/HGNN/data/INHS_cropped/images/INHS_FISH_58981_aug7.jpg saved!\n",
      "/home/elhamod/HGNN/data/INHS_cropped/images/INHS_FISH_58981_aug8.jpg saved!\n",
      "/home/elhamod/HGNN/data/INHS_cropped/images/INHS_FISH_58981_aug9.jpg saved!\n"
     ]
    },
    {
     "name": "stderr",
     "output_type": "stream",
     "text": [
      "\r",
      " 77% (426 of 550) |#################     | Elapsed Time: 0:08:09 ETA:   0:02:18"
     ]
    },
    {
     "name": "stdout",
     "output_type": "stream",
     "text": [
      "/home/elhamod/HGNN/data/INHS_cropped/images/INHS_FISH_2257_aug0.jpg saved!\n",
      "/home/elhamod/HGNN/data/INHS_cropped/images/INHS_FISH_2257_aug1.jpg saved!\n",
      "/home/elhamod/HGNN/data/INHS_cropped/images/INHS_FISH_2257_aug2.jpg saved!\n",
      "/home/elhamod/HGNN/data/INHS_cropped/images/INHS_FISH_2257_aug3.jpg saved!\n",
      "/home/elhamod/HGNN/data/INHS_cropped/images/INHS_FISH_2257_aug4.jpg saved!\n",
      "/home/elhamod/HGNN/data/INHS_cropped/images/INHS_FISH_2257_aug5.jpg saved!\n",
      "/home/elhamod/HGNN/data/INHS_cropped/images/INHS_FISH_2257_aug6.jpg saved!\n",
      "/home/elhamod/HGNN/data/INHS_cropped/images/INHS_FISH_2257_aug7.jpg saved!\n",
      "/home/elhamod/HGNN/data/INHS_cropped/images/INHS_FISH_2257_aug8.jpg saved!\n",
      "/home/elhamod/HGNN/data/INHS_cropped/images/INHS_FISH_2257_aug9.jpg saved!\n"
     ]
    },
    {
     "name": "stderr",
     "output_type": "stream",
     "text": [
      "\r",
      " 77% (427 of 550) |#################     | Elapsed Time: 0:08:11 ETA:   0:02:17"
     ]
    },
    {
     "name": "stdout",
     "output_type": "stream",
     "text": [
      "/home/elhamod/HGNN/data/INHS_cropped/images/INHS_FISH_85839_aug0.jpg saved!\n",
      "/home/elhamod/HGNN/data/INHS_cropped/images/INHS_FISH_85839_aug1.jpg saved!\n",
      "/home/elhamod/HGNN/data/INHS_cropped/images/INHS_FISH_85839_aug2.jpg saved!\n",
      "/home/elhamod/HGNN/data/INHS_cropped/images/INHS_FISH_85839_aug3.jpg saved!\n",
      "/home/elhamod/HGNN/data/INHS_cropped/images/INHS_FISH_85839_aug4.jpg saved!\n",
      "/home/elhamod/HGNN/data/INHS_cropped/images/INHS_FISH_85839_aug5.jpg saved!\n",
      "/home/elhamod/HGNN/data/INHS_cropped/images/INHS_FISH_85839_aug6.jpg saved!\n",
      "/home/elhamod/HGNN/data/INHS_cropped/images/INHS_FISH_85839_aug7.jpg saved!\n",
      "/home/elhamod/HGNN/data/INHS_cropped/images/INHS_FISH_85839_aug8.jpg saved!\n",
      "/home/elhamod/HGNN/data/INHS_cropped/images/INHS_FISH_85839_aug9.jpg saved!\n"
     ]
    },
    {
     "name": "stderr",
     "output_type": "stream",
     "text": [
      "\r",
      " 77% (428 of 550) |#################     | Elapsed Time: 0:08:12 ETA:   0:02:15"
     ]
    },
    {
     "name": "stdout",
     "output_type": "stream",
     "text": [
      "/home/elhamod/HGNN/data/INHS_cropped/images/INHS_FISH_5983_aug0.jpg saved!\n",
      "/home/elhamod/HGNN/data/INHS_cropped/images/INHS_FISH_5983_aug1.jpg saved!\n",
      "/home/elhamod/HGNN/data/INHS_cropped/images/INHS_FISH_5983_aug2.jpg saved!\n",
      "/home/elhamod/HGNN/data/INHS_cropped/images/INHS_FISH_5983_aug3.jpg saved!\n",
      "/home/elhamod/HGNN/data/INHS_cropped/images/INHS_FISH_5983_aug4.jpg saved!\n",
      "/home/elhamod/HGNN/data/INHS_cropped/images/INHS_FISH_5983_aug5.jpg saved!\n",
      "/home/elhamod/HGNN/data/INHS_cropped/images/INHS_FISH_5983_aug6.jpg saved!\n",
      "/home/elhamod/HGNN/data/INHS_cropped/images/INHS_FISH_5983_aug7.jpg saved!\n",
      "/home/elhamod/HGNN/data/INHS_cropped/images/INHS_FISH_5983_aug8.jpg saved!\n",
      "/home/elhamod/HGNN/data/INHS_cropped/images/INHS_FISH_5983_aug9.jpg saved!\n"
     ]
    },
    {
     "name": "stderr",
     "output_type": "stream",
     "text": [
      "\r",
      " 78% (429 of 550) |#################     | Elapsed Time: 0:08:13 ETA:   0:02:14"
     ]
    },
    {
     "name": "stdout",
     "output_type": "stream",
     "text": [
      "/home/elhamod/HGNN/data/INHS_cropped/images/INHS_FISH_2410_aug0.jpg saved!\n",
      "/home/elhamod/HGNN/data/INHS_cropped/images/INHS_FISH_2410_aug1.jpg saved!\n",
      "/home/elhamod/HGNN/data/INHS_cropped/images/INHS_FISH_2410_aug2.jpg saved!\n",
      "/home/elhamod/HGNN/data/INHS_cropped/images/INHS_FISH_2410_aug3.jpg saved!\n",
      "/home/elhamod/HGNN/data/INHS_cropped/images/INHS_FISH_2410_aug4.jpg saved!\n",
      "/home/elhamod/HGNN/data/INHS_cropped/images/INHS_FISH_2410_aug5.jpg saved!\n",
      "/home/elhamod/HGNN/data/INHS_cropped/images/INHS_FISH_2410_aug6.jpg saved!\n",
      "/home/elhamod/HGNN/data/INHS_cropped/images/INHS_FISH_2410_aug7.jpg saved!\n",
      "/home/elhamod/HGNN/data/INHS_cropped/images/INHS_FISH_2410_aug8.jpg saved!\n",
      "/home/elhamod/HGNN/data/INHS_cropped/images/INHS_FISH_2410_aug9.jpg saved!\n"
     ]
    },
    {
     "name": "stderr",
     "output_type": "stream",
     "text": [
      "\r",
      " 78% (430 of 550) |#################     | Elapsed Time: 0:08:14 ETA:   0:02:13"
     ]
    },
    {
     "name": "stdout",
     "output_type": "stream",
     "text": [
      "/home/elhamod/HGNN/data/INHS_cropped/images/INHS_FISH_88903_aug0.jpg saved!\n",
      "/home/elhamod/HGNN/data/INHS_cropped/images/INHS_FISH_88903_aug1.jpg saved!\n",
      "/home/elhamod/HGNN/data/INHS_cropped/images/INHS_FISH_88903_aug2.jpg saved!\n",
      "/home/elhamod/HGNN/data/INHS_cropped/images/INHS_FISH_88903_aug3.jpg saved!\n",
      "/home/elhamod/HGNN/data/INHS_cropped/images/INHS_FISH_88903_aug4.jpg saved!\n",
      "/home/elhamod/HGNN/data/INHS_cropped/images/INHS_FISH_88903_aug5.jpg saved!\n",
      "/home/elhamod/HGNN/data/INHS_cropped/images/INHS_FISH_88903_aug6.jpg saved!\n",
      "/home/elhamod/HGNN/data/INHS_cropped/images/INHS_FISH_88903_aug7.jpg saved!\n",
      "/home/elhamod/HGNN/data/INHS_cropped/images/INHS_FISH_88903_aug8.jpg saved!\n",
      "/home/elhamod/HGNN/data/INHS_cropped/images/INHS_FISH_88903_aug9.jpg saved!\n"
     ]
    },
    {
     "name": "stderr",
     "output_type": "stream",
     "text": [
      "\r",
      " 78% (431 of 550) |#################     | Elapsed Time: 0:08:15 ETA:   0:02:12"
     ]
    },
    {
     "name": "stdout",
     "output_type": "stream",
     "text": [
      "/home/elhamod/HGNN/data/INHS_cropped/images/INHS_FISH_58870_aug0.jpg saved!\n",
      "/home/elhamod/HGNN/data/INHS_cropped/images/INHS_FISH_58870_aug1.jpg saved!\n",
      "/home/elhamod/HGNN/data/INHS_cropped/images/INHS_FISH_58870_aug2.jpg saved!\n",
      "/home/elhamod/HGNN/data/INHS_cropped/images/INHS_FISH_58870_aug3.jpg saved!\n",
      "/home/elhamod/HGNN/data/INHS_cropped/images/INHS_FISH_58870_aug4.jpg saved!\n",
      "/home/elhamod/HGNN/data/INHS_cropped/images/INHS_FISH_58870_aug5.jpg saved!\n",
      "/home/elhamod/HGNN/data/INHS_cropped/images/INHS_FISH_58870_aug6.jpg saved!\n",
      "/home/elhamod/HGNN/data/INHS_cropped/images/INHS_FISH_58870_aug7.jpg saved!\n",
      "/home/elhamod/HGNN/data/INHS_cropped/images/INHS_FISH_58870_aug8.jpg saved!\n",
      "/home/elhamod/HGNN/data/INHS_cropped/images/INHS_FISH_58870_aug9.jpg saved!\n"
     ]
    },
    {
     "name": "stderr",
     "output_type": "stream",
     "text": [
      "\r",
      " 78% (432 of 550) |#################     | Elapsed Time: 0:08:16 ETA:   0:02:11"
     ]
    },
    {
     "name": "stdout",
     "output_type": "stream",
     "text": [
      "/home/elhamod/HGNN/data/INHS_cropped/images/INHS_FISH_7433_aug0.jpg saved!\n",
      "/home/elhamod/HGNN/data/INHS_cropped/images/INHS_FISH_7433_aug1.jpg saved!\n",
      "/home/elhamod/HGNN/data/INHS_cropped/images/INHS_FISH_7433_aug2.jpg saved!\n",
      "/home/elhamod/HGNN/data/INHS_cropped/images/INHS_FISH_7433_aug3.jpg saved!\n",
      "/home/elhamod/HGNN/data/INHS_cropped/images/INHS_FISH_7433_aug4.jpg saved!\n",
      "/home/elhamod/HGNN/data/INHS_cropped/images/INHS_FISH_7433_aug5.jpg saved!\n",
      "/home/elhamod/HGNN/data/INHS_cropped/images/INHS_FISH_7433_aug6.jpg saved!\n",
      "/home/elhamod/HGNN/data/INHS_cropped/images/INHS_FISH_7433_aug7.jpg saved!\n",
      "/home/elhamod/HGNN/data/INHS_cropped/images/INHS_FISH_7433_aug8.jpg saved!\n",
      "/home/elhamod/HGNN/data/INHS_cropped/images/INHS_FISH_7433_aug9.jpg saved!\n"
     ]
    },
    {
     "name": "stderr",
     "output_type": "stream",
     "text": [
      "\r",
      " 78% (433 of 550) |#################     | Elapsed Time: 0:08:17 ETA:   0:02:11"
     ]
    },
    {
     "name": "stdout",
     "output_type": "stream",
     "text": [
      "/home/elhamod/HGNN/data/INHS_cropped/images/INHS_FISH_75313_aug0.jpg saved!\n",
      "/home/elhamod/HGNN/data/INHS_cropped/images/INHS_FISH_75313_aug1.jpg saved!\n",
      "/home/elhamod/HGNN/data/INHS_cropped/images/INHS_FISH_75313_aug2.jpg saved!\n",
      "/home/elhamod/HGNN/data/INHS_cropped/images/INHS_FISH_75313_aug3.jpg saved!\n",
      "/home/elhamod/HGNN/data/INHS_cropped/images/INHS_FISH_75313_aug4.jpg saved!\n",
      "/home/elhamod/HGNN/data/INHS_cropped/images/INHS_FISH_75313_aug5.jpg saved!\n",
      "/home/elhamod/HGNN/data/INHS_cropped/images/INHS_FISH_75313_aug6.jpg saved!\n",
      "/home/elhamod/HGNN/data/INHS_cropped/images/INHS_FISH_75313_aug7.jpg saved!\n",
      "/home/elhamod/HGNN/data/INHS_cropped/images/INHS_FISH_75313_aug8.jpg saved!\n",
      "/home/elhamod/HGNN/data/INHS_cropped/images/INHS_FISH_75313_aug9.jpg saved!\n"
     ]
    },
    {
     "name": "stderr",
     "output_type": "stream",
     "text": [
      "\r",
      " 78% (434 of 550) |#################     | Elapsed Time: 0:08:18 ETA:   0:02:10"
     ]
    },
    {
     "name": "stdout",
     "output_type": "stream",
     "text": [
      "/home/elhamod/HGNN/data/INHS_cropped/images/INHS_FISH_93918_aug0.jpg saved!\n",
      "/home/elhamod/HGNN/data/INHS_cropped/images/INHS_FISH_93918_aug1.jpg saved!\n",
      "/home/elhamod/HGNN/data/INHS_cropped/images/INHS_FISH_93918_aug2.jpg saved!\n",
      "/home/elhamod/HGNN/data/INHS_cropped/images/INHS_FISH_93918_aug3.jpg saved!\n",
      "/home/elhamod/HGNN/data/INHS_cropped/images/INHS_FISH_93918_aug4.jpg saved!\n",
      "/home/elhamod/HGNN/data/INHS_cropped/images/INHS_FISH_93918_aug5.jpg saved!\n",
      "/home/elhamod/HGNN/data/INHS_cropped/images/INHS_FISH_93918_aug6.jpg saved!\n",
      "/home/elhamod/HGNN/data/INHS_cropped/images/INHS_FISH_93918_aug7.jpg saved!\n",
      "/home/elhamod/HGNN/data/INHS_cropped/images/INHS_FISH_93918_aug8.jpg saved!\n",
      "/home/elhamod/HGNN/data/INHS_cropped/images/INHS_FISH_93918_aug9.jpg saved!\n"
     ]
    },
    {
     "name": "stderr",
     "output_type": "stream",
     "text": [
      "\r",
      " 79% (435 of 550) |#################     | Elapsed Time: 0:08:20 ETA:   0:02:07"
     ]
    },
    {
     "name": "stdout",
     "output_type": "stream",
     "text": [
      "/home/elhamod/HGNN/data/INHS_cropped/images/INHS_FISH_93884_aug0.jpg saved!\n",
      "/home/elhamod/HGNN/data/INHS_cropped/images/INHS_FISH_93884_aug1.jpg saved!\n",
      "/home/elhamod/HGNN/data/INHS_cropped/images/INHS_FISH_93884_aug2.jpg saved!\n",
      "/home/elhamod/HGNN/data/INHS_cropped/images/INHS_FISH_93884_aug3.jpg saved!\n",
      "/home/elhamod/HGNN/data/INHS_cropped/images/INHS_FISH_93884_aug4.jpg saved!\n",
      "/home/elhamod/HGNN/data/INHS_cropped/images/INHS_FISH_93884_aug5.jpg saved!\n",
      "/home/elhamod/HGNN/data/INHS_cropped/images/INHS_FISH_93884_aug6.jpg saved!\n",
      "/home/elhamod/HGNN/data/INHS_cropped/images/INHS_FISH_93884_aug7.jpg saved!\n",
      "/home/elhamod/HGNN/data/INHS_cropped/images/INHS_FISH_93884_aug8.jpg saved!\n",
      "/home/elhamod/HGNN/data/INHS_cropped/images/INHS_FISH_93884_aug9.jpg saved!\n"
     ]
    },
    {
     "name": "stderr",
     "output_type": "stream",
     "text": [
      "\r",
      " 79% (436 of 550) |#################     | Elapsed Time: 0:08:21 ETA:   0:02:06"
     ]
    },
    {
     "name": "stdout",
     "output_type": "stream",
     "text": [
      "/home/elhamod/HGNN/data/INHS_cropped/images/INHS_FISH_026243_aug0.jpg saved!\n",
      "/home/elhamod/HGNN/data/INHS_cropped/images/INHS_FISH_026243_aug1.jpg saved!\n",
      "/home/elhamod/HGNN/data/INHS_cropped/images/INHS_FISH_026243_aug2.jpg saved!\n",
      "/home/elhamod/HGNN/data/INHS_cropped/images/INHS_FISH_026243_aug3.jpg saved!\n",
      "/home/elhamod/HGNN/data/INHS_cropped/images/INHS_FISH_026243_aug4.jpg saved!\n",
      "/home/elhamod/HGNN/data/INHS_cropped/images/INHS_FISH_026243_aug5.jpg saved!\n",
      "/home/elhamod/HGNN/data/INHS_cropped/images/INHS_FISH_026243_aug6.jpg saved!\n",
      "/home/elhamod/HGNN/data/INHS_cropped/images/INHS_FISH_026243_aug7.jpg saved!\n",
      "/home/elhamod/HGNN/data/INHS_cropped/images/INHS_FISH_026243_aug8.jpg saved!\n",
      "/home/elhamod/HGNN/data/INHS_cropped/images/INHS_FISH_026243_aug9.jpg saved!\n"
     ]
    },
    {
     "name": "stderr",
     "output_type": "stream",
     "text": [
      "\r",
      " 79% (437 of 550) |#################     | Elapsed Time: 0:08:22 ETA:   0:02:05"
     ]
    },
    {
     "name": "stdout",
     "output_type": "stream",
     "text": [
      "/home/elhamod/HGNN/data/INHS_cropped/images/INHS_FISH_82823_aug0.jpg saved!\n",
      "/home/elhamod/HGNN/data/INHS_cropped/images/INHS_FISH_82823_aug1.jpg saved!\n",
      "/home/elhamod/HGNN/data/INHS_cropped/images/INHS_FISH_82823_aug2.jpg saved!\n",
      "/home/elhamod/HGNN/data/INHS_cropped/images/INHS_FISH_82823_aug3.jpg saved!\n",
      "/home/elhamod/HGNN/data/INHS_cropped/images/INHS_FISH_82823_aug4.jpg saved!\n",
      "/home/elhamod/HGNN/data/INHS_cropped/images/INHS_FISH_82823_aug5.jpg saved!\n",
      "/home/elhamod/HGNN/data/INHS_cropped/images/INHS_FISH_82823_aug6.jpg saved!\n",
      "/home/elhamod/HGNN/data/INHS_cropped/images/INHS_FISH_82823_aug7.jpg saved!\n",
      "/home/elhamod/HGNN/data/INHS_cropped/images/INHS_FISH_82823_aug8.jpg saved!\n",
      "/home/elhamod/HGNN/data/INHS_cropped/images/INHS_FISH_82823_aug9.jpg saved!\n"
     ]
    },
    {
     "name": "stderr",
     "output_type": "stream",
     "text": [
      "\r",
      " 79% (438 of 550) |#################     | Elapsed Time: 0:08:23 ETA:   0:02:04"
     ]
    },
    {
     "name": "stdout",
     "output_type": "stream",
     "text": [
      "/home/elhamod/HGNN/data/INHS_cropped/images/INHS_FISH_59400_aug0.jpg saved!\n",
      "/home/elhamod/HGNN/data/INHS_cropped/images/INHS_FISH_59400_aug1.jpg saved!\n",
      "/home/elhamod/HGNN/data/INHS_cropped/images/INHS_FISH_59400_aug2.jpg saved!\n",
      "/home/elhamod/HGNN/data/INHS_cropped/images/INHS_FISH_59400_aug3.jpg saved!\n",
      "/home/elhamod/HGNN/data/INHS_cropped/images/INHS_FISH_59400_aug4.jpg saved!\n",
      "/home/elhamod/HGNN/data/INHS_cropped/images/INHS_FISH_59400_aug5.jpg saved!\n",
      "/home/elhamod/HGNN/data/INHS_cropped/images/INHS_FISH_59400_aug6.jpg saved!\n",
      "/home/elhamod/HGNN/data/INHS_cropped/images/INHS_FISH_59400_aug7.jpg saved!\n",
      "/home/elhamod/HGNN/data/INHS_cropped/images/INHS_FISH_59400_aug8.jpg saved!\n",
      "/home/elhamod/HGNN/data/INHS_cropped/images/INHS_FISH_59400_aug9.jpg saved!\n"
     ]
    },
    {
     "name": "stderr",
     "output_type": "stream",
     "text": [
      "\r",
      " 79% (439 of 550) |#################     | Elapsed Time: 0:08:24 ETA:   0:02:03"
     ]
    },
    {
     "name": "stdout",
     "output_type": "stream",
     "text": [
      "/home/elhamod/HGNN/data/INHS_cropped/images/INHS_FISH_53052_aug0.jpg saved!\n",
      "/home/elhamod/HGNN/data/INHS_cropped/images/INHS_FISH_53052_aug1.jpg saved!\n",
      "/home/elhamod/HGNN/data/INHS_cropped/images/INHS_FISH_53052_aug2.jpg saved!\n",
      "/home/elhamod/HGNN/data/INHS_cropped/images/INHS_FISH_53052_aug3.jpg saved!\n",
      "/home/elhamod/HGNN/data/INHS_cropped/images/INHS_FISH_53052_aug4.jpg saved!\n",
      "/home/elhamod/HGNN/data/INHS_cropped/images/INHS_FISH_53052_aug5.jpg saved!\n",
      "/home/elhamod/HGNN/data/INHS_cropped/images/INHS_FISH_53052_aug6.jpg saved!\n",
      "/home/elhamod/HGNN/data/INHS_cropped/images/INHS_FISH_53052_aug7.jpg saved!\n",
      "/home/elhamod/HGNN/data/INHS_cropped/images/INHS_FISH_53052_aug8.jpg saved!\n",
      "/home/elhamod/HGNN/data/INHS_cropped/images/INHS_FISH_53052_aug9.jpg saved!\n"
     ]
    },
    {
     "name": "stderr",
     "output_type": "stream",
     "text": [
      "\r",
      " 80% (440 of 550) |#################     | Elapsed Time: 0:08:25 ETA:   0:02:02"
     ]
    },
    {
     "name": "stdout",
     "output_type": "stream",
     "text": [
      "/home/elhamod/HGNN/data/INHS_cropped/images/INHS_FISH_69011_aug0.jpg saved!\n",
      "/home/elhamod/HGNN/data/INHS_cropped/images/INHS_FISH_69011_aug1.jpg saved!\n",
      "/home/elhamod/HGNN/data/INHS_cropped/images/INHS_FISH_69011_aug2.jpg saved!\n",
      "/home/elhamod/HGNN/data/INHS_cropped/images/INHS_FISH_69011_aug3.jpg saved!\n",
      "/home/elhamod/HGNN/data/INHS_cropped/images/INHS_FISH_69011_aug4.jpg saved!\n",
      "/home/elhamod/HGNN/data/INHS_cropped/images/INHS_FISH_69011_aug5.jpg saved!\n",
      "/home/elhamod/HGNN/data/INHS_cropped/images/INHS_FISH_69011_aug6.jpg saved!\n",
      "/home/elhamod/HGNN/data/INHS_cropped/images/INHS_FISH_69011_aug7.jpg saved!\n",
      "/home/elhamod/HGNN/data/INHS_cropped/images/INHS_FISH_69011_aug8.jpg saved!\n",
      "/home/elhamod/HGNN/data/INHS_cropped/images/INHS_FISH_69011_aug9.jpg saved!\n"
     ]
    },
    {
     "name": "stderr",
     "output_type": "stream",
     "text": [
      "\r",
      " 80% (441 of 550) |#################     | Elapsed Time: 0:08:26 ETA:   0:02:03"
     ]
    },
    {
     "name": "stdout",
     "output_type": "stream",
     "text": [
      "/home/elhamod/HGNN/data/INHS_cropped/images/INHS_FISH_48411_aug0.jpg saved!\n",
      "/home/elhamod/HGNN/data/INHS_cropped/images/INHS_FISH_48411_aug1.jpg saved!\n",
      "/home/elhamod/HGNN/data/INHS_cropped/images/INHS_FISH_48411_aug2.jpg saved!\n",
      "/home/elhamod/HGNN/data/INHS_cropped/images/INHS_FISH_48411_aug3.jpg saved!\n",
      "/home/elhamod/HGNN/data/INHS_cropped/images/INHS_FISH_48411_aug4.jpg saved!\n",
      "/home/elhamod/HGNN/data/INHS_cropped/images/INHS_FISH_48411_aug5.jpg saved!\n",
      "/home/elhamod/HGNN/data/INHS_cropped/images/INHS_FISH_48411_aug6.jpg saved!\n",
      "/home/elhamod/HGNN/data/INHS_cropped/images/INHS_FISH_48411_aug7.jpg saved!\n",
      "/home/elhamod/HGNN/data/INHS_cropped/images/INHS_FISH_48411_aug8.jpg saved!\n",
      "/home/elhamod/HGNN/data/INHS_cropped/images/INHS_FISH_48411_aug9.jpg saved!\n"
     ]
    },
    {
     "name": "stderr",
     "output_type": "stream",
     "text": [
      "\r",
      " 80% (442 of 550) |#################     | Elapsed Time: 0:08:27 ETA:   0:02:02"
     ]
    },
    {
     "name": "stdout",
     "output_type": "stream",
     "text": [
      "/home/elhamod/HGNN/data/INHS_cropped/images/INHS_FISH_87505_aug0.jpg saved!\n",
      "/home/elhamod/HGNN/data/INHS_cropped/images/INHS_FISH_87505_aug1.jpg saved!\n",
      "/home/elhamod/HGNN/data/INHS_cropped/images/INHS_FISH_87505_aug2.jpg saved!\n",
      "/home/elhamod/HGNN/data/INHS_cropped/images/INHS_FISH_87505_aug3.jpg saved!\n",
      "/home/elhamod/HGNN/data/INHS_cropped/images/INHS_FISH_87505_aug4.jpg saved!\n",
      "/home/elhamod/HGNN/data/INHS_cropped/images/INHS_FISH_87505_aug5.jpg saved!\n",
      "/home/elhamod/HGNN/data/INHS_cropped/images/INHS_FISH_87505_aug6.jpg saved!\n",
      "/home/elhamod/HGNN/data/INHS_cropped/images/INHS_FISH_87505_aug7.jpg saved!\n",
      "/home/elhamod/HGNN/data/INHS_cropped/images/INHS_FISH_87505_aug8.jpg saved!\n",
      "/home/elhamod/HGNN/data/INHS_cropped/images/INHS_FISH_87505_aug9.jpg saved!\n"
     ]
    },
    {
     "name": "stderr",
     "output_type": "stream",
     "text": [
      "\r",
      " 80% (443 of 550) |#################     | Elapsed Time: 0:08:28 ETA:   0:01:59"
     ]
    },
    {
     "name": "stdout",
     "output_type": "stream",
     "text": [
      "/home/elhamod/HGNN/data/INHS_cropped/images/INHS_FISH_9578_aug0.jpg saved!\n",
      "/home/elhamod/HGNN/data/INHS_cropped/images/INHS_FISH_9578_aug1.jpg saved!\n",
      "/home/elhamod/HGNN/data/INHS_cropped/images/INHS_FISH_9578_aug2.jpg saved!\n",
      "/home/elhamod/HGNN/data/INHS_cropped/images/INHS_FISH_9578_aug3.jpg saved!\n",
      "/home/elhamod/HGNN/data/INHS_cropped/images/INHS_FISH_9578_aug4.jpg saved!\n",
      "/home/elhamod/HGNN/data/INHS_cropped/images/INHS_FISH_9578_aug5.jpg saved!\n",
      "/home/elhamod/HGNN/data/INHS_cropped/images/INHS_FISH_9578_aug6.jpg saved!\n",
      "/home/elhamod/HGNN/data/INHS_cropped/images/INHS_FISH_9578_aug7.jpg saved!\n",
      "/home/elhamod/HGNN/data/INHS_cropped/images/INHS_FISH_9578_aug8.jpg saved!\n",
      "/home/elhamod/HGNN/data/INHS_cropped/images/INHS_FISH_9578_aug9.jpg saved!\n"
     ]
    },
    {
     "name": "stderr",
     "output_type": "stream",
     "text": [
      "\r",
      " 80% (444 of 550) |#################     | Elapsed Time: 0:08:30 ETA:   0:01:59"
     ]
    },
    {
     "name": "stdout",
     "output_type": "stream",
     "text": [
      "/home/elhamod/HGNN/data/INHS_cropped/images/INHS_FISH_4325_aug0.jpg saved!\n",
      "/home/elhamod/HGNN/data/INHS_cropped/images/INHS_FISH_4325_aug1.jpg saved!\n",
      "/home/elhamod/HGNN/data/INHS_cropped/images/INHS_FISH_4325_aug2.jpg saved!\n",
      "/home/elhamod/HGNN/data/INHS_cropped/images/INHS_FISH_4325_aug3.jpg saved!\n",
      "/home/elhamod/HGNN/data/INHS_cropped/images/INHS_FISH_4325_aug4.jpg saved!\n",
      "/home/elhamod/HGNN/data/INHS_cropped/images/INHS_FISH_4325_aug5.jpg saved!\n",
      "/home/elhamod/HGNN/data/INHS_cropped/images/INHS_FISH_4325_aug6.jpg saved!\n",
      "/home/elhamod/HGNN/data/INHS_cropped/images/INHS_FISH_4325_aug7.jpg saved!\n",
      "/home/elhamod/HGNN/data/INHS_cropped/images/INHS_FISH_4325_aug8.jpg saved!\n",
      "/home/elhamod/HGNN/data/INHS_cropped/images/INHS_FISH_4325_aug9.jpg saved!\n"
     ]
    },
    {
     "name": "stderr",
     "output_type": "stream",
     "text": [
      "\r",
      " 80% (445 of 550) |#################     | Elapsed Time: 0:08:31 ETA:   0:02:00"
     ]
    },
    {
     "name": "stdout",
     "output_type": "stream",
     "text": [
      "/home/elhamod/HGNN/data/INHS_cropped/images/INHS_FISH_24644_aug0.jpg saved!\n",
      "/home/elhamod/HGNN/data/INHS_cropped/images/INHS_FISH_24644_aug1.jpg saved!\n",
      "/home/elhamod/HGNN/data/INHS_cropped/images/INHS_FISH_24644_aug2.jpg saved!\n",
      "/home/elhamod/HGNN/data/INHS_cropped/images/INHS_FISH_24644_aug3.jpg saved!\n",
      "/home/elhamod/HGNN/data/INHS_cropped/images/INHS_FISH_24644_aug4.jpg saved!\n",
      "/home/elhamod/HGNN/data/INHS_cropped/images/INHS_FISH_24644_aug5.jpg saved!\n",
      "/home/elhamod/HGNN/data/INHS_cropped/images/INHS_FISH_24644_aug6.jpg saved!\n",
      "/home/elhamod/HGNN/data/INHS_cropped/images/INHS_FISH_24644_aug7.jpg saved!\n",
      "/home/elhamod/HGNN/data/INHS_cropped/images/INHS_FISH_24644_aug8.jpg saved!\n",
      "/home/elhamod/HGNN/data/INHS_cropped/images/INHS_FISH_24644_aug9.jpg saved!\n"
     ]
    },
    {
     "name": "stderr",
     "output_type": "stream",
     "text": [
      "\r",
      " 81% (446 of 550) |#################     | Elapsed Time: 0:08:32 ETA:   0:01:58"
     ]
    },
    {
     "name": "stdout",
     "output_type": "stream",
     "text": [
      "/home/elhamod/HGNN/data/INHS_cropped/images/INHS_FISH_76300_aug0.jpg saved!\n",
      "/home/elhamod/HGNN/data/INHS_cropped/images/INHS_FISH_76300_aug1.jpg saved!\n",
      "/home/elhamod/HGNN/data/INHS_cropped/images/INHS_FISH_76300_aug2.jpg saved!\n",
      "/home/elhamod/HGNN/data/INHS_cropped/images/INHS_FISH_76300_aug3.jpg saved!\n",
      "/home/elhamod/HGNN/data/INHS_cropped/images/INHS_FISH_76300_aug4.jpg saved!\n",
      "/home/elhamod/HGNN/data/INHS_cropped/images/INHS_FISH_76300_aug5.jpg saved!\n",
      "/home/elhamod/HGNN/data/INHS_cropped/images/INHS_FISH_76300_aug6.jpg saved!\n",
      "/home/elhamod/HGNN/data/INHS_cropped/images/INHS_FISH_76300_aug7.jpg saved!\n",
      "/home/elhamod/HGNN/data/INHS_cropped/images/INHS_FISH_76300_aug8.jpg saved!\n",
      "/home/elhamod/HGNN/data/INHS_cropped/images/INHS_FISH_76300_aug9.jpg saved!\n"
     ]
    },
    {
     "name": "stderr",
     "output_type": "stream",
     "text": [
      "\r",
      " 81% (447 of 550) |#################     | Elapsed Time: 0:08:33 ETA:   0:02:03"
     ]
    },
    {
     "name": "stdout",
     "output_type": "stream",
     "text": [
      "/home/elhamod/HGNN/data/INHS_cropped/images/INHS_FISH_45318_aug0.jpg saved!\n",
      "/home/elhamod/HGNN/data/INHS_cropped/images/INHS_FISH_45318_aug1.jpg saved!\n",
      "/home/elhamod/HGNN/data/INHS_cropped/images/INHS_FISH_45318_aug2.jpg saved!\n",
      "/home/elhamod/HGNN/data/INHS_cropped/images/INHS_FISH_45318_aug3.jpg saved!\n",
      "/home/elhamod/HGNN/data/INHS_cropped/images/INHS_FISH_45318_aug4.jpg saved!\n",
      "/home/elhamod/HGNN/data/INHS_cropped/images/INHS_FISH_45318_aug5.jpg saved!\n",
      "/home/elhamod/HGNN/data/INHS_cropped/images/INHS_FISH_45318_aug6.jpg saved!\n",
      "/home/elhamod/HGNN/data/INHS_cropped/images/INHS_FISH_45318_aug7.jpg saved!\n",
      "/home/elhamod/HGNN/data/INHS_cropped/images/INHS_FISH_45318_aug8.jpg saved!\n",
      "/home/elhamod/HGNN/data/INHS_cropped/images/INHS_FISH_45318_aug9.jpg saved!\n"
     ]
    },
    {
     "name": "stderr",
     "output_type": "stream",
     "text": [
      "\r",
      " 81% (448 of 550) |#################     | Elapsed Time: 0:08:34 ETA:   0:02:01"
     ]
    },
    {
     "name": "stdout",
     "output_type": "stream",
     "text": [
      "/home/elhamod/HGNN/data/INHS_cropped/images/INHS_FISH_24459_aug0.jpg saved!\n",
      "/home/elhamod/HGNN/data/INHS_cropped/images/INHS_FISH_24459_aug1.jpg saved!\n",
      "/home/elhamod/HGNN/data/INHS_cropped/images/INHS_FISH_24459_aug2.jpg saved!\n",
      "/home/elhamod/HGNN/data/INHS_cropped/images/INHS_FISH_24459_aug3.jpg saved!\n",
      "/home/elhamod/HGNN/data/INHS_cropped/images/INHS_FISH_24459_aug4.jpg saved!\n",
      "/home/elhamod/HGNN/data/INHS_cropped/images/INHS_FISH_24459_aug5.jpg saved!\n",
      "/home/elhamod/HGNN/data/INHS_cropped/images/INHS_FISH_24459_aug6.jpg saved!\n",
      "/home/elhamod/HGNN/data/INHS_cropped/images/INHS_FISH_24459_aug7.jpg saved!\n",
      "/home/elhamod/HGNN/data/INHS_cropped/images/INHS_FISH_24459_aug8.jpg saved!\n",
      "/home/elhamod/HGNN/data/INHS_cropped/images/INHS_FISH_24459_aug9.jpg saved!\n"
     ]
    },
    {
     "name": "stderr",
     "output_type": "stream",
     "text": [
      "\r",
      " 81% (449 of 550) |#################     | Elapsed Time: 0:08:35 ETA:   0:01:52"
     ]
    },
    {
     "name": "stdout",
     "output_type": "stream",
     "text": [
      "/home/elhamod/HGNN/data/INHS_cropped/images/INHS_FISH_89702_aug0.jpg saved!\n",
      "/home/elhamod/HGNN/data/INHS_cropped/images/INHS_FISH_89702_aug1.jpg saved!\n",
      "/home/elhamod/HGNN/data/INHS_cropped/images/INHS_FISH_89702_aug2.jpg saved!\n",
      "/home/elhamod/HGNN/data/INHS_cropped/images/INHS_FISH_89702_aug3.jpg saved!\n",
      "/home/elhamod/HGNN/data/INHS_cropped/images/INHS_FISH_89702_aug4.jpg saved!\n",
      "/home/elhamod/HGNN/data/INHS_cropped/images/INHS_FISH_89702_aug5.jpg saved!\n",
      "/home/elhamod/HGNN/data/INHS_cropped/images/INHS_FISH_89702_aug6.jpg saved!\n",
      "/home/elhamod/HGNN/data/INHS_cropped/images/INHS_FISH_89702_aug7.jpg saved!\n",
      "/home/elhamod/HGNN/data/INHS_cropped/images/INHS_FISH_89702_aug8.jpg saved!\n",
      "/home/elhamod/HGNN/data/INHS_cropped/images/INHS_FISH_89702_aug9.jpg saved!\n"
     ]
    },
    {
     "name": "stderr",
     "output_type": "stream",
     "text": [
      "\r",
      " 81% (450 of 550) |##################    | Elapsed Time: 0:08:36 ETA:   0:01:52"
     ]
    },
    {
     "name": "stdout",
     "output_type": "stream",
     "text": [
      "/home/elhamod/HGNN/data/INHS_cropped/images/INHS_FISH_85801_aug0.jpg saved!\n",
      "/home/elhamod/HGNN/data/INHS_cropped/images/INHS_FISH_85801_aug1.jpg saved!\n",
      "/home/elhamod/HGNN/data/INHS_cropped/images/INHS_FISH_85801_aug2.jpg saved!\n",
      "/home/elhamod/HGNN/data/INHS_cropped/images/INHS_FISH_85801_aug3.jpg saved!\n",
      "/home/elhamod/HGNN/data/INHS_cropped/images/INHS_FISH_85801_aug4.jpg saved!\n",
      "/home/elhamod/HGNN/data/INHS_cropped/images/INHS_FISH_85801_aug5.jpg saved!\n",
      "/home/elhamod/HGNN/data/INHS_cropped/images/INHS_FISH_85801_aug6.jpg saved!\n",
      "/home/elhamod/HGNN/data/INHS_cropped/images/INHS_FISH_85801_aug7.jpg saved!\n",
      "/home/elhamod/HGNN/data/INHS_cropped/images/INHS_FISH_85801_aug8.jpg saved!\n",
      "/home/elhamod/HGNN/data/INHS_cropped/images/INHS_FISH_85801_aug9.jpg saved!\n"
     ]
    },
    {
     "name": "stderr",
     "output_type": "stream",
     "text": [
      "\r",
      " 82% (451 of 550) |##################    | Elapsed Time: 0:08:38 ETA:   0:01:51"
     ]
    },
    {
     "name": "stdout",
     "output_type": "stream",
     "text": [
      "/home/elhamod/HGNN/data/INHS_cropped/images/INHS_FISH_64141_aug0.jpg saved!\n",
      "/home/elhamod/HGNN/data/INHS_cropped/images/INHS_FISH_64141_aug1.jpg saved!\n",
      "/home/elhamod/HGNN/data/INHS_cropped/images/INHS_FISH_64141_aug2.jpg saved!\n",
      "/home/elhamod/HGNN/data/INHS_cropped/images/INHS_FISH_64141_aug3.jpg saved!\n",
      "/home/elhamod/HGNN/data/INHS_cropped/images/INHS_FISH_64141_aug4.jpg saved!\n",
      "/home/elhamod/HGNN/data/INHS_cropped/images/INHS_FISH_64141_aug5.jpg saved!\n",
      "/home/elhamod/HGNN/data/INHS_cropped/images/INHS_FISH_64141_aug6.jpg saved!\n",
      "/home/elhamod/HGNN/data/INHS_cropped/images/INHS_FISH_64141_aug7.jpg saved!\n",
      "/home/elhamod/HGNN/data/INHS_cropped/images/INHS_FISH_64141_aug8.jpg saved!\n",
      "/home/elhamod/HGNN/data/INHS_cropped/images/INHS_FISH_64141_aug9.jpg saved!\n"
     ]
    },
    {
     "name": "stderr",
     "output_type": "stream",
     "text": [
      "\r",
      " 82% (452 of 550) |##################    | Elapsed Time: 0:08:39 ETA:   0:01:49"
     ]
    },
    {
     "name": "stdout",
     "output_type": "stream",
     "text": [
      "/home/elhamod/HGNN/data/INHS_cropped/images/INHS_FISH_10761_aug0.jpg saved!\n",
      "/home/elhamod/HGNN/data/INHS_cropped/images/INHS_FISH_10761_aug1.jpg saved!\n",
      "/home/elhamod/HGNN/data/INHS_cropped/images/INHS_FISH_10761_aug2.jpg saved!\n",
      "/home/elhamod/HGNN/data/INHS_cropped/images/INHS_FISH_10761_aug3.jpg saved!\n",
      "/home/elhamod/HGNN/data/INHS_cropped/images/INHS_FISH_10761_aug4.jpg saved!\n",
      "/home/elhamod/HGNN/data/INHS_cropped/images/INHS_FISH_10761_aug5.jpg saved!\n",
      "/home/elhamod/HGNN/data/INHS_cropped/images/INHS_FISH_10761_aug6.jpg saved!\n",
      "/home/elhamod/HGNN/data/INHS_cropped/images/INHS_FISH_10761_aug7.jpg saved!\n",
      "/home/elhamod/HGNN/data/INHS_cropped/images/INHS_FISH_10761_aug8.jpg saved!\n",
      "/home/elhamod/HGNN/data/INHS_cropped/images/INHS_FISH_10761_aug9.jpg saved!\n"
     ]
    },
    {
     "name": "stderr",
     "output_type": "stream",
     "text": [
      "\r",
      " 82% (453 of 550) |##################    | Elapsed Time: 0:08:40 ETA:   0:01:48"
     ]
    },
    {
     "name": "stdout",
     "output_type": "stream",
     "text": [
      "/home/elhamod/HGNN/data/INHS_cropped/images/INHS_FISH_57524_aug0.jpg saved!\n",
      "/home/elhamod/HGNN/data/INHS_cropped/images/INHS_FISH_57524_aug1.jpg saved!\n",
      "/home/elhamod/HGNN/data/INHS_cropped/images/INHS_FISH_57524_aug2.jpg saved!\n",
      "/home/elhamod/HGNN/data/INHS_cropped/images/INHS_FISH_57524_aug3.jpg saved!\n",
      "/home/elhamod/HGNN/data/INHS_cropped/images/INHS_FISH_57524_aug4.jpg saved!\n",
      "/home/elhamod/HGNN/data/INHS_cropped/images/INHS_FISH_57524_aug5.jpg saved!\n",
      "/home/elhamod/HGNN/data/INHS_cropped/images/INHS_FISH_57524_aug6.jpg saved!\n",
      "/home/elhamod/HGNN/data/INHS_cropped/images/INHS_FISH_57524_aug7.jpg saved!\n",
      "/home/elhamod/HGNN/data/INHS_cropped/images/INHS_FISH_57524_aug8.jpg saved!\n",
      "/home/elhamod/HGNN/data/INHS_cropped/images/INHS_FISH_57524_aug9.jpg saved!\n"
     ]
    },
    {
     "name": "stderr",
     "output_type": "stream",
     "text": [
      "\r",
      " 82% (454 of 550) |##################    | Elapsed Time: 0:08:41 ETA:   0:01:48"
     ]
    },
    {
     "name": "stdout",
     "output_type": "stream",
     "text": [
      "/home/elhamod/HGNN/data/INHS_cropped/images/INHS_FISH_74358_aug0.jpg saved!\n",
      "/home/elhamod/HGNN/data/INHS_cropped/images/INHS_FISH_74358_aug1.jpg saved!\n",
      "/home/elhamod/HGNN/data/INHS_cropped/images/INHS_FISH_74358_aug2.jpg saved!\n",
      "/home/elhamod/HGNN/data/INHS_cropped/images/INHS_FISH_74358_aug3.jpg saved!\n",
      "/home/elhamod/HGNN/data/INHS_cropped/images/INHS_FISH_74358_aug4.jpg saved!\n",
      "/home/elhamod/HGNN/data/INHS_cropped/images/INHS_FISH_74358_aug5.jpg saved!\n",
      "/home/elhamod/HGNN/data/INHS_cropped/images/INHS_FISH_74358_aug6.jpg saved!\n",
      "/home/elhamod/HGNN/data/INHS_cropped/images/INHS_FISH_74358_aug7.jpg saved!\n",
      "/home/elhamod/HGNN/data/INHS_cropped/images/INHS_FISH_74358_aug8.jpg saved!\n",
      "/home/elhamod/HGNN/data/INHS_cropped/images/INHS_FISH_74358_aug9.jpg saved!\n"
     ]
    },
    {
     "name": "stderr",
     "output_type": "stream",
     "text": [
      "\r",
      " 82% (455 of 550) |##################    | Elapsed Time: 0:08:42 ETA:   0:01:49"
     ]
    },
    {
     "name": "stdout",
     "output_type": "stream",
     "text": [
      "/home/elhamod/HGNN/data/INHS_cropped/images/INHS_FISH_026162_aug0.jpg saved!\n",
      "/home/elhamod/HGNN/data/INHS_cropped/images/INHS_FISH_026162_aug1.jpg saved!\n",
      "/home/elhamod/HGNN/data/INHS_cropped/images/INHS_FISH_026162_aug2.jpg saved!\n",
      "/home/elhamod/HGNN/data/INHS_cropped/images/INHS_FISH_026162_aug3.jpg saved!\n",
      "/home/elhamod/HGNN/data/INHS_cropped/images/INHS_FISH_026162_aug4.jpg saved!\n",
      "/home/elhamod/HGNN/data/INHS_cropped/images/INHS_FISH_026162_aug5.jpg saved!\n",
      "/home/elhamod/HGNN/data/INHS_cropped/images/INHS_FISH_026162_aug6.jpg saved!\n",
      "/home/elhamod/HGNN/data/INHS_cropped/images/INHS_FISH_026162_aug7.jpg saved!\n",
      "/home/elhamod/HGNN/data/INHS_cropped/images/INHS_FISH_026162_aug8.jpg saved!\n",
      "/home/elhamod/HGNN/data/INHS_cropped/images/INHS_FISH_026162_aug9.jpg saved!\n"
     ]
    },
    {
     "name": "stderr",
     "output_type": "stream",
     "text": [
      "\r",
      " 82% (456 of 550) |##################    | Elapsed Time: 0:08:43 ETA:   0:01:51"
     ]
    },
    {
     "name": "stdout",
     "output_type": "stream",
     "text": [
      "/home/elhamod/HGNN/data/INHS_cropped/images/INHS_FISH_90762_aug0.jpg saved!\n",
      "/home/elhamod/HGNN/data/INHS_cropped/images/INHS_FISH_90762_aug1.jpg saved!\n",
      "/home/elhamod/HGNN/data/INHS_cropped/images/INHS_FISH_90762_aug2.jpg saved!\n",
      "/home/elhamod/HGNN/data/INHS_cropped/images/INHS_FISH_90762_aug3.jpg saved!\n",
      "/home/elhamod/HGNN/data/INHS_cropped/images/INHS_FISH_90762_aug4.jpg saved!\n",
      "/home/elhamod/HGNN/data/INHS_cropped/images/INHS_FISH_90762_aug5.jpg saved!\n",
      "/home/elhamod/HGNN/data/INHS_cropped/images/INHS_FISH_90762_aug6.jpg saved!\n",
      "/home/elhamod/HGNN/data/INHS_cropped/images/INHS_FISH_90762_aug7.jpg saved!\n",
      "/home/elhamod/HGNN/data/INHS_cropped/images/INHS_FISH_90762_aug8.jpg saved!\n",
      "/home/elhamod/HGNN/data/INHS_cropped/images/INHS_FISH_90762_aug9.jpg saved!\n"
     ]
    },
    {
     "name": "stderr",
     "output_type": "stream",
     "text": [
      "\r",
      " 83% (457 of 550) |##################    | Elapsed Time: 0:08:44 ETA:   0:01:47"
     ]
    },
    {
     "name": "stdout",
     "output_type": "stream",
     "text": [
      "/home/elhamod/HGNN/data/INHS_cropped/images/INHS_FISH_100045_aug0.jpg saved!\n",
      "/home/elhamod/HGNN/data/INHS_cropped/images/INHS_FISH_100045_aug1.jpg saved!\n",
      "/home/elhamod/HGNN/data/INHS_cropped/images/INHS_FISH_100045_aug2.jpg saved!\n",
      "/home/elhamod/HGNN/data/INHS_cropped/images/INHS_FISH_100045_aug3.jpg saved!\n",
      "/home/elhamod/HGNN/data/INHS_cropped/images/INHS_FISH_100045_aug4.jpg saved!\n",
      "/home/elhamod/HGNN/data/INHS_cropped/images/INHS_FISH_100045_aug5.jpg saved!\n",
      "/home/elhamod/HGNN/data/INHS_cropped/images/INHS_FISH_100045_aug6.jpg saved!\n",
      "/home/elhamod/HGNN/data/INHS_cropped/images/INHS_FISH_100045_aug7.jpg saved!\n",
      "/home/elhamod/HGNN/data/INHS_cropped/images/INHS_FISH_100045_aug8.jpg saved!\n",
      "/home/elhamod/HGNN/data/INHS_cropped/images/INHS_FISH_100045_aug9.jpg saved!\n"
     ]
    },
    {
     "name": "stderr",
     "output_type": "stream",
     "text": [
      "\r",
      " 83% (458 of 550) |##################    | Elapsed Time: 0:08:46 ETA:   0:01:42"
     ]
    },
    {
     "name": "stdout",
     "output_type": "stream",
     "text": [
      "/home/elhamod/HGNN/data/INHS_cropped/images/INHS_FISH_107971_aug0.jpg saved!\n",
      "/home/elhamod/HGNN/data/INHS_cropped/images/INHS_FISH_107971_aug1.jpg saved!\n",
      "/home/elhamod/HGNN/data/INHS_cropped/images/INHS_FISH_107971_aug2.jpg saved!\n",
      "/home/elhamod/HGNN/data/INHS_cropped/images/INHS_FISH_107971_aug3.jpg saved!\n",
      "/home/elhamod/HGNN/data/INHS_cropped/images/INHS_FISH_107971_aug4.jpg saved!\n",
      "/home/elhamod/HGNN/data/INHS_cropped/images/INHS_FISH_107971_aug5.jpg saved!\n",
      "/home/elhamod/HGNN/data/INHS_cropped/images/INHS_FISH_107971_aug6.jpg saved!\n",
      "/home/elhamod/HGNN/data/INHS_cropped/images/INHS_FISH_107971_aug7.jpg saved!\n",
      "/home/elhamod/HGNN/data/INHS_cropped/images/INHS_FISH_107971_aug8.jpg saved!\n",
      "/home/elhamod/HGNN/data/INHS_cropped/images/INHS_FISH_107971_aug9.jpg saved!\n"
     ]
    },
    {
     "name": "stderr",
     "output_type": "stream",
     "text": [
      "\r",
      " 83% (459 of 550) |##################    | Elapsed Time: 0:08:47 ETA:   0:01:41"
     ]
    },
    {
     "name": "stdout",
     "output_type": "stream",
     "text": [
      "/home/elhamod/HGNN/data/INHS_cropped/images/INHS_FISH_23824_aug0.jpg saved!\n",
      "/home/elhamod/HGNN/data/INHS_cropped/images/INHS_FISH_23824_aug1.jpg saved!\n",
      "/home/elhamod/HGNN/data/INHS_cropped/images/INHS_FISH_23824_aug2.jpg saved!\n",
      "/home/elhamod/HGNN/data/INHS_cropped/images/INHS_FISH_23824_aug3.jpg saved!\n",
      "/home/elhamod/HGNN/data/INHS_cropped/images/INHS_FISH_23824_aug4.jpg saved!\n",
      "/home/elhamod/HGNN/data/INHS_cropped/images/INHS_FISH_23824_aug5.jpg saved!\n",
      "/home/elhamod/HGNN/data/INHS_cropped/images/INHS_FISH_23824_aug6.jpg saved!\n",
      "/home/elhamod/HGNN/data/INHS_cropped/images/INHS_FISH_23824_aug7.jpg saved!\n",
      "/home/elhamod/HGNN/data/INHS_cropped/images/INHS_FISH_23824_aug8.jpg saved!\n",
      "/home/elhamod/HGNN/data/INHS_cropped/images/INHS_FISH_23824_aug9.jpg saved!\n"
     ]
    },
    {
     "name": "stderr",
     "output_type": "stream",
     "text": [
      "\r",
      " 83% (460 of 550) |##################    | Elapsed Time: 0:08:48 ETA:   0:01:40"
     ]
    },
    {
     "name": "stdout",
     "output_type": "stream",
     "text": [
      "/home/elhamod/HGNN/data/INHS_cropped/images/INHS_FISH_38963_aug0.jpg saved!\n",
      "/home/elhamod/HGNN/data/INHS_cropped/images/INHS_FISH_38963_aug1.jpg saved!\n",
      "/home/elhamod/HGNN/data/INHS_cropped/images/INHS_FISH_38963_aug2.jpg saved!\n",
      "/home/elhamod/HGNN/data/INHS_cropped/images/INHS_FISH_38963_aug3.jpg saved!\n",
      "/home/elhamod/HGNN/data/INHS_cropped/images/INHS_FISH_38963_aug4.jpg saved!\n",
      "/home/elhamod/HGNN/data/INHS_cropped/images/INHS_FISH_38963_aug5.jpg saved!\n",
      "/home/elhamod/HGNN/data/INHS_cropped/images/INHS_FISH_38963_aug6.jpg saved!\n",
      "/home/elhamod/HGNN/data/INHS_cropped/images/INHS_FISH_38963_aug7.jpg saved!\n",
      "/home/elhamod/HGNN/data/INHS_cropped/images/INHS_FISH_38963_aug8.jpg saved!\n",
      "/home/elhamod/HGNN/data/INHS_cropped/images/INHS_FISH_38963_aug9.jpg saved!\n"
     ]
    },
    {
     "name": "stderr",
     "output_type": "stream",
     "text": [
      "\r",
      " 83% (461 of 550) |##################    | Elapsed Time: 0:08:49 ETA:   0:01:39"
     ]
    },
    {
     "name": "stdout",
     "output_type": "stream",
     "text": [
      "/home/elhamod/HGNN/data/INHS_cropped/images/INHS_FISH_106363_aug0.jpg saved!\n",
      "/home/elhamod/HGNN/data/INHS_cropped/images/INHS_FISH_106363_aug1.jpg saved!\n",
      "/home/elhamod/HGNN/data/INHS_cropped/images/INHS_FISH_106363_aug2.jpg saved!\n",
      "/home/elhamod/HGNN/data/INHS_cropped/images/INHS_FISH_106363_aug3.jpg saved!\n",
      "/home/elhamod/HGNN/data/INHS_cropped/images/INHS_FISH_106363_aug4.jpg saved!\n",
      "/home/elhamod/HGNN/data/INHS_cropped/images/INHS_FISH_106363_aug5.jpg saved!\n",
      "/home/elhamod/HGNN/data/INHS_cropped/images/INHS_FISH_106363_aug6.jpg saved!\n",
      "/home/elhamod/HGNN/data/INHS_cropped/images/INHS_FISH_106363_aug7.jpg saved!\n",
      "/home/elhamod/HGNN/data/INHS_cropped/images/INHS_FISH_106363_aug8.jpg saved!\n",
      "/home/elhamod/HGNN/data/INHS_cropped/images/INHS_FISH_106363_aug9.jpg saved!\n"
     ]
    },
    {
     "name": "stderr",
     "output_type": "stream",
     "text": [
      "\r",
      " 84% (462 of 550) |##################    | Elapsed Time: 0:08:50 ETA:   0:01:38"
     ]
    },
    {
     "name": "stdout",
     "output_type": "stream",
     "text": [
      "/home/elhamod/HGNN/data/INHS_cropped/images/INHS_FISH_9987_aug0.jpg saved!\n",
      "/home/elhamod/HGNN/data/INHS_cropped/images/INHS_FISH_9987_aug1.jpg saved!\n",
      "/home/elhamod/HGNN/data/INHS_cropped/images/INHS_FISH_9987_aug2.jpg saved!\n",
      "/home/elhamod/HGNN/data/INHS_cropped/images/INHS_FISH_9987_aug3.jpg saved!\n",
      "/home/elhamod/HGNN/data/INHS_cropped/images/INHS_FISH_9987_aug4.jpg saved!\n",
      "/home/elhamod/HGNN/data/INHS_cropped/images/INHS_FISH_9987_aug5.jpg saved!\n",
      "/home/elhamod/HGNN/data/INHS_cropped/images/INHS_FISH_9987_aug6.jpg saved!\n",
      "/home/elhamod/HGNN/data/INHS_cropped/images/INHS_FISH_9987_aug7.jpg saved!\n",
      "/home/elhamod/HGNN/data/INHS_cropped/images/INHS_FISH_9987_aug8.jpg saved!\n",
      "/home/elhamod/HGNN/data/INHS_cropped/images/INHS_FISH_9987_aug9.jpg saved!\n"
     ]
    },
    {
     "name": "stderr",
     "output_type": "stream",
     "text": [
      "\r",
      " 84% (463 of 550) |##################    | Elapsed Time: 0:08:51 ETA:   0:01:36"
     ]
    },
    {
     "name": "stdout",
     "output_type": "stream",
     "text": [
      "/home/elhamod/HGNN/data/INHS_cropped/images/INHS_FISH_90210_aug0.jpg saved!\n",
      "/home/elhamod/HGNN/data/INHS_cropped/images/INHS_FISH_90210_aug1.jpg saved!\n",
      "/home/elhamod/HGNN/data/INHS_cropped/images/INHS_FISH_90210_aug2.jpg saved!\n",
      "/home/elhamod/HGNN/data/INHS_cropped/images/INHS_FISH_90210_aug3.jpg saved!\n",
      "/home/elhamod/HGNN/data/INHS_cropped/images/INHS_FISH_90210_aug4.jpg saved!\n",
      "/home/elhamod/HGNN/data/INHS_cropped/images/INHS_FISH_90210_aug5.jpg saved!\n",
      "/home/elhamod/HGNN/data/INHS_cropped/images/INHS_FISH_90210_aug6.jpg saved!\n",
      "/home/elhamod/HGNN/data/INHS_cropped/images/INHS_FISH_90210_aug7.jpg saved!\n",
      "/home/elhamod/HGNN/data/INHS_cropped/images/INHS_FISH_90210_aug8.jpg saved!\n",
      "/home/elhamod/HGNN/data/INHS_cropped/images/INHS_FISH_90210_aug9.jpg saved!\n"
     ]
    },
    {
     "name": "stderr",
     "output_type": "stream",
     "text": [
      "\r",
      " 84% (464 of 550) |##################    | Elapsed Time: 0:08:52 ETA:   0:01:35"
     ]
    },
    {
     "name": "stdout",
     "output_type": "stream",
     "text": [
      "/home/elhamod/HGNN/data/INHS_cropped/images/INHS_FISH_99106_aug0.jpg saved!\n",
      "/home/elhamod/HGNN/data/INHS_cropped/images/INHS_FISH_99106_aug1.jpg saved!\n",
      "/home/elhamod/HGNN/data/INHS_cropped/images/INHS_FISH_99106_aug2.jpg saved!\n",
      "/home/elhamod/HGNN/data/INHS_cropped/images/INHS_FISH_99106_aug3.jpg saved!\n",
      "/home/elhamod/HGNN/data/INHS_cropped/images/INHS_FISH_99106_aug4.jpg saved!\n",
      "/home/elhamod/HGNN/data/INHS_cropped/images/INHS_FISH_99106_aug5.jpg saved!\n",
      "/home/elhamod/HGNN/data/INHS_cropped/images/INHS_FISH_99106_aug6.jpg saved!\n",
      "/home/elhamod/HGNN/data/INHS_cropped/images/INHS_FISH_99106_aug7.jpg saved!\n",
      "/home/elhamod/HGNN/data/INHS_cropped/images/INHS_FISH_99106_aug8.jpg saved!\n",
      "/home/elhamod/HGNN/data/INHS_cropped/images/INHS_FISH_99106_aug9.jpg saved!\n"
     ]
    },
    {
     "name": "stderr",
     "output_type": "stream",
     "text": [
      "\r",
      " 84% (465 of 550) |##################    | Elapsed Time: 0:08:53 ETA:   0:01:34"
     ]
    },
    {
     "name": "stdout",
     "output_type": "stream",
     "text": [
      "/home/elhamod/HGNN/data/INHS_cropped/images/INHS_FISH_46363_aug0.jpg saved!\n",
      "/home/elhamod/HGNN/data/INHS_cropped/images/INHS_FISH_46363_aug1.jpg saved!\n",
      "/home/elhamod/HGNN/data/INHS_cropped/images/INHS_FISH_46363_aug2.jpg saved!\n",
      "/home/elhamod/HGNN/data/INHS_cropped/images/INHS_FISH_46363_aug3.jpg saved!\n",
      "/home/elhamod/HGNN/data/INHS_cropped/images/INHS_FISH_46363_aug4.jpg saved!\n",
      "/home/elhamod/HGNN/data/INHS_cropped/images/INHS_FISH_46363_aug5.jpg saved!\n",
      "/home/elhamod/HGNN/data/INHS_cropped/images/INHS_FISH_46363_aug6.jpg saved!\n",
      "/home/elhamod/HGNN/data/INHS_cropped/images/INHS_FISH_46363_aug7.jpg saved!\n",
      "/home/elhamod/HGNN/data/INHS_cropped/images/INHS_FISH_46363_aug8.jpg saved!\n",
      "/home/elhamod/HGNN/data/INHS_cropped/images/INHS_FISH_46363_aug9.jpg saved!\n"
     ]
    },
    {
     "name": "stderr",
     "output_type": "stream",
     "text": [
      "\r",
      " 84% (466 of 550) |##################    | Elapsed Time: 0:08:54 ETA:   0:01:33"
     ]
    },
    {
     "name": "stdout",
     "output_type": "stream",
     "text": [
      "/home/elhamod/HGNN/data/INHS_cropped/images/INHS_FISH_18642_aug0.jpg saved!\n",
      "/home/elhamod/HGNN/data/INHS_cropped/images/INHS_FISH_18642_aug1.jpg saved!\n",
      "/home/elhamod/HGNN/data/INHS_cropped/images/INHS_FISH_18642_aug2.jpg saved!\n",
      "/home/elhamod/HGNN/data/INHS_cropped/images/INHS_FISH_18642_aug3.jpg saved!\n",
      "/home/elhamod/HGNN/data/INHS_cropped/images/INHS_FISH_18642_aug4.jpg saved!\n",
      "/home/elhamod/HGNN/data/INHS_cropped/images/INHS_FISH_18642_aug5.jpg saved!\n",
      "/home/elhamod/HGNN/data/INHS_cropped/images/INHS_FISH_18642_aug6.jpg saved!\n",
      "/home/elhamod/HGNN/data/INHS_cropped/images/INHS_FISH_18642_aug7.jpg saved!\n",
      "/home/elhamod/HGNN/data/INHS_cropped/images/INHS_FISH_18642_aug8.jpg saved!\n",
      "/home/elhamod/HGNN/data/INHS_cropped/images/INHS_FISH_18642_aug9.jpg saved!\n"
     ]
    },
    {
     "name": "stderr",
     "output_type": "stream",
     "text": [
      "\r",
      " 84% (467 of 550) |##################    | Elapsed Time: 0:08:56 ETA:   0:01:32"
     ]
    },
    {
     "name": "stdout",
     "output_type": "stream",
     "text": [
      "/home/elhamod/HGNN/data/INHS_cropped/images/INHS_FISH_50043_aug0.jpg saved!\n",
      "/home/elhamod/HGNN/data/INHS_cropped/images/INHS_FISH_50043_aug1.jpg saved!\n",
      "/home/elhamod/HGNN/data/INHS_cropped/images/INHS_FISH_50043_aug2.jpg saved!\n",
      "/home/elhamod/HGNN/data/INHS_cropped/images/INHS_FISH_50043_aug3.jpg saved!\n",
      "/home/elhamod/HGNN/data/INHS_cropped/images/INHS_FISH_50043_aug4.jpg saved!\n",
      "/home/elhamod/HGNN/data/INHS_cropped/images/INHS_FISH_50043_aug5.jpg saved!\n",
      "/home/elhamod/HGNN/data/INHS_cropped/images/INHS_FISH_50043_aug6.jpg saved!\n",
      "/home/elhamod/HGNN/data/INHS_cropped/images/INHS_FISH_50043_aug7.jpg saved!\n",
      "/home/elhamod/HGNN/data/INHS_cropped/images/INHS_FISH_50043_aug8.jpg saved!\n",
      "/home/elhamod/HGNN/data/INHS_cropped/images/INHS_FISH_50043_aug9.jpg saved!\n"
     ]
    },
    {
     "name": "stderr",
     "output_type": "stream",
     "text": [
      "\r",
      " 85% (468 of 550) |##################    | Elapsed Time: 0:08:57 ETA:   0:01:31"
     ]
    },
    {
     "name": "stdout",
     "output_type": "stream",
     "text": [
      "/home/elhamod/HGNN/data/INHS_cropped/images/INHS_FISH_107452_aug0.jpg saved!\n",
      "/home/elhamod/HGNN/data/INHS_cropped/images/INHS_FISH_107452_aug1.jpg saved!\n",
      "/home/elhamod/HGNN/data/INHS_cropped/images/INHS_FISH_107452_aug2.jpg saved!\n",
      "/home/elhamod/HGNN/data/INHS_cropped/images/INHS_FISH_107452_aug3.jpg saved!\n",
      "/home/elhamod/HGNN/data/INHS_cropped/images/INHS_FISH_107452_aug4.jpg saved!\n",
      "/home/elhamod/HGNN/data/INHS_cropped/images/INHS_FISH_107452_aug5.jpg saved!\n",
      "/home/elhamod/HGNN/data/INHS_cropped/images/INHS_FISH_107452_aug6.jpg saved!\n",
      "/home/elhamod/HGNN/data/INHS_cropped/images/INHS_FISH_107452_aug7.jpg saved!\n",
      "/home/elhamod/HGNN/data/INHS_cropped/images/INHS_FISH_107452_aug8.jpg saved!\n",
      "/home/elhamod/HGNN/data/INHS_cropped/images/INHS_FISH_107452_aug9.jpg saved!\n",
      "/home/elhamod/HGNN/data/INHS_cropped/images/INHS_FISH_46224_aug0.jpg saved!\n"
     ]
    },
    {
     "name": "stderr",
     "output_type": "stream",
     "text": [
      "\r",
      " 85% (469 of 550) |##################    | Elapsed Time: 0:08:58 ETA:   0:01:49"
     ]
    },
    {
     "name": "stdout",
     "output_type": "stream",
     "text": [
      "/home/elhamod/HGNN/data/INHS_cropped/images/INHS_FISH_46224_aug1.jpg saved!\n",
      "/home/elhamod/HGNN/data/INHS_cropped/images/INHS_FISH_46224_aug2.jpg saved!\n",
      "/home/elhamod/HGNN/data/INHS_cropped/images/INHS_FISH_46224_aug3.jpg saved!\n",
      "/home/elhamod/HGNN/data/INHS_cropped/images/INHS_FISH_46224_aug4.jpg saved!\n",
      "/home/elhamod/HGNN/data/INHS_cropped/images/INHS_FISH_46224_aug5.jpg saved!\n",
      "/home/elhamod/HGNN/data/INHS_cropped/images/INHS_FISH_46224_aug6.jpg saved!\n",
      "/home/elhamod/HGNN/data/INHS_cropped/images/INHS_FISH_46224_aug7.jpg saved!\n",
      "/home/elhamod/HGNN/data/INHS_cropped/images/INHS_FISH_46224_aug8.jpg saved!\n",
      "/home/elhamod/HGNN/data/INHS_cropped/images/INHS_FISH_46224_aug9.jpg saved!\n"
     ]
    },
    {
     "name": "stderr",
     "output_type": "stream",
     "text": [
      "\r",
      " 85% (470 of 550) |##################    | Elapsed Time: 0:08:59 ETA:   0:01:48"
     ]
    },
    {
     "name": "stdout",
     "output_type": "stream",
     "text": [
      "/home/elhamod/HGNN/data/INHS_cropped/images/INHS_FISH_33863_aug0.jpg saved!\n",
      "/home/elhamod/HGNN/data/INHS_cropped/images/INHS_FISH_33863_aug1.jpg saved!\n",
      "/home/elhamod/HGNN/data/INHS_cropped/images/INHS_FISH_33863_aug2.jpg saved!\n",
      "/home/elhamod/HGNN/data/INHS_cropped/images/INHS_FISH_33863_aug3.jpg saved!\n",
      "/home/elhamod/HGNN/data/INHS_cropped/images/INHS_FISH_33863_aug4.jpg saved!\n",
      "/home/elhamod/HGNN/data/INHS_cropped/images/INHS_FISH_33863_aug5.jpg saved!\n",
      "/home/elhamod/HGNN/data/INHS_cropped/images/INHS_FISH_33863_aug6.jpg saved!\n",
      "/home/elhamod/HGNN/data/INHS_cropped/images/INHS_FISH_33863_aug7.jpg saved!\n",
      "/home/elhamod/HGNN/data/INHS_cropped/images/INHS_FISH_33863_aug8.jpg saved!\n",
      "/home/elhamod/HGNN/data/INHS_cropped/images/INHS_FISH_33863_aug9.jpg saved!\n"
     ]
    },
    {
     "name": "stderr",
     "output_type": "stream",
     "text": [
      "\r",
      " 85% (471 of 550) |##################    | Elapsed Time: 0:09:01 ETA:   0:01:28"
     ]
    },
    {
     "name": "stdout",
     "output_type": "stream",
     "text": [
      "/home/elhamod/HGNN/data/INHS_cropped/images/INHS_FISH_89331_aug0.jpg saved!\n",
      "/home/elhamod/HGNN/data/INHS_cropped/images/INHS_FISH_89331_aug1.jpg saved!\n",
      "/home/elhamod/HGNN/data/INHS_cropped/images/INHS_FISH_89331_aug2.jpg saved!\n",
      "/home/elhamod/HGNN/data/INHS_cropped/images/INHS_FISH_89331_aug3.jpg saved!\n",
      "/home/elhamod/HGNN/data/INHS_cropped/images/INHS_FISH_89331_aug4.jpg saved!\n",
      "/home/elhamod/HGNN/data/INHS_cropped/images/INHS_FISH_89331_aug5.jpg saved!\n",
      "/home/elhamod/HGNN/data/INHS_cropped/images/INHS_FISH_89331_aug6.jpg saved!\n",
      "/home/elhamod/HGNN/data/INHS_cropped/images/INHS_FISH_89331_aug7.jpg saved!\n",
      "/home/elhamod/HGNN/data/INHS_cropped/images/INHS_FISH_89331_aug8.jpg saved!\n",
      "/home/elhamod/HGNN/data/INHS_cropped/images/INHS_FISH_89331_aug9.jpg saved!\n"
     ]
    },
    {
     "name": "stderr",
     "output_type": "stream",
     "text": [
      "\r",
      " 85% (472 of 550) |##################    | Elapsed Time: 0:09:02 ETA:   0:01:26"
     ]
    },
    {
     "name": "stdout",
     "output_type": "stream",
     "text": [
      "/home/elhamod/HGNN/data/INHS_cropped/images/INHS_FISH_57017_aug0.jpg saved!\n",
      "/home/elhamod/HGNN/data/INHS_cropped/images/INHS_FISH_57017_aug1.jpg saved!\n",
      "/home/elhamod/HGNN/data/INHS_cropped/images/INHS_FISH_57017_aug2.jpg saved!\n",
      "/home/elhamod/HGNN/data/INHS_cropped/images/INHS_FISH_57017_aug3.jpg saved!\n",
      "/home/elhamod/HGNN/data/INHS_cropped/images/INHS_FISH_57017_aug4.jpg saved!\n",
      "/home/elhamod/HGNN/data/INHS_cropped/images/INHS_FISH_57017_aug5.jpg saved!\n",
      "/home/elhamod/HGNN/data/INHS_cropped/images/INHS_FISH_57017_aug6.jpg saved!\n",
      "/home/elhamod/HGNN/data/INHS_cropped/images/INHS_FISH_57017_aug7.jpg saved!\n",
      "/home/elhamod/HGNN/data/INHS_cropped/images/INHS_FISH_57017_aug8.jpg saved!\n",
      "/home/elhamod/HGNN/data/INHS_cropped/images/INHS_FISH_57017_aug9.jpg saved!\n"
     ]
    },
    {
     "name": "stderr",
     "output_type": "stream",
     "text": [
      "\r",
      " 86% (473 of 550) |##################    | Elapsed Time: 0:09:03 ETA:   0:01:25"
     ]
    },
    {
     "name": "stdout",
     "output_type": "stream",
     "text": [
      "/home/elhamod/HGNN/data/INHS_cropped/images/INHS_FISH_90219_aug0.jpg saved!\n",
      "/home/elhamod/HGNN/data/INHS_cropped/images/INHS_FISH_90219_aug1.jpg saved!\n",
      "/home/elhamod/HGNN/data/INHS_cropped/images/INHS_FISH_90219_aug2.jpg saved!\n",
      "/home/elhamod/HGNN/data/INHS_cropped/images/INHS_FISH_90219_aug3.jpg saved!\n",
      "/home/elhamod/HGNN/data/INHS_cropped/images/INHS_FISH_90219_aug4.jpg saved!\n",
      "/home/elhamod/HGNN/data/INHS_cropped/images/INHS_FISH_90219_aug5.jpg saved!\n",
      "/home/elhamod/HGNN/data/INHS_cropped/images/INHS_FISH_90219_aug6.jpg saved!\n",
      "/home/elhamod/HGNN/data/INHS_cropped/images/INHS_FISH_90219_aug7.jpg saved!\n",
      "/home/elhamod/HGNN/data/INHS_cropped/images/INHS_FISH_90219_aug8.jpg saved!\n",
      "/home/elhamod/HGNN/data/INHS_cropped/images/INHS_FISH_90219_aug9.jpg saved!\n"
     ]
    },
    {
     "name": "stderr",
     "output_type": "stream",
     "text": [
      "\r",
      " 86% (474 of 550) |##################    | Elapsed Time: 0:09:04 ETA:   0:01:24"
     ]
    },
    {
     "name": "stdout",
     "output_type": "stream",
     "text": [
      "/home/elhamod/HGNN/data/INHS_cropped/images/INHS_FISH_75225_aug0.jpg saved!\n",
      "/home/elhamod/HGNN/data/INHS_cropped/images/INHS_FISH_75225_aug1.jpg saved!\n",
      "/home/elhamod/HGNN/data/INHS_cropped/images/INHS_FISH_75225_aug2.jpg saved!\n",
      "/home/elhamod/HGNN/data/INHS_cropped/images/INHS_FISH_75225_aug3.jpg saved!\n",
      "/home/elhamod/HGNN/data/INHS_cropped/images/INHS_FISH_75225_aug4.jpg saved!\n",
      "/home/elhamod/HGNN/data/INHS_cropped/images/INHS_FISH_75225_aug5.jpg saved!\n",
      "/home/elhamod/HGNN/data/INHS_cropped/images/INHS_FISH_75225_aug6.jpg saved!\n",
      "/home/elhamod/HGNN/data/INHS_cropped/images/INHS_FISH_75225_aug7.jpg saved!\n",
      "/home/elhamod/HGNN/data/INHS_cropped/images/INHS_FISH_75225_aug8.jpg saved!\n",
      "/home/elhamod/HGNN/data/INHS_cropped/images/INHS_FISH_75225_aug9.jpg saved!\n"
     ]
    },
    {
     "name": "stderr",
     "output_type": "stream",
     "text": [
      "\r",
      " 86% (475 of 550) |###################   | Elapsed Time: 0:09:05 ETA:   0:01:23"
     ]
    },
    {
     "name": "stdout",
     "output_type": "stream",
     "text": [
      "/home/elhamod/HGNN/data/INHS_cropped/images/INHS_FISH_9169_aug0.jpg saved!\n",
      "/home/elhamod/HGNN/data/INHS_cropped/images/INHS_FISH_9169_aug1.jpg saved!\n",
      "/home/elhamod/HGNN/data/INHS_cropped/images/INHS_FISH_9169_aug2.jpg saved!\n",
      "/home/elhamod/HGNN/data/INHS_cropped/images/INHS_FISH_9169_aug3.jpg saved!\n",
      "/home/elhamod/HGNN/data/INHS_cropped/images/INHS_FISH_9169_aug4.jpg saved!\n",
      "/home/elhamod/HGNN/data/INHS_cropped/images/INHS_FISH_9169_aug5.jpg saved!\n",
      "/home/elhamod/HGNN/data/INHS_cropped/images/INHS_FISH_9169_aug6.jpg saved!\n",
      "/home/elhamod/HGNN/data/INHS_cropped/images/INHS_FISH_9169_aug7.jpg saved!\n",
      "/home/elhamod/HGNN/data/INHS_cropped/images/INHS_FISH_9169_aug8.jpg saved!\n",
      "/home/elhamod/HGNN/data/INHS_cropped/images/INHS_FISH_9169_aug9.jpg saved!\n"
     ]
    },
    {
     "name": "stderr",
     "output_type": "stream",
     "text": [
      "\r",
      " 86% (476 of 550) |###################   | Elapsed Time: 0:09:06 ETA:   0:01:24"
     ]
    },
    {
     "name": "stdout",
     "output_type": "stream",
     "text": [
      "/home/elhamod/HGNN/data/INHS_cropped/images/INHS_FISH_006548_aug0.jpg saved!\n",
      "/home/elhamod/HGNN/data/INHS_cropped/images/INHS_FISH_006548_aug1.jpg saved!\n",
      "/home/elhamod/HGNN/data/INHS_cropped/images/INHS_FISH_006548_aug2.jpg saved!\n",
      "/home/elhamod/HGNN/data/INHS_cropped/images/INHS_FISH_006548_aug3.jpg saved!\n",
      "/home/elhamod/HGNN/data/INHS_cropped/images/INHS_FISH_006548_aug4.jpg saved!\n",
      "/home/elhamod/HGNN/data/INHS_cropped/images/INHS_FISH_006548_aug5.jpg saved!\n",
      "/home/elhamod/HGNN/data/INHS_cropped/images/INHS_FISH_006548_aug6.jpg saved!\n",
      "/home/elhamod/HGNN/data/INHS_cropped/images/INHS_FISH_006548_aug7.jpg saved!\n",
      "/home/elhamod/HGNN/data/INHS_cropped/images/INHS_FISH_006548_aug8.jpg saved!\n",
      "/home/elhamod/HGNN/data/INHS_cropped/images/INHS_FISH_006548_aug9.jpg saved!\n"
     ]
    },
    {
     "name": "stderr",
     "output_type": "stream",
     "text": [
      "\r",
      " 86% (477 of 550) |###################   | Elapsed Time: 0:09:07 ETA:   0:01:26"
     ]
    },
    {
     "name": "stdout",
     "output_type": "stream",
     "text": [
      "/home/elhamod/HGNN/data/INHS_cropped/images/INHS_FISH_25279_aug0.jpg saved!\n",
      "/home/elhamod/HGNN/data/INHS_cropped/images/INHS_FISH_25279_aug1.jpg saved!\n",
      "/home/elhamod/HGNN/data/INHS_cropped/images/INHS_FISH_25279_aug2.jpg saved!\n",
      "/home/elhamod/HGNN/data/INHS_cropped/images/INHS_FISH_25279_aug3.jpg saved!\n",
      "/home/elhamod/HGNN/data/INHS_cropped/images/INHS_FISH_25279_aug4.jpg saved!\n",
      "/home/elhamod/HGNN/data/INHS_cropped/images/INHS_FISH_25279_aug5.jpg saved!\n",
      "/home/elhamod/HGNN/data/INHS_cropped/images/INHS_FISH_25279_aug6.jpg saved!\n",
      "/home/elhamod/HGNN/data/INHS_cropped/images/INHS_FISH_25279_aug7.jpg saved!\n",
      "/home/elhamod/HGNN/data/INHS_cropped/images/INHS_FISH_25279_aug8.jpg saved!\n",
      "/home/elhamod/HGNN/data/INHS_cropped/images/INHS_FISH_25279_aug9.jpg saved!\n"
     ]
    },
    {
     "name": "stderr",
     "output_type": "stream",
     "text": [
      "\r",
      " 86% (478 of 550) |###################   | Elapsed Time: 0:09:08 ETA:   0:01:23"
     ]
    },
    {
     "name": "stdout",
     "output_type": "stream",
     "text": [
      "/home/elhamod/HGNN/data/INHS_cropped/images/INHS_FISH_104031_aug0.jpg saved!\n",
      "/home/elhamod/HGNN/data/INHS_cropped/images/INHS_FISH_104031_aug1.jpg saved!\n",
      "/home/elhamod/HGNN/data/INHS_cropped/images/INHS_FISH_104031_aug2.jpg saved!\n",
      "/home/elhamod/HGNN/data/INHS_cropped/images/INHS_FISH_104031_aug3.jpg saved!\n",
      "/home/elhamod/HGNN/data/INHS_cropped/images/INHS_FISH_104031_aug4.jpg saved!\n",
      "/home/elhamod/HGNN/data/INHS_cropped/images/INHS_FISH_104031_aug5.jpg saved!\n",
      "/home/elhamod/HGNN/data/INHS_cropped/images/INHS_FISH_104031_aug6.jpg saved!\n",
      "/home/elhamod/HGNN/data/INHS_cropped/images/INHS_FISH_104031_aug7.jpg saved!\n",
      "/home/elhamod/HGNN/data/INHS_cropped/images/INHS_FISH_104031_aug8.jpg saved!\n",
      "/home/elhamod/HGNN/data/INHS_cropped/images/INHS_FISH_104031_aug9.jpg saved!\n"
     ]
    },
    {
     "name": "stderr",
     "output_type": "stream",
     "text": [
      "\r",
      " 87% (479 of 550) |###################   | Elapsed Time: 0:09:10 ETA:   0:01:19"
     ]
    },
    {
     "name": "stdout",
     "output_type": "stream",
     "text": [
      "/home/elhamod/HGNN/data/INHS_cropped/images/INHS_FISH_25303_aug0.jpg saved!\n",
      "/home/elhamod/HGNN/data/INHS_cropped/images/INHS_FISH_25303_aug1.jpg saved!\n",
      "/home/elhamod/HGNN/data/INHS_cropped/images/INHS_FISH_25303_aug2.jpg saved!\n",
      "/home/elhamod/HGNN/data/INHS_cropped/images/INHS_FISH_25303_aug3.jpg saved!\n",
      "/home/elhamod/HGNN/data/INHS_cropped/images/INHS_FISH_25303_aug4.jpg saved!\n",
      "/home/elhamod/HGNN/data/INHS_cropped/images/INHS_FISH_25303_aug5.jpg saved!\n",
      "/home/elhamod/HGNN/data/INHS_cropped/images/INHS_FISH_25303_aug6.jpg saved!\n",
      "/home/elhamod/HGNN/data/INHS_cropped/images/INHS_FISH_25303_aug7.jpg saved!\n",
      "/home/elhamod/HGNN/data/INHS_cropped/images/INHS_FISH_25303_aug8.jpg saved!\n",
      "/home/elhamod/HGNN/data/INHS_cropped/images/INHS_FISH_25303_aug9.jpg saved!\n"
     ]
    },
    {
     "name": "stderr",
     "output_type": "stream",
     "text": [
      "\r",
      " 87% (480 of 550) |###################   | Elapsed Time: 0:09:11 ETA:   0:01:18"
     ]
    },
    {
     "name": "stdout",
     "output_type": "stream",
     "text": [
      "/home/elhamod/HGNN/data/INHS_cropped/images/INHS_FISH_73746_aug0.jpg saved!\n",
      "/home/elhamod/HGNN/data/INHS_cropped/images/INHS_FISH_73746_aug1.jpg saved!\n",
      "/home/elhamod/HGNN/data/INHS_cropped/images/INHS_FISH_73746_aug2.jpg saved!\n",
      "/home/elhamod/HGNN/data/INHS_cropped/images/INHS_FISH_73746_aug3.jpg saved!\n",
      "/home/elhamod/HGNN/data/INHS_cropped/images/INHS_FISH_73746_aug4.jpg saved!\n",
      "/home/elhamod/HGNN/data/INHS_cropped/images/INHS_FISH_73746_aug5.jpg saved!\n",
      "/home/elhamod/HGNN/data/INHS_cropped/images/INHS_FISH_73746_aug6.jpg saved!\n",
      "/home/elhamod/HGNN/data/INHS_cropped/images/INHS_FISH_73746_aug7.jpg saved!\n",
      "/home/elhamod/HGNN/data/INHS_cropped/images/INHS_FISH_73746_aug8.jpg saved!\n",
      "/home/elhamod/HGNN/data/INHS_cropped/images/INHS_FISH_73746_aug9.jpg saved!\n"
     ]
    },
    {
     "name": "stderr",
     "output_type": "stream",
     "text": [
      "\r",
      " 87% (481 of 550) |###################   | Elapsed Time: 0:09:12 ETA:   0:01:17"
     ]
    },
    {
     "name": "stdout",
     "output_type": "stream",
     "text": [
      "/home/elhamod/HGNN/data/INHS_cropped/images/INHS_FISH_109100_aug0.jpg saved!\n",
      "/home/elhamod/HGNN/data/INHS_cropped/images/INHS_FISH_109100_aug1.jpg saved!\n",
      "/home/elhamod/HGNN/data/INHS_cropped/images/INHS_FISH_109100_aug2.jpg saved!\n",
      "/home/elhamod/HGNN/data/INHS_cropped/images/INHS_FISH_109100_aug3.jpg saved!\n",
      "/home/elhamod/HGNN/data/INHS_cropped/images/INHS_FISH_109100_aug4.jpg saved!\n",
      "/home/elhamod/HGNN/data/INHS_cropped/images/INHS_FISH_109100_aug5.jpg saved!\n",
      "/home/elhamod/HGNN/data/INHS_cropped/images/INHS_FISH_109100_aug6.jpg saved!\n",
      "/home/elhamod/HGNN/data/INHS_cropped/images/INHS_FISH_109100_aug7.jpg saved!\n",
      "/home/elhamod/HGNN/data/INHS_cropped/images/INHS_FISH_109100_aug8.jpg saved!\n",
      "/home/elhamod/HGNN/data/INHS_cropped/images/INHS_FISH_109100_aug9.jpg saved!\n"
     ]
    },
    {
     "name": "stderr",
     "output_type": "stream",
     "text": [
      "\r",
      " 87% (482 of 550) |###################   | Elapsed Time: 0:09:13 ETA:   0:01:16"
     ]
    },
    {
     "name": "stdout",
     "output_type": "stream",
     "text": [
      "/home/elhamod/HGNN/data/INHS_cropped/images/INHS_FISH_26685_aug0.jpg saved!\n",
      "/home/elhamod/HGNN/data/INHS_cropped/images/INHS_FISH_26685_aug1.jpg saved!\n",
      "/home/elhamod/HGNN/data/INHS_cropped/images/INHS_FISH_26685_aug2.jpg saved!\n",
      "/home/elhamod/HGNN/data/INHS_cropped/images/INHS_FISH_26685_aug3.jpg saved!\n",
      "/home/elhamod/HGNN/data/INHS_cropped/images/INHS_FISH_26685_aug4.jpg saved!\n",
      "/home/elhamod/HGNN/data/INHS_cropped/images/INHS_FISH_26685_aug5.jpg saved!\n",
      "/home/elhamod/HGNN/data/INHS_cropped/images/INHS_FISH_26685_aug6.jpg saved!\n",
      "/home/elhamod/HGNN/data/INHS_cropped/images/INHS_FISH_26685_aug7.jpg saved!\n",
      "/home/elhamod/HGNN/data/INHS_cropped/images/INHS_FISH_26685_aug8.jpg saved!\n",
      "/home/elhamod/HGNN/data/INHS_cropped/images/INHS_FISH_26685_aug9.jpg saved!\n"
     ]
    },
    {
     "name": "stderr",
     "output_type": "stream",
     "text": [
      "\r",
      " 87% (483 of 550) |###################   | Elapsed Time: 0:09:14 ETA:   0:01:17"
     ]
    },
    {
     "name": "stdout",
     "output_type": "stream",
     "text": [
      "/home/elhamod/HGNN/data/INHS_cropped/images/INHS_FISH_2237_aug0.jpg saved!\n",
      "/home/elhamod/HGNN/data/INHS_cropped/images/INHS_FISH_2237_aug1.jpg saved!\n",
      "/home/elhamod/HGNN/data/INHS_cropped/images/INHS_FISH_2237_aug2.jpg saved!\n",
      "/home/elhamod/HGNN/data/INHS_cropped/images/INHS_FISH_2237_aug3.jpg saved!\n",
      "/home/elhamod/HGNN/data/INHS_cropped/images/INHS_FISH_2237_aug4.jpg saved!\n",
      "/home/elhamod/HGNN/data/INHS_cropped/images/INHS_FISH_2237_aug5.jpg saved!\n",
      "/home/elhamod/HGNN/data/INHS_cropped/images/INHS_FISH_2237_aug6.jpg saved!\n",
      "/home/elhamod/HGNN/data/INHS_cropped/images/INHS_FISH_2237_aug7.jpg saved!\n",
      "/home/elhamod/HGNN/data/INHS_cropped/images/INHS_FISH_2237_aug8.jpg saved!\n",
      "/home/elhamod/HGNN/data/INHS_cropped/images/INHS_FISH_2237_aug9.jpg saved!\n"
     ]
    },
    {
     "name": "stderr",
     "output_type": "stream",
     "text": [
      "\r",
      " 88% (484 of 550) |###################   | Elapsed Time: 0:09:15 ETA:   0:01:15"
     ]
    },
    {
     "name": "stdout",
     "output_type": "stream",
     "text": [
      "/home/elhamod/HGNN/data/INHS_cropped/images/INHS_FISH_85433_aug0.jpg saved!\n",
      "/home/elhamod/HGNN/data/INHS_cropped/images/INHS_FISH_85433_aug1.jpg saved!\n",
      "/home/elhamod/HGNN/data/INHS_cropped/images/INHS_FISH_85433_aug2.jpg saved!\n",
      "/home/elhamod/HGNN/data/INHS_cropped/images/INHS_FISH_85433_aug3.jpg saved!\n",
      "/home/elhamod/HGNN/data/INHS_cropped/images/INHS_FISH_85433_aug4.jpg saved!\n",
      "/home/elhamod/HGNN/data/INHS_cropped/images/INHS_FISH_85433_aug5.jpg saved!\n",
      "/home/elhamod/HGNN/data/INHS_cropped/images/INHS_FISH_85433_aug6.jpg saved!\n",
      "/home/elhamod/HGNN/data/INHS_cropped/images/INHS_FISH_85433_aug7.jpg saved!\n",
      "/home/elhamod/HGNN/data/INHS_cropped/images/INHS_FISH_85433_aug8.jpg saved!\n",
      "/home/elhamod/HGNN/data/INHS_cropped/images/INHS_FISH_85433_aug9.jpg saved!\n"
     ]
    },
    {
     "name": "stderr",
     "output_type": "stream",
     "text": [
      "\r",
      " 88% (485 of 550) |###################   | Elapsed Time: 0:09:16 ETA:   0:01:14"
     ]
    },
    {
     "name": "stdout",
     "output_type": "stream",
     "text": [
      "/home/elhamod/HGNN/data/INHS_cropped/images/INHS_FISH_105894_aug0.jpg saved!\n",
      "/home/elhamod/HGNN/data/INHS_cropped/images/INHS_FISH_105894_aug1.jpg saved!\n",
      "/home/elhamod/HGNN/data/INHS_cropped/images/INHS_FISH_105894_aug2.jpg saved!\n",
      "/home/elhamod/HGNN/data/INHS_cropped/images/INHS_FISH_105894_aug3.jpg saved!\n",
      "/home/elhamod/HGNN/data/INHS_cropped/images/INHS_FISH_105894_aug4.jpg saved!\n",
      "/home/elhamod/HGNN/data/INHS_cropped/images/INHS_FISH_105894_aug5.jpg saved!\n",
      "/home/elhamod/HGNN/data/INHS_cropped/images/INHS_FISH_105894_aug6.jpg saved!\n",
      "/home/elhamod/HGNN/data/INHS_cropped/images/INHS_FISH_105894_aug7.jpg saved!\n",
      "/home/elhamod/HGNN/data/INHS_cropped/images/INHS_FISH_105894_aug8.jpg saved!\n",
      "/home/elhamod/HGNN/data/INHS_cropped/images/INHS_FISH_105894_aug9.jpg saved!\n"
     ]
    },
    {
     "name": "stderr",
     "output_type": "stream",
     "text": [
      "\r",
      " 88% (486 of 550) |###################   | Elapsed Time: 0:09:18 ETA:   0:01:13"
     ]
    },
    {
     "name": "stdout",
     "output_type": "stream",
     "text": [
      "/home/elhamod/HGNN/data/INHS_cropped/images/INHS_FISH_41053_aug0.jpg saved!\n",
      "/home/elhamod/HGNN/data/INHS_cropped/images/INHS_FISH_41053_aug1.jpg saved!\n",
      "/home/elhamod/HGNN/data/INHS_cropped/images/INHS_FISH_41053_aug2.jpg saved!\n",
      "/home/elhamod/HGNN/data/INHS_cropped/images/INHS_FISH_41053_aug3.jpg saved!\n",
      "/home/elhamod/HGNN/data/INHS_cropped/images/INHS_FISH_41053_aug4.jpg saved!\n",
      "/home/elhamod/HGNN/data/INHS_cropped/images/INHS_FISH_41053_aug5.jpg saved!\n",
      "/home/elhamod/HGNN/data/INHS_cropped/images/INHS_FISH_41053_aug6.jpg saved!\n",
      "/home/elhamod/HGNN/data/INHS_cropped/images/INHS_FISH_41053_aug7.jpg saved!\n",
      "/home/elhamod/HGNN/data/INHS_cropped/images/INHS_FISH_41053_aug8.jpg saved!\n",
      "/home/elhamod/HGNN/data/INHS_cropped/images/INHS_FISH_41053_aug9.jpg saved!\n"
     ]
    },
    {
     "name": "stderr",
     "output_type": "stream",
     "text": [
      "\r",
      " 88% (487 of 550) |###################   | Elapsed Time: 0:09:19 ETA:   0:01:12"
     ]
    },
    {
     "name": "stdout",
     "output_type": "stream",
     "text": [
      "/home/elhamod/HGNN/data/INHS_cropped/images/INHS_FISH_100636_aug0.jpg saved!\n",
      "/home/elhamod/HGNN/data/INHS_cropped/images/INHS_FISH_100636_aug1.jpg saved!\n",
      "/home/elhamod/HGNN/data/INHS_cropped/images/INHS_FISH_100636_aug2.jpg saved!\n",
      "/home/elhamod/HGNN/data/INHS_cropped/images/INHS_FISH_100636_aug3.jpg saved!\n",
      "/home/elhamod/HGNN/data/INHS_cropped/images/INHS_FISH_100636_aug4.jpg saved!\n",
      "/home/elhamod/HGNN/data/INHS_cropped/images/INHS_FISH_100636_aug5.jpg saved!\n",
      "/home/elhamod/HGNN/data/INHS_cropped/images/INHS_FISH_100636_aug6.jpg saved!\n",
      "/home/elhamod/HGNN/data/INHS_cropped/images/INHS_FISH_100636_aug7.jpg saved!\n",
      "/home/elhamod/HGNN/data/INHS_cropped/images/INHS_FISH_100636_aug8.jpg saved!\n",
      "/home/elhamod/HGNN/data/INHS_cropped/images/INHS_FISH_100636_aug9.jpg saved!\n"
     ]
    },
    {
     "name": "stderr",
     "output_type": "stream",
     "text": [
      "\r",
      " 88% (488 of 550) |###################   | Elapsed Time: 0:09:20 ETA:   0:01:10"
     ]
    },
    {
     "name": "stdout",
     "output_type": "stream",
     "text": [
      "/home/elhamod/HGNN/data/INHS_cropped/images/INHS_FISH_53366_aug0.jpg saved!\n",
      "/home/elhamod/HGNN/data/INHS_cropped/images/INHS_FISH_53366_aug1.jpg saved!\n",
      "/home/elhamod/HGNN/data/INHS_cropped/images/INHS_FISH_53366_aug2.jpg saved!\n",
      "/home/elhamod/HGNN/data/INHS_cropped/images/INHS_FISH_53366_aug3.jpg saved!\n",
      "/home/elhamod/HGNN/data/INHS_cropped/images/INHS_FISH_53366_aug4.jpg saved!\n",
      "/home/elhamod/HGNN/data/INHS_cropped/images/INHS_FISH_53366_aug5.jpg saved!\n",
      "/home/elhamod/HGNN/data/INHS_cropped/images/INHS_FISH_53366_aug6.jpg saved!\n",
      "/home/elhamod/HGNN/data/INHS_cropped/images/INHS_FISH_53366_aug7.jpg saved!\n",
      "/home/elhamod/HGNN/data/INHS_cropped/images/INHS_FISH_53366_aug8.jpg saved!\n",
      "/home/elhamod/HGNN/data/INHS_cropped/images/INHS_FISH_53366_aug9.jpg saved!\n"
     ]
    },
    {
     "name": "stderr",
     "output_type": "stream",
     "text": [
      "\r",
      " 88% (489 of 550) |###################   | Elapsed Time: 0:09:21 ETA:   0:01:09"
     ]
    },
    {
     "name": "stdout",
     "output_type": "stream",
     "text": [
      "/home/elhamod/HGNN/data/INHS_cropped/images/INHS_FISH_4297_aug0.jpg saved!\n",
      "/home/elhamod/HGNN/data/INHS_cropped/images/INHS_FISH_4297_aug1.jpg saved!\n",
      "/home/elhamod/HGNN/data/INHS_cropped/images/INHS_FISH_4297_aug2.jpg saved!\n",
      "/home/elhamod/HGNN/data/INHS_cropped/images/INHS_FISH_4297_aug3.jpg saved!\n",
      "/home/elhamod/HGNN/data/INHS_cropped/images/INHS_FISH_4297_aug4.jpg saved!\n",
      "/home/elhamod/HGNN/data/INHS_cropped/images/INHS_FISH_4297_aug5.jpg saved!\n",
      "/home/elhamod/HGNN/data/INHS_cropped/images/INHS_FISH_4297_aug6.jpg saved!\n",
      "/home/elhamod/HGNN/data/INHS_cropped/images/INHS_FISH_4297_aug7.jpg saved!\n",
      "/home/elhamod/HGNN/data/INHS_cropped/images/INHS_FISH_4297_aug8.jpg saved!\n",
      "/home/elhamod/HGNN/data/INHS_cropped/images/INHS_FISH_4297_aug9.jpg saved!\n"
     ]
    },
    {
     "name": "stderr",
     "output_type": "stream",
     "text": [
      "\r",
      " 89% (490 of 550) |###################   | Elapsed Time: 0:09:22 ETA:   0:01:08"
     ]
    },
    {
     "name": "stdout",
     "output_type": "stream",
     "text": [
      "/home/elhamod/HGNN/data/INHS_cropped/images/INHS_FISH_51172_aug0.jpg saved!\n",
      "/home/elhamod/HGNN/data/INHS_cropped/images/INHS_FISH_51172_aug1.jpg saved!\n",
      "/home/elhamod/HGNN/data/INHS_cropped/images/INHS_FISH_51172_aug2.jpg saved!\n",
      "/home/elhamod/HGNN/data/INHS_cropped/images/INHS_FISH_51172_aug3.jpg saved!\n",
      "/home/elhamod/HGNN/data/INHS_cropped/images/INHS_FISH_51172_aug4.jpg saved!\n",
      "/home/elhamod/HGNN/data/INHS_cropped/images/INHS_FISH_51172_aug5.jpg saved!\n",
      "/home/elhamod/HGNN/data/INHS_cropped/images/INHS_FISH_51172_aug6.jpg saved!\n",
      "/home/elhamod/HGNN/data/INHS_cropped/images/INHS_FISH_51172_aug7.jpg saved!\n",
      "/home/elhamod/HGNN/data/INHS_cropped/images/INHS_FISH_51172_aug8.jpg saved!\n",
      "/home/elhamod/HGNN/data/INHS_cropped/images/INHS_FISH_51172_aug9.jpg saved!\n"
     ]
    },
    {
     "name": "stderr",
     "output_type": "stream",
     "text": [
      "\r",
      " 89% (491 of 550) |###################   | Elapsed Time: 0:09:23 ETA:   0:01:06"
     ]
    },
    {
     "name": "stdout",
     "output_type": "stream",
     "text": [
      "/home/elhamod/HGNN/data/INHS_cropped/images/INHS_FISH_85738_aug0.jpg saved!\n",
      "/home/elhamod/HGNN/data/INHS_cropped/images/INHS_FISH_85738_aug1.jpg saved!\n",
      "/home/elhamod/HGNN/data/INHS_cropped/images/INHS_FISH_85738_aug2.jpg saved!\n",
      "/home/elhamod/HGNN/data/INHS_cropped/images/INHS_FISH_85738_aug3.jpg saved!\n",
      "/home/elhamod/HGNN/data/INHS_cropped/images/INHS_FISH_85738_aug4.jpg saved!\n",
      "/home/elhamod/HGNN/data/INHS_cropped/images/INHS_FISH_85738_aug5.jpg saved!\n",
      "/home/elhamod/HGNN/data/INHS_cropped/images/INHS_FISH_85738_aug6.jpg saved!\n",
      "/home/elhamod/HGNN/data/INHS_cropped/images/INHS_FISH_85738_aug7.jpg saved!\n",
      "/home/elhamod/HGNN/data/INHS_cropped/images/INHS_FISH_85738_aug8.jpg saved!\n",
      "/home/elhamod/HGNN/data/INHS_cropped/images/INHS_FISH_85738_aug9.jpg saved!\n"
     ]
    },
    {
     "name": "stderr",
     "output_type": "stream",
     "text": [
      "\r",
      " 89% (492 of 550) |###################   | Elapsed Time: 0:09:24 ETA:   0:01:05"
     ]
    },
    {
     "name": "stdout",
     "output_type": "stream",
     "text": [
      "/home/elhamod/HGNN/data/INHS_cropped/images/INHS_FISH_107071_aug0.jpg saved!\n",
      "/home/elhamod/HGNN/data/INHS_cropped/images/INHS_FISH_107071_aug1.jpg saved!\n",
      "/home/elhamod/HGNN/data/INHS_cropped/images/INHS_FISH_107071_aug2.jpg saved!\n",
      "/home/elhamod/HGNN/data/INHS_cropped/images/INHS_FISH_107071_aug3.jpg saved!\n",
      "/home/elhamod/HGNN/data/INHS_cropped/images/INHS_FISH_107071_aug4.jpg saved!\n",
      "/home/elhamod/HGNN/data/INHS_cropped/images/INHS_FISH_107071_aug5.jpg saved!\n",
      "/home/elhamod/HGNN/data/INHS_cropped/images/INHS_FISH_107071_aug6.jpg saved!\n",
      "/home/elhamod/HGNN/data/INHS_cropped/images/INHS_FISH_107071_aug7.jpg saved!\n",
      "/home/elhamod/HGNN/data/INHS_cropped/images/INHS_FISH_107071_aug8.jpg saved!\n",
      "/home/elhamod/HGNN/data/INHS_cropped/images/INHS_FISH_107071_aug9.jpg saved!\n"
     ]
    },
    {
     "name": "stderr",
     "output_type": "stream",
     "text": [
      "\r",
      " 89% (493 of 550) |###################   | Elapsed Time: 0:09:26 ETA:   0:01:03"
     ]
    },
    {
     "name": "stdout",
     "output_type": "stream",
     "text": [
      "/home/elhamod/HGNN/data/INHS_cropped/images/INHS_FISH_80695_aug0.jpg saved!\n",
      "/home/elhamod/HGNN/data/INHS_cropped/images/INHS_FISH_80695_aug1.jpg saved!\n",
      "/home/elhamod/HGNN/data/INHS_cropped/images/INHS_FISH_80695_aug2.jpg saved!\n",
      "/home/elhamod/HGNN/data/INHS_cropped/images/INHS_FISH_80695_aug3.jpg saved!\n",
      "/home/elhamod/HGNN/data/INHS_cropped/images/INHS_FISH_80695_aug4.jpg saved!\n",
      "/home/elhamod/HGNN/data/INHS_cropped/images/INHS_FISH_80695_aug5.jpg saved!\n",
      "/home/elhamod/HGNN/data/INHS_cropped/images/INHS_FISH_80695_aug6.jpg saved!\n",
      "/home/elhamod/HGNN/data/INHS_cropped/images/INHS_FISH_80695_aug7.jpg saved!\n",
      "/home/elhamod/HGNN/data/INHS_cropped/images/INHS_FISH_80695_aug8.jpg saved!\n",
      "/home/elhamod/HGNN/data/INHS_cropped/images/INHS_FISH_80695_aug9.jpg saved!\n"
     ]
    },
    {
     "name": "stderr",
     "output_type": "stream",
     "text": [
      "\r",
      " 89% (494 of 550) |###################   | Elapsed Time: 0:09:27 ETA:   0:01:02"
     ]
    },
    {
     "name": "stdout",
     "output_type": "stream",
     "text": [
      "/home/elhamod/HGNN/data/INHS_cropped/images/INHS_FISH_108140_aug0.jpg saved!\n",
      "/home/elhamod/HGNN/data/INHS_cropped/images/INHS_FISH_108140_aug1.jpg saved!\n",
      "/home/elhamod/HGNN/data/INHS_cropped/images/INHS_FISH_108140_aug2.jpg saved!\n",
      "/home/elhamod/HGNN/data/INHS_cropped/images/INHS_FISH_108140_aug3.jpg saved!\n",
      "/home/elhamod/HGNN/data/INHS_cropped/images/INHS_FISH_108140_aug4.jpg saved!\n",
      "/home/elhamod/HGNN/data/INHS_cropped/images/INHS_FISH_108140_aug5.jpg saved!\n",
      "/home/elhamod/HGNN/data/INHS_cropped/images/INHS_FISH_108140_aug6.jpg saved!\n",
      "/home/elhamod/HGNN/data/INHS_cropped/images/INHS_FISH_108140_aug7.jpg saved!\n",
      "/home/elhamod/HGNN/data/INHS_cropped/images/INHS_FISH_108140_aug8.jpg saved!\n",
      "/home/elhamod/HGNN/data/INHS_cropped/images/INHS_FISH_108140_aug9.jpg saved!\n"
     ]
    },
    {
     "name": "stderr",
     "output_type": "stream",
     "text": [
      "\r",
      " 90% (495 of 550) |###################   | Elapsed Time: 0:09:28 ETA:   0:01:01"
     ]
    },
    {
     "name": "stdout",
     "output_type": "stream",
     "text": [
      "/home/elhamod/HGNN/data/INHS_cropped/images/INHS_FISH_30228_aug0.jpg saved!\n",
      "/home/elhamod/HGNN/data/INHS_cropped/images/INHS_FISH_30228_aug1.jpg saved!\n",
      "/home/elhamod/HGNN/data/INHS_cropped/images/INHS_FISH_30228_aug2.jpg saved!\n",
      "/home/elhamod/HGNN/data/INHS_cropped/images/INHS_FISH_30228_aug3.jpg saved!\n",
      "/home/elhamod/HGNN/data/INHS_cropped/images/INHS_FISH_30228_aug4.jpg saved!\n",
      "/home/elhamod/HGNN/data/INHS_cropped/images/INHS_FISH_30228_aug5.jpg saved!\n",
      "/home/elhamod/HGNN/data/INHS_cropped/images/INHS_FISH_30228_aug6.jpg saved!\n",
      "/home/elhamod/HGNN/data/INHS_cropped/images/INHS_FISH_30228_aug7.jpg saved!\n",
      "/home/elhamod/HGNN/data/INHS_cropped/images/INHS_FISH_30228_aug8.jpg saved!\n",
      "/home/elhamod/HGNN/data/INHS_cropped/images/INHS_FISH_30228_aug9.jpg saved!\n"
     ]
    },
    {
     "name": "stderr",
     "output_type": "stream",
     "text": [
      "\r",
      " 90% (496 of 550) |###################   | Elapsed Time: 0:09:29 ETA:   0:01:00"
     ]
    },
    {
     "name": "stdout",
     "output_type": "stream",
     "text": [
      "/home/elhamod/HGNN/data/INHS_cropped/images/INHS_FISH_23133_aug0.jpg saved!\n",
      "/home/elhamod/HGNN/data/INHS_cropped/images/INHS_FISH_23133_aug1.jpg saved!\n",
      "/home/elhamod/HGNN/data/INHS_cropped/images/INHS_FISH_23133_aug2.jpg saved!\n",
      "/home/elhamod/HGNN/data/INHS_cropped/images/INHS_FISH_23133_aug3.jpg saved!\n",
      "/home/elhamod/HGNN/data/INHS_cropped/images/INHS_FISH_23133_aug4.jpg saved!\n",
      "/home/elhamod/HGNN/data/INHS_cropped/images/INHS_FISH_23133_aug5.jpg saved!\n",
      "/home/elhamod/HGNN/data/INHS_cropped/images/INHS_FISH_23133_aug6.jpg saved!\n",
      "/home/elhamod/HGNN/data/INHS_cropped/images/INHS_FISH_23133_aug7.jpg saved!\n",
      "/home/elhamod/HGNN/data/INHS_cropped/images/INHS_FISH_23133_aug8.jpg saved!\n",
      "/home/elhamod/HGNN/data/INHS_cropped/images/INHS_FISH_23133_aug9.jpg saved!\n"
     ]
    },
    {
     "name": "stderr",
     "output_type": "stream",
     "text": [
      "\r",
      " 90% (497 of 550) |###################   | Elapsed Time: 0:09:30 ETA:   0:00:59"
     ]
    },
    {
     "name": "stdout",
     "output_type": "stream",
     "text": [
      "/home/elhamod/HGNN/data/INHS_cropped/images/INHS_FISH_92623_aug0.jpg saved!\n",
      "/home/elhamod/HGNN/data/INHS_cropped/images/INHS_FISH_92623_aug1.jpg saved!\n",
      "/home/elhamod/HGNN/data/INHS_cropped/images/INHS_FISH_92623_aug2.jpg saved!\n",
      "/home/elhamod/HGNN/data/INHS_cropped/images/INHS_FISH_92623_aug3.jpg saved!\n",
      "/home/elhamod/HGNN/data/INHS_cropped/images/INHS_FISH_92623_aug4.jpg saved!\n",
      "/home/elhamod/HGNN/data/INHS_cropped/images/INHS_FISH_92623_aug5.jpg saved!\n",
      "/home/elhamod/HGNN/data/INHS_cropped/images/INHS_FISH_92623_aug6.jpg saved!\n",
      "/home/elhamod/HGNN/data/INHS_cropped/images/INHS_FISH_92623_aug7.jpg saved!\n",
      "/home/elhamod/HGNN/data/INHS_cropped/images/INHS_FISH_92623_aug8.jpg saved!\n",
      "/home/elhamod/HGNN/data/INHS_cropped/images/INHS_FISH_92623_aug9.jpg saved!\n"
     ]
    },
    {
     "name": "stderr",
     "output_type": "stream",
     "text": [
      "\r",
      " 90% (498 of 550) |###################   | Elapsed Time: 0:09:31 ETA:   0:00:58"
     ]
    },
    {
     "name": "stdout",
     "output_type": "stream",
     "text": [
      "/home/elhamod/HGNN/data/INHS_cropped/images/INHS_FISH_30051_aug0.jpg saved!\n",
      "/home/elhamod/HGNN/data/INHS_cropped/images/INHS_FISH_30051_aug1.jpg saved!\n",
      "/home/elhamod/HGNN/data/INHS_cropped/images/INHS_FISH_30051_aug2.jpg saved!\n",
      "/home/elhamod/HGNN/data/INHS_cropped/images/INHS_FISH_30051_aug3.jpg saved!\n",
      "/home/elhamod/HGNN/data/INHS_cropped/images/INHS_FISH_30051_aug4.jpg saved!\n",
      "/home/elhamod/HGNN/data/INHS_cropped/images/INHS_FISH_30051_aug5.jpg saved!\n",
      "/home/elhamod/HGNN/data/INHS_cropped/images/INHS_FISH_30051_aug6.jpg saved!\n",
      "/home/elhamod/HGNN/data/INHS_cropped/images/INHS_FISH_30051_aug7.jpg saved!\n",
      "/home/elhamod/HGNN/data/INHS_cropped/images/INHS_FISH_30051_aug8.jpg saved!\n",
      "/home/elhamod/HGNN/data/INHS_cropped/images/INHS_FISH_30051_aug9.jpg saved!\n"
     ]
    },
    {
     "name": "stderr",
     "output_type": "stream",
     "text": [
      "\r",
      " 90% (499 of 550) |###################   | Elapsed Time: 0:09:32 ETA:   0:00:57"
     ]
    },
    {
     "name": "stdout",
     "output_type": "stream",
     "text": [
      "/home/elhamod/HGNN/data/INHS_cropped/images/INHS_FISH_76933_aug0.jpg saved!\n",
      "/home/elhamod/HGNN/data/INHS_cropped/images/INHS_FISH_76933_aug1.jpg saved!\n",
      "/home/elhamod/HGNN/data/INHS_cropped/images/INHS_FISH_76933_aug2.jpg saved!\n",
      "/home/elhamod/HGNN/data/INHS_cropped/images/INHS_FISH_76933_aug3.jpg saved!\n",
      "/home/elhamod/HGNN/data/INHS_cropped/images/INHS_FISH_76933_aug4.jpg saved!\n",
      "/home/elhamod/HGNN/data/INHS_cropped/images/INHS_FISH_76933_aug5.jpg saved!\n",
      "/home/elhamod/HGNN/data/INHS_cropped/images/INHS_FISH_76933_aug6.jpg saved!\n",
      "/home/elhamod/HGNN/data/INHS_cropped/images/INHS_FISH_76933_aug7.jpg saved!\n",
      "/home/elhamod/HGNN/data/INHS_cropped/images/INHS_FISH_76933_aug8.jpg saved!\n",
      "/home/elhamod/HGNN/data/INHS_cropped/images/INHS_FISH_76933_aug9.jpg saved!\n"
     ]
    },
    {
     "name": "stderr",
     "output_type": "stream",
     "text": [
      "\r",
      " 90% (500 of 550) |####################  | Elapsed Time: 0:09:33 ETA:   0:00:55"
     ]
    },
    {
     "name": "stdout",
     "output_type": "stream",
     "text": [
      "/home/elhamod/HGNN/data/INHS_cropped/images/INHS_FISH_85232_aug0.jpg saved!\n",
      "/home/elhamod/HGNN/data/INHS_cropped/images/INHS_FISH_85232_aug1.jpg saved!\n",
      "/home/elhamod/HGNN/data/INHS_cropped/images/INHS_FISH_85232_aug2.jpg saved!\n",
      "/home/elhamod/HGNN/data/INHS_cropped/images/INHS_FISH_85232_aug3.jpg saved!\n",
      "/home/elhamod/HGNN/data/INHS_cropped/images/INHS_FISH_85232_aug4.jpg saved!\n",
      "/home/elhamod/HGNN/data/INHS_cropped/images/INHS_FISH_85232_aug5.jpg saved!\n",
      "/home/elhamod/HGNN/data/INHS_cropped/images/INHS_FISH_85232_aug6.jpg saved!\n",
      "/home/elhamod/HGNN/data/INHS_cropped/images/INHS_FISH_85232_aug7.jpg saved!\n",
      "/home/elhamod/HGNN/data/INHS_cropped/images/INHS_FISH_85232_aug8.jpg saved!\n",
      "/home/elhamod/HGNN/data/INHS_cropped/images/INHS_FISH_85232_aug9.jpg saved!\n"
     ]
    },
    {
     "name": "stderr",
     "output_type": "stream",
     "text": [
      "\r",
      " 91% (501 of 550) |####################  | Elapsed Time: 0:09:34 ETA:   0:00:54"
     ]
    },
    {
     "name": "stdout",
     "output_type": "stream",
     "text": [
      "/home/elhamod/HGNN/data/INHS_cropped/images/INHS_FISH_26065_aug0.jpg saved!\n",
      "/home/elhamod/HGNN/data/INHS_cropped/images/INHS_FISH_26065_aug1.jpg saved!\n",
      "/home/elhamod/HGNN/data/INHS_cropped/images/INHS_FISH_26065_aug2.jpg saved!\n",
      "/home/elhamod/HGNN/data/INHS_cropped/images/INHS_FISH_26065_aug3.jpg saved!\n",
      "/home/elhamod/HGNN/data/INHS_cropped/images/INHS_FISH_26065_aug4.jpg saved!\n",
      "/home/elhamod/HGNN/data/INHS_cropped/images/INHS_FISH_26065_aug5.jpg saved!\n",
      "/home/elhamod/HGNN/data/INHS_cropped/images/INHS_FISH_26065_aug6.jpg saved!\n",
      "/home/elhamod/HGNN/data/INHS_cropped/images/INHS_FISH_26065_aug7.jpg saved!\n",
      "/home/elhamod/HGNN/data/INHS_cropped/images/INHS_FISH_26065_aug8.jpg saved!\n",
      "/home/elhamod/HGNN/data/INHS_cropped/images/INHS_FISH_26065_aug9.jpg saved!\n"
     ]
    },
    {
     "name": "stderr",
     "output_type": "stream",
     "text": [
      "\r",
      " 91% (502 of 550) |####################  | Elapsed Time: 0:09:36 ETA:   0:00:55"
     ]
    },
    {
     "name": "stdout",
     "output_type": "stream",
     "text": [
      "/home/elhamod/HGNN/data/INHS_cropped/images/INHS_FISH_3186_aug0.jpg saved!\n",
      "/home/elhamod/HGNN/data/INHS_cropped/images/INHS_FISH_3186_aug1.jpg saved!\n",
      "/home/elhamod/HGNN/data/INHS_cropped/images/INHS_FISH_3186_aug2.jpg saved!\n",
      "/home/elhamod/HGNN/data/INHS_cropped/images/INHS_FISH_3186_aug3.jpg saved!\n",
      "/home/elhamod/HGNN/data/INHS_cropped/images/INHS_FISH_3186_aug4.jpg saved!\n",
      "/home/elhamod/HGNN/data/INHS_cropped/images/INHS_FISH_3186_aug5.jpg saved!\n",
      "/home/elhamod/HGNN/data/INHS_cropped/images/INHS_FISH_3186_aug6.jpg saved!\n",
      "/home/elhamod/HGNN/data/INHS_cropped/images/INHS_FISH_3186_aug7.jpg saved!\n",
      "/home/elhamod/HGNN/data/INHS_cropped/images/INHS_FISH_3186_aug8.jpg saved!\n",
      "/home/elhamod/HGNN/data/INHS_cropped/images/INHS_FISH_3186_aug9.jpg saved!\n"
     ]
    },
    {
     "name": "stderr",
     "output_type": "stream",
     "text": [
      "\r",
      " 91% (503 of 550) |####################  | Elapsed Time: 0:09:37 ETA:   0:00:54"
     ]
    },
    {
     "name": "stdout",
     "output_type": "stream",
     "text": [
      "/home/elhamod/HGNN/data/INHS_cropped/images/INHS_FISH_48340_aug0.jpg saved!\n",
      "/home/elhamod/HGNN/data/INHS_cropped/images/INHS_FISH_48340_aug1.jpg saved!\n",
      "/home/elhamod/HGNN/data/INHS_cropped/images/INHS_FISH_48340_aug2.jpg saved!\n",
      "/home/elhamod/HGNN/data/INHS_cropped/images/INHS_FISH_48340_aug3.jpg saved!\n",
      "/home/elhamod/HGNN/data/INHS_cropped/images/INHS_FISH_48340_aug4.jpg saved!\n",
      "/home/elhamod/HGNN/data/INHS_cropped/images/INHS_FISH_48340_aug5.jpg saved!\n",
      "/home/elhamod/HGNN/data/INHS_cropped/images/INHS_FISH_48340_aug6.jpg saved!\n",
      "/home/elhamod/HGNN/data/INHS_cropped/images/INHS_FISH_48340_aug7.jpg saved!\n",
      "/home/elhamod/HGNN/data/INHS_cropped/images/INHS_FISH_48340_aug8.jpg saved!\n",
      "/home/elhamod/HGNN/data/INHS_cropped/images/INHS_FISH_48340_aug9.jpg saved!\n"
     ]
    },
    {
     "name": "stderr",
     "output_type": "stream",
     "text": [
      "\r",
      " 91% (504 of 550) |####################  | Elapsed Time: 0:09:38 ETA:   0:00:51"
     ]
    },
    {
     "name": "stdout",
     "output_type": "stream",
     "text": [
      "/home/elhamod/HGNN/data/INHS_cropped/images/INHS_FISH_2459_aug0.jpg saved!\n",
      "/home/elhamod/HGNN/data/INHS_cropped/images/INHS_FISH_2459_aug1.jpg saved!\n",
      "/home/elhamod/HGNN/data/INHS_cropped/images/INHS_FISH_2459_aug2.jpg saved!\n",
      "/home/elhamod/HGNN/data/INHS_cropped/images/INHS_FISH_2459_aug3.jpg saved!\n",
      "/home/elhamod/HGNN/data/INHS_cropped/images/INHS_FISH_2459_aug4.jpg saved!\n",
      "/home/elhamod/HGNN/data/INHS_cropped/images/INHS_FISH_2459_aug5.jpg saved!\n",
      "/home/elhamod/HGNN/data/INHS_cropped/images/INHS_FISH_2459_aug6.jpg saved!\n",
      "/home/elhamod/HGNN/data/INHS_cropped/images/INHS_FISH_2459_aug7.jpg saved!\n",
      "/home/elhamod/HGNN/data/INHS_cropped/images/INHS_FISH_2459_aug8.jpg saved!\n",
      "/home/elhamod/HGNN/data/INHS_cropped/images/INHS_FISH_2459_aug9.jpg saved!\n"
     ]
    },
    {
     "name": "stderr",
     "output_type": "stream",
     "text": [
      "\r",
      " 91% (505 of 550) |####################  | Elapsed Time: 0:09:39 ETA:   0:00:51"
     ]
    },
    {
     "name": "stdout",
     "output_type": "stream",
     "text": [
      "/home/elhamod/HGNN/data/INHS_cropped/images/INHS_FISH_92825_aug0.jpg saved!\n",
      "/home/elhamod/HGNN/data/INHS_cropped/images/INHS_FISH_92825_aug1.jpg saved!\n",
      "/home/elhamod/HGNN/data/INHS_cropped/images/INHS_FISH_92825_aug2.jpg saved!\n",
      "/home/elhamod/HGNN/data/INHS_cropped/images/INHS_FISH_92825_aug3.jpg saved!\n",
      "/home/elhamod/HGNN/data/INHS_cropped/images/INHS_FISH_92825_aug4.jpg saved!\n",
      "/home/elhamod/HGNN/data/INHS_cropped/images/INHS_FISH_92825_aug5.jpg saved!\n",
      "/home/elhamod/HGNN/data/INHS_cropped/images/INHS_FISH_92825_aug6.jpg saved!\n",
      "/home/elhamod/HGNN/data/INHS_cropped/images/INHS_FISH_92825_aug7.jpg saved!\n",
      "/home/elhamod/HGNN/data/INHS_cropped/images/INHS_FISH_92825_aug8.jpg saved!\n",
      "/home/elhamod/HGNN/data/INHS_cropped/images/INHS_FISH_92825_aug9.jpg saved!\n"
     ]
    },
    {
     "name": "stderr",
     "output_type": "stream",
     "text": [
      "\r",
      " 92% (506 of 550) |####################  | Elapsed Time: 0:09:40 ETA:   0:00:50"
     ]
    },
    {
     "name": "stdout",
     "output_type": "stream",
     "text": [
      "/home/elhamod/HGNN/data/INHS_cropped/images/INHS_FISH_95077_aug0.jpg saved!\n",
      "/home/elhamod/HGNN/data/INHS_cropped/images/INHS_FISH_95077_aug1.jpg saved!\n",
      "/home/elhamod/HGNN/data/INHS_cropped/images/INHS_FISH_95077_aug2.jpg saved!\n",
      "/home/elhamod/HGNN/data/INHS_cropped/images/INHS_FISH_95077_aug3.jpg saved!\n",
      "/home/elhamod/HGNN/data/INHS_cropped/images/INHS_FISH_95077_aug4.jpg saved!\n",
      "/home/elhamod/HGNN/data/INHS_cropped/images/INHS_FISH_95077_aug5.jpg saved!\n",
      "/home/elhamod/HGNN/data/INHS_cropped/images/INHS_FISH_95077_aug6.jpg saved!\n",
      "/home/elhamod/HGNN/data/INHS_cropped/images/INHS_FISH_95077_aug7.jpg saved!\n",
      "/home/elhamod/HGNN/data/INHS_cropped/images/INHS_FISH_95077_aug8.jpg saved!\n",
      "/home/elhamod/HGNN/data/INHS_cropped/images/INHS_FISH_95077_aug9.jpg saved!\n"
     ]
    },
    {
     "name": "stderr",
     "output_type": "stream",
     "text": [
      "\r",
      " 92% (507 of 550) |####################  | Elapsed Time: 0:09:41 ETA:   0:00:50"
     ]
    },
    {
     "name": "stdout",
     "output_type": "stream",
     "text": [
      "/home/elhamod/HGNN/data/INHS_cropped/images/INHS_FISH_99128_aug0.jpg saved!\n",
      "/home/elhamod/HGNN/data/INHS_cropped/images/INHS_FISH_99128_aug1.jpg saved!\n",
      "/home/elhamod/HGNN/data/INHS_cropped/images/INHS_FISH_99128_aug2.jpg saved!\n",
      "/home/elhamod/HGNN/data/INHS_cropped/images/INHS_FISH_99128_aug3.jpg saved!\n",
      "/home/elhamod/HGNN/data/INHS_cropped/images/INHS_FISH_99128_aug4.jpg saved!\n",
      "/home/elhamod/HGNN/data/INHS_cropped/images/INHS_FISH_99128_aug5.jpg saved!\n",
      "/home/elhamod/HGNN/data/INHS_cropped/images/INHS_FISH_99128_aug6.jpg saved!\n",
      "/home/elhamod/HGNN/data/INHS_cropped/images/INHS_FISH_99128_aug7.jpg saved!\n",
      "/home/elhamod/HGNN/data/INHS_cropped/images/INHS_FISH_99128_aug8.jpg saved!\n",
      "/home/elhamod/HGNN/data/INHS_cropped/images/INHS_FISH_99128_aug9.jpg saved!\n"
     ]
    },
    {
     "name": "stderr",
     "output_type": "stream",
     "text": [
      "\r",
      " 92% (508 of 550) |####################  | Elapsed Time: 0:09:42 ETA:   0:00:48"
     ]
    },
    {
     "name": "stdout",
     "output_type": "stream",
     "text": [
      "/home/elhamod/HGNN/data/INHS_cropped/images/INHS_FISH_47027_aug0.jpg saved!\n",
      "/home/elhamod/HGNN/data/INHS_cropped/images/INHS_FISH_47027_aug1.jpg saved!\n",
      "/home/elhamod/HGNN/data/INHS_cropped/images/INHS_FISH_47027_aug2.jpg saved!\n",
      "/home/elhamod/HGNN/data/INHS_cropped/images/INHS_FISH_47027_aug3.jpg saved!\n",
      "/home/elhamod/HGNN/data/INHS_cropped/images/INHS_FISH_47027_aug4.jpg saved!\n",
      "/home/elhamod/HGNN/data/INHS_cropped/images/INHS_FISH_47027_aug5.jpg saved!\n",
      "/home/elhamod/HGNN/data/INHS_cropped/images/INHS_FISH_47027_aug6.jpg saved!\n",
      "/home/elhamod/HGNN/data/INHS_cropped/images/INHS_FISH_47027_aug7.jpg saved!\n",
      "/home/elhamod/HGNN/data/INHS_cropped/images/INHS_FISH_47027_aug8.jpg saved!\n",
      "/home/elhamod/HGNN/data/INHS_cropped/images/INHS_FISH_47027_aug9.jpg saved!\n"
     ]
    },
    {
     "name": "stderr",
     "output_type": "stream",
     "text": [
      "\r",
      " 92% (509 of 550) |####################  | Elapsed Time: 0:09:44 ETA:   0:00:46"
     ]
    },
    {
     "name": "stdout",
     "output_type": "stream",
     "text": [
      "/home/elhamod/HGNN/data/INHS_cropped/images/INHS_FISH_75276_aug0.jpg saved!\n",
      "/home/elhamod/HGNN/data/INHS_cropped/images/INHS_FISH_75276_aug1.jpg saved!\n",
      "/home/elhamod/HGNN/data/INHS_cropped/images/INHS_FISH_75276_aug2.jpg saved!\n",
      "/home/elhamod/HGNN/data/INHS_cropped/images/INHS_FISH_75276_aug3.jpg saved!\n",
      "/home/elhamod/HGNN/data/INHS_cropped/images/INHS_FISH_75276_aug4.jpg saved!\n",
      "/home/elhamod/HGNN/data/INHS_cropped/images/INHS_FISH_75276_aug5.jpg saved!\n",
      "/home/elhamod/HGNN/data/INHS_cropped/images/INHS_FISH_75276_aug6.jpg saved!\n",
      "/home/elhamod/HGNN/data/INHS_cropped/images/INHS_FISH_75276_aug7.jpg saved!\n",
      "/home/elhamod/HGNN/data/INHS_cropped/images/INHS_FISH_75276_aug8.jpg saved!\n",
      "/home/elhamod/HGNN/data/INHS_cropped/images/INHS_FISH_75276_aug9.jpg saved!\n"
     ]
    },
    {
     "name": "stderr",
     "output_type": "stream",
     "text": [
      "\r",
      " 92% (510 of 550) |####################  | Elapsed Time: 0:09:45 ETA:   0:00:44"
     ]
    },
    {
     "name": "stdout",
     "output_type": "stream",
     "text": [
      "/home/elhamod/HGNN/data/INHS_cropped/images/INHS_FISH_108931_aug0.jpg saved!\n",
      "/home/elhamod/HGNN/data/INHS_cropped/images/INHS_FISH_108931_aug1.jpg saved!\n",
      "/home/elhamod/HGNN/data/INHS_cropped/images/INHS_FISH_108931_aug2.jpg saved!\n",
      "/home/elhamod/HGNN/data/INHS_cropped/images/INHS_FISH_108931_aug3.jpg saved!\n",
      "/home/elhamod/HGNN/data/INHS_cropped/images/INHS_FISH_108931_aug4.jpg saved!\n",
      "/home/elhamod/HGNN/data/INHS_cropped/images/INHS_FISH_108931_aug5.jpg saved!\n",
      "/home/elhamod/HGNN/data/INHS_cropped/images/INHS_FISH_108931_aug6.jpg saved!\n",
      "/home/elhamod/HGNN/data/INHS_cropped/images/INHS_FISH_108931_aug7.jpg saved!\n",
      "/home/elhamod/HGNN/data/INHS_cropped/images/INHS_FISH_108931_aug8.jpg saved!\n",
      "/home/elhamod/HGNN/data/INHS_cropped/images/INHS_FISH_108931_aug9.jpg saved!\n"
     ]
    },
    {
     "name": "stderr",
     "output_type": "stream",
     "text": [
      "\r",
      " 92% (511 of 550) |####################  | Elapsed Time: 0:09:46 ETA:   0:00:43"
     ]
    },
    {
     "name": "stdout",
     "output_type": "stream",
     "text": [
      "/home/elhamod/HGNN/data/INHS_cropped/images/INHS_FISH_026052_aug0.jpg saved!\n",
      "/home/elhamod/HGNN/data/INHS_cropped/images/INHS_FISH_026052_aug1.jpg saved!\n",
      "/home/elhamod/HGNN/data/INHS_cropped/images/INHS_FISH_026052_aug2.jpg saved!\n",
      "/home/elhamod/HGNN/data/INHS_cropped/images/INHS_FISH_026052_aug3.jpg saved!\n",
      "/home/elhamod/HGNN/data/INHS_cropped/images/INHS_FISH_026052_aug4.jpg saved!\n",
      "/home/elhamod/HGNN/data/INHS_cropped/images/INHS_FISH_026052_aug5.jpg saved!\n",
      "/home/elhamod/HGNN/data/INHS_cropped/images/INHS_FISH_026052_aug6.jpg saved!\n",
      "/home/elhamod/HGNN/data/INHS_cropped/images/INHS_FISH_026052_aug7.jpg saved!\n",
      "/home/elhamod/HGNN/data/INHS_cropped/images/INHS_FISH_026052_aug8.jpg saved!\n",
      "/home/elhamod/HGNN/data/INHS_cropped/images/INHS_FISH_026052_aug9.jpg saved!\n"
     ]
    },
    {
     "name": "stderr",
     "output_type": "stream",
     "text": [
      "\r",
      " 93% (512 of 550) |####################  | Elapsed Time: 0:09:47 ETA:   0:00:42"
     ]
    },
    {
     "name": "stdout",
     "output_type": "stream",
     "text": [
      "/home/elhamod/HGNN/data/INHS_cropped/images/INHS_FISH_9423_aug0.jpg saved!\n",
      "/home/elhamod/HGNN/data/INHS_cropped/images/INHS_FISH_9423_aug1.jpg saved!\n",
      "/home/elhamod/HGNN/data/INHS_cropped/images/INHS_FISH_9423_aug2.jpg saved!\n",
      "/home/elhamod/HGNN/data/INHS_cropped/images/INHS_FISH_9423_aug3.jpg saved!\n",
      "/home/elhamod/HGNN/data/INHS_cropped/images/INHS_FISH_9423_aug4.jpg saved!\n",
      "/home/elhamod/HGNN/data/INHS_cropped/images/INHS_FISH_9423_aug5.jpg saved!\n",
      "/home/elhamod/HGNN/data/INHS_cropped/images/INHS_FISH_9423_aug6.jpg saved!\n",
      "/home/elhamod/HGNN/data/INHS_cropped/images/INHS_FISH_9423_aug7.jpg saved!\n",
      "/home/elhamod/HGNN/data/INHS_cropped/images/INHS_FISH_9423_aug8.jpg saved!\n",
      "/home/elhamod/HGNN/data/INHS_cropped/images/INHS_FISH_9423_aug9.jpg saved!\n"
     ]
    },
    {
     "name": "stderr",
     "output_type": "stream",
     "text": [
      "\r",
      " 93% (513 of 550) |####################  | Elapsed Time: 0:09:48 ETA:   0:00:41"
     ]
    },
    {
     "name": "stdout",
     "output_type": "stream",
     "text": [
      "/home/elhamod/HGNN/data/INHS_cropped/images/INHS_FISH_24815_aug0.jpg saved!\n",
      "/home/elhamod/HGNN/data/INHS_cropped/images/INHS_FISH_24815_aug1.jpg saved!\n",
      "/home/elhamod/HGNN/data/INHS_cropped/images/INHS_FISH_24815_aug2.jpg saved!\n",
      "/home/elhamod/HGNN/data/INHS_cropped/images/INHS_FISH_24815_aug3.jpg saved!\n",
      "/home/elhamod/HGNN/data/INHS_cropped/images/INHS_FISH_24815_aug4.jpg saved!\n",
      "/home/elhamod/HGNN/data/INHS_cropped/images/INHS_FISH_24815_aug5.jpg saved!\n",
      "/home/elhamod/HGNN/data/INHS_cropped/images/INHS_FISH_24815_aug6.jpg saved!\n",
      "/home/elhamod/HGNN/data/INHS_cropped/images/INHS_FISH_24815_aug7.jpg saved!\n",
      "/home/elhamod/HGNN/data/INHS_cropped/images/INHS_FISH_24815_aug8.jpg saved!\n",
      "/home/elhamod/HGNN/data/INHS_cropped/images/INHS_FISH_24815_aug9.jpg saved!\n"
     ]
    },
    {
     "name": "stderr",
     "output_type": "stream",
     "text": [
      "\r",
      " 93% (514 of 550) |####################  | Elapsed Time: 0:09:49 ETA:   0:00:41"
     ]
    },
    {
     "name": "stdout",
     "output_type": "stream",
     "text": [
      "/home/elhamod/HGNN/data/INHS_cropped/images/INHS_FISH_63373_aug0.jpg saved!\n",
      "/home/elhamod/HGNN/data/INHS_cropped/images/INHS_FISH_63373_aug1.jpg saved!\n",
      "/home/elhamod/HGNN/data/INHS_cropped/images/INHS_FISH_63373_aug2.jpg saved!\n",
      "/home/elhamod/HGNN/data/INHS_cropped/images/INHS_FISH_63373_aug3.jpg saved!\n",
      "/home/elhamod/HGNN/data/INHS_cropped/images/INHS_FISH_63373_aug4.jpg saved!\n",
      "/home/elhamod/HGNN/data/INHS_cropped/images/INHS_FISH_63373_aug5.jpg saved!\n",
      "/home/elhamod/HGNN/data/INHS_cropped/images/INHS_FISH_63373_aug6.jpg saved!\n",
      "/home/elhamod/HGNN/data/INHS_cropped/images/INHS_FISH_63373_aug7.jpg saved!\n",
      "/home/elhamod/HGNN/data/INHS_cropped/images/INHS_FISH_63373_aug8.jpg saved!\n",
      "/home/elhamod/HGNN/data/INHS_cropped/images/INHS_FISH_63373_aug9.jpg saved!\n"
     ]
    },
    {
     "name": "stderr",
     "output_type": "stream",
     "text": [
      "\r",
      " 93% (515 of 550) |####################  | Elapsed Time: 0:09:50 ETA:   0:00:41"
     ]
    },
    {
     "name": "stdout",
     "output_type": "stream",
     "text": [
      "/home/elhamod/HGNN/data/INHS_cropped/images/INHS_FISH_20690_aug0.jpg saved!\n",
      "/home/elhamod/HGNN/data/INHS_cropped/images/INHS_FISH_20690_aug1.jpg saved!\n",
      "/home/elhamod/HGNN/data/INHS_cropped/images/INHS_FISH_20690_aug2.jpg saved!\n",
      "/home/elhamod/HGNN/data/INHS_cropped/images/INHS_FISH_20690_aug3.jpg saved!\n",
      "/home/elhamod/HGNN/data/INHS_cropped/images/INHS_FISH_20690_aug4.jpg saved!\n",
      "/home/elhamod/HGNN/data/INHS_cropped/images/INHS_FISH_20690_aug5.jpg saved!\n",
      "/home/elhamod/HGNN/data/INHS_cropped/images/INHS_FISH_20690_aug6.jpg saved!\n",
      "/home/elhamod/HGNN/data/INHS_cropped/images/INHS_FISH_20690_aug7.jpg saved!\n",
      "/home/elhamod/HGNN/data/INHS_cropped/images/INHS_FISH_20690_aug8.jpg saved!\n",
      "/home/elhamod/HGNN/data/INHS_cropped/images/INHS_FISH_20690_aug9.jpg saved!\n"
     ]
    },
    {
     "name": "stderr",
     "output_type": "stream",
     "text": [
      "\r",
      " 93% (516 of 550) |####################  | Elapsed Time: 0:09:52 ETA:   0:00:39"
     ]
    },
    {
     "name": "stdout",
     "output_type": "stream",
     "text": [
      "/home/elhamod/HGNN/data/INHS_cropped/images/INHS_FISH_45040_aug0.jpg saved!\n",
      "/home/elhamod/HGNN/data/INHS_cropped/images/INHS_FISH_45040_aug1.jpg saved!\n",
      "/home/elhamod/HGNN/data/INHS_cropped/images/INHS_FISH_45040_aug2.jpg saved!\n",
      "/home/elhamod/HGNN/data/INHS_cropped/images/INHS_FISH_45040_aug3.jpg saved!\n",
      "/home/elhamod/HGNN/data/INHS_cropped/images/INHS_FISH_45040_aug4.jpg saved!\n",
      "/home/elhamod/HGNN/data/INHS_cropped/images/INHS_FISH_45040_aug5.jpg saved!\n",
      "/home/elhamod/HGNN/data/INHS_cropped/images/INHS_FISH_45040_aug6.jpg saved!\n",
      "/home/elhamod/HGNN/data/INHS_cropped/images/INHS_FISH_45040_aug7.jpg saved!\n",
      "/home/elhamod/HGNN/data/INHS_cropped/images/INHS_FISH_45040_aug8.jpg saved!\n",
      "/home/elhamod/HGNN/data/INHS_cropped/images/INHS_FISH_45040_aug9.jpg saved!\n"
     ]
    },
    {
     "name": "stderr",
     "output_type": "stream",
     "text": [
      "\r",
      " 94% (517 of 550) |####################  | Elapsed Time: 0:09:53 ETA:   0:00:37"
     ]
    },
    {
     "name": "stdout",
     "output_type": "stream",
     "text": [
      "/home/elhamod/HGNN/data/INHS_cropped/images/INHS_FISH_42772_aug0.jpg saved!\n",
      "/home/elhamod/HGNN/data/INHS_cropped/images/INHS_FISH_42772_aug1.jpg saved!\n",
      "/home/elhamod/HGNN/data/INHS_cropped/images/INHS_FISH_42772_aug2.jpg saved!\n",
      "/home/elhamod/HGNN/data/INHS_cropped/images/INHS_FISH_42772_aug3.jpg saved!\n",
      "/home/elhamod/HGNN/data/INHS_cropped/images/INHS_FISH_42772_aug4.jpg saved!\n",
      "/home/elhamod/HGNN/data/INHS_cropped/images/INHS_FISH_42772_aug5.jpg saved!\n",
      "/home/elhamod/HGNN/data/INHS_cropped/images/INHS_FISH_42772_aug6.jpg saved!\n",
      "/home/elhamod/HGNN/data/INHS_cropped/images/INHS_FISH_42772_aug7.jpg saved!\n",
      "/home/elhamod/HGNN/data/INHS_cropped/images/INHS_FISH_42772_aug8.jpg saved!\n",
      "/home/elhamod/HGNN/data/INHS_cropped/images/INHS_FISH_42772_aug9.jpg saved!\n"
     ]
    },
    {
     "name": "stderr",
     "output_type": "stream",
     "text": [
      "\r",
      " 94% (518 of 550) |####################  | Elapsed Time: 0:09:54 ETA:   0:00:36"
     ]
    },
    {
     "name": "stdout",
     "output_type": "stream",
     "text": [
      "/home/elhamod/HGNN/data/INHS_cropped/images/INHS_FISH_3003_aug0.jpg saved!\n",
      "/home/elhamod/HGNN/data/INHS_cropped/images/INHS_FISH_3003_aug1.jpg saved!\n",
      "/home/elhamod/HGNN/data/INHS_cropped/images/INHS_FISH_3003_aug2.jpg saved!\n",
      "/home/elhamod/HGNN/data/INHS_cropped/images/INHS_FISH_3003_aug3.jpg saved!\n",
      "/home/elhamod/HGNN/data/INHS_cropped/images/INHS_FISH_3003_aug4.jpg saved!\n",
      "/home/elhamod/HGNN/data/INHS_cropped/images/INHS_FISH_3003_aug5.jpg saved!\n",
      "/home/elhamod/HGNN/data/INHS_cropped/images/INHS_FISH_3003_aug6.jpg saved!\n",
      "/home/elhamod/HGNN/data/INHS_cropped/images/INHS_FISH_3003_aug7.jpg saved!\n",
      "/home/elhamod/HGNN/data/INHS_cropped/images/INHS_FISH_3003_aug8.jpg saved!\n",
      "/home/elhamod/HGNN/data/INHS_cropped/images/INHS_FISH_3003_aug9.jpg saved!\n"
     ]
    },
    {
     "name": "stderr",
     "output_type": "stream",
     "text": [
      "\r",
      " 94% (519 of 550) |####################  | Elapsed Time: 0:09:55 ETA:   0:00:35"
     ]
    },
    {
     "name": "stdout",
     "output_type": "stream",
     "text": [
      "/home/elhamod/HGNN/data/INHS_cropped/images/INHS_FISH_75258_aug0.jpg saved!\n",
      "/home/elhamod/HGNN/data/INHS_cropped/images/INHS_FISH_75258_aug1.jpg saved!\n",
      "/home/elhamod/HGNN/data/INHS_cropped/images/INHS_FISH_75258_aug2.jpg saved!\n",
      "/home/elhamod/HGNN/data/INHS_cropped/images/INHS_FISH_75258_aug3.jpg saved!\n",
      "/home/elhamod/HGNN/data/INHS_cropped/images/INHS_FISH_75258_aug4.jpg saved!\n",
      "/home/elhamod/HGNN/data/INHS_cropped/images/INHS_FISH_75258_aug5.jpg saved!\n",
      "/home/elhamod/HGNN/data/INHS_cropped/images/INHS_FISH_75258_aug6.jpg saved!\n",
      "/home/elhamod/HGNN/data/INHS_cropped/images/INHS_FISH_75258_aug7.jpg saved!\n",
      "/home/elhamod/HGNN/data/INHS_cropped/images/INHS_FISH_75258_aug8.jpg saved!\n",
      "/home/elhamod/HGNN/data/INHS_cropped/images/INHS_FISH_75258_aug9.jpg saved!\n"
     ]
    },
    {
     "name": "stderr",
     "output_type": "stream",
     "text": [
      "\r",
      " 94% (520 of 550) |####################  | Elapsed Time: 0:09:56 ETA:   0:00:35"
     ]
    },
    {
     "name": "stdout",
     "output_type": "stream",
     "text": [
      "/home/elhamod/HGNN/data/INHS_cropped/images/INHS_FISH_32638_aug0.jpg saved!\n",
      "/home/elhamod/HGNN/data/INHS_cropped/images/INHS_FISH_32638_aug1.jpg saved!\n",
      "/home/elhamod/HGNN/data/INHS_cropped/images/INHS_FISH_32638_aug2.jpg saved!\n",
      "/home/elhamod/HGNN/data/INHS_cropped/images/INHS_FISH_32638_aug3.jpg saved!\n",
      "/home/elhamod/HGNN/data/INHS_cropped/images/INHS_FISH_32638_aug4.jpg saved!\n",
      "/home/elhamod/HGNN/data/INHS_cropped/images/INHS_FISH_32638_aug5.jpg saved!\n",
      "/home/elhamod/HGNN/data/INHS_cropped/images/INHS_FISH_32638_aug6.jpg saved!\n",
      "/home/elhamod/HGNN/data/INHS_cropped/images/INHS_FISH_32638_aug7.jpg saved!\n",
      "/home/elhamod/HGNN/data/INHS_cropped/images/INHS_FISH_32638_aug8.jpg saved!\n",
      "/home/elhamod/HGNN/data/INHS_cropped/images/INHS_FISH_32638_aug9.jpg saved!\n"
     ]
    },
    {
     "name": "stderr",
     "output_type": "stream",
     "text": [
      "\r",
      " 94% (521 of 550) |####################  | Elapsed Time: 0:09:57 ETA:   0:00:35"
     ]
    },
    {
     "name": "stdout",
     "output_type": "stream",
     "text": [
      "/home/elhamod/HGNN/data/INHS_cropped/images/INHS_FISH_30215_aug0.jpg saved!\n",
      "/home/elhamod/HGNN/data/INHS_cropped/images/INHS_FISH_30215_aug1.jpg saved!\n",
      "/home/elhamod/HGNN/data/INHS_cropped/images/INHS_FISH_30215_aug2.jpg saved!\n",
      "/home/elhamod/HGNN/data/INHS_cropped/images/INHS_FISH_30215_aug3.jpg saved!\n",
      "/home/elhamod/HGNN/data/INHS_cropped/images/INHS_FISH_30215_aug4.jpg saved!\n",
      "/home/elhamod/HGNN/data/INHS_cropped/images/INHS_FISH_30215_aug5.jpg saved!\n",
      "/home/elhamod/HGNN/data/INHS_cropped/images/INHS_FISH_30215_aug6.jpg saved!\n",
      "/home/elhamod/HGNN/data/INHS_cropped/images/INHS_FISH_30215_aug7.jpg saved!\n",
      "/home/elhamod/HGNN/data/INHS_cropped/images/INHS_FISH_30215_aug8.jpg saved!\n",
      "/home/elhamod/HGNN/data/INHS_cropped/images/INHS_FISH_30215_aug9.jpg saved!\n"
     ]
    },
    {
     "name": "stderr",
     "output_type": "stream",
     "text": [
      "\r",
      " 94% (522 of 550) |####################  | Elapsed Time: 0:09:59 ETA:   0:00:34"
     ]
    },
    {
     "name": "stdout",
     "output_type": "stream",
     "text": [
      "/home/elhamod/HGNN/data/INHS_cropped/images/INHS_FISH_63090_aug0.jpg saved!\n",
      "/home/elhamod/HGNN/data/INHS_cropped/images/INHS_FISH_63090_aug1.jpg saved!\n",
      "/home/elhamod/HGNN/data/INHS_cropped/images/INHS_FISH_63090_aug2.jpg saved!\n",
      "/home/elhamod/HGNN/data/INHS_cropped/images/INHS_FISH_63090_aug3.jpg saved!\n",
      "/home/elhamod/HGNN/data/INHS_cropped/images/INHS_FISH_63090_aug4.jpg saved!\n",
      "/home/elhamod/HGNN/data/INHS_cropped/images/INHS_FISH_63090_aug5.jpg saved!\n",
      "/home/elhamod/HGNN/data/INHS_cropped/images/INHS_FISH_63090_aug6.jpg saved!\n",
      "/home/elhamod/HGNN/data/INHS_cropped/images/INHS_FISH_63090_aug7.jpg saved!\n",
      "/home/elhamod/HGNN/data/INHS_cropped/images/INHS_FISH_63090_aug8.jpg saved!\n",
      "/home/elhamod/HGNN/data/INHS_cropped/images/INHS_FISH_63090_aug9.jpg saved!\n"
     ]
    },
    {
     "name": "stderr",
     "output_type": "stream",
     "text": [
      "\r",
      " 95% (523 of 550) |####################  | Elapsed Time: 0:10:00 ETA:   0:00:32"
     ]
    },
    {
     "name": "stdout",
     "output_type": "stream",
     "text": [
      "/home/elhamod/HGNN/data/INHS_cropped/images/INHS_FISH_107186_aug0.jpg saved!\n",
      "/home/elhamod/HGNN/data/INHS_cropped/images/INHS_FISH_107186_aug1.jpg saved!\n",
      "/home/elhamod/HGNN/data/INHS_cropped/images/INHS_FISH_107186_aug2.jpg saved!\n",
      "/home/elhamod/HGNN/data/INHS_cropped/images/INHS_FISH_107186_aug3.jpg saved!\n",
      "/home/elhamod/HGNN/data/INHS_cropped/images/INHS_FISH_107186_aug4.jpg saved!\n",
      "/home/elhamod/HGNN/data/INHS_cropped/images/INHS_FISH_107186_aug5.jpg saved!\n",
      "/home/elhamod/HGNN/data/INHS_cropped/images/INHS_FISH_107186_aug6.jpg saved!\n",
      "/home/elhamod/HGNN/data/INHS_cropped/images/INHS_FISH_107186_aug7.jpg saved!\n",
      "/home/elhamod/HGNN/data/INHS_cropped/images/INHS_FISH_107186_aug8.jpg saved!\n",
      "/home/elhamod/HGNN/data/INHS_cropped/images/INHS_FISH_107186_aug9.jpg saved!\n"
     ]
    },
    {
     "name": "stderr",
     "output_type": "stream",
     "text": [
      "\r",
      " 95% (524 of 550) |####################  | Elapsed Time: 0:10:01 ETA:   0:00:31"
     ]
    },
    {
     "name": "stdout",
     "output_type": "stream",
     "text": [
      "/home/elhamod/HGNN/data/INHS_cropped/images/INHS_FISH_100972_aug0.jpg saved!\n",
      "/home/elhamod/HGNN/data/INHS_cropped/images/INHS_FISH_100972_aug1.jpg saved!\n",
      "/home/elhamod/HGNN/data/INHS_cropped/images/INHS_FISH_100972_aug2.jpg saved!\n",
      "/home/elhamod/HGNN/data/INHS_cropped/images/INHS_FISH_100972_aug3.jpg saved!\n",
      "/home/elhamod/HGNN/data/INHS_cropped/images/INHS_FISH_100972_aug4.jpg saved!\n",
      "/home/elhamod/HGNN/data/INHS_cropped/images/INHS_FISH_100972_aug5.jpg saved!\n",
      "/home/elhamod/HGNN/data/INHS_cropped/images/INHS_FISH_100972_aug6.jpg saved!\n",
      "/home/elhamod/HGNN/data/INHS_cropped/images/INHS_FISH_100972_aug7.jpg saved!\n",
      "/home/elhamod/HGNN/data/INHS_cropped/images/INHS_FISH_100972_aug8.jpg saved!\n",
      "/home/elhamod/HGNN/data/INHS_cropped/images/INHS_FISH_100972_aug9.jpg saved!\n"
     ]
    },
    {
     "name": "stderr",
     "output_type": "stream",
     "text": [
      "\r",
      " 95% (525 of 550) |##################### | Elapsed Time: 0:10:02 ETA:   0:00:32"
     ]
    },
    {
     "name": "stdout",
     "output_type": "stream",
     "text": [
      "/home/elhamod/HGNN/data/INHS_cropped/images/INHS_FISH_95087_aug0.jpg saved!\n",
      "/home/elhamod/HGNN/data/INHS_cropped/images/INHS_FISH_95087_aug1.jpg saved!\n",
      "/home/elhamod/HGNN/data/INHS_cropped/images/INHS_FISH_95087_aug2.jpg saved!\n",
      "/home/elhamod/HGNN/data/INHS_cropped/images/INHS_FISH_95087_aug3.jpg saved!\n",
      "/home/elhamod/HGNN/data/INHS_cropped/images/INHS_FISH_95087_aug4.jpg saved!\n",
      "/home/elhamod/HGNN/data/INHS_cropped/images/INHS_FISH_95087_aug5.jpg saved!\n",
      "/home/elhamod/HGNN/data/INHS_cropped/images/INHS_FISH_95087_aug6.jpg saved!\n",
      "/home/elhamod/HGNN/data/INHS_cropped/images/INHS_FISH_95087_aug7.jpg saved!\n",
      "/home/elhamod/HGNN/data/INHS_cropped/images/INHS_FISH_95087_aug8.jpg saved!\n",
      "/home/elhamod/HGNN/data/INHS_cropped/images/INHS_FISH_95087_aug9.jpg saved!\n"
     ]
    },
    {
     "name": "stderr",
     "output_type": "stream",
     "text": [
      "\r",
      " 95% (526 of 550) |##################### | Elapsed Time: 0:10:04 ETA:   0:00:30"
     ]
    },
    {
     "name": "stdout",
     "output_type": "stream",
     "text": [
      "/home/elhamod/HGNN/data/INHS_cropped/images/INHS_FISH_46173_aug0.jpg saved!\n",
      "/home/elhamod/HGNN/data/INHS_cropped/images/INHS_FISH_46173_aug1.jpg saved!\n",
      "/home/elhamod/HGNN/data/INHS_cropped/images/INHS_FISH_46173_aug2.jpg saved!\n",
      "/home/elhamod/HGNN/data/INHS_cropped/images/INHS_FISH_46173_aug3.jpg saved!\n",
      "/home/elhamod/HGNN/data/INHS_cropped/images/INHS_FISH_46173_aug4.jpg saved!\n",
      "/home/elhamod/HGNN/data/INHS_cropped/images/INHS_FISH_46173_aug5.jpg saved!\n",
      "/home/elhamod/HGNN/data/INHS_cropped/images/INHS_FISH_46173_aug6.jpg saved!\n",
      "/home/elhamod/HGNN/data/INHS_cropped/images/INHS_FISH_46173_aug7.jpg saved!\n",
      "/home/elhamod/HGNN/data/INHS_cropped/images/INHS_FISH_46173_aug8.jpg saved!\n",
      "/home/elhamod/HGNN/data/INHS_cropped/images/INHS_FISH_46173_aug9.jpg saved!\n"
     ]
    },
    {
     "name": "stderr",
     "output_type": "stream",
     "text": [
      "\r",
      " 95% (527 of 550) |##################### | Elapsed Time: 0:10:05 ETA:   0:00:28"
     ]
    },
    {
     "name": "stdout",
     "output_type": "stream",
     "text": [
      "/home/elhamod/HGNN/data/INHS_cropped/images/INHS_FISH_108701_aug0.jpg saved!\n",
      "/home/elhamod/HGNN/data/INHS_cropped/images/INHS_FISH_108701_aug1.jpg saved!\n",
      "/home/elhamod/HGNN/data/INHS_cropped/images/INHS_FISH_108701_aug2.jpg saved!\n",
      "/home/elhamod/HGNN/data/INHS_cropped/images/INHS_FISH_108701_aug3.jpg saved!\n",
      "/home/elhamod/HGNN/data/INHS_cropped/images/INHS_FISH_108701_aug4.jpg saved!\n",
      "/home/elhamod/HGNN/data/INHS_cropped/images/INHS_FISH_108701_aug5.jpg saved!\n",
      "/home/elhamod/HGNN/data/INHS_cropped/images/INHS_FISH_108701_aug6.jpg saved!\n",
      "/home/elhamod/HGNN/data/INHS_cropped/images/INHS_FISH_108701_aug7.jpg saved!\n",
      "/home/elhamod/HGNN/data/INHS_cropped/images/INHS_FISH_108701_aug8.jpg saved!\n",
      "/home/elhamod/HGNN/data/INHS_cropped/images/INHS_FISH_108701_aug9.jpg saved!\n"
     ]
    },
    {
     "name": "stderr",
     "output_type": "stream",
     "text": [
      "\r",
      " 96% (528 of 550) |##################### | Elapsed Time: 0:10:06 ETA:   0:00:26"
     ]
    },
    {
     "name": "stdout",
     "output_type": "stream",
     "text": [
      "/home/elhamod/HGNN/data/INHS_cropped/images/INHS_FISH_15451_aug0.jpg saved!\n",
      "/home/elhamod/HGNN/data/INHS_cropped/images/INHS_FISH_15451_aug1.jpg saved!\n",
      "/home/elhamod/HGNN/data/INHS_cropped/images/INHS_FISH_15451_aug2.jpg saved!\n",
      "/home/elhamod/HGNN/data/INHS_cropped/images/INHS_FISH_15451_aug3.jpg saved!\n",
      "/home/elhamod/HGNN/data/INHS_cropped/images/INHS_FISH_15451_aug4.jpg saved!\n",
      "/home/elhamod/HGNN/data/INHS_cropped/images/INHS_FISH_15451_aug5.jpg saved!\n",
      "/home/elhamod/HGNN/data/INHS_cropped/images/INHS_FISH_15451_aug6.jpg saved!\n",
      "/home/elhamod/HGNN/data/INHS_cropped/images/INHS_FISH_15451_aug7.jpg saved!\n",
      "/home/elhamod/HGNN/data/INHS_cropped/images/INHS_FISH_15451_aug8.jpg saved!\n",
      "/home/elhamod/HGNN/data/INHS_cropped/images/INHS_FISH_15451_aug9.jpg saved!\n"
     ]
    },
    {
     "name": "stderr",
     "output_type": "stream",
     "text": [
      "\r",
      " 96% (529 of 550) |##################### | Elapsed Time: 0:10:07 ETA:   0:00:24"
     ]
    },
    {
     "name": "stdout",
     "output_type": "stream",
     "text": [
      "/home/elhamod/HGNN/data/INHS_cropped/images/INHS_FISH_82012_aug0.jpg saved!\n",
      "/home/elhamod/HGNN/data/INHS_cropped/images/INHS_FISH_82012_aug1.jpg saved!\n",
      "/home/elhamod/HGNN/data/INHS_cropped/images/INHS_FISH_82012_aug2.jpg saved!\n",
      "/home/elhamod/HGNN/data/INHS_cropped/images/INHS_FISH_82012_aug3.jpg saved!\n",
      "/home/elhamod/HGNN/data/INHS_cropped/images/INHS_FISH_82012_aug4.jpg saved!\n",
      "/home/elhamod/HGNN/data/INHS_cropped/images/INHS_FISH_82012_aug5.jpg saved!\n",
      "/home/elhamod/HGNN/data/INHS_cropped/images/INHS_FISH_82012_aug6.jpg saved!\n",
      "/home/elhamod/HGNN/data/INHS_cropped/images/INHS_FISH_82012_aug7.jpg saved!\n",
      "/home/elhamod/HGNN/data/INHS_cropped/images/INHS_FISH_82012_aug8.jpg saved!\n",
      "/home/elhamod/HGNN/data/INHS_cropped/images/INHS_FISH_82012_aug9.jpg saved!\n"
     ]
    },
    {
     "name": "stderr",
     "output_type": "stream",
     "text": [
      "\r",
      " 96% (530 of 550) |##################### | Elapsed Time: 0:10:09 ETA:   0:00:23"
     ]
    },
    {
     "name": "stdout",
     "output_type": "stream",
     "text": [
      "/home/elhamod/HGNN/data/INHS_cropped/images/INHS_FISH_90177_aug0.jpg saved!\n",
      "/home/elhamod/HGNN/data/INHS_cropped/images/INHS_FISH_90177_aug1.jpg saved!\n",
      "/home/elhamod/HGNN/data/INHS_cropped/images/INHS_FISH_90177_aug2.jpg saved!\n",
      "/home/elhamod/HGNN/data/INHS_cropped/images/INHS_FISH_90177_aug3.jpg saved!\n",
      "/home/elhamod/HGNN/data/INHS_cropped/images/INHS_FISH_90177_aug4.jpg saved!\n",
      "/home/elhamod/HGNN/data/INHS_cropped/images/INHS_FISH_90177_aug5.jpg saved!\n",
      "/home/elhamod/HGNN/data/INHS_cropped/images/INHS_FISH_90177_aug6.jpg saved!\n",
      "/home/elhamod/HGNN/data/INHS_cropped/images/INHS_FISH_90177_aug7.jpg saved!\n",
      "/home/elhamod/HGNN/data/INHS_cropped/images/INHS_FISH_90177_aug8.jpg saved!\n",
      "/home/elhamod/HGNN/data/INHS_cropped/images/INHS_FISH_90177_aug9.jpg saved!\n"
     ]
    },
    {
     "name": "stderr",
     "output_type": "stream",
     "text": [
      "\r",
      " 96% (531 of 550) |##################### | Elapsed Time: 0:10:10 ETA:   0:00:22"
     ]
    },
    {
     "name": "stdout",
     "output_type": "stream",
     "text": [
      "/home/elhamod/HGNN/data/INHS_cropped/images/INHS_FISH_57050_aug0.jpg saved!\n",
      "/home/elhamod/HGNN/data/INHS_cropped/images/INHS_FISH_57050_aug1.jpg saved!\n",
      "/home/elhamod/HGNN/data/INHS_cropped/images/INHS_FISH_57050_aug2.jpg saved!\n",
      "/home/elhamod/HGNN/data/INHS_cropped/images/INHS_FISH_57050_aug3.jpg saved!\n",
      "/home/elhamod/HGNN/data/INHS_cropped/images/INHS_FISH_57050_aug4.jpg saved!\n",
      "/home/elhamod/HGNN/data/INHS_cropped/images/INHS_FISH_57050_aug5.jpg saved!\n",
      "/home/elhamod/HGNN/data/INHS_cropped/images/INHS_FISH_57050_aug6.jpg saved!\n",
      "/home/elhamod/HGNN/data/INHS_cropped/images/INHS_FISH_57050_aug7.jpg saved!\n",
      "/home/elhamod/HGNN/data/INHS_cropped/images/INHS_FISH_57050_aug8.jpg saved!\n",
      "/home/elhamod/HGNN/data/INHS_cropped/images/INHS_FISH_57050_aug9.jpg saved!\n"
     ]
    },
    {
     "name": "stderr",
     "output_type": "stream",
     "text": [
      "\r",
      " 96% (532 of 550) |##################### | Elapsed Time: 0:10:11 ETA:   0:00:21"
     ]
    },
    {
     "name": "stdout",
     "output_type": "stream",
     "text": [
      "/home/elhamod/HGNN/data/INHS_cropped/images/INHS_FISH_59426_aug0.jpg saved!\n",
      "/home/elhamod/HGNN/data/INHS_cropped/images/INHS_FISH_59426_aug1.jpg saved!\n",
      "/home/elhamod/HGNN/data/INHS_cropped/images/INHS_FISH_59426_aug2.jpg saved!\n",
      "/home/elhamod/HGNN/data/INHS_cropped/images/INHS_FISH_59426_aug3.jpg saved!\n",
      "/home/elhamod/HGNN/data/INHS_cropped/images/INHS_FISH_59426_aug4.jpg saved!\n",
      "/home/elhamod/HGNN/data/INHS_cropped/images/INHS_FISH_59426_aug5.jpg saved!\n",
      "/home/elhamod/HGNN/data/INHS_cropped/images/INHS_FISH_59426_aug6.jpg saved!\n",
      "/home/elhamod/HGNN/data/INHS_cropped/images/INHS_FISH_59426_aug7.jpg saved!\n",
      "/home/elhamod/HGNN/data/INHS_cropped/images/INHS_FISH_59426_aug8.jpg saved!\n",
      "/home/elhamod/HGNN/data/INHS_cropped/images/INHS_FISH_59426_aug9.jpg saved!\n"
     ]
    },
    {
     "name": "stderr",
     "output_type": "stream",
     "text": [
      "\r",
      " 96% (533 of 550) |##################### | Elapsed Time: 0:10:12 ETA:   0:00:20"
     ]
    },
    {
     "name": "stdout",
     "output_type": "stream",
     "text": [
      "/home/elhamod/HGNN/data/INHS_cropped/images/INHS_FISH_35006_aug0.jpg saved!\n",
      "/home/elhamod/HGNN/data/INHS_cropped/images/INHS_FISH_35006_aug1.jpg saved!\n",
      "/home/elhamod/HGNN/data/INHS_cropped/images/INHS_FISH_35006_aug2.jpg saved!\n",
      "/home/elhamod/HGNN/data/INHS_cropped/images/INHS_FISH_35006_aug3.jpg saved!\n",
      "/home/elhamod/HGNN/data/INHS_cropped/images/INHS_FISH_35006_aug4.jpg saved!\n",
      "/home/elhamod/HGNN/data/INHS_cropped/images/INHS_FISH_35006_aug5.jpg saved!\n",
      "/home/elhamod/HGNN/data/INHS_cropped/images/INHS_FISH_35006_aug6.jpg saved!\n",
      "/home/elhamod/HGNN/data/INHS_cropped/images/INHS_FISH_35006_aug7.jpg saved!\n",
      "/home/elhamod/HGNN/data/INHS_cropped/images/INHS_FISH_35006_aug8.jpg saved!\n",
      "/home/elhamod/HGNN/data/INHS_cropped/images/INHS_FISH_35006_aug9.jpg saved!\n"
     ]
    },
    {
     "name": "stderr",
     "output_type": "stream",
     "text": [
      "\r",
      " 97% (534 of 550) |##################### | Elapsed Time: 0:10:13 ETA:   0:00:19"
     ]
    },
    {
     "name": "stdout",
     "output_type": "stream",
     "text": [
      "/home/elhamod/HGNN/data/INHS_cropped/images/INHS_FISH_65024_aug0.jpg saved!\n",
      "/home/elhamod/HGNN/data/INHS_cropped/images/INHS_FISH_65024_aug1.jpg saved!\n",
      "/home/elhamod/HGNN/data/INHS_cropped/images/INHS_FISH_65024_aug2.jpg saved!\n",
      "/home/elhamod/HGNN/data/INHS_cropped/images/INHS_FISH_65024_aug3.jpg saved!\n",
      "/home/elhamod/HGNN/data/INHS_cropped/images/INHS_FISH_65024_aug4.jpg saved!\n",
      "/home/elhamod/HGNN/data/INHS_cropped/images/INHS_FISH_65024_aug5.jpg saved!\n",
      "/home/elhamod/HGNN/data/INHS_cropped/images/INHS_FISH_65024_aug6.jpg saved!\n",
      "/home/elhamod/HGNN/data/INHS_cropped/images/INHS_FISH_65024_aug7.jpg saved!\n",
      "/home/elhamod/HGNN/data/INHS_cropped/images/INHS_FISH_65024_aug8.jpg saved!\n",
      "/home/elhamod/HGNN/data/INHS_cropped/images/INHS_FISH_65024_aug9.jpg saved!\n"
     ]
    },
    {
     "name": "stderr",
     "output_type": "stream",
     "text": [
      "\r",
      " 97% (535 of 550) |##################### | Elapsed Time: 0:10:15 ETA:   0:00:18"
     ]
    },
    {
     "name": "stdout",
     "output_type": "stream",
     "text": [
      "/home/elhamod/HGNN/data/INHS_cropped/images/INHS_FISH_48320_aug0.jpg saved!\n",
      "/home/elhamod/HGNN/data/INHS_cropped/images/INHS_FISH_48320_aug1.jpg saved!\n",
      "/home/elhamod/HGNN/data/INHS_cropped/images/INHS_FISH_48320_aug2.jpg saved!\n",
      "/home/elhamod/HGNN/data/INHS_cropped/images/INHS_FISH_48320_aug3.jpg saved!\n",
      "/home/elhamod/HGNN/data/INHS_cropped/images/INHS_FISH_48320_aug4.jpg saved!\n",
      "/home/elhamod/HGNN/data/INHS_cropped/images/INHS_FISH_48320_aug5.jpg saved!\n",
      "/home/elhamod/HGNN/data/INHS_cropped/images/INHS_FISH_48320_aug6.jpg saved!\n",
      "/home/elhamod/HGNN/data/INHS_cropped/images/INHS_FISH_48320_aug7.jpg saved!\n",
      "/home/elhamod/HGNN/data/INHS_cropped/images/INHS_FISH_48320_aug8.jpg saved!\n",
      "/home/elhamod/HGNN/data/INHS_cropped/images/INHS_FISH_48320_aug9.jpg saved!\n"
     ]
    },
    {
     "name": "stderr",
     "output_type": "stream",
     "text": [
      "\r",
      " 97% (536 of 550) |##################### | Elapsed Time: 0:10:16 ETA:   0:00:16"
     ]
    },
    {
     "name": "stdout",
     "output_type": "stream",
     "text": [
      "/home/elhamod/HGNN/data/INHS_cropped/images/INHS_FISH_92612_aug0.jpg saved!\n",
      "/home/elhamod/HGNN/data/INHS_cropped/images/INHS_FISH_92612_aug1.jpg saved!\n",
      "/home/elhamod/HGNN/data/INHS_cropped/images/INHS_FISH_92612_aug2.jpg saved!\n",
      "/home/elhamod/HGNN/data/INHS_cropped/images/INHS_FISH_92612_aug3.jpg saved!\n",
      "/home/elhamod/HGNN/data/INHS_cropped/images/INHS_FISH_92612_aug4.jpg saved!\n",
      "/home/elhamod/HGNN/data/INHS_cropped/images/INHS_FISH_92612_aug5.jpg saved!\n",
      "/home/elhamod/HGNN/data/INHS_cropped/images/INHS_FISH_92612_aug6.jpg saved!\n",
      "/home/elhamod/HGNN/data/INHS_cropped/images/INHS_FISH_92612_aug7.jpg saved!\n",
      "/home/elhamod/HGNN/data/INHS_cropped/images/INHS_FISH_92612_aug8.jpg saved!\n",
      "/home/elhamod/HGNN/data/INHS_cropped/images/INHS_FISH_92612_aug9.jpg saved!\n"
     ]
    },
    {
     "name": "stderr",
     "output_type": "stream",
     "text": [
      "\r",
      " 97% (537 of 550) |##################### | Elapsed Time: 0:10:17 ETA:   0:00:15"
     ]
    },
    {
     "name": "stdout",
     "output_type": "stream",
     "text": [
      "/home/elhamod/HGNN/data/INHS_cropped/images/INHS_FISH_60892_aug0.jpg saved!\n",
      "/home/elhamod/HGNN/data/INHS_cropped/images/INHS_FISH_60892_aug1.jpg saved!\n",
      "/home/elhamod/HGNN/data/INHS_cropped/images/INHS_FISH_60892_aug2.jpg saved!\n",
      "/home/elhamod/HGNN/data/INHS_cropped/images/INHS_FISH_60892_aug3.jpg saved!\n",
      "/home/elhamod/HGNN/data/INHS_cropped/images/INHS_FISH_60892_aug4.jpg saved!\n",
      "/home/elhamod/HGNN/data/INHS_cropped/images/INHS_FISH_60892_aug5.jpg saved!\n",
      "/home/elhamod/HGNN/data/INHS_cropped/images/INHS_FISH_60892_aug6.jpg saved!\n",
      "/home/elhamod/HGNN/data/INHS_cropped/images/INHS_FISH_60892_aug7.jpg saved!\n",
      "/home/elhamod/HGNN/data/INHS_cropped/images/INHS_FISH_60892_aug8.jpg saved!\n",
      "/home/elhamod/HGNN/data/INHS_cropped/images/INHS_FISH_60892_aug9.jpg saved!\n"
     ]
    },
    {
     "name": "stderr",
     "output_type": "stream",
     "text": [
      "\r",
      " 97% (538 of 550) |##################### | Elapsed Time: 0:10:18 ETA:   0:00:14"
     ]
    },
    {
     "name": "stdout",
     "output_type": "stream",
     "text": [
      "/home/elhamod/HGNN/data/INHS_cropped/images/INHS_FISH_83767_aug0.jpg saved!\n",
      "/home/elhamod/HGNN/data/INHS_cropped/images/INHS_FISH_83767_aug1.jpg saved!\n",
      "/home/elhamod/HGNN/data/INHS_cropped/images/INHS_FISH_83767_aug2.jpg saved!\n",
      "/home/elhamod/HGNN/data/INHS_cropped/images/INHS_FISH_83767_aug3.jpg saved!\n",
      "/home/elhamod/HGNN/data/INHS_cropped/images/INHS_FISH_83767_aug4.jpg saved!\n",
      "/home/elhamod/HGNN/data/INHS_cropped/images/INHS_FISH_83767_aug5.jpg saved!\n",
      "/home/elhamod/HGNN/data/INHS_cropped/images/INHS_FISH_83767_aug6.jpg saved!\n",
      "/home/elhamod/HGNN/data/INHS_cropped/images/INHS_FISH_83767_aug7.jpg saved!\n",
      "/home/elhamod/HGNN/data/INHS_cropped/images/INHS_FISH_83767_aug8.jpg saved!\n",
      "/home/elhamod/HGNN/data/INHS_cropped/images/INHS_FISH_83767_aug9.jpg saved!\n"
     ]
    },
    {
     "name": "stderr",
     "output_type": "stream",
     "text": [
      "\r",
      " 98% (539 of 550) |##################### | Elapsed Time: 0:10:19 ETA:   0:00:13"
     ]
    },
    {
     "name": "stdout",
     "output_type": "stream",
     "text": [
      "/home/elhamod/HGNN/data/INHS_cropped/images/INHS_FISH_21565_aug0.jpg saved!\n",
      "/home/elhamod/HGNN/data/INHS_cropped/images/INHS_FISH_21565_aug1.jpg saved!\n",
      "/home/elhamod/HGNN/data/INHS_cropped/images/INHS_FISH_21565_aug2.jpg saved!\n",
      "/home/elhamod/HGNN/data/INHS_cropped/images/INHS_FISH_21565_aug3.jpg saved!\n",
      "/home/elhamod/HGNN/data/INHS_cropped/images/INHS_FISH_21565_aug4.jpg saved!\n",
      "/home/elhamod/HGNN/data/INHS_cropped/images/INHS_FISH_21565_aug5.jpg saved!\n",
      "/home/elhamod/HGNN/data/INHS_cropped/images/INHS_FISH_21565_aug6.jpg saved!\n",
      "/home/elhamod/HGNN/data/INHS_cropped/images/INHS_FISH_21565_aug7.jpg saved!\n",
      "/home/elhamod/HGNN/data/INHS_cropped/images/INHS_FISH_21565_aug8.jpg saved!\n",
      "/home/elhamod/HGNN/data/INHS_cropped/images/INHS_FISH_21565_aug9.jpg saved!\n"
     ]
    },
    {
     "name": "stderr",
     "output_type": "stream",
     "text": [
      "\r",
      " 98% (540 of 550) |##################### | Elapsed Time: 0:10:21 ETA:   0:00:12"
     ]
    },
    {
     "name": "stdout",
     "output_type": "stream",
     "text": [
      "/home/elhamod/HGNN/data/INHS_cropped/images/INHS_FISH_32540_aug0.jpg saved!\n",
      "/home/elhamod/HGNN/data/INHS_cropped/images/INHS_FISH_32540_aug1.jpg saved!\n",
      "/home/elhamod/HGNN/data/INHS_cropped/images/INHS_FISH_32540_aug2.jpg saved!\n",
      "/home/elhamod/HGNN/data/INHS_cropped/images/INHS_FISH_32540_aug3.jpg saved!\n",
      "/home/elhamod/HGNN/data/INHS_cropped/images/INHS_FISH_32540_aug4.jpg saved!\n",
      "/home/elhamod/HGNN/data/INHS_cropped/images/INHS_FISH_32540_aug5.jpg saved!\n",
      "/home/elhamod/HGNN/data/INHS_cropped/images/INHS_FISH_32540_aug6.jpg saved!\n",
      "/home/elhamod/HGNN/data/INHS_cropped/images/INHS_FISH_32540_aug7.jpg saved!\n",
      "/home/elhamod/HGNN/data/INHS_cropped/images/INHS_FISH_32540_aug8.jpg saved!\n",
      "/home/elhamod/HGNN/data/INHS_cropped/images/INHS_FISH_32540_aug9.jpg saved!\n"
     ]
    },
    {
     "name": "stderr",
     "output_type": "stream",
     "text": [
      "\r",
      " 98% (541 of 550) |##################### | Elapsed Time: 0:10:22 ETA:   0:00:10"
     ]
    },
    {
     "name": "stdout",
     "output_type": "stream",
     "text": [
      "/home/elhamod/HGNN/data/INHS_cropped/images/INHS_FISH_94583_aug0.jpg saved!\n",
      "/home/elhamod/HGNN/data/INHS_cropped/images/INHS_FISH_94583_aug1.jpg saved!\n",
      "/home/elhamod/HGNN/data/INHS_cropped/images/INHS_FISH_94583_aug2.jpg saved!\n",
      "/home/elhamod/HGNN/data/INHS_cropped/images/INHS_FISH_94583_aug3.jpg saved!\n",
      "/home/elhamod/HGNN/data/INHS_cropped/images/INHS_FISH_94583_aug4.jpg saved!\n",
      "/home/elhamod/HGNN/data/INHS_cropped/images/INHS_FISH_94583_aug5.jpg saved!\n",
      "/home/elhamod/HGNN/data/INHS_cropped/images/INHS_FISH_94583_aug6.jpg saved!\n",
      "/home/elhamod/HGNN/data/INHS_cropped/images/INHS_FISH_94583_aug7.jpg saved!\n",
      "/home/elhamod/HGNN/data/INHS_cropped/images/INHS_FISH_94583_aug8.jpg saved!\n",
      "/home/elhamod/HGNN/data/INHS_cropped/images/INHS_FISH_94583_aug9.jpg saved!\n"
     ]
    },
    {
     "name": "stderr",
     "output_type": "stream",
     "text": [
      "\r",
      " 98% (542 of 550) |##################### | Elapsed Time: 0:10:23 ETA:   0:00:09"
     ]
    },
    {
     "name": "stdout",
     "output_type": "stream",
     "text": [
      "/home/elhamod/HGNN/data/INHS_cropped/images/INHS_FISH_92572_aug0.jpg saved!\n",
      "/home/elhamod/HGNN/data/INHS_cropped/images/INHS_FISH_92572_aug1.jpg saved!\n",
      "/home/elhamod/HGNN/data/INHS_cropped/images/INHS_FISH_92572_aug2.jpg saved!\n",
      "/home/elhamod/HGNN/data/INHS_cropped/images/INHS_FISH_92572_aug3.jpg saved!\n",
      "/home/elhamod/HGNN/data/INHS_cropped/images/INHS_FISH_92572_aug4.jpg saved!\n",
      "/home/elhamod/HGNN/data/INHS_cropped/images/INHS_FISH_92572_aug5.jpg saved!\n",
      "/home/elhamod/HGNN/data/INHS_cropped/images/INHS_FISH_92572_aug6.jpg saved!\n",
      "/home/elhamod/HGNN/data/INHS_cropped/images/INHS_FISH_92572_aug7.jpg saved!\n",
      "/home/elhamod/HGNN/data/INHS_cropped/images/INHS_FISH_92572_aug8.jpg saved!\n",
      "/home/elhamod/HGNN/data/INHS_cropped/images/INHS_FISH_92572_aug9.jpg saved!\n"
     ]
    },
    {
     "name": "stderr",
     "output_type": "stream",
     "text": [
      "\r",
      " 98% (543 of 550) |##################### | Elapsed Time: 0:10:24 ETA:   0:00:08"
     ]
    },
    {
     "name": "stdout",
     "output_type": "stream",
     "text": [
      "/home/elhamod/HGNN/data/INHS_cropped/images/INHS_FISH_97992_aug0.jpg saved!\n",
      "/home/elhamod/HGNN/data/INHS_cropped/images/INHS_FISH_97992_aug1.jpg saved!\n",
      "/home/elhamod/HGNN/data/INHS_cropped/images/INHS_FISH_97992_aug2.jpg saved!\n",
      "/home/elhamod/HGNN/data/INHS_cropped/images/INHS_FISH_97992_aug3.jpg saved!\n",
      "/home/elhamod/HGNN/data/INHS_cropped/images/INHS_FISH_97992_aug4.jpg saved!\n",
      "/home/elhamod/HGNN/data/INHS_cropped/images/INHS_FISH_97992_aug5.jpg saved!\n",
      "/home/elhamod/HGNN/data/INHS_cropped/images/INHS_FISH_97992_aug6.jpg saved!\n",
      "/home/elhamod/HGNN/data/INHS_cropped/images/INHS_FISH_97992_aug7.jpg saved!\n",
      "/home/elhamod/HGNN/data/INHS_cropped/images/INHS_FISH_97992_aug8.jpg saved!\n",
      "/home/elhamod/HGNN/data/INHS_cropped/images/INHS_FISH_97992_aug9.jpg saved!\n"
     ]
    },
    {
     "name": "stderr",
     "output_type": "stream",
     "text": [
      "\r",
      " 98% (544 of 550) |##################### | Elapsed Time: 0:10:26 ETA:   0:00:07"
     ]
    },
    {
     "name": "stdout",
     "output_type": "stream",
     "text": [
      "/home/elhamod/HGNN/data/INHS_cropped/images/INHS_FISH_42717_aug0.jpg saved!\n",
      "/home/elhamod/HGNN/data/INHS_cropped/images/INHS_FISH_42717_aug1.jpg saved!\n",
      "/home/elhamod/HGNN/data/INHS_cropped/images/INHS_FISH_42717_aug2.jpg saved!\n",
      "/home/elhamod/HGNN/data/INHS_cropped/images/INHS_FISH_42717_aug3.jpg saved!\n",
      "/home/elhamod/HGNN/data/INHS_cropped/images/INHS_FISH_42717_aug4.jpg saved!\n",
      "/home/elhamod/HGNN/data/INHS_cropped/images/INHS_FISH_42717_aug5.jpg saved!\n",
      "/home/elhamod/HGNN/data/INHS_cropped/images/INHS_FISH_42717_aug6.jpg saved!\n",
      "/home/elhamod/HGNN/data/INHS_cropped/images/INHS_FISH_42717_aug7.jpg saved!\n",
      "/home/elhamod/HGNN/data/INHS_cropped/images/INHS_FISH_42717_aug8.jpg saved!\n",
      "/home/elhamod/HGNN/data/INHS_cropped/images/INHS_FISH_42717_aug9.jpg saved!\n"
     ]
    },
    {
     "name": "stderr",
     "output_type": "stream",
     "text": [
      "\r",
      " 99% (545 of 550) |##################### | Elapsed Time: 0:10:27 ETA:   0:00:06"
     ]
    },
    {
     "name": "stdout",
     "output_type": "stream",
     "text": [
      "/home/elhamod/HGNN/data/INHS_cropped/images/INHS_FISH_56375_aug0.jpg saved!\n",
      "/home/elhamod/HGNN/data/INHS_cropped/images/INHS_FISH_56375_aug1.jpg saved!\n",
      "/home/elhamod/HGNN/data/INHS_cropped/images/INHS_FISH_56375_aug2.jpg saved!\n",
      "/home/elhamod/HGNN/data/INHS_cropped/images/INHS_FISH_56375_aug3.jpg saved!\n",
      "/home/elhamod/HGNN/data/INHS_cropped/images/INHS_FISH_56375_aug4.jpg saved!\n",
      "/home/elhamod/HGNN/data/INHS_cropped/images/INHS_FISH_56375_aug5.jpg saved!\n",
      "/home/elhamod/HGNN/data/INHS_cropped/images/INHS_FISH_56375_aug6.jpg saved!\n",
      "/home/elhamod/HGNN/data/INHS_cropped/images/INHS_FISH_56375_aug7.jpg saved!\n",
      "/home/elhamod/HGNN/data/INHS_cropped/images/INHS_FISH_56375_aug8.jpg saved!\n",
      "/home/elhamod/HGNN/data/INHS_cropped/images/INHS_FISH_56375_aug9.jpg saved!\n"
     ]
    },
    {
     "name": "stderr",
     "output_type": "stream",
     "text": [
      "\r",
      " 99% (546 of 550) |##################### | Elapsed Time: 0:10:28 ETA:   0:00:04"
     ]
    },
    {
     "name": "stdout",
     "output_type": "stream",
     "text": [
      "/home/elhamod/HGNN/data/INHS_cropped/images/INHS_FISH_29399_aug0.jpg saved!\n",
      "/home/elhamod/HGNN/data/INHS_cropped/images/INHS_FISH_29399_aug1.jpg saved!\n",
      "/home/elhamod/HGNN/data/INHS_cropped/images/INHS_FISH_29399_aug2.jpg saved!\n",
      "/home/elhamod/HGNN/data/INHS_cropped/images/INHS_FISH_29399_aug3.jpg saved!\n",
      "/home/elhamod/HGNN/data/INHS_cropped/images/INHS_FISH_29399_aug4.jpg saved!\n",
      "/home/elhamod/HGNN/data/INHS_cropped/images/INHS_FISH_29399_aug5.jpg saved!\n",
      "/home/elhamod/HGNN/data/INHS_cropped/images/INHS_FISH_29399_aug6.jpg saved!\n",
      "/home/elhamod/HGNN/data/INHS_cropped/images/INHS_FISH_29399_aug7.jpg saved!\n",
      "/home/elhamod/HGNN/data/INHS_cropped/images/INHS_FISH_29399_aug8.jpg saved!\n",
      "/home/elhamod/HGNN/data/INHS_cropped/images/INHS_FISH_29399_aug9.jpg saved!\n"
     ]
    },
    {
     "name": "stderr",
     "output_type": "stream",
     "text": [
      "\r",
      " 99% (547 of 550) |##################### | Elapsed Time: 0:10:29 ETA:   0:00:03"
     ]
    },
    {
     "name": "stdout",
     "output_type": "stream",
     "text": [
      "/home/elhamod/HGNN/data/INHS_cropped/images/INHS_FISH_95243_aug0.jpg saved!\n",
      "/home/elhamod/HGNN/data/INHS_cropped/images/INHS_FISH_95243_aug1.jpg saved!\n",
      "/home/elhamod/HGNN/data/INHS_cropped/images/INHS_FISH_95243_aug2.jpg saved!\n",
      "/home/elhamod/HGNN/data/INHS_cropped/images/INHS_FISH_95243_aug3.jpg saved!\n",
      "/home/elhamod/HGNN/data/INHS_cropped/images/INHS_FISH_95243_aug4.jpg saved!\n",
      "/home/elhamod/HGNN/data/INHS_cropped/images/INHS_FISH_95243_aug5.jpg saved!\n",
      "/home/elhamod/HGNN/data/INHS_cropped/images/INHS_FISH_95243_aug6.jpg saved!\n",
      "/home/elhamod/HGNN/data/INHS_cropped/images/INHS_FISH_95243_aug7.jpg saved!\n",
      "/home/elhamod/HGNN/data/INHS_cropped/images/INHS_FISH_95243_aug8.jpg saved!\n",
      "/home/elhamod/HGNN/data/INHS_cropped/images/INHS_FISH_95243_aug9.jpg saved!\n"
     ]
    },
    {
     "name": "stderr",
     "output_type": "stream",
     "text": [
      "\r",
      " 99% (548 of 550) |##################### | Elapsed Time: 0:10:31 ETA:   0:00:02"
     ]
    },
    {
     "name": "stdout",
     "output_type": "stream",
     "text": [
      "/home/elhamod/HGNN/data/INHS_cropped/images/INHS_FISH_58884_aug0.jpg saved!\n",
      "/home/elhamod/HGNN/data/INHS_cropped/images/INHS_FISH_58884_aug1.jpg saved!\n",
      "/home/elhamod/HGNN/data/INHS_cropped/images/INHS_FISH_58884_aug2.jpg saved!\n",
      "/home/elhamod/HGNN/data/INHS_cropped/images/INHS_FISH_58884_aug3.jpg saved!\n",
      "/home/elhamod/HGNN/data/INHS_cropped/images/INHS_FISH_58884_aug4.jpg saved!\n",
      "/home/elhamod/HGNN/data/INHS_cropped/images/INHS_FISH_58884_aug5.jpg saved!\n",
      "/home/elhamod/HGNN/data/INHS_cropped/images/INHS_FISH_58884_aug6.jpg saved!\n",
      "/home/elhamod/HGNN/data/INHS_cropped/images/INHS_FISH_58884_aug7.jpg saved!\n",
      "/home/elhamod/HGNN/data/INHS_cropped/images/INHS_FISH_58884_aug8.jpg saved!\n",
      "/home/elhamod/HGNN/data/INHS_cropped/images/INHS_FISH_58884_aug9.jpg saved!\n"
     ]
    },
    {
     "name": "stderr",
     "output_type": "stream",
     "text": [
      "\r",
      " 99% (549 of 550) |##################### | Elapsed Time: 0:10:32 ETA:   0:00:01"
     ]
    },
    {
     "name": "stdout",
     "output_type": "stream",
     "text": [
      "/home/elhamod/HGNN/data/INHS_cropped/images/INHS_FISH_53547_aug0.jpg saved!\n",
      "/home/elhamod/HGNN/data/INHS_cropped/images/INHS_FISH_53547_aug1.jpg saved!\n",
      "/home/elhamod/HGNN/data/INHS_cropped/images/INHS_FISH_53547_aug2.jpg saved!\n",
      "/home/elhamod/HGNN/data/INHS_cropped/images/INHS_FISH_53547_aug3.jpg saved!\n",
      "/home/elhamod/HGNN/data/INHS_cropped/images/INHS_FISH_53547_aug4.jpg saved!\n",
      "/home/elhamod/HGNN/data/INHS_cropped/images/INHS_FISH_53547_aug5.jpg saved!\n",
      "/home/elhamod/HGNN/data/INHS_cropped/images/INHS_FISH_53547_aug6.jpg saved!\n",
      "/home/elhamod/HGNN/data/INHS_cropped/images/INHS_FISH_53547_aug7.jpg saved!\n",
      "/home/elhamod/HGNN/data/INHS_cropped/images/INHS_FISH_53547_aug8.jpg saved!\n",
      "/home/elhamod/HGNN/data/INHS_cropped/images/INHS_FISH_53547_aug9.jpg saved!\n"
     ]
    },
    {
     "name": "stderr",
     "output_type": "stream",
     "text": [
      "100% (550 of 550) |######################| Elapsed Time: 0:10:33 Time:  0:10:33\n"
     ]
    },
    {
     "name": "stdout",
     "output_type": "stream",
     "text": [
      "/home/elhamod/HGNN/data/INHS_cropped/images/INHS_FISH_14454_aug0.jpg saved!\n",
      "/home/elhamod/HGNN/data/INHS_cropped/images/INHS_FISH_14454_aug1.jpg saved!\n",
      "/home/elhamod/HGNN/data/INHS_cropped/images/INHS_FISH_14454_aug2.jpg saved!\n",
      "/home/elhamod/HGNN/data/INHS_cropped/images/INHS_FISH_14454_aug3.jpg saved!\n",
      "/home/elhamod/HGNN/data/INHS_cropped/images/INHS_FISH_14454_aug4.jpg saved!\n",
      "/home/elhamod/HGNN/data/INHS_cropped/images/INHS_FISH_14454_aug5.jpg saved!\n",
      "/home/elhamod/HGNN/data/INHS_cropped/images/INHS_FISH_14454_aug6.jpg saved!\n",
      "/home/elhamod/HGNN/data/INHS_cropped/images/INHS_FISH_14454_aug7.jpg saved!\n",
      "/home/elhamod/HGNN/data/INHS_cropped/images/INHS_FISH_14454_aug8.jpg saved!\n",
      "/home/elhamod/HGNN/data/INHS_cropped/images/INHS_FISH_14454_aug9.jpg saved!\n"
     ]
    }
   ],
   "source": [
    "color_pca = Color_PCA(loaderAllImages, colorPCAperturbationMagnitude)\n",
    "\n",
    "with progressbar.ProgressBar(max_value=datasetSize) as bar:\n",
    "    k=1\n",
    "    for batch in loaderPerImage:\n",
    "        original = batch['image'].squeeze()\n",
    "        fileName = batch['fileName'][0]\n",
    "        prefix, ext = os.path.splitext(fileName)\n",
    "\n",
    "        if torch.cuda.is_available():\n",
    "            original = original.cpu()\n",
    "\n",
    "        for j in range(numOfAugmentedVersions):\n",
    "            image = transforms.ToPILImage()(original)\n",
    "\n",
    "            if applyHorizontalFlip:\n",
    "                image = transforms.RandomHorizontalFlip(p=applyHorizontalFlipProbability)(image)\n",
    "    #             display(image)\n",
    "\n",
    "            if applyTranslation:\n",
    "                RGBmean = (int(0.485*255), int(0.456*255), int(0.406*255))\n",
    "                image = transforms.RandomAffine(degrees=0, translate=(applyTranslationAmount,\n",
    "                                                                      applyTranslationAmount),\n",
    "                                               fillcolor=RGBmean)(image)\n",
    "    #             display(image)\n",
    "\n",
    "            if applyColorPCA:\n",
    "                image = transforms.ToTensor()(image).unsqueeze(0)\n",
    "                image = transforms.Lambda(color_pca.perturb_color)(image).type(torch.float32) \n",
    "\n",
    "                image = transforms.ToPILImage()(image.squeeze())\n",
    "    #             display(image)\n",
    "\n",
    "\n",
    "            savedFileName = os.path.join(dataset.csv_processor.get_image_full_path(), prefix+\"_aug\"+str(j)+ext)\n",
    "            print(savedFileName, \"saved!\")\n",
    "            image.save(savedFileName)\n",
    "            \n",
    "        bar.update(k)\n",
    "        k = k + 1\n",
    "\n",
    "    \n",
    "    "
   ]
  },
  {
   "cell_type": "code",
   "execution_count": null,
   "metadata": {},
   "outputs": [],
   "source": []
  }
 ],
 "metadata": {
  "kernelspec": {
   "display_name": "Python 3",
   "language": "python",
   "name": "python3"
  },
  "language_info": {
   "codemirror_mode": {
    "name": "ipython",
    "version": 3
   },
   "file_extension": ".py",
   "mimetype": "text/x-python",
   "name": "python",
   "nbconvert_exporter": "python",
   "pygments_lexer": "ipython3",
   "version": "3.7.3"
  }
 },
 "nbformat": 4,
 "nbformat_minor": 2
}