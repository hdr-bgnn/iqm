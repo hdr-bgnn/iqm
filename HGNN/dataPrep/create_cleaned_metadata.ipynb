{
 "cells": [
  {
   "cell_type": "markdown",
   "metadata": {},
   "source": [
    "imports"
   ]
  },
  {
   "cell_type": "code",
   "execution_count": 46,
   "metadata": {},
   "outputs": [],
   "source": [
    "import os\n",
    "import pandas as pd"
   ]
  },
  {
   "cell_type": "markdown",
   "metadata": {},
   "source": [
    "parameters"
   ]
  },
  {
   "cell_type": "code",
   "execution_count": 47,
   "metadata": {},
   "outputs": [],
   "source": [
    "dataPath=\"/home/elhamod/projects/HGNN/data\"\n",
    "image_path='INHS_cropped'\n",
    "output_directory_name=\"52\"\n",
    "cleaned_species_csv_fileName = \"cleaned_metadata.csv\"\n",
    "species_csv_fileName = \"metadata.csv\"\n",
    "numberOfImagesPerSpecies = 50"
   ]
  },
  {
   "cell_type": "markdown",
   "metadata": {},
   "source": [
    "Subset creation"
   ]
  },
  {
   "cell_type": "code",
   "execution_count": 53,
   "metadata": {},
   "outputs": [
    {
     "name": "stdout",
     "output_type": "stream",
     "text": [
      "output                    fileName         scientificName        Genus         Family\n",
      "0      INHS_FISH_103994.jpg       Gambusia affinis     Gambusia    Poeciliidae\n",
      "1      INHS_FISH_108425.jpg    Notropis stramineus     Notropis     Cyprinidae\n",
      "2       INHS_FISH_59772.jpg      Lepomis cyanellus      Lepomis  Centrarchidae\n",
      "3        INHS_FISH_4051.jpg        Noturus gyrinus      Noturus    Ictaluridae\n",
      "4       INHS_FISH_21948.jpg  Notropis atherinoides     Notropis     Cyprinidae\n",
      "...                     ...                    ...          ...            ...\n",
      "2595    INHS_FISH_31114.jpg       Notropis greenei     Notropis     Cyprinidae\n",
      "2596    INHS_FISH_75551.jpg     Lepomis marginatus      Lepomis  Centrarchidae\n",
      "2597  INHS_FISH_52739_2.jpg   Lepisosteus oculatus  Lepisosteus  Lepisosteidae\n",
      "2598    INHS_FISH_81504.jpg       Notropis greenei     Notropis     Cyprinidae\n",
      "2599    INHS_FISH_85916.jpg   Lepisosteus oculatus  Lepisosteus  Lepisosteidae\n",
      "\n",
      "[2600 rows x 4 columns]\n"
     ]
    }
   ],
   "source": [
    "# get metadata file\n",
    "metadata_csv_df = pd.read_csv(os.path.join(dataPath ,image_path, species_csv_fileName), sep='\\t')\n",
    "\n",
    "# find species that have a specific number of images\n",
    "grouped_by = metadata_csv_df['scientificName'].value_counts()\n",
    "grouped_by_larger = grouped_by[grouped_by > numberOfImagesPerSpecies]\n",
    "scientificNameValues = grouped_by_larger.index.values\n",
    "thresholded = metadata_csv_df[metadata_csv_df['scientificName'].isin(scientificNameValues)]\n",
    "\n",
    "# Get first n images from each\n",
    "trimmed = thresholded.groupby('scientificName').head(numberOfImagesPerSpecies).reset_index(drop=True)\n",
    "print('output', trimmed)\n",
    "\n",
    "# save the file\n",
    "path = os.path.join(dataPath ,image_path, output_directory_name)\n",
    "try:\n",
    "    os.mkdir(path)\n",
    "except:\n",
    "    pass\n",
    "trimmed.to_csv(os.path.join(path, cleaned_species_csv_fileName), sep='\\t')\n"
   ]
  },
  {
   "cell_type": "code",
   "execution_count": null,
   "metadata": {},
   "outputs": [],
   "source": []
  },
  {
   "cell_type": "code",
   "execution_count": null,
   "metadata": {},
   "outputs": [],
   "source": []
  }
 ],
 "metadata": {
  "kernelspec": {
   "display_name": "elhamod_env",
   "language": "python",
   "name": "elhamod_env"
  },
  "language_info": {
   "codemirror_mode": {
    "name": "ipython",
    "version": 3
   },
   "file_extension": ".py",
   "mimetype": "text/x-python",
   "name": "python",
   "nbconvert_exporter": "python",
   "pygments_lexer": "ipython3",
   "version": "3.7.3"
  }
 },
 "nbformat": 4,
 "nbformat_minor": 2
}
