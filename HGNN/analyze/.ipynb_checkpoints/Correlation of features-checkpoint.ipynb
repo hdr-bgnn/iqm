{
 "cells": [
  {
   "cell_type": "markdown",
   "metadata": {},
   "source": [
    "# Introduction\n",
    "State notebook purpose here"
   ]
  },
  {
   "cell_type": "markdown",
   "metadata": {},
   "source": [
    "### Imports\n",
    "Import libraries and write settings here."
   ]
  },
  {
   "cell_type": "code",
   "execution_count": 4,
   "metadata": {},
   "outputs": [
    {
     "data": {
      "text/html": [
       "        <script type=\"text/javascript\">\n",
       "        window.PlotlyConfig = {MathJaxConfig: 'local'};\n",
       "        if (window.MathJax) {MathJax.Hub.Config({SVG: {font: \"STIX-Web\"}});}\n",
       "        if (typeof require !== 'undefined') {\n",
       "        require.undef(\"plotly\");\n",
       "        requirejs.config({\n",
       "            paths: {\n",
       "                'plotly': ['https://cdn.plot.ly/plotly-latest.min']\n",
       "            }\n",
       "        });\n",
       "        require(['plotly'], function(Plotly) {\n",
       "            window._Plotly = Plotly;\n",
       "        });\n",
       "        }\n",
       "        </script>\n",
       "        "
      ]
     },
     "metadata": {},
     "output_type": "display_data"
    },
    {
     "data": {
      "text/html": [
       "        <script type=\"text/javascript\">\n",
       "        window.PlotlyConfig = {MathJaxConfig: 'local'};\n",
       "        if (window.MathJax) {MathJax.Hub.Config({SVG: {font: \"STIX-Web\"}});}\n",
       "        if (typeof require !== 'undefined') {\n",
       "        require.undef(\"plotly\");\n",
       "        requirejs.config({\n",
       "            paths: {\n",
       "                'plotly': ['https://cdn.plot.ly/plotly-latest.min']\n",
       "            }\n",
       "        });\n",
       "        require(['plotly'], function(Plotly) {\n",
       "            window._Plotly = Plotly;\n",
       "        });\n",
       "        }\n",
       "        </script>\n",
       "        "
      ]
     },
     "metadata": {},
     "output_type": "display_data"
    }
   ],
   "source": [
    "# Data manipulation\n",
    "import pandas as pd\n",
    "import numpy as np\n",
    "\n",
    "# Options for pandas\n",
    "pd.options.display.max_columns = 50\n",
    "pd.options.display.max_rows = 30\n",
    "\n",
    "# Display all cell outputs\n",
    "from IPython.core.interactiveshell import InteractiveShell\n",
    "InteractiveShell.ast_node_interactivity = 'all'\n",
    "\n",
    "from IPython import get_ipython\n",
    "ipython = get_ipython()\n",
    "\n",
    "# autoreload extension\n",
    "if 'autoreload' not in ipython.extension_manager.loaded:\n",
    "    %load_ext autoreload\n",
    "\n",
    "%autoreload 2\n",
    "\n",
    "# Visualizations\n",
    "import chart_studio.plotly as py\n",
    "import plotly.graph_objs as go\n",
    "from plotly.offline import iplot, init_notebook_mode\n",
    "init_notebook_mode(connected=True)\n",
    "\n",
    "import cufflinks as cf\n",
    "cf.go_offline(connected=True)\n",
    "cf.set_config_file(theme='white')"
   ]
  },
  {
   "cell_type": "code",
   "execution_count": 5,
   "metadata": {},
   "outputs": [],
   "source": [
    "%matplotlib inline\n",
    "import os\n",
    "import torch\n",
    "\n",
    "import matplotlib.pyplot as plt\n",
    "import torchvision.models as models\n",
    "\n",
    "# from flashtorch.utils import apply_transforms, load_image\n",
    "# from flashtorch.saliency import Backprop\n",
    "\n",
    "import dataLoader\n",
    "from configParser import ConfigParser, getModelName"
   ]
  },
  {
   "cell_type": "code",
   "execution_count": 6,
   "metadata": {},
   "outputs": [
    {
     "name": "stdout",
     "output_type": "stream",
     "text": [
      "We are using cuda\n"
     ]
    }
   ],
   "source": [
    "# CUDA support \n",
    "if torch.cuda.is_available():\n",
    "    torch.cuda.set_device(0) # 0\n",
    "    torch.set_default_tensor_type('torch.cuda.FloatTensor')\n",
    "    print(\"We are using cuda\")"
   ]
  },
  {
   "cell_type": "code",
   "execution_count": 7,
   "metadata": {},
   "outputs": [],
   "source": [
    "# params\n",
    "experimentName = \"50_11_hier_phase7\"\n",
    "experiment_index = 0\n",
    "trial_index=2\n",
    "experiment_type = \"multi-trial\""
   ]
  },
  {
   "cell_type": "code",
   "execution_count": 8,
   "metadata": {},
   "outputs": [
    {
     "name": "stdout",
     "output_type": "stream",
     "text": [
      "50_11_hier_phase7/multi-trial\n"
     ]
    }
   ],
   "source": [
    "from configParser import ConfigParser\n",
    "config_parser = ConfigParser(experimentName)\n",
    "\n",
    "experimentName = os.path.join(experimentName, experiment_type)\n",
    "print(experimentName)"
   ]
  },
  {
   "cell_type": "code",
   "execution_count": 9,
   "metadata": {},
   "outputs": [
    {
     "name": "stdout",
     "output_type": "stream",
     "text": [
      "{'image_path': '/data/BGNN_data/INHS_cropped', 'suffix': '50_11', 'training_count': 0.64, 'validation_count': 0.16, 'batchSize': 2650, 'n_epochs': 10000, 'learning_rate': 0.001, 'numOfTrials': 3, 'patience': 100, 'useHeirarchy': True, 'downsample': True, 'downsampleOutput': 350, 'takeFromIntermediate': True, 'takeFromIntermediateOutput': 200, 'lambda': 0.6, 'unsupervisedOnTest': False, 'fc_layers': 1, 'resnet': '18', 'normalizeFromResnet': True, 'dummy': 0}\n"
     ]
    }
   ],
   "source": [
    "if experiment_type == \"multi-trial\" or experiment_type == \"selected-multi-trial\":\n",
    "    if experiment_type == \"multi-trial\":\n",
    "        paramsIterator = config_parser.getHyperpIter()\n",
    "    else:\n",
    "        paramsIterator = config_parser.getHyperpSelectedIter()\n",
    "        \n",
    "    for indx, e in enumerate(paramsIterator):\n",
    "        if indx ==experiment_index:\n",
    "            experiment_params = e\n",
    "            break\n",
    "            \n",
    "elif experiment_type == \"single-trial\":\n",
    "    experiment_params = config_parser.read()\n",
    "else:\n",
    "    raise\n",
    "\n",
    "\n",
    "# experiment_params['normalizeFromResnet']=False\n",
    "# experiment_params['unsupervisedOnTest']=False\n",
    "# experiment_params[\"lambda\"]=1\n",
    "\n",
    "print(experiment_params)"
   ]
  },
  {
   "cell_type": "code",
   "execution_count": 10,
   "metadata": {},
   "outputs": [
    {
     "name": "stdout",
     "output_type": "stream",
     "text": [
      "Creating dataset...\n",
      "Loading dataset...\n"
     ]
    },
    {
     "name": "stderr",
     "output_type": "stream",
     "text": [
      "100% (550 of 550) |######################| Elapsed Time: 0:00:00 Time:  0:00:00\n"
     ]
    },
    {
     "name": "stdout",
     "output_type": "stream",
     "text": [
      "Going through image files\n",
      "Creating dataset... Done.\n"
     ]
    }
   ],
   "source": [
    "datasetManager = dataLoader.datasetManager(experimentName, True)\n",
    "datasetManager.updateParams(experiment_params)\n",
    "dataset = datasetManager.getDataset()"
   ]
  },
  {
   "cell_type": "code",
   "execution_count": 13,
   "metadata": {},
   "outputs": [
    {
     "name": "stdout",
     "output_type": "stream",
     "text": [
      "Loading saved indices...\n",
      "file /data/BGNN_data/INHS_cropped/50_11/50_11_hier_phase7/multi-trial/tc0.640000_vc0.160000/trainingIndex.pkl read\n",
      "file /data/BGNN_data/INHS_cropped/50_11/50_11_hier_phase7/multi-trial/tc0.640000_vc0.160000/valIndex.pkl read\n",
      "file /data/BGNN_data/INHS_cropped/50_11/50_11_hier_phase7/multi-trial/tc0.640000_vc0.160000/testIndex.pkl read\n",
      "Creating loaders...\n",
      "Creating loaders... Done.\n"
     ]
    }
   ],
   "source": [
    "import CNN\n",
    "\n",
    "speciesList = dataset.getSpeciesList()\n",
    "numberOfSpecies = len(speciesList)\n",
    "genusList = dataset.getGenusList()\n",
    "numberOfGenus = len(genusList)\n",
    "\n",
    "trialName = experimentName\n",
    "if experiment_type != \"single-trial\":\n",
    "    trialName = os.path.join(experimentName, getModelName(experiment_params, trial_index))\n",
    "\n",
    "architecture = {\n",
    "    \"species\": numberOfSpecies,\n",
    "    \"genus\" : numberOfGenus\n",
    "}\n",
    "model = CNN.create_model(architecture, experiment_params)\n",
    "df, epochs, time_elapsed = CNN.loadModel(model, trialName)\n",
    "train_loader, validation_loader, test_loader = datasetManager.getLoaders()"
   ]
  },
  {
   "cell_type": "code",
   "execution_count": 17,
   "metadata": {},
   "outputs": [
    {
     "name": "stdout",
     "output_type": "stream",
     "text": [
      "(110, 200)\n"
     ]
    }
   ],
   "source": [
    "g_intermediate = None\n",
    "s_intermediate = None\n",
    "for batch in test_loader:\n",
    "    x = batch['image']\n",
    "    A = model.activations(x)\n",
    "    g = A[\"genus_intermediate\"].cpu().detach().numpy()\n",
    "    s = A[\"downsampled_features\"].cpu().detach().numpy()\n",
    "    if g_intermediate is None:\n",
    "        g_intermediate = g\n",
    "        s_intermediate = s\n",
    "    else:\n",
    "        g_intermediate = np.concatenate((g_intermediate, g), axis=0)\n",
    "        g_intermediate = np.concatenate((s_intermediate, s), axis=0)\n",
    "print(g_intermediate.shape)"
   ]
  },
  {
   "cell_type": "code",
   "execution_count": null,
   "metadata": {},
   "outputs": [],
   "source": [
    "np.corrcoef(x, y)"
   ]
  },
  {
   "cell_type": "markdown",
   "metadata": {},
   "source": [
    "# Analysis/Modeling\n",
    "Do work here"
   ]
  },
  {
   "cell_type": "markdown",
   "metadata": {},
   "source": [
    "# Results\n",
    "Show graphs and stats here"
   ]
  },
  {
   "cell_type": "markdown",
   "metadata": {},
   "source": [
    "# Conclusions and Next Steps\n",
    "Summarize findings here"
   ]
  },
  {
   "cell_type": "code",
   "execution_count": null,
   "metadata": {},
   "outputs": [],
   "source": []
  }
 ],
 "metadata": {
  "kernelspec": {
   "display_name": "Python 3",
   "language": "python",
   "name": "python3"
  },
  "language_info": {
   "codemirror_mode": {
    "name": "ipython",
    "version": 3
   },
   "file_extension": ".py",
   "mimetype": "text/x-python",
   "name": "python",
   "nbconvert_exporter": "python",
   "pygments_lexer": "ipython3",
   "version": "3.6.9"
  }
 },
 "nbformat": 4,
 "nbformat_minor": 4
}
