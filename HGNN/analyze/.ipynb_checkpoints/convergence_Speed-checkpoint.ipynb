{
 "cells": [
  {
   "cell_type": "markdown",
   "metadata": {},
   "source": [
    "# Introduction\n",
    "State notebook purpose here"
   ]
  },
  {
   "cell_type": "markdown",
   "metadata": {},
   "source": [
    "### Imports\n",
    "Import libraries and write settings here."
   ]
  },
  {
   "cell_type": "code",
   "execution_count": 31,
   "metadata": {},
   "outputs": [
    {
     "data": {
      "text/html": [
       "        <script type=\"text/javascript\">\n",
       "        window.PlotlyConfig = {MathJaxConfig: 'local'};\n",
       "        if (window.MathJax) {MathJax.Hub.Config({SVG: {font: \"STIX-Web\"}});}\n",
       "        if (typeof require !== 'undefined') {\n",
       "        require.undef(\"plotly\");\n",
       "        requirejs.config({\n",
       "            paths: {\n",
       "                'plotly': ['https://cdn.plot.ly/plotly-latest.min']\n",
       "            }\n",
       "        });\n",
       "        require(['plotly'], function(Plotly) {\n",
       "            window._Plotly = Plotly;\n",
       "        });\n",
       "        }\n",
       "        </script>\n",
       "        "
      ]
     },
     "metadata": {},
     "output_type": "display_data"
    },
    {
     "data": {
      "text/html": [
       "        <script type=\"text/javascript\">\n",
       "        window.PlotlyConfig = {MathJaxConfig: 'local'};\n",
       "        if (window.MathJax) {MathJax.Hub.Config({SVG: {font: \"STIX-Web\"}});}\n",
       "        if (typeof require !== 'undefined') {\n",
       "        require.undef(\"plotly\");\n",
       "        requirejs.config({\n",
       "            paths: {\n",
       "                'plotly': ['https://cdn.plot.ly/plotly-latest.min']\n",
       "            }\n",
       "        });\n",
       "        require(['plotly'], function(Plotly) {\n",
       "            window._Plotly = Plotly;\n",
       "        });\n",
       "        }\n",
       "        </script>\n",
       "        "
      ]
     },
     "metadata": {},
     "output_type": "display_data"
    }
   ],
   "source": [
    "# Data manipulation\n",
    "import pandas as pd\n",
    "import numpy as np\n",
    "\n",
    "# Options for pandas\n",
    "pd.options.display.max_columns = 50\n",
    "pd.options.display.max_rows = 30\n",
    "\n",
    "# Display all cell outputs\n",
    "from IPython.core.interactiveshell import InteractiveShell\n",
    "InteractiveShell.ast_node_interactivity = 'all'\n",
    "\n",
    "from IPython import get_ipython\n",
    "ipython = get_ipython()\n",
    "\n",
    "# autoreload extension\n",
    "if 'autoreload' not in ipython.extension_manager.loaded:\n",
    "    %load_ext autoreload\n",
    "\n",
    "%autoreload 2\n",
    "\n",
    "# Visualizations\n",
    "import chart_studio.plotly as py\n",
    "import plotly.graph_objs as go\n",
    "from plotly.offline import iplot, init_notebook_mode\n",
    "init_notebook_mode(connected=True)\n",
    "\n",
    "import cufflinks as cf\n",
    "cf.go_offline(connected=True)\n",
    "cf.set_config_file(theme='white')\n",
    "\n",
    "from config_plots import global_settings\n",
    "global_settings()"
   ]
  },
  {
   "cell_type": "code",
   "execution_count": 32,
   "metadata": {},
   "outputs": [],
   "source": [
    "%matplotlib inline\n",
    "import os\n",
    "import torch\n",
    "\n",
    "import matplotlib.pyplot as plt\n",
    "import torchvision.models as models\n",
    "\n",
    "# from flashtorch.utils import apply_transforms, load_image\n",
    "# from flashtorch.saliency import Backprop\n",
    "\n",
    "import dataLoader\n",
    "from configParser import ConfigParser, getModelName"
   ]
  },
  {
   "cell_type": "code",
   "execution_count": 33,
   "metadata": {},
   "outputs": [
    {
     "name": "stdout",
     "output_type": "stream",
     "text": [
      "We are using cuda\n"
     ]
    }
   ],
   "source": [
    "# CUDA support \n",
    "if torch.cuda.is_available():\n",
    "    torch.cuda.set_device(0) # 0\n",
    "    torch.set_default_tensor_type('torch.cuda.FloatTensor')\n",
    "    print(\"We are using cuda\")"
   ]
  },
  {
   "cell_type": "code",
   "execution_count": 45,
   "metadata": {},
   "outputs": [],
   "source": [
    "\n",
    "experimentName = []\n",
    "config_parsers = []\n",
    "experiment_params = []\n",
    "trialName = []"
   ]
  },
  {
   "cell_type": "code",
   "execution_count": 46,
   "metadata": {},
   "outputs": [],
   "source": [
    "# params\n",
    "experiments = [\n",
    "{\n",
    "    'experimentName': \"50_11_hier_phase7\",\n",
    "    'experiment_index': 0,\n",
    "    'trial_index':1,\n",
    "    'experiment_type': \"multi-trial\"\n",
    "},\n",
    "{\n",
    "    'experimentName': \"50_11_baseline_phase7\",\n",
    "    'experiment_index': 0,\n",
    "    'trial_index':2,\n",
    "    'experiment_type': \"multi-trial\"\n",
    "},]"
   ]
  },
  {
   "cell_type": "code",
   "execution_count": 47,
   "metadata": {},
   "outputs": [
    {
     "name": "stdout",
     "output_type": "stream",
     "text": [
      "50_11_hier_phase7\n",
      "50_11_baseline_phase7\n"
     ]
    }
   ],
   "source": [
    "from configParser import ConfigParser\n",
    "for i, e in enumerate(experiments):\n",
    "    config_parsers.append(ConfigParser(experiments[i]['experimentName']))\n",
    "\n",
    "    experimentName.append(os.path.join(experiments[i]['experimentName'], experiment_type))\n",
    "    print(experiments[i]['experimentName'])"
   ]
  },
  {
   "cell_type": "code",
   "execution_count": 49,
   "metadata": {},
   "outputs": [
    {
     "name": "stdout",
     "output_type": "stream",
     "text": [
      "[{'image_path': '/data/BGNN_data/INHS_cropped', 'suffix': '50_11', 'training_count': 0.64, 'validation_count': 0.16, 'batchSize': 2650, 'n_epochs': 10000, 'learning_rate': 0.001, 'numOfTrials': 3, 'patience': 200, 'useHeirarchy': True, 'downsample': True, 'downsampleOutput': 350, 'takeFromIntermediate': True, 'takeFromIntermediateOutput': 200, 'lambda': 0.6, 'unsupervisedOnTest': False, 'fc_layers': 1, 'resnet': '18', 'normalizeFromResnet': True, 'dummy': 0}]\n",
      "[{'image_path': '/data/BGNN_data/INHS_cropped', 'suffix': '50_11', 'training_count': 0.64, 'validation_count': 0.16, 'batchSize': 2650, 'n_epochs': 10000, 'learning_rate': 0.001, 'numOfTrials': 3, 'patience': 200, 'useHeirarchy': True, 'downsample': True, 'downsampleOutput': 350, 'takeFromIntermediate': True, 'takeFromIntermediateOutput': 200, 'lambda': 0.6, 'unsupervisedOnTest': False, 'fc_layers': 1, 'resnet': '18', 'normalizeFromResnet': True, 'dummy': 0}, {'image_path': '/data/BGNN_data/INHS_cropped', 'suffix': '50_11', 'training_count': 0.64, 'validation_count': 0.16, 'batchSize': 2650, 'n_epochs': 10000, 'learning_rate': 0.001, 'numOfTrials': 3, 'patience': 200, 'useHeirarchy': False, 'downsample': True, 'downsampleOutput': 350, 'takeFromIntermediate': True, 'takeFromIntermediateOutput': 200, 'lambda': 0.6, 'unsupervisedOnTest': False, 'fc_layers': 3, 'resnet': '18', 'normalizeFromResnet': True, 'dummy': 0}]\n"
     ]
    }
   ],
   "source": [
    "for i, ex in enumerate(experiments):\n",
    "    if experiments[i]['experiment_type'] == \"multi-trial\" or experiments[i]['experiment_type'] == \"selected-multi-trial\":\n",
    "        if experiments[i]['experiment_type'] == \"multi-trial\":\n",
    "            paramsIterator = config_parsers[i].getHyperpIter()\n",
    "        else:\n",
    "            paramsIterator = config_parsers[i].getHyperpSelectedIter()\n",
    "\n",
    "        for indx, e in enumerate(paramsIterator):\n",
    "            if indx ==experiments[i]['experiment_index']:\n",
    "                experiment_params.append(e)\n",
    "                break\n",
    "\n",
    "    elif experiments[i]['experiment_type'] == \"single-trial\":\n",
    "        experiment_params.append(config_parser.read())\n",
    "    else:\n",
    "        raise\n",
    "\n",
    "\n",
    "    # experiment_params['normalizeFromResnet']=False\n",
    "    # experiment_params['unsupervisedOnTest']=False\n",
    "    # experiment_params[\"lambda\"]=1\n",
    "\n",
    "    print(experiment_params)"
   ]
  },
  {
   "cell_type": "code",
   "execution_count": 51,
   "metadata": {},
   "outputs": [
    {
     "name": "stdout",
     "output_type": "stream",
     "text": [
      "Creating dataset...\n",
      "Loading dataset...\n"
     ]
    },
    {
     "name": "stderr",
     "output_type": "stream",
     "text": [
      "100% (550 of 550) |######################| Elapsed Time: 0:00:00 Time:  0:00:00\n"
     ]
    },
    {
     "name": "stdout",
     "output_type": "stream",
     "text": [
      "Going through image files\n",
      "Creating dataset... Done.\n"
     ]
    }
   ],
   "source": [
    "datasetManager = dataLoader.datasetManager(experiments[0]['experimentName'], True)\n",
    "datasetManager.updateParams(experiment_params[0])\n",
    "dataset = datasetManager.getDataset()"
   ]
  },
  {
   "cell_type": "code",
   "execution_count": 54,
   "metadata": {},
   "outputs": [
    {
     "name": "stdout",
     "output_type": "stream",
     "text": [
      "using a pretrained resnet model...\n"
     ]
    },
    {
     "name": "stderr",
     "output_type": "stream",
     "text": [
      "  0% (3 of 550) |                        | Elapsed Time: 0:00:00 ETA:   0:00:24"
     ]
    },
    {
     "name": "stdout",
     "output_type": "stream",
     "text": [
      "Transfrom images...\n"
     ]
    },
    {
     "name": "stderr",
     "output_type": "stream",
     "text": [
      "100% (550 of 550) |######################| Elapsed Time: 0:00:44 Time:  0:00:44\n"
     ]
    },
    {
     "name": "stdout",
     "output_type": "stream",
     "text": [
      "train/test =  440 110\n",
      "train/val =  352 88\n",
      "file /data/BGNN_data/INHS_cropped/50_11/50_11_hier_phase7/tc0.640000_vc0.160000/trainingIndex.pkl written\n",
      "file /data/BGNN_data/INHS_cropped/50_11/50_11_hier_phase7/tc0.640000_vc0.160000/valIndex.pkl written\n",
      "file /data/BGNN_data/INHS_cropped/50_11/50_11_hier_phase7/tc0.640000_vc0.160000/testIndex.pkl written\n",
      "Creating loaders...\n",
      "Creating loaders... Done.\n"
     ]
    }
   ],
   "source": [
    "import CNN\n",
    "\n",
    "speciesList = dataset.getSpeciesList()\n",
    "numberOfSpecies = len(speciesList)\n",
    "genusList = dataset.getGenusList()\n",
    "numberOfGenus = len(genusList)\n",
    "\n",
    "for i, ex in enumerate(experiments):\n",
    "    trialName.append(experiments[i]['experimentName'])\n",
    "    if experiments[i]['experiment_type'] != \"single-trial\":\n",
    "        trialName[i] = os.path.join(experimentName[i], getModelName(experiment_params[i], experiments[i]['trial_index']))\n",
    "\n",
    "    architecture = {\n",
    "        \"species\": numberOfSpecies,\n",
    "        \"genus\" : numberOfGenus\n",
    "    }\n",
    "    model = CNN.create_model(architecture, experiment_params[i])\n",
    "    df, epochs, time_elapsed = CNN.loadModel(model, trialName[i])\n",
    "train_loader, validation_loader, test_loader = datasetManager.getLoaders()"
   ]
  },
  {
   "cell_type": "code",
   "execution_count": 72,
   "metadata": {
    "scrolled": false
   },
   "outputs": [],
   "source": [
    "dfs = []\n",
    "names = [\"$\\mathbf{HGNN}$\", \"$\\mathbf{Blackbox_{NN}}$\"]\n",
    "for i, ex in enumerate(experiments):\n",
    "    name = names[i]\n",
    "    df = pd.read_csv(os.path.join(trialName[i], 'stats.csv'))\n",
    "    df = df.rename(columns={\"test_Acc\": name + \" test accuracy\", \n",
    "                            \"validation_Acc\": name + \" validation accuracy\", \n",
    "                            \"training_Acc\": name + \" training accuracy\"})\n",
    "    df = df.rename(columns={\"validation_loss\": name + \" validation loss\", \n",
    "                            \"training_loss\": name + \" training loss\"})\n",
    "    dfs.append(df)\n",
    "    \n",
    "result = pd.concat(dfs, axis=1, sort=False)"
   ]
  },
  {
   "cell_type": "code",
   "execution_count": 91,
   "metadata": {},
   "outputs": [
    {
     "data": {
      "text/plain": [
       "<matplotlib.axes._subplots.AxesSubplot at 0x7f91d8061198>"
      ]
     },
     "execution_count": 91,
     "metadata": {},
     "output_type": "execute_result"
    },
    {
     "data": {
      "text/plain": [
       "<matplotlib.axes._subplots.AxesSubplot at 0x7f8fcc1849e8>"
      ]
     },
     "execution_count": 91,
     "metadata": {},
     "output_type": "execute_result"
    },
    {
     "data": {
      "text/plain": [
       "Text(0, 0.5, 'training loss')"
      ]
     },
     "execution_count": 91,
     "metadata": {},
     "output_type": "execute_result"
    },
    {
     "data": {
      "text/plain": [
       "Text(0, 0.5, 'validation loss')"
      ]
     },
     "execution_count": 91,
     "metadata": {},
     "output_type": "execute_result"
    },
    {
     "data": {
      "text/plain": [
       "<matplotlib.legend.Legend at 0x7f8fcc199da0>"
      ]
     },
     "execution_count": 91,
     "metadata": {},
     "output_type": "execute_result"
    },
    {
     "data": {
      "image/png": "[encoded data removed]",
      "text/plain": [
       "<Figure size 720x720 with 2 Axes>"
      ]
     },
     "metadata": {
      "needs_background": "light"
     },
     "output_type": "display_data"
    }
   ],
   "source": [
    "fig,ax = plt.subplots(figsize=(10, 10))\n",
    "\n",
    "\n",
    "\n",
    "# result.plot(ax=ax, y=[names[0] + ' test accuracy', names[1] + ' test accuracy'])\n",
    "result.plot(ax=ax, y=[names[0] + ' training loss', names[1] + ' training loss'])\n",
    "result.plot(ax=ax, y=[names[0] + ' validation loss', names[1] + ' validation loss'], secondary_y=True)\n",
    "\n",
    "ax.set_ylabel('training loss')\n",
    "ax.right_ax.set_ylabel('validation loss')\n",
    "\n",
    "lines = ax.get_lines() + ax.right_ax.get_lines()\n",
    "ax.legend(lines, [l.get_label() for l in lines], loc='center right')\n",
    "\n",
    "# ax.legend(loc='center right')\n"
   ]
  },
  {
   "cell_type": "markdown",
   "metadata": {},
   "source": [
    "# Analysis/Modeling\n",
    "Do work here"
   ]
  },
  {
   "cell_type": "markdown",
   "metadata": {},
   "source": [
    "# Results\n",
    "Show graphs and stats here"
   ]
  },
  {
   "cell_type": "markdown",
   "metadata": {},
   "source": [
    "# Conclusions and Next Steps\n",
    "Summarize findings here"
   ]
  },
  {
   "cell_type": "code",
   "execution_count": null,
   "metadata": {},
   "outputs": [],
   "source": []
  }
 ],
 "metadata": {
  "kernelspec": {
   "display_name": "Python 3",
   "language": "python",
   "name": "python3"
  },
  "language_info": {
   "codemirror_mode": {
    "name": "ipython",
    "version": 3
   },
   "file_extension": ".py",
   "mimetype": "text/x-python",
   "name": "python",
   "nbconvert_exporter": "python",
   "pygments_lexer": "ipython3",
   "version": "3.6.9"
  }
 },
 "nbformat": 4,
 "nbformat_minor": 4
}
